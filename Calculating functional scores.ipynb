{
 "cells": [
  {
   "cell_type": "code",
   "execution_count": 1,
   "id": "a4183380",
   "metadata": {},
   "outputs": [],
   "source": [
    "import os\n",
    "import pandas as pd\n",
    "import seaborn as sns\n",
    "import matplotlib.pyplot as plt\n",
    "import numpy as np"
   ]
  },
  {
   "cell_type": "code",
   "execution_count": 2,
   "id": "42e3e903",
   "metadata": {
    "scrolled": true
   },
   "outputs": [
    {
     "name": "stdout",
     "output_type": "stream",
     "text": [
      "/Users/keith_tetrad\n"
     ]
    }
   ],
   "source": [
    "cd"
   ]
  },
  {
   "cell_type": "code",
   "execution_count": 3,
   "id": "9a92a923",
   "metadata": {},
   "outputs": [],
   "source": [
    "codon_variant = pd.read_csv('kw_dms/results/variants/codon_variants.csv', usecols=['barcode','library','barcode','codon_substitutions','aa_substitutions','n_codon_substitutions','n_aa_substitutions'])\n",
    "sample_Both_B2T1 = pd.read_csv('kw_dms/old_results/barcode_counts/LibB-231017-Both_bio2-1_counts.csv')\n",
    "sample_DMSO_B2T1 = pd.read_csv('kw_dms/old_results/barcode_counts/LibB-231017-DMSO_bio2-1_counts.csv')\n",
    "BD_calc = pd.read_csv('kw_dms/old_results/func_scores/Both_B2T1-vs-B2T1_func_scores.csv')"
   ]
  },
  {
   "cell_type": "code",
   "execution_count": 4,
   "id": "ee2b3c0a",
   "metadata": {},
   "outputs": [],
   "source": [
    "def calculate_functional_score(pre_selection, post_selection, codon_variant, library, count_threshold):\n",
    "    # Rename count columns\n",
    "    pre_selection.rename(columns={'count': 'count_pre'}, inplace=True)\n",
    "    post_selection.rename(columns={'count': 'count_post'}, inplace=True)\n",
    "    \n",
    "    # Filter out barcodes in pre_selection that dont meet the count and % threshold\n",
    "    # total_pre_counts = pre_selection['count_pre'].sum()\n",
    "#     pre_selection = pre_selection[(pre_selection['count_pre'] >= count_threshold) & \n",
    "#                                   (pre_selection['count_pre'] / total_pre_counts >= 0.0000001)]   \n",
    "    \n",
    "    pre_selection = pre_selection[(pre_selection['count_pre'] >= count_threshold)] \n",
    "    \n",
    "    # Merge codon_variants with \n",
    "    pre_selection = pd.merge(pre_selection, codon_variant, on='barcode')\n",
    "    post_selection = pd.merge(post_selection, codon_variant, on='barcode')\n",
    "    \n",
    "    #filter out barcodes not in intended library\n",
    "    pre_selection = pre_selection[pre_selection['library'] == library]\n",
    "    post_selection = post_selection[post_selection['library'] == library]\n",
    "    \n",
    "    # Merge pre and post counts\n",
    "    merged_df = pd.merge(pre_selection, post_selection[['barcode', 'count_post']], on='barcode', how='left')\n",
    "    merged_df.fillna(0, inplace=True)\n",
    "    \n",
    "    # Calculate total wt counts then filter them out of the df\n",
    "    wt_barcodes = merged_df[merged_df['n_codon_substitutions'] == 0]\n",
    "    pre_wt_counts = wt_barcodes['count_pre'].sum()\n",
    "    post_wt_counts = wt_barcodes['count_post'].sum()\n",
    "    merged_df = merged_df[merged_df['n_codon_substitutions'] > 0]\n",
    "    \n",
    "    # Change zeroes in 'count_post' to 0.5\n",
    "    # Convert 'count_post' column to float\n",
    "    merged_df['count_post'] = merged_df['count_post'].astype(float)\n",
    "\n",
    "    # Now change zeroes in 'count_post' to 0.5\n",
    "    merged_df.loc[merged_df['count_post'] == 0, 'count_post'] = 0.5\n",
    "    \n",
    "    # Calculate the functional score for each row\n",
    "    merged_df['func_score'] = np.log2((merged_df['count_post'] / post_wt_counts) / (merged_df['count_pre'] / pre_wt_counts))\n",
    "    merged_df = merged_df.sort_values(by='barcode', ascending=True)\n",
    "    merged_df = merged_df[['barcode','func_score']]\n",
    "    \n",
    "    return merged_df\n"
   ]
  },
  {
   "cell_type": "code",
   "execution_count": 6,
   "id": "60f25b16",
   "metadata": {},
   "outputs": [
    {
     "data": {
      "text/html": [
       "<div>\n",
       "<style scoped>\n",
       "    .dataframe tbody tr th:only-of-type {\n",
       "        vertical-align: middle;\n",
       "    }\n",
       "\n",
       "    .dataframe tbody tr th {\n",
       "        vertical-align: top;\n",
       "    }\n",
       "\n",
       "    .dataframe thead th {\n",
       "        text-align: right;\n",
       "    }\n",
       "</style>\n",
       "<table border=\"1\" class=\"dataframe\">\n",
       "  <thead>\n",
       "    <tr style=\"text-align: right;\">\n",
       "      <th></th>\n",
       "      <th>func_score</th>\n",
       "    </tr>\n",
       "  </thead>\n",
       "  <tbody>\n",
       "    <tr>\n",
       "      <th>count</th>\n",
       "      <td>57110.000000</td>\n",
       "    </tr>\n",
       "    <tr>\n",
       "      <th>mean</th>\n",
       "      <td>-1.600977</td>\n",
       "    </tr>\n",
       "    <tr>\n",
       "      <th>std</th>\n",
       "      <td>2.976251</td>\n",
       "    </tr>\n",
       "    <tr>\n",
       "      <th>min</th>\n",
       "      <td>-9.709169</td>\n",
       "    </tr>\n",
       "    <tr>\n",
       "      <th>25%</th>\n",
       "      <td>-4.357798</td>\n",
       "    </tr>\n",
       "    <tr>\n",
       "      <th>50%</th>\n",
       "      <td>-0.455291</td>\n",
       "    </tr>\n",
       "    <tr>\n",
       "      <th>75%</th>\n",
       "      <td>0.550465</td>\n",
       "    </tr>\n",
       "    <tr>\n",
       "      <th>max</th>\n",
       "      <td>5.234078</td>\n",
       "    </tr>\n",
       "  </tbody>\n",
       "</table>\n",
       "</div>"
      ],
      "text/plain": [
       "         func_score\n",
       "count  57110.000000\n",
       "mean      -1.600977\n",
       "std        2.976251\n",
       "min       -9.709169\n",
       "25%       -4.357798\n",
       "50%       -0.455291\n",
       "75%        0.550465\n",
       "max        5.234078"
      ]
     },
     "execution_count": 6,
     "metadata": {},
     "output_type": "execute_result"
    }
   ],
   "source": [
    "my_calc = calculate_functional_score(sample_DMSO_B2T1,sample_Both_B2T1,codon_variant,'LibB',25)\n",
    "my_calc.describe()"
   ]
  },
  {
   "cell_type": "code",
   "execution_count": 7,
   "id": "194df57e",
   "metadata": {},
   "outputs": [
    {
     "data": {
      "text/html": [
       "<div>\n",
       "<style scoped>\n",
       "    .dataframe tbody tr th:only-of-type {\n",
       "        vertical-align: middle;\n",
       "    }\n",
       "\n",
       "    .dataframe tbody tr th {\n",
       "        vertical-align: top;\n",
       "    }\n",
       "\n",
       "    .dataframe thead th {\n",
       "        text-align: right;\n",
       "    }\n",
       "</style>\n",
       "<table border=\"1\" class=\"dataframe\">\n",
       "  <thead>\n",
       "    <tr style=\"text-align: right;\">\n",
       "      <th></th>\n",
       "      <th>func_score</th>\n",
       "    </tr>\n",
       "  </thead>\n",
       "  <tbody>\n",
       "    <tr>\n",
       "      <th>count</th>\n",
       "      <td>68496.00000</td>\n",
       "    </tr>\n",
       "    <tr>\n",
       "      <th>mean</th>\n",
       "      <td>-1.50913</td>\n",
       "    </tr>\n",
       "    <tr>\n",
       "      <th>std</th>\n",
       "      <td>2.79960</td>\n",
       "    </tr>\n",
       "    <tr>\n",
       "      <th>min</th>\n",
       "      <td>-9.78700</td>\n",
       "    </tr>\n",
       "    <tr>\n",
       "      <th>25%</th>\n",
       "      <td>-3.76200</td>\n",
       "    </tr>\n",
       "    <tr>\n",
       "      <th>50%</th>\n",
       "      <td>-0.46960</td>\n",
       "    </tr>\n",
       "    <tr>\n",
       "      <th>75%</th>\n",
       "      <td>0.46520</td>\n",
       "    </tr>\n",
       "    <tr>\n",
       "      <th>max</th>\n",
       "      <td>4.27300</td>\n",
       "    </tr>\n",
       "  </tbody>\n",
       "</table>\n",
       "</div>"
      ],
      "text/plain": [
       "        func_score\n",
       "count  68496.00000\n",
       "mean      -1.50913\n",
       "std        2.79960\n",
       "min       -9.78700\n",
       "25%       -3.76200\n",
       "50%       -0.46960\n",
       "75%        0.46520\n",
       "max        4.27300"
      ]
     },
     "execution_count": 7,
     "metadata": {},
     "output_type": "execute_result"
    }
   ],
   "source": [
    "BD_calc = BD_calc[['barcode','func_score']]\n",
    "BD_calc.describe()"
   ]
  }
 ],
 "metadata": {
  "kernelspec": {
   "display_name": "Python 3 (ipykernel)",
   "language": "python",
   "name": "python3"
  },
  "language_info": {
   "codemirror_mode": {
    "name": "ipython",
    "version": 3
   },
   "file_extension": ".py",
   "mimetype": "text/x-python",
   "name": "python",
   "nbconvert_exporter": "python",
   "pygments_lexer": "ipython3",
   "version": "3.9.12"
  }
 },
 "nbformat": 4,
 "nbformat_minor": 5
}
