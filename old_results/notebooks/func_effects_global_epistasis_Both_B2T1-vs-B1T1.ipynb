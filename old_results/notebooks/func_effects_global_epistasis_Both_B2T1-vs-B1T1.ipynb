{
 "cells": [
  {
   "cell_type": "markdown",
   "id": "cd032799-f956-4da8-baad-43dff0af1046",
   "metadata": {
    "papermill": {
     "duration": 0.002106,
     "end_time": "2023-11-19T23:05:31.270505",
     "exception": false,
     "start_time": "2023-11-19T23:05:31.268399",
     "status": "completed"
    },
    "tags": []
   },
   "source": [
    "# Fit global epistasis models to functional scores for each selection to get mutation functional effects\n",
    "\n",
    "Import Python modules.\n",
    "We use `multidms` for the fitting:"
   ]
  },
  {
   "cell_type": "code",
   "execution_count": 1,
   "id": "6653d04b-720e-4959-a8d8-006ce97190b6",
   "metadata": {
    "execution": {
     "iopub.execute_input": "2023-11-19T23:05:31.275267Z",
     "iopub.status.busy": "2023-11-19T23:05:31.275100Z",
     "iopub.status.idle": "2023-11-19T23:05:32.587721Z",
     "shell.execute_reply": "2023-11-19T23:05:32.581191Z"
    },
    "papermill": {
     "duration": 1.325085,
     "end_time": "2023-11-19T23:05:32.598003",
     "exception": false,
     "start_time": "2023-11-19T23:05:31.272918",
     "status": "completed"
    },
    "tags": []
   },
   "outputs": [],
   "source": [
    "import dms_variants.codonvarianttable\n",
    "\n",
    "import matplotlib.pyplot as plt\n",
    "\n",
    "import multidms\n",
    "\n",
    "import pandas as pd"
   ]
  },
  {
   "cell_type": "markdown",
   "id": "0276731c-0a6f-4820-9edb-b61ab1e2ace8",
   "metadata": {
    "papermill": {
     "duration": 0.004137,
     "end_time": "2023-11-19T23:05:32.606658",
     "exception": false,
     "start_time": "2023-11-19T23:05:32.602521",
     "status": "completed"
    },
    "tags": []
   },
   "source": [
    "This notebook is parameterized by `papermill`.\n",
    "The next cell is tagged as `parameters` to get the passed parameters."
   ]
  },
  {
   "cell_type": "code",
   "execution_count": 2,
   "id": "9ddd6a5a-5e55-4386-872b-ad9ce2af3d19",
   "metadata": {
    "editable": true,
    "execution": {
     "iopub.execute_input": "2023-11-19T23:05:32.626979Z",
     "iopub.status.busy": "2023-11-19T23:05:32.625106Z",
     "iopub.status.idle": "2023-11-19T23:05:32.647496Z",
     "shell.execute_reply": "2023-11-19T23:05:32.638879Z"
    },
    "papermill": {
     "duration": 0.03777,
     "end_time": "2023-11-19T23:05:32.648591",
     "exception": false,
     "start_time": "2023-11-19T23:05:32.610821",
     "status": "completed"
    },
    "slideshow": {
     "slide_type": ""
    },
    "tags": [
     "parameters"
    ]
   },
   "outputs": [],
   "source": [
    "# this cell is tagged parameters for `papermill` parameterization\n",
    "selection = None\n",
    "func_scores = None\n",
    "func_effects = None\n",
    "global_epistasis_params = None\n",
    "threads = None"
   ]
  },
  {
   "cell_type": "code",
   "execution_count": 3,
   "id": "0e941eca",
   "metadata": {
    "execution": {
     "iopub.execute_input": "2023-11-19T23:05:32.664895Z",
     "iopub.status.busy": "2023-11-19T23:05:32.657717Z",
     "iopub.status.idle": "2023-11-19T23:05:32.687896Z",
     "shell.execute_reply": "2023-11-19T23:05:32.675960Z"
    },
    "papermill": {
     "duration": 0.045087,
     "end_time": "2023-11-19T23:05:32.695293",
     "exception": false,
     "start_time": "2023-11-19T23:05:32.650206",
     "status": "completed"
    },
    "tags": [
     "injected-parameters"
    ]
   },
   "outputs": [],
   "source": [
    "# Parameters\n",
    "global_epistasis_params = {\n",
    "    \"clip_lower\": \"median_stop\",\n",
    "    \"clip_upper\": None,\n",
    "    \"collapse_identical_variants\": False,\n",
    "}\n",
    "selection = \"Both_B2T1-vs-B1T1\"\n",
    "func_scores = \"results/func_scores/Both_B2T1-vs-B1T1_func_scores.csv\"\n",
    "func_effects = \"results/func_effects/by_selection/Both_B2T1-vs-B1T1_func_effects.csv\"\n",
    "threads = 1\n"
   ]
  },
  {
   "cell_type": "markdown",
   "id": "614d381c-9100-4248-8a56-bb6d8bb15789",
   "metadata": {
    "papermill": {
     "duration": 0.001505,
     "end_time": "2023-11-19T23:05:32.698793",
     "exception": false,
     "start_time": "2023-11-19T23:05:32.697288",
     "status": "completed"
    },
    "tags": []
   },
   "source": [
    "Read and clip functional scores:"
   ]
  },
  {
   "cell_type": "code",
   "execution_count": 4,
   "id": "a2a93f3e-46f7-4a62-b10b-d1bc7fe1a30f",
   "metadata": {
    "execution": {
     "iopub.execute_input": "2023-11-19T23:05:32.703056Z",
     "iopub.status.busy": "2023-11-19T23:05:32.702823Z",
     "iopub.status.idle": "2023-11-19T23:05:33.034226Z",
     "shell.execute_reply": "2023-11-19T23:05:33.033545Z"
    },
    "papermill": {
     "duration": 0.335707,
     "end_time": "2023-11-19T23:05:33.036295",
     "exception": false,
     "start_time": "2023-11-19T23:05:32.700588",
     "status": "completed"
    },
    "tags": []
   },
   "outputs": [
    {
     "name": "stdout",
     "output_type": "stream",
     "text": [
      "No clipping on upper bound of functional scores\n",
      "Clipping lower bound of functional scores to -5.442\n"
     ]
    }
   ],
   "source": [
    "func_scores_df = (\n",
    "    pd.read_csv(func_scores, na_filter=None)\n",
    "    .assign(condition=selection)\n",
    "    .pipe(dms_variants.codonvarianttable.CodonVariantTable.classifyVariants)\n",
    ")\n",
    "\n",
    "median_stop = func_scores_df.query(\"variant_class == 'stop'\")[\"func_score\"].median()\n",
    "\n",
    "for bound in [\"upper\", \"lower\"]:\n",
    "    clip = global_epistasis_params[f\"clip_{bound}\"]\n",
    "    if clip is None:\n",
    "        print(f\"No clipping on {bound} bound of functional scores\")\n",
    "    else:\n",
    "        if clip == \"median_stop\":\n",
    "            if pd.isnull(median_stop):\n",
    "                raise ValueError(f\"{median_stop=}\")\n",
    "            clip = median_stop\n",
    "        assert isinstance(clip, (int, float)), clip\n",
    "        print(f\"Clipping {bound} bound of functional scores to {clip}\")\n",
    "        func_scores_df[\"func_score\"] = func_scores_df[\"func_score\"].clip(\n",
    "            **{bound: clip}\n",
    "        )"
   ]
  },
  {
   "cell_type": "markdown",
   "id": "e49b2327-cf48-4dbd-9788-a89a61f072fe",
   "metadata": {
    "papermill": {
     "duration": 0.004438,
     "end_time": "2023-11-19T23:05:33.043260",
     "exception": false,
     "start_time": "2023-11-19T23:05:33.038822",
     "status": "completed"
    },
    "tags": []
   },
   "source": [
    "Initialize the data for `multidms`:"
   ]
  },
  {
   "cell_type": "code",
   "execution_count": 5,
   "id": "cab4c4b4-220f-4163-8d69-1bfaa92d360f",
   "metadata": {
    "execution": {
     "iopub.execute_input": "2023-11-19T23:05:33.053954Z",
     "iopub.status.busy": "2023-11-19T23:05:33.053619Z",
     "iopub.status.idle": "2023-11-19T23:05:40.657479Z",
     "shell.execute_reply": "2023-11-19T23:05:40.657095Z"
    },
    "papermill": {
     "duration": 7.61098,
     "end_time": "2023-11-19T23:05:40.658782",
     "exception": false,
     "start_time": "2023-11-19T23:05:33.047802",
     "status": "completed"
    },
    "tags": []
   },
   "outputs": [
    {
     "name": "stdout",
     "output_type": "stream",
     "text": [
      "inferring site map for Both_B2T1-vs-B1T1\n"
     ]
    },
    {
     "data": {
      "application/vnd.jupyter.widget-view+json": {
       "model_id": "2dc79388c4414abfbb5d0eedc70b0f7f",
       "version_major": 2,
       "version_minor": 0
      },
      "text/plain": [
       "  0%|          | 0/71418 [00:00<?, ?it/s]"
      ]
     },
     "metadata": {},
     "output_type": "display_data"
    },
    {
     "name": "stdout",
     "output_type": "stream",
     "text": [
      "Asserting site integrity\n"
     ]
    },
    {
     "data": {
      "application/vnd.jupyter.widget-view+json": {
       "model_id": "8a72e0b65b1c4223b300d528047d4400",
       "version_major": 2,
       "version_minor": 0
      },
      "text/plain": [
       "  0%|          | 0/71418 [00:00<?, ?it/s]"
      ]
     },
     "metadata": {},
     "output_type": "display_data"
    },
    {
     "name": "stdout",
     "output_type": "stream",
     "text": [
      "INFO: Pandarallel will run on 1 workers.\n",
      "INFO: Pandarallel will use standard multiprocessing data transfer (pipe) to transfer data between the main process and workers.\n"
     ]
    },
    {
     "data": {
      "application/vnd.jupyter.widget-view+json": {
       "model_id": "4a54bf7717764fbcbc19a1c5c1b2f635",
       "version_major": 2,
       "version_minor": 0
      },
      "text/plain": [
       "VBox(children=(HBox(children=(IntProgress(value=0, description='0.00%', max=71418), Label(value='0 / 71418')))…"
      ]
     },
     "metadata": {},
     "output_type": "display_data"
    },
    {
     "name": "stdout",
     "output_type": "stream",
     "text": [
      "unknown cond wildtype at sites: [],\n",
      "dropping: 0 variantswhich have mutations at those sites.\n"
     ]
    },
    {
     "data": {
      "application/vnd.jupyter.widget-view+json": {
       "model_id": "16aec8be760b4788a35136a3c3560c86",
       "version_major": 2,
       "version_minor": 0
      },
      "text/plain": [
       "VBox(children=(HBox(children=(IntProgress(value=0, description='0.00%', max=71418), Label(value='0 / 71418')))…"
      ]
     },
     "metadata": {},
     "output_type": "display_data"
    },
    {
     "name": "stdout",
     "output_type": "stream",
     "text": [
      "invalid non-identical-sites: [], dropping 0 variants\n",
      "Converting mutations for Both_B2T1-vs-B1T1\n",
      "is reference, skipping\n"
     ]
    }
   ],
   "source": [
    "data = multidms.Data(\n",
    "    variants_df=func_scores_df,\n",
    "    reference=selection,\n",
    "    alphabet=multidms.AAS_WITHSTOP_WITHGAP,\n",
    "    collapse_identical_variants=global_epistasis_params[\"collapse_identical_variants\"],\n",
    "    letter_suffixed_sites=True,\n",
    "    verbose=True,\n",
    "    nb_workers=threads,\n",
    "    assert_site_integrity=True,\n",
    ")"
   ]
  },
  {
   "cell_type": "markdown",
   "id": "56950b43-89da-4661-a925-3685c3a943a8",
   "metadata": {
    "papermill": {
     "duration": 0.002282,
     "end_time": "2023-11-19T23:05:40.663952",
     "exception": false,
     "start_time": "2023-11-19T23:05:40.661670",
     "status": "completed"
    },
    "tags": []
   },
   "source": [
    "Now initialize the `multidms` model and fit it:"
   ]
  },
  {
   "cell_type": "code",
   "execution_count": 6,
   "id": "bd05a910-e212-49e8-b1e8-343ea405567b",
   "metadata": {
    "execution": {
     "iopub.execute_input": "2023-11-19T23:05:40.668909Z",
     "iopub.status.busy": "2023-11-19T23:05:40.668731Z",
     "iopub.status.idle": "2023-11-19T23:05:45.917519Z",
     "shell.execute_reply": "2023-11-19T23:05:45.916610Z"
    },
    "papermill": {
     "duration": 5.253312,
     "end_time": "2023-11-19T23:05:45.919217",
     "exception": false,
     "start_time": "2023-11-19T23:05:40.665905",
     "status": "completed"
    },
    "tags": []
   },
   "outputs": [],
   "source": [
    "# initialize with default params, which give sigmoid global epistasis function\n",
    "model = multidms.Model(data)\n",
    "\n",
    "model.fit()"
   ]
  },
  {
   "cell_type": "markdown",
   "id": "946007e7-51e4-486a-b497-60871c1b0776",
   "metadata": {
    "papermill": {
     "duration": 0.002072,
     "end_time": "2023-11-19T23:05:45.923696",
     "exception": false,
     "start_time": "2023-11-19T23:05:45.921624",
     "status": "completed"
    },
    "tags": []
   },
   "source": [
    "Look at accuracy of predictions and the global epistasis fit:"
   ]
  },
  {
   "cell_type": "code",
   "execution_count": 7,
   "id": "f489280a-0f99-4782-9fcd-01c071255cd5",
   "metadata": {
    "execution": {
     "iopub.execute_input": "2023-11-19T23:05:45.928523Z",
     "iopub.status.busy": "2023-11-19T23:05:45.928367Z",
     "iopub.status.idle": "2023-11-19T23:05:48.422777Z",
     "shell.execute_reply": "2023-11-19T23:05:48.421891Z"
    },
    "papermill": {
     "duration": 2.500306,
     "end_time": "2023-11-19T23:05:48.426068",
     "exception": false,
     "start_time": "2023-11-19T23:05:45.925762",
     "status": "completed"
    },
    "tags": []
   },
   "outputs": [
    {
     "data": {
      "image/png": "[encoded data removed]",
      "text/plain": [
       "<Figure size 800x400 with 2 Axes>"
      ]
     },
     "metadata": {},
     "output_type": "display_data"
    }
   ],
   "source": [
    "fig, ax = plt.subplots(1, 2, figsize=[8, 4])\n",
    "model.plot_epistasis(ax=ax[1], alpha=0.1, show=False, legend=False)\n",
    "model.plot_pred_accuracy(ax=ax[0], alpha=0.1, show=False, legend=False)\n",
    "ax[1].set_title(\"Global epistasis fit\")\n",
    "ax[0].set_title(\"Training set accuracy\")\n",
    "plt.show()"
   ]
  },
  {
   "cell_type": "markdown",
   "id": "5d106ebe-0540-4a8f-83fa-c90b56ef1ebc",
   "metadata": {
    "papermill": {
     "duration": 0.004601,
     "end_time": "2023-11-19T23:05:48.439061",
     "exception": false,
     "start_time": "2023-11-19T23:05:48.434460",
     "status": "completed"
    },
    "tags": []
   },
   "source": [
    "Plot the distribution of latent phenotype functional scores with a few different cutoffs on `times_seen` (the number of variants in which a mutaiton is seen):"
   ]
  },
  {
   "cell_type": "code",
   "execution_count": 8,
   "id": "0c0cc7ec-d874-4cc0-ab2b-04e9a94ce940",
   "metadata": {
    "execution": {
     "iopub.execute_input": "2023-11-19T23:05:48.453430Z",
     "iopub.status.busy": "2023-11-19T23:05:48.453005Z",
     "iopub.status.idle": "2023-11-19T23:05:53.898950Z",
     "shell.execute_reply": "2023-11-19T23:05:53.898500Z"
    },
    "papermill": {
     "duration": 5.453078,
     "end_time": "2023-11-19T23:05:53.899896",
     "exception": false,
     "start_time": "2023-11-19T23:05:48.446818",
     "status": "completed"
    },
    "tags": []
   },
   "outputs": [
    {
     "data": {
      "image/png": "[encoded data removed]",
      "text/plain": [
       "<Figure size 700x800 with 3 Axes>"
      ]
     },
     "metadata": {},
     "output_type": "display_data"
    }
   ],
   "source": [
    "fig, axes = plt.subplots(3, 1, figsize=[7, 8])\n",
    "for times_seen, ax in zip([1, 3, 5], axes):\n",
    "    model.plot_param_hist(\"beta\", ax=ax, show=False, times_seen_threshold=times_seen)\n",
    "    ax.legend()\n",
    "    ax.set_title(\n",
    "        f\"Latent-phenotype effects of mutations with times_seen >= {times_seen}\"\n",
    "    )\n",
    "plt.tight_layout()\n",
    "plt.show()"
   ]
  },
  {
   "cell_type": "markdown",
   "id": "0c329339-a135-47e0-8780-78870e358df0",
   "metadata": {
    "execution": {
     "iopub.execute_input": "2023-07-10T10:42:28.100776Z",
     "iopub.status.busy": "2023-07-10T10:42:28.100457Z",
     "iopub.status.idle": "2023-07-10T10:42:28.109737Z",
     "shell.execute_reply": "2023-07-10T10:42:28.109042Z",
     "shell.execute_reply.started": "2023-07-10T10:42:28.100758Z"
    },
    "papermill": {
     "duration": 0.003221,
     "end_time": "2023-11-19T23:05:53.907555",
     "exception": false,
     "start_time": "2023-11-19T23:05:53.904334",
     "status": "completed"
    },
    "tags": []
   },
   "source": [
    "Get the effect of each mutation on the latent phenotype observed phenotype of the functional score (which we simply call the \"functional effect\" of the mutation):"
   ]
  },
  {
   "cell_type": "code",
   "execution_count": 9,
   "id": "e130655f-b10a-45c9-bfed-6e26af440db8",
   "metadata": {
    "execution": {
     "iopub.execute_input": "2023-11-19T23:05:53.914591Z",
     "iopub.status.busy": "2023-11-19T23:05:53.914430Z",
     "iopub.status.idle": "2023-11-19T23:05:54.812296Z",
     "shell.execute_reply": "2023-11-19T23:05:54.811900Z"
    },
    "papermill": {
     "duration": 0.902901,
     "end_time": "2023-11-19T23:05:54.813580",
     "exception": false,
     "start_time": "2023-11-19T23:05:53.910679",
     "status": "completed"
    },
    "tags": []
   },
   "outputs": [
    {
     "data": {
      "text/html": [
       "<div>\n",
       "<style scoped>\n",
       "    .dataframe tbody tr th:only-of-type {\n",
       "        vertical-align: middle;\n",
       "    }\n",
       "\n",
       "    .dataframe tbody tr th {\n",
       "        vertical-align: top;\n",
       "    }\n",
       "\n",
       "    .dataframe thead th {\n",
       "        text-align: right;\n",
       "    }\n",
       "</style>\n",
       "<table border=\"1\" class=\"dataframe\">\n",
       "  <thead>\n",
       "    <tr style=\"text-align: right;\">\n",
       "      <th></th>\n",
       "      <th>wildtype</th>\n",
       "      <th>site</th>\n",
       "      <th>mutant</th>\n",
       "      <th>times_seen</th>\n",
       "      <th>latent_phenotype_effect</th>\n",
       "      <th>functional_effect</th>\n",
       "    </tr>\n",
       "  </thead>\n",
       "  <tbody>\n",
       "    <tr>\n",
       "      <th>0</th>\n",
       "      <td>M</td>\n",
       "      <td>1</td>\n",
       "      <td>M</td>\n",
       "      <td>NaN</td>\n",
       "      <td>0.000000</td>\n",
       "      <td>0.000000</td>\n",
       "    </tr>\n",
       "    <tr>\n",
       "      <th>1</th>\n",
       "      <td>M</td>\n",
       "      <td>1</td>\n",
       "      <td>T</td>\n",
       "      <td>2.0</td>\n",
       "      <td>-1.990292</td>\n",
       "      <td>-0.279134</td>\n",
       "    </tr>\n",
       "    <tr>\n",
       "      <th>2</th>\n",
       "      <td>L</td>\n",
       "      <td>10</td>\n",
       "      <td>I</td>\n",
       "      <td>44.0</td>\n",
       "      <td>-0.916144</td>\n",
       "      <td>-0.069014</td>\n",
       "    </tr>\n",
       "    <tr>\n",
       "      <th>3</th>\n",
       "      <td>L</td>\n",
       "      <td>10</td>\n",
       "      <td>L</td>\n",
       "      <td>NaN</td>\n",
       "      <td>0.000000</td>\n",
       "      <td>0.000000</td>\n",
       "    </tr>\n",
       "    <tr>\n",
       "      <th>4</th>\n",
       "      <td>L</td>\n",
       "      <td>10</td>\n",
       "      <td>M</td>\n",
       "      <td>8.0</td>\n",
       "      <td>2.856773</td>\n",
       "      <td>0.044311</td>\n",
       "    </tr>\n",
       "    <tr>\n",
       "      <th>...</th>\n",
       "      <td>...</td>\n",
       "      <td>...</td>\n",
       "      <td>...</td>\n",
       "      <td>...</td>\n",
       "      <td>...</td>\n",
       "      <td>...</td>\n",
       "    </tr>\n",
       "    <tr>\n",
       "      <th>8732</th>\n",
       "      <td>G</td>\n",
       "      <td>999</td>\n",
       "      <td>C</td>\n",
       "      <td>7.0</td>\n",
       "      <td>-1.751842</td>\n",
       "      <td>-0.213286</td>\n",
       "    </tr>\n",
       "    <tr>\n",
       "      <th>8733</th>\n",
       "      <td>G</td>\n",
       "      <td>999</td>\n",
       "      <td>D</td>\n",
       "      <td>6.0</td>\n",
       "      <td>-7.035215</td>\n",
       "      <td>-4.843412</td>\n",
       "    </tr>\n",
       "    <tr>\n",
       "      <th>8734</th>\n",
       "      <td>G</td>\n",
       "      <td>999</td>\n",
       "      <td>G</td>\n",
       "      <td>NaN</td>\n",
       "      <td>0.000000</td>\n",
       "      <td>0.000000</td>\n",
       "    </tr>\n",
       "    <tr>\n",
       "      <th>8735</th>\n",
       "      <td>G</td>\n",
       "      <td>999</td>\n",
       "      <td>S</td>\n",
       "      <td>3.0</td>\n",
       "      <td>-1.735629</td>\n",
       "      <td>-0.209299</td>\n",
       "    </tr>\n",
       "    <tr>\n",
       "      <th>8736</th>\n",
       "      <td>G</td>\n",
       "      <td>999</td>\n",
       "      <td>V</td>\n",
       "      <td>1.0</td>\n",
       "      <td>-0.819030</td>\n",
       "      <td>-0.058485</td>\n",
       "    </tr>\n",
       "  </tbody>\n",
       "</table>\n",
       "<p>8737 rows × 6 columns</p>\n",
       "</div>"
      ],
      "text/plain": [
       "     wildtype site mutant  times_seen  latent_phenotype_effect  \\\n",
       "0           M    1      M         NaN                 0.000000   \n",
       "1           M    1      T         2.0                -1.990292   \n",
       "2           L   10      I        44.0                -0.916144   \n",
       "3           L   10      L         NaN                 0.000000   \n",
       "4           L   10      M         8.0                 2.856773   \n",
       "...       ...  ...    ...         ...                      ...   \n",
       "8732        G  999      C         7.0                -1.751842   \n",
       "8733        G  999      D         6.0                -7.035215   \n",
       "8734        G  999      G         NaN                 0.000000   \n",
       "8735        G  999      S         3.0                -1.735629   \n",
       "8736        G  999      V         1.0                -0.819030   \n",
       "\n",
       "      functional_effect  \n",
       "0              0.000000  \n",
       "1             -0.279134  \n",
       "2             -0.069014  \n",
       "3              0.000000  \n",
       "4              0.044311  \n",
       "...                 ...  \n",
       "8732          -0.213286  \n",
       "8733          -4.843412  \n",
       "8734           0.000000  \n",
       "8735          -0.209299  \n",
       "8736          -0.058485  \n",
       "\n",
       "[8737 rows x 6 columns]"
      ]
     },
     "execution_count": 9,
     "metadata": {},
     "output_type": "execute_result"
    }
   ],
   "source": [
    "mut_effects = (\n",
    "    pd.concat(\n",
    "        [\n",
    "            # get mutant effects\n",
    "            (\n",
    "                model.get_mutations_df(phenotype_as_effect=True).rename(\n",
    "                    columns={\n",
    "                        f\"times_seen_{selection}\": \"times_seen\",\n",
    "                        \"wts\": \"wildtype\",\n",
    "                        \"sites\": \"site\",\n",
    "                        \"muts\": \"mutant\",\n",
    "                        f\"{selection}_predicted_func_score\": \"functional_effect\",\n",
    "                        \"beta\": \"latent_phenotype_effect\",\n",
    "                    }\n",
    "                )\n",
    "            ),\n",
    "            # add wildtypes, which all have effects of 0\n",
    "            pd.DataFrame(\n",
    "                {\n",
    "                    \"site\": data.site_map.index,\n",
    "                    \"wildtype\": data.site_map[selection],\n",
    "                    \"mutant\": data.site_map[selection],\n",
    "                    \"latent_phenotype_effect\": 0,\n",
    "                    \"functional_effect\": 0,\n",
    "                }\n",
    "            ),\n",
    "        ],\n",
    "    )\n",
    "    .sort_values([\"site\", \"mutant\"])\n",
    "    .reset_index(drop=True)\n",
    ")\n",
    "\n",
    "mut_effects"
   ]
  },
  {
   "cell_type": "markdown",
   "id": "82a2bd60-81d3-4f0d-83d9-5192d66fabfd",
   "metadata": {
    "execution": {
     "iopub.execute_input": "2023-07-10T12:36:30.196511Z",
     "iopub.status.busy": "2023-07-10T12:36:30.195988Z",
     "iopub.status.idle": "2023-07-10T12:36:30.204730Z",
     "shell.execute_reply": "2023-07-10T12:36:30.203786Z",
     "shell.execute_reply.started": "2023-07-10T12:36:30.196479Z"
    },
    "papermill": {
     "duration": 0.003492,
     "end_time": "2023-11-19T23:05:54.820840",
     "exception": false,
     "start_time": "2023-11-19T23:05:54.817348",
     "status": "completed"
    },
    "tags": []
   },
   "source": [
    "Write the mutational effects to a file:"
   ]
  },
  {
   "cell_type": "code",
   "execution_count": 10,
   "id": "7701f560-b8b0-41db-9a1e-6cab08f57c75",
   "metadata": {
    "execution": {
     "iopub.execute_input": "2023-11-19T23:05:54.828471Z",
     "iopub.status.busy": "2023-11-19T23:05:54.828313Z",
     "iopub.status.idle": "2023-11-19T23:05:54.854579Z",
     "shell.execute_reply": "2023-11-19T23:05:54.854214Z"
    },
    "papermill": {
     "duration": 0.031232,
     "end_time": "2023-11-19T23:05:54.855638",
     "exception": false,
     "start_time": "2023-11-19T23:05:54.824406",
     "status": "completed"
    },
    "tags": []
   },
   "outputs": [
    {
     "name": "stdout",
     "output_type": "stream",
     "text": [
      "Writing the mutational effects to results/func_effects/by_selection/Both_B2T1-vs-B1T1_func_effects.csv\n"
     ]
    }
   ],
   "source": [
    "print(f\"Writing the mutational effects to {func_effects}\")\n",
    "\n",
    "mut_effects.to_csv(func_effects, index=False, float_format=\"%.4g\")"
   ]
  }
 ],
 "metadata": {
  "kernelspec": {
   "display_name": "Python 3 (ipykernel)",
   "language": "python",
   "name": "python3"
  },
  "language_info": {
   "codemirror_mode": {
    "name": "ipython",
    "version": 3
   },
   "file_extension": ".py",
   "mimetype": "text/x-python",
   "name": "python",
   "nbconvert_exporter": "python",
   "pygments_lexer": "ipython3",
   "version": "3.11.6"
  },
  "papermill": {
   "default_parameters": {},
   "duration": 27.337752,
   "end_time": "2023-11-19T23:05:57.479797",
   "environment_variables": {},
   "exception": null,
   "input_path": "dms-vep-pipeline-3/notebooks/func_effects_global_epistasis.ipynb",
   "output_path": "results/notebooks/func_effects_global_epistasis_Both_B2T1-vs-B1T1.ipynb",
   "parameters": {
    "func_effects": "results/func_effects/by_selection/Both_B2T1-vs-B1T1_func_effects.csv",
    "func_scores": "results/func_scores/Both_B2T1-vs-B1T1_func_scores.csv",
    "global_epistasis_params": {
     "clip_lower": "median_stop",
     "clip_upper": null,
     "collapse_identical_variants": false
    },
    "selection": "Both_B2T1-vs-B1T1",
    "threads": 1
   },
   "start_time": "2023-11-19T23:05:30.142045",
   "version": "2.4.0"
  },
  "widgets": {
   "application/vnd.jupyter.widget-state+json": {
    "state": {
     "06344a9919374660bda96d3844e0fac8": {
      "model_module": "@jupyter-widgets/controls",
      "model_module_version": "2.0.0",
      "model_name": "HTMLStyleModel",
      "state": {
       "_model_module": "@jupyter-widgets/controls",
       "_model_module_version": "2.0.0",
       "_model_name": "HTMLStyleModel",
       "_view_count": null,
       "_view_module": "@jupyter-widgets/base",
       "_view_module_version": "2.0.0",
       "_view_name": "StyleView",
       "background": null,
       "description_width": "",
       "font_size": null,
       "text_color": null
      }
     },
     "119c66ef45844a708d0437b264da47b2": {
      "model_module": "@jupyter-widgets/base",
      "model_module_version": "2.0.0",
      "model_name": "LayoutModel",
      "state": {
       "_model_module": "@jupyter-widgets/base",
       "_model_module_version": "2.0.0",
       "_model_name": "LayoutModel",
       "_view_count": null,
       "_view_module": "@jupyter-widgets/base",
       "_view_module_version": "2.0.0",
       "_view_name": "LayoutView",
       "align_content": null,
       "align_items": null,
       "align_self": null,
       "border_bottom": null,
       "border_left": null,
       "border_right": null,
       "border_top": null,
       "bottom": null,
       "display": null,
       "flex": null,
       "flex_flow": null,
       "grid_area": null,
       "grid_auto_columns": null,
       "grid_auto_flow": null,
       "grid_auto_rows": null,
       "grid_column": null,
       "grid_gap": null,
       "grid_row": null,
       "grid_template_areas": null,
       "grid_template_columns": null,
       "grid_template_rows": null,
       "height": null,
       "justify_content": null,
       "justify_items": null,
       "left": null,
       "margin": null,
       "max_height": null,
       "max_width": null,
       "min_height": null,
       "min_width": null,
       "object_fit": null,
       "object_position": null,
       "order": null,
       "overflow": null,
       "padding": null,
       "right": null,
       "top": null,
       "visibility": null,
       "width": null
      }
     },
     "16aec8be760b4788a35136a3c3560c86": {
      "model_module": "@jupyter-widgets/controls",
      "model_module_version": "2.0.0",
      "model_name": "VBoxModel",
      "state": {
       "_dom_classes": [],
       "_model_module": "@jupyter-widgets/controls",
       "_model_module_version": "2.0.0",
       "_model_name": "VBoxModel",
       "_view_count": null,
       "_view_module": "@jupyter-widgets/controls",
       "_view_module_version": "2.0.0",
       "_view_name": "VBoxView",
       "box_style": "",
       "children": [
        "IPY_MODEL_3856bbcd0f0d432d87a22469c425dcbc"
       ],
       "layout": "IPY_MODEL_1b7d3e8e1702430ea9bb0d95a6849c68",
       "tabbable": null,
       "tooltip": null
      }
     },
     "16d09c50e22d404ca865755661655dfc": {
      "model_module": "@jupyter-widgets/controls",
      "model_module_version": "2.0.0",
      "model_name": "LabelModel",
      "state": {
       "_dom_classes": [],
       "_model_module": "@jupyter-widgets/controls",
       "_model_module_version": "2.0.0",
       "_model_name": "LabelModel",
       "_view_count": null,
       "_view_module": "@jupyter-widgets/controls",
       "_view_module_version": "2.0.0",
       "_view_name": "LabelView",
       "description": "",
       "description_allow_html": false,
       "layout": "IPY_MODEL_e635b0125eaf4c08a4cfb07eab9d7d39",
       "placeholder": "​",
       "style": "IPY_MODEL_206a2278434d4f7599707cafab5d5474",
       "tabbable": null,
       "tooltip": null,
       "value": "71418 / 71418"
      }
     },
     "1b6ee74d4f46478a8085d1f9ae5c0af1": {
      "model_module": "@jupyter-widgets/base",
      "model_module_version": "2.0.0",
      "model_name": "LayoutModel",
      "state": {
       "_model_module": "@jupyter-widgets/base",
       "_model_module_version": "2.0.0",
       "_model_name": "LayoutModel",
       "_view_count": null,
       "_view_module": "@jupyter-widgets/base",
       "_view_module_version": "2.0.0",
       "_view_name": "LayoutView",
       "align_content": null,
       "align_items": null,
       "align_self": null,
       "border_bottom": null,
       "border_left": null,
       "border_right": null,
       "border_top": null,
       "bottom": null,
       "display": null,
       "flex": null,
       "flex_flow": null,
       "grid_area": null,
       "grid_auto_columns": null,
       "grid_auto_flow": null,
       "grid_auto_rows": null,
       "grid_column": null,
       "grid_gap": null,
       "grid_row": null,
       "grid_template_areas": null,
       "grid_template_columns": null,
       "grid_template_rows": null,
       "height": null,
       "justify_content": null,
       "justify_items": null,
       "left": null,
       "margin": null,
       "max_height": null,
       "max_width": null,
       "min_height": null,
       "min_width": null,
       "object_fit": null,
       "object_position": null,
       "order": null,
       "overflow": null,
       "padding": null,
       "right": null,
       "top": null,
       "visibility": null,
       "width": null
      }
     },
     "1b7d3e8e1702430ea9bb0d95a6849c68": {
      "model_module": "@jupyter-widgets/base",
      "model_module_version": "2.0.0",
      "model_name": "LayoutModel",
      "state": {
       "_model_module": "@jupyter-widgets/base",
       "_model_module_version": "2.0.0",
       "_model_name": "LayoutModel",
       "_view_count": null,
       "_view_module": "@jupyter-widgets/base",
       "_view_module_version": "2.0.0",
       "_view_name": "LayoutView",
       "align_content": null,
       "align_items": null,
       "align_self": null,
       "border_bottom": null,
       "border_left": null,
       "border_right": null,
       "border_top": null,
       "bottom": null,
       "display": null,
       "flex": null,
       "flex_flow": null,
       "grid_area": null,
       "grid_auto_columns": null,
       "grid_auto_flow": null,
       "grid_auto_rows": null,
       "grid_column": null,
       "grid_gap": null,
       "grid_row": null,
       "grid_template_areas": null,
       "grid_template_columns": null,
       "grid_template_rows": null,
       "height": null,
       "justify_content": null,
       "justify_items": null,
       "left": null,
       "margin": null,
       "max_height": null,
       "max_width": null,
       "min_height": null,
       "min_width": null,
       "object_fit": null,
       "object_position": null,
       "order": null,
       "overflow": null,
       "padding": null,
       "right": null,
       "top": null,
       "visibility": null,
       "width": null
      }
     },
     "1e0ab9df3d2b45168afceecd0522808c": {
      "model_module": "@jupyter-widgets/base",
      "model_module_version": "2.0.0",
      "model_name": "LayoutModel",
      "state": {
       "_model_module": "@jupyter-widgets/base",
       "_model_module_version": "2.0.0",
       "_model_name": "LayoutModel",
       "_view_count": null,
       "_view_module": "@jupyter-widgets/base",
       "_view_module_version": "2.0.0",
       "_view_name": "LayoutView",
       "align_content": null,
       "align_items": null,
       "align_self": null,
       "border_bottom": null,
       "border_left": null,
       "border_right": null,
       "border_top": null,
       "bottom": null,
       "display": null,
       "flex": null,
       "flex_flow": null,
       "grid_area": null,
       "grid_auto_columns": null,
       "grid_auto_flow": null,
       "grid_auto_rows": null,
       "grid_column": null,
       "grid_gap": null,
       "grid_row": null,
       "grid_template_areas": null,
       "grid_template_columns": null,
       "grid_template_rows": null,
       "height": null,
       "justify_content": null,
       "justify_items": null,
       "left": null,
       "margin": null,
       "max_height": null,
       "max_width": null,
       "min_height": null,
       "min_width": null,
       "object_fit": null,
       "object_position": null,
       "order": null,
       "overflow": null,
       "padding": null,
       "right": null,
       "top": null,
       "visibility": null,
       "width": null
      }
     },
     "1e934d0a33d6449b976eb4cb90a8b858": {
      "model_module": "@jupyter-widgets/base",
      "model_module_version": "2.0.0",
      "model_name": "LayoutModel",
      "state": {
       "_model_module": "@jupyter-widgets/base",
       "_model_module_version": "2.0.0",
       "_model_name": "LayoutModel",
       "_view_count": null,
       "_view_module": "@jupyter-widgets/base",
       "_view_module_version": "2.0.0",
       "_view_name": "LayoutView",
       "align_content": null,
       "align_items": null,
       "align_self": null,
       "border_bottom": null,
       "border_left": null,
       "border_right": null,
       "border_top": null,
       "bottom": null,
       "display": null,
       "flex": null,
       "flex_flow": null,
       "grid_area": null,
       "grid_auto_columns": null,
       "grid_auto_flow": null,
       "grid_auto_rows": null,
       "grid_column": null,
       "grid_gap": null,
       "grid_row": null,
       "grid_template_areas": null,
       "grid_template_columns": null,
       "grid_template_rows": null,
       "height": null,
       "justify_content": null,
       "justify_items": null,
       "left": null,
       "margin": null,
       "max_height": null,
       "max_width": null,
       "min_height": null,
       "min_width": null,
       "object_fit": null,
       "object_position": null,
       "order": null,
       "overflow": null,
       "padding": null,
       "right": null,
       "top": null,
       "visibility": null,
       "width": null
      }
     },
     "206a2278434d4f7599707cafab5d5474": {
      "model_module": "@jupyter-widgets/controls",
      "model_module_version": "2.0.0",
      "model_name": "LabelStyleModel",
      "state": {
       "_model_module": "@jupyter-widgets/controls",
       "_model_module_version": "2.0.0",
       "_model_name": "LabelStyleModel",
       "_view_count": null,
       "_view_module": "@jupyter-widgets/base",
       "_view_module_version": "2.0.0",
       "_view_name": "StyleView",
       "background": null,
       "description_width": "",
       "font_family": null,
       "font_size": null,
       "font_style": null,
       "font_variant": null,
       "font_weight": null,
       "text_color": null,
       "text_decoration": null
      }
     },
     "2dc79388c4414abfbb5d0eedc70b0f7f": {
      "model_module": "@jupyter-widgets/controls",
      "model_module_version": "2.0.0",
      "model_name": "HBoxModel",
      "state": {
       "_dom_classes": [],
       "_model_module": "@jupyter-widgets/controls",
       "_model_module_version": "2.0.0",
       "_model_name": "HBoxModel",
       "_view_count": null,
       "_view_module": "@jupyter-widgets/controls",
       "_view_module_version": "2.0.0",
       "_view_name": "HBoxView",
       "box_style": "",
       "children": [
        "IPY_MODEL_6e6f93f9552c40f692b024d9e8f9c3cc",
        "IPY_MODEL_9ae1b6e8a74147de8b624c73cc0b340a",
        "IPY_MODEL_7e01fd73b73540449ee10d78250bd0d5"
       ],
       "layout": "IPY_MODEL_430a15316fb84a379f5a64bb83dab833",
       "tabbable": null,
       "tooltip": null
      }
     },
     "325f5b02c4db412abdf2380fede58900": {
      "model_module": "@jupyter-widgets/controls",
      "model_module_version": "2.0.0",
      "model_name": "HBoxModel",
      "state": {
       "_dom_classes": [],
       "_model_module": "@jupyter-widgets/controls",
       "_model_module_version": "2.0.0",
       "_model_name": "HBoxModel",
       "_view_count": null,
       "_view_module": "@jupyter-widgets/controls",
       "_view_module_version": "2.0.0",
       "_view_name": "HBoxView",
       "box_style": "",
       "children": [
        "IPY_MODEL_6247319d1e054698b30d3c3a1b69bfee",
        "IPY_MODEL_16d09c50e22d404ca865755661655dfc"
       ],
       "layout": "IPY_MODEL_858ac135ec1a43ebafd83f09ed96e4e5",
       "tabbable": null,
       "tooltip": null
      }
     },
     "3856bbcd0f0d432d87a22469c425dcbc": {
      "model_module": "@jupyter-widgets/controls",
      "model_module_version": "2.0.0",
      "model_name": "HBoxModel",
      "state": {
       "_dom_classes": [],
       "_model_module": "@jupyter-widgets/controls",
       "_model_module_version": "2.0.0",
       "_model_name": "HBoxModel",
       "_view_count": null,
       "_view_module": "@jupyter-widgets/controls",
       "_view_module_version": "2.0.0",
       "_view_name": "HBoxView",
       "box_style": "",
       "children": [
        "IPY_MODEL_c5c616fd61204678855eaea9c335baa0",
        "IPY_MODEL_5ef064cc8130445aabd8beda7456bacc"
       ],
       "layout": "IPY_MODEL_5431dc459ad542738ce97dc29cc577a1",
       "tabbable": null,
       "tooltip": null
      }
     },
     "38c1ca58fbd94fdd9fa123e34b50343e": {
      "model_module": "@jupyter-widgets/base",
      "model_module_version": "2.0.0",
      "model_name": "LayoutModel",
      "state": {
       "_model_module": "@jupyter-widgets/base",
       "_model_module_version": "2.0.0",
       "_model_name": "LayoutModel",
       "_view_count": null,
       "_view_module": "@jupyter-widgets/base",
       "_view_module_version": "2.0.0",
       "_view_name": "LayoutView",
       "align_content": null,
       "align_items": null,
       "align_self": null,
       "border_bottom": null,
       "border_left": null,
       "border_right": null,
       "border_top": null,
       "bottom": null,
       "display": null,
       "flex": null,
       "flex_flow": null,
       "grid_area": null,
       "grid_auto_columns": null,
       "grid_auto_flow": null,
       "grid_auto_rows": null,
       "grid_column": null,
       "grid_gap": null,
       "grid_row": null,
       "grid_template_areas": null,
       "grid_template_columns": null,
       "grid_template_rows": null,
       "height": null,
       "justify_content": null,
       "justify_items": null,
       "left": null,
       "margin": null,
       "max_height": null,
       "max_width": null,
       "min_height": null,
       "min_width": null,
       "object_fit": null,
       "object_position": null,
       "order": null,
       "overflow": null,
       "padding": null,
       "right": null,
       "top": null,
       "visibility": null,
       "width": null
      }
     },
     "3add752e79064cef8f748c23fbd19926": {
      "model_module": "@jupyter-widgets/controls",
      "model_module_version": "2.0.0",
      "model_name": "ProgressStyleModel",
      "state": {
       "_model_module": "@jupyter-widgets/controls",
       "_model_module_version": "2.0.0",
       "_model_name": "ProgressStyleModel",
       "_view_count": null,
       "_view_module": "@jupyter-widgets/base",
       "_view_module_version": "2.0.0",
       "_view_name": "StyleView",
       "bar_color": null,
       "description_width": ""
      }
     },
     "430a15316fb84a379f5a64bb83dab833": {
      "model_module": "@jupyter-widgets/base",
      "model_module_version": "2.0.0",
      "model_name": "LayoutModel",
      "state": {
       "_model_module": "@jupyter-widgets/base",
       "_model_module_version": "2.0.0",
       "_model_name": "LayoutModel",
       "_view_count": null,
       "_view_module": "@jupyter-widgets/base",
       "_view_module_version": "2.0.0",
       "_view_name": "LayoutView",
       "align_content": null,
       "align_items": null,
       "align_self": null,
       "border_bottom": null,
       "border_left": null,
       "border_right": null,
       "border_top": null,
       "bottom": null,
       "display": null,
       "flex": null,
       "flex_flow": null,
       "grid_area": null,
       "grid_auto_columns": null,
       "grid_auto_flow": null,
       "grid_auto_rows": null,
       "grid_column": null,
       "grid_gap": null,
       "grid_row": null,
       "grid_template_areas": null,
       "grid_template_columns": null,
       "grid_template_rows": null,
       "height": null,
       "justify_content": null,
       "justify_items": null,
       "left": null,
       "margin": null,
       "max_height": null,
       "max_width": null,
       "min_height": null,
       "min_width": null,
       "object_fit": null,
       "object_position": null,
       "order": null,
       "overflow": null,
       "padding": null,
       "right": null,
       "top": null,
       "visibility": null,
       "width": null
      }
     },
     "43366ad09e7742338eb623efdf82e735": {
      "model_module": "@jupyter-widgets/controls",
      "model_module_version": "2.0.0",
      "model_name": "HTMLModel",
      "state": {
       "_dom_classes": [],
       "_model_module": "@jupyter-widgets/controls",
       "_model_module_version": "2.0.0",
       "_model_name": "HTMLModel",
       "_view_count": null,
       "_view_module": "@jupyter-widgets/controls",
       "_view_module_version": "2.0.0",
       "_view_name": "HTMLView",
       "description": "",
       "description_allow_html": false,
       "layout": "IPY_MODEL_1e0ab9df3d2b45168afceecd0522808c",
       "placeholder": "​",
       "style": "IPY_MODEL_a5e17f4d3e9c440ebb8686112d9fee72",
       "tabbable": null,
       "tooltip": null,
       "value": " 71418/71418 [00:02&lt;00:00, 38251.45it/s]"
      }
     },
     "49f19d948b8c44718c45ccaf9d00e907": {
      "model_module": "@jupyter-widgets/base",
      "model_module_version": "2.0.0",
      "model_name": "LayoutModel",
      "state": {
       "_model_module": "@jupyter-widgets/base",
       "_model_module_version": "2.0.0",
       "_model_name": "LayoutModel",
       "_view_count": null,
       "_view_module": "@jupyter-widgets/base",
       "_view_module_version": "2.0.0",
       "_view_name": "LayoutView",
       "align_content": null,
       "align_items": null,
       "align_self": null,
       "border_bottom": null,
       "border_left": null,
       "border_right": null,
       "border_top": null,
       "bottom": null,
       "display": null,
       "flex": null,
       "flex_flow": null,
       "grid_area": null,
       "grid_auto_columns": null,
       "grid_auto_flow": null,
       "grid_auto_rows": null,
       "grid_column": null,
       "grid_gap": null,
       "grid_row": null,
       "grid_template_areas": null,
       "grid_template_columns": null,
       "grid_template_rows": null,
       "height": null,
       "justify_content": null,
       "justify_items": null,
       "left": null,
       "margin": null,
       "max_height": null,
       "max_width": null,
       "min_height": null,
       "min_width": null,
       "object_fit": null,
       "object_position": null,
       "order": null,
       "overflow": null,
       "padding": null,
       "right": null,
       "top": null,
       "visibility": null,
       "width": null
      }
     },
     "4a54bf7717764fbcbc19a1c5c1b2f635": {
      "model_module": "@jupyter-widgets/controls",
      "model_module_version": "2.0.0",
      "model_name": "VBoxModel",
      "state": {
       "_dom_classes": [],
       "_model_module": "@jupyter-widgets/controls",
       "_model_module_version": "2.0.0",
       "_model_name": "VBoxModel",
       "_view_count": null,
       "_view_module": "@jupyter-widgets/controls",
       "_view_module_version": "2.0.0",
       "_view_name": "VBoxView",
       "box_style": "",
       "children": [
        "IPY_MODEL_325f5b02c4db412abdf2380fede58900"
       ],
       "layout": "IPY_MODEL_5fff9c3b05f74eedbb5db4809a33cc64",
       "tabbable": null,
       "tooltip": null
      }
     },
     "4b591b73407740ffa8f523bcdd71b309": {
      "model_module": "@jupyter-widgets/controls",
      "model_module_version": "2.0.0",
      "model_name": "ProgressStyleModel",
      "state": {
       "_model_module": "@jupyter-widgets/controls",
       "_model_module_version": "2.0.0",
       "_model_name": "ProgressStyleModel",
       "_view_count": null,
       "_view_module": "@jupyter-widgets/base",
       "_view_module_version": "2.0.0",
       "_view_name": "StyleView",
       "bar_color": null,
       "description_width": ""
      }
     },
     "5431dc459ad542738ce97dc29cc577a1": {
      "model_module": "@jupyter-widgets/base",
      "model_module_version": "2.0.0",
      "model_name": "LayoutModel",
      "state": {
       "_model_module": "@jupyter-widgets/base",
       "_model_module_version": "2.0.0",
       "_model_name": "LayoutModel",
       "_view_count": null,
       "_view_module": "@jupyter-widgets/base",
       "_view_module_version": "2.0.0",
       "_view_name": "LayoutView",
       "align_content": null,
       "align_items": null,
       "align_self": null,
       "border_bottom": null,
       "border_left": null,
       "border_right": null,
       "border_top": null,
       "bottom": null,
       "display": null,
       "flex": null,
       "flex_flow": null,
       "grid_area": null,
       "grid_auto_columns": null,
       "grid_auto_flow": null,
       "grid_auto_rows": null,
       "grid_column": null,
       "grid_gap": null,
       "grid_row": null,
       "grid_template_areas": null,
       "grid_template_columns": null,
       "grid_template_rows": null,
       "height": null,
       "justify_content": null,
       "justify_items": null,
       "left": null,
       "margin": null,
       "max_height": null,
       "max_width": null,
       "min_height": null,
       "min_width": null,
       "object_fit": null,
       "object_position": null,
       "order": null,
       "overflow": null,
       "padding": null,
       "right": null,
       "top": null,
       "visibility": null,
       "width": null
      }
     },
     "5d64fcf82c3048f2a2220703e1867870": {
      "model_module": "@jupyter-widgets/controls",
      "model_module_version": "2.0.0",
      "model_name": "HTMLModel",
      "state": {
       "_dom_classes": [],
       "_model_module": "@jupyter-widgets/controls",
       "_model_module_version": "2.0.0",
       "_model_name": "HTMLModel",
       "_view_count": null,
       "_view_module": "@jupyter-widgets/controls",
       "_view_module_version": "2.0.0",
       "_view_name": "HTMLView",
       "description": "",
       "description_allow_html": false,
       "layout": "IPY_MODEL_1b6ee74d4f46478a8085d1f9ae5c0af1",
       "placeholder": "​",
       "style": "IPY_MODEL_06344a9919374660bda96d3844e0fac8",
       "tabbable": null,
       "tooltip": null,
       "value": "100%"
      }
     },
     "5ef064cc8130445aabd8beda7456bacc": {
      "model_module": "@jupyter-widgets/controls",
      "model_module_version": "2.0.0",
      "model_name": "LabelModel",
      "state": {
       "_dom_classes": [],
       "_model_module": "@jupyter-widgets/controls",
       "_model_module_version": "2.0.0",
       "_model_name": "LabelModel",
       "_view_count": null,
       "_view_module": "@jupyter-widgets/controls",
       "_view_module_version": "2.0.0",
       "_view_name": "LabelView",
       "description": "",
       "description_allow_html": false,
       "layout": "IPY_MODEL_38c1ca58fbd94fdd9fa123e34b50343e",
       "placeholder": "​",
       "style": "IPY_MODEL_d0429a756e8143d0b8b606bfc1d8fb63",
       "tabbable": null,
       "tooltip": null,
       "value": "71418 / 71418"
      }
     },
     "5fff9c3b05f74eedbb5db4809a33cc64": {
      "model_module": "@jupyter-widgets/base",
      "model_module_version": "2.0.0",
      "model_name": "LayoutModel",
      "state": {
       "_model_module": "@jupyter-widgets/base",
       "_model_module_version": "2.0.0",
       "_model_name": "LayoutModel",
       "_view_count": null,
       "_view_module": "@jupyter-widgets/base",
       "_view_module_version": "2.0.0",
       "_view_name": "LayoutView",
       "align_content": null,
       "align_items": null,
       "align_self": null,
       "border_bottom": null,
       "border_left": null,
       "border_right": null,
       "border_top": null,
       "bottom": null,
       "display": null,
       "flex": null,
       "flex_flow": null,
       "grid_area": null,
       "grid_auto_columns": null,
       "grid_auto_flow": null,
       "grid_auto_rows": null,
       "grid_column": null,
       "grid_gap": null,
       "grid_row": null,
       "grid_template_areas": null,
       "grid_template_columns": null,
       "grid_template_rows": null,
       "height": null,
       "justify_content": null,
       "justify_items": null,
       "left": null,
       "margin": null,
       "max_height": null,
       "max_width": null,
       "min_height": null,
       "min_width": null,
       "object_fit": null,
       "object_position": null,
       "order": null,
       "overflow": null,
       "padding": null,
       "right": null,
       "top": null,
       "visibility": null,
       "width": null
      }
     },
     "6247319d1e054698b30d3c3a1b69bfee": {
      "model_module": "@jupyter-widgets/controls",
      "model_module_version": "2.0.0",
      "model_name": "IntProgressModel",
      "state": {
       "_dom_classes": [],
       "_model_module": "@jupyter-widgets/controls",
       "_model_module_version": "2.0.0",
       "_model_name": "IntProgressModel",
       "_view_count": null,
       "_view_module": "@jupyter-widgets/controls",
       "_view_module_version": "2.0.0",
       "_view_name": "ProgressView",
       "bar_style": "success",
       "description": "100.00%",
       "description_allow_html": false,
       "layout": "IPY_MODEL_e7a460bcc05b4883b0e902496eaba774",
       "max": 71418,
       "min": 0,
       "orientation": "horizontal",
       "style": "IPY_MODEL_3add752e79064cef8f748c23fbd19926",
       "tabbable": null,
       "tooltip": null,
       "value": 71418
      }
     },
     "6e6f93f9552c40f692b024d9e8f9c3cc": {
      "model_module": "@jupyter-widgets/controls",
      "model_module_version": "2.0.0",
      "model_name": "HTMLModel",
      "state": {
       "_dom_classes": [],
       "_model_module": "@jupyter-widgets/controls",
       "_model_module_version": "2.0.0",
       "_model_name": "HTMLModel",
       "_view_count": null,
       "_view_module": "@jupyter-widgets/controls",
       "_view_module_version": "2.0.0",
       "_view_name": "HTMLView",
       "description": "",
       "description_allow_html": false,
       "layout": "IPY_MODEL_c64b3eec59714a64b4525bb2afe239f7",
       "placeholder": "​",
       "style": "IPY_MODEL_85510c14a0fc4234bd42a12e8b9d5582",
       "tabbable": null,
       "tooltip": null,
       "value": "100%"
      }
     },
     "70315d621711489da2f0ee8aa2285a1c": {
      "model_module": "@jupyter-widgets/base",
      "model_module_version": "2.0.0",
      "model_name": "LayoutModel",
      "state": {
       "_model_module": "@jupyter-widgets/base",
       "_model_module_version": "2.0.0",
       "_model_name": "LayoutModel",
       "_view_count": null,
       "_view_module": "@jupyter-widgets/base",
       "_view_module_version": "2.0.0",
       "_view_name": "LayoutView",
       "align_content": null,
       "align_items": null,
       "align_self": null,
       "border_bottom": null,
       "border_left": null,
       "border_right": null,
       "border_top": null,
       "bottom": null,
       "display": null,
       "flex": null,
       "flex_flow": null,
       "grid_area": null,
       "grid_auto_columns": null,
       "grid_auto_flow": null,
       "grid_auto_rows": null,
       "grid_column": null,
       "grid_gap": null,
       "grid_row": null,
       "grid_template_areas": null,
       "grid_template_columns": null,
       "grid_template_rows": null,
       "height": null,
       "justify_content": null,
       "justify_items": null,
       "left": null,
       "margin": null,
       "max_height": null,
       "max_width": null,
       "min_height": null,
       "min_width": null,
       "object_fit": null,
       "object_position": null,
       "order": null,
       "overflow": null,
       "padding": null,
       "right": null,
       "top": null,
       "visibility": null,
       "width": null
      }
     },
     "712072679aab4d8ca45192117ec87f61": {
      "model_module": "@jupyter-widgets/controls",
      "model_module_version": "2.0.0",
      "model_name": "ProgressStyleModel",
      "state": {
       "_model_module": "@jupyter-widgets/controls",
       "_model_module_version": "2.0.0",
       "_model_name": "ProgressStyleModel",
       "_view_count": null,
       "_view_module": "@jupyter-widgets/base",
       "_view_module_version": "2.0.0",
       "_view_name": "StyleView",
       "bar_color": null,
       "description_width": ""
      }
     },
     "7e01fd73b73540449ee10d78250bd0d5": {
      "model_module": "@jupyter-widgets/controls",
      "model_module_version": "2.0.0",
      "model_name": "HTMLModel",
      "state": {
       "_dom_classes": [],
       "_model_module": "@jupyter-widgets/controls",
       "_model_module_version": "2.0.0",
       "_model_name": "HTMLModel",
       "_view_count": null,
       "_view_module": "@jupyter-widgets/controls",
       "_view_module_version": "2.0.0",
       "_view_name": "HTMLView",
       "description": "",
       "description_allow_html": false,
       "layout": "IPY_MODEL_70315d621711489da2f0ee8aa2285a1c",
       "placeholder": "​",
       "style": "IPY_MODEL_9c2764de9e05449d87a1cd7de24335f9",
       "tabbable": null,
       "tooltip": null,
       "value": " 71418/71418 [00:04&lt;00:00, 14340.56it/s]"
      }
     },
     "85510c14a0fc4234bd42a12e8b9d5582": {
      "model_module": "@jupyter-widgets/controls",
      "model_module_version": "2.0.0",
      "model_name": "HTMLStyleModel",
      "state": {
       "_model_module": "@jupyter-widgets/controls",
       "_model_module_version": "2.0.0",
       "_model_name": "HTMLStyleModel",
       "_view_count": null,
       "_view_module": "@jupyter-widgets/base",
       "_view_module_version": "2.0.0",
       "_view_name": "StyleView",
       "background": null,
       "description_width": "",
       "font_size": null,
       "text_color": null
      }
     },
     "858ac135ec1a43ebafd83f09ed96e4e5": {
      "model_module": "@jupyter-widgets/base",
      "model_module_version": "2.0.0",
      "model_name": "LayoutModel",
      "state": {
       "_model_module": "@jupyter-widgets/base",
       "_model_module_version": "2.0.0",
       "_model_name": "LayoutModel",
       "_view_count": null,
       "_view_module": "@jupyter-widgets/base",
       "_view_module_version": "2.0.0",
       "_view_name": "LayoutView",
       "align_content": null,
       "align_items": null,
       "align_self": null,
       "border_bottom": null,
       "border_left": null,
       "border_right": null,
       "border_top": null,
       "bottom": null,
       "display": null,
       "flex": null,
       "flex_flow": null,
       "grid_area": null,
       "grid_auto_columns": null,
       "grid_auto_flow": null,
       "grid_auto_rows": null,
       "grid_column": null,
       "grid_gap": null,
       "grid_row": null,
       "grid_template_areas": null,
       "grid_template_columns": null,
       "grid_template_rows": null,
       "height": null,
       "justify_content": null,
       "justify_items": null,
       "left": null,
       "margin": null,
       "max_height": null,
       "max_width": null,
       "min_height": null,
       "min_width": null,
       "object_fit": null,
       "object_position": null,
       "order": null,
       "overflow": null,
       "padding": null,
       "right": null,
       "top": null,
       "visibility": null,
       "width": null
      }
     },
     "8a72e0b65b1c4223b300d528047d4400": {
      "model_module": "@jupyter-widgets/controls",
      "model_module_version": "2.0.0",
      "model_name": "HBoxModel",
      "state": {
       "_dom_classes": [],
       "_model_module": "@jupyter-widgets/controls",
       "_model_module_version": "2.0.0",
       "_model_name": "HBoxModel",
       "_view_count": null,
       "_view_module": "@jupyter-widgets/controls",
       "_view_module_version": "2.0.0",
       "_view_name": "HBoxView",
       "box_style": "",
       "children": [
        "IPY_MODEL_5d64fcf82c3048f2a2220703e1867870",
        "IPY_MODEL_aa679cd7cfe7407d8bc6d2b70bd3ea47",
        "IPY_MODEL_43366ad09e7742338eb623efdf82e735"
       ],
       "layout": "IPY_MODEL_119c66ef45844a708d0437b264da47b2",
       "tabbable": null,
       "tooltip": null
      }
     },
     "8dadcd47712b4c0c8a523b9d080f8ac8": {
      "model_module": "@jupyter-widgets/controls",
      "model_module_version": "2.0.0",
      "model_name": "ProgressStyleModel",
      "state": {
       "_model_module": "@jupyter-widgets/controls",
       "_model_module_version": "2.0.0",
       "_model_name": "ProgressStyleModel",
       "_view_count": null,
       "_view_module": "@jupyter-widgets/base",
       "_view_module_version": "2.0.0",
       "_view_name": "StyleView",
       "bar_color": null,
       "description_width": ""
      }
     },
     "9ae1b6e8a74147de8b624c73cc0b340a": {
      "model_module": "@jupyter-widgets/controls",
      "model_module_version": "2.0.0",
      "model_name": "FloatProgressModel",
      "state": {
       "_dom_classes": [],
       "_model_module": "@jupyter-widgets/controls",
       "_model_module_version": "2.0.0",
       "_model_name": "FloatProgressModel",
       "_view_count": null,
       "_view_module": "@jupyter-widgets/controls",
       "_view_module_version": "2.0.0",
       "_view_name": "ProgressView",
       "bar_style": "success",
       "description": "",
       "description_allow_html": false,
       "layout": "IPY_MODEL_49f19d948b8c44718c45ccaf9d00e907",
       "max": 71418.0,
       "min": 0.0,
       "orientation": "horizontal",
       "style": "IPY_MODEL_8dadcd47712b4c0c8a523b9d080f8ac8",
       "tabbable": null,
       "tooltip": null,
       "value": 71418.0
      }
     },
     "9c2764de9e05449d87a1cd7de24335f9": {
      "model_module": "@jupyter-widgets/controls",
      "model_module_version": "2.0.0",
      "model_name": "HTMLStyleModel",
      "state": {
       "_model_module": "@jupyter-widgets/controls",
       "_model_module_version": "2.0.0",
       "_model_name": "HTMLStyleModel",
       "_view_count": null,
       "_view_module": "@jupyter-widgets/base",
       "_view_module_version": "2.0.0",
       "_view_name": "StyleView",
       "background": null,
       "description_width": "",
       "font_size": null,
       "text_color": null
      }
     },
     "a5e17f4d3e9c440ebb8686112d9fee72": {
      "model_module": "@jupyter-widgets/controls",
      "model_module_version": "2.0.0",
      "model_name": "HTMLStyleModel",
      "state": {
       "_model_module": "@jupyter-widgets/controls",
       "_model_module_version": "2.0.0",
       "_model_name": "HTMLStyleModel",
       "_view_count": null,
       "_view_module": "@jupyter-widgets/base",
       "_view_module_version": "2.0.0",
       "_view_name": "StyleView",
       "background": null,
       "description_width": "",
       "font_size": null,
       "text_color": null
      }
     },
     "aa679cd7cfe7407d8bc6d2b70bd3ea47": {
      "model_module": "@jupyter-widgets/controls",
      "model_module_version": "2.0.0",
      "model_name": "FloatProgressModel",
      "state": {
       "_dom_classes": [],
       "_model_module": "@jupyter-widgets/controls",
       "_model_module_version": "2.0.0",
       "_model_name": "FloatProgressModel",
       "_view_count": null,
       "_view_module": "@jupyter-widgets/controls",
       "_view_module_version": "2.0.0",
       "_view_name": "ProgressView",
       "bar_style": "success",
       "description": "",
       "description_allow_html": false,
       "layout": "IPY_MODEL_e9b3d01b86d142bf9c2f936173fab027",
       "max": 71418.0,
       "min": 0.0,
       "orientation": "horizontal",
       "style": "IPY_MODEL_712072679aab4d8ca45192117ec87f61",
       "tabbable": null,
       "tooltip": null,
       "value": 71418.0
      }
     },
     "c5c616fd61204678855eaea9c335baa0": {
      "model_module": "@jupyter-widgets/controls",
      "model_module_version": "2.0.0",
      "model_name": "IntProgressModel",
      "state": {
       "_dom_classes": [],
       "_model_module": "@jupyter-widgets/controls",
       "_model_module_version": "2.0.0",
       "_model_name": "IntProgressModel",
       "_view_count": null,
       "_view_module": "@jupyter-widgets/controls",
       "_view_module_version": "2.0.0",
       "_view_name": "ProgressView",
       "bar_style": "success",
       "description": "100.00%",
       "description_allow_html": false,
       "layout": "IPY_MODEL_1e934d0a33d6449b976eb4cb90a8b858",
       "max": 71418,
       "min": 0,
       "orientation": "horizontal",
       "style": "IPY_MODEL_4b591b73407740ffa8f523bcdd71b309",
       "tabbable": null,
       "tooltip": null,
       "value": 71418
      }
     },
     "c64b3eec59714a64b4525bb2afe239f7": {
      "model_module": "@jupyter-widgets/base",
      "model_module_version": "2.0.0",
      "model_name": "LayoutModel",
      "state": {
       "_model_module": "@jupyter-widgets/base",
       "_model_module_version": "2.0.0",
       "_model_name": "LayoutModel",
       "_view_count": null,
       "_view_module": "@jupyter-widgets/base",
       "_view_module_version": "2.0.0",
       "_view_name": "LayoutView",
       "align_content": null,
       "align_items": null,
       "align_self": null,
       "border_bottom": null,
       "border_left": null,
       "border_right": null,
       "border_top": null,
       "bottom": null,
       "display": null,
       "flex": null,
       "flex_flow": null,
       "grid_area": null,
       "grid_auto_columns": null,
       "grid_auto_flow": null,
       "grid_auto_rows": null,
       "grid_column": null,
       "grid_gap": null,
       "grid_row": null,
       "grid_template_areas": null,
       "grid_template_columns": null,
       "grid_template_rows": null,
       "height": null,
       "justify_content": null,
       "justify_items": null,
       "left": null,
       "margin": null,
       "max_height": null,
       "max_width": null,
       "min_height": null,
       "min_width": null,
       "object_fit": null,
       "object_position": null,
       "order": null,
       "overflow": null,
       "padding": null,
       "right": null,
       "top": null,
       "visibility": null,
       "width": null
      }
     },
     "d0429a756e8143d0b8b606bfc1d8fb63": {
      "model_module": "@jupyter-widgets/controls",
      "model_module_version": "2.0.0",
      "model_name": "LabelStyleModel",
      "state": {
       "_model_module": "@jupyter-widgets/controls",
       "_model_module_version": "2.0.0",
       "_model_name": "LabelStyleModel",
       "_view_count": null,
       "_view_module": "@jupyter-widgets/base",
       "_view_module_version": "2.0.0",
       "_view_name": "StyleView",
       "background": null,
       "description_width": "",
       "font_family": null,
       "font_size": null,
       "font_style": null,
       "font_variant": null,
       "font_weight": null,
       "text_color": null,
       "text_decoration": null
      }
     },
     "e635b0125eaf4c08a4cfb07eab9d7d39": {
      "model_module": "@jupyter-widgets/base",
      "model_module_version": "2.0.0",
      "model_name": "LayoutModel",
      "state": {
       "_model_module": "@jupyter-widgets/base",
       "_model_module_version": "2.0.0",
       "_model_name": "LayoutModel",
       "_view_count": null,
       "_view_module": "@jupyter-widgets/base",
       "_view_module_version": "2.0.0",
       "_view_name": "LayoutView",
       "align_content": null,
       "align_items": null,
       "align_self": null,
       "border_bottom": null,
       "border_left": null,
       "border_right": null,
       "border_top": null,
       "bottom": null,
       "display": null,
       "flex": null,
       "flex_flow": null,
       "grid_area": null,
       "grid_auto_columns": null,
       "grid_auto_flow": null,
       "grid_auto_rows": null,
       "grid_column": null,
       "grid_gap": null,
       "grid_row": null,
       "grid_template_areas": null,
       "grid_template_columns": null,
       "grid_template_rows": null,
       "height": null,
       "justify_content": null,
       "justify_items": null,
       "left": null,
       "margin": null,
       "max_height": null,
       "max_width": null,
       "min_height": null,
       "min_width": null,
       "object_fit": null,
       "object_position": null,
       "order": null,
       "overflow": null,
       "padding": null,
       "right": null,
       "top": null,
       "visibility": null,
       "width": null
      }
     },
     "e7a460bcc05b4883b0e902496eaba774": {
      "model_module": "@jupyter-widgets/base",
      "model_module_version": "2.0.0",
      "model_name": "LayoutModel",
      "state": {
       "_model_module": "@jupyter-widgets/base",
       "_model_module_version": "2.0.0",
       "_model_name": "LayoutModel",
       "_view_count": null,
       "_view_module": "@jupyter-widgets/base",
       "_view_module_version": "2.0.0",
       "_view_name": "LayoutView",
       "align_content": null,
       "align_items": null,
       "align_self": null,
       "border_bottom": null,
       "border_left": null,
       "border_right": null,
       "border_top": null,
       "bottom": null,
       "display": null,
       "flex": null,
       "flex_flow": null,
       "grid_area": null,
       "grid_auto_columns": null,
       "grid_auto_flow": null,
       "grid_auto_rows": null,
       "grid_column": null,
       "grid_gap": null,
       "grid_row": null,
       "grid_template_areas": null,
       "grid_template_columns": null,
       "grid_template_rows": null,
       "height": null,
       "justify_content": null,
       "justify_items": null,
       "left": null,
       "margin": null,
       "max_height": null,
       "max_width": null,
       "min_height": null,
       "min_width": null,
       "object_fit": null,
       "object_position": null,
       "order": null,
       "overflow": null,
       "padding": null,
       "right": null,
       "top": null,
       "visibility": null,
       "width": null
      }
     },
     "e9b3d01b86d142bf9c2f936173fab027": {
      "model_module": "@jupyter-widgets/base",
      "model_module_version": "2.0.0",
      "model_name": "LayoutModel",
      "state": {
       "_model_module": "@jupyter-widgets/base",
       "_model_module_version": "2.0.0",
       "_model_name": "LayoutModel",
       "_view_count": null,
       "_view_module": "@jupyter-widgets/base",
       "_view_module_version": "2.0.0",
       "_view_name": "LayoutView",
       "align_content": null,
       "align_items": null,
       "align_self": null,
       "border_bottom": null,
       "border_left": null,
       "border_right": null,
       "border_top": null,
       "bottom": null,
       "display": null,
       "flex": null,
       "flex_flow": null,
       "grid_area": null,
       "grid_auto_columns": null,
       "grid_auto_flow": null,
       "grid_auto_rows": null,
       "grid_column": null,
       "grid_gap": null,
       "grid_row": null,
       "grid_template_areas": null,
       "grid_template_columns": null,
       "grid_template_rows": null,
       "height": null,
       "justify_content": null,
       "justify_items": null,
       "left": null,
       "margin": null,
       "max_height": null,
       "max_width": null,
       "min_height": null,
       "min_width": null,
       "object_fit": null,
       "object_position": null,
       "order": null,
       "overflow": null,
       "padding": null,
       "right": null,
       "top": null,
       "visibility": null,
       "width": null
      }
     }
    },
    "version_major": 2,
    "version_minor": 0
   }
  }
 },
 "nbformat": 4,
 "nbformat_minor": 5
}