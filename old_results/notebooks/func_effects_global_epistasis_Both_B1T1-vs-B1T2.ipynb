{
 "cells": [
  {
   "cell_type": "markdown",
   "id": "cd032799-f956-4da8-baad-43dff0af1046",
   "metadata": {
    "papermill": {
     "duration": 0.002273,
     "end_time": "2023-11-19T23:06:27.551417",
     "exception": false,
     "start_time": "2023-11-19T23:06:27.549144",
     "status": "completed"
    },
    "tags": []
   },
   "source": [
    "# Fit global epistasis models to functional scores for each selection to get mutation functional effects\n",
    "\n",
    "Import Python modules.\n",
    "We use `multidms` for the fitting:"
   ]
  },
  {
   "cell_type": "code",
   "execution_count": 1,
   "id": "6653d04b-720e-4959-a8d8-006ce97190b6",
   "metadata": {
    "execution": {
     "iopub.execute_input": "2023-11-19T23:06:27.556770Z",
     "iopub.status.busy": "2023-11-19T23:06:27.556495Z",
     "iopub.status.idle": "2023-11-19T23:06:29.020751Z",
     "shell.execute_reply": "2023-11-19T23:06:29.019181Z"
    },
    "papermill": {
     "duration": 1.469828,
     "end_time": "2023-11-19T23:06:29.023794",
     "exception": false,
     "start_time": "2023-11-19T23:06:27.553966",
     "status": "completed"
    },
    "tags": []
   },
   "outputs": [],
   "source": [
    "import dms_variants.codonvarianttable\n",
    "\n",
    "import matplotlib.pyplot as plt\n",
    "\n",
    "import multidms\n",
    "\n",
    "import pandas as pd"
   ]
  },
  {
   "cell_type": "markdown",
   "id": "0276731c-0a6f-4820-9edb-b61ab1e2ace8",
   "metadata": {
    "papermill": {
     "duration": 0.001578,
     "end_time": "2023-11-19T23:06:29.027270",
     "exception": false,
     "start_time": "2023-11-19T23:06:29.025692",
     "status": "completed"
    },
    "tags": []
   },
   "source": [
    "This notebook is parameterized by `papermill`.\n",
    "The next cell is tagged as `parameters` to get the passed parameters."
   ]
  },
  {
   "cell_type": "code",
   "execution_count": 2,
   "id": "9ddd6a5a-5e55-4386-872b-ad9ce2af3d19",
   "metadata": {
    "editable": true,
    "execution": {
     "iopub.execute_input": "2023-11-19T23:06:29.038803Z",
     "iopub.status.busy": "2023-11-19T23:06:29.038567Z",
     "iopub.status.idle": "2023-11-19T23:06:29.051268Z",
     "shell.execute_reply": "2023-11-19T23:06:29.044908Z"
    },
    "papermill": {
     "duration": 0.024535,
     "end_time": "2023-11-19T23:06:29.053332",
     "exception": false,
     "start_time": "2023-11-19T23:06:29.028797",
     "status": "completed"
    },
    "slideshow": {
     "slide_type": ""
    },
    "tags": [
     "parameters"
    ]
   },
   "outputs": [],
   "source": [
    "# this cell is tagged parameters for `papermill` parameterization\n",
    "selection = None\n",
    "func_scores = None\n",
    "func_effects = None\n",
    "global_epistasis_params = None\n",
    "threads = None"
   ]
  },
  {
   "cell_type": "code",
   "execution_count": 3,
   "id": "32b80435",
   "metadata": {
    "execution": {
     "iopub.execute_input": "2023-11-19T23:06:29.057282Z",
     "iopub.status.busy": "2023-11-19T23:06:29.057137Z",
     "iopub.status.idle": "2023-11-19T23:06:29.061139Z",
     "shell.execute_reply": "2023-11-19T23:06:29.059202Z"
    },
    "papermill": {
     "duration": 0.007453,
     "end_time": "2023-11-19T23:06:29.062524",
     "exception": false,
     "start_time": "2023-11-19T23:06:29.055071",
     "status": "completed"
    },
    "tags": [
     "injected-parameters"
    ]
   },
   "outputs": [],
   "source": [
    "# Parameters\n",
    "global_epistasis_params = {\n",
    "    \"clip_lower\": \"median_stop\",\n",
    "    \"clip_upper\": None,\n",
    "    \"collapse_identical_variants\": False,\n",
    "}\n",
    "selection = \"Both_B1T1-vs-B1T2\"\n",
    "func_scores = \"results/func_scores/Both_B1T1-vs-B1T2_func_scores.csv\"\n",
    "func_effects = \"results/func_effects/by_selection/Both_B1T1-vs-B1T2_func_effects.csv\"\n",
    "threads = 1\n"
   ]
  },
  {
   "cell_type": "markdown",
   "id": "614d381c-9100-4248-8a56-bb6d8bb15789",
   "metadata": {
    "papermill": {
     "duration": 0.00156,
     "end_time": "2023-11-19T23:06:29.065781",
     "exception": false,
     "start_time": "2023-11-19T23:06:29.064221",
     "status": "completed"
    },
    "tags": []
   },
   "source": [
    "Read and clip functional scores:"
   ]
  },
  {
   "cell_type": "code",
   "execution_count": 4,
   "id": "a2a93f3e-46f7-4a62-b10b-d1bc7fe1a30f",
   "metadata": {
    "execution": {
     "iopub.execute_input": "2023-11-19T23:06:29.071039Z",
     "iopub.status.busy": "2023-11-19T23:06:29.070841Z",
     "iopub.status.idle": "2023-11-19T23:06:29.389351Z",
     "shell.execute_reply": "2023-11-19T23:06:29.388741Z"
    },
    "papermill": {
     "duration": 0.355578,
     "end_time": "2023-11-19T23:06:29.422885",
     "exception": false,
     "start_time": "2023-11-19T23:06:29.067307",
     "status": "completed"
    },
    "tags": []
   },
   "outputs": [
    {
     "name": "stdout",
     "output_type": "stream",
     "text": [
      "No clipping on upper bound of functional scores\n",
      "Clipping lower bound of functional scores to -1.65\n"
     ]
    }
   ],
   "source": [
    "func_scores_df = (\n",
    "    pd.read_csv(func_scores, na_filter=None)\n",
    "    .assign(condition=selection)\n",
    "    .pipe(dms_variants.codonvarianttable.CodonVariantTable.classifyVariants)\n",
    ")\n",
    "\n",
    "median_stop = func_scores_df.query(\"variant_class == 'stop'\")[\"func_score\"].median()\n",
    "\n",
    "for bound in [\"upper\", \"lower\"]:\n",
    "    clip = global_epistasis_params[f\"clip_{bound}\"]\n",
    "    if clip is None:\n",
    "        print(f\"No clipping on {bound} bound of functional scores\")\n",
    "    else:\n",
    "        if clip == \"median_stop\":\n",
    "            if pd.isnull(median_stop):\n",
    "                raise ValueError(f\"{median_stop=}\")\n",
    "            clip = median_stop\n",
    "        assert isinstance(clip, (int, float)), clip\n",
    "        print(f\"Clipping {bound} bound of functional scores to {clip}\")\n",
    "        func_scores_df[\"func_score\"] = func_scores_df[\"func_score\"].clip(\n",
    "            **{bound: clip}\n",
    "        )"
   ]
  },
  {
   "cell_type": "markdown",
   "id": "e49b2327-cf48-4dbd-9788-a89a61f072fe",
   "metadata": {
    "papermill": {
     "duration": 0.004875,
     "end_time": "2023-11-19T23:06:29.429754",
     "exception": false,
     "start_time": "2023-11-19T23:06:29.424879",
     "status": "completed"
    },
    "tags": []
   },
   "source": [
    "Initialize the data for `multidms`:"
   ]
  },
  {
   "cell_type": "code",
   "execution_count": 5,
   "id": "cab4c4b4-220f-4163-8d69-1bfaa92d360f",
   "metadata": {
    "execution": {
     "iopub.execute_input": "2023-11-19T23:06:29.446038Z",
     "iopub.status.busy": "2023-11-19T23:06:29.445779Z",
     "iopub.status.idle": "2023-11-19T23:06:36.988738Z",
     "shell.execute_reply": "2023-11-19T23:06:36.987951Z"
    },
    "papermill": {
     "duration": 7.55828,
     "end_time": "2023-11-19T23:06:36.989988",
     "exception": false,
     "start_time": "2023-11-19T23:06:29.431708",
     "status": "completed"
    },
    "tags": []
   },
   "outputs": [
    {
     "name": "stdout",
     "output_type": "stream",
     "text": [
      "inferring site map for Both_B1T1-vs-B1T2\n"
     ]
    },
    {
     "data": {
      "application/vnd.jupyter.widget-view+json": {
       "model_id": "bccdbac644414114a1445282368ef47f",
       "version_major": 2,
       "version_minor": 0
      },
      "text/plain": [
       "  0%|          | 0/70747 [00:00<?, ?it/s]"
      ]
     },
     "metadata": {},
     "output_type": "display_data"
    },
    {
     "name": "stdout",
     "output_type": "stream",
     "text": [
      "Asserting site integrity\n"
     ]
    },
    {
     "data": {
      "application/vnd.jupyter.widget-view+json": {
       "model_id": "a5cb1087605c45abb7dc5ad1f7eb5741",
       "version_major": 2,
       "version_minor": 0
      },
      "text/plain": [
       "  0%|          | 0/70747 [00:00<?, ?it/s]"
      ]
     },
     "metadata": {},
     "output_type": "display_data"
    },
    {
     "name": "stdout",
     "output_type": "stream",
     "text": [
      "INFO: Pandarallel will run on 1 workers.\n",
      "INFO: Pandarallel will use standard multiprocessing data transfer (pipe) to transfer data between the main process and workers.\n"
     ]
    },
    {
     "data": {
      "application/vnd.jupyter.widget-view+json": {
       "model_id": "e9e2ece949814564b8947a55a8244fba",
       "version_major": 2,
       "version_minor": 0
      },
      "text/plain": [
       "VBox(children=(HBox(children=(IntProgress(value=0, description='0.00%', max=70747), Label(value='0 / 70747')))…"
      ]
     },
     "metadata": {},
     "output_type": "display_data"
    },
    {
     "name": "stdout",
     "output_type": "stream",
     "text": [
      "unknown cond wildtype at sites: [],\n",
      "dropping: 0 variantswhich have mutations at those sites.\n"
     ]
    },
    {
     "data": {
      "application/vnd.jupyter.widget-view+json": {
       "model_id": "96a6543165e9423787cb691c08720d90",
       "version_major": 2,
       "version_minor": 0
      },
      "text/plain": [
       "VBox(children=(HBox(children=(IntProgress(value=0, description='0.00%', max=70747), Label(value='0 / 70747')))…"
      ]
     },
     "metadata": {},
     "output_type": "display_data"
    },
    {
     "name": "stdout",
     "output_type": "stream",
     "text": [
      "invalid non-identical-sites: [], dropping 0 variants\n",
      "Converting mutations for Both_B1T1-vs-B1T2\n",
      "is reference, skipping\n"
     ]
    }
   ],
   "source": [
    "data = multidms.Data(\n",
    "    variants_df=func_scores_df,\n",
    "    reference=selection,\n",
    "    alphabet=multidms.AAS_WITHSTOP_WITHGAP,\n",
    "    collapse_identical_variants=global_epistasis_params[\"collapse_identical_variants\"],\n",
    "    letter_suffixed_sites=True,\n",
    "    verbose=True,\n",
    "    nb_workers=threads,\n",
    "    assert_site_integrity=True,\n",
    ")"
   ]
  },
  {
   "cell_type": "markdown",
   "id": "56950b43-89da-4661-a925-3685c3a943a8",
   "metadata": {
    "papermill": {
     "duration": 0.002014,
     "end_time": "2023-11-19T23:06:36.994365",
     "exception": false,
     "start_time": "2023-11-19T23:06:36.992351",
     "status": "completed"
    },
    "tags": []
   },
   "source": [
    "Now initialize the `multidms` model and fit it:"
   ]
  },
  {
   "cell_type": "code",
   "execution_count": 6,
   "id": "bd05a910-e212-49e8-b1e8-343ea405567b",
   "metadata": {
    "execution": {
     "iopub.execute_input": "2023-11-19T23:06:37.001678Z",
     "iopub.status.busy": "2023-11-19T23:06:37.001395Z",
     "iopub.status.idle": "2023-11-19T23:06:42.217522Z",
     "shell.execute_reply": "2023-11-19T23:06:42.216883Z"
    },
    "papermill": {
     "duration": 5.222483,
     "end_time": "2023-11-19T23:06:42.218803",
     "exception": false,
     "start_time": "2023-11-19T23:06:36.996320",
     "status": "completed"
    },
    "tags": []
   },
   "outputs": [],
   "source": [
    "# initialize with default params, which give sigmoid global epistasis function\n",
    "model = multidms.Model(data)\n",
    "\n",
    "model.fit()"
   ]
  },
  {
   "cell_type": "markdown",
   "id": "946007e7-51e4-486a-b497-60871c1b0776",
   "metadata": {
    "papermill": {
     "duration": 0.002032,
     "end_time": "2023-11-19T23:06:42.223189",
     "exception": false,
     "start_time": "2023-11-19T23:06:42.221157",
     "status": "completed"
    },
    "tags": []
   },
   "source": [
    "Look at accuracy of predictions and the global epistasis fit:"
   ]
  },
  {
   "cell_type": "code",
   "execution_count": 7,
   "id": "f489280a-0f99-4782-9fcd-01c071255cd5",
   "metadata": {
    "execution": {
     "iopub.execute_input": "2023-11-19T23:06:42.228186Z",
     "iopub.status.busy": "2023-11-19T23:06:42.228015Z",
     "iopub.status.idle": "2023-11-19T23:06:44.616467Z",
     "shell.execute_reply": "2023-11-19T23:06:44.615856Z"
    },
    "papermill": {
     "duration": 2.392521,
     "end_time": "2023-11-19T23:06:44.617730",
     "exception": false,
     "start_time": "2023-11-19T23:06:42.225209",
     "status": "completed"
    },
    "tags": []
   },
   "outputs": [
    {
     "data": {
      "image/png": "[encoded data removed]",
      "text/plain": [
       "<Figure size 800x400 with 2 Axes>"
      ]
     },
     "metadata": {},
     "output_type": "display_data"
    }
   ],
   "source": [
    "fig, ax = plt.subplots(1, 2, figsize=[8, 4])\n",
    "model.plot_epistasis(ax=ax[1], alpha=0.1, show=False, legend=False)\n",
    "model.plot_pred_accuracy(ax=ax[0], alpha=0.1, show=False, legend=False)\n",
    "ax[1].set_title(\"Global epistasis fit\")\n",
    "ax[0].set_title(\"Training set accuracy\")\n",
    "plt.show()"
   ]
  },
  {
   "cell_type": "markdown",
   "id": "5d106ebe-0540-4a8f-83fa-c90b56ef1ebc",
   "metadata": {
    "papermill": {
     "duration": 0.002916,
     "end_time": "2023-11-19T23:06:44.623848",
     "exception": false,
     "start_time": "2023-11-19T23:06:44.620932",
     "status": "completed"
    },
    "tags": []
   },
   "source": [
    "Plot the distribution of latent phenotype functional scores with a few different cutoffs on `times_seen` (the number of variants in which a mutaiton is seen):"
   ]
  },
  {
   "cell_type": "code",
   "execution_count": 8,
   "id": "0c0cc7ec-d874-4cc0-ab2b-04e9a94ce940",
   "metadata": {
    "execution": {
     "iopub.execute_input": "2023-11-19T23:06:44.636245Z",
     "iopub.status.busy": "2023-11-19T23:06:44.634154Z",
     "iopub.status.idle": "2023-11-19T23:06:48.824934Z",
     "shell.execute_reply": "2023-11-19T23:06:48.823704Z"
    },
    "papermill": {
     "duration": 4.200582,
     "end_time": "2023-11-19T23:06:48.827454",
     "exception": false,
     "start_time": "2023-11-19T23:06:44.626872",
     "status": "completed"
    },
    "tags": []
   },
   "outputs": [
    {
     "data": {
      "image/png": "[encoded data removed]",
      "text/plain": [
       "<Figure size 700x800 with 3 Axes>"
      ]
     },
     "metadata": {},
     "output_type": "display_data"
    }
   ],
   "source": [
    "fig, axes = plt.subplots(3, 1, figsize=[7, 8])\n",
    "for times_seen, ax in zip([1, 3, 5], axes):\n",
    "    model.plot_param_hist(\"beta\", ax=ax, show=False, times_seen_threshold=times_seen)\n",
    "    ax.legend()\n",
    "    ax.set_title(\n",
    "        f\"Latent-phenotype effects of mutations with times_seen >= {times_seen}\"\n",
    "    )\n",
    "plt.tight_layout()\n",
    "plt.show()"
   ]
  },
  {
   "cell_type": "markdown",
   "id": "0c329339-a135-47e0-8780-78870e358df0",
   "metadata": {
    "execution": {
     "iopub.execute_input": "2023-07-10T10:42:28.100776Z",
     "iopub.status.busy": "2023-07-10T10:42:28.100457Z",
     "iopub.status.idle": "2023-07-10T10:42:28.109737Z",
     "shell.execute_reply": "2023-07-10T10:42:28.109042Z",
     "shell.execute_reply.started": "2023-07-10T10:42:28.100758Z"
    },
    "papermill": {
     "duration": 0.003597,
     "end_time": "2023-11-19T23:06:48.835050",
     "exception": false,
     "start_time": "2023-11-19T23:06:48.831453",
     "status": "completed"
    },
    "tags": []
   },
   "source": [
    "Get the effect of each mutation on the latent phenotype observed phenotype of the functional score (which we simply call the \"functional effect\" of the mutation):"
   ]
  },
  {
   "cell_type": "code",
   "execution_count": 9,
   "id": "e130655f-b10a-45c9-bfed-6e26af440db8",
   "metadata": {
    "execution": {
     "iopub.execute_input": "2023-11-19T23:06:48.846542Z",
     "iopub.status.busy": "2023-11-19T23:06:48.844346Z",
     "iopub.status.idle": "2023-11-19T23:06:49.823996Z",
     "shell.execute_reply": "2023-11-19T23:06:49.821711Z"
    },
    "papermill": {
     "duration": 0.986699,
     "end_time": "2023-11-19T23:06:49.825144",
     "exception": false,
     "start_time": "2023-11-19T23:06:48.838445",
     "status": "completed"
    },
    "tags": []
   },
   "outputs": [
    {
     "data": {
      "text/html": [
       "<div>\n",
       "<style scoped>\n",
       "    .dataframe tbody tr th:only-of-type {\n",
       "        vertical-align: middle;\n",
       "    }\n",
       "\n",
       "    .dataframe tbody tr th {\n",
       "        vertical-align: top;\n",
       "    }\n",
       "\n",
       "    .dataframe thead th {\n",
       "        text-align: right;\n",
       "    }\n",
       "</style>\n",
       "<table border=\"1\" class=\"dataframe\">\n",
       "  <thead>\n",
       "    <tr style=\"text-align: right;\">\n",
       "      <th></th>\n",
       "      <th>wildtype</th>\n",
       "      <th>site</th>\n",
       "      <th>mutant</th>\n",
       "      <th>times_seen</th>\n",
       "      <th>latent_phenotype_effect</th>\n",
       "      <th>functional_effect</th>\n",
       "    </tr>\n",
       "  </thead>\n",
       "  <tbody>\n",
       "    <tr>\n",
       "      <th>0</th>\n",
       "      <td>M</td>\n",
       "      <td>1</td>\n",
       "      <td>I</td>\n",
       "      <td>1.0</td>\n",
       "      <td>0.987069</td>\n",
       "      <td>0.058388</td>\n",
       "    </tr>\n",
       "    <tr>\n",
       "      <th>1</th>\n",
       "      <td>M</td>\n",
       "      <td>1</td>\n",
       "      <td>M</td>\n",
       "      <td>NaN</td>\n",
       "      <td>0.000000</td>\n",
       "      <td>0.000000</td>\n",
       "    </tr>\n",
       "    <tr>\n",
       "      <th>2</th>\n",
       "      <td>M</td>\n",
       "      <td>1</td>\n",
       "      <td>T</td>\n",
       "      <td>2.0</td>\n",
       "      <td>0.439826</td>\n",
       "      <td>0.032531</td>\n",
       "    </tr>\n",
       "    <tr>\n",
       "      <th>3</th>\n",
       "      <td>L</td>\n",
       "      <td>10</td>\n",
       "      <td>I</td>\n",
       "      <td>41.0</td>\n",
       "      <td>0.285326</td>\n",
       "      <td>0.022533</td>\n",
       "    </tr>\n",
       "    <tr>\n",
       "      <th>4</th>\n",
       "      <td>L</td>\n",
       "      <td>10</td>\n",
       "      <td>L</td>\n",
       "      <td>NaN</td>\n",
       "      <td>0.000000</td>\n",
       "      <td>0.000000</td>\n",
       "    </tr>\n",
       "    <tr>\n",
       "      <th>...</th>\n",
       "      <td>...</td>\n",
       "      <td>...</td>\n",
       "      <td>...</td>\n",
       "      <td>...</td>\n",
       "      <td>...</td>\n",
       "      <td>...</td>\n",
       "    </tr>\n",
       "    <tr>\n",
       "      <th>8763</th>\n",
       "      <td>G</td>\n",
       "      <td>999</td>\n",
       "      <td>C</td>\n",
       "      <td>8.0</td>\n",
       "      <td>0.504075</td>\n",
       "      <td>0.036291</td>\n",
       "    </tr>\n",
       "    <tr>\n",
       "      <th>8764</th>\n",
       "      <td>G</td>\n",
       "      <td>999</td>\n",
       "      <td>D</td>\n",
       "      <td>7.0</td>\n",
       "      <td>0.554416</td>\n",
       "      <td>0.039085</td>\n",
       "    </tr>\n",
       "    <tr>\n",
       "      <th>8765</th>\n",
       "      <td>G</td>\n",
       "      <td>999</td>\n",
       "      <td>G</td>\n",
       "      <td>NaN</td>\n",
       "      <td>0.000000</td>\n",
       "      <td>0.000000</td>\n",
       "    </tr>\n",
       "    <tr>\n",
       "      <th>8766</th>\n",
       "      <td>G</td>\n",
       "      <td>999</td>\n",
       "      <td>S</td>\n",
       "      <td>3.0</td>\n",
       "      <td>2.386355</td>\n",
       "      <td>0.086127</td>\n",
       "    </tr>\n",
       "    <tr>\n",
       "      <th>8767</th>\n",
       "      <td>G</td>\n",
       "      <td>999</td>\n",
       "      <td>V</td>\n",
       "      <td>1.0</td>\n",
       "      <td>-1.297791</td>\n",
       "      <td>-0.203107</td>\n",
       "    </tr>\n",
       "  </tbody>\n",
       "</table>\n",
       "<p>8768 rows × 6 columns</p>\n",
       "</div>"
      ],
      "text/plain": [
       "     wildtype site mutant  times_seen  latent_phenotype_effect  \\\n",
       "0           M    1      I         1.0                 0.987069   \n",
       "1           M    1      M         NaN                 0.000000   \n",
       "2           M    1      T         2.0                 0.439826   \n",
       "3           L   10      I        41.0                 0.285326   \n",
       "4           L   10      L         NaN                 0.000000   \n",
       "...       ...  ...    ...         ...                      ...   \n",
       "8763        G  999      C         8.0                 0.504075   \n",
       "8764        G  999      D         7.0                 0.554416   \n",
       "8765        G  999      G         NaN                 0.000000   \n",
       "8766        G  999      S         3.0                 2.386355   \n",
       "8767        G  999      V         1.0                -1.297791   \n",
       "\n",
       "      functional_effect  \n",
       "0              0.058388  \n",
       "1              0.000000  \n",
       "2              0.032531  \n",
       "3              0.022533  \n",
       "4              0.000000  \n",
       "...                 ...  \n",
       "8763           0.036291  \n",
       "8764           0.039085  \n",
       "8765           0.000000  \n",
       "8766           0.086127  \n",
       "8767          -0.203107  \n",
       "\n",
       "[8768 rows x 6 columns]"
      ]
     },
     "execution_count": 9,
     "metadata": {},
     "output_type": "execute_result"
    }
   ],
   "source": [
    "mut_effects = (\n",
    "    pd.concat(\n",
    "        [\n",
    "            # get mutant effects\n",
    "            (\n",
    "                model.get_mutations_df(phenotype_as_effect=True).rename(\n",
    "                    columns={\n",
    "                        f\"times_seen_{selection}\": \"times_seen\",\n",
    "                        \"wts\": \"wildtype\",\n",
    "                        \"sites\": \"site\",\n",
    "                        \"muts\": \"mutant\",\n",
    "                        f\"{selection}_predicted_func_score\": \"functional_effect\",\n",
    "                        \"beta\": \"latent_phenotype_effect\",\n",
    "                    }\n",
    "                )\n",
    "            ),\n",
    "            # add wildtypes, which all have effects of 0\n",
    "            pd.DataFrame(\n",
    "                {\n",
    "                    \"site\": data.site_map.index,\n",
    "                    \"wildtype\": data.site_map[selection],\n",
    "                    \"mutant\": data.site_map[selection],\n",
    "                    \"latent_phenotype_effect\": 0,\n",
    "                    \"functional_effect\": 0,\n",
    "                }\n",
    "            ),\n",
    "        ],\n",
    "    )\n",
    "    .sort_values([\"site\", \"mutant\"])\n",
    "    .reset_index(drop=True)\n",
    ")\n",
    "\n",
    "mut_effects"
   ]
  },
  {
   "cell_type": "markdown",
   "id": "82a2bd60-81d3-4f0d-83d9-5192d66fabfd",
   "metadata": {
    "execution": {
     "iopub.execute_input": "2023-07-10T12:36:30.196511Z",
     "iopub.status.busy": "2023-07-10T12:36:30.195988Z",
     "iopub.status.idle": "2023-07-10T12:36:30.204730Z",
     "shell.execute_reply": "2023-07-10T12:36:30.203786Z",
     "shell.execute_reply.started": "2023-07-10T12:36:30.196479Z"
    },
    "papermill": {
     "duration": 0.003334,
     "end_time": "2023-11-19T23:06:49.832065",
     "exception": false,
     "start_time": "2023-11-19T23:06:49.828731",
     "status": "completed"
    },
    "tags": []
   },
   "source": [
    "Write the mutational effects to a file:"
   ]
  },
  {
   "cell_type": "code",
   "execution_count": 10,
   "id": "7701f560-b8b0-41db-9a1e-6cab08f57c75",
   "metadata": {
    "execution": {
     "iopub.execute_input": "2023-11-19T23:06:49.839709Z",
     "iopub.status.busy": "2023-11-19T23:06:49.839521Z",
     "iopub.status.idle": "2023-11-19T23:06:49.881634Z",
     "shell.execute_reply": "2023-11-19T23:06:49.873003Z"
    },
    "papermill": {
     "duration": 0.047765,
     "end_time": "2023-11-19T23:06:49.883156",
     "exception": false,
     "start_time": "2023-11-19T23:06:49.835391",
     "status": "completed"
    },
    "tags": []
   },
   "outputs": [
    {
     "name": "stdout",
     "output_type": "stream",
     "text": [
      "Writing the mutational effects to results/func_effects/by_selection/Both_B1T1-vs-B1T2_func_effects.csv\n"
     ]
    }
   ],
   "source": [
    "print(f\"Writing the mutational effects to {func_effects}\")\n",
    "\n",
    "mut_effects.to_csv(func_effects, index=False, float_format=\"%.4g\")"
   ]
  }
 ],
 "metadata": {
  "kernelspec": {
   "display_name": "Python 3 (ipykernel)",
   "language": "python",
   "name": "python3"
  },
  "language_info": {
   "codemirror_mode": {
    "name": "ipython",
    "version": 3
   },
   "file_extension": ".py",
   "mimetype": "text/x-python",
   "name": "python",
   "nbconvert_exporter": "python",
   "pygments_lexer": "ipython3",
   "version": "3.11.6"
  },
  "papermill": {
   "default_parameters": {},
   "duration": 25.86637,
   "end_time": "2023-11-19T23:06:52.520149",
   "environment_variables": {},
   "exception": null,
   "input_path": "dms-vep-pipeline-3/notebooks/func_effects_global_epistasis.ipynb",
   "output_path": "results/notebooks/func_effects_global_epistasis_Both_B1T1-vs-B1T2.ipynb",
   "parameters": {
    "func_effects": "results/func_effects/by_selection/Both_B1T1-vs-B1T2_func_effects.csv",
    "func_scores": "results/func_scores/Both_B1T1-vs-B1T2_func_scores.csv",
    "global_epistasis_params": {
     "clip_lower": "median_stop",
     "clip_upper": null,
     "collapse_identical_variants": false
    },
    "selection": "Both_B1T1-vs-B1T2",
    "threads": 1
   },
   "start_time": "2023-11-19T23:06:26.653779",
   "version": "2.4.0"
  },
  "widgets": {
   "application/vnd.jupyter.widget-state+json": {
    "state": {
     "08e0bb6c4b9741e0a12596c43bc6a22f": {
      "model_module": "@jupyter-widgets/controls",
      "model_module_version": "2.0.0",
      "model_name": "FloatProgressModel",
      "state": {
       "_dom_classes": [],
       "_model_module": "@jupyter-widgets/controls",
       "_model_module_version": "2.0.0",
       "_model_name": "FloatProgressModel",
       "_view_count": null,
       "_view_module": "@jupyter-widgets/controls",
       "_view_module_version": "2.0.0",
       "_view_name": "ProgressView",
       "bar_style": "success",
       "description": "",
       "description_allow_html": false,
       "layout": "IPY_MODEL_9b639c6a7c554698b1ffffc35adbaa98",
       "max": 70747.0,
       "min": 0.0,
       "orientation": "horizontal",
       "style": "IPY_MODEL_bbf4e463c75f4a4a9e7a7a5ddb20dfa4",
       "tabbable": null,
       "tooltip": null,
       "value": 70747.0
      }
     },
     "141e30c180b4426faa67c1ce802eed06": {
      "model_module": "@jupyter-widgets/base",
      "model_module_version": "2.0.0",
      "model_name": "LayoutModel",
      "state": {
       "_model_module": "@jupyter-widgets/base",
       "_model_module_version": "2.0.0",
       "_model_name": "LayoutModel",
       "_view_count": null,
       "_view_module": "@jupyter-widgets/base",
       "_view_module_version": "2.0.0",
       "_view_name": "LayoutView",
       "align_content": null,
       "align_items": null,
       "align_self": null,
       "border_bottom": null,
       "border_left": null,
       "border_right": null,
       "border_top": null,
       "bottom": null,
       "display": null,
       "flex": null,
       "flex_flow": null,
       "grid_area": null,
       "grid_auto_columns": null,
       "grid_auto_flow": null,
       "grid_auto_rows": null,
       "grid_column": null,
       "grid_gap": null,
       "grid_row": null,
       "grid_template_areas": null,
       "grid_template_columns": null,
       "grid_template_rows": null,
       "height": null,
       "justify_content": null,
       "justify_items": null,
       "left": null,
       "margin": null,
       "max_height": null,
       "max_width": null,
       "min_height": null,
       "min_width": null,
       "object_fit": null,
       "object_position": null,
       "order": null,
       "overflow": null,
       "padding": null,
       "right": null,
       "top": null,
       "visibility": null,
       "width": null
      }
     },
     "188735ef7f0f496ba381f61cb1382cc3": {
      "model_module": "@jupyter-widgets/base",
      "model_module_version": "2.0.0",
      "model_name": "LayoutModel",
      "state": {
       "_model_module": "@jupyter-widgets/base",
       "_model_module_version": "2.0.0",
       "_model_name": "LayoutModel",
       "_view_count": null,
       "_view_module": "@jupyter-widgets/base",
       "_view_module_version": "2.0.0",
       "_view_name": "LayoutView",
       "align_content": null,
       "align_items": null,
       "align_self": null,
       "border_bottom": null,
       "border_left": null,
       "border_right": null,
       "border_top": null,
       "bottom": null,
       "display": null,
       "flex": null,
       "flex_flow": null,
       "grid_area": null,
       "grid_auto_columns": null,
       "grid_auto_flow": null,
       "grid_auto_rows": null,
       "grid_column": null,
       "grid_gap": null,
       "grid_row": null,
       "grid_template_areas": null,
       "grid_template_columns": null,
       "grid_template_rows": null,
       "height": null,
       "justify_content": null,
       "justify_items": null,
       "left": null,
       "margin": null,
       "max_height": null,
       "max_width": null,
       "min_height": null,
       "min_width": null,
       "object_fit": null,
       "object_position": null,
       "order": null,
       "overflow": null,
       "padding": null,
       "right": null,
       "top": null,
       "visibility": null,
       "width": null
      }
     },
     "19220d92a4de4ca1908ede88a22d67ff": {
      "model_module": "@jupyter-widgets/base",
      "model_module_version": "2.0.0",
      "model_name": "LayoutModel",
      "state": {
       "_model_module": "@jupyter-widgets/base",
       "_model_module_version": "2.0.0",
       "_model_name": "LayoutModel",
       "_view_count": null,
       "_view_module": "@jupyter-widgets/base",
       "_view_module_version": "2.0.0",
       "_view_name": "LayoutView",
       "align_content": null,
       "align_items": null,
       "align_self": null,
       "border_bottom": null,
       "border_left": null,
       "border_right": null,
       "border_top": null,
       "bottom": null,
       "display": null,
       "flex": null,
       "flex_flow": null,
       "grid_area": null,
       "grid_auto_columns": null,
       "grid_auto_flow": null,
       "grid_auto_rows": null,
       "grid_column": null,
       "grid_gap": null,
       "grid_row": null,
       "grid_template_areas": null,
       "grid_template_columns": null,
       "grid_template_rows": null,
       "height": null,
       "justify_content": null,
       "justify_items": null,
       "left": null,
       "margin": null,
       "max_height": null,
       "max_width": null,
       "min_height": null,
       "min_width": null,
       "object_fit": null,
       "object_position": null,
       "order": null,
       "overflow": null,
       "padding": null,
       "right": null,
       "top": null,
       "visibility": null,
       "width": null
      }
     },
     "291c8c3d329e4a4ab79ab88192d6dfe6": {
      "model_module": "@jupyter-widgets/base",
      "model_module_version": "2.0.0",
      "model_name": "LayoutModel",
      "state": {
       "_model_module": "@jupyter-widgets/base",
       "_model_module_version": "2.0.0",
       "_model_name": "LayoutModel",
       "_view_count": null,
       "_view_module": "@jupyter-widgets/base",
       "_view_module_version": "2.0.0",
       "_view_name": "LayoutView",
       "align_content": null,
       "align_items": null,
       "align_self": null,
       "border_bottom": null,
       "border_left": null,
       "border_right": null,
       "border_top": null,
       "bottom": null,
       "display": null,
       "flex": null,
       "flex_flow": null,
       "grid_area": null,
       "grid_auto_columns": null,
       "grid_auto_flow": null,
       "grid_auto_rows": null,
       "grid_column": null,
       "grid_gap": null,
       "grid_row": null,
       "grid_template_areas": null,
       "grid_template_columns": null,
       "grid_template_rows": null,
       "height": null,
       "justify_content": null,
       "justify_items": null,
       "left": null,
       "margin": null,
       "max_height": null,
       "max_width": null,
       "min_height": null,
       "min_width": null,
       "object_fit": null,
       "object_position": null,
       "order": null,
       "overflow": null,
       "padding": null,
       "right": null,
       "top": null,
       "visibility": null,
       "width": null
      }
     },
     "29bff6afd8644cc99cbeed8f5a62bb59": {
      "model_module": "@jupyter-widgets/base",
      "model_module_version": "2.0.0",
      "model_name": "LayoutModel",
      "state": {
       "_model_module": "@jupyter-widgets/base",
       "_model_module_version": "2.0.0",
       "_model_name": "LayoutModel",
       "_view_count": null,
       "_view_module": "@jupyter-widgets/base",
       "_view_module_version": "2.0.0",
       "_view_name": "LayoutView",
       "align_content": null,
       "align_items": null,
       "align_self": null,
       "border_bottom": null,
       "border_left": null,
       "border_right": null,
       "border_top": null,
       "bottom": null,
       "display": null,
       "flex": null,
       "flex_flow": null,
       "grid_area": null,
       "grid_auto_columns": null,
       "grid_auto_flow": null,
       "grid_auto_rows": null,
       "grid_column": null,
       "grid_gap": null,
       "grid_row": null,
       "grid_template_areas": null,
       "grid_template_columns": null,
       "grid_template_rows": null,
       "height": null,
       "justify_content": null,
       "justify_items": null,
       "left": null,
       "margin": null,
       "max_height": null,
       "max_width": null,
       "min_height": null,
       "min_width": null,
       "object_fit": null,
       "object_position": null,
       "order": null,
       "overflow": null,
       "padding": null,
       "right": null,
       "top": null,
       "visibility": null,
       "width": null
      }
     },
     "2e83d746d96e45a7a95abfb2e2f4edc8": {
      "model_module": "@jupyter-widgets/base",
      "model_module_version": "2.0.0",
      "model_name": "LayoutModel",
      "state": {
       "_model_module": "@jupyter-widgets/base",
       "_model_module_version": "2.0.0",
       "_model_name": "LayoutModel",
       "_view_count": null,
       "_view_module": "@jupyter-widgets/base",
       "_view_module_version": "2.0.0",
       "_view_name": "LayoutView",
       "align_content": null,
       "align_items": null,
       "align_self": null,
       "border_bottom": null,
       "border_left": null,
       "border_right": null,
       "border_top": null,
       "bottom": null,
       "display": null,
       "flex": null,
       "flex_flow": null,
       "grid_area": null,
       "grid_auto_columns": null,
       "grid_auto_flow": null,
       "grid_auto_rows": null,
       "grid_column": null,
       "grid_gap": null,
       "grid_row": null,
       "grid_template_areas": null,
       "grid_template_columns": null,
       "grid_template_rows": null,
       "height": null,
       "justify_content": null,
       "justify_items": null,
       "left": null,
       "margin": null,
       "max_height": null,
       "max_width": null,
       "min_height": null,
       "min_width": null,
       "object_fit": null,
       "object_position": null,
       "order": null,
       "overflow": null,
       "padding": null,
       "right": null,
       "top": null,
       "visibility": null,
       "width": null
      }
     },
     "31285caac9dd4108a6699451253826e6": {
      "model_module": "@jupyter-widgets/controls",
      "model_module_version": "2.0.0",
      "model_name": "LabelModel",
      "state": {
       "_dom_classes": [],
       "_model_module": "@jupyter-widgets/controls",
       "_model_module_version": "2.0.0",
       "_model_name": "LabelModel",
       "_view_count": null,
       "_view_module": "@jupyter-widgets/controls",
       "_view_module_version": "2.0.0",
       "_view_name": "LabelView",
       "description": "",
       "description_allow_html": false,
       "layout": "IPY_MODEL_29bff6afd8644cc99cbeed8f5a62bb59",
       "placeholder": "​",
       "style": "IPY_MODEL_37a2ea1ef8e04e959e90920d7a289353",
       "tabbable": null,
       "tooltip": null,
       "value": "70747 / 70747"
      }
     },
     "32793dde77964a96a0ce64370804a78e": {
      "model_module": "@jupyter-widgets/controls",
      "model_module_version": "2.0.0",
      "model_name": "HTMLStyleModel",
      "state": {
       "_model_module": "@jupyter-widgets/controls",
       "_model_module_version": "2.0.0",
       "_model_name": "HTMLStyleModel",
       "_view_count": null,
       "_view_module": "@jupyter-widgets/base",
       "_view_module_version": "2.0.0",
       "_view_name": "StyleView",
       "background": null,
       "description_width": "",
       "font_size": null,
       "text_color": null
      }
     },
     "32a4cff1afba45f0a8e691e9867b7b30": {
      "model_module": "@jupyter-widgets/controls",
      "model_module_version": "2.0.0",
      "model_name": "ProgressStyleModel",
      "state": {
       "_model_module": "@jupyter-widgets/controls",
       "_model_module_version": "2.0.0",
       "_model_name": "ProgressStyleModel",
       "_view_count": null,
       "_view_module": "@jupyter-widgets/base",
       "_view_module_version": "2.0.0",
       "_view_name": "StyleView",
       "bar_color": null,
       "description_width": ""
      }
     },
     "36bdd7bc27be4740b35e2e3b27447ba4": {
      "model_module": "@jupyter-widgets/controls",
      "model_module_version": "2.0.0",
      "model_name": "HTMLModel",
      "state": {
       "_dom_classes": [],
       "_model_module": "@jupyter-widgets/controls",
       "_model_module_version": "2.0.0",
       "_model_name": "HTMLModel",
       "_view_count": null,
       "_view_module": "@jupyter-widgets/controls",
       "_view_module_version": "2.0.0",
       "_view_name": "HTMLView",
       "description": "",
       "description_allow_html": false,
       "layout": "IPY_MODEL_d4fc0bd6ffe049ce84360d326cddf016",
       "placeholder": "​",
       "style": "IPY_MODEL_e1539086bd284594b7675906a1befed7",
       "tabbable": null,
       "tooltip": null,
       "value": "100%"
      }
     },
     "37a2ea1ef8e04e959e90920d7a289353": {
      "model_module": "@jupyter-widgets/controls",
      "model_module_version": "2.0.0",
      "model_name": "LabelStyleModel",
      "state": {
       "_model_module": "@jupyter-widgets/controls",
       "_model_module_version": "2.0.0",
       "_model_name": "LabelStyleModel",
       "_view_count": null,
       "_view_module": "@jupyter-widgets/base",
       "_view_module_version": "2.0.0",
       "_view_name": "StyleView",
       "background": null,
       "description_width": "",
       "font_family": null,
       "font_size": null,
       "font_style": null,
       "font_variant": null,
       "font_weight": null,
       "text_color": null,
       "text_decoration": null
      }
     },
     "3df3bcba8386444db53bc96d0bd45879": {
      "model_module": "@jupyter-widgets/base",
      "model_module_version": "2.0.0",
      "model_name": "LayoutModel",
      "state": {
       "_model_module": "@jupyter-widgets/base",
       "_model_module_version": "2.0.0",
       "_model_name": "LayoutModel",
       "_view_count": null,
       "_view_module": "@jupyter-widgets/base",
       "_view_module_version": "2.0.0",
       "_view_name": "LayoutView",
       "align_content": null,
       "align_items": null,
       "align_self": null,
       "border_bottom": null,
       "border_left": null,
       "border_right": null,
       "border_top": null,
       "bottom": null,
       "display": null,
       "flex": null,
       "flex_flow": null,
       "grid_area": null,
       "grid_auto_columns": null,
       "grid_auto_flow": null,
       "grid_auto_rows": null,
       "grid_column": null,
       "grid_gap": null,
       "grid_row": null,
       "grid_template_areas": null,
       "grid_template_columns": null,
       "grid_template_rows": null,
       "height": null,
       "justify_content": null,
       "justify_items": null,
       "left": null,
       "margin": null,
       "max_height": null,
       "max_width": null,
       "min_height": null,
       "min_width": null,
       "object_fit": null,
       "object_position": null,
       "order": null,
       "overflow": null,
       "padding": null,
       "right": null,
       "top": null,
       "visibility": null,
       "width": null
      }
     },
     "4910c5b7b2d14fc184e8b6a856e6ff1e": {
      "model_module": "@jupyter-widgets/controls",
      "model_module_version": "2.0.0",
      "model_name": "HBoxModel",
      "state": {
       "_dom_classes": [],
       "_model_module": "@jupyter-widgets/controls",
       "_model_module_version": "2.0.0",
       "_model_name": "HBoxModel",
       "_view_count": null,
       "_view_module": "@jupyter-widgets/controls",
       "_view_module_version": "2.0.0",
       "_view_name": "HBoxView",
       "box_style": "",
       "children": [
        "IPY_MODEL_f45e702861b0497b8633c5eda82b2ea8",
        "IPY_MODEL_d6bec938ad3a48ca85f3e8234f7fd7e7"
       ],
       "layout": "IPY_MODEL_291c8c3d329e4a4ab79ab88192d6dfe6",
       "tabbable": null,
       "tooltip": null
      }
     },
     "4b4bf827a7144227b9fc8005c997b05d": {
      "model_module": "@jupyter-widgets/controls",
      "model_module_version": "2.0.0",
      "model_name": "HTMLModel",
      "state": {
       "_dom_classes": [],
       "_model_module": "@jupyter-widgets/controls",
       "_model_module_version": "2.0.0",
       "_model_name": "HTMLModel",
       "_view_count": null,
       "_view_module": "@jupyter-widgets/controls",
       "_view_module_version": "2.0.0",
       "_view_name": "HTMLView",
       "description": "",
       "description_allow_html": false,
       "layout": "IPY_MODEL_7038282647844af98d7a5fb1f9009b39",
       "placeholder": "​",
       "style": "IPY_MODEL_32793dde77964a96a0ce64370804a78e",
       "tabbable": null,
       "tooltip": null,
       "value": "100%"
      }
     },
     "4d33020869b2436cb8aa4faf92b43787": {
      "model_module": "@jupyter-widgets/base",
      "model_module_version": "2.0.0",
      "model_name": "LayoutModel",
      "state": {
       "_model_module": "@jupyter-widgets/base",
       "_model_module_version": "2.0.0",
       "_model_name": "LayoutModel",
       "_view_count": null,
       "_view_module": "@jupyter-widgets/base",
       "_view_module_version": "2.0.0",
       "_view_name": "LayoutView",
       "align_content": null,
       "align_items": null,
       "align_self": null,
       "border_bottom": null,
       "border_left": null,
       "border_right": null,
       "border_top": null,
       "bottom": null,
       "display": null,
       "flex": null,
       "flex_flow": null,
       "grid_area": null,
       "grid_auto_columns": null,
       "grid_auto_flow": null,
       "grid_auto_rows": null,
       "grid_column": null,
       "grid_gap": null,
       "grid_row": null,
       "grid_template_areas": null,
       "grid_template_columns": null,
       "grid_template_rows": null,
       "height": null,
       "justify_content": null,
       "justify_items": null,
       "left": null,
       "margin": null,
       "max_height": null,
       "max_width": null,
       "min_height": null,
       "min_width": null,
       "object_fit": null,
       "object_position": null,
       "order": null,
       "overflow": null,
       "padding": null,
       "right": null,
       "top": null,
       "visibility": null,
       "width": null
      }
     },
     "6e4c7287630e4ccea1fa6d269a087946": {
      "model_module": "@jupyter-widgets/controls",
      "model_module_version": "2.0.0",
      "model_name": "ProgressStyleModel",
      "state": {
       "_model_module": "@jupyter-widgets/controls",
       "_model_module_version": "2.0.0",
       "_model_name": "ProgressStyleModel",
       "_view_count": null,
       "_view_module": "@jupyter-widgets/base",
       "_view_module_version": "2.0.0",
       "_view_name": "StyleView",
       "bar_color": null,
       "description_width": ""
      }
     },
     "7038282647844af98d7a5fb1f9009b39": {
      "model_module": "@jupyter-widgets/base",
      "model_module_version": "2.0.0",
      "model_name": "LayoutModel",
      "state": {
       "_model_module": "@jupyter-widgets/base",
       "_model_module_version": "2.0.0",
       "_model_name": "LayoutModel",
       "_view_count": null,
       "_view_module": "@jupyter-widgets/base",
       "_view_module_version": "2.0.0",
       "_view_name": "LayoutView",
       "align_content": null,
       "align_items": null,
       "align_self": null,
       "border_bottom": null,
       "border_left": null,
       "border_right": null,
       "border_top": null,
       "bottom": null,
       "display": null,
       "flex": null,
       "flex_flow": null,
       "grid_area": null,
       "grid_auto_columns": null,
       "grid_auto_flow": null,
       "grid_auto_rows": null,
       "grid_column": null,
       "grid_gap": null,
       "grid_row": null,
       "grid_template_areas": null,
       "grid_template_columns": null,
       "grid_template_rows": null,
       "height": null,
       "justify_content": null,
       "justify_items": null,
       "left": null,
       "margin": null,
       "max_height": null,
       "max_width": null,
       "min_height": null,
       "min_width": null,
       "object_fit": null,
       "object_position": null,
       "order": null,
       "overflow": null,
       "padding": null,
       "right": null,
       "top": null,
       "visibility": null,
       "width": null
      }
     },
     "84d10ee272b34476aece3104bb4742e4": {
      "model_module": "@jupyter-widgets/base",
      "model_module_version": "2.0.0",
      "model_name": "LayoutModel",
      "state": {
       "_model_module": "@jupyter-widgets/base",
       "_model_module_version": "2.0.0",
       "_model_name": "LayoutModel",
       "_view_count": null,
       "_view_module": "@jupyter-widgets/base",
       "_view_module_version": "2.0.0",
       "_view_name": "LayoutView",
       "align_content": null,
       "align_items": null,
       "align_self": null,
       "border_bottom": null,
       "border_left": null,
       "border_right": null,
       "border_top": null,
       "bottom": null,
       "display": null,
       "flex": null,
       "flex_flow": null,
       "grid_area": null,
       "grid_auto_columns": null,
       "grid_auto_flow": null,
       "grid_auto_rows": null,
       "grid_column": null,
       "grid_gap": null,
       "grid_row": null,
       "grid_template_areas": null,
       "grid_template_columns": null,
       "grid_template_rows": null,
       "height": null,
       "justify_content": null,
       "justify_items": null,
       "left": null,
       "margin": null,
       "max_height": null,
       "max_width": null,
       "min_height": null,
       "min_width": null,
       "object_fit": null,
       "object_position": null,
       "order": null,
       "overflow": null,
       "padding": null,
       "right": null,
       "top": null,
       "visibility": null,
       "width": null
      }
     },
     "9504d303a3f642da966e69366dffbde3": {
      "model_module": "@jupyter-widgets/controls",
      "model_module_version": "2.0.0",
      "model_name": "HTMLModel",
      "state": {
       "_dom_classes": [],
       "_model_module": "@jupyter-widgets/controls",
       "_model_module_version": "2.0.0",
       "_model_name": "HTMLModel",
       "_view_count": null,
       "_view_module": "@jupyter-widgets/controls",
       "_view_module_version": "2.0.0",
       "_view_name": "HTMLView",
       "description": "",
       "description_allow_html": false,
       "layout": "IPY_MODEL_4d33020869b2436cb8aa4faf92b43787",
       "placeholder": "​",
       "style": "IPY_MODEL_da2cfb261a17476aa5030d60249f9425",
       "tabbable": null,
       "tooltip": null,
       "value": " 70747/70747 [00:02&lt;00:00, 33694.18it/s]"
      }
     },
     "96a6543165e9423787cb691c08720d90": {
      "model_module": "@jupyter-widgets/controls",
      "model_module_version": "2.0.0",
      "model_name": "VBoxModel",
      "state": {
       "_dom_classes": [],
       "_model_module": "@jupyter-widgets/controls",
       "_model_module_version": "2.0.0",
       "_model_name": "VBoxModel",
       "_view_count": null,
       "_view_module": "@jupyter-widgets/controls",
       "_view_module_version": "2.0.0",
       "_view_name": "VBoxView",
       "box_style": "",
       "children": [
        "IPY_MODEL_4910c5b7b2d14fc184e8b6a856e6ff1e"
       ],
       "layout": "IPY_MODEL_ae81222119714658988d6de2bfda7842",
       "tabbable": null,
       "tooltip": null
      }
     },
     "9b639c6a7c554698b1ffffc35adbaa98": {
      "model_module": "@jupyter-widgets/base",
      "model_module_version": "2.0.0",
      "model_name": "LayoutModel",
      "state": {
       "_model_module": "@jupyter-widgets/base",
       "_model_module_version": "2.0.0",
       "_model_name": "LayoutModel",
       "_view_count": null,
       "_view_module": "@jupyter-widgets/base",
       "_view_module_version": "2.0.0",
       "_view_name": "LayoutView",
       "align_content": null,
       "align_items": null,
       "align_self": null,
       "border_bottom": null,
       "border_left": null,
       "border_right": null,
       "border_top": null,
       "bottom": null,
       "display": null,
       "flex": null,
       "flex_flow": null,
       "grid_area": null,
       "grid_auto_columns": null,
       "grid_auto_flow": null,
       "grid_auto_rows": null,
       "grid_column": null,
       "grid_gap": null,
       "grid_row": null,
       "grid_template_areas": null,
       "grid_template_columns": null,
       "grid_template_rows": null,
       "height": null,
       "justify_content": null,
       "justify_items": null,
       "left": null,
       "margin": null,
       "max_height": null,
       "max_width": null,
       "min_height": null,
       "min_width": null,
       "object_fit": null,
       "object_position": null,
       "order": null,
       "overflow": null,
       "padding": null,
       "right": null,
       "top": null,
       "visibility": null,
       "width": null
      }
     },
     "9ca7b03755264b128cb9e1a39b01e8c5": {
      "model_module": "@jupyter-widgets/controls",
      "model_module_version": "2.0.0",
      "model_name": "HTMLStyleModel",
      "state": {
       "_model_module": "@jupyter-widgets/controls",
       "_model_module_version": "2.0.0",
       "_model_name": "HTMLStyleModel",
       "_view_count": null,
       "_view_module": "@jupyter-widgets/base",
       "_view_module_version": "2.0.0",
       "_view_name": "StyleView",
       "background": null,
       "description_width": "",
       "font_size": null,
       "text_color": null
      }
     },
     "a0feb18cedbd4edbb40d7ed34d3c0f33": {
      "model_module": "@jupyter-widgets/controls",
      "model_module_version": "2.0.0",
      "model_name": "LabelStyleModel",
      "state": {
       "_model_module": "@jupyter-widgets/controls",
       "_model_module_version": "2.0.0",
       "_model_name": "LabelStyleModel",
       "_view_count": null,
       "_view_module": "@jupyter-widgets/base",
       "_view_module_version": "2.0.0",
       "_view_name": "StyleView",
       "background": null,
       "description_width": "",
       "font_family": null,
       "font_size": null,
       "font_style": null,
       "font_variant": null,
       "font_weight": null,
       "text_color": null,
       "text_decoration": null
      }
     },
     "a5cb1087605c45abb7dc5ad1f7eb5741": {
      "model_module": "@jupyter-widgets/controls",
      "model_module_version": "2.0.0",
      "model_name": "HBoxModel",
      "state": {
       "_dom_classes": [],
       "_model_module": "@jupyter-widgets/controls",
       "_model_module_version": "2.0.0",
       "_model_name": "HBoxModel",
       "_view_count": null,
       "_view_module": "@jupyter-widgets/controls",
       "_view_module_version": "2.0.0",
       "_view_name": "HBoxView",
       "box_style": "",
       "children": [
        "IPY_MODEL_36bdd7bc27be4740b35e2e3b27447ba4",
        "IPY_MODEL_c588f08435294f21bb61a9e5ed7af980",
        "IPY_MODEL_9504d303a3f642da966e69366dffbde3"
       ],
       "layout": "IPY_MODEL_b9be6ba6b21a4561ad436e7b6a64dd3b",
       "tabbable": null,
       "tooltip": null
      }
     },
     "ae81222119714658988d6de2bfda7842": {
      "model_module": "@jupyter-widgets/base",
      "model_module_version": "2.0.0",
      "model_name": "LayoutModel",
      "state": {
       "_model_module": "@jupyter-widgets/base",
       "_model_module_version": "2.0.0",
       "_model_name": "LayoutModel",
       "_view_count": null,
       "_view_module": "@jupyter-widgets/base",
       "_view_module_version": "2.0.0",
       "_view_name": "LayoutView",
       "align_content": null,
       "align_items": null,
       "align_self": null,
       "border_bottom": null,
       "border_left": null,
       "border_right": null,
       "border_top": null,
       "bottom": null,
       "display": null,
       "flex": null,
       "flex_flow": null,
       "grid_area": null,
       "grid_auto_columns": null,
       "grid_auto_flow": null,
       "grid_auto_rows": null,
       "grid_column": null,
       "grid_gap": null,
       "grid_row": null,
       "grid_template_areas": null,
       "grid_template_columns": null,
       "grid_template_rows": null,
       "height": null,
       "justify_content": null,
       "justify_items": null,
       "left": null,
       "margin": null,
       "max_height": null,
       "max_width": null,
       "min_height": null,
       "min_width": null,
       "object_fit": null,
       "object_position": null,
       "order": null,
       "overflow": null,
       "padding": null,
       "right": null,
       "top": null,
       "visibility": null,
       "width": null
      }
     },
     "b24b4c0d29144e0b89e34169af9de196": {
      "model_module": "@jupyter-widgets/controls",
      "model_module_version": "2.0.0",
      "model_name": "ProgressStyleModel",
      "state": {
       "_model_module": "@jupyter-widgets/controls",
       "_model_module_version": "2.0.0",
       "_model_name": "ProgressStyleModel",
       "_view_count": null,
       "_view_module": "@jupyter-widgets/base",
       "_view_module_version": "2.0.0",
       "_view_name": "StyleView",
       "bar_color": null,
       "description_width": ""
      }
     },
     "b9be6ba6b21a4561ad436e7b6a64dd3b": {
      "model_module": "@jupyter-widgets/base",
      "model_module_version": "2.0.0",
      "model_name": "LayoutModel",
      "state": {
       "_model_module": "@jupyter-widgets/base",
       "_model_module_version": "2.0.0",
       "_model_name": "LayoutModel",
       "_view_count": null,
       "_view_module": "@jupyter-widgets/base",
       "_view_module_version": "2.0.0",
       "_view_name": "LayoutView",
       "align_content": null,
       "align_items": null,
       "align_self": null,
       "border_bottom": null,
       "border_left": null,
       "border_right": null,
       "border_top": null,
       "bottom": null,
       "display": null,
       "flex": null,
       "flex_flow": null,
       "grid_area": null,
       "grid_auto_columns": null,
       "grid_auto_flow": null,
       "grid_auto_rows": null,
       "grid_column": null,
       "grid_gap": null,
       "grid_row": null,
       "grid_template_areas": null,
       "grid_template_columns": null,
       "grid_template_rows": null,
       "height": null,
       "justify_content": null,
       "justify_items": null,
       "left": null,
       "margin": null,
       "max_height": null,
       "max_width": null,
       "min_height": null,
       "min_width": null,
       "object_fit": null,
       "object_position": null,
       "order": null,
       "overflow": null,
       "padding": null,
       "right": null,
       "top": null,
       "visibility": null,
       "width": null
      }
     },
     "bbf4e463c75f4a4a9e7a7a5ddb20dfa4": {
      "model_module": "@jupyter-widgets/controls",
      "model_module_version": "2.0.0",
      "model_name": "ProgressStyleModel",
      "state": {
       "_model_module": "@jupyter-widgets/controls",
       "_model_module_version": "2.0.0",
       "_model_name": "ProgressStyleModel",
       "_view_count": null,
       "_view_module": "@jupyter-widgets/base",
       "_view_module_version": "2.0.0",
       "_view_name": "StyleView",
       "bar_color": null,
       "description_width": ""
      }
     },
     "bccdbac644414114a1445282368ef47f": {
      "model_module": "@jupyter-widgets/controls",
      "model_module_version": "2.0.0",
      "model_name": "HBoxModel",
      "state": {
       "_dom_classes": [],
       "_model_module": "@jupyter-widgets/controls",
       "_model_module_version": "2.0.0",
       "_model_name": "HBoxModel",
       "_view_count": null,
       "_view_module": "@jupyter-widgets/controls",
       "_view_module_version": "2.0.0",
       "_view_name": "HBoxView",
       "box_style": "",
       "children": [
        "IPY_MODEL_4b4bf827a7144227b9fc8005c997b05d",
        "IPY_MODEL_08e0bb6c4b9741e0a12596c43bc6a22f",
        "IPY_MODEL_bd39162198f3437aaab9416d0ce87416"
       ],
       "layout": "IPY_MODEL_19220d92a4de4ca1908ede88a22d67ff",
       "tabbable": null,
       "tooltip": null
      }
     },
     "bcfa009014134c2fb27d7d0fe7da3902": {
      "model_module": "@jupyter-widgets/controls",
      "model_module_version": "2.0.0",
      "model_name": "HBoxModel",
      "state": {
       "_dom_classes": [],
       "_model_module": "@jupyter-widgets/controls",
       "_model_module_version": "2.0.0",
       "_model_name": "HBoxModel",
       "_view_count": null,
       "_view_module": "@jupyter-widgets/controls",
       "_view_module_version": "2.0.0",
       "_view_name": "HBoxView",
       "box_style": "",
       "children": [
        "IPY_MODEL_cc9bc42b10c344c290071208d97bb917",
        "IPY_MODEL_31285caac9dd4108a6699451253826e6"
       ],
       "layout": "IPY_MODEL_188735ef7f0f496ba381f61cb1382cc3",
       "tabbable": null,
       "tooltip": null
      }
     },
     "bd39162198f3437aaab9416d0ce87416": {
      "model_module": "@jupyter-widgets/controls",
      "model_module_version": "2.0.0",
      "model_name": "HTMLModel",
      "state": {
       "_dom_classes": [],
       "_model_module": "@jupyter-widgets/controls",
       "_model_module_version": "2.0.0",
       "_model_name": "HTMLModel",
       "_view_count": null,
       "_view_module": "@jupyter-widgets/controls",
       "_view_module_version": "2.0.0",
       "_view_name": "HTMLView",
       "description": "",
       "description_allow_html": false,
       "layout": "IPY_MODEL_2e83d746d96e45a7a95abfb2e2f4edc8",
       "placeholder": "​",
       "style": "IPY_MODEL_9ca7b03755264b128cb9e1a39b01e8c5",
       "tabbable": null,
       "tooltip": null,
       "value": " 70747/70747 [00:03&lt;00:00, 17996.31it/s]"
      }
     },
     "c588f08435294f21bb61a9e5ed7af980": {
      "model_module": "@jupyter-widgets/controls",
      "model_module_version": "2.0.0",
      "model_name": "FloatProgressModel",
      "state": {
       "_dom_classes": [],
       "_model_module": "@jupyter-widgets/controls",
       "_model_module_version": "2.0.0",
       "_model_name": "FloatProgressModel",
       "_view_count": null,
       "_view_module": "@jupyter-widgets/controls",
       "_view_module_version": "2.0.0",
       "_view_name": "ProgressView",
       "bar_style": "success",
       "description": "",
       "description_allow_html": false,
       "layout": "IPY_MODEL_f5328ad2b74d421d93ab748546b70746",
       "max": 70747.0,
       "min": 0.0,
       "orientation": "horizontal",
       "style": "IPY_MODEL_32a4cff1afba45f0a8e691e9867b7b30",
       "tabbable": null,
       "tooltip": null,
       "value": 70747.0
      }
     },
     "cc9bc42b10c344c290071208d97bb917": {
      "model_module": "@jupyter-widgets/controls",
      "model_module_version": "2.0.0",
      "model_name": "IntProgressModel",
      "state": {
       "_dom_classes": [],
       "_model_module": "@jupyter-widgets/controls",
       "_model_module_version": "2.0.0",
       "_model_name": "IntProgressModel",
       "_view_count": null,
       "_view_module": "@jupyter-widgets/controls",
       "_view_module_version": "2.0.0",
       "_view_name": "ProgressView",
       "bar_style": "success",
       "description": "100.00%",
       "description_allow_html": false,
       "layout": "IPY_MODEL_141e30c180b4426faa67c1ce802eed06",
       "max": 70747,
       "min": 0,
       "orientation": "horizontal",
       "style": "IPY_MODEL_b24b4c0d29144e0b89e34169af9de196",
       "tabbable": null,
       "tooltip": null,
       "value": 70747
      }
     },
     "d0a3037446df45aea59008d73a91a3f0": {
      "model_module": "@jupyter-widgets/base",
      "model_module_version": "2.0.0",
      "model_name": "LayoutModel",
      "state": {
       "_model_module": "@jupyter-widgets/base",
       "_model_module_version": "2.0.0",
       "_model_name": "LayoutModel",
       "_view_count": null,
       "_view_module": "@jupyter-widgets/base",
       "_view_module_version": "2.0.0",
       "_view_name": "LayoutView",
       "align_content": null,
       "align_items": null,
       "align_self": null,
       "border_bottom": null,
       "border_left": null,
       "border_right": null,
       "border_top": null,
       "bottom": null,
       "display": null,
       "flex": null,
       "flex_flow": null,
       "grid_area": null,
       "grid_auto_columns": null,
       "grid_auto_flow": null,
       "grid_auto_rows": null,
       "grid_column": null,
       "grid_gap": null,
       "grid_row": null,
       "grid_template_areas": null,
       "grid_template_columns": null,
       "grid_template_rows": null,
       "height": null,
       "justify_content": null,
       "justify_items": null,
       "left": null,
       "margin": null,
       "max_height": null,
       "max_width": null,
       "min_height": null,
       "min_width": null,
       "object_fit": null,
       "object_position": null,
       "order": null,
       "overflow": null,
       "padding": null,
       "right": null,
       "top": null,
       "visibility": null,
       "width": null
      }
     },
     "d4fc0bd6ffe049ce84360d326cddf016": {
      "model_module": "@jupyter-widgets/base",
      "model_module_version": "2.0.0",
      "model_name": "LayoutModel",
      "state": {
       "_model_module": "@jupyter-widgets/base",
       "_model_module_version": "2.0.0",
       "_model_name": "LayoutModel",
       "_view_count": null,
       "_view_module": "@jupyter-widgets/base",
       "_view_module_version": "2.0.0",
       "_view_name": "LayoutView",
       "align_content": null,
       "align_items": null,
       "align_self": null,
       "border_bottom": null,
       "border_left": null,
       "border_right": null,
       "border_top": null,
       "bottom": null,
       "display": null,
       "flex": null,
       "flex_flow": null,
       "grid_area": null,
       "grid_auto_columns": null,
       "grid_auto_flow": null,
       "grid_auto_rows": null,
       "grid_column": null,
       "grid_gap": null,
       "grid_row": null,
       "grid_template_areas": null,
       "grid_template_columns": null,
       "grid_template_rows": null,
       "height": null,
       "justify_content": null,
       "justify_items": null,
       "left": null,
       "margin": null,
       "max_height": null,
       "max_width": null,
       "min_height": null,
       "min_width": null,
       "object_fit": null,
       "object_position": null,
       "order": null,
       "overflow": null,
       "padding": null,
       "right": null,
       "top": null,
       "visibility": null,
       "width": null
      }
     },
     "d6bec938ad3a48ca85f3e8234f7fd7e7": {
      "model_module": "@jupyter-widgets/controls",
      "model_module_version": "2.0.0",
      "model_name": "LabelModel",
      "state": {
       "_dom_classes": [],
       "_model_module": "@jupyter-widgets/controls",
       "_model_module_version": "2.0.0",
       "_model_name": "LabelModel",
       "_view_count": null,
       "_view_module": "@jupyter-widgets/controls",
       "_view_module_version": "2.0.0",
       "_view_name": "LabelView",
       "description": "",
       "description_allow_html": false,
       "layout": "IPY_MODEL_3df3bcba8386444db53bc96d0bd45879",
       "placeholder": "​",
       "style": "IPY_MODEL_a0feb18cedbd4edbb40d7ed34d3c0f33",
       "tabbable": null,
       "tooltip": null,
       "value": "70747 / 70747"
      }
     },
     "da2cfb261a17476aa5030d60249f9425": {
      "model_module": "@jupyter-widgets/controls",
      "model_module_version": "2.0.0",
      "model_name": "HTMLStyleModel",
      "state": {
       "_model_module": "@jupyter-widgets/controls",
       "_model_module_version": "2.0.0",
       "_model_name": "HTMLStyleModel",
       "_view_count": null,
       "_view_module": "@jupyter-widgets/base",
       "_view_module_version": "2.0.0",
       "_view_name": "StyleView",
       "background": null,
       "description_width": "",
       "font_size": null,
       "text_color": null
      }
     },
     "e1539086bd284594b7675906a1befed7": {
      "model_module": "@jupyter-widgets/controls",
      "model_module_version": "2.0.0",
      "model_name": "HTMLStyleModel",
      "state": {
       "_model_module": "@jupyter-widgets/controls",
       "_model_module_version": "2.0.0",
       "_model_name": "HTMLStyleModel",
       "_view_count": null,
       "_view_module": "@jupyter-widgets/base",
       "_view_module_version": "2.0.0",
       "_view_name": "StyleView",
       "background": null,
       "description_width": "",
       "font_size": null,
       "text_color": null
      }
     },
     "e9e2ece949814564b8947a55a8244fba": {
      "model_module": "@jupyter-widgets/controls",
      "model_module_version": "2.0.0",
      "model_name": "VBoxModel",
      "state": {
       "_dom_classes": [],
       "_model_module": "@jupyter-widgets/controls",
       "_model_module_version": "2.0.0",
       "_model_name": "VBoxModel",
       "_view_count": null,
       "_view_module": "@jupyter-widgets/controls",
       "_view_module_version": "2.0.0",
       "_view_name": "VBoxView",
       "box_style": "",
       "children": [
        "IPY_MODEL_bcfa009014134c2fb27d7d0fe7da3902"
       ],
       "layout": "IPY_MODEL_84d10ee272b34476aece3104bb4742e4",
       "tabbable": null,
       "tooltip": null
      }
     },
     "f45e702861b0497b8633c5eda82b2ea8": {
      "model_module": "@jupyter-widgets/controls",
      "model_module_version": "2.0.0",
      "model_name": "IntProgressModel",
      "state": {
       "_dom_classes": [],
       "_model_module": "@jupyter-widgets/controls",
       "_model_module_version": "2.0.0",
       "_model_name": "IntProgressModel",
       "_view_count": null,
       "_view_module": "@jupyter-widgets/controls",
       "_view_module_version": "2.0.0",
       "_view_name": "ProgressView",
       "bar_style": "success",
       "description": "100.00%",
       "description_allow_html": false,
       "layout": "IPY_MODEL_d0a3037446df45aea59008d73a91a3f0",
       "max": 70747,
       "min": 0,
       "orientation": "horizontal",
       "style": "IPY_MODEL_6e4c7287630e4ccea1fa6d269a087946",
       "tabbable": null,
       "tooltip": null,
       "value": 70747
      }
     },
     "f5328ad2b74d421d93ab748546b70746": {
      "model_module": "@jupyter-widgets/base",
      "model_module_version": "2.0.0",
      "model_name": "LayoutModel",
      "state": {
       "_model_module": "@jupyter-widgets/base",
       "_model_module_version": "2.0.0",
       "_model_name": "LayoutModel",
       "_view_count": null,
       "_view_module": "@jupyter-widgets/base",
       "_view_module_version": "2.0.0",
       "_view_name": "LayoutView",
       "align_content": null,
       "align_items": null,
       "align_self": null,
       "border_bottom": null,
       "border_left": null,
       "border_right": null,
       "border_top": null,
       "bottom": null,
       "display": null,
       "flex": null,
       "flex_flow": null,
       "grid_area": null,
       "grid_auto_columns": null,
       "grid_auto_flow": null,
       "grid_auto_rows": null,
       "grid_column": null,
       "grid_gap": null,
       "grid_row": null,
       "grid_template_areas": null,
       "grid_template_columns": null,
       "grid_template_rows": null,
       "height": null,
       "justify_content": null,
       "justify_items": null,
       "left": null,
       "margin": null,
       "max_height": null,
       "max_width": null,
       "min_height": null,
       "min_width": null,
       "object_fit": null,
       "object_position": null,
       "order": null,
       "overflow": null,
       "padding": null,
       "right": null,
       "top": null,
       "visibility": null,
       "width": null
      }
     }
    },
    "version_major": 2,
    "version_minor": 0
   }
  }
 },
 "nbformat": 4,
 "nbformat_minor": 5
}