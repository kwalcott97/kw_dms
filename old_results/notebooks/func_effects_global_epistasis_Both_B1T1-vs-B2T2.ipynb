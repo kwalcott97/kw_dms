{
 "cells": [
  {
   "cell_type": "markdown",
   "id": "cd032799-f956-4da8-baad-43dff0af1046",
   "metadata": {
    "papermill": {
     "duration": 0.002908,
     "end_time": "2023-11-19T23:06:12.289906",
     "exception": false,
     "start_time": "2023-11-19T23:06:12.286998",
     "status": "completed"
    },
    "tags": []
   },
   "source": [
    "# Fit global epistasis models to functional scores for each selection to get mutation functional effects\n",
    "\n",
    "Import Python modules.\n",
    "We use `multidms` for the fitting:"
   ]
  },
  {
   "cell_type": "code",
   "execution_count": 1,
   "id": "6653d04b-720e-4959-a8d8-006ce97190b6",
   "metadata": {
    "execution": {
     "iopub.execute_input": "2023-11-19T23:06:12.296703Z",
     "iopub.status.busy": "2023-11-19T23:06:12.296456Z",
     "iopub.status.idle": "2023-11-19T23:06:13.661468Z",
     "shell.execute_reply": "2023-11-19T23:06:13.660287Z"
    },
    "papermill": {
     "duration": 1.369369,
     "end_time": "2023-11-19T23:06:13.662804",
     "exception": false,
     "start_time": "2023-11-19T23:06:12.293435",
     "status": "completed"
    },
    "tags": []
   },
   "outputs": [],
   "source": [
    "import dms_variants.codonvarianttable\n",
    "\n",
    "import matplotlib.pyplot as plt\n",
    "\n",
    "import multidms\n",
    "\n",
    "import pandas as pd"
   ]
  },
  {
   "cell_type": "markdown",
   "id": "0276731c-0a6f-4820-9edb-b61ab1e2ace8",
   "metadata": {
    "papermill": {
     "duration": 0.001444,
     "end_time": "2023-11-19T23:06:13.665997",
     "exception": false,
     "start_time": "2023-11-19T23:06:13.664553",
     "status": "completed"
    },
    "tags": []
   },
   "source": [
    "This notebook is parameterized by `papermill`.\n",
    "The next cell is tagged as `parameters` to get the passed parameters."
   ]
  },
  {
   "cell_type": "code",
   "execution_count": 2,
   "id": "9ddd6a5a-5e55-4386-872b-ad9ce2af3d19",
   "metadata": {
    "editable": true,
    "execution": {
     "iopub.execute_input": "2023-11-19T23:06:13.669872Z",
     "iopub.status.busy": "2023-11-19T23:06:13.669526Z",
     "iopub.status.idle": "2023-11-19T23:06:13.675554Z",
     "shell.execute_reply": "2023-11-19T23:06:13.674824Z"
    },
    "papermill": {
     "duration": 0.012429,
     "end_time": "2023-11-19T23:06:13.679827",
     "exception": false,
     "start_time": "2023-11-19T23:06:13.667398",
     "status": "completed"
    },
    "slideshow": {
     "slide_type": ""
    },
    "tags": [
     "parameters"
    ]
   },
   "outputs": [],
   "source": [
    "# this cell is tagged parameters for `papermill` parameterization\n",
    "selection = None\n",
    "func_scores = None\n",
    "func_effects = None\n",
    "global_epistasis_params = None\n",
    "threads = None"
   ]
  },
  {
   "cell_type": "code",
   "execution_count": 3,
   "id": "4af9ce35",
   "metadata": {
    "execution": {
     "iopub.execute_input": "2023-11-19T23:06:13.684134Z",
     "iopub.status.busy": "2023-11-19T23:06:13.683969Z",
     "iopub.status.idle": "2023-11-19T23:06:13.687758Z",
     "shell.execute_reply": "2023-11-19T23:06:13.686738Z"
    },
    "papermill": {
     "duration": 0.00937,
     "end_time": "2023-11-19T23:06:13.690868",
     "exception": false,
     "start_time": "2023-11-19T23:06:13.681498",
     "status": "completed"
    },
    "tags": [
     "injected-parameters"
    ]
   },
   "outputs": [],
   "source": [
    "# Parameters\n",
    "global_epistasis_params = {\n",
    "    \"clip_lower\": \"median_stop\",\n",
    "    \"clip_upper\": None,\n",
    "    \"collapse_identical_variants\": False,\n",
    "}\n",
    "selection = \"Both_B1T1-vs-B2T2\"\n",
    "func_scores = \"results/func_scores/Both_B1T1-vs-B2T2_func_scores.csv\"\n",
    "func_effects = \"results/func_effects/by_selection/Both_B1T1-vs-B2T2_func_effects.csv\"\n",
    "threads = 1\n"
   ]
  },
  {
   "cell_type": "markdown",
   "id": "614d381c-9100-4248-8a56-bb6d8bb15789",
   "metadata": {
    "papermill": {
     "duration": 0.001587,
     "end_time": "2023-11-19T23:06:13.695131",
     "exception": false,
     "start_time": "2023-11-19T23:06:13.693544",
     "status": "completed"
    },
    "tags": []
   },
   "source": [
    "Read and clip functional scores:"
   ]
  },
  {
   "cell_type": "code",
   "execution_count": 4,
   "id": "a2a93f3e-46f7-4a62-b10b-d1bc7fe1a30f",
   "metadata": {
    "execution": {
     "iopub.execute_input": "2023-11-19T23:06:13.698998Z",
     "iopub.status.busy": "2023-11-19T23:06:13.698829Z",
     "iopub.status.idle": "2023-11-19T23:06:13.996149Z",
     "shell.execute_reply": "2023-11-19T23:06:13.995783Z"
    },
    "papermill": {
     "duration": 0.300769,
     "end_time": "2023-11-19T23:06:13.997450",
     "exception": false,
     "start_time": "2023-11-19T23:06:13.696681",
     "status": "completed"
    },
    "tags": []
   },
   "outputs": [
    {
     "name": "stdout",
     "output_type": "stream",
     "text": [
      "No clipping on upper bound of functional scores\n",
      "Clipping lower bound of functional scores to -1.001\n"
     ]
    }
   ],
   "source": [
    "func_scores_df = (\n",
    "    pd.read_csv(func_scores, na_filter=None)\n",
    "    .assign(condition=selection)\n",
    "    .pipe(dms_variants.codonvarianttable.CodonVariantTable.classifyVariants)\n",
    ")\n",
    "\n",
    "median_stop = func_scores_df.query(\"variant_class == 'stop'\")[\"func_score\"].median()\n",
    "\n",
    "for bound in [\"upper\", \"lower\"]:\n",
    "    clip = global_epistasis_params[f\"clip_{bound}\"]\n",
    "    if clip is None:\n",
    "        print(f\"No clipping on {bound} bound of functional scores\")\n",
    "    else:\n",
    "        if clip == \"median_stop\":\n",
    "            if pd.isnull(median_stop):\n",
    "                raise ValueError(f\"{median_stop=}\")\n",
    "            clip = median_stop\n",
    "        assert isinstance(clip, (int, float)), clip\n",
    "        print(f\"Clipping {bound} bound of functional scores to {clip}\")\n",
    "        func_scores_df[\"func_score\"] = func_scores_df[\"func_score\"].clip(\n",
    "            **{bound: clip}\n",
    "        )"
   ]
  },
  {
   "cell_type": "markdown",
   "id": "e49b2327-cf48-4dbd-9788-a89a61f072fe",
   "metadata": {
    "papermill": {
     "duration": 0.001536,
     "end_time": "2023-11-19T23:06:14.000841",
     "exception": false,
     "start_time": "2023-11-19T23:06:13.999305",
     "status": "completed"
    },
    "tags": []
   },
   "source": [
    "Initialize the data for `multidms`:"
   ]
  },
  {
   "cell_type": "code",
   "execution_count": 5,
   "id": "cab4c4b4-220f-4163-8d69-1bfaa92d360f",
   "metadata": {
    "execution": {
     "iopub.execute_input": "2023-11-19T23:06:14.004666Z",
     "iopub.status.busy": "2023-11-19T23:06:14.004448Z",
     "iopub.status.idle": "2023-11-19T23:06:21.130841Z",
     "shell.execute_reply": "2023-11-19T23:06:21.130192Z"
    },
    "papermill": {
     "duration": 7.12994,
     "end_time": "2023-11-19T23:06:21.132274",
     "exception": false,
     "start_time": "2023-11-19T23:06:14.002334",
     "status": "completed"
    },
    "tags": []
   },
   "outputs": [
    {
     "name": "stdout",
     "output_type": "stream",
     "text": [
      "inferring site map for Both_B1T1-vs-B2T2\n"
     ]
    },
    {
     "data": {
      "application/vnd.jupyter.widget-view+json": {
       "model_id": "74fe4005180f44f5a3b19d0011c3e72e",
       "version_major": 2,
       "version_minor": 0
      },
      "text/plain": [
       "  0%|          | 0/69328 [00:00<?, ?it/s]"
      ]
     },
     "metadata": {},
     "output_type": "display_data"
    },
    {
     "name": "stdout",
     "output_type": "stream",
     "text": [
      "Asserting site integrity\n"
     ]
    },
    {
     "data": {
      "application/vnd.jupyter.widget-view+json": {
       "model_id": "c294e68b5d3643e4a6be7fd512df678a",
       "version_major": 2,
       "version_minor": 0
      },
      "text/plain": [
       "  0%|          | 0/69328 [00:00<?, ?it/s]"
      ]
     },
     "metadata": {},
     "output_type": "display_data"
    },
    {
     "name": "stdout",
     "output_type": "stream",
     "text": [
      "INFO: Pandarallel will run on 1 workers.\n",
      "INFO: Pandarallel will use standard multiprocessing data transfer (pipe) to transfer data between the main process and workers.\n"
     ]
    },
    {
     "data": {
      "application/vnd.jupyter.widget-view+json": {
       "model_id": "78f3c7b571fb4a0a81cd6c7979f2a047",
       "version_major": 2,
       "version_minor": 0
      },
      "text/plain": [
       "VBox(children=(HBox(children=(IntProgress(value=0, description='0.00%', max=69328), Label(value='0 / 69328')))…"
      ]
     },
     "metadata": {},
     "output_type": "display_data"
    },
    {
     "name": "stdout",
     "output_type": "stream",
     "text": [
      "unknown cond wildtype at sites: [],\n",
      "dropping: 0 variantswhich have mutations at those sites.\n"
     ]
    },
    {
     "data": {
      "application/vnd.jupyter.widget-view+json": {
       "model_id": "374692d1f27c4c12ba6b185ef26f0a7b",
       "version_major": 2,
       "version_minor": 0
      },
      "text/plain": [
       "VBox(children=(HBox(children=(IntProgress(value=0, description='0.00%', max=69328), Label(value='0 / 69328')))…"
      ]
     },
     "metadata": {},
     "output_type": "display_data"
    },
    {
     "name": "stdout",
     "output_type": "stream",
     "text": [
      "invalid non-identical-sites: [], dropping 0 variants\n",
      "Converting mutations for Both_B1T1-vs-B2T2\n",
      "is reference, skipping\n"
     ]
    }
   ],
   "source": [
    "data = multidms.Data(\n",
    "    variants_df=func_scores_df,\n",
    "    reference=selection,\n",
    "    alphabet=multidms.AAS_WITHSTOP_WITHGAP,\n",
    "    collapse_identical_variants=global_epistasis_params[\"collapse_identical_variants\"],\n",
    "    letter_suffixed_sites=True,\n",
    "    verbose=True,\n",
    "    nb_workers=threads,\n",
    "    assert_site_integrity=True,\n",
    ")"
   ]
  },
  {
   "cell_type": "markdown",
   "id": "56950b43-89da-4661-a925-3685c3a943a8",
   "metadata": {
    "papermill": {
     "duration": 0.001921,
     "end_time": "2023-11-19T23:06:21.136628",
     "exception": false,
     "start_time": "2023-11-19T23:06:21.134707",
     "status": "completed"
    },
    "tags": []
   },
   "source": [
    "Now initialize the `multidms` model and fit it:"
   ]
  },
  {
   "cell_type": "code",
   "execution_count": 6,
   "id": "bd05a910-e212-49e8-b1e8-343ea405567b",
   "metadata": {
    "execution": {
     "iopub.execute_input": "2023-11-19T23:06:21.141171Z",
     "iopub.status.busy": "2023-11-19T23:06:21.141006Z",
     "iopub.status.idle": "2023-11-19T23:06:25.420425Z",
     "shell.execute_reply": "2023-11-19T23:06:25.420064Z"
    },
    "papermill": {
     "duration": 4.283157,
     "end_time": "2023-11-19T23:06:25.421645",
     "exception": false,
     "start_time": "2023-11-19T23:06:21.138488",
     "status": "completed"
    },
    "tags": []
   },
   "outputs": [],
   "source": [
    "# initialize with default params, which give sigmoid global epistasis function\n",
    "model = multidms.Model(data)\n",
    "\n",
    "model.fit()"
   ]
  },
  {
   "cell_type": "markdown",
   "id": "946007e7-51e4-486a-b497-60871c1b0776",
   "metadata": {
    "papermill": {
     "duration": 0.001887,
     "end_time": "2023-11-19T23:06:25.425715",
     "exception": false,
     "start_time": "2023-11-19T23:06:25.423828",
     "status": "completed"
    },
    "tags": []
   },
   "source": [
    "Look at accuracy of predictions and the global epistasis fit:"
   ]
  },
  {
   "cell_type": "code",
   "execution_count": 7,
   "id": "f489280a-0f99-4782-9fcd-01c071255cd5",
   "metadata": {
    "execution": {
     "iopub.execute_input": "2023-11-19T23:06:25.430905Z",
     "iopub.status.busy": "2023-11-19T23:06:25.430759Z",
     "iopub.status.idle": "2023-11-19T23:06:27.638203Z",
     "shell.execute_reply": "2023-11-19T23:06:27.637471Z"
    },
    "papermill": {
     "duration": 2.212042,
     "end_time": "2023-11-19T23:06:27.639685",
     "exception": false,
     "start_time": "2023-11-19T23:06:25.427643",
     "status": "completed"
    },
    "tags": []
   },
   "outputs": [
    {
     "data": {
      "image/png": "[encoded data removed]",
      "text/plain": [
       "<Figure size 800x400 with 2 Axes>"
      ]
     },
     "metadata": {},
     "output_type": "display_data"
    }
   ],
   "source": [
    "fig, ax = plt.subplots(1, 2, figsize=[8, 4])\n",
    "model.plot_epistasis(ax=ax[1], alpha=0.1, show=False, legend=False)\n",
    "model.plot_pred_accuracy(ax=ax[0], alpha=0.1, show=False, legend=False)\n",
    "ax[1].set_title(\"Global epistasis fit\")\n",
    "ax[0].set_title(\"Training set accuracy\")\n",
    "plt.show()"
   ]
  },
  {
   "cell_type": "markdown",
   "id": "5d106ebe-0540-4a8f-83fa-c90b56ef1ebc",
   "metadata": {
    "papermill": {
     "duration": 0.00264,
     "end_time": "2023-11-19T23:06:27.645216",
     "exception": false,
     "start_time": "2023-11-19T23:06:27.642576",
     "status": "completed"
    },
    "tags": []
   },
   "source": [
    "Plot the distribution of latent phenotype functional scores with a few different cutoffs on `times_seen` (the number of variants in which a mutaiton is seen):"
   ]
  },
  {
   "cell_type": "code",
   "execution_count": 8,
   "id": "0c0cc7ec-d874-4cc0-ab2b-04e9a94ce940",
   "metadata": {
    "execution": {
     "iopub.execute_input": "2023-11-19T23:06:27.652712Z",
     "iopub.status.busy": "2023-11-19T23:06:27.651989Z",
     "iopub.status.idle": "2023-11-19T23:06:31.293523Z",
     "shell.execute_reply": "2023-11-19T23:06:31.282498Z"
    },
    "papermill": {
     "duration": 3.680409,
     "end_time": "2023-11-19T23:06:31.328445",
     "exception": false,
     "start_time": "2023-11-19T23:06:27.648036",
     "status": "completed"
    },
    "tags": []
   },
   "outputs": [
    {
     "data": {
      "image/png": "[encoded data removed]",
      "text/plain": [
       "<Figure size 700x800 with 3 Axes>"
      ]
     },
     "metadata": {},
     "output_type": "display_data"
    }
   ],
   "source": [
    "fig, axes = plt.subplots(3, 1, figsize=[7, 8])\n",
    "for times_seen, ax in zip([1, 3, 5], axes):\n",
    "    model.plot_param_hist(\"beta\", ax=ax, show=False, times_seen_threshold=times_seen)\n",
    "    ax.legend()\n",
    "    ax.set_title(\n",
    "        f\"Latent-phenotype effects of mutations with times_seen >= {times_seen}\"\n",
    "    )\n",
    "plt.tight_layout()\n",
    "plt.show()"
   ]
  },
  {
   "cell_type": "markdown",
   "id": "0c329339-a135-47e0-8780-78870e358df0",
   "metadata": {
    "execution": {
     "iopub.execute_input": "2023-07-10T10:42:28.100776Z",
     "iopub.status.busy": "2023-07-10T10:42:28.100457Z",
     "iopub.status.idle": "2023-07-10T10:42:28.109737Z",
     "shell.execute_reply": "2023-07-10T10:42:28.109042Z",
     "shell.execute_reply.started": "2023-07-10T10:42:28.100758Z"
    },
    "papermill": {
     "duration": 0.004383,
     "end_time": "2023-11-19T23:06:31.336072",
     "exception": false,
     "start_time": "2023-11-19T23:06:31.331689",
     "status": "completed"
    },
    "tags": []
   },
   "source": [
    "Get the effect of each mutation on the latent phenotype observed phenotype of the functional score (which we simply call the \"functional effect\" of the mutation):"
   ]
  },
  {
   "cell_type": "code",
   "execution_count": 9,
   "id": "e130655f-b10a-45c9-bfed-6e26af440db8",
   "metadata": {
    "execution": {
     "iopub.execute_input": "2023-11-19T23:06:31.347245Z",
     "iopub.status.busy": "2023-11-19T23:06:31.346699Z",
     "iopub.status.idle": "2023-11-19T23:06:32.149544Z",
     "shell.execute_reply": "2023-11-19T23:06:32.149182Z"
    },
    "papermill": {
     "duration": 0.811482,
     "end_time": "2023-11-19T23:06:32.150541",
     "exception": false,
     "start_time": "2023-11-19T23:06:31.339059",
     "status": "completed"
    },
    "tags": []
   },
   "outputs": [
    {
     "data": {
      "text/html": [
       "<div>\n",
       "<style scoped>\n",
       "    .dataframe tbody tr th:only-of-type {\n",
       "        vertical-align: middle;\n",
       "    }\n",
       "\n",
       "    .dataframe tbody tr th {\n",
       "        vertical-align: top;\n",
       "    }\n",
       "\n",
       "    .dataframe thead th {\n",
       "        text-align: right;\n",
       "    }\n",
       "</style>\n",
       "<table border=\"1\" class=\"dataframe\">\n",
       "  <thead>\n",
       "    <tr style=\"text-align: right;\">\n",
       "      <th></th>\n",
       "      <th>wildtype</th>\n",
       "      <th>site</th>\n",
       "      <th>mutant</th>\n",
       "      <th>times_seen</th>\n",
       "      <th>latent_phenotype_effect</th>\n",
       "      <th>functional_effect</th>\n",
       "    </tr>\n",
       "  </thead>\n",
       "  <tbody>\n",
       "    <tr>\n",
       "      <th>0</th>\n",
       "      <td>M</td>\n",
       "      <td>1</td>\n",
       "      <td>M</td>\n",
       "      <td>NaN</td>\n",
       "      <td>0.000000</td>\n",
       "      <td>0.000000</td>\n",
       "    </tr>\n",
       "    <tr>\n",
       "      <th>1</th>\n",
       "      <td>M</td>\n",
       "      <td>1</td>\n",
       "      <td>T</td>\n",
       "      <td>1.0</td>\n",
       "      <td>-0.641806</td>\n",
       "      <td>-0.006733</td>\n",
       "    </tr>\n",
       "    <tr>\n",
       "      <th>2</th>\n",
       "      <td>L</td>\n",
       "      <td>10</td>\n",
       "      <td>I</td>\n",
       "      <td>41.0</td>\n",
       "      <td>0.742268</td>\n",
       "      <td>0.003936</td>\n",
       "    </tr>\n",
       "    <tr>\n",
       "      <th>3</th>\n",
       "      <td>L</td>\n",
       "      <td>10</td>\n",
       "      <td>L</td>\n",
       "      <td>NaN</td>\n",
       "      <td>0.000000</td>\n",
       "      <td>0.000000</td>\n",
       "    </tr>\n",
       "    <tr>\n",
       "      <th>4</th>\n",
       "      <td>L</td>\n",
       "      <td>10</td>\n",
       "      <td>M</td>\n",
       "      <td>7.0</td>\n",
       "      <td>0.566411</td>\n",
       "      <td>0.003248</td>\n",
       "    </tr>\n",
       "    <tr>\n",
       "      <th>...</th>\n",
       "      <td>...</td>\n",
       "      <td>...</td>\n",
       "      <td>...</td>\n",
       "      <td>...</td>\n",
       "      <td>...</td>\n",
       "      <td>...</td>\n",
       "    </tr>\n",
       "    <tr>\n",
       "      <th>8347</th>\n",
       "      <td>T</td>\n",
       "      <td>998</td>\n",
       "      <td>T</td>\n",
       "      <td>NaN</td>\n",
       "      <td>0.000000</td>\n",
       "      <td>0.000000</td>\n",
       "    </tr>\n",
       "    <tr>\n",
       "      <th>8348</th>\n",
       "      <td>G</td>\n",
       "      <td>999</td>\n",
       "      <td>C</td>\n",
       "      <td>5.0</td>\n",
       "      <td>-1.649372</td>\n",
       "      <td>-0.031162</td>\n",
       "    </tr>\n",
       "    <tr>\n",
       "      <th>8349</th>\n",
       "      <td>G</td>\n",
       "      <td>999</td>\n",
       "      <td>D</td>\n",
       "      <td>5.0</td>\n",
       "      <td>-0.265795</td>\n",
       "      <td>-0.002282</td>\n",
       "    </tr>\n",
       "    <tr>\n",
       "      <th>8350</th>\n",
       "      <td>G</td>\n",
       "      <td>999</td>\n",
       "      <td>G</td>\n",
       "      <td>NaN</td>\n",
       "      <td>0.000000</td>\n",
       "      <td>0.000000</td>\n",
       "    </tr>\n",
       "    <tr>\n",
       "      <th>8351</th>\n",
       "      <td>G</td>\n",
       "      <td>999</td>\n",
       "      <td>S</td>\n",
       "      <td>3.0</td>\n",
       "      <td>-0.476958</td>\n",
       "      <td>-0.004577</td>\n",
       "    </tr>\n",
       "  </tbody>\n",
       "</table>\n",
       "<p>8352 rows × 6 columns</p>\n",
       "</div>"
      ],
      "text/plain": [
       "     wildtype site mutant  times_seen  latent_phenotype_effect  \\\n",
       "0           M    1      M         NaN                 0.000000   \n",
       "1           M    1      T         1.0                -0.641806   \n",
       "2           L   10      I        41.0                 0.742268   \n",
       "3           L   10      L         NaN                 0.000000   \n",
       "4           L   10      M         7.0                 0.566411   \n",
       "...       ...  ...    ...         ...                      ...   \n",
       "8347        T  998      T         NaN                 0.000000   \n",
       "8348        G  999      C         5.0                -1.649372   \n",
       "8349        G  999      D         5.0                -0.265795   \n",
       "8350        G  999      G         NaN                 0.000000   \n",
       "8351        G  999      S         3.0                -0.476958   \n",
       "\n",
       "      functional_effect  \n",
       "0              0.000000  \n",
       "1             -0.006733  \n",
       "2              0.003936  \n",
       "3              0.000000  \n",
       "4              0.003248  \n",
       "...                 ...  \n",
       "8347           0.000000  \n",
       "8348          -0.031162  \n",
       "8349          -0.002282  \n",
       "8350           0.000000  \n",
       "8351          -0.004577  \n",
       "\n",
       "[8352 rows x 6 columns]"
      ]
     },
     "execution_count": 9,
     "metadata": {},
     "output_type": "execute_result"
    }
   ],
   "source": [
    "mut_effects = (\n",
    "    pd.concat(\n",
    "        [\n",
    "            # get mutant effects\n",
    "            (\n",
    "                model.get_mutations_df(phenotype_as_effect=True).rename(\n",
    "                    columns={\n",
    "                        f\"times_seen_{selection}\": \"times_seen\",\n",
    "                        \"wts\": \"wildtype\",\n",
    "                        \"sites\": \"site\",\n",
    "                        \"muts\": \"mutant\",\n",
    "                        f\"{selection}_predicted_func_score\": \"functional_effect\",\n",
    "                        \"beta\": \"latent_phenotype_effect\",\n",
    "                    }\n",
    "                )\n",
    "            ),\n",
    "            # add wildtypes, which all have effects of 0\n",
    "            pd.DataFrame(\n",
    "                {\n",
    "                    \"site\": data.site_map.index,\n",
    "                    \"wildtype\": data.site_map[selection],\n",
    "                    \"mutant\": data.site_map[selection],\n",
    "                    \"latent_phenotype_effect\": 0,\n",
    "                    \"functional_effect\": 0,\n",
    "                }\n",
    "            ),\n",
    "        ],\n",
    "    )\n",
    "    .sort_values([\"site\", \"mutant\"])\n",
    "    .reset_index(drop=True)\n",
    ")\n",
    "\n",
    "mut_effects"
   ]
  },
  {
   "cell_type": "markdown",
   "id": "82a2bd60-81d3-4f0d-83d9-5192d66fabfd",
   "metadata": {
    "execution": {
     "iopub.execute_input": "2023-07-10T12:36:30.196511Z",
     "iopub.status.busy": "2023-07-10T12:36:30.195988Z",
     "iopub.status.idle": "2023-07-10T12:36:30.204730Z",
     "shell.execute_reply": "2023-07-10T12:36:30.203786Z",
     "shell.execute_reply.started": "2023-07-10T12:36:30.196479Z"
    },
    "papermill": {
     "duration": 0.003304,
     "end_time": "2023-11-19T23:06:32.157262",
     "exception": false,
     "start_time": "2023-11-19T23:06:32.153958",
     "status": "completed"
    },
    "tags": []
   },
   "source": [
    "Write the mutational effects to a file:"
   ]
  },
  {
   "cell_type": "code",
   "execution_count": 10,
   "id": "7701f560-b8b0-41db-9a1e-6cab08f57c75",
   "metadata": {
    "execution": {
     "iopub.execute_input": "2023-11-19T23:06:32.164215Z",
     "iopub.status.busy": "2023-11-19T23:06:32.164054Z",
     "iopub.status.idle": "2023-11-19T23:06:32.190269Z",
     "shell.execute_reply": "2023-11-19T23:06:32.189897Z"
    },
    "papermill": {
     "duration": 0.030905,
     "end_time": "2023-11-19T23:06:32.191303",
     "exception": false,
     "start_time": "2023-11-19T23:06:32.160398",
     "status": "completed"
    },
    "tags": []
   },
   "outputs": [
    {
     "name": "stdout",
     "output_type": "stream",
     "text": [
      "Writing the mutational effects to results/func_effects/by_selection/Both_B1T1-vs-B2T2_func_effects.csv\n"
     ]
    }
   ],
   "source": [
    "print(f\"Writing the mutational effects to {func_effects}\")\n",
    "\n",
    "mut_effects.to_csv(func_effects, index=False, float_format=\"%.4g\")"
   ]
  }
 ],
 "metadata": {
  "kernelspec": {
   "display_name": "Python 3 (ipykernel)",
   "language": "python",
   "name": "python3"
  },
  "language_info": {
   "codemirror_mode": {
    "name": "ipython",
    "version": 3
   },
   "file_extension": ".py",
   "mimetype": "text/x-python",
   "name": "python",
   "nbconvert_exporter": "python",
   "pygments_lexer": "ipython3",
   "version": "3.11.6"
  },
  "papermill": {
   "default_parameters": {},
   "duration": 23.459054,
   "end_time": "2023-11-19T23:06:34.822845",
   "environment_variables": {},
   "exception": null,
   "input_path": "dms-vep-pipeline-3/notebooks/func_effects_global_epistasis.ipynb",
   "output_path": "results/notebooks/func_effects_global_epistasis_Both_B1T1-vs-B2T2.ipynb",
   "parameters": {
    "func_effects": "results/func_effects/by_selection/Both_B1T1-vs-B2T2_func_effects.csv",
    "func_scores": "results/func_scores/Both_B1T1-vs-B2T2_func_scores.csv",
    "global_epistasis_params": {
     "clip_lower": "median_stop",
     "clip_upper": null,
     "collapse_identical_variants": false
    },
    "selection": "Both_B1T1-vs-B2T2",
    "threads": 1
   },
   "start_time": "2023-11-19T23:06:11.363791",
   "version": "2.4.0"
  },
  "widgets": {
   "application/vnd.jupyter.widget-state+json": {
    "state": {
     "0155c2b06e9c4adcb9bd26e04bd4f764": {
      "model_module": "@jupyter-widgets/base",
      "model_module_version": "2.0.0",
      "model_name": "LayoutModel",
      "state": {
       "_model_module": "@jupyter-widgets/base",
       "_model_module_version": "2.0.0",
       "_model_name": "LayoutModel",
       "_view_count": null,
       "_view_module": "@jupyter-widgets/base",
       "_view_module_version": "2.0.0",
       "_view_name": "LayoutView",
       "align_content": null,
       "align_items": null,
       "align_self": null,
       "border_bottom": null,
       "border_left": null,
       "border_right": null,
       "border_top": null,
       "bottom": null,
       "display": null,
       "flex": null,
       "flex_flow": null,
       "grid_area": null,
       "grid_auto_columns": null,
       "grid_auto_flow": null,
       "grid_auto_rows": null,
       "grid_column": null,
       "grid_gap": null,
       "grid_row": null,
       "grid_template_areas": null,
       "grid_template_columns": null,
       "grid_template_rows": null,
       "height": null,
       "justify_content": null,
       "justify_items": null,
       "left": null,
       "margin": null,
       "max_height": null,
       "max_width": null,
       "min_height": null,
       "min_width": null,
       "object_fit": null,
       "object_position": null,
       "order": null,
       "overflow": null,
       "padding": null,
       "right": null,
       "top": null,
       "visibility": null,
       "width": null
      }
     },
     "03273e2b92b34b64a68086d78b606423": {
      "model_module": "@jupyter-widgets/controls",
      "model_module_version": "2.0.0",
      "model_name": "LabelModel",
      "state": {
       "_dom_classes": [],
       "_model_module": "@jupyter-widgets/controls",
       "_model_module_version": "2.0.0",
       "_model_name": "LabelModel",
       "_view_count": null,
       "_view_module": "@jupyter-widgets/controls",
       "_view_module_version": "2.0.0",
       "_view_name": "LabelView",
       "description": "",
       "description_allow_html": false,
       "layout": "IPY_MODEL_f5d69ba493a244108164e0dd0b19db47",
       "placeholder": "​",
       "style": "IPY_MODEL_697890941a144be4b08be48574685c60",
       "tabbable": null,
       "tooltip": null,
       "value": "69328 / 69328"
      }
     },
     "03fa271c0dc948be9120a5822f7ee916": {
      "model_module": "@jupyter-widgets/controls",
      "model_module_version": "2.0.0",
      "model_name": "HTMLStyleModel",
      "state": {
       "_model_module": "@jupyter-widgets/controls",
       "_model_module_version": "2.0.0",
       "_model_name": "HTMLStyleModel",
       "_view_count": null,
       "_view_module": "@jupyter-widgets/base",
       "_view_module_version": "2.0.0",
       "_view_name": "StyleView",
       "background": null,
       "description_width": "",
       "font_size": null,
       "text_color": null
      }
     },
     "0dc45be682694163922d5c0bad6ad084": {
      "model_module": "@jupyter-widgets/controls",
      "model_module_version": "2.0.0",
      "model_name": "ProgressStyleModel",
      "state": {
       "_model_module": "@jupyter-widgets/controls",
       "_model_module_version": "2.0.0",
       "_model_name": "ProgressStyleModel",
       "_view_count": null,
       "_view_module": "@jupyter-widgets/base",
       "_view_module_version": "2.0.0",
       "_view_name": "StyleView",
       "bar_color": null,
       "description_width": ""
      }
     },
     "36751d6a9bd841d6b58c2630b2c91493": {
      "model_module": "@jupyter-widgets/controls",
      "model_module_version": "2.0.0",
      "model_name": "LabelModel",
      "state": {
       "_dom_classes": [],
       "_model_module": "@jupyter-widgets/controls",
       "_model_module_version": "2.0.0",
       "_model_name": "LabelModel",
       "_view_count": null,
       "_view_module": "@jupyter-widgets/controls",
       "_view_module_version": "2.0.0",
       "_view_name": "LabelView",
       "description": "",
       "description_allow_html": false,
       "layout": "IPY_MODEL_0155c2b06e9c4adcb9bd26e04bd4f764",
       "placeholder": "​",
       "style": "IPY_MODEL_5ab3b31f60324e9fb61845600e44bb21",
       "tabbable": null,
       "tooltip": null,
       "value": "69328 / 69328"
      }
     },
     "374692d1f27c4c12ba6b185ef26f0a7b": {
      "model_module": "@jupyter-widgets/controls",
      "model_module_version": "2.0.0",
      "model_name": "VBoxModel",
      "state": {
       "_dom_classes": [],
       "_model_module": "@jupyter-widgets/controls",
       "_model_module_version": "2.0.0",
       "_model_name": "VBoxModel",
       "_view_count": null,
       "_view_module": "@jupyter-widgets/controls",
       "_view_module_version": "2.0.0",
       "_view_name": "VBoxView",
       "box_style": "",
       "children": [
        "IPY_MODEL_4b832ceacb7b423d956c1035941cf0b8"
       ],
       "layout": "IPY_MODEL_6c4ba9ebdf2f4afaa163449be47b5fdd",
       "tabbable": null,
       "tooltip": null
      }
     },
     "3b949f2cec5a4ed7836ed7897914c237": {
      "model_module": "@jupyter-widgets/base",
      "model_module_version": "2.0.0",
      "model_name": "LayoutModel",
      "state": {
       "_model_module": "@jupyter-widgets/base",
       "_model_module_version": "2.0.0",
       "_model_name": "LayoutModel",
       "_view_count": null,
       "_view_module": "@jupyter-widgets/base",
       "_view_module_version": "2.0.0",
       "_view_name": "LayoutView",
       "align_content": null,
       "align_items": null,
       "align_self": null,
       "border_bottom": null,
       "border_left": null,
       "border_right": null,
       "border_top": null,
       "bottom": null,
       "display": null,
       "flex": null,
       "flex_flow": null,
       "grid_area": null,
       "grid_auto_columns": null,
       "grid_auto_flow": null,
       "grid_auto_rows": null,
       "grid_column": null,
       "grid_gap": null,
       "grid_row": null,
       "grid_template_areas": null,
       "grid_template_columns": null,
       "grid_template_rows": null,
       "height": null,
       "justify_content": null,
       "justify_items": null,
       "left": null,
       "margin": null,
       "max_height": null,
       "max_width": null,
       "min_height": null,
       "min_width": null,
       "object_fit": null,
       "object_position": null,
       "order": null,
       "overflow": null,
       "padding": null,
       "right": null,
       "top": null,
       "visibility": null,
       "width": null
      }
     },
     "40719b8a0dc34eef9e9f7eb5bbe1997b": {
      "model_module": "@jupyter-widgets/controls",
      "model_module_version": "2.0.0",
      "model_name": "HBoxModel",
      "state": {
       "_dom_classes": [],
       "_model_module": "@jupyter-widgets/controls",
       "_model_module_version": "2.0.0",
       "_model_name": "HBoxModel",
       "_view_count": null,
       "_view_module": "@jupyter-widgets/controls",
       "_view_module_version": "2.0.0",
       "_view_name": "HBoxView",
       "box_style": "",
       "children": [
        "IPY_MODEL_6f6964329ae946b6bbee42c969105193",
        "IPY_MODEL_36751d6a9bd841d6b58c2630b2c91493"
       ],
       "layout": "IPY_MODEL_a95d8ea7586c4a6c914b3b065a76c91d",
       "tabbable": null,
       "tooltip": null
      }
     },
     "46d0e80a4ef94ce68892e743429a021a": {
      "model_module": "@jupyter-widgets/controls",
      "model_module_version": "2.0.0",
      "model_name": "HTMLModel",
      "state": {
       "_dom_classes": [],
       "_model_module": "@jupyter-widgets/controls",
       "_model_module_version": "2.0.0",
       "_model_name": "HTMLModel",
       "_view_count": null,
       "_view_module": "@jupyter-widgets/controls",
       "_view_module_version": "2.0.0",
       "_view_name": "HTMLView",
       "description": "",
       "description_allow_html": false,
       "layout": "IPY_MODEL_4c5ec9e8082c432da922b125e6d014f6",
       "placeholder": "​",
       "style": "IPY_MODEL_b107b44ee419440d83561fdbe564f17e",
       "tabbable": null,
       "tooltip": null,
       "value": " 69328/69328 [00:02&lt;00:00, 31397.67it/s]"
      }
     },
     "4b832ceacb7b423d956c1035941cf0b8": {
      "model_module": "@jupyter-widgets/controls",
      "model_module_version": "2.0.0",
      "model_name": "HBoxModel",
      "state": {
       "_dom_classes": [],
       "_model_module": "@jupyter-widgets/controls",
       "_model_module_version": "2.0.0",
       "_model_name": "HBoxModel",
       "_view_count": null,
       "_view_module": "@jupyter-widgets/controls",
       "_view_module_version": "2.0.0",
       "_view_name": "HBoxView",
       "box_style": "",
       "children": [
        "IPY_MODEL_c061db92338447dc8fb5839551428b1c",
        "IPY_MODEL_03273e2b92b34b64a68086d78b606423"
       ],
       "layout": "IPY_MODEL_c438abf388dc46dd9f9ab4f9e670c7c6",
       "tabbable": null,
       "tooltip": null
      }
     },
     "4c5ec9e8082c432da922b125e6d014f6": {
      "model_module": "@jupyter-widgets/base",
      "model_module_version": "2.0.0",
      "model_name": "LayoutModel",
      "state": {
       "_model_module": "@jupyter-widgets/base",
       "_model_module_version": "2.0.0",
       "_model_name": "LayoutModel",
       "_view_count": null,
       "_view_module": "@jupyter-widgets/base",
       "_view_module_version": "2.0.0",
       "_view_name": "LayoutView",
       "align_content": null,
       "align_items": null,
       "align_self": null,
       "border_bottom": null,
       "border_left": null,
       "border_right": null,
       "border_top": null,
       "bottom": null,
       "display": null,
       "flex": null,
       "flex_flow": null,
       "grid_area": null,
       "grid_auto_columns": null,
       "grid_auto_flow": null,
       "grid_auto_rows": null,
       "grid_column": null,
       "grid_gap": null,
       "grid_row": null,
       "grid_template_areas": null,
       "grid_template_columns": null,
       "grid_template_rows": null,
       "height": null,
       "justify_content": null,
       "justify_items": null,
       "left": null,
       "margin": null,
       "max_height": null,
       "max_width": null,
       "min_height": null,
       "min_width": null,
       "object_fit": null,
       "object_position": null,
       "order": null,
       "overflow": null,
       "padding": null,
       "right": null,
       "top": null,
       "visibility": null,
       "width": null
      }
     },
     "4d69f58e1df84d508c94d64fa27a1be3": {
      "model_module": "@jupyter-widgets/controls",
      "model_module_version": "2.0.0",
      "model_name": "FloatProgressModel",
      "state": {
       "_dom_classes": [],
       "_model_module": "@jupyter-widgets/controls",
       "_model_module_version": "2.0.0",
       "_model_name": "FloatProgressModel",
       "_view_count": null,
       "_view_module": "@jupyter-widgets/controls",
       "_view_module_version": "2.0.0",
       "_view_name": "ProgressView",
       "bar_style": "success",
       "description": "",
       "description_allow_html": false,
       "layout": "IPY_MODEL_8153765cd442499b8b71f06027cc41f7",
       "max": 69328.0,
       "min": 0.0,
       "orientation": "horizontal",
       "style": "IPY_MODEL_7d08fb103aff41d0b6dcfc6766c212a1",
       "tabbable": null,
       "tooltip": null,
       "value": 69328.0
      }
     },
     "5ab3b31f60324e9fb61845600e44bb21": {
      "model_module": "@jupyter-widgets/controls",
      "model_module_version": "2.0.0",
      "model_name": "LabelStyleModel",
      "state": {
       "_model_module": "@jupyter-widgets/controls",
       "_model_module_version": "2.0.0",
       "_model_name": "LabelStyleModel",
       "_view_count": null,
       "_view_module": "@jupyter-widgets/base",
       "_view_module_version": "2.0.0",
       "_view_name": "StyleView",
       "background": null,
       "description_width": "",
       "font_family": null,
       "font_size": null,
       "font_style": null,
       "font_variant": null,
       "font_weight": null,
       "text_color": null,
       "text_decoration": null
      }
     },
     "697890941a144be4b08be48574685c60": {
      "model_module": "@jupyter-widgets/controls",
      "model_module_version": "2.0.0",
      "model_name": "LabelStyleModel",
      "state": {
       "_model_module": "@jupyter-widgets/controls",
       "_model_module_version": "2.0.0",
       "_model_name": "LabelStyleModel",
       "_view_count": null,
       "_view_module": "@jupyter-widgets/base",
       "_view_module_version": "2.0.0",
       "_view_name": "StyleView",
       "background": null,
       "description_width": "",
       "font_family": null,
       "font_size": null,
       "font_style": null,
       "font_variant": null,
       "font_weight": null,
       "text_color": null,
       "text_decoration": null
      }
     },
     "6c4ba9ebdf2f4afaa163449be47b5fdd": {
      "model_module": "@jupyter-widgets/base",
      "model_module_version": "2.0.0",
      "model_name": "LayoutModel",
      "state": {
       "_model_module": "@jupyter-widgets/base",
       "_model_module_version": "2.0.0",
       "_model_name": "LayoutModel",
       "_view_count": null,
       "_view_module": "@jupyter-widgets/base",
       "_view_module_version": "2.0.0",
       "_view_name": "LayoutView",
       "align_content": null,
       "align_items": null,
       "align_self": null,
       "border_bottom": null,
       "border_left": null,
       "border_right": null,
       "border_top": null,
       "bottom": null,
       "display": null,
       "flex": null,
       "flex_flow": null,
       "grid_area": null,
       "grid_auto_columns": null,
       "grid_auto_flow": null,
       "grid_auto_rows": null,
       "grid_column": null,
       "grid_gap": null,
       "grid_row": null,
       "grid_template_areas": null,
       "grid_template_columns": null,
       "grid_template_rows": null,
       "height": null,
       "justify_content": null,
       "justify_items": null,
       "left": null,
       "margin": null,
       "max_height": null,
       "max_width": null,
       "min_height": null,
       "min_width": null,
       "object_fit": null,
       "object_position": null,
       "order": null,
       "overflow": null,
       "padding": null,
       "right": null,
       "top": null,
       "visibility": null,
       "width": null
      }
     },
     "6f6964329ae946b6bbee42c969105193": {
      "model_module": "@jupyter-widgets/controls",
      "model_module_version": "2.0.0",
      "model_name": "IntProgressModel",
      "state": {
       "_dom_classes": [],
       "_model_module": "@jupyter-widgets/controls",
       "_model_module_version": "2.0.0",
       "_model_name": "IntProgressModel",
       "_view_count": null,
       "_view_module": "@jupyter-widgets/controls",
       "_view_module_version": "2.0.0",
       "_view_name": "ProgressView",
       "bar_style": "success",
       "description": "100.00%",
       "description_allow_html": false,
       "layout": "IPY_MODEL_719707c745c94462b5df53688106e80c",
       "max": 69328,
       "min": 0,
       "orientation": "horizontal",
       "style": "IPY_MODEL_d099da596bf846b98f1ebc4b1fb73f23",
       "tabbable": null,
       "tooltip": null,
       "value": 69328
      }
     },
     "719707c745c94462b5df53688106e80c": {
      "model_module": "@jupyter-widgets/base",
      "model_module_version": "2.0.0",
      "model_name": "LayoutModel",
      "state": {
       "_model_module": "@jupyter-widgets/base",
       "_model_module_version": "2.0.0",
       "_model_name": "LayoutModel",
       "_view_count": null,
       "_view_module": "@jupyter-widgets/base",
       "_view_module_version": "2.0.0",
       "_view_name": "LayoutView",
       "align_content": null,
       "align_items": null,
       "align_self": null,
       "border_bottom": null,
       "border_left": null,
       "border_right": null,
       "border_top": null,
       "bottom": null,
       "display": null,
       "flex": null,
       "flex_flow": null,
       "grid_area": null,
       "grid_auto_columns": null,
       "grid_auto_flow": null,
       "grid_auto_rows": null,
       "grid_column": null,
       "grid_gap": null,
       "grid_row": null,
       "grid_template_areas": null,
       "grid_template_columns": null,
       "grid_template_rows": null,
       "height": null,
       "justify_content": null,
       "justify_items": null,
       "left": null,
       "margin": null,
       "max_height": null,
       "max_width": null,
       "min_height": null,
       "min_width": null,
       "object_fit": null,
       "object_position": null,
       "order": null,
       "overflow": null,
       "padding": null,
       "right": null,
       "top": null,
       "visibility": null,
       "width": null
      }
     },
     "71d580774e434b6c9214289c7b9cbc40": {
      "model_module": "@jupyter-widgets/controls",
      "model_module_version": "2.0.0",
      "model_name": "FloatProgressModel",
      "state": {
       "_dom_classes": [],
       "_model_module": "@jupyter-widgets/controls",
       "_model_module_version": "2.0.0",
       "_model_name": "FloatProgressModel",
       "_view_count": null,
       "_view_module": "@jupyter-widgets/controls",
       "_view_module_version": "2.0.0",
       "_view_name": "ProgressView",
       "bar_style": "success",
       "description": "",
       "description_allow_html": false,
       "layout": "IPY_MODEL_c1170ba883734ae59915339aba2e202b",
       "max": 69328.0,
       "min": 0.0,
       "orientation": "horizontal",
       "style": "IPY_MODEL_edc8b1e12d934b278e95d9b47140d465",
       "tabbable": null,
       "tooltip": null,
       "value": 69328.0
      }
     },
     "74fe4005180f44f5a3b19d0011c3e72e": {
      "model_module": "@jupyter-widgets/controls",
      "model_module_version": "2.0.0",
      "model_name": "HBoxModel",
      "state": {
       "_dom_classes": [],
       "_model_module": "@jupyter-widgets/controls",
       "_model_module_version": "2.0.0",
       "_model_name": "HBoxModel",
       "_view_count": null,
       "_view_module": "@jupyter-widgets/controls",
       "_view_module_version": "2.0.0",
       "_view_name": "HBoxView",
       "box_style": "",
       "children": [
        "IPY_MODEL_7e8915296a8d42b9808c12b6c94f7e38",
        "IPY_MODEL_71d580774e434b6c9214289c7b9cbc40",
        "IPY_MODEL_f9331d89bea848aa98e2efcc54d3fb01"
       ],
       "layout": "IPY_MODEL_7eb6f118471e47b7802c95d716d5c4a4",
       "tabbable": null,
       "tooltip": null
      }
     },
     "78f3c7b571fb4a0a81cd6c7979f2a047": {
      "model_module": "@jupyter-widgets/controls",
      "model_module_version": "2.0.0",
      "model_name": "VBoxModel",
      "state": {
       "_dom_classes": [],
       "_model_module": "@jupyter-widgets/controls",
       "_model_module_version": "2.0.0",
       "_model_name": "VBoxModel",
       "_view_count": null,
       "_view_module": "@jupyter-widgets/controls",
       "_view_module_version": "2.0.0",
       "_view_name": "VBoxView",
       "box_style": "",
       "children": [
        "IPY_MODEL_40719b8a0dc34eef9e9f7eb5bbe1997b"
       ],
       "layout": "IPY_MODEL_c8d35a7331e74351b4cd79c44da2d559",
       "tabbable": null,
       "tooltip": null
      }
     },
     "7d08fb103aff41d0b6dcfc6766c212a1": {
      "model_module": "@jupyter-widgets/controls",
      "model_module_version": "2.0.0",
      "model_name": "ProgressStyleModel",
      "state": {
       "_model_module": "@jupyter-widgets/controls",
       "_model_module_version": "2.0.0",
       "_model_name": "ProgressStyleModel",
       "_view_count": null,
       "_view_module": "@jupyter-widgets/base",
       "_view_module_version": "2.0.0",
       "_view_name": "StyleView",
       "bar_color": null,
       "description_width": ""
      }
     },
     "7e8915296a8d42b9808c12b6c94f7e38": {
      "model_module": "@jupyter-widgets/controls",
      "model_module_version": "2.0.0",
      "model_name": "HTMLModel",
      "state": {
       "_dom_classes": [],
       "_model_module": "@jupyter-widgets/controls",
       "_model_module_version": "2.0.0",
       "_model_name": "HTMLModel",
       "_view_count": null,
       "_view_module": "@jupyter-widgets/controls",
       "_view_module_version": "2.0.0",
       "_view_name": "HTMLView",
       "description": "",
       "description_allow_html": false,
       "layout": "IPY_MODEL_d8dab28057df48e28c6272a971daea43",
       "placeholder": "​",
       "style": "IPY_MODEL_e06e8f26a1954cf897805c62ac950f0c",
       "tabbable": null,
       "tooltip": null,
       "value": "100%"
      }
     },
     "7eb6f118471e47b7802c95d716d5c4a4": {
      "model_module": "@jupyter-widgets/base",
      "model_module_version": "2.0.0",
      "model_name": "LayoutModel",
      "state": {
       "_model_module": "@jupyter-widgets/base",
       "_model_module_version": "2.0.0",
       "_model_name": "LayoutModel",
       "_view_count": null,
       "_view_module": "@jupyter-widgets/base",
       "_view_module_version": "2.0.0",
       "_view_name": "LayoutView",
       "align_content": null,
       "align_items": null,
       "align_self": null,
       "border_bottom": null,
       "border_left": null,
       "border_right": null,
       "border_top": null,
       "bottom": null,
       "display": null,
       "flex": null,
       "flex_flow": null,
       "grid_area": null,
       "grid_auto_columns": null,
       "grid_auto_flow": null,
       "grid_auto_rows": null,
       "grid_column": null,
       "grid_gap": null,
       "grid_row": null,
       "grid_template_areas": null,
       "grid_template_columns": null,
       "grid_template_rows": null,
       "height": null,
       "justify_content": null,
       "justify_items": null,
       "left": null,
       "margin": null,
       "max_height": null,
       "max_width": null,
       "min_height": null,
       "min_width": null,
       "object_fit": null,
       "object_position": null,
       "order": null,
       "overflow": null,
       "padding": null,
       "right": null,
       "top": null,
       "visibility": null,
       "width": null
      }
     },
     "8153765cd442499b8b71f06027cc41f7": {
      "model_module": "@jupyter-widgets/base",
      "model_module_version": "2.0.0",
      "model_name": "LayoutModel",
      "state": {
       "_model_module": "@jupyter-widgets/base",
       "_model_module_version": "2.0.0",
       "_model_name": "LayoutModel",
       "_view_count": null,
       "_view_module": "@jupyter-widgets/base",
       "_view_module_version": "2.0.0",
       "_view_name": "LayoutView",
       "align_content": null,
       "align_items": null,
       "align_self": null,
       "border_bottom": null,
       "border_left": null,
       "border_right": null,
       "border_top": null,
       "bottom": null,
       "display": null,
       "flex": null,
       "flex_flow": null,
       "grid_area": null,
       "grid_auto_columns": null,
       "grid_auto_flow": null,
       "grid_auto_rows": null,
       "grid_column": null,
       "grid_gap": null,
       "grid_row": null,
       "grid_template_areas": null,
       "grid_template_columns": null,
       "grid_template_rows": null,
       "height": null,
       "justify_content": null,
       "justify_items": null,
       "left": null,
       "margin": null,
       "max_height": null,
       "max_width": null,
       "min_height": null,
       "min_width": null,
       "object_fit": null,
       "object_position": null,
       "order": null,
       "overflow": null,
       "padding": null,
       "right": null,
       "top": null,
       "visibility": null,
       "width": null
      }
     },
     "85525498c0ec4a5da70a5920f2f8525b": {
      "model_module": "@jupyter-widgets/controls",
      "model_module_version": "2.0.0",
      "model_name": "HTMLModel",
      "state": {
       "_dom_classes": [],
       "_model_module": "@jupyter-widgets/controls",
       "_model_module_version": "2.0.0",
       "_model_name": "HTMLModel",
       "_view_count": null,
       "_view_module": "@jupyter-widgets/controls",
       "_view_module_version": "2.0.0",
       "_view_name": "HTMLView",
       "description": "",
       "description_allow_html": false,
       "layout": "IPY_MODEL_f4710d1657ee4f67951c1fb616e40255",
       "placeholder": "​",
       "style": "IPY_MODEL_03fa271c0dc948be9120a5822f7ee916",
       "tabbable": null,
       "tooltip": null,
       "value": "100%"
      }
     },
     "88638b7072fd49e8a319d6a66a96e87c": {
      "model_module": "@jupyter-widgets/controls",
      "model_module_version": "2.0.0",
      "model_name": "HTMLStyleModel",
      "state": {
       "_model_module": "@jupyter-widgets/controls",
       "_model_module_version": "2.0.0",
       "_model_name": "HTMLStyleModel",
       "_view_count": null,
       "_view_module": "@jupyter-widgets/base",
       "_view_module_version": "2.0.0",
       "_view_name": "StyleView",
       "background": null,
       "description_width": "",
       "font_size": null,
       "text_color": null
      }
     },
     "9ee0d2740d5f46928101f4635963c33e": {
      "model_module": "@jupyter-widgets/base",
      "model_module_version": "2.0.0",
      "model_name": "LayoutModel",
      "state": {
       "_model_module": "@jupyter-widgets/base",
       "_model_module_version": "2.0.0",
       "_model_name": "LayoutModel",
       "_view_count": null,
       "_view_module": "@jupyter-widgets/base",
       "_view_module_version": "2.0.0",
       "_view_name": "LayoutView",
       "align_content": null,
       "align_items": null,
       "align_self": null,
       "border_bottom": null,
       "border_left": null,
       "border_right": null,
       "border_top": null,
       "bottom": null,
       "display": null,
       "flex": null,
       "flex_flow": null,
       "grid_area": null,
       "grid_auto_columns": null,
       "grid_auto_flow": null,
       "grid_auto_rows": null,
       "grid_column": null,
       "grid_gap": null,
       "grid_row": null,
       "grid_template_areas": null,
       "grid_template_columns": null,
       "grid_template_rows": null,
       "height": null,
       "justify_content": null,
       "justify_items": null,
       "left": null,
       "margin": null,
       "max_height": null,
       "max_width": null,
       "min_height": null,
       "min_width": null,
       "object_fit": null,
       "object_position": null,
       "order": null,
       "overflow": null,
       "padding": null,
       "right": null,
       "top": null,
       "visibility": null,
       "width": null
      }
     },
     "a95d8ea7586c4a6c914b3b065a76c91d": {
      "model_module": "@jupyter-widgets/base",
      "model_module_version": "2.0.0",
      "model_name": "LayoutModel",
      "state": {
       "_model_module": "@jupyter-widgets/base",
       "_model_module_version": "2.0.0",
       "_model_name": "LayoutModel",
       "_view_count": null,
       "_view_module": "@jupyter-widgets/base",
       "_view_module_version": "2.0.0",
       "_view_name": "LayoutView",
       "align_content": null,
       "align_items": null,
       "align_self": null,
       "border_bottom": null,
       "border_left": null,
       "border_right": null,
       "border_top": null,
       "bottom": null,
       "display": null,
       "flex": null,
       "flex_flow": null,
       "grid_area": null,
       "grid_auto_columns": null,
       "grid_auto_flow": null,
       "grid_auto_rows": null,
       "grid_column": null,
       "grid_gap": null,
       "grid_row": null,
       "grid_template_areas": null,
       "grid_template_columns": null,
       "grid_template_rows": null,
       "height": null,
       "justify_content": null,
       "justify_items": null,
       "left": null,
       "margin": null,
       "max_height": null,
       "max_width": null,
       "min_height": null,
       "min_width": null,
       "object_fit": null,
       "object_position": null,
       "order": null,
       "overflow": null,
       "padding": null,
       "right": null,
       "top": null,
       "visibility": null,
       "width": null
      }
     },
     "b107b44ee419440d83561fdbe564f17e": {
      "model_module": "@jupyter-widgets/controls",
      "model_module_version": "2.0.0",
      "model_name": "HTMLStyleModel",
      "state": {
       "_model_module": "@jupyter-widgets/controls",
       "_model_module_version": "2.0.0",
       "_model_name": "HTMLStyleModel",
       "_view_count": null,
       "_view_module": "@jupyter-widgets/base",
       "_view_module_version": "2.0.0",
       "_view_name": "StyleView",
       "background": null,
       "description_width": "",
       "font_size": null,
       "text_color": null
      }
     },
     "c061db92338447dc8fb5839551428b1c": {
      "model_module": "@jupyter-widgets/controls",
      "model_module_version": "2.0.0",
      "model_name": "IntProgressModel",
      "state": {
       "_dom_classes": [],
       "_model_module": "@jupyter-widgets/controls",
       "_model_module_version": "2.0.0",
       "_model_name": "IntProgressModel",
       "_view_count": null,
       "_view_module": "@jupyter-widgets/controls",
       "_view_module_version": "2.0.0",
       "_view_name": "ProgressView",
       "bar_style": "success",
       "description": "100.00%",
       "description_allow_html": false,
       "layout": "IPY_MODEL_fcc3051f053f4b70ad33ec5c386bc918",
       "max": 69328,
       "min": 0,
       "orientation": "horizontal",
       "style": "IPY_MODEL_0dc45be682694163922d5c0bad6ad084",
       "tabbable": null,
       "tooltip": null,
       "value": 69328
      }
     },
     "c1170ba883734ae59915339aba2e202b": {
      "model_module": "@jupyter-widgets/base",
      "model_module_version": "2.0.0",
      "model_name": "LayoutModel",
      "state": {
       "_model_module": "@jupyter-widgets/base",
       "_model_module_version": "2.0.0",
       "_model_name": "LayoutModel",
       "_view_count": null,
       "_view_module": "@jupyter-widgets/base",
       "_view_module_version": "2.0.0",
       "_view_name": "LayoutView",
       "align_content": null,
       "align_items": null,
       "align_self": null,
       "border_bottom": null,
       "border_left": null,
       "border_right": null,
       "border_top": null,
       "bottom": null,
       "display": null,
       "flex": null,
       "flex_flow": null,
       "grid_area": null,
       "grid_auto_columns": null,
       "grid_auto_flow": null,
       "grid_auto_rows": null,
       "grid_column": null,
       "grid_gap": null,
       "grid_row": null,
       "grid_template_areas": null,
       "grid_template_columns": null,
       "grid_template_rows": null,
       "height": null,
       "justify_content": null,
       "justify_items": null,
       "left": null,
       "margin": null,
       "max_height": null,
       "max_width": null,
       "min_height": null,
       "min_width": null,
       "object_fit": null,
       "object_position": null,
       "order": null,
       "overflow": null,
       "padding": null,
       "right": null,
       "top": null,
       "visibility": null,
       "width": null
      }
     },
     "c294e68b5d3643e4a6be7fd512df678a": {
      "model_module": "@jupyter-widgets/controls",
      "model_module_version": "2.0.0",
      "model_name": "HBoxModel",
      "state": {
       "_dom_classes": [],
       "_model_module": "@jupyter-widgets/controls",
       "_model_module_version": "2.0.0",
       "_model_name": "HBoxModel",
       "_view_count": null,
       "_view_module": "@jupyter-widgets/controls",
       "_view_module_version": "2.0.0",
       "_view_name": "HBoxView",
       "box_style": "",
       "children": [
        "IPY_MODEL_85525498c0ec4a5da70a5920f2f8525b",
        "IPY_MODEL_4d69f58e1df84d508c94d64fa27a1be3",
        "IPY_MODEL_46d0e80a4ef94ce68892e743429a021a"
       ],
       "layout": "IPY_MODEL_3b949f2cec5a4ed7836ed7897914c237",
       "tabbable": null,
       "tooltip": null
      }
     },
     "c438abf388dc46dd9f9ab4f9e670c7c6": {
      "model_module": "@jupyter-widgets/base",
      "model_module_version": "2.0.0",
      "model_name": "LayoutModel",
      "state": {
       "_model_module": "@jupyter-widgets/base",
       "_model_module_version": "2.0.0",
       "_model_name": "LayoutModel",
       "_view_count": null,
       "_view_module": "@jupyter-widgets/base",
       "_view_module_version": "2.0.0",
       "_view_name": "LayoutView",
       "align_content": null,
       "align_items": null,
       "align_self": null,
       "border_bottom": null,
       "border_left": null,
       "border_right": null,
       "border_top": null,
       "bottom": null,
       "display": null,
       "flex": null,
       "flex_flow": null,
       "grid_area": null,
       "grid_auto_columns": null,
       "grid_auto_flow": null,
       "grid_auto_rows": null,
       "grid_column": null,
       "grid_gap": null,
       "grid_row": null,
       "grid_template_areas": null,
       "grid_template_columns": null,
       "grid_template_rows": null,
       "height": null,
       "justify_content": null,
       "justify_items": null,
       "left": null,
       "margin": null,
       "max_height": null,
       "max_width": null,
       "min_height": null,
       "min_width": null,
       "object_fit": null,
       "object_position": null,
       "order": null,
       "overflow": null,
       "padding": null,
       "right": null,
       "top": null,
       "visibility": null,
       "width": null
      }
     },
     "c8d35a7331e74351b4cd79c44da2d559": {
      "model_module": "@jupyter-widgets/base",
      "model_module_version": "2.0.0",
      "model_name": "LayoutModel",
      "state": {
       "_model_module": "@jupyter-widgets/base",
       "_model_module_version": "2.0.0",
       "_model_name": "LayoutModel",
       "_view_count": null,
       "_view_module": "@jupyter-widgets/base",
       "_view_module_version": "2.0.0",
       "_view_name": "LayoutView",
       "align_content": null,
       "align_items": null,
       "align_self": null,
       "border_bottom": null,
       "border_left": null,
       "border_right": null,
       "border_top": null,
       "bottom": null,
       "display": null,
       "flex": null,
       "flex_flow": null,
       "grid_area": null,
       "grid_auto_columns": null,
       "grid_auto_flow": null,
       "grid_auto_rows": null,
       "grid_column": null,
       "grid_gap": null,
       "grid_row": null,
       "grid_template_areas": null,
       "grid_template_columns": null,
       "grid_template_rows": null,
       "height": null,
       "justify_content": null,
       "justify_items": null,
       "left": null,
       "margin": null,
       "max_height": null,
       "max_width": null,
       "min_height": null,
       "min_width": null,
       "object_fit": null,
       "object_position": null,
       "order": null,
       "overflow": null,
       "padding": null,
       "right": null,
       "top": null,
       "visibility": null,
       "width": null
      }
     },
     "d099da596bf846b98f1ebc4b1fb73f23": {
      "model_module": "@jupyter-widgets/controls",
      "model_module_version": "2.0.0",
      "model_name": "ProgressStyleModel",
      "state": {
       "_model_module": "@jupyter-widgets/controls",
       "_model_module_version": "2.0.0",
       "_model_name": "ProgressStyleModel",
       "_view_count": null,
       "_view_module": "@jupyter-widgets/base",
       "_view_module_version": "2.0.0",
       "_view_name": "StyleView",
       "bar_color": null,
       "description_width": ""
      }
     },
     "d8dab28057df48e28c6272a971daea43": {
      "model_module": "@jupyter-widgets/base",
      "model_module_version": "2.0.0",
      "model_name": "LayoutModel",
      "state": {
       "_model_module": "@jupyter-widgets/base",
       "_model_module_version": "2.0.0",
       "_model_name": "LayoutModel",
       "_view_count": null,
       "_view_module": "@jupyter-widgets/base",
       "_view_module_version": "2.0.0",
       "_view_name": "LayoutView",
       "align_content": null,
       "align_items": null,
       "align_self": null,
       "border_bottom": null,
       "border_left": null,
       "border_right": null,
       "border_top": null,
       "bottom": null,
       "display": null,
       "flex": null,
       "flex_flow": null,
       "grid_area": null,
       "grid_auto_columns": null,
       "grid_auto_flow": null,
       "grid_auto_rows": null,
       "grid_column": null,
       "grid_gap": null,
       "grid_row": null,
       "grid_template_areas": null,
       "grid_template_columns": null,
       "grid_template_rows": null,
       "height": null,
       "justify_content": null,
       "justify_items": null,
       "left": null,
       "margin": null,
       "max_height": null,
       "max_width": null,
       "min_height": null,
       "min_width": null,
       "object_fit": null,
       "object_position": null,
       "order": null,
       "overflow": null,
       "padding": null,
       "right": null,
       "top": null,
       "visibility": null,
       "width": null
      }
     },
     "e06e8f26a1954cf897805c62ac950f0c": {
      "model_module": "@jupyter-widgets/controls",
      "model_module_version": "2.0.0",
      "model_name": "HTMLStyleModel",
      "state": {
       "_model_module": "@jupyter-widgets/controls",
       "_model_module_version": "2.0.0",
       "_model_name": "HTMLStyleModel",
       "_view_count": null,
       "_view_module": "@jupyter-widgets/base",
       "_view_module_version": "2.0.0",
       "_view_name": "StyleView",
       "background": null,
       "description_width": "",
       "font_size": null,
       "text_color": null
      }
     },
     "edc8b1e12d934b278e95d9b47140d465": {
      "model_module": "@jupyter-widgets/controls",
      "model_module_version": "2.0.0",
      "model_name": "ProgressStyleModel",
      "state": {
       "_model_module": "@jupyter-widgets/controls",
       "_model_module_version": "2.0.0",
       "_model_name": "ProgressStyleModel",
       "_view_count": null,
       "_view_module": "@jupyter-widgets/base",
       "_view_module_version": "2.0.0",
       "_view_name": "StyleView",
       "bar_color": null,
       "description_width": ""
      }
     },
     "f4710d1657ee4f67951c1fb616e40255": {
      "model_module": "@jupyter-widgets/base",
      "model_module_version": "2.0.0",
      "model_name": "LayoutModel",
      "state": {
       "_model_module": "@jupyter-widgets/base",
       "_model_module_version": "2.0.0",
       "_model_name": "LayoutModel",
       "_view_count": null,
       "_view_module": "@jupyter-widgets/base",
       "_view_module_version": "2.0.0",
       "_view_name": "LayoutView",
       "align_content": null,
       "align_items": null,
       "align_self": null,
       "border_bottom": null,
       "border_left": null,
       "border_right": null,
       "border_top": null,
       "bottom": null,
       "display": null,
       "flex": null,
       "flex_flow": null,
       "grid_area": null,
       "grid_auto_columns": null,
       "grid_auto_flow": null,
       "grid_auto_rows": null,
       "grid_column": null,
       "grid_gap": null,
       "grid_row": null,
       "grid_template_areas": null,
       "grid_template_columns": null,
       "grid_template_rows": null,
       "height": null,
       "justify_content": null,
       "justify_items": null,
       "left": null,
       "margin": null,
       "max_height": null,
       "max_width": null,
       "min_height": null,
       "min_width": null,
       "object_fit": null,
       "object_position": null,
       "order": null,
       "overflow": null,
       "padding": null,
       "right": null,
       "top": null,
       "visibility": null,
       "width": null
      }
     },
     "f5d69ba493a244108164e0dd0b19db47": {
      "model_module": "@jupyter-widgets/base",
      "model_module_version": "2.0.0",
      "model_name": "LayoutModel",
      "state": {
       "_model_module": "@jupyter-widgets/base",
       "_model_module_version": "2.0.0",
       "_model_name": "LayoutModel",
       "_view_count": null,
       "_view_module": "@jupyter-widgets/base",
       "_view_module_version": "2.0.0",
       "_view_name": "LayoutView",
       "align_content": null,
       "align_items": null,
       "align_self": null,
       "border_bottom": null,
       "border_left": null,
       "border_right": null,
       "border_top": null,
       "bottom": null,
       "display": null,
       "flex": null,
       "flex_flow": null,
       "grid_area": null,
       "grid_auto_columns": null,
       "grid_auto_flow": null,
       "grid_auto_rows": null,
       "grid_column": null,
       "grid_gap": null,
       "grid_row": null,
       "grid_template_areas": null,
       "grid_template_columns": null,
       "grid_template_rows": null,
       "height": null,
       "justify_content": null,
       "justify_items": null,
       "left": null,
       "margin": null,
       "max_height": null,
       "max_width": null,
       "min_height": null,
       "min_width": null,
       "object_fit": null,
       "object_position": null,
       "order": null,
       "overflow": null,
       "padding": null,
       "right": null,
       "top": null,
       "visibility": null,
       "width": null
      }
     },
     "f9331d89bea848aa98e2efcc54d3fb01": {
      "model_module": "@jupyter-widgets/controls",
      "model_module_version": "2.0.0",
      "model_name": "HTMLModel",
      "state": {
       "_dom_classes": [],
       "_model_module": "@jupyter-widgets/controls",
       "_model_module_version": "2.0.0",
       "_model_name": "HTMLModel",
       "_view_count": null,
       "_view_module": "@jupyter-widgets/controls",
       "_view_module_version": "2.0.0",
       "_view_name": "HTMLView",
       "description": "",
       "description_allow_html": false,
       "layout": "IPY_MODEL_9ee0d2740d5f46928101f4635963c33e",
       "placeholder": "​",
       "style": "IPY_MODEL_88638b7072fd49e8a319d6a66a96e87c",
       "tabbable": null,
       "tooltip": null,
       "value": " 69328/69328 [00:03&lt;00:00, 18724.64it/s]"
      }
     },
     "fcc3051f053f4b70ad33ec5c386bc918": {
      "model_module": "@jupyter-widgets/base",
      "model_module_version": "2.0.0",
      "model_name": "LayoutModel",
      "state": {
       "_model_module": "@jupyter-widgets/base",
       "_model_module_version": "2.0.0",
       "_model_name": "LayoutModel",
       "_view_count": null,
       "_view_module": "@jupyter-widgets/base",
       "_view_module_version": "2.0.0",
       "_view_name": "LayoutView",
       "align_content": null,
       "align_items": null,
       "align_self": null,
       "border_bottom": null,
       "border_left": null,
       "border_right": null,
       "border_top": null,
       "bottom": null,
       "display": null,
       "flex": null,
       "flex_flow": null,
       "grid_area": null,
       "grid_auto_columns": null,
       "grid_auto_flow": null,
       "grid_auto_rows": null,
       "grid_column": null,
       "grid_gap": null,
       "grid_row": null,
       "grid_template_areas": null,
       "grid_template_columns": null,
       "grid_template_rows": null,
       "height": null,
       "justify_content": null,
       "justify_items": null,
       "left": null,
       "margin": null,
       "max_height": null,
       "max_width": null,
       "min_height": null,
       "min_width": null,
       "object_fit": null,
       "object_position": null,
       "order": null,
       "overflow": null,
       "padding": null,
       "right": null,
       "top": null,
       "visibility": null,
       "width": null
      }
     }
    },
    "version_major": 2,
    "version_minor": 0
   }
  }
 },
 "nbformat": 4,
 "nbformat_minor": 5
}