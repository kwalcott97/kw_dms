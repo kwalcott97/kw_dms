{
 "cells": [
  {
   "cell_type": "markdown",
   "id": "cd032799-f956-4da8-baad-43dff0af1046",
   "metadata": {
    "papermill": {
     "duration": 0.002519,
     "end_time": "2023-11-19T23:07:02.463109",
     "exception": false,
     "start_time": "2023-11-19T23:07:02.460590",
     "status": "completed"
    },
    "tags": []
   },
   "source": [
    "# Fit global epistasis models to functional scores for each selection to get mutation functional effects\n",
    "\n",
    "Import Python modules.\n",
    "We use `multidms` for the fitting:"
   ]
  },
  {
   "cell_type": "code",
   "execution_count": 1,
   "id": "6653d04b-720e-4959-a8d8-006ce97190b6",
   "metadata": {
    "execution": {
     "iopub.execute_input": "2023-11-19T23:07:02.469383Z",
     "iopub.status.busy": "2023-11-19T23:07:02.469215Z",
     "iopub.status.idle": "2023-11-19T23:07:03.802258Z",
     "shell.execute_reply": "2023-11-19T23:07:03.801715Z"
    },
    "papermill": {
     "duration": 1.337914,
     "end_time": "2023-11-19T23:07:03.804307",
     "exception": false,
     "start_time": "2023-11-19T23:07:02.466393",
     "status": "completed"
    },
    "tags": []
   },
   "outputs": [],
   "source": [
    "import dms_variants.codonvarianttable\n",
    "\n",
    "import matplotlib.pyplot as plt\n",
    "\n",
    "import multidms\n",
    "\n",
    "import pandas as pd"
   ]
  },
  {
   "cell_type": "markdown",
   "id": "0276731c-0a6f-4820-9edb-b61ab1e2ace8",
   "metadata": {
    "papermill": {
     "duration": 0.001717,
     "end_time": "2023-11-19T23:07:03.808058",
     "exception": false,
     "start_time": "2023-11-19T23:07:03.806341",
     "status": "completed"
    },
    "tags": []
   },
   "source": [
    "This notebook is parameterized by `papermill`.\n",
    "The next cell is tagged as `parameters` to get the passed parameters."
   ]
  },
  {
   "cell_type": "code",
   "execution_count": 2,
   "id": "9ddd6a5a-5e55-4386-872b-ad9ce2af3d19",
   "metadata": {
    "editable": true,
    "execution": {
     "iopub.execute_input": "2023-11-19T23:07:03.812667Z",
     "iopub.status.busy": "2023-11-19T23:07:03.812412Z",
     "iopub.status.idle": "2023-11-19T23:07:03.815680Z",
     "shell.execute_reply": "2023-11-19T23:07:03.815014Z"
    },
    "papermill": {
     "duration": 0.007602,
     "end_time": "2023-11-19T23:07:03.817404",
     "exception": false,
     "start_time": "2023-11-19T23:07:03.809802",
     "status": "completed"
    },
    "slideshow": {
     "slide_type": ""
    },
    "tags": [
     "parameters"
    ]
   },
   "outputs": [],
   "source": [
    "# this cell is tagged parameters for `papermill` parameterization\n",
    "selection = None\n",
    "func_scores = None\n",
    "func_effects = None\n",
    "global_epistasis_params = None\n",
    "threads = None"
   ]
  },
  {
   "cell_type": "code",
   "execution_count": 3,
   "id": "e82846aa",
   "metadata": {
    "execution": {
     "iopub.execute_input": "2023-11-19T23:07:03.821317Z",
     "iopub.status.busy": "2023-11-19T23:07:03.821157Z",
     "iopub.status.idle": "2023-11-19T23:07:03.824015Z",
     "shell.execute_reply": "2023-11-19T23:07:03.823411Z"
    },
    "papermill": {
     "duration": 0.00628,
     "end_time": "2023-11-19T23:07:03.825236",
     "exception": false,
     "start_time": "2023-11-19T23:07:03.818956",
     "status": "completed"
    },
    "tags": [
     "injected-parameters"
    ]
   },
   "outputs": [],
   "source": [
    "# Parameters\n",
    "global_epistasis_params = {\n",
    "    \"clip_lower\": \"median_stop\",\n",
    "    \"clip_upper\": None,\n",
    "    \"collapse_identical_variants\": False,\n",
    "}\n",
    "selection = \"C7_B1T2-vs-B2T1\"\n",
    "func_scores = \"results/func_scores/C7_B1T2-vs-B2T1_func_scores.csv\"\n",
    "func_effects = \"results/func_effects/by_selection/C7_B1T2-vs-B2T1_func_effects.csv\"\n",
    "threads = 1\n"
   ]
  },
  {
   "cell_type": "markdown",
   "id": "614d381c-9100-4248-8a56-bb6d8bb15789",
   "metadata": {
    "papermill": {
     "duration": 0.001678,
     "end_time": "2023-11-19T23:07:03.828569",
     "exception": false,
     "start_time": "2023-11-19T23:07:03.826891",
     "status": "completed"
    },
    "tags": []
   },
   "source": [
    "Read and clip functional scores:"
   ]
  },
  {
   "cell_type": "code",
   "execution_count": 4,
   "id": "a2a93f3e-46f7-4a62-b10b-d1bc7fe1a30f",
   "metadata": {
    "execution": {
     "iopub.execute_input": "2023-11-19T23:07:03.833536Z",
     "iopub.status.busy": "2023-11-19T23:07:03.833136Z",
     "iopub.status.idle": "2023-11-19T23:07:04.137131Z",
     "shell.execute_reply": "2023-11-19T23:07:04.136345Z"
    },
    "papermill": {
     "duration": 0.308017,
     "end_time": "2023-11-19T23:07:04.138571",
     "exception": false,
     "start_time": "2023-11-19T23:07:03.830554",
     "status": "completed"
    },
    "tags": []
   },
   "outputs": [
    {
     "name": "stdout",
     "output_type": "stream",
     "text": [
      "No clipping on upper bound of functional scores\n",
      "Clipping lower bound of functional scores to -4.541\n"
     ]
    }
   ],
   "source": [
    "func_scores_df = (\n",
    "    pd.read_csv(func_scores, na_filter=None)\n",
    "    .assign(condition=selection)\n",
    "    .pipe(dms_variants.codonvarianttable.CodonVariantTable.classifyVariants)\n",
    ")\n",
    "\n",
    "median_stop = func_scores_df.query(\"variant_class == 'stop'\")[\"func_score\"].median()\n",
    "\n",
    "for bound in [\"upper\", \"lower\"]:\n",
    "    clip = global_epistasis_params[f\"clip_{bound}\"]\n",
    "    if clip is None:\n",
    "        print(f\"No clipping on {bound} bound of functional scores\")\n",
    "    else:\n",
    "        if clip == \"median_stop\":\n",
    "            if pd.isnull(median_stop):\n",
    "                raise ValueError(f\"{median_stop=}\")\n",
    "            clip = median_stop\n",
    "        assert isinstance(clip, (int, float)), clip\n",
    "        print(f\"Clipping {bound} bound of functional scores to {clip}\")\n",
    "        func_scores_df[\"func_score\"] = func_scores_df[\"func_score\"].clip(\n",
    "            **{bound: clip}\n",
    "        )"
   ]
  },
  {
   "cell_type": "markdown",
   "id": "e49b2327-cf48-4dbd-9788-a89a61f072fe",
   "metadata": {
    "papermill": {
     "duration": 0.00165,
     "end_time": "2023-11-19T23:07:04.142180",
     "exception": false,
     "start_time": "2023-11-19T23:07:04.140530",
     "status": "completed"
    },
    "tags": []
   },
   "source": [
    "Initialize the data for `multidms`:"
   ]
  },
  {
   "cell_type": "code",
   "execution_count": 5,
   "id": "cab4c4b4-220f-4163-8d69-1bfaa92d360f",
   "metadata": {
    "execution": {
     "iopub.execute_input": "2023-11-19T23:07:04.146455Z",
     "iopub.status.busy": "2023-11-19T23:07:04.146204Z",
     "iopub.status.idle": "2023-11-19T23:07:10.703974Z",
     "shell.execute_reply": "2023-11-19T23:07:10.686128Z"
    },
    "papermill": {
     "duration": 6.563238,
     "end_time": "2023-11-19T23:07:10.707013",
     "exception": false,
     "start_time": "2023-11-19T23:07:04.143775",
     "status": "completed"
    },
    "tags": []
   },
   "outputs": [
    {
     "name": "stdout",
     "output_type": "stream",
     "text": [
      "inferring site map for C7_B1T2-vs-B2T1\n"
     ]
    },
    {
     "data": {
      "application/vnd.jupyter.widget-view+json": {
       "model_id": "1e2083733f0e494bb47b10bc25bb5e54",
       "version_major": 2,
       "version_minor": 0
      },
      "text/plain": [
       "  0%|          | 0/68496 [00:00<?, ?it/s]"
      ]
     },
     "metadata": {},
     "output_type": "display_data"
    },
    {
     "name": "stdout",
     "output_type": "stream",
     "text": [
      "Asserting site integrity\n"
     ]
    },
    {
     "data": {
      "application/vnd.jupyter.widget-view+json": {
       "model_id": "eba965c67d9c4871aec02c484ab092ae",
       "version_major": 2,
       "version_minor": 0
      },
      "text/plain": [
       "  0%|          | 0/68496 [00:00<?, ?it/s]"
      ]
     },
     "metadata": {},
     "output_type": "display_data"
    },
    {
     "name": "stdout",
     "output_type": "stream",
     "text": [
      "INFO: Pandarallel will run on 1 workers.\n",
      "INFO: Pandarallel will use standard multiprocessing data transfer (pipe) to transfer data between the main process and workers.\n"
     ]
    },
    {
     "data": {
      "application/vnd.jupyter.widget-view+json": {
       "model_id": "7c8c39f921b54b6e9fbf4be1367783c1",
       "version_major": 2,
       "version_minor": 0
      },
      "text/plain": [
       "VBox(children=(HBox(children=(IntProgress(value=0, description='0.00%', max=68496), Label(value='0 / 68496')))…"
      ]
     },
     "metadata": {},
     "output_type": "display_data"
    },
    {
     "name": "stdout",
     "output_type": "stream",
     "text": [
      "unknown cond wildtype at sites: [],\n",
      "dropping: 0 variantswhich have mutations at those sites.\n"
     ]
    },
    {
     "data": {
      "application/vnd.jupyter.widget-view+json": {
       "model_id": "237961e39f82457d83efb0a12afe9451",
       "version_major": 2,
       "version_minor": 0
      },
      "text/plain": [
       "VBox(children=(HBox(children=(IntProgress(value=0, description='0.00%', max=68496), Label(value='0 / 68496')))…"
      ]
     },
     "metadata": {},
     "output_type": "display_data"
    },
    {
     "name": "stdout",
     "output_type": "stream",
     "text": [
      "invalid non-identical-sites: [], dropping 0 variants\n",
      "Converting mutations for C7_B1T2-vs-B2T1\n",
      "is reference, skipping\n"
     ]
    }
   ],
   "source": [
    "data = multidms.Data(\n",
    "    variants_df=func_scores_df,\n",
    "    reference=selection,\n",
    "    alphabet=multidms.AAS_WITHSTOP_WITHGAP,\n",
    "    collapse_identical_variants=global_epistasis_params[\"collapse_identical_variants\"],\n",
    "    letter_suffixed_sites=True,\n",
    "    verbose=True,\n",
    "    nb_workers=threads,\n",
    "    assert_site_integrity=True,\n",
    ")"
   ]
  },
  {
   "cell_type": "markdown",
   "id": "56950b43-89da-4661-a925-3685c3a943a8",
   "metadata": {
    "papermill": {
     "duration": 0.002166,
     "end_time": "2023-11-19T23:07:10.711700",
     "exception": false,
     "start_time": "2023-11-19T23:07:10.709534",
     "status": "completed"
    },
    "tags": []
   },
   "source": [
    "Now initialize the `multidms` model and fit it:"
   ]
  },
  {
   "cell_type": "code",
   "execution_count": 6,
   "id": "bd05a910-e212-49e8-b1e8-343ea405567b",
   "metadata": {
    "execution": {
     "iopub.execute_input": "2023-11-19T23:07:10.719506Z",
     "iopub.status.busy": "2023-11-19T23:07:10.718665Z",
     "iopub.status.idle": "2023-11-19T23:07:15.492898Z",
     "shell.execute_reply": "2023-11-19T23:07:15.492361Z"
    },
    "papermill": {
     "duration": 4.780547,
     "end_time": "2023-11-19T23:07:15.494310",
     "exception": false,
     "start_time": "2023-11-19T23:07:10.713763",
     "status": "completed"
    },
    "tags": []
   },
   "outputs": [],
   "source": [
    "# initialize with default params, which give sigmoid global epistasis function\n",
    "model = multidms.Model(data)\n",
    "\n",
    "model.fit()"
   ]
  },
  {
   "cell_type": "markdown",
   "id": "946007e7-51e4-486a-b497-60871c1b0776",
   "metadata": {
    "papermill": {
     "duration": 0.002146,
     "end_time": "2023-11-19T23:07:15.498846",
     "exception": false,
     "start_time": "2023-11-19T23:07:15.496700",
     "status": "completed"
    },
    "tags": []
   },
   "source": [
    "Look at accuracy of predictions and the global epistasis fit:"
   ]
  },
  {
   "cell_type": "code",
   "execution_count": 7,
   "id": "f489280a-0f99-4782-9fcd-01c071255cd5",
   "metadata": {
    "execution": {
     "iopub.execute_input": "2023-11-19T23:07:15.504052Z",
     "iopub.status.busy": "2023-11-19T23:07:15.503868Z",
     "iopub.status.idle": "2023-11-19T23:07:17.924497Z",
     "shell.execute_reply": "2023-11-19T23:07:17.923294Z"
    },
    "papermill": {
     "duration": 2.426378,
     "end_time": "2023-11-19T23:07:17.927349",
     "exception": false,
     "start_time": "2023-11-19T23:07:15.500971",
     "status": "completed"
    },
    "tags": []
   },
   "outputs": [
    {
     "data": {
      "image/png": "[encoded data removed]",
      "text/plain": [
       "<Figure size 800x400 with 2 Axes>"
      ]
     },
     "metadata": {},
     "output_type": "display_data"
    }
   ],
   "source": [
    "fig, ax = plt.subplots(1, 2, figsize=[8, 4])\n",
    "model.plot_epistasis(ax=ax[1], alpha=0.1, show=False, legend=False)\n",
    "model.plot_pred_accuracy(ax=ax[0], alpha=0.1, show=False, legend=False)\n",
    "ax[1].set_title(\"Global epistasis fit\")\n",
    "ax[0].set_title(\"Training set accuracy\")\n",
    "plt.show()"
   ]
  },
  {
   "cell_type": "markdown",
   "id": "5d106ebe-0540-4a8f-83fa-c90b56ef1ebc",
   "metadata": {
    "papermill": {
     "duration": 0.00311,
     "end_time": "2023-11-19T23:07:17.933756",
     "exception": false,
     "start_time": "2023-11-19T23:07:17.930646",
     "status": "completed"
    },
    "tags": []
   },
   "source": [
    "Plot the distribution of latent phenotype functional scores with a few different cutoffs on `times_seen` (the number of variants in which a mutaiton is seen):"
   ]
  },
  {
   "cell_type": "code",
   "execution_count": 8,
   "id": "0c0cc7ec-d874-4cc0-ab2b-04e9a94ce940",
   "metadata": {
    "execution": {
     "iopub.execute_input": "2023-11-19T23:07:17.942591Z",
     "iopub.status.busy": "2023-11-19T23:07:17.942038Z",
     "iopub.status.idle": "2023-11-19T23:07:21.590275Z",
     "shell.execute_reply": "2023-11-19T23:07:21.589948Z"
    },
    "papermill": {
     "duration": 3.654423,
     "end_time": "2023-11-19T23:07:21.591318",
     "exception": false,
     "start_time": "2023-11-19T23:07:17.936895",
     "status": "completed"
    },
    "tags": []
   },
   "outputs": [
    {
     "data": {
      "image/png": "[encoded data removed]",
      "text/plain": [
       "<Figure size 700x800 with 3 Axes>"
      ]
     },
     "metadata": {},
     "output_type": "display_data"
    }
   ],
   "source": [
    "fig, axes = plt.subplots(3, 1, figsize=[7, 8])\n",
    "for times_seen, ax in zip([1, 3, 5], axes):\n",
    "    model.plot_param_hist(\"beta\", ax=ax, show=False, times_seen_threshold=times_seen)\n",
    "    ax.legend()\n",
    "    ax.set_title(\n",
    "        f\"Latent-phenotype effects of mutations with times_seen >= {times_seen}\"\n",
    "    )\n",
    "plt.tight_layout()\n",
    "plt.show()"
   ]
  },
  {
   "cell_type": "markdown",
   "id": "0c329339-a135-47e0-8780-78870e358df0",
   "metadata": {
    "execution": {
     "iopub.execute_input": "2023-07-10T10:42:28.100776Z",
     "iopub.status.busy": "2023-07-10T10:42:28.100457Z",
     "iopub.status.idle": "2023-07-10T10:42:28.109737Z",
     "shell.execute_reply": "2023-07-10T10:42:28.109042Z",
     "shell.execute_reply.started": "2023-07-10T10:42:28.100758Z"
    },
    "papermill": {
     "duration": 0.002931,
     "end_time": "2023-11-19T23:07:21.597722",
     "exception": false,
     "start_time": "2023-11-19T23:07:21.594791",
     "status": "completed"
    },
    "tags": []
   },
   "source": [
    "Get the effect of each mutation on the latent phenotype observed phenotype of the functional score (which we simply call the \"functional effect\" of the mutation):"
   ]
  },
  {
   "cell_type": "code",
   "execution_count": 9,
   "id": "e130655f-b10a-45c9-bfed-6e26af440db8",
   "metadata": {
    "execution": {
     "iopub.execute_input": "2023-11-19T23:07:21.604250Z",
     "iopub.status.busy": "2023-11-19T23:07:21.604045Z",
     "iopub.status.idle": "2023-11-19T23:07:22.337814Z",
     "shell.execute_reply": "2023-11-19T23:07:22.337225Z"
    },
    "papermill": {
     "duration": 0.738638,
     "end_time": "2023-11-19T23:07:22.339273",
     "exception": false,
     "start_time": "2023-11-19T23:07:21.600635",
     "status": "completed"
    },
    "tags": []
   },
   "outputs": [
    {
     "data": {
      "text/html": [
       "<div>\n",
       "<style scoped>\n",
       "    .dataframe tbody tr th:only-of-type {\n",
       "        vertical-align: middle;\n",
       "    }\n",
       "\n",
       "    .dataframe tbody tr th {\n",
       "        vertical-align: top;\n",
       "    }\n",
       "\n",
       "    .dataframe thead th {\n",
       "        text-align: right;\n",
       "    }\n",
       "</style>\n",
       "<table border=\"1\" class=\"dataframe\">\n",
       "  <thead>\n",
       "    <tr style=\"text-align: right;\">\n",
       "      <th></th>\n",
       "      <th>wildtype</th>\n",
       "      <th>site</th>\n",
       "      <th>mutant</th>\n",
       "      <th>times_seen</th>\n",
       "      <th>latent_phenotype_effect</th>\n",
       "      <th>functional_effect</th>\n",
       "    </tr>\n",
       "  </thead>\n",
       "  <tbody>\n",
       "    <tr>\n",
       "      <th>0</th>\n",
       "      <td>L</td>\n",
       "      <td>10</td>\n",
       "      <td>I</td>\n",
       "      <td>37.0</td>\n",
       "      <td>0.042431</td>\n",
       "      <td>0.002378</td>\n",
       "    </tr>\n",
       "    <tr>\n",
       "      <th>1</th>\n",
       "      <td>L</td>\n",
       "      <td>10</td>\n",
       "      <td>L</td>\n",
       "      <td>NaN</td>\n",
       "      <td>0.000000</td>\n",
       "      <td>0.000000</td>\n",
       "    </tr>\n",
       "    <tr>\n",
       "      <th>2</th>\n",
       "      <td>L</td>\n",
       "      <td>10</td>\n",
       "      <td>M</td>\n",
       "      <td>6.0</td>\n",
       "      <td>1.468954</td>\n",
       "      <td>0.044450</td>\n",
       "    </tr>\n",
       "    <tr>\n",
       "      <th>3</th>\n",
       "      <td>L</td>\n",
       "      <td>10</td>\n",
       "      <td>P</td>\n",
       "      <td>6.0</td>\n",
       "      <td>-3.142677</td>\n",
       "      <td>-1.005114</td>\n",
       "    </tr>\n",
       "    <tr>\n",
       "      <th>4</th>\n",
       "      <td>L</td>\n",
       "      <td>10</td>\n",
       "      <td>Q</td>\n",
       "      <td>3.0</td>\n",
       "      <td>0.824609</td>\n",
       "      <td>0.032346</td>\n",
       "    </tr>\n",
       "    <tr>\n",
       "      <th>...</th>\n",
       "      <td>...</td>\n",
       "      <td>...</td>\n",
       "      <td>...</td>\n",
       "      <td>...</td>\n",
       "      <td>...</td>\n",
       "      <td>...</td>\n",
       "    </tr>\n",
       "    <tr>\n",
       "      <th>8462</th>\n",
       "      <td>T</td>\n",
       "      <td>998</td>\n",
       "      <td>T</td>\n",
       "      <td>NaN</td>\n",
       "      <td>0.000000</td>\n",
       "      <td>0.000000</td>\n",
       "    </tr>\n",
       "    <tr>\n",
       "      <th>8463</th>\n",
       "      <td>G</td>\n",
       "      <td>999</td>\n",
       "      <td>C</td>\n",
       "      <td>6.0</td>\n",
       "      <td>0.495107</td>\n",
       "      <td>0.022446</td>\n",
       "    </tr>\n",
       "    <tr>\n",
       "      <th>8464</th>\n",
       "      <td>G</td>\n",
       "      <td>999</td>\n",
       "      <td>D</td>\n",
       "      <td>2.0</td>\n",
       "      <td>0.390838</td>\n",
       "      <td>0.018581</td>\n",
       "    </tr>\n",
       "    <tr>\n",
       "      <th>8465</th>\n",
       "      <td>G</td>\n",
       "      <td>999</td>\n",
       "      <td>G</td>\n",
       "      <td>NaN</td>\n",
       "      <td>0.000000</td>\n",
       "      <td>0.000000</td>\n",
       "    </tr>\n",
       "    <tr>\n",
       "      <th>8466</th>\n",
       "      <td>G</td>\n",
       "      <td>999</td>\n",
       "      <td>S</td>\n",
       "      <td>4.0</td>\n",
       "      <td>-0.889303</td>\n",
       "      <td>-0.080649</td>\n",
       "    </tr>\n",
       "  </tbody>\n",
       "</table>\n",
       "<p>8467 rows × 6 columns</p>\n",
       "</div>"
      ],
      "text/plain": [
       "     wildtype site mutant  times_seen  latent_phenotype_effect  \\\n",
       "0           L   10      I        37.0                 0.042431   \n",
       "1           L   10      L         NaN                 0.000000   \n",
       "2           L   10      M         6.0                 1.468954   \n",
       "3           L   10      P         6.0                -3.142677   \n",
       "4           L   10      Q         3.0                 0.824609   \n",
       "...       ...  ...    ...         ...                      ...   \n",
       "8462        T  998      T         NaN                 0.000000   \n",
       "8463        G  999      C         6.0                 0.495107   \n",
       "8464        G  999      D         2.0                 0.390838   \n",
       "8465        G  999      G         NaN                 0.000000   \n",
       "8466        G  999      S         4.0                -0.889303   \n",
       "\n",
       "      functional_effect  \n",
       "0              0.002378  \n",
       "1              0.000000  \n",
       "2              0.044450  \n",
       "3             -1.005114  \n",
       "4              0.032346  \n",
       "...                 ...  \n",
       "8462           0.000000  \n",
       "8463           0.022446  \n",
       "8464           0.018581  \n",
       "8465           0.000000  \n",
       "8466          -0.080649  \n",
       "\n",
       "[8467 rows x 6 columns]"
      ]
     },
     "execution_count": 9,
     "metadata": {},
     "output_type": "execute_result"
    }
   ],
   "source": [
    "mut_effects = (\n",
    "    pd.concat(\n",
    "        [\n",
    "            # get mutant effects\n",
    "            (\n",
    "                model.get_mutations_df(phenotype_as_effect=True).rename(\n",
    "                    columns={\n",
    "                        f\"times_seen_{selection}\": \"times_seen\",\n",
    "                        \"wts\": \"wildtype\",\n",
    "                        \"sites\": \"site\",\n",
    "                        \"muts\": \"mutant\",\n",
    "                        f\"{selection}_predicted_func_score\": \"functional_effect\",\n",
    "                        \"beta\": \"latent_phenotype_effect\",\n",
    "                    }\n",
    "                )\n",
    "            ),\n",
    "            # add wildtypes, which all have effects of 0\n",
    "            pd.DataFrame(\n",
    "                {\n",
    "                    \"site\": data.site_map.index,\n",
    "                    \"wildtype\": data.site_map[selection],\n",
    "                    \"mutant\": data.site_map[selection],\n",
    "                    \"latent_phenotype_effect\": 0,\n",
    "                    \"functional_effect\": 0,\n",
    "                }\n",
    "            ),\n",
    "        ],\n",
    "    )\n",
    "    .sort_values([\"site\", \"mutant\"])\n",
    "    .reset_index(drop=True)\n",
    ")\n",
    "\n",
    "mut_effects"
   ]
  },
  {
   "cell_type": "markdown",
   "id": "82a2bd60-81d3-4f0d-83d9-5192d66fabfd",
   "metadata": {
    "execution": {
     "iopub.execute_input": "2023-07-10T12:36:30.196511Z",
     "iopub.status.busy": "2023-07-10T12:36:30.195988Z",
     "iopub.status.idle": "2023-07-10T12:36:30.204730Z",
     "shell.execute_reply": "2023-07-10T12:36:30.203786Z",
     "shell.execute_reply.started": "2023-07-10T12:36:30.196479Z"
    },
    "papermill": {
     "duration": 0.003787,
     "end_time": "2023-11-19T23:07:22.351375",
     "exception": false,
     "start_time": "2023-11-19T23:07:22.347588",
     "status": "completed"
    },
    "tags": []
   },
   "source": [
    "Write the mutational effects to a file:"
   ]
  },
  {
   "cell_type": "code",
   "execution_count": 10,
   "id": "7701f560-b8b0-41db-9a1e-6cab08f57c75",
   "metadata": {
    "execution": {
     "iopub.execute_input": "2023-11-19T23:07:22.358689Z",
     "iopub.status.busy": "2023-11-19T23:07:22.358530Z",
     "iopub.status.idle": "2023-11-19T23:07:22.385674Z",
     "shell.execute_reply": "2023-11-19T23:07:22.385406Z"
    },
    "papermill": {
     "duration": 0.031861,
     "end_time": "2023-11-19T23:07:22.386581",
     "exception": false,
     "start_time": "2023-11-19T23:07:22.354720",
     "status": "completed"
    },
    "tags": []
   },
   "outputs": [
    {
     "name": "stdout",
     "output_type": "stream",
     "text": [
      "Writing the mutational effects to results/func_effects/by_selection/C7_B1T2-vs-B2T1_func_effects.csv\n"
     ]
    }
   ],
   "source": [
    "print(f\"Writing the mutational effects to {func_effects}\")\n",
    "\n",
    "mut_effects.to_csv(func_effects, index=False, float_format=\"%.4g\")"
   ]
  }
 ],
 "metadata": {
  "kernelspec": {
   "display_name": "Python 3 (ipykernel)",
   "language": "python",
   "name": "python3"
  },
  "language_info": {
   "codemirror_mode": {
    "name": "ipython",
    "version": 3
   },
   "file_extension": ".py",
   "mimetype": "text/x-python",
   "name": "python",
   "nbconvert_exporter": "python",
   "pygments_lexer": "ipython3",
   "version": "3.11.6"
  },
  "papermill": {
   "default_parameters": {},
   "duration": 23.447607,
   "end_time": "2023-11-19T23:07:25.007686",
   "environment_variables": {},
   "exception": null,
   "input_path": "dms-vep-pipeline-3/notebooks/func_effects_global_epistasis.ipynb",
   "output_path": "results/notebooks/func_effects_global_epistasis_C7_B1T2-vs-B2T1.ipynb",
   "parameters": {
    "func_effects": "results/func_effects/by_selection/C7_B1T2-vs-B2T1_func_effects.csv",
    "func_scores": "results/func_scores/C7_B1T2-vs-B2T1_func_scores.csv",
    "global_epistasis_params": {
     "clip_lower": "median_stop",
     "clip_upper": null,
     "collapse_identical_variants": false
    },
    "selection": "C7_B1T2-vs-B2T1",
    "threads": 1
   },
   "start_time": "2023-11-19T23:07:01.560079",
   "version": "2.4.0"
  },
  "widgets": {
   "application/vnd.jupyter.widget-state+json": {
    "state": {
     "01f99845cf214597bc548391c5e7ccca": {
      "model_module": "@jupyter-widgets/base",
      "model_module_version": "2.0.0",
      "model_name": "LayoutModel",
      "state": {
       "_model_module": "@jupyter-widgets/base",
       "_model_module_version": "2.0.0",
       "_model_name": "LayoutModel",
       "_view_count": null,
       "_view_module": "@jupyter-widgets/base",
       "_view_module_version": "2.0.0",
       "_view_name": "LayoutView",
       "align_content": null,
       "align_items": null,
       "align_self": null,
       "border_bottom": null,
       "border_left": null,
       "border_right": null,
       "border_top": null,
       "bottom": null,
       "display": null,
       "flex": null,
       "flex_flow": null,
       "grid_area": null,
       "grid_auto_columns": null,
       "grid_auto_flow": null,
       "grid_auto_rows": null,
       "grid_column": null,
       "grid_gap": null,
       "grid_row": null,
       "grid_template_areas": null,
       "grid_template_columns": null,
       "grid_template_rows": null,
       "height": null,
       "justify_content": null,
       "justify_items": null,
       "left": null,
       "margin": null,
       "max_height": null,
       "max_width": null,
       "min_height": null,
       "min_width": null,
       "object_fit": null,
       "object_position": null,
       "order": null,
       "overflow": null,
       "padding": null,
       "right": null,
       "top": null,
       "visibility": null,
       "width": null
      }
     },
     "03b0213147bc46729bb72ae8e544ca68": {
      "model_module": "@jupyter-widgets/controls",
      "model_module_version": "2.0.0",
      "model_name": "IntProgressModel",
      "state": {
       "_dom_classes": [],
       "_model_module": "@jupyter-widgets/controls",
       "_model_module_version": "2.0.0",
       "_model_name": "IntProgressModel",
       "_view_count": null,
       "_view_module": "@jupyter-widgets/controls",
       "_view_module_version": "2.0.0",
       "_view_name": "ProgressView",
       "bar_style": "success",
       "description": "100.00%",
       "description_allow_html": false,
       "layout": "IPY_MODEL_7577d962d4aa40118c8cb61741bd0b2e",
       "max": 68496,
       "min": 0,
       "orientation": "horizontal",
       "style": "IPY_MODEL_d9d5073cdf5b420696f7c2f833429c15",
       "tabbable": null,
       "tooltip": null,
       "value": 68496
      }
     },
     "1e2083733f0e494bb47b10bc25bb5e54": {
      "model_module": "@jupyter-widgets/controls",
      "model_module_version": "2.0.0",
      "model_name": "HBoxModel",
      "state": {
       "_dom_classes": [],
       "_model_module": "@jupyter-widgets/controls",
       "_model_module_version": "2.0.0",
       "_model_name": "HBoxModel",
       "_view_count": null,
       "_view_module": "@jupyter-widgets/controls",
       "_view_module_version": "2.0.0",
       "_view_name": "HBoxView",
       "box_style": "",
       "children": [
        "IPY_MODEL_342c32f0cfef429dad357086af523ab2",
        "IPY_MODEL_a4c0c07d94f14e20bb0fc88299e2d3e6",
        "IPY_MODEL_42f5e281fc1f4e8483f9b81ad21e4c0a"
       ],
       "layout": "IPY_MODEL_84dc1f04d3ae4ea3938bdb053a86906f",
       "tabbable": null,
       "tooltip": null
      }
     },
     "20cb055529bd4aba8aae18e953505da1": {
      "model_module": "@jupyter-widgets/controls",
      "model_module_version": "2.0.0",
      "model_name": "FloatProgressModel",
      "state": {
       "_dom_classes": [],
       "_model_module": "@jupyter-widgets/controls",
       "_model_module_version": "2.0.0",
       "_model_name": "FloatProgressModel",
       "_view_count": null,
       "_view_module": "@jupyter-widgets/controls",
       "_view_module_version": "2.0.0",
       "_view_name": "ProgressView",
       "bar_style": "success",
       "description": "",
       "description_allow_html": false,
       "layout": "IPY_MODEL_f5ad3994f9a7409e885679889ab43964",
       "max": 68496.0,
       "min": 0.0,
       "orientation": "horizontal",
       "style": "IPY_MODEL_d638186ae0f3468493ebb4f765411b5b",
       "tabbable": null,
       "tooltip": null,
       "value": 68496.0
      }
     },
     "237961e39f82457d83efb0a12afe9451": {
      "model_module": "@jupyter-widgets/controls",
      "model_module_version": "2.0.0",
      "model_name": "VBoxModel",
      "state": {
       "_dom_classes": [],
       "_model_module": "@jupyter-widgets/controls",
       "_model_module_version": "2.0.0",
       "_model_name": "VBoxModel",
       "_view_count": null,
       "_view_module": "@jupyter-widgets/controls",
       "_view_module_version": "2.0.0",
       "_view_name": "VBoxView",
       "box_style": "",
       "children": [
        "IPY_MODEL_70a29361133c420a8f3609e95f4ed869"
       ],
       "layout": "IPY_MODEL_7f62adf310a84c8d96bc94d74bce2f67",
       "tabbable": null,
       "tooltip": null
      }
     },
     "2a0756f215eb4a9685395b800f4a88d4": {
      "model_module": "@jupyter-widgets/base",
      "model_module_version": "2.0.0",
      "model_name": "LayoutModel",
      "state": {
       "_model_module": "@jupyter-widgets/base",
       "_model_module_version": "2.0.0",
       "_model_name": "LayoutModel",
       "_view_count": null,
       "_view_module": "@jupyter-widgets/base",
       "_view_module_version": "2.0.0",
       "_view_name": "LayoutView",
       "align_content": null,
       "align_items": null,
       "align_self": null,
       "border_bottom": null,
       "border_left": null,
       "border_right": null,
       "border_top": null,
       "bottom": null,
       "display": null,
       "flex": null,
       "flex_flow": null,
       "grid_area": null,
       "grid_auto_columns": null,
       "grid_auto_flow": null,
       "grid_auto_rows": null,
       "grid_column": null,
       "grid_gap": null,
       "grid_row": null,
       "grid_template_areas": null,
       "grid_template_columns": null,
       "grid_template_rows": null,
       "height": null,
       "justify_content": null,
       "justify_items": null,
       "left": null,
       "margin": null,
       "max_height": null,
       "max_width": null,
       "min_height": null,
       "min_width": null,
       "object_fit": null,
       "object_position": null,
       "order": null,
       "overflow": null,
       "padding": null,
       "right": null,
       "top": null,
       "visibility": null,
       "width": null
      }
     },
     "330ab4f887b2486697efa78026361280": {
      "model_module": "@jupyter-widgets/controls",
      "model_module_version": "2.0.0",
      "model_name": "HBoxModel",
      "state": {
       "_dom_classes": [],
       "_model_module": "@jupyter-widgets/controls",
       "_model_module_version": "2.0.0",
       "_model_name": "HBoxModel",
       "_view_count": null,
       "_view_module": "@jupyter-widgets/controls",
       "_view_module_version": "2.0.0",
       "_view_name": "HBoxView",
       "box_style": "",
       "children": [
        "IPY_MODEL_dd6be3e00ec5416ab9481855fd1e8db2",
        "IPY_MODEL_eadb614e704c4f3681298ec3760fe41e"
       ],
       "layout": "IPY_MODEL_db927cdba9f745488c386a6af87caf68",
       "tabbable": null,
       "tooltip": null
      }
     },
     "342c32f0cfef429dad357086af523ab2": {
      "model_module": "@jupyter-widgets/controls",
      "model_module_version": "2.0.0",
      "model_name": "HTMLModel",
      "state": {
       "_dom_classes": [],
       "_model_module": "@jupyter-widgets/controls",
       "_model_module_version": "2.0.0",
       "_model_name": "HTMLModel",
       "_view_count": null,
       "_view_module": "@jupyter-widgets/controls",
       "_view_module_version": "2.0.0",
       "_view_name": "HTMLView",
       "description": "",
       "description_allow_html": false,
       "layout": "IPY_MODEL_01f99845cf214597bc548391c5e7ccca",
       "placeholder": "​",
       "style": "IPY_MODEL_de6ec1e0994943b08b65bbeea61373b9",
       "tabbable": null,
       "tooltip": null,
       "value": "100%"
      }
     },
     "42f5e281fc1f4e8483f9b81ad21e4c0a": {
      "model_module": "@jupyter-widgets/controls",
      "model_module_version": "2.0.0",
      "model_name": "HTMLModel",
      "state": {
       "_dom_classes": [],
       "_model_module": "@jupyter-widgets/controls",
       "_model_module_version": "2.0.0",
       "_model_name": "HTMLModel",
       "_view_count": null,
       "_view_module": "@jupyter-widgets/controls",
       "_view_module_version": "2.0.0",
       "_view_name": "HTMLView",
       "description": "",
       "description_allow_html": false,
       "layout": "IPY_MODEL_5ce022c675a84110a31eea736f17dd49",
       "placeholder": "​",
       "style": "IPY_MODEL_dbd5460a7e15426d987b4f2660ce20f5",
       "tabbable": null,
       "tooltip": null,
       "value": " 68496/68496 [00:03&lt;00:00, 20429.21it/s]"
      }
     },
     "53c157f6900e439a822912e1e672ad69": {
      "model_module": "@jupyter-widgets/controls",
      "model_module_version": "2.0.0",
      "model_name": "HTMLModel",
      "state": {
       "_dom_classes": [],
       "_model_module": "@jupyter-widgets/controls",
       "_model_module_version": "2.0.0",
       "_model_name": "HTMLModel",
       "_view_count": null,
       "_view_module": "@jupyter-widgets/controls",
       "_view_module_version": "2.0.0",
       "_view_name": "HTMLView",
       "description": "",
       "description_allow_html": false,
       "layout": "IPY_MODEL_c8822f3a480c4f018c91c11a44af05e1",
       "placeholder": "​",
       "style": "IPY_MODEL_e1b69b16075646bf80a606717fc6cf0e",
       "tabbable": null,
       "tooltip": null,
       "value": " 68496/68496 [00:01&lt;00:00, 36729.73it/s]"
      }
     },
     "54c47fb646dd4f16b5cc0add37be031b": {
      "model_module": "@jupyter-widgets/controls",
      "model_module_version": "2.0.0",
      "model_name": "ProgressStyleModel",
      "state": {
       "_model_module": "@jupyter-widgets/controls",
       "_model_module_version": "2.0.0",
       "_model_name": "ProgressStyleModel",
       "_view_count": null,
       "_view_module": "@jupyter-widgets/base",
       "_view_module_version": "2.0.0",
       "_view_name": "StyleView",
       "bar_color": null,
       "description_width": ""
      }
     },
     "562e438b3cd340878c40933c601bf366": {
      "model_module": "@jupyter-widgets/controls",
      "model_module_version": "2.0.0",
      "model_name": "LabelStyleModel",
      "state": {
       "_model_module": "@jupyter-widgets/controls",
       "_model_module_version": "2.0.0",
       "_model_name": "LabelStyleModel",
       "_view_count": null,
       "_view_module": "@jupyter-widgets/base",
       "_view_module_version": "2.0.0",
       "_view_name": "StyleView",
       "background": null,
       "description_width": "",
       "font_family": null,
       "font_size": null,
       "font_style": null,
       "font_variant": null,
       "font_weight": null,
       "text_color": null,
       "text_decoration": null
      }
     },
     "5b0902dad827475598dab5f968cf9214": {
      "model_module": "@jupyter-widgets/base",
      "model_module_version": "2.0.0",
      "model_name": "LayoutModel",
      "state": {
       "_model_module": "@jupyter-widgets/base",
       "_model_module_version": "2.0.0",
       "_model_name": "LayoutModel",
       "_view_count": null,
       "_view_module": "@jupyter-widgets/base",
       "_view_module_version": "2.0.0",
       "_view_name": "LayoutView",
       "align_content": null,
       "align_items": null,
       "align_self": null,
       "border_bottom": null,
       "border_left": null,
       "border_right": null,
       "border_top": null,
       "bottom": null,
       "display": null,
       "flex": null,
       "flex_flow": null,
       "grid_area": null,
       "grid_auto_columns": null,
       "grid_auto_flow": null,
       "grid_auto_rows": null,
       "grid_column": null,
       "grid_gap": null,
       "grid_row": null,
       "grid_template_areas": null,
       "grid_template_columns": null,
       "grid_template_rows": null,
       "height": null,
       "justify_content": null,
       "justify_items": null,
       "left": null,
       "margin": null,
       "max_height": null,
       "max_width": null,
       "min_height": null,
       "min_width": null,
       "object_fit": null,
       "object_position": null,
       "order": null,
       "overflow": null,
       "padding": null,
       "right": null,
       "top": null,
       "visibility": null,
       "width": null
      }
     },
     "5ce022c675a84110a31eea736f17dd49": {
      "model_module": "@jupyter-widgets/base",
      "model_module_version": "2.0.0",
      "model_name": "LayoutModel",
      "state": {
       "_model_module": "@jupyter-widgets/base",
       "_model_module_version": "2.0.0",
       "_model_name": "LayoutModel",
       "_view_count": null,
       "_view_module": "@jupyter-widgets/base",
       "_view_module_version": "2.0.0",
       "_view_name": "LayoutView",
       "align_content": null,
       "align_items": null,
       "align_self": null,
       "border_bottom": null,
       "border_left": null,
       "border_right": null,
       "border_top": null,
       "bottom": null,
       "display": null,
       "flex": null,
       "flex_flow": null,
       "grid_area": null,
       "grid_auto_columns": null,
       "grid_auto_flow": null,
       "grid_auto_rows": null,
       "grid_column": null,
       "grid_gap": null,
       "grid_row": null,
       "grid_template_areas": null,
       "grid_template_columns": null,
       "grid_template_rows": null,
       "height": null,
       "justify_content": null,
       "justify_items": null,
       "left": null,
       "margin": null,
       "max_height": null,
       "max_width": null,
       "min_height": null,
       "min_width": null,
       "object_fit": null,
       "object_position": null,
       "order": null,
       "overflow": null,
       "padding": null,
       "right": null,
       "top": null,
       "visibility": null,
       "width": null
      }
     },
     "5ef11e129d7f41b59b2aa4fdbbb5159d": {
      "model_module": "@jupyter-widgets/controls",
      "model_module_version": "2.0.0",
      "model_name": "LabelModel",
      "state": {
       "_dom_classes": [],
       "_model_module": "@jupyter-widgets/controls",
       "_model_module_version": "2.0.0",
       "_model_name": "LabelModel",
       "_view_count": null,
       "_view_module": "@jupyter-widgets/controls",
       "_view_module_version": "2.0.0",
       "_view_name": "LabelView",
       "description": "",
       "description_allow_html": false,
       "layout": "IPY_MODEL_5b0902dad827475598dab5f968cf9214",
       "placeholder": "​",
       "style": "IPY_MODEL_562e438b3cd340878c40933c601bf366",
       "tabbable": null,
       "tooltip": null,
       "value": "68496 / 68496"
      }
     },
     "5f7209a6d3b7441eb892b7a35f2c3014": {
      "model_module": "@jupyter-widgets/base",
      "model_module_version": "2.0.0",
      "model_name": "LayoutModel",
      "state": {
       "_model_module": "@jupyter-widgets/base",
       "_model_module_version": "2.0.0",
       "_model_name": "LayoutModel",
       "_view_count": null,
       "_view_module": "@jupyter-widgets/base",
       "_view_module_version": "2.0.0",
       "_view_name": "LayoutView",
       "align_content": null,
       "align_items": null,
       "align_self": null,
       "border_bottom": null,
       "border_left": null,
       "border_right": null,
       "border_top": null,
       "bottom": null,
       "display": null,
       "flex": null,
       "flex_flow": null,
       "grid_area": null,
       "grid_auto_columns": null,
       "grid_auto_flow": null,
       "grid_auto_rows": null,
       "grid_column": null,
       "grid_gap": null,
       "grid_row": null,
       "grid_template_areas": null,
       "grid_template_columns": null,
       "grid_template_rows": null,
       "height": null,
       "justify_content": null,
       "justify_items": null,
       "left": null,
       "margin": null,
       "max_height": null,
       "max_width": null,
       "min_height": null,
       "min_width": null,
       "object_fit": null,
       "object_position": null,
       "order": null,
       "overflow": null,
       "padding": null,
       "right": null,
       "top": null,
       "visibility": null,
       "width": null
      }
     },
     "66899eb96d0a4a309001f0da5816232b": {
      "model_module": "@jupyter-widgets/controls",
      "model_module_version": "2.0.0",
      "model_name": "ProgressStyleModel",
      "state": {
       "_model_module": "@jupyter-widgets/controls",
       "_model_module_version": "2.0.0",
       "_model_name": "ProgressStyleModel",
       "_view_count": null,
       "_view_module": "@jupyter-widgets/base",
       "_view_module_version": "2.0.0",
       "_view_name": "StyleView",
       "bar_color": null,
       "description_width": ""
      }
     },
     "68db8fd40c7a49cfabe22637ffebdb21": {
      "model_module": "@jupyter-widgets/base",
      "model_module_version": "2.0.0",
      "model_name": "LayoutModel",
      "state": {
       "_model_module": "@jupyter-widgets/base",
       "_model_module_version": "2.0.0",
       "_model_name": "LayoutModel",
       "_view_count": null,
       "_view_module": "@jupyter-widgets/base",
       "_view_module_version": "2.0.0",
       "_view_name": "LayoutView",
       "align_content": null,
       "align_items": null,
       "align_self": null,
       "border_bottom": null,
       "border_left": null,
       "border_right": null,
       "border_top": null,
       "bottom": null,
       "display": null,
       "flex": null,
       "flex_flow": null,
       "grid_area": null,
       "grid_auto_columns": null,
       "grid_auto_flow": null,
       "grid_auto_rows": null,
       "grid_column": null,
       "grid_gap": null,
       "grid_row": null,
       "grid_template_areas": null,
       "grid_template_columns": null,
       "grid_template_rows": null,
       "height": null,
       "justify_content": null,
       "justify_items": null,
       "left": null,
       "margin": null,
       "max_height": null,
       "max_width": null,
       "min_height": null,
       "min_width": null,
       "object_fit": null,
       "object_position": null,
       "order": null,
       "overflow": null,
       "padding": null,
       "right": null,
       "top": null,
       "visibility": null,
       "width": null
      }
     },
     "6953f061ea31499ebc3d4fa442a2dbf5": {
      "model_module": "@jupyter-widgets/base",
      "model_module_version": "2.0.0",
      "model_name": "LayoutModel",
      "state": {
       "_model_module": "@jupyter-widgets/base",
       "_model_module_version": "2.0.0",
       "_model_name": "LayoutModel",
       "_view_count": null,
       "_view_module": "@jupyter-widgets/base",
       "_view_module_version": "2.0.0",
       "_view_name": "LayoutView",
       "align_content": null,
       "align_items": null,
       "align_self": null,
       "border_bottom": null,
       "border_left": null,
       "border_right": null,
       "border_top": null,
       "bottom": null,
       "display": null,
       "flex": null,
       "flex_flow": null,
       "grid_area": null,
       "grid_auto_columns": null,
       "grid_auto_flow": null,
       "grid_auto_rows": null,
       "grid_column": null,
       "grid_gap": null,
       "grid_row": null,
       "grid_template_areas": null,
       "grid_template_columns": null,
       "grid_template_rows": null,
       "height": null,
       "justify_content": null,
       "justify_items": null,
       "left": null,
       "margin": null,
       "max_height": null,
       "max_width": null,
       "min_height": null,
       "min_width": null,
       "object_fit": null,
       "object_position": null,
       "order": null,
       "overflow": null,
       "padding": null,
       "right": null,
       "top": null,
       "visibility": null,
       "width": null
      }
     },
     "70a29361133c420a8f3609e95f4ed869": {
      "model_module": "@jupyter-widgets/controls",
      "model_module_version": "2.0.0",
      "model_name": "HBoxModel",
      "state": {
       "_dom_classes": [],
       "_model_module": "@jupyter-widgets/controls",
       "_model_module_version": "2.0.0",
       "_model_name": "HBoxModel",
       "_view_count": null,
       "_view_module": "@jupyter-widgets/controls",
       "_view_module_version": "2.0.0",
       "_view_name": "HBoxView",
       "box_style": "",
       "children": [
        "IPY_MODEL_03b0213147bc46729bb72ae8e544ca68",
        "IPY_MODEL_5ef11e129d7f41b59b2aa4fdbbb5159d"
       ],
       "layout": "IPY_MODEL_5f7209a6d3b7441eb892b7a35f2c3014",
       "tabbable": null,
       "tooltip": null
      }
     },
     "7577d962d4aa40118c8cb61741bd0b2e": {
      "model_module": "@jupyter-widgets/base",
      "model_module_version": "2.0.0",
      "model_name": "LayoutModel",
      "state": {
       "_model_module": "@jupyter-widgets/base",
       "_model_module_version": "2.0.0",
       "_model_name": "LayoutModel",
       "_view_count": null,
       "_view_module": "@jupyter-widgets/base",
       "_view_module_version": "2.0.0",
       "_view_name": "LayoutView",
       "align_content": null,
       "align_items": null,
       "align_self": null,
       "border_bottom": null,
       "border_left": null,
       "border_right": null,
       "border_top": null,
       "bottom": null,
       "display": null,
       "flex": null,
       "flex_flow": null,
       "grid_area": null,
       "grid_auto_columns": null,
       "grid_auto_flow": null,
       "grid_auto_rows": null,
       "grid_column": null,
       "grid_gap": null,
       "grid_row": null,
       "grid_template_areas": null,
       "grid_template_columns": null,
       "grid_template_rows": null,
       "height": null,
       "justify_content": null,
       "justify_items": null,
       "left": null,
       "margin": null,
       "max_height": null,
       "max_width": null,
       "min_height": null,
       "min_width": null,
       "object_fit": null,
       "object_position": null,
       "order": null,
       "overflow": null,
       "padding": null,
       "right": null,
       "top": null,
       "visibility": null,
       "width": null
      }
     },
     "7c8c39f921b54b6e9fbf4be1367783c1": {
      "model_module": "@jupyter-widgets/controls",
      "model_module_version": "2.0.0",
      "model_name": "VBoxModel",
      "state": {
       "_dom_classes": [],
       "_model_module": "@jupyter-widgets/controls",
       "_model_module_version": "2.0.0",
       "_model_name": "VBoxModel",
       "_view_count": null,
       "_view_module": "@jupyter-widgets/controls",
       "_view_module_version": "2.0.0",
       "_view_name": "VBoxView",
       "box_style": "",
       "children": [
        "IPY_MODEL_330ab4f887b2486697efa78026361280"
       ],
       "layout": "IPY_MODEL_b011f6735d5f42ef82d316d724797623",
       "tabbable": null,
       "tooltip": null
      }
     },
     "7f62adf310a84c8d96bc94d74bce2f67": {
      "model_module": "@jupyter-widgets/base",
      "model_module_version": "2.0.0",
      "model_name": "LayoutModel",
      "state": {
       "_model_module": "@jupyter-widgets/base",
       "_model_module_version": "2.0.0",
       "_model_name": "LayoutModel",
       "_view_count": null,
       "_view_module": "@jupyter-widgets/base",
       "_view_module_version": "2.0.0",
       "_view_name": "LayoutView",
       "align_content": null,
       "align_items": null,
       "align_self": null,
       "border_bottom": null,
       "border_left": null,
       "border_right": null,
       "border_top": null,
       "bottom": null,
       "display": null,
       "flex": null,
       "flex_flow": null,
       "grid_area": null,
       "grid_auto_columns": null,
       "grid_auto_flow": null,
       "grid_auto_rows": null,
       "grid_column": null,
       "grid_gap": null,
       "grid_row": null,
       "grid_template_areas": null,
       "grid_template_columns": null,
       "grid_template_rows": null,
       "height": null,
       "justify_content": null,
       "justify_items": null,
       "left": null,
       "margin": null,
       "max_height": null,
       "max_width": null,
       "min_height": null,
       "min_width": null,
       "object_fit": null,
       "object_position": null,
       "order": null,
       "overflow": null,
       "padding": null,
       "right": null,
       "top": null,
       "visibility": null,
       "width": null
      }
     },
     "83273b5f4b374af0be139b6ffb3ac676": {
      "model_module": "@jupyter-widgets/base",
      "model_module_version": "2.0.0",
      "model_name": "LayoutModel",
      "state": {
       "_model_module": "@jupyter-widgets/base",
       "_model_module_version": "2.0.0",
       "_model_name": "LayoutModel",
       "_view_count": null,
       "_view_module": "@jupyter-widgets/base",
       "_view_module_version": "2.0.0",
       "_view_name": "LayoutView",
       "align_content": null,
       "align_items": null,
       "align_self": null,
       "border_bottom": null,
       "border_left": null,
       "border_right": null,
       "border_top": null,
       "bottom": null,
       "display": null,
       "flex": null,
       "flex_flow": null,
       "grid_area": null,
       "grid_auto_columns": null,
       "grid_auto_flow": null,
       "grid_auto_rows": null,
       "grid_column": null,
       "grid_gap": null,
       "grid_row": null,
       "grid_template_areas": null,
       "grid_template_columns": null,
       "grid_template_rows": null,
       "height": null,
       "justify_content": null,
       "justify_items": null,
       "left": null,
       "margin": null,
       "max_height": null,
       "max_width": null,
       "min_height": null,
       "min_width": null,
       "object_fit": null,
       "object_position": null,
       "order": null,
       "overflow": null,
       "padding": null,
       "right": null,
       "top": null,
       "visibility": null,
       "width": null
      }
     },
     "83f2c7bafae3488db7f459cc449b77fc": {
      "model_module": "@jupyter-widgets/controls",
      "model_module_version": "2.0.0",
      "model_name": "LabelStyleModel",
      "state": {
       "_model_module": "@jupyter-widgets/controls",
       "_model_module_version": "2.0.0",
       "_model_name": "LabelStyleModel",
       "_view_count": null,
       "_view_module": "@jupyter-widgets/base",
       "_view_module_version": "2.0.0",
       "_view_name": "StyleView",
       "background": null,
       "description_width": "",
       "font_family": null,
       "font_size": null,
       "font_style": null,
       "font_variant": null,
       "font_weight": null,
       "text_color": null,
       "text_decoration": null
      }
     },
     "84dc1f04d3ae4ea3938bdb053a86906f": {
      "model_module": "@jupyter-widgets/base",
      "model_module_version": "2.0.0",
      "model_name": "LayoutModel",
      "state": {
       "_model_module": "@jupyter-widgets/base",
       "_model_module_version": "2.0.0",
       "_model_name": "LayoutModel",
       "_view_count": null,
       "_view_module": "@jupyter-widgets/base",
       "_view_module_version": "2.0.0",
       "_view_name": "LayoutView",
       "align_content": null,
       "align_items": null,
       "align_self": null,
       "border_bottom": null,
       "border_left": null,
       "border_right": null,
       "border_top": null,
       "bottom": null,
       "display": null,
       "flex": null,
       "flex_flow": null,
       "grid_area": null,
       "grid_auto_columns": null,
       "grid_auto_flow": null,
       "grid_auto_rows": null,
       "grid_column": null,
       "grid_gap": null,
       "grid_row": null,
       "grid_template_areas": null,
       "grid_template_columns": null,
       "grid_template_rows": null,
       "height": null,
       "justify_content": null,
       "justify_items": null,
       "left": null,
       "margin": null,
       "max_height": null,
       "max_width": null,
       "min_height": null,
       "min_width": null,
       "object_fit": null,
       "object_position": null,
       "order": null,
       "overflow": null,
       "padding": null,
       "right": null,
       "top": null,
       "visibility": null,
       "width": null
      }
     },
     "97fc4c1fd4f544798b58bd52def59e35": {
      "model_module": "@jupyter-widgets/controls",
      "model_module_version": "2.0.0",
      "model_name": "HTMLStyleModel",
      "state": {
       "_model_module": "@jupyter-widgets/controls",
       "_model_module_version": "2.0.0",
       "_model_name": "HTMLStyleModel",
       "_view_count": null,
       "_view_module": "@jupyter-widgets/base",
       "_view_module_version": "2.0.0",
       "_view_name": "StyleView",
       "background": null,
       "description_width": "",
       "font_size": null,
       "text_color": null
      }
     },
     "a2a471ccbe7c4ce6ac23fd9294821114": {
      "model_module": "@jupyter-widgets/controls",
      "model_module_version": "2.0.0",
      "model_name": "HTMLModel",
      "state": {
       "_dom_classes": [],
       "_model_module": "@jupyter-widgets/controls",
       "_model_module_version": "2.0.0",
       "_model_name": "HTMLModel",
       "_view_count": null,
       "_view_module": "@jupyter-widgets/controls",
       "_view_module_version": "2.0.0",
       "_view_name": "HTMLView",
       "description": "",
       "description_allow_html": false,
       "layout": "IPY_MODEL_a606f96be4274cde80bb775e8d1349ca",
       "placeholder": "​",
       "style": "IPY_MODEL_97fc4c1fd4f544798b58bd52def59e35",
       "tabbable": null,
       "tooltip": null,
       "value": "100%"
      }
     },
     "a4c0c07d94f14e20bb0fc88299e2d3e6": {
      "model_module": "@jupyter-widgets/controls",
      "model_module_version": "2.0.0",
      "model_name": "FloatProgressModel",
      "state": {
       "_dom_classes": [],
       "_model_module": "@jupyter-widgets/controls",
       "_model_module_version": "2.0.0",
       "_model_name": "FloatProgressModel",
       "_view_count": null,
       "_view_module": "@jupyter-widgets/controls",
       "_view_module_version": "2.0.0",
       "_view_name": "ProgressView",
       "bar_style": "success",
       "description": "",
       "description_allow_html": false,
       "layout": "IPY_MODEL_83273b5f4b374af0be139b6ffb3ac676",
       "max": 68496.0,
       "min": 0.0,
       "orientation": "horizontal",
       "style": "IPY_MODEL_54c47fb646dd4f16b5cc0add37be031b",
       "tabbable": null,
       "tooltip": null,
       "value": 68496.0
      }
     },
     "a606f96be4274cde80bb775e8d1349ca": {
      "model_module": "@jupyter-widgets/base",
      "model_module_version": "2.0.0",
      "model_name": "LayoutModel",
      "state": {
       "_model_module": "@jupyter-widgets/base",
       "_model_module_version": "2.0.0",
       "_model_name": "LayoutModel",
       "_view_count": null,
       "_view_module": "@jupyter-widgets/base",
       "_view_module_version": "2.0.0",
       "_view_name": "LayoutView",
       "align_content": null,
       "align_items": null,
       "align_self": null,
       "border_bottom": null,
       "border_left": null,
       "border_right": null,
       "border_top": null,
       "bottom": null,
       "display": null,
       "flex": null,
       "flex_flow": null,
       "grid_area": null,
       "grid_auto_columns": null,
       "grid_auto_flow": null,
       "grid_auto_rows": null,
       "grid_column": null,
       "grid_gap": null,
       "grid_row": null,
       "grid_template_areas": null,
       "grid_template_columns": null,
       "grid_template_rows": null,
       "height": null,
       "justify_content": null,
       "justify_items": null,
       "left": null,
       "margin": null,
       "max_height": null,
       "max_width": null,
       "min_height": null,
       "min_width": null,
       "object_fit": null,
       "object_position": null,
       "order": null,
       "overflow": null,
       "padding": null,
       "right": null,
       "top": null,
       "visibility": null,
       "width": null
      }
     },
     "b011f6735d5f42ef82d316d724797623": {
      "model_module": "@jupyter-widgets/base",
      "model_module_version": "2.0.0",
      "model_name": "LayoutModel",
      "state": {
       "_model_module": "@jupyter-widgets/base",
       "_model_module_version": "2.0.0",
       "_model_name": "LayoutModel",
       "_view_count": null,
       "_view_module": "@jupyter-widgets/base",
       "_view_module_version": "2.0.0",
       "_view_name": "LayoutView",
       "align_content": null,
       "align_items": null,
       "align_self": null,
       "border_bottom": null,
       "border_left": null,
       "border_right": null,
       "border_top": null,
       "bottom": null,
       "display": null,
       "flex": null,
       "flex_flow": null,
       "grid_area": null,
       "grid_auto_columns": null,
       "grid_auto_flow": null,
       "grid_auto_rows": null,
       "grid_column": null,
       "grid_gap": null,
       "grid_row": null,
       "grid_template_areas": null,
       "grid_template_columns": null,
       "grid_template_rows": null,
       "height": null,
       "justify_content": null,
       "justify_items": null,
       "left": null,
       "margin": null,
       "max_height": null,
       "max_width": null,
       "min_height": null,
       "min_width": null,
       "object_fit": null,
       "object_position": null,
       "order": null,
       "overflow": null,
       "padding": null,
       "right": null,
       "top": null,
       "visibility": null,
       "width": null
      }
     },
     "c8822f3a480c4f018c91c11a44af05e1": {
      "model_module": "@jupyter-widgets/base",
      "model_module_version": "2.0.0",
      "model_name": "LayoutModel",
      "state": {
       "_model_module": "@jupyter-widgets/base",
       "_model_module_version": "2.0.0",
       "_model_name": "LayoutModel",
       "_view_count": null,
       "_view_module": "@jupyter-widgets/base",
       "_view_module_version": "2.0.0",
       "_view_name": "LayoutView",
       "align_content": null,
       "align_items": null,
       "align_self": null,
       "border_bottom": null,
       "border_left": null,
       "border_right": null,
       "border_top": null,
       "bottom": null,
       "display": null,
       "flex": null,
       "flex_flow": null,
       "grid_area": null,
       "grid_auto_columns": null,
       "grid_auto_flow": null,
       "grid_auto_rows": null,
       "grid_column": null,
       "grid_gap": null,
       "grid_row": null,
       "grid_template_areas": null,
       "grid_template_columns": null,
       "grid_template_rows": null,
       "height": null,
       "justify_content": null,
       "justify_items": null,
       "left": null,
       "margin": null,
       "max_height": null,
       "max_width": null,
       "min_height": null,
       "min_width": null,
       "object_fit": null,
       "object_position": null,
       "order": null,
       "overflow": null,
       "padding": null,
       "right": null,
       "top": null,
       "visibility": null,
       "width": null
      }
     },
     "d638186ae0f3468493ebb4f765411b5b": {
      "model_module": "@jupyter-widgets/controls",
      "model_module_version": "2.0.0",
      "model_name": "ProgressStyleModel",
      "state": {
       "_model_module": "@jupyter-widgets/controls",
       "_model_module_version": "2.0.0",
       "_model_name": "ProgressStyleModel",
       "_view_count": null,
       "_view_module": "@jupyter-widgets/base",
       "_view_module_version": "2.0.0",
       "_view_name": "StyleView",
       "bar_color": null,
       "description_width": ""
      }
     },
     "d9d5073cdf5b420696f7c2f833429c15": {
      "model_module": "@jupyter-widgets/controls",
      "model_module_version": "2.0.0",
      "model_name": "ProgressStyleModel",
      "state": {
       "_model_module": "@jupyter-widgets/controls",
       "_model_module_version": "2.0.0",
       "_model_name": "ProgressStyleModel",
       "_view_count": null,
       "_view_module": "@jupyter-widgets/base",
       "_view_module_version": "2.0.0",
       "_view_name": "StyleView",
       "bar_color": null,
       "description_width": ""
      }
     },
     "db927cdba9f745488c386a6af87caf68": {
      "model_module": "@jupyter-widgets/base",
      "model_module_version": "2.0.0",
      "model_name": "LayoutModel",
      "state": {
       "_model_module": "@jupyter-widgets/base",
       "_model_module_version": "2.0.0",
       "_model_name": "LayoutModel",
       "_view_count": null,
       "_view_module": "@jupyter-widgets/base",
       "_view_module_version": "2.0.0",
       "_view_name": "LayoutView",
       "align_content": null,
       "align_items": null,
       "align_self": null,
       "border_bottom": null,
       "border_left": null,
       "border_right": null,
       "border_top": null,
       "bottom": null,
       "display": null,
       "flex": null,
       "flex_flow": null,
       "grid_area": null,
       "grid_auto_columns": null,
       "grid_auto_flow": null,
       "grid_auto_rows": null,
       "grid_column": null,
       "grid_gap": null,
       "grid_row": null,
       "grid_template_areas": null,
       "grid_template_columns": null,
       "grid_template_rows": null,
       "height": null,
       "justify_content": null,
       "justify_items": null,
       "left": null,
       "margin": null,
       "max_height": null,
       "max_width": null,
       "min_height": null,
       "min_width": null,
       "object_fit": null,
       "object_position": null,
       "order": null,
       "overflow": null,
       "padding": null,
       "right": null,
       "top": null,
       "visibility": null,
       "width": null
      }
     },
     "dbd5460a7e15426d987b4f2660ce20f5": {
      "model_module": "@jupyter-widgets/controls",
      "model_module_version": "2.0.0",
      "model_name": "HTMLStyleModel",
      "state": {
       "_model_module": "@jupyter-widgets/controls",
       "_model_module_version": "2.0.0",
       "_model_name": "HTMLStyleModel",
       "_view_count": null,
       "_view_module": "@jupyter-widgets/base",
       "_view_module_version": "2.0.0",
       "_view_name": "StyleView",
       "background": null,
       "description_width": "",
       "font_size": null,
       "text_color": null
      }
     },
     "dd6be3e00ec5416ab9481855fd1e8db2": {
      "model_module": "@jupyter-widgets/controls",
      "model_module_version": "2.0.0",
      "model_name": "IntProgressModel",
      "state": {
       "_dom_classes": [],
       "_model_module": "@jupyter-widgets/controls",
       "_model_module_version": "2.0.0",
       "_model_name": "IntProgressModel",
       "_view_count": null,
       "_view_module": "@jupyter-widgets/controls",
       "_view_module_version": "2.0.0",
       "_view_name": "ProgressView",
       "bar_style": "success",
       "description": "100.00%",
       "description_allow_html": false,
       "layout": "IPY_MODEL_68db8fd40c7a49cfabe22637ffebdb21",
       "max": 68496,
       "min": 0,
       "orientation": "horizontal",
       "style": "IPY_MODEL_66899eb96d0a4a309001f0da5816232b",
       "tabbable": null,
       "tooltip": null,
       "value": 68496
      }
     },
     "de6ec1e0994943b08b65bbeea61373b9": {
      "model_module": "@jupyter-widgets/controls",
      "model_module_version": "2.0.0",
      "model_name": "HTMLStyleModel",
      "state": {
       "_model_module": "@jupyter-widgets/controls",
       "_model_module_version": "2.0.0",
       "_model_name": "HTMLStyleModel",
       "_view_count": null,
       "_view_module": "@jupyter-widgets/base",
       "_view_module_version": "2.0.0",
       "_view_name": "StyleView",
       "background": null,
       "description_width": "",
       "font_size": null,
       "text_color": null
      }
     },
     "e1b69b16075646bf80a606717fc6cf0e": {
      "model_module": "@jupyter-widgets/controls",
      "model_module_version": "2.0.0",
      "model_name": "HTMLStyleModel",
      "state": {
       "_model_module": "@jupyter-widgets/controls",
       "_model_module_version": "2.0.0",
       "_model_name": "HTMLStyleModel",
       "_view_count": null,
       "_view_module": "@jupyter-widgets/base",
       "_view_module_version": "2.0.0",
       "_view_name": "StyleView",
       "background": null,
       "description_width": "",
       "font_size": null,
       "text_color": null
      }
     },
     "eadb614e704c4f3681298ec3760fe41e": {
      "model_module": "@jupyter-widgets/controls",
      "model_module_version": "2.0.0",
      "model_name": "LabelModel",
      "state": {
       "_dom_classes": [],
       "_model_module": "@jupyter-widgets/controls",
       "_model_module_version": "2.0.0",
       "_model_name": "LabelModel",
       "_view_count": null,
       "_view_module": "@jupyter-widgets/controls",
       "_view_module_version": "2.0.0",
       "_view_name": "LabelView",
       "description": "",
       "description_allow_html": false,
       "layout": "IPY_MODEL_2a0756f215eb4a9685395b800f4a88d4",
       "placeholder": "​",
       "style": "IPY_MODEL_83f2c7bafae3488db7f459cc449b77fc",
       "tabbable": null,
       "tooltip": null,
       "value": "68496 / 68496"
      }
     },
     "eba965c67d9c4871aec02c484ab092ae": {
      "model_module": "@jupyter-widgets/controls",
      "model_module_version": "2.0.0",
      "model_name": "HBoxModel",
      "state": {
       "_dom_classes": [],
       "_model_module": "@jupyter-widgets/controls",
       "_model_module_version": "2.0.0",
       "_model_name": "HBoxModel",
       "_view_count": null,
       "_view_module": "@jupyter-widgets/controls",
       "_view_module_version": "2.0.0",
       "_view_name": "HBoxView",
       "box_style": "",
       "children": [
        "IPY_MODEL_a2a471ccbe7c4ce6ac23fd9294821114",
        "IPY_MODEL_20cb055529bd4aba8aae18e953505da1",
        "IPY_MODEL_53c157f6900e439a822912e1e672ad69"
       ],
       "layout": "IPY_MODEL_6953f061ea31499ebc3d4fa442a2dbf5",
       "tabbable": null,
       "tooltip": null
      }
     },
     "f5ad3994f9a7409e885679889ab43964": {
      "model_module": "@jupyter-widgets/base",
      "model_module_version": "2.0.0",
      "model_name": "LayoutModel",
      "state": {
       "_model_module": "@jupyter-widgets/base",
       "_model_module_version": "2.0.0",
       "_model_name": "LayoutModel",
       "_view_count": null,
       "_view_module": "@jupyter-widgets/base",
       "_view_module_version": "2.0.0",
       "_view_name": "LayoutView",
       "align_content": null,
       "align_items": null,
       "align_self": null,
       "border_bottom": null,
       "border_left": null,
       "border_right": null,
       "border_top": null,
       "bottom": null,
       "display": null,
       "flex": null,
       "flex_flow": null,
       "grid_area": null,
       "grid_auto_columns": null,
       "grid_auto_flow": null,
       "grid_auto_rows": null,
       "grid_column": null,
       "grid_gap": null,
       "grid_row": null,
       "grid_template_areas": null,
       "grid_template_columns": null,
       "grid_template_rows": null,
       "height": null,
       "justify_content": null,
       "justify_items": null,
       "left": null,
       "margin": null,
       "max_height": null,
       "max_width": null,
       "min_height": null,
       "min_width": null,
       "object_fit": null,
       "object_position": null,
       "order": null,
       "overflow": null,
       "padding": null,
       "right": null,
       "top": null,
       "visibility": null,
       "width": null
      }
     }
    },
    "version_major": 2,
    "version_minor": 0
   }
  }
 },
 "nbformat": 4,
 "nbformat_minor": 5
}