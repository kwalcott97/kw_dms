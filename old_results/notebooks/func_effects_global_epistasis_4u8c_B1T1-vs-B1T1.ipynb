{
 "cells": [
  {
   "cell_type": "markdown",
   "id": "cd032799-f956-4da8-baad-43dff0af1046",
   "metadata": {
    "papermill": {
     "duration": 0.005738,
     "end_time": "2023-11-19T23:06:51.595782",
     "exception": false,
     "start_time": "2023-11-19T23:06:51.590044",
     "status": "completed"
    },
    "tags": []
   },
   "source": [
    "# Fit global epistasis models to functional scores for each selection to get mutation functional effects\n",
    "\n",
    "Import Python modules.\n",
    "We use `multidms` for the fitting:"
   ]
  },
  {
   "cell_type": "code",
   "execution_count": 1,
   "id": "6653d04b-720e-4959-a8d8-006ce97190b6",
   "metadata": {
    "execution": {
     "iopub.execute_input": "2023-11-19T23:06:51.615517Z",
     "iopub.status.busy": "2023-11-19T23:06:51.614555Z",
     "iopub.status.idle": "2023-11-19T23:06:53.283669Z",
     "shell.execute_reply": "2023-11-19T23:06:53.283279Z"
    },
    "papermill": {
     "duration": 1.684136,
     "end_time": "2023-11-19T23:06:53.285111",
     "exception": false,
     "start_time": "2023-11-19T23:06:51.600975",
     "status": "completed"
    },
    "tags": []
   },
   "outputs": [],
   "source": [
    "import dms_variants.codonvarianttable\n",
    "\n",
    "import matplotlib.pyplot as plt\n",
    "\n",
    "import multidms\n",
    "\n",
    "import pandas as pd"
   ]
  },
  {
   "cell_type": "markdown",
   "id": "0276731c-0a6f-4820-9edb-b61ab1e2ace8",
   "metadata": {
    "papermill": {
     "duration": 0.00237,
     "end_time": "2023-11-19T23:06:53.289213",
     "exception": false,
     "start_time": "2023-11-19T23:06:53.286843",
     "status": "completed"
    },
    "tags": []
   },
   "source": [
    "This notebook is parameterized by `papermill`.\n",
    "The next cell is tagged as `parameters` to get the passed parameters."
   ]
  },
  {
   "cell_type": "code",
   "execution_count": 2,
   "id": "9ddd6a5a-5e55-4386-872b-ad9ce2af3d19",
   "metadata": {
    "editable": true,
    "execution": {
     "iopub.execute_input": "2023-11-19T23:06:53.294384Z",
     "iopub.status.busy": "2023-11-19T23:06:53.294024Z",
     "iopub.status.idle": "2023-11-19T23:06:53.302662Z",
     "shell.execute_reply": "2023-11-19T23:06:53.300783Z"
    },
    "papermill": {
     "duration": 0.025477,
     "end_time": "2023-11-19T23:06:53.316206",
     "exception": false,
     "start_time": "2023-11-19T23:06:53.290729",
     "status": "completed"
    },
    "slideshow": {
     "slide_type": ""
    },
    "tags": [
     "parameters"
    ]
   },
   "outputs": [],
   "source": [
    "# this cell is tagged parameters for `papermill` parameterization\n",
    "selection = None\n",
    "func_scores = None\n",
    "func_effects = None\n",
    "global_epistasis_params = None\n",
    "threads = None"
   ]
  },
  {
   "cell_type": "code",
   "execution_count": 3,
   "id": "a1281362",
   "metadata": {
    "execution": {
     "iopub.execute_input": "2023-11-19T23:06:53.334195Z",
     "iopub.status.busy": "2023-11-19T23:06:53.332220Z",
     "iopub.status.idle": "2023-11-19T23:06:53.337408Z",
     "shell.execute_reply": "2023-11-19T23:06:53.336996Z"
    },
    "papermill": {
     "duration": 0.020609,
     "end_time": "2023-11-19T23:06:53.338599",
     "exception": false,
     "start_time": "2023-11-19T23:06:53.317990",
     "status": "completed"
    },
    "tags": [
     "injected-parameters"
    ]
   },
   "outputs": [],
   "source": [
    "# Parameters\n",
    "global_epistasis_params = {\n",
    "    \"clip_lower\": \"median_stop\",\n",
    "    \"clip_upper\": None,\n",
    "    \"collapse_identical_variants\": False,\n",
    "}\n",
    "selection = \"4u8c_B1T1-vs-B1T1\"\n",
    "func_scores = \"results/func_scores/4u8c_B1T1-vs-B1T1_func_scores.csv\"\n",
    "func_effects = \"results/func_effects/by_selection/4u8c_B1T1-vs-B1T1_func_effects.csv\"\n",
    "threads = 1\n"
   ]
  },
  {
   "cell_type": "markdown",
   "id": "614d381c-9100-4248-8a56-bb6d8bb15789",
   "metadata": {
    "papermill": {
     "duration": 0.005815,
     "end_time": "2023-11-19T23:06:53.346154",
     "exception": false,
     "start_time": "2023-11-19T23:06:53.340339",
     "status": "completed"
    },
    "tags": []
   },
   "source": [
    "Read and clip functional scores:"
   ]
  },
  {
   "cell_type": "code",
   "execution_count": 4,
   "id": "a2a93f3e-46f7-4a62-b10b-d1bc7fe1a30f",
   "metadata": {
    "execution": {
     "iopub.execute_input": "2023-11-19T23:06:53.360540Z",
     "iopub.status.busy": "2023-11-19T23:06:53.359982Z",
     "iopub.status.idle": "2023-11-19T23:06:53.706120Z",
     "shell.execute_reply": "2023-11-19T23:06:53.705645Z"
    },
    "papermill": {
     "duration": 0.35938,
     "end_time": "2023-11-19T23:06:53.707276",
     "exception": false,
     "start_time": "2023-11-19T23:06:53.347896",
     "status": "completed"
    },
    "tags": []
   },
   "outputs": [
    {
     "name": "stdout",
     "output_type": "stream",
     "text": [
      "No clipping on upper bound of functional scores\n",
      "Clipping lower bound of functional scores to -4.796\n"
     ]
    }
   ],
   "source": [
    "func_scores_df = (\n",
    "    pd.read_csv(func_scores, na_filter=None)\n",
    "    .assign(condition=selection)\n",
    "    .pipe(dms_variants.codonvarianttable.CodonVariantTable.classifyVariants)\n",
    ")\n",
    "\n",
    "median_stop = func_scores_df.query(\"variant_class == 'stop'\")[\"func_score\"].median()\n",
    "\n",
    "for bound in [\"upper\", \"lower\"]:\n",
    "    clip = global_epistasis_params[f\"clip_{bound}\"]\n",
    "    if clip is None:\n",
    "        print(f\"No clipping on {bound} bound of functional scores\")\n",
    "    else:\n",
    "        if clip == \"median_stop\":\n",
    "            if pd.isnull(median_stop):\n",
    "                raise ValueError(f\"{median_stop=}\")\n",
    "            clip = median_stop\n",
    "        assert isinstance(clip, (int, float)), clip\n",
    "        print(f\"Clipping {bound} bound of functional scores to {clip}\")\n",
    "        func_scores_df[\"func_score\"] = func_scores_df[\"func_score\"].clip(\n",
    "            **{bound: clip}\n",
    "        )"
   ]
  },
  {
   "cell_type": "markdown",
   "id": "e49b2327-cf48-4dbd-9788-a89a61f072fe",
   "metadata": {
    "papermill": {
     "duration": 0.001874,
     "end_time": "2023-11-19T23:06:53.711320",
     "exception": false,
     "start_time": "2023-11-19T23:06:53.709446",
     "status": "completed"
    },
    "tags": []
   },
   "source": [
    "Initialize the data for `multidms`:"
   ]
  },
  {
   "cell_type": "code",
   "execution_count": 5,
   "id": "cab4c4b4-220f-4163-8d69-1bfaa92d360f",
   "metadata": {
    "execution": {
     "iopub.execute_input": "2023-11-19T23:06:53.719747Z",
     "iopub.status.busy": "2023-11-19T23:06:53.718887Z",
     "iopub.status.idle": "2023-11-19T23:07:01.058241Z",
     "shell.execute_reply": "2023-11-19T23:07:01.056739Z"
    },
    "papermill": {
     "duration": 7.347173,
     "end_time": "2023-11-19T23:07:01.060404",
     "exception": false,
     "start_time": "2023-11-19T23:06:53.713231",
     "status": "completed"
    },
    "tags": []
   },
   "outputs": [
    {
     "name": "stdout",
     "output_type": "stream",
     "text": [
      "inferring site map for 4u8c_B1T1-vs-B1T1\n"
     ]
    },
    {
     "data": {
      "application/vnd.jupyter.widget-view+json": {
       "model_id": "c0b8ccef56454d239a8c84b5654b9209",
       "version_major": 2,
       "version_minor": 0
      },
      "text/plain": [
       "  0%|          | 0/71418 [00:00<?, ?it/s]"
      ]
     },
     "metadata": {},
     "output_type": "display_data"
    },
    {
     "name": "stdout",
     "output_type": "stream",
     "text": [
      "Asserting site integrity\n"
     ]
    },
    {
     "data": {
      "application/vnd.jupyter.widget-view+json": {
       "model_id": "56898ee554d545bf88491bc2e44cc39c",
       "version_major": 2,
       "version_minor": 0
      },
      "text/plain": [
       "  0%|          | 0/71418 [00:00<?, ?it/s]"
      ]
     },
     "metadata": {},
     "output_type": "display_data"
    },
    {
     "name": "stdout",
     "output_type": "stream",
     "text": [
      "INFO: Pandarallel will run on 1 workers.\n",
      "INFO: Pandarallel will use standard multiprocessing data transfer (pipe) to transfer data between the main process and workers.\n"
     ]
    },
    {
     "data": {
      "application/vnd.jupyter.widget-view+json": {
       "model_id": "bfa49b1569c445d8818be3a455b7dd90",
       "version_major": 2,
       "version_minor": 0
      },
      "text/plain": [
       "VBox(children=(HBox(children=(IntProgress(value=0, description='0.00%', max=71418), Label(value='0 / 71418')))…"
      ]
     },
     "metadata": {},
     "output_type": "display_data"
    },
    {
     "name": "stdout",
     "output_type": "stream",
     "text": [
      "unknown cond wildtype at sites: [],\n",
      "dropping: 0 variantswhich have mutations at those sites.\n"
     ]
    },
    {
     "data": {
      "application/vnd.jupyter.widget-view+json": {
       "model_id": "5e71be8de4c74b0d8e653b71c55c8828",
       "version_major": 2,
       "version_minor": 0
      },
      "text/plain": [
       "VBox(children=(HBox(children=(IntProgress(value=0, description='0.00%', max=71418), Label(value='0 / 71418')))…"
      ]
     },
     "metadata": {},
     "output_type": "display_data"
    },
    {
     "name": "stdout",
     "output_type": "stream",
     "text": [
      "invalid non-identical-sites: [], dropping 0 variants\n",
      "Converting mutations for 4u8c_B1T1-vs-B1T1\n",
      "is reference, skipping\n"
     ]
    }
   ],
   "source": [
    "data = multidms.Data(\n",
    "    variants_df=func_scores_df,\n",
    "    reference=selection,\n",
    "    alphabet=multidms.AAS_WITHSTOP_WITHGAP,\n",
    "    collapse_identical_variants=global_epistasis_params[\"collapse_identical_variants\"],\n",
    "    letter_suffixed_sites=True,\n",
    "    verbose=True,\n",
    "    nb_workers=threads,\n",
    "    assert_site_integrity=True,\n",
    ")"
   ]
  },
  {
   "cell_type": "markdown",
   "id": "56950b43-89da-4661-a925-3685c3a943a8",
   "metadata": {
    "papermill": {
     "duration": 0.00184,
     "end_time": "2023-11-19T23:07:01.064563",
     "exception": false,
     "start_time": "2023-11-19T23:07:01.062723",
     "status": "completed"
    },
    "tags": []
   },
   "source": [
    "Now initialize the `multidms` model and fit it:"
   ]
  },
  {
   "cell_type": "code",
   "execution_count": 6,
   "id": "bd05a910-e212-49e8-b1e8-343ea405567b",
   "metadata": {
    "execution": {
     "iopub.execute_input": "2023-11-19T23:07:01.069079Z",
     "iopub.status.busy": "2023-11-19T23:07:01.068885Z",
     "iopub.status.idle": "2023-11-19T23:07:06.332252Z",
     "shell.execute_reply": "2023-11-19T23:07:06.331763Z"
    },
    "papermill": {
     "duration": 5.267797,
     "end_time": "2023-11-19T23:07:06.334153",
     "exception": false,
     "start_time": "2023-11-19T23:07:01.066356",
     "status": "completed"
    },
    "tags": []
   },
   "outputs": [],
   "source": [
    "# initialize with default params, which give sigmoid global epistasis function\n",
    "model = multidms.Model(data)\n",
    "\n",
    "model.fit()"
   ]
  },
  {
   "cell_type": "markdown",
   "id": "946007e7-51e4-486a-b497-60871c1b0776",
   "metadata": {
    "papermill": {
     "duration": 0.001997,
     "end_time": "2023-11-19T23:07:06.338639",
     "exception": false,
     "start_time": "2023-11-19T23:07:06.336642",
     "status": "completed"
    },
    "tags": []
   },
   "source": [
    "Look at accuracy of predictions and the global epistasis fit:"
   ]
  },
  {
   "cell_type": "code",
   "execution_count": 7,
   "id": "f489280a-0f99-4782-9fcd-01c071255cd5",
   "metadata": {
    "execution": {
     "iopub.execute_input": "2023-11-19T23:07:06.345127Z",
     "iopub.status.busy": "2023-11-19T23:07:06.344958Z",
     "iopub.status.idle": "2023-11-19T23:07:08.432950Z",
     "shell.execute_reply": "2023-11-19T23:07:08.432205Z"
    },
    "papermill": {
     "duration": 2.09396,
     "end_time": "2023-11-19T23:07:08.434756",
     "exception": false,
     "start_time": "2023-11-19T23:07:06.340796",
     "status": "completed"
    },
    "tags": []
   },
   "outputs": [
    {
     "data": {
      "image/png": "[encoded data removed]",
      "text/plain": [
       "<Figure size 800x400 with 2 Axes>"
      ]
     },
     "metadata": {},
     "output_type": "display_data"
    }
   ],
   "source": [
    "fig, ax = plt.subplots(1, 2, figsize=[8, 4])\n",
    "model.plot_epistasis(ax=ax[1], alpha=0.1, show=False, legend=False)\n",
    "model.plot_pred_accuracy(ax=ax[0], alpha=0.1, show=False, legend=False)\n",
    "ax[1].set_title(\"Global epistasis fit\")\n",
    "ax[0].set_title(\"Training set accuracy\")\n",
    "plt.show()"
   ]
  },
  {
   "cell_type": "markdown",
   "id": "5d106ebe-0540-4a8f-83fa-c90b56ef1ebc",
   "metadata": {
    "papermill": {
     "duration": 0.003759,
     "end_time": "2023-11-19T23:07:08.442317",
     "exception": false,
     "start_time": "2023-11-19T23:07:08.438558",
     "status": "completed"
    },
    "tags": []
   },
   "source": [
    "Plot the distribution of latent phenotype functional scores with a few different cutoffs on `times_seen` (the number of variants in which a mutaiton is seen):"
   ]
  },
  {
   "cell_type": "code",
   "execution_count": 8,
   "id": "0c0cc7ec-d874-4cc0-ab2b-04e9a94ce940",
   "metadata": {
    "execution": {
     "iopub.execute_input": "2023-11-19T23:07:08.451651Z",
     "iopub.status.busy": "2023-11-19T23:07:08.451478Z",
     "iopub.status.idle": "2023-11-19T23:07:12.456965Z",
     "shell.execute_reply": "2023-11-19T23:07:12.456106Z"
    },
    "papermill": {
     "duration": 4.013794,
     "end_time": "2023-11-19T23:07:12.459841",
     "exception": false,
     "start_time": "2023-11-19T23:07:08.446047",
     "status": "completed"
    },
    "tags": []
   },
   "outputs": [
    {
     "data": {
      "image/png": "[encoded data removed]",
      "text/plain": [
       "<Figure size 700x800 with 3 Axes>"
      ]
     },
     "metadata": {},
     "output_type": "display_data"
    }
   ],
   "source": [
    "fig, axes = plt.subplots(3, 1, figsize=[7, 8])\n",
    "for times_seen, ax in zip([1, 3, 5], axes):\n",
    "    model.plot_param_hist(\"beta\", ax=ax, show=False, times_seen_threshold=times_seen)\n",
    "    ax.legend()\n",
    "    ax.set_title(\n",
    "        f\"Latent-phenotype effects of mutations with times_seen >= {times_seen}\"\n",
    "    )\n",
    "plt.tight_layout()\n",
    "plt.show()"
   ]
  },
  {
   "cell_type": "markdown",
   "id": "0c329339-a135-47e0-8780-78870e358df0",
   "metadata": {
    "execution": {
     "iopub.execute_input": "2023-07-10T10:42:28.100776Z",
     "iopub.status.busy": "2023-07-10T10:42:28.100457Z",
     "iopub.status.idle": "2023-07-10T10:42:28.109737Z",
     "shell.execute_reply": "2023-07-10T10:42:28.109042Z",
     "shell.execute_reply.started": "2023-07-10T10:42:28.100758Z"
    },
    "papermill": {
     "duration": 0.003355,
     "end_time": "2023-11-19T23:07:12.466994",
     "exception": false,
     "start_time": "2023-11-19T23:07:12.463639",
     "status": "completed"
    },
    "tags": []
   },
   "source": [
    "Get the effect of each mutation on the latent phenotype observed phenotype of the functional score (which we simply call the \"functional effect\" of the mutation):"
   ]
  },
  {
   "cell_type": "code",
   "execution_count": 9,
   "id": "e130655f-b10a-45c9-bfed-6e26af440db8",
   "metadata": {
    "execution": {
     "iopub.execute_input": "2023-11-19T23:07:12.475064Z",
     "iopub.status.busy": "2023-11-19T23:07:12.474888Z",
     "iopub.status.idle": "2023-11-19T23:07:13.386233Z",
     "shell.execute_reply": "2023-11-19T23:07:13.385577Z"
    },
    "papermill": {
     "duration": 0.916733,
     "end_time": "2023-11-19T23:07:13.387356",
     "exception": false,
     "start_time": "2023-11-19T23:07:12.470623",
     "status": "completed"
    },
    "tags": []
   },
   "outputs": [
    {
     "data": {
      "text/html": [
       "<div>\n",
       "<style scoped>\n",
       "    .dataframe tbody tr th:only-of-type {\n",
       "        vertical-align: middle;\n",
       "    }\n",
       "\n",
       "    .dataframe tbody tr th {\n",
       "        vertical-align: top;\n",
       "    }\n",
       "\n",
       "    .dataframe thead th {\n",
       "        text-align: right;\n",
       "    }\n",
       "</style>\n",
       "<table border=\"1\" class=\"dataframe\">\n",
       "  <thead>\n",
       "    <tr style=\"text-align: right;\">\n",
       "      <th></th>\n",
       "      <th>wildtype</th>\n",
       "      <th>site</th>\n",
       "      <th>mutant</th>\n",
       "      <th>times_seen</th>\n",
       "      <th>latent_phenotype_effect</th>\n",
       "      <th>functional_effect</th>\n",
       "    </tr>\n",
       "  </thead>\n",
       "  <tbody>\n",
       "    <tr>\n",
       "      <th>0</th>\n",
       "      <td>M</td>\n",
       "      <td>1</td>\n",
       "      <td>M</td>\n",
       "      <td>NaN</td>\n",
       "      <td>0.000000</td>\n",
       "      <td>0.000000</td>\n",
       "    </tr>\n",
       "    <tr>\n",
       "      <th>1</th>\n",
       "      <td>M</td>\n",
       "      <td>1</td>\n",
       "      <td>T</td>\n",
       "      <td>2.0</td>\n",
       "      <td>-1.816917</td>\n",
       "      <td>-0.414171</td>\n",
       "    </tr>\n",
       "    <tr>\n",
       "      <th>2</th>\n",
       "      <td>L</td>\n",
       "      <td>10</td>\n",
       "      <td>I</td>\n",
       "      <td>44.0</td>\n",
       "      <td>-0.745477</td>\n",
       "      <td>-0.095220</td>\n",
       "    </tr>\n",
       "    <tr>\n",
       "      <th>3</th>\n",
       "      <td>L</td>\n",
       "      <td>10</td>\n",
       "      <td>L</td>\n",
       "      <td>NaN</td>\n",
       "      <td>0.000000</td>\n",
       "      <td>0.000000</td>\n",
       "    </tr>\n",
       "    <tr>\n",
       "      <th>4</th>\n",
       "      <td>L</td>\n",
       "      <td>10</td>\n",
       "      <td>M</td>\n",
       "      <td>8.0</td>\n",
       "      <td>3.513909</td>\n",
       "      <td>0.086519</td>\n",
       "    </tr>\n",
       "    <tr>\n",
       "      <th>...</th>\n",
       "      <td>...</td>\n",
       "      <td>...</td>\n",
       "      <td>...</td>\n",
       "      <td>...</td>\n",
       "      <td>...</td>\n",
       "      <td>...</td>\n",
       "    </tr>\n",
       "    <tr>\n",
       "      <th>8732</th>\n",
       "      <td>G</td>\n",
       "      <td>999</td>\n",
       "      <td>C</td>\n",
       "      <td>7.0</td>\n",
       "      <td>-1.378911</td>\n",
       "      <td>-0.247467</td>\n",
       "    </tr>\n",
       "    <tr>\n",
       "      <th>8733</th>\n",
       "      <td>G</td>\n",
       "      <td>999</td>\n",
       "      <td>D</td>\n",
       "      <td>6.0</td>\n",
       "      <td>-7.180136</td>\n",
       "      <td>-4.781184</td>\n",
       "    </tr>\n",
       "    <tr>\n",
       "      <th>8734</th>\n",
       "      <td>G</td>\n",
       "      <td>999</td>\n",
       "      <td>G</td>\n",
       "      <td>NaN</td>\n",
       "      <td>0.000000</td>\n",
       "      <td>0.000000</td>\n",
       "    </tr>\n",
       "    <tr>\n",
       "      <th>8735</th>\n",
       "      <td>G</td>\n",
       "      <td>999</td>\n",
       "      <td>S</td>\n",
       "      <td>3.0</td>\n",
       "      <td>0.309995</td>\n",
       "      <td>0.023474</td>\n",
       "    </tr>\n",
       "    <tr>\n",
       "      <th>8736</th>\n",
       "      <td>G</td>\n",
       "      <td>999</td>\n",
       "      <td>V</td>\n",
       "      <td>1.0</td>\n",
       "      <td>-0.784087</td>\n",
       "      <td>-0.102207</td>\n",
       "    </tr>\n",
       "  </tbody>\n",
       "</table>\n",
       "<p>8737 rows × 6 columns</p>\n",
       "</div>"
      ],
      "text/plain": [
       "     wildtype site mutant  times_seen  latent_phenotype_effect  \\\n",
       "0           M    1      M         NaN                 0.000000   \n",
       "1           M    1      T         2.0                -1.816917   \n",
       "2           L   10      I        44.0                -0.745477   \n",
       "3           L   10      L         NaN                 0.000000   \n",
       "4           L   10      M         8.0                 3.513909   \n",
       "...       ...  ...    ...         ...                      ...   \n",
       "8732        G  999      C         7.0                -1.378911   \n",
       "8733        G  999      D         6.0                -7.180136   \n",
       "8734        G  999      G         NaN                 0.000000   \n",
       "8735        G  999      S         3.0                 0.309995   \n",
       "8736        G  999      V         1.0                -0.784087   \n",
       "\n",
       "      functional_effect  \n",
       "0              0.000000  \n",
       "1             -0.414171  \n",
       "2             -0.095220  \n",
       "3              0.000000  \n",
       "4              0.086519  \n",
       "...                 ...  \n",
       "8732          -0.247467  \n",
       "8733          -4.781184  \n",
       "8734           0.000000  \n",
       "8735           0.023474  \n",
       "8736          -0.102207  \n",
       "\n",
       "[8737 rows x 6 columns]"
      ]
     },
     "execution_count": 9,
     "metadata": {},
     "output_type": "execute_result"
    }
   ],
   "source": [
    "mut_effects = (\n",
    "    pd.concat(\n",
    "        [\n",
    "            # get mutant effects\n",
    "            (\n",
    "                model.get_mutations_df(phenotype_as_effect=True).rename(\n",
    "                    columns={\n",
    "                        f\"times_seen_{selection}\": \"times_seen\",\n",
    "                        \"wts\": \"wildtype\",\n",
    "                        \"sites\": \"site\",\n",
    "                        \"muts\": \"mutant\",\n",
    "                        f\"{selection}_predicted_func_score\": \"functional_effect\",\n",
    "                        \"beta\": \"latent_phenotype_effect\",\n",
    "                    }\n",
    "                )\n",
    "            ),\n",
    "            # add wildtypes, which all have effects of 0\n",
    "            pd.DataFrame(\n",
    "                {\n",
    "                    \"site\": data.site_map.index,\n",
    "                    \"wildtype\": data.site_map[selection],\n",
    "                    \"mutant\": data.site_map[selection],\n",
    "                    \"latent_phenotype_effect\": 0,\n",
    "                    \"functional_effect\": 0,\n",
    "                }\n",
    "            ),\n",
    "        ],\n",
    "    )\n",
    "    .sort_values([\"site\", \"mutant\"])\n",
    "    .reset_index(drop=True)\n",
    ")\n",
    "\n",
    "mut_effects"
   ]
  },
  {
   "cell_type": "markdown",
   "id": "82a2bd60-81d3-4f0d-83d9-5192d66fabfd",
   "metadata": {
    "execution": {
     "iopub.execute_input": "2023-07-10T12:36:30.196511Z",
     "iopub.status.busy": "2023-07-10T12:36:30.195988Z",
     "iopub.status.idle": "2023-07-10T12:36:30.204730Z",
     "shell.execute_reply": "2023-07-10T12:36:30.203786Z",
     "shell.execute_reply.started": "2023-07-10T12:36:30.196479Z"
    },
    "papermill": {
     "duration": 0.00353,
     "end_time": "2023-11-19T23:07:13.394613",
     "exception": false,
     "start_time": "2023-11-19T23:07:13.391083",
     "status": "completed"
    },
    "tags": []
   },
   "source": [
    "Write the mutational effects to a file:"
   ]
  },
  {
   "cell_type": "code",
   "execution_count": 10,
   "id": "7701f560-b8b0-41db-9a1e-6cab08f57c75",
   "metadata": {
    "execution": {
     "iopub.execute_input": "2023-11-19T23:07:13.402350Z",
     "iopub.status.busy": "2023-11-19T23:07:13.402160Z",
     "iopub.status.idle": "2023-11-19T23:07:13.428653Z",
     "shell.execute_reply": "2023-11-19T23:07:13.428340Z"
    },
    "papermill": {
     "duration": 0.031851,
     "end_time": "2023-11-19T23:07:13.429940",
     "exception": false,
     "start_time": "2023-11-19T23:07:13.398089",
     "status": "completed"
    },
    "tags": []
   },
   "outputs": [
    {
     "name": "stdout",
     "output_type": "stream",
     "text": [
      "Writing the mutational effects to results/func_effects/by_selection/4u8c_B1T1-vs-B1T1_func_effects.csv\n"
     ]
    }
   ],
   "source": [
    "print(f\"Writing the mutational effects to {func_effects}\")\n",
    "\n",
    "mut_effects.to_csv(func_effects, index=False, float_format=\"%.4g\")"
   ]
  }
 ],
 "metadata": {
  "kernelspec": {
   "display_name": "Python 3 (ipykernel)",
   "language": "python",
   "name": "python3"
  },
  "language_info": {
   "codemirror_mode": {
    "name": "ipython",
    "version": 3
   },
   "file_extension": ".py",
   "mimetype": "text/x-python",
   "name": "python",
   "nbconvert_exporter": "python",
   "pygments_lexer": "ipython3",
   "version": "3.11.6"
  },
  "papermill": {
   "default_parameters": {},
   "duration": 25.39258,
   "end_time": "2023-11-19T23:07:16.053971",
   "environment_variables": {},
   "exception": null,
   "input_path": "dms-vep-pipeline-3/notebooks/func_effects_global_epistasis.ipynb",
   "output_path": "results/notebooks/func_effects_global_epistasis_4u8c_B1T1-vs-B1T1.ipynb",
   "parameters": {
    "func_effects": "results/func_effects/by_selection/4u8c_B1T1-vs-B1T1_func_effects.csv",
    "func_scores": "results/func_scores/4u8c_B1T1-vs-B1T1_func_scores.csv",
    "global_epistasis_params": {
     "clip_lower": "median_stop",
     "clip_upper": null,
     "collapse_identical_variants": false
    },
    "selection": "4u8c_B1T1-vs-B1T1",
    "threads": 1
   },
   "start_time": "2023-11-19T23:06:50.661391",
   "version": "2.4.0"
  },
  "widgets": {
   "application/vnd.jupyter.widget-state+json": {
    "state": {
     "001ab1f4c5f543ed907469f139fe924c": {
      "model_module": "@jupyter-widgets/controls",
      "model_module_version": "2.0.0",
      "model_name": "LabelModel",
      "state": {
       "_dom_classes": [],
       "_model_module": "@jupyter-widgets/controls",
       "_model_module_version": "2.0.0",
       "_model_name": "LabelModel",
       "_view_count": null,
       "_view_module": "@jupyter-widgets/controls",
       "_view_module_version": "2.0.0",
       "_view_name": "LabelView",
       "description": "",
       "description_allow_html": false,
       "layout": "IPY_MODEL_69f8435299c74066b29e37ab54d0ae19",
       "placeholder": "​",
       "style": "IPY_MODEL_cb2171a5059c4ab088ce3a9c744c0dee",
       "tabbable": null,
       "tooltip": null,
       "value": "71418 / 71418"
      }
     },
     "09db5116bddc4e3cb27478e0aeee1ffc": {
      "model_module": "@jupyter-widgets/base",
      "model_module_version": "2.0.0",
      "model_name": "LayoutModel",
      "state": {
       "_model_module": "@jupyter-widgets/base",
       "_model_module_version": "2.0.0",
       "_model_name": "LayoutModel",
       "_view_count": null,
       "_view_module": "@jupyter-widgets/base",
       "_view_module_version": "2.0.0",
       "_view_name": "LayoutView",
       "align_content": null,
       "align_items": null,
       "align_self": null,
       "border_bottom": null,
       "border_left": null,
       "border_right": null,
       "border_top": null,
       "bottom": null,
       "display": null,
       "flex": null,
       "flex_flow": null,
       "grid_area": null,
       "grid_auto_columns": null,
       "grid_auto_flow": null,
       "grid_auto_rows": null,
       "grid_column": null,
       "grid_gap": null,
       "grid_row": null,
       "grid_template_areas": null,
       "grid_template_columns": null,
       "grid_template_rows": null,
       "height": null,
       "justify_content": null,
       "justify_items": null,
       "left": null,
       "margin": null,
       "max_height": null,
       "max_width": null,
       "min_height": null,
       "min_width": null,
       "object_fit": null,
       "object_position": null,
       "order": null,
       "overflow": null,
       "padding": null,
       "right": null,
       "top": null,
       "visibility": null,
       "width": null
      }
     },
     "0e805efbffd742b8ba28a9b072fbf000": {
      "model_module": "@jupyter-widgets/base",
      "model_module_version": "2.0.0",
      "model_name": "LayoutModel",
      "state": {
       "_model_module": "@jupyter-widgets/base",
       "_model_module_version": "2.0.0",
       "_model_name": "LayoutModel",
       "_view_count": null,
       "_view_module": "@jupyter-widgets/base",
       "_view_module_version": "2.0.0",
       "_view_name": "LayoutView",
       "align_content": null,
       "align_items": null,
       "align_self": null,
       "border_bottom": null,
       "border_left": null,
       "border_right": null,
       "border_top": null,
       "bottom": null,
       "display": null,
       "flex": null,
       "flex_flow": null,
       "grid_area": null,
       "grid_auto_columns": null,
       "grid_auto_flow": null,
       "grid_auto_rows": null,
       "grid_column": null,
       "grid_gap": null,
       "grid_row": null,
       "grid_template_areas": null,
       "grid_template_columns": null,
       "grid_template_rows": null,
       "height": null,
       "justify_content": null,
       "justify_items": null,
       "left": null,
       "margin": null,
       "max_height": null,
       "max_width": null,
       "min_height": null,
       "min_width": null,
       "object_fit": null,
       "object_position": null,
       "order": null,
       "overflow": null,
       "padding": null,
       "right": null,
       "top": null,
       "visibility": null,
       "width": null
      }
     },
     "0ec9acadcdce45e1a9d367590cded16d": {
      "model_module": "@jupyter-widgets/controls",
      "model_module_version": "2.0.0",
      "model_name": "HTMLModel",
      "state": {
       "_dom_classes": [],
       "_model_module": "@jupyter-widgets/controls",
       "_model_module_version": "2.0.0",
       "_model_name": "HTMLModel",
       "_view_count": null,
       "_view_module": "@jupyter-widgets/controls",
       "_view_module_version": "2.0.0",
       "_view_name": "HTMLView",
       "description": "",
       "description_allow_html": false,
       "layout": "IPY_MODEL_c169df1abcc34d82b79a53d626faa277",
       "placeholder": "​",
       "style": "IPY_MODEL_4ed0aae2fe854970a4b5a05460f58bfb",
       "tabbable": null,
       "tooltip": null,
       "value": "100%"
      }
     },
     "0ed3a58d92ff4620b57e5e3b74bd74b4": {
      "model_module": "@jupyter-widgets/base",
      "model_module_version": "2.0.0",
      "model_name": "LayoutModel",
      "state": {
       "_model_module": "@jupyter-widgets/base",
       "_model_module_version": "2.0.0",
       "_model_name": "LayoutModel",
       "_view_count": null,
       "_view_module": "@jupyter-widgets/base",
       "_view_module_version": "2.0.0",
       "_view_name": "LayoutView",
       "align_content": null,
       "align_items": null,
       "align_self": null,
       "border_bottom": null,
       "border_left": null,
       "border_right": null,
       "border_top": null,
       "bottom": null,
       "display": null,
       "flex": null,
       "flex_flow": null,
       "grid_area": null,
       "grid_auto_columns": null,
       "grid_auto_flow": null,
       "grid_auto_rows": null,
       "grid_column": null,
       "grid_gap": null,
       "grid_row": null,
       "grid_template_areas": null,
       "grid_template_columns": null,
       "grid_template_rows": null,
       "height": null,
       "justify_content": null,
       "justify_items": null,
       "left": null,
       "margin": null,
       "max_height": null,
       "max_width": null,
       "min_height": null,
       "min_width": null,
       "object_fit": null,
       "object_position": null,
       "order": null,
       "overflow": null,
       "padding": null,
       "right": null,
       "top": null,
       "visibility": null,
       "width": null
      }
     },
     "169ff9577e384b118bc92dea89e2de9c": {
      "model_module": "@jupyter-widgets/base",
      "model_module_version": "2.0.0",
      "model_name": "LayoutModel",
      "state": {
       "_model_module": "@jupyter-widgets/base",
       "_model_module_version": "2.0.0",
       "_model_name": "LayoutModel",
       "_view_count": null,
       "_view_module": "@jupyter-widgets/base",
       "_view_module_version": "2.0.0",
       "_view_name": "LayoutView",
       "align_content": null,
       "align_items": null,
       "align_self": null,
       "border_bottom": null,
       "border_left": null,
       "border_right": null,
       "border_top": null,
       "bottom": null,
       "display": null,
       "flex": null,
       "flex_flow": null,
       "grid_area": null,
       "grid_auto_columns": null,
       "grid_auto_flow": null,
       "grid_auto_rows": null,
       "grid_column": null,
       "grid_gap": null,
       "grid_row": null,
       "grid_template_areas": null,
       "grid_template_columns": null,
       "grid_template_rows": null,
       "height": null,
       "justify_content": null,
       "justify_items": null,
       "left": null,
       "margin": null,
       "max_height": null,
       "max_width": null,
       "min_height": null,
       "min_width": null,
       "object_fit": null,
       "object_position": null,
       "order": null,
       "overflow": null,
       "padding": null,
       "right": null,
       "top": null,
       "visibility": null,
       "width": null
      }
     },
     "18014fd328414957b58ee406daeaf084": {
      "model_module": "@jupyter-widgets/controls",
      "model_module_version": "2.0.0",
      "model_name": "ProgressStyleModel",
      "state": {
       "_model_module": "@jupyter-widgets/controls",
       "_model_module_version": "2.0.0",
       "_model_name": "ProgressStyleModel",
       "_view_count": null,
       "_view_module": "@jupyter-widgets/base",
       "_view_module_version": "2.0.0",
       "_view_name": "StyleView",
       "bar_color": null,
       "description_width": ""
      }
     },
     "1903109f09534b8cbd58ad0c34ab1bcf": {
      "model_module": "@jupyter-widgets/controls",
      "model_module_version": "2.0.0",
      "model_name": "FloatProgressModel",
      "state": {
       "_dom_classes": [],
       "_model_module": "@jupyter-widgets/controls",
       "_model_module_version": "2.0.0",
       "_model_name": "FloatProgressModel",
       "_view_count": null,
       "_view_module": "@jupyter-widgets/controls",
       "_view_module_version": "2.0.0",
       "_view_name": "ProgressView",
       "bar_style": "success",
       "description": "",
       "description_allow_html": false,
       "layout": "IPY_MODEL_4640abafec6e4c00ab671a94cc4d79d1",
       "max": 71418.0,
       "min": 0.0,
       "orientation": "horizontal",
       "style": "IPY_MODEL_18014fd328414957b58ee406daeaf084",
       "tabbable": null,
       "tooltip": null,
       "value": 71418.0
      }
     },
     "1ec1ef3fa59f4239a40e7fe6a041446b": {
      "model_module": "@jupyter-widgets/controls",
      "model_module_version": "2.0.0",
      "model_name": "IntProgressModel",
      "state": {
       "_dom_classes": [],
       "_model_module": "@jupyter-widgets/controls",
       "_model_module_version": "2.0.0",
       "_model_name": "IntProgressModel",
       "_view_count": null,
       "_view_module": "@jupyter-widgets/controls",
       "_view_module_version": "2.0.0",
       "_view_name": "ProgressView",
       "bar_style": "success",
       "description": "100.00%",
       "description_allow_html": false,
       "layout": "IPY_MODEL_8ffe3096064e4a768ed2f4c34ec2901d",
       "max": 71418,
       "min": 0,
       "orientation": "horizontal",
       "style": "IPY_MODEL_3350635f99c04f8d9a2b3444e6f79216",
       "tabbable": null,
       "tooltip": null,
       "value": 71418
      }
     },
     "225b8c60f1014e7fbcc116bc8f11eb7e": {
      "model_module": "@jupyter-widgets/controls",
      "model_module_version": "2.0.0",
      "model_name": "ProgressStyleModel",
      "state": {
       "_model_module": "@jupyter-widgets/controls",
       "_model_module_version": "2.0.0",
       "_model_name": "ProgressStyleModel",
       "_view_count": null,
       "_view_module": "@jupyter-widgets/base",
       "_view_module_version": "2.0.0",
       "_view_name": "StyleView",
       "bar_color": null,
       "description_width": ""
      }
     },
     "3350635f99c04f8d9a2b3444e6f79216": {
      "model_module": "@jupyter-widgets/controls",
      "model_module_version": "2.0.0",
      "model_name": "ProgressStyleModel",
      "state": {
       "_model_module": "@jupyter-widgets/controls",
       "_model_module_version": "2.0.0",
       "_model_name": "ProgressStyleModel",
       "_view_count": null,
       "_view_module": "@jupyter-widgets/base",
       "_view_module_version": "2.0.0",
       "_view_name": "StyleView",
       "bar_color": null,
       "description_width": ""
      }
     },
     "3f89c0612c774ecbad82f0ae48b9ecaf": {
      "model_module": "@jupyter-widgets/controls",
      "model_module_version": "2.0.0",
      "model_name": "FloatProgressModel",
      "state": {
       "_dom_classes": [],
       "_model_module": "@jupyter-widgets/controls",
       "_model_module_version": "2.0.0",
       "_model_name": "FloatProgressModel",
       "_view_count": null,
       "_view_module": "@jupyter-widgets/controls",
       "_view_module_version": "2.0.0",
       "_view_name": "ProgressView",
       "bar_style": "success",
       "description": "",
       "description_allow_html": false,
       "layout": "IPY_MODEL_0ed3a58d92ff4620b57e5e3b74bd74b4",
       "max": 71418.0,
       "min": 0.0,
       "orientation": "horizontal",
       "style": "IPY_MODEL_4274e0871f834c01a263fa3ec09c13f2",
       "tabbable": null,
       "tooltip": null,
       "value": 71418.0
      }
     },
     "4053b4fb22b04a4ca4d787499a8ccfea": {
      "model_module": "@jupyter-widgets/controls",
      "model_module_version": "2.0.0",
      "model_name": "HBoxModel",
      "state": {
       "_dom_classes": [],
       "_model_module": "@jupyter-widgets/controls",
       "_model_module_version": "2.0.0",
       "_model_name": "HBoxModel",
       "_view_count": null,
       "_view_module": "@jupyter-widgets/controls",
       "_view_module_version": "2.0.0",
       "_view_name": "HBoxView",
       "box_style": "",
       "children": [
        "IPY_MODEL_c4931d988a5f4087b776af711dd65fd9",
        "IPY_MODEL_94649673f90345e8b71e58593a257832"
       ],
       "layout": "IPY_MODEL_51d23e1d86df4f41b21047187d1e06c8",
       "tabbable": null,
       "tooltip": null
      }
     },
     "4274e0871f834c01a263fa3ec09c13f2": {
      "model_module": "@jupyter-widgets/controls",
      "model_module_version": "2.0.0",
      "model_name": "ProgressStyleModel",
      "state": {
       "_model_module": "@jupyter-widgets/controls",
       "_model_module_version": "2.0.0",
       "_model_name": "ProgressStyleModel",
       "_view_count": null,
       "_view_module": "@jupyter-widgets/base",
       "_view_module_version": "2.0.0",
       "_view_name": "StyleView",
       "bar_color": null,
       "description_width": ""
      }
     },
     "4640abafec6e4c00ab671a94cc4d79d1": {
      "model_module": "@jupyter-widgets/base",
      "model_module_version": "2.0.0",
      "model_name": "LayoutModel",
      "state": {
       "_model_module": "@jupyter-widgets/base",
       "_model_module_version": "2.0.0",
       "_model_name": "LayoutModel",
       "_view_count": null,
       "_view_module": "@jupyter-widgets/base",
       "_view_module_version": "2.0.0",
       "_view_name": "LayoutView",
       "align_content": null,
       "align_items": null,
       "align_self": null,
       "border_bottom": null,
       "border_left": null,
       "border_right": null,
       "border_top": null,
       "bottom": null,
       "display": null,
       "flex": null,
       "flex_flow": null,
       "grid_area": null,
       "grid_auto_columns": null,
       "grid_auto_flow": null,
       "grid_auto_rows": null,
       "grid_column": null,
       "grid_gap": null,
       "grid_row": null,
       "grid_template_areas": null,
       "grid_template_columns": null,
       "grid_template_rows": null,
       "height": null,
       "justify_content": null,
       "justify_items": null,
       "left": null,
       "margin": null,
       "max_height": null,
       "max_width": null,
       "min_height": null,
       "min_width": null,
       "object_fit": null,
       "object_position": null,
       "order": null,
       "overflow": null,
       "padding": null,
       "right": null,
       "top": null,
       "visibility": null,
       "width": null
      }
     },
     "47c2ccaf4ec24f44b5410b909c89b305": {
      "model_module": "@jupyter-widgets/base",
      "model_module_version": "2.0.0",
      "model_name": "LayoutModel",
      "state": {
       "_model_module": "@jupyter-widgets/base",
       "_model_module_version": "2.0.0",
       "_model_name": "LayoutModel",
       "_view_count": null,
       "_view_module": "@jupyter-widgets/base",
       "_view_module_version": "2.0.0",
       "_view_name": "LayoutView",
       "align_content": null,
       "align_items": null,
       "align_self": null,
       "border_bottom": null,
       "border_left": null,
       "border_right": null,
       "border_top": null,
       "bottom": null,
       "display": null,
       "flex": null,
       "flex_flow": null,
       "grid_area": null,
       "grid_auto_columns": null,
       "grid_auto_flow": null,
       "grid_auto_rows": null,
       "grid_column": null,
       "grid_gap": null,
       "grid_row": null,
       "grid_template_areas": null,
       "grid_template_columns": null,
       "grid_template_rows": null,
       "height": null,
       "justify_content": null,
       "justify_items": null,
       "left": null,
       "margin": null,
       "max_height": null,
       "max_width": null,
       "min_height": null,
       "min_width": null,
       "object_fit": null,
       "object_position": null,
       "order": null,
       "overflow": null,
       "padding": null,
       "right": null,
       "top": null,
       "visibility": null,
       "width": null
      }
     },
     "481154cb9d7244958b2a42bf2e8ef219": {
      "model_module": "@jupyter-widgets/base",
      "model_module_version": "2.0.0",
      "model_name": "LayoutModel",
      "state": {
       "_model_module": "@jupyter-widgets/base",
       "_model_module_version": "2.0.0",
       "_model_name": "LayoutModel",
       "_view_count": null,
       "_view_module": "@jupyter-widgets/base",
       "_view_module_version": "2.0.0",
       "_view_name": "LayoutView",
       "align_content": null,
       "align_items": null,
       "align_self": null,
       "border_bottom": null,
       "border_left": null,
       "border_right": null,
       "border_top": null,
       "bottom": null,
       "display": null,
       "flex": null,
       "flex_flow": null,
       "grid_area": null,
       "grid_auto_columns": null,
       "grid_auto_flow": null,
       "grid_auto_rows": null,
       "grid_column": null,
       "grid_gap": null,
       "grid_row": null,
       "grid_template_areas": null,
       "grid_template_columns": null,
       "grid_template_rows": null,
       "height": null,
       "justify_content": null,
       "justify_items": null,
       "left": null,
       "margin": null,
       "max_height": null,
       "max_width": null,
       "min_height": null,
       "min_width": null,
       "object_fit": null,
       "object_position": null,
       "order": null,
       "overflow": null,
       "padding": null,
       "right": null,
       "top": null,
       "visibility": null,
       "width": null
      }
     },
     "4ed0aae2fe854970a4b5a05460f58bfb": {
      "model_module": "@jupyter-widgets/controls",
      "model_module_version": "2.0.0",
      "model_name": "HTMLStyleModel",
      "state": {
       "_model_module": "@jupyter-widgets/controls",
       "_model_module_version": "2.0.0",
       "_model_name": "HTMLStyleModel",
       "_view_count": null,
       "_view_module": "@jupyter-widgets/base",
       "_view_module_version": "2.0.0",
       "_view_name": "StyleView",
       "background": null,
       "description_width": "",
       "font_size": null,
       "text_color": null
      }
     },
     "51d23e1d86df4f41b21047187d1e06c8": {
      "model_module": "@jupyter-widgets/base",
      "model_module_version": "2.0.0",
      "model_name": "LayoutModel",
      "state": {
       "_model_module": "@jupyter-widgets/base",
       "_model_module_version": "2.0.0",
       "_model_name": "LayoutModel",
       "_view_count": null,
       "_view_module": "@jupyter-widgets/base",
       "_view_module_version": "2.0.0",
       "_view_name": "LayoutView",
       "align_content": null,
       "align_items": null,
       "align_self": null,
       "border_bottom": null,
       "border_left": null,
       "border_right": null,
       "border_top": null,
       "bottom": null,
       "display": null,
       "flex": null,
       "flex_flow": null,
       "grid_area": null,
       "grid_auto_columns": null,
       "grid_auto_flow": null,
       "grid_auto_rows": null,
       "grid_column": null,
       "grid_gap": null,
       "grid_row": null,
       "grid_template_areas": null,
       "grid_template_columns": null,
       "grid_template_rows": null,
       "height": null,
       "justify_content": null,
       "justify_items": null,
       "left": null,
       "margin": null,
       "max_height": null,
       "max_width": null,
       "min_height": null,
       "min_width": null,
       "object_fit": null,
       "object_position": null,
       "order": null,
       "overflow": null,
       "padding": null,
       "right": null,
       "top": null,
       "visibility": null,
       "width": null
      }
     },
     "56898ee554d545bf88491bc2e44cc39c": {
      "model_module": "@jupyter-widgets/controls",
      "model_module_version": "2.0.0",
      "model_name": "HBoxModel",
      "state": {
       "_dom_classes": [],
       "_model_module": "@jupyter-widgets/controls",
       "_model_module_version": "2.0.0",
       "_model_name": "HBoxModel",
       "_view_count": null,
       "_view_module": "@jupyter-widgets/controls",
       "_view_module_version": "2.0.0",
       "_view_name": "HBoxView",
       "box_style": "",
       "children": [
        "IPY_MODEL_9f7d321804294653be0dc6d81a5b2f7c",
        "IPY_MODEL_1903109f09534b8cbd58ad0c34ab1bcf",
        "IPY_MODEL_e55cf2c1990647b9b78820d332505fc0"
       ],
       "layout": "IPY_MODEL_47c2ccaf4ec24f44b5410b909c89b305",
       "tabbable": null,
       "tooltip": null
      }
     },
     "5d6f25d710984ef499b3b12fc7f7b8e9": {
      "model_module": "@jupyter-widgets/controls",
      "model_module_version": "2.0.0",
      "model_name": "HTMLStyleModel",
      "state": {
       "_model_module": "@jupyter-widgets/controls",
       "_model_module_version": "2.0.0",
       "_model_name": "HTMLStyleModel",
       "_view_count": null,
       "_view_module": "@jupyter-widgets/base",
       "_view_module_version": "2.0.0",
       "_view_name": "StyleView",
       "background": null,
       "description_width": "",
       "font_size": null,
       "text_color": null
      }
     },
     "5e71be8de4c74b0d8e653b71c55c8828": {
      "model_module": "@jupyter-widgets/controls",
      "model_module_version": "2.0.0",
      "model_name": "VBoxModel",
      "state": {
       "_dom_classes": [],
       "_model_module": "@jupyter-widgets/controls",
       "_model_module_version": "2.0.0",
       "_model_name": "VBoxModel",
       "_view_count": null,
       "_view_module": "@jupyter-widgets/controls",
       "_view_module_version": "2.0.0",
       "_view_name": "VBoxView",
       "box_style": "",
       "children": [
        "IPY_MODEL_4053b4fb22b04a4ca4d787499a8ccfea"
       ],
       "layout": "IPY_MODEL_169ff9577e384b118bc92dea89e2de9c",
       "tabbable": null,
       "tooltip": null
      }
     },
     "6135edf50cb94ae2aca68e2bfc67d7e7": {
      "model_module": "@jupyter-widgets/base",
      "model_module_version": "2.0.0",
      "model_name": "LayoutModel",
      "state": {
       "_model_module": "@jupyter-widgets/base",
       "_model_module_version": "2.0.0",
       "_model_name": "LayoutModel",
       "_view_count": null,
       "_view_module": "@jupyter-widgets/base",
       "_view_module_version": "2.0.0",
       "_view_name": "LayoutView",
       "align_content": null,
       "align_items": null,
       "align_self": null,
       "border_bottom": null,
       "border_left": null,
       "border_right": null,
       "border_top": null,
       "bottom": null,
       "display": null,
       "flex": null,
       "flex_flow": null,
       "grid_area": null,
       "grid_auto_columns": null,
       "grid_auto_flow": null,
       "grid_auto_rows": null,
       "grid_column": null,
       "grid_gap": null,
       "grid_row": null,
       "grid_template_areas": null,
       "grid_template_columns": null,
       "grid_template_rows": null,
       "height": null,
       "justify_content": null,
       "justify_items": null,
       "left": null,
       "margin": null,
       "max_height": null,
       "max_width": null,
       "min_height": null,
       "min_width": null,
       "object_fit": null,
       "object_position": null,
       "order": null,
       "overflow": null,
       "padding": null,
       "right": null,
       "top": null,
       "visibility": null,
       "width": null
      }
     },
     "61df0d8994e44891bda3bf6d9de192b5": {
      "model_module": "@jupyter-widgets/controls",
      "model_module_version": "2.0.0",
      "model_name": "LabelStyleModel",
      "state": {
       "_model_module": "@jupyter-widgets/controls",
       "_model_module_version": "2.0.0",
       "_model_name": "LabelStyleModel",
       "_view_count": null,
       "_view_module": "@jupyter-widgets/base",
       "_view_module_version": "2.0.0",
       "_view_name": "StyleView",
       "background": null,
       "description_width": "",
       "font_family": null,
       "font_size": null,
       "font_style": null,
       "font_variant": null,
       "font_weight": null,
       "text_color": null,
       "text_decoration": null
      }
     },
     "62adf736f0aa4a3e8f1cad78e4b72a94": {
      "model_module": "@jupyter-widgets/controls",
      "model_module_version": "2.0.0",
      "model_name": "HTMLModel",
      "state": {
       "_dom_classes": [],
       "_model_module": "@jupyter-widgets/controls",
       "_model_module_version": "2.0.0",
       "_model_name": "HTMLModel",
       "_view_count": null,
       "_view_module": "@jupyter-widgets/controls",
       "_view_module_version": "2.0.0",
       "_view_name": "HTMLView",
       "description": "",
       "description_allow_html": false,
       "layout": "IPY_MODEL_09db5116bddc4e3cb27478e0aeee1ffc",
       "placeholder": "​",
       "style": "IPY_MODEL_91fad244a78f4eaabb7563631ccc9831",
       "tabbable": null,
       "tooltip": null,
       "value": " 71418/71418 [00:03&lt;00:00, 17761.39it/s]"
      }
     },
     "69f8435299c74066b29e37ab54d0ae19": {
      "model_module": "@jupyter-widgets/base",
      "model_module_version": "2.0.0",
      "model_name": "LayoutModel",
      "state": {
       "_model_module": "@jupyter-widgets/base",
       "_model_module_version": "2.0.0",
       "_model_name": "LayoutModel",
       "_view_count": null,
       "_view_module": "@jupyter-widgets/base",
       "_view_module_version": "2.0.0",
       "_view_name": "LayoutView",
       "align_content": null,
       "align_items": null,
       "align_self": null,
       "border_bottom": null,
       "border_left": null,
       "border_right": null,
       "border_top": null,
       "bottom": null,
       "display": null,
       "flex": null,
       "flex_flow": null,
       "grid_area": null,
       "grid_auto_columns": null,
       "grid_auto_flow": null,
       "grid_auto_rows": null,
       "grid_column": null,
       "grid_gap": null,
       "grid_row": null,
       "grid_template_areas": null,
       "grid_template_columns": null,
       "grid_template_rows": null,
       "height": null,
       "justify_content": null,
       "justify_items": null,
       "left": null,
       "margin": null,
       "max_height": null,
       "max_width": null,
       "min_height": null,
       "min_width": null,
       "object_fit": null,
       "object_position": null,
       "order": null,
       "overflow": null,
       "padding": null,
       "right": null,
       "top": null,
       "visibility": null,
       "width": null
      }
     },
     "765696bc372348398fcf6776f2e5cabf": {
      "model_module": "@jupyter-widgets/base",
      "model_module_version": "2.0.0",
      "model_name": "LayoutModel",
      "state": {
       "_model_module": "@jupyter-widgets/base",
       "_model_module_version": "2.0.0",
       "_model_name": "LayoutModel",
       "_view_count": null,
       "_view_module": "@jupyter-widgets/base",
       "_view_module_version": "2.0.0",
       "_view_name": "LayoutView",
       "align_content": null,
       "align_items": null,
       "align_self": null,
       "border_bottom": null,
       "border_left": null,
       "border_right": null,
       "border_top": null,
       "bottom": null,
       "display": null,
       "flex": null,
       "flex_flow": null,
       "grid_area": null,
       "grid_auto_columns": null,
       "grid_auto_flow": null,
       "grid_auto_rows": null,
       "grid_column": null,
       "grid_gap": null,
       "grid_row": null,
       "grid_template_areas": null,
       "grid_template_columns": null,
       "grid_template_rows": null,
       "height": null,
       "justify_content": null,
       "justify_items": null,
       "left": null,
       "margin": null,
       "max_height": null,
       "max_width": null,
       "min_height": null,
       "min_width": null,
       "object_fit": null,
       "object_position": null,
       "order": null,
       "overflow": null,
       "padding": null,
       "right": null,
       "top": null,
       "visibility": null,
       "width": null
      }
     },
     "8ffe3096064e4a768ed2f4c34ec2901d": {
      "model_module": "@jupyter-widgets/base",
      "model_module_version": "2.0.0",
      "model_name": "LayoutModel",
      "state": {
       "_model_module": "@jupyter-widgets/base",
       "_model_module_version": "2.0.0",
       "_model_name": "LayoutModel",
       "_view_count": null,
       "_view_module": "@jupyter-widgets/base",
       "_view_module_version": "2.0.0",
       "_view_name": "LayoutView",
       "align_content": null,
       "align_items": null,
       "align_self": null,
       "border_bottom": null,
       "border_left": null,
       "border_right": null,
       "border_top": null,
       "bottom": null,
       "display": null,
       "flex": null,
       "flex_flow": null,
       "grid_area": null,
       "grid_auto_columns": null,
       "grid_auto_flow": null,
       "grid_auto_rows": null,
       "grid_column": null,
       "grid_gap": null,
       "grid_row": null,
       "grid_template_areas": null,
       "grid_template_columns": null,
       "grid_template_rows": null,
       "height": null,
       "justify_content": null,
       "justify_items": null,
       "left": null,
       "margin": null,
       "max_height": null,
       "max_width": null,
       "min_height": null,
       "min_width": null,
       "object_fit": null,
       "object_position": null,
       "order": null,
       "overflow": null,
       "padding": null,
       "right": null,
       "top": null,
       "visibility": null,
       "width": null
      }
     },
     "91fad244a78f4eaabb7563631ccc9831": {
      "model_module": "@jupyter-widgets/controls",
      "model_module_version": "2.0.0",
      "model_name": "HTMLStyleModel",
      "state": {
       "_model_module": "@jupyter-widgets/controls",
       "_model_module_version": "2.0.0",
       "_model_name": "HTMLStyleModel",
       "_view_count": null,
       "_view_module": "@jupyter-widgets/base",
       "_view_module_version": "2.0.0",
       "_view_name": "StyleView",
       "background": null,
       "description_width": "",
       "font_size": null,
       "text_color": null
      }
     },
     "94649673f90345e8b71e58593a257832": {
      "model_module": "@jupyter-widgets/controls",
      "model_module_version": "2.0.0",
      "model_name": "LabelModel",
      "state": {
       "_dom_classes": [],
       "_model_module": "@jupyter-widgets/controls",
       "_model_module_version": "2.0.0",
       "_model_name": "LabelModel",
       "_view_count": null,
       "_view_module": "@jupyter-widgets/controls",
       "_view_module_version": "2.0.0",
       "_view_name": "LabelView",
       "description": "",
       "description_allow_html": false,
       "layout": "IPY_MODEL_fc877bf58bc44720a74d0b430cd75fd7",
       "placeholder": "​",
       "style": "IPY_MODEL_61df0d8994e44891bda3bf6d9de192b5",
       "tabbable": null,
       "tooltip": null,
       "value": "71418 / 71418"
      }
     },
     "9f7d321804294653be0dc6d81a5b2f7c": {
      "model_module": "@jupyter-widgets/controls",
      "model_module_version": "2.0.0",
      "model_name": "HTMLModel",
      "state": {
       "_dom_classes": [],
       "_model_module": "@jupyter-widgets/controls",
       "_model_module_version": "2.0.0",
       "_model_name": "HTMLModel",
       "_view_count": null,
       "_view_module": "@jupyter-widgets/controls",
       "_view_module_version": "2.0.0",
       "_view_name": "HTMLView",
       "description": "",
       "description_allow_html": false,
       "layout": "IPY_MODEL_765696bc372348398fcf6776f2e5cabf",
       "placeholder": "​",
       "style": "IPY_MODEL_babc929a853e41cb9fa5b05534e291f9",
       "tabbable": null,
       "tooltip": null,
       "value": "100%"
      }
     },
     "a066b516098c48ce8b5e89c14c6fe035": {
      "model_module": "@jupyter-widgets/base",
      "model_module_version": "2.0.0",
      "model_name": "LayoutModel",
      "state": {
       "_model_module": "@jupyter-widgets/base",
       "_model_module_version": "2.0.0",
       "_model_name": "LayoutModel",
       "_view_count": null,
       "_view_module": "@jupyter-widgets/base",
       "_view_module_version": "2.0.0",
       "_view_name": "LayoutView",
       "align_content": null,
       "align_items": null,
       "align_self": null,
       "border_bottom": null,
       "border_left": null,
       "border_right": null,
       "border_top": null,
       "bottom": null,
       "display": null,
       "flex": null,
       "flex_flow": null,
       "grid_area": null,
       "grid_auto_columns": null,
       "grid_auto_flow": null,
       "grid_auto_rows": null,
       "grid_column": null,
       "grid_gap": null,
       "grid_row": null,
       "grid_template_areas": null,
       "grid_template_columns": null,
       "grid_template_rows": null,
       "height": null,
       "justify_content": null,
       "justify_items": null,
       "left": null,
       "margin": null,
       "max_height": null,
       "max_width": null,
       "min_height": null,
       "min_width": null,
       "object_fit": null,
       "object_position": null,
       "order": null,
       "overflow": null,
       "padding": null,
       "right": null,
       "top": null,
       "visibility": null,
       "width": null
      }
     },
     "a4dcc226f56b4369ac31089ea4d0518a": {
      "model_module": "@jupyter-widgets/controls",
      "model_module_version": "2.0.0",
      "model_name": "HBoxModel",
      "state": {
       "_dom_classes": [],
       "_model_module": "@jupyter-widgets/controls",
       "_model_module_version": "2.0.0",
       "_model_name": "HBoxModel",
       "_view_count": null,
       "_view_module": "@jupyter-widgets/controls",
       "_view_module_version": "2.0.0",
       "_view_name": "HBoxView",
       "box_style": "",
       "children": [
        "IPY_MODEL_1ec1ef3fa59f4239a40e7fe6a041446b",
        "IPY_MODEL_001ab1f4c5f543ed907469f139fe924c"
       ],
       "layout": "IPY_MODEL_eab2c034f7e54ef9aa0db74e5956119e",
       "tabbable": null,
       "tooltip": null
      }
     },
     "babc929a853e41cb9fa5b05534e291f9": {
      "model_module": "@jupyter-widgets/controls",
      "model_module_version": "2.0.0",
      "model_name": "HTMLStyleModel",
      "state": {
       "_model_module": "@jupyter-widgets/controls",
       "_model_module_version": "2.0.0",
       "_model_name": "HTMLStyleModel",
       "_view_count": null,
       "_view_module": "@jupyter-widgets/base",
       "_view_module_version": "2.0.0",
       "_view_name": "StyleView",
       "background": null,
       "description_width": "",
       "font_size": null,
       "text_color": null
      }
     },
     "bfa49b1569c445d8818be3a455b7dd90": {
      "model_module": "@jupyter-widgets/controls",
      "model_module_version": "2.0.0",
      "model_name": "VBoxModel",
      "state": {
       "_dom_classes": [],
       "_model_module": "@jupyter-widgets/controls",
       "_model_module_version": "2.0.0",
       "_model_name": "VBoxModel",
       "_view_count": null,
       "_view_module": "@jupyter-widgets/controls",
       "_view_module_version": "2.0.0",
       "_view_name": "VBoxView",
       "box_style": "",
       "children": [
        "IPY_MODEL_a4dcc226f56b4369ac31089ea4d0518a"
       ],
       "layout": "IPY_MODEL_0e805efbffd742b8ba28a9b072fbf000",
       "tabbable": null,
       "tooltip": null
      }
     },
     "c0b8ccef56454d239a8c84b5654b9209": {
      "model_module": "@jupyter-widgets/controls",
      "model_module_version": "2.0.0",
      "model_name": "HBoxModel",
      "state": {
       "_dom_classes": [],
       "_model_module": "@jupyter-widgets/controls",
       "_model_module_version": "2.0.0",
       "_model_name": "HBoxModel",
       "_view_count": null,
       "_view_module": "@jupyter-widgets/controls",
       "_view_module_version": "2.0.0",
       "_view_name": "HBoxView",
       "box_style": "",
       "children": [
        "IPY_MODEL_0ec9acadcdce45e1a9d367590cded16d",
        "IPY_MODEL_3f89c0612c774ecbad82f0ae48b9ecaf",
        "IPY_MODEL_62adf736f0aa4a3e8f1cad78e4b72a94"
       ],
       "layout": "IPY_MODEL_a066b516098c48ce8b5e89c14c6fe035",
       "tabbable": null,
       "tooltip": null
      }
     },
     "c169df1abcc34d82b79a53d626faa277": {
      "model_module": "@jupyter-widgets/base",
      "model_module_version": "2.0.0",
      "model_name": "LayoutModel",
      "state": {
       "_model_module": "@jupyter-widgets/base",
       "_model_module_version": "2.0.0",
       "_model_name": "LayoutModel",
       "_view_count": null,
       "_view_module": "@jupyter-widgets/base",
       "_view_module_version": "2.0.0",
       "_view_name": "LayoutView",
       "align_content": null,
       "align_items": null,
       "align_self": null,
       "border_bottom": null,
       "border_left": null,
       "border_right": null,
       "border_top": null,
       "bottom": null,
       "display": null,
       "flex": null,
       "flex_flow": null,
       "grid_area": null,
       "grid_auto_columns": null,
       "grid_auto_flow": null,
       "grid_auto_rows": null,
       "grid_column": null,
       "grid_gap": null,
       "grid_row": null,
       "grid_template_areas": null,
       "grid_template_columns": null,
       "grid_template_rows": null,
       "height": null,
       "justify_content": null,
       "justify_items": null,
       "left": null,
       "margin": null,
       "max_height": null,
       "max_width": null,
       "min_height": null,
       "min_width": null,
       "object_fit": null,
       "object_position": null,
       "order": null,
       "overflow": null,
       "padding": null,
       "right": null,
       "top": null,
       "visibility": null,
       "width": null
      }
     },
     "c4931d988a5f4087b776af711dd65fd9": {
      "model_module": "@jupyter-widgets/controls",
      "model_module_version": "2.0.0",
      "model_name": "IntProgressModel",
      "state": {
       "_dom_classes": [],
       "_model_module": "@jupyter-widgets/controls",
       "_model_module_version": "2.0.0",
       "_model_name": "IntProgressModel",
       "_view_count": null,
       "_view_module": "@jupyter-widgets/controls",
       "_view_module_version": "2.0.0",
       "_view_name": "ProgressView",
       "bar_style": "success",
       "description": "100.00%",
       "description_allow_html": false,
       "layout": "IPY_MODEL_481154cb9d7244958b2a42bf2e8ef219",
       "max": 71418,
       "min": 0,
       "orientation": "horizontal",
       "style": "IPY_MODEL_225b8c60f1014e7fbcc116bc8f11eb7e",
       "tabbable": null,
       "tooltip": null,
       "value": 71418
      }
     },
     "cb2171a5059c4ab088ce3a9c744c0dee": {
      "model_module": "@jupyter-widgets/controls",
      "model_module_version": "2.0.0",
      "model_name": "LabelStyleModel",
      "state": {
       "_model_module": "@jupyter-widgets/controls",
       "_model_module_version": "2.0.0",
       "_model_name": "LabelStyleModel",
       "_view_count": null,
       "_view_module": "@jupyter-widgets/base",
       "_view_module_version": "2.0.0",
       "_view_name": "StyleView",
       "background": null,
       "description_width": "",
       "font_family": null,
       "font_size": null,
       "font_style": null,
       "font_variant": null,
       "font_weight": null,
       "text_color": null,
       "text_decoration": null
      }
     },
     "e55cf2c1990647b9b78820d332505fc0": {
      "model_module": "@jupyter-widgets/controls",
      "model_module_version": "2.0.0",
      "model_name": "HTMLModel",
      "state": {
       "_dom_classes": [],
       "_model_module": "@jupyter-widgets/controls",
       "_model_module_version": "2.0.0",
       "_model_name": "HTMLModel",
       "_view_count": null,
       "_view_module": "@jupyter-widgets/controls",
       "_view_module_version": "2.0.0",
       "_view_name": "HTMLView",
       "description": "",
       "description_allow_html": false,
       "layout": "IPY_MODEL_6135edf50cb94ae2aca68e2bfc67d7e7",
       "placeholder": "​",
       "style": "IPY_MODEL_5d6f25d710984ef499b3b12fc7f7b8e9",
       "tabbable": null,
       "tooltip": null,
       "value": " 71418/71418 [00:02&lt;00:00, 34997.85it/s]"
      }
     },
     "eab2c034f7e54ef9aa0db74e5956119e": {
      "model_module": "@jupyter-widgets/base",
      "model_module_version": "2.0.0",
      "model_name": "LayoutModel",
      "state": {
       "_model_module": "@jupyter-widgets/base",
       "_model_module_version": "2.0.0",
       "_model_name": "LayoutModel",
       "_view_count": null,
       "_view_module": "@jupyter-widgets/base",
       "_view_module_version": "2.0.0",
       "_view_name": "LayoutView",
       "align_content": null,
       "align_items": null,
       "align_self": null,
       "border_bottom": null,
       "border_left": null,
       "border_right": null,
       "border_top": null,
       "bottom": null,
       "display": null,
       "flex": null,
       "flex_flow": null,
       "grid_area": null,
       "grid_auto_columns": null,
       "grid_auto_flow": null,
       "grid_auto_rows": null,
       "grid_column": null,
       "grid_gap": null,
       "grid_row": null,
       "grid_template_areas": null,
       "grid_template_columns": null,
       "grid_template_rows": null,
       "height": null,
       "justify_content": null,
       "justify_items": null,
       "left": null,
       "margin": null,
       "max_height": null,
       "max_width": null,
       "min_height": null,
       "min_width": null,
       "object_fit": null,
       "object_position": null,
       "order": null,
       "overflow": null,
       "padding": null,
       "right": null,
       "top": null,
       "visibility": null,
       "width": null
      }
     },
     "fc877bf58bc44720a74d0b430cd75fd7": {
      "model_module": "@jupyter-widgets/base",
      "model_module_version": "2.0.0",
      "model_name": "LayoutModel",
      "state": {
       "_model_module": "@jupyter-widgets/base",
       "_model_module_version": "2.0.0",
       "_model_name": "LayoutModel",
       "_view_count": null,
       "_view_module": "@jupyter-widgets/base",
       "_view_module_version": "2.0.0",
       "_view_name": "LayoutView",
       "align_content": null,
       "align_items": null,
       "align_self": null,
       "border_bottom": null,
       "border_left": null,
       "border_right": null,
       "border_top": null,
       "bottom": null,
       "display": null,
       "flex": null,
       "flex_flow": null,
       "grid_area": null,
       "grid_auto_columns": null,
       "grid_auto_flow": null,
       "grid_auto_rows": null,
       "grid_column": null,
       "grid_gap": null,
       "grid_row": null,
       "grid_template_areas": null,
       "grid_template_columns": null,
       "grid_template_rows": null,
       "height": null,
       "justify_content": null,
       "justify_items": null,
       "left": null,
       "margin": null,
       "max_height": null,
       "max_width": null,
       "min_height": null,
       "min_width": null,
       "object_fit": null,
       "object_position": null,
       "order": null,
       "overflow": null,
       "padding": null,
       "right": null,
       "top": null,
       "visibility": null,
       "width": null
      }
     }
    },
    "version_major": 2,
    "version_minor": 0
   }
  }
 },
 "nbformat": 4,
 "nbformat_minor": 5
}