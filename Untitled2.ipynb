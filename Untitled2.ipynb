{
 "cells": [
  {
   "cell_type": "code",
   "execution_count": 29,
   "id": "96af3fe4",
   "metadata": {},
   "outputs": [
    {
     "data": {
      "image/png": "[encoded data removed]",
      "text/plain": [
       "<Figure size 216x180 with 1 Axes>"
      ]
     },
     "metadata": {
      "needs_background": "light"
     },
     "output_type": "display_data"
    }
   ],
   "source": [
    "import seaborn as sns\n",
    "import matplotlib.pyplot as plt\n",
    "import numpy as np\n",
    "\n",
    "# Data\n",
    "data = {\n",
    "    \"pAP01_WWW\": 1,\n",
    "    \"pAP03_OOO\": 0.359888468,\n",
    "    \"pRH04_WOW\": 0.008165704,\n",
    "    \"pRH05_OWW\": 0.810595499,\n",
    "    \"pRH06_OOW\": 0.735510854,\n",
    "    \"pRH07_WWO\": 0.22844055,\n",
    "    \"pRH08_WOO\": 0.009360685,\n",
    "    \"pRH09_OWO\": 0.245369448,\n",
    "}\n",
    "\n",
    "data = {\n",
    "    \"WWW\": 1,\n",
    "    \"OOO\": 0.359888468,\n",
    "    \"WOO\": 0.009360685,\n",
    "    \"OWO\": 0.245369448,\n",
    "    \"OOW\": 0.735510854,\n",
    "    \"WWO\": 0.22844055,\n",
    "    \"WOW\": 0.008165704,\n",
    "    \"OWW\": 0.810595499\n",
    "}\n",
    "\n",
    "# Applying log2 transformation\n",
    "transformed_data = {key: np.log2(value) for key, value in data.items()}\n",
    "\n",
    "# Creating DataFrame\n",
    "import pandas as pd\n",
    "df = pd.DataFrame(list(transformed_data.items()), columns=['Sample', 'Log2 Value'])\n",
    "\n",
    "# Plotting using seaborn\n",
    "plt.figure(figsize=(3, 2.5))\n",
    "bar_plot = sns.barplot(x='Sample', y='Log2 Value', data=df, color='#A87676')\n",
    "# plt.xticks(rotation=)\n",
    "bar_plot.set_ylim(-8,1)\n",
    "\n",
    "plt.axhline(0, color='black', linestyle='--')\n",
    "\n",
    "plt.title('')\n",
    "bar_plot.set_ylabel('')\n",
    "bar_plot.set_xlabel('')\n",
    "\n",
    "plt.savefig('Ruimin_data.svg', bbox_inches='tight')\n",
    "\n",
    "plt.show()\n"
   ]
  }
 ],
 "metadata": {
  "kernelspec": {
   "display_name": "Python 3 (ipykernel)",
   "language": "python",
   "name": "python3"
  },
  "language_info": {
   "codemirror_mode": {
    "name": "ipython",
    "version": 3
   },
   "file_extension": ".py",
   "mimetype": "text/x-python",
   "name": "python",
   "nbconvert_exporter": "python",
   "pygments_lexer": "ipython3",
   "version": "3.9.12"
  }
 },
 "nbformat": 4,
 "nbformat_minor": 5
}
