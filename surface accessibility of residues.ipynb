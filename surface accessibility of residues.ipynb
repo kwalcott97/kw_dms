{
 "cells": [
  {
   "cell_type": "code",
   "execution_count": 4,
   "id": "68544135",
   "metadata": {
    "scrolled": true
   },
   "outputs": [
    {
     "name": "stdout",
     "output_type": "stream",
     "text": [
      "/Users/keith_tetrad\n"
     ]
    }
   ],
   "source": [
    "cd"
   ]
  },
  {
   "cell_type": "code",
   "execution_count": 5,
   "id": "2d8d3daa",
   "metadata": {},
   "outputs": [],
   "source": [
    "import __main__\n",
    "import pandas as pd\n",
    "\n",
    "__main__.pymol_argv = ['pymol', '-qc']\n",
    "import pymol\n",
    "from pymol import cmd, stored\n",
    "\n",
    "pymol.finish_launching()"
   ]
  },
  {
   "cell_type": "code",
   "execution_count": 6,
   "id": "902d1786",
   "metadata": {},
   "outputs": [
    {
     "name": "stdout",
     "output_type": "stream",
     "text": [
      "     Residue Number Residue Identity        SASA\n",
      "0                27              ALA  252.676834\n",
      "1                28              TYR  472.798737\n",
      "2                29              THR   88.997017\n",
      "3                30              ASN  139.515320\n",
      "4                31              SER    4.915101\n",
      "...             ...              ...         ...\n",
      "3139           1143              PRO  220.134689\n",
      "3140           1144              GLU  347.476288\n",
      "3141           1145              LEU  197.068588\n",
      "3142           1146              ASP  261.356964\n",
      "3143           1147              SER  247.679779\n",
      "\n",
      "[3144 rows x 3 columns]\n",
      "Total SASA: 219937.078125\n"
     ]
    }
   ],
   "source": [
    "# cmd.set('dot_solvent', 1)\n",
    "# cmd.set('dot_density', 3)\n",
    "\n",
    "# cmd.load('kw_dms/6xm4.pdb')  # use the name of your pdb file\n",
    "# stored.residues = []\n",
    "# cmd.iterate('name ca', 'stored.residues.append((resi, resn))')\n",
    "\n",
    "# # Calculate SASA for each residue\n",
    "# sasa_per_residue = []\n",
    "# for resi, resn in stored.residues:\n",
    "#     area = cmd.get_area('resi %s' % resi)\n",
    "#     sasa_per_residue.append((resi, resn, area))\n",
    "\n",
    "# # Create a DataFrame\n",
    "# df = pd.DataFrame(sasa_per_residue, columns=['Residue Number', 'Residue Identity', 'SASA'])\n",
    "\n",
    "    \n",
    "# print(df)\n",
    "# print(\"Total SASA:\", cmd.get_area('all'))  # To check the total area"
   ]
  },
  {
   "cell_type": "code",
   "execution_count": 7,
   "id": "e4fac1bc",
   "metadata": {},
   "outputs": [],
   "source": [
    "#reference SASA based on Tien et al. 2013 theoretical\n",
    "reference_sasa = {\n",
    "    'ALA': 129,\n",
    "    'ARG': 274,\n",
    "    'ASN': 195,\n",
    "    'ASP': 193,\n",
    "    'CYS': 167,\n",
    "    'GLU': 223,\n",
    "    'GLN': 225,\n",
    "    'GLY': 104,\n",
    "    'HIS': 224,\n",
    "    'ILE': 197,\n",
    "    'LEU': 201,\n",
    "    'LYS': 236,\n",
    "    'MET': 224,\n",
    "    'PHE': 240,\n",
    "    'PRO': 159,\n",
    "    'SER': 155,\n",
    "    'THR': 172,\n",
    "    'TRP': 285,\n",
    "    'TYR': 263,\n",
    "    'VAL': 174\n",
    "}"
   ]
  },
  {
   "cell_type": "code",
   "execution_count": 8,
   "id": "61bebde4",
   "metadata": {},
   "outputs": [],
   "source": [
    "# Function to calculate rSASA\n",
    "def calculate_rSASA(row):\n",
    "    ref_sasa = reference_sasa.get(row['Residue Identity'])\n",
    "    if ref_sasa:\n",
    "        return (row['SASA'] / ref_sasa) * 100\n",
    "    else:\n",
    "        return None"
   ]
  },
  {
   "cell_type": "code",
   "execution_count": 12,
   "id": "add8ec4f",
   "metadata": {},
   "outputs": [],
   "source": [
    "# Apply the function to each row\n",
    "relative_SASA = df.copy()\n",
    "\n",
    "# Apply the function to each row\n",
    "df['rSASA'] = df.apply(calculate_rSASA, axis=1)"
   ]
  },
  {
   "cell_type": "code",
   "execution_count": 19,
   "id": "2da7ebbe",
   "metadata": {},
   "outputs": [],
   "source": [
    "def determine_accessibility(row):\n",
    "    if row['rSASA'] > 25:\n",
    "        return \"Exposed\"\n",
    "    else:\n",
    "        return \"Burried\""
   ]
  },
  {
   "cell_type": "code",
   "execution_count": 20,
   "id": "3aba42a9",
   "metadata": {
    "scrolled": true
   },
   "outputs": [
    {
     "name": "stdout",
     "output_type": "stream",
     "text": [
      "     Residue Number Residue Identity        SASA       rSASA  \\\n",
      "0                27              ALA  252.676834  195.873515   \n",
      "1                28              TYR  472.798737  179.771383   \n",
      "2                29              THR   88.997017   51.742452   \n",
      "3                30              ASN  139.515320   71.546318   \n",
      "4                31              SER    4.915101    3.171033   \n",
      "...             ...              ...         ...         ...   \n",
      "3139           1143              PRO  220.134689  138.449490   \n",
      "3140           1144              GLU  347.476288  155.818963   \n",
      "3141           1145              LEU  197.068588   98.044074   \n",
      "3142           1146              ASP  261.356964  135.418116   \n",
      "3143           1147              SER  247.679779  159.793406   \n",
      "\n",
      "     surface_accessibility  \n",
      "0                  Exposed  \n",
      "1                  Exposed  \n",
      "2                  Exposed  \n",
      "3                  Exposed  \n",
      "4                  Burried  \n",
      "...                    ...  \n",
      "3139               Exposed  \n",
      "3140               Exposed  \n",
      "3141               Exposed  \n",
      "3142               Exposed  \n",
      "3143               Exposed  \n",
      "\n",
      "[3144 rows x 5 columns]\n"
     ]
    }
   ],
   "source": [
    "df['surface_accessibility'] = df.apply(determine_accessibility, axis=1)\n",
    "print(df)"
   ]
  },
  {
   "cell_type": "code",
   "execution_count": 21,
   "id": "27e4db13",
   "metadata": {},
   "outputs": [],
   "source": [
    "#write to a csv\n",
    "df.to_csv('kw_dms/sasa_data.csv', index=False)"
   ]
  }
 ],
 "metadata": {
  "kernelspec": {
   "display_name": "PyMOL Env",
   "language": "python",
   "name": "pymol_env"
  },
  "language_info": {
   "codemirror_mode": {
    "name": "ipython",
    "version": 3
   },
   "file_extension": ".py",
   "mimetype": "text/x-python",
   "name": "python",
   "nbconvert_exporter": "python",
   "pygments_lexer": "ipython3",
   "version": "3.7.16"
  }
 },
 "nbformat": 4,
 "nbformat_minor": 5
}
