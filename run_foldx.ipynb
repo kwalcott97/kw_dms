{
 "cells": [
  {
   "cell_type": "code",
   "execution_count": null,
   "id": "a33d1418",
   "metadata": {},
   "outputs": [],
   "source": [
    "# run_foldx.py\n",
    "import subprocess\n",
    "import sys\n",
    "import os\n",
    "\n",
    "foldx_path = 'foldxMacC11_0/FoldX'\n",
    "\n",
    "def run_foldx(barcode, mutations_file):\n",
    "    output_filename = f'Dif_{barcode}_7we7_spike.fxout'\n",
    "    command = [foldx_path, '--command=BuildModel', '--pdb=7we7_spike.pdb', \n",
    "               '--mutant-file=' + mutations_file, '--output-file=' + barcode, '--out-pdb=false', '--numberOfRuns=1']\n",
    "    result = subprocess.run(command, capture_output=True, text=True)\n",
    "    if result.returncode == 0 and os.path.exists(output_filename):\n",
    "        return output_filename\n",
    "    return None\n",
    "\n",
    "def main(barcode, mutations_file):\n",
    "    output_file = run_foldx(barcode, mutations_file)\n",
    "    if output_file:\n",
    "        print(f\"FoldX processing successful for {barcode}. Output file: {output_file}\")\n",
    "    else:\n",
    "        print(f\"FoldX processing failed for {barcode}.\")\n",
    "\n",
    "if __name__ == \"__main__\":\n",
    "    main(sys.argv[1], sys.argv[2])\n"
   ]
  }
 ],
 "metadata": {
  "kernelspec": {
   "display_name": "PyMOL Env",
   "language": "python",
   "name": "pymol_env"
  },
  "language_info": {
   "codemirror_mode": {
    "name": "ipython",
    "version": 3
   },
   "file_extension": ".py",
   "mimetype": "text/x-python",
   "name": "python",
   "nbconvert_exporter": "python",
   "pygments_lexer": "ipython3",
   "version": "3.7.16"
  }
 },
 "nbformat": 4,
 "nbformat_minor": 5
}
