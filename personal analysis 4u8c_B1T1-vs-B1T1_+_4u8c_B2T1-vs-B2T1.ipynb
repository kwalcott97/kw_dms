{
 "cells": [
  {
   "cell_type": "code",
   "execution_count": 1,
   "id": "82565d33",
   "metadata": {},
   "outputs": [
    {
     "name": "stdout",
     "output_type": "stream",
     "text": [
      "/Users/keith_tetrad\n"
     ]
    }
   ],
   "source": [
    "cd"
   ]
  },
  {
   "cell_type": "code",
   "execution_count": 2,
   "id": "35630629",
   "metadata": {},
   "outputs": [],
   "source": [
    "import pandas as pd\n",
    "import csv\n",
    "import numpy as np\n",
    "import seaborn as sns\n",
    "import matplotlib.pyplot as plt"
   ]
  },
  {
   "cell_type": "code",
   "execution_count": 3,
   "id": "c4e0caad",
   "metadata": {},
   "outputs": [
    {
     "name": "stdout",
     "output_type": "stream",
     "text": [
      " ExecutiveLoad-Detail: Detected mmCIF\n"
     ]
    },
    {
     "name": "stderr",
     "output_type": "stream",
     "text": [
      "Feature has expired.\n",
      "Feature:       PYMOL_MAIN\n",
      "Expire date:   01-may-2023\n",
      "License path:  /Users/keith_tetrad/.pymol/license.lic:/Library/Application Support/Schrodinger/licenses:\n",
      "FlexNet Licensing error:-10,32\n"
     ]
    },
    {
     "data": {
      "text/plain": [
       "'molecule'"
      ]
     },
     "execution_count": 3,
     "metadata": {},
     "output_type": "execute_result"
    }
   ],
   "source": [
    "#pymol stuff\n",
    "import pymol\n",
    "from pymol import cmd, stored\n",
    "\n",
    "# Initialize PyMOL in headless mode\n",
    "pymol.pymol_argv = ['pymol', '-qc']\n",
    "pymol.finish_launching()\n",
    "\n",
    "# Load the structure 6xm4\n",
    "cmd.fetch(\"6xm4\", \"molecule\")"
   ]
  },
  {
   "cell_type": "code",
   "execution_count": 4,
   "id": "9a7cce58",
   "metadata": {},
   "outputs": [],
   "source": [
    "sample_data = pd.read_csv('kw_dms/results/func_effects/averages/4u8c_B1T1-vs-B1T1_+_4u8c_B2T1-vs-B2T1_func_effects.csv')\n",
    "sasa_data = pd.read_csv('kw_dms/sasa_data.csv')\n",
    "sasa_data.rename(columns={'Residue Number': 'site'}, inplace=True)"
   ]
  },
  {
   "cell_type": "code",
   "execution_count": 5,
   "id": "4c7450f4",
   "metadata": {},
   "outputs": [],
   "source": [
    "filtered_data = sample_data[\n",
    "    (sample_data['n_selections'] != 1) &\n",
    "    (sample_data['times_seen'] >= 3) &\n",
    "    (sample_data['effect_std'] <= 1.6)\n",
    "]"
   ]
  },
  {
   "cell_type": "code",
   "execution_count": 6,
   "id": "2bdcf249",
   "metadata": {
    "scrolled": true
   },
   "outputs": [],
   "source": [
    "sum_site_effect = filtered_data.groupby('site').agg({\n",
    "    'effect': 'mean',    # averaging up the 'effect' column\n",
    "    'wildtype': 'first'\n",
    "}).reset_index()"
   ]
  },
  {
   "cell_type": "code",
   "execution_count": 7,
   "id": "62644479",
   "metadata": {},
   "outputs": [],
   "source": [
    "def get_charge(amino_acid):\n",
    "    if amino_acid in ['R', 'K', 'H']:\n",
    "        return 'Positive'\n",
    "    elif amino_acid in ['D', 'E']:\n",
    "        return 'Negative'\n",
    "    else:\n",
    "        return 'Neutral'\n",
    "\n",
    "def get_polarity(amino_acid):\n",
    "    if amino_acid in ['R', 'K', 'H', 'D', 'E', 'S', 'T', 'N', 'Q', 'Y']:\n",
    "        return 'Polar'\n",
    "    else:\n",
    "        return 'Nonpolar'"
   ]
  },
  {
   "cell_type": "code",
   "execution_count": 8,
   "id": "9139370b",
   "metadata": {},
   "outputs": [],
   "source": [
    "sum_site_effect['charge_status'] = sum_site_effect['wildtype'].apply(get_charge)\n",
    "sum_site_effect['polarity'] = sum_site_effect['wildtype'].apply(get_polarity)"
   ]
  },
  {
   "cell_type": "code",
   "execution_count": 9,
   "id": "d5a8f663",
   "metadata": {
    "scrolled": false
   },
   "outputs": [
    {
     "data": {
      "text/plain": [
       "3826"
      ]
     },
     "execution_count": 9,
     "metadata": {},
     "output_type": "execute_result"
    }
   ],
   "source": [
    "#store secondary structure information for each residue\n",
    "\n",
    "# Initialize a list in the stored namespace\n",
    "stored.secondary_structures = []\n",
    "\n",
    "# Iterate over each residue and store its secondary structure in the stored list\n",
    "cmd.iterate(\"molecule and name CA\", \"stored.secondary_structures.append((resi, ss))\")\n",
    "\n",
    "# Print secondary structure for each residue"
   ]
  },
  {
   "cell_type": "code",
   "execution_count": 10,
   "id": "997059c1",
   "metadata": {},
   "outputs": [
    {
     "name": "stderr",
     "output_type": "stream",
     "text": [
      "/Users/keith_tetrad/opt/anaconda3/envs/pymol_env/lib/python3.7/site-packages/ipykernel_launcher.py:3: SettingWithCopyWarning: \n",
      "A value is trying to be set on a copy of a slice from a DataFrame.\n",
      "Try using .loc[row_indexer,col_indexer] = value instead\n",
      "\n",
      "See the caveats in the documentation: https://pandas.pydata.org/pandas-docs/stable/user_guide/indexing.html#returning-a-view-versus-a-copy\n",
      "  This is separate from the ipykernel package so we can avoid doing imports until\n"
     ]
    }
   ],
   "source": [
    "#formatting\n",
    "sum_site_effect['site'] = sum_site_effect['site'].str.extract(r'(\\d+)').astype(int)\n",
    "filtered_data['site'] = filtered_data['site'].str.extract(r'(\\d+)').astype(int)"
   ]
  },
  {
   "cell_type": "code",
   "execution_count": 11,
   "id": "0175631f",
   "metadata": {
    "scrolled": false
   },
   "outputs": [],
   "source": [
    "# # Assuming 'stored.secondary_structures' contains your PyMOL data\n",
    "# # Convert to DataFrame\n",
    "# ss_df = pd.DataFrame(stored.secondary_structures, columns=['site', 'secondary_structure'])\n",
    "\n",
    "# # Replace the letters with actual secondary structure names\n",
    "# ss_df['secondary_structure'] = ss_df['secondary_structure'].map({\n",
    "#     'H': 'Alpha Helix',\n",
    "#     'S': 'Beta Sheet',\n",
    "#     'L': 'Loop'\n",
    "# })"
   ]
  },
  {
   "cell_type": "code",
   "execution_count": 12,
   "id": "038a2584",
   "metadata": {},
   "outputs": [],
   "source": [
    "#'stored.secondary_structures' contains your PyMOL data\n",
    "# Convert to DataFrame\n",
    "ss_df = pd.DataFrame(stored.secondary_structures, columns=['site', 'secondary_structure'])\n",
    "\n",
    "# Function to determine secondary structure\n",
    "def determine_structure(ss):\n",
    "    if ss == 'H':\n",
    "        return 'Alpha Helix'\n",
    "    elif ss == 'S':\n",
    "        return 'Beta Sheet'\n",
    "    else:\n",
    "        return 'Loop'\n",
    "\n",
    "# Apply the function to each row in the 'secondary_structure' column\n",
    "ss_df['secondary_structure'] = ss_df['secondary_structure'].apply(determine_structure)\n",
    "\n",
    "# Convert 'site' to int in ss_df and remove duplicates\n",
    "ss_df['site'] = ss_df['site'].astype(int)\n",
    "ss_df.drop_duplicates(subset=['site'], inplace=True)"
   ]
  },
  {
   "cell_type": "code",
   "execution_count": 13,
   "id": "a2973bcc",
   "metadata": {},
   "outputs": [],
   "source": [
    "merged_df = pd.merge(filtered_data, ss_df, on='site')"
   ]
  },
  {
   "cell_type": "code",
   "execution_count": 14,
   "id": "0050b4da",
   "metadata": {},
   "outputs": [
    {
     "name": "stdout",
     "output_type": "stream",
     "text": [
      "     site wildtype mutant   effect  effect_std  times_seen  n_selections  \\\n",
      "568  1147        S      A  0.03360     0.03165        11.5             2   \n",
      "569  1147        S      L  0.02095     0.02772        21.5             2   \n",
      "570  1147        S      T -0.12020     0.02886        11.5             2   \n",
      "\n",
      "    secondary_structure  \n",
      "568                Loop  \n",
      "569                Loop  \n",
      "570                Loop  \n"
     ]
    }
   ],
   "source": [
    "entry_lookup = merged_df.loc[merged_df['site'] == 1147]\n",
    "print(entry_lookup)"
   ]
  },
  {
   "cell_type": "code",
   "execution_count": 15,
   "id": "7d169533",
   "metadata": {},
   "outputs": [],
   "source": [
    "# Initialize a list in the stored namespace\n",
    "stored.atom_data = []\n",
    "\n",
    "# Iterate over each atom and store its chain identifier, residue number, residue name, and atom name\n",
    "cmd.iterate(\"molecule\", \"stored.atom_data.append((chain, resi, resn, name))\")\n",
    "\n",
    "# Create a DataFrame from the stored data\n",
    "atom_df = pd.DataFrame(stored.atom_data, columns=['chain', 'resi', 'resn', 'name'])\n",
    "\n",
    "#convert resi to int if its not already\n",
    "atom_df['resi'] = atom_df['resi'].astype(int)"
   ]
  },
  {
   "cell_type": "code",
   "execution_count": 16,
   "id": "6d6719b5",
   "metadata": {},
   "outputs": [
    {
     "name": "stdout",
     "output_type": "stream",
     "text": [
      "      chain  resi resn name   effect\n",
      "0         A    14  GLN   CA  0.03195\n",
      "1         A    14  GLN   CA  0.03932\n",
      "2         A    14  GLN   CA -0.21560\n",
      "3         A    14  GLN   CA -0.07898\n",
      "4         A    14  GLN   CA  0.03838\n",
      "...     ...   ...  ...  ...      ...\n",
      "96228     A  1305  NAG   C6  0.00000\n",
      "96229     A  1305  NAG   O6  0.00000\n",
      "96230     A  1305  NAG   C7  0.00000\n",
      "96231     A  1305  NAG   O7  0.00000\n",
      "96232     A  1305  NAG   C8  0.00000\n",
      "\n",
      "[96233 rows x 5 columns]\n"
     ]
    }
   ],
   "source": [
    "# Merge atom_df with only the 'effect' column of merged_df\n",
    "atom_effect = pd.merge(atom_df, merged_df[['site', 'effect']], left_on='resi', right_on='site', how='left')\n",
    "\n",
    "# Drop the 'site' column after merging\n",
    "atom_effect.drop('site', axis=1, inplace=True)\n",
    "\n",
    "# Replace NaN in 'effect' with 0\n",
    "atom_effect['effect'].fillna(0, inplace=True)\n",
    "\n",
    "# Display the first few rows of the updated df1\n",
    "print(atom_effect)"
   ]
  },
  {
   "cell_type": "code",
   "execution_count": 17,
   "id": "d773b306",
   "metadata": {},
   "outputs": [],
   "source": [
    "#Optionally, save the updated DataFrame to a file\n",
    "#atom_effect.to_csv('kw_dms/atom_effect', sep=' ', index=False, header=False)"
   ]
  },
  {
   "cell_type": "code",
   "execution_count": 22,
   "id": "64312ae3",
   "metadata": {},
   "outputs": [],
   "source": [
    "filtered_with_ss = pd.merge(filtered_data, ss_df, on='site')"
   ]
  },
  {
   "cell_type": "code",
   "execution_count": 25,
   "id": "ccbec2df",
   "metadata": {},
   "outputs": [],
   "source": [
    "filtered_with_accessible = pd.merge(filtered_data, sasa_data, on='site')"
   ]
  },
  {
   "cell_type": "code",
   "execution_count": 27,
   "id": "02817b1f",
   "metadata": {
    "scrolled": true
   },
   "outputs": [
    {
     "name": "stdout",
     "output_type": "stream",
     "text": [
      "       site wildtype mutant    effect  effect_std  times_seen  n_selections  \\\n",
      "0       100        I      H  0.048840     0.03705        29.0             2   \n",
      "1       100        I      H  0.048840     0.03705        29.0             2   \n",
      "2       100        I      H  0.048840     0.03705        29.0             2   \n",
      "3       100        I      K -0.089520     0.20230        13.5             2   \n",
      "4       100        I      K -0.089520     0.20230        13.5             2   \n",
      "...     ...      ...    ...       ...         ...         ...           ...   \n",
      "11334   999        G      C -0.116500     0.18530         6.5             2   \n",
      "11335   999        G      C -0.116500     0.18530         6.5             2   \n",
      "11336   999        G      S  0.004895     0.02627         3.5             2   \n",
      "11337   999        G      S  0.004895     0.02627         3.5             2   \n",
      "11338   999        G      S  0.004895     0.02627         3.5             2   \n",
      "\n",
      "      Residue Identity        SASA      rSASA surface_accessibility  \n",
      "0                  ILE  187.016861  94.932417               Exposed  \n",
      "1                  ILE  187.016861  94.932417               Exposed  \n",
      "2                  ILE  187.016861  94.932417               Exposed  \n",
      "3                  ILE  187.016861  94.932417               Exposed  \n",
      "4                  ILE  187.016861  94.932417               Exposed  \n",
      "...                ...         ...        ...                   ...  \n",
      "11334              GLY   19.284939  18.543210               Burried  \n",
      "11335              GLY   19.284939  18.543210               Burried  \n",
      "11336              GLY   19.284939  18.543210               Burried  \n",
      "11337              GLY   19.284939  18.543210               Burried  \n",
      "11338              GLY   19.284939  18.543210               Burried  \n",
      "\n",
      "[11339 rows x 11 columns]\n"
     ]
    }
   ],
   "source": [
    "print(filtered_with_accessible)"
   ]
  },
  {
   "cell_type": "code",
   "execution_count": 28,
   "id": "4fa5d046",
   "metadata": {},
   "outputs": [
    {
     "name": "stderr",
     "output_type": "stream",
     "text": [
      "/Users/keith_tetrad/opt/anaconda3/envs/pymol_env/lib/python3.7/site-packages/ipykernel_launcher.py:3: SettingWithCopyWarning: \n",
      "A value is trying to be set on a copy of a slice from a DataFrame.\n",
      "Try using .loc[row_indexer,col_indexer] = value instead\n",
      "\n",
      "See the caveats in the documentation: https://pandas.pydata.org/pandas-docs/stable/user_guide/indexing.html#returning-a-view-versus-a-copy\n",
      "  This is separate from the ipykernel package so we can avoid doing imports until\n",
      "/Users/keith_tetrad/opt/anaconda3/envs/pymol_env/lib/python3.7/site-packages/ipykernel_launcher.py:5: SettingWithCopyWarning: \n",
      "A value is trying to be set on a copy of a slice from a DataFrame.\n",
      "Try using .loc[row_indexer,col_indexer] = value instead\n",
      "\n",
      "See the caveats in the documentation: https://pandas.pydata.org/pandas-docs/stable/user_guide/indexing.html#returning-a-view-versus-a-copy\n",
      "  \"\"\"\n",
      "/Users/keith_tetrad/opt/anaconda3/envs/pymol_env/lib/python3.7/site-packages/ipykernel_launcher.py:7: SettingWithCopyWarning: \n",
      "A value is trying to be set on a copy of a slice from a DataFrame.\n",
      "Try using .loc[row_indexer,col_indexer] = value instead\n",
      "\n",
      "See the caveats in the documentation: https://pandas.pydata.org/pandas-docs/stable/user_guide/indexing.html#returning-a-view-versus-a-copy\n",
      "  import sys\n"
     ]
    }
   ],
   "source": [
    "# Filter for 'Alpha Helix', 'Beta Sheet', and 'Loop'\n",
    "alpha_helix = filtered_with_ss[filtered_with_ss['secondary_structure'] == 'Alpha Helix']\n",
    "alpha_helix['Category'] = 'Alpha Helix'\n",
    "beta_sheet = filtered_with_ss[filtered_with_ss['secondary_structure'] == 'Beta Sheet']\n",
    "beta_sheet['Category'] = 'Beta Sheet'\n",
    "loop = filtered_with_ss[filtered_with_ss['secondary_structure'] == 'Loop']\n",
    "loop['Category'] = 'Loop'\n",
    "all_sites = filtered_with_ss.copy()\n",
    "all_sites['Category'] = 'All Sites'"
   ]
  },
  {
   "cell_type": "code",
   "execution_count": 29,
   "id": "afc36c30",
   "metadata": {},
   "outputs": [
    {
     "name": "stderr",
     "output_type": "stream",
     "text": [
      "/Users/keith_tetrad/opt/anaconda3/envs/pymol_env/lib/python3.7/site-packages/ipykernel_launcher.py:3: SettingWithCopyWarning: \n",
      "A value is trying to be set on a copy of a slice from a DataFrame.\n",
      "Try using .loc[row_indexer,col_indexer] = value instead\n",
      "\n",
      "See the caveats in the documentation: https://pandas.pydata.org/pandas-docs/stable/user_guide/indexing.html#returning-a-view-versus-a-copy\n",
      "  This is separate from the ipykernel package so we can avoid doing imports until\n",
      "/Users/keith_tetrad/opt/anaconda3/envs/pymol_env/lib/python3.7/site-packages/ipykernel_launcher.py:5: SettingWithCopyWarning: \n",
      "A value is trying to be set on a copy of a slice from a DataFrame.\n",
      "Try using .loc[row_indexer,col_indexer] = value instead\n",
      "\n",
      "See the caveats in the documentation: https://pandas.pydata.org/pandas-docs/stable/user_guide/indexing.html#returning-a-view-versus-a-copy\n",
      "  \"\"\"\n"
     ]
    }
   ],
   "source": [
    "# filter for surface accessibility\n",
    "exposed = filtered_with_accessible[filtered_with_accessible['surface_accessibility'] == 'Exposed']\n",
    "exposed['Category'] = 'Exposed'\n",
    "burried = filtered_with_accessible[filtered_with_accessible['surface_accessibility'] == 'Burried']\n",
    "burried['Category'] = 'Burried'"
   ]
  },
  {
   "cell_type": "code",
   "execution_count": 30,
   "id": "110e16ae",
   "metadata": {},
   "outputs": [],
   "source": [
    "data_for_plotting = pd.concat([ all_sites, alpha_helix, beta_sheet, loop, exposed, burried])"
   ]
  },
  {
   "cell_type": "code",
   "execution_count": 31,
   "id": "e2a117fa",
   "metadata": {},
   "outputs": [],
   "source": [
    "data_for_plotting = data_for_plotting[['Category', 'effect']]"
   ]
  },
  {
   "cell_type": "code",
   "execution_count": 32,
   "id": "465bfd36",
   "metadata": {},
   "outputs": [
    {
     "data": {
      "image/png": "[encoded data removed]",
      "text/plain": [
       "<Figure size 640x480 with 1 Axes>"
      ]
     },
     "metadata": {},
     "output_type": "display_data"
    }
   ],
   "source": [
    "sns.stripplot(x='Category', y='effect', data=data_for_plotting, jitter=True, alpha=0.25)\n",
    "\n",
    "# Add a horizontal dotted line at y=0\n",
    "plt.axhline(0, color='grey', linestyle='dotted', linewidth=1)\n",
    "\n",
    "# Add mean bars for each category\n",
    "categories = data_for_plotting['Category'].unique()\n",
    "for i, category in enumerate(categories):\n",
    "    mean_val = data_for_plotting[data_for_plotting['Category'] == category]['effect'].mean()\n",
    "    plt.hlines(mean_val, i - 0.1, i + 0.1, colors='red', linewidth=2, zorder=3)\n",
    "\n",
    "plt.title('Secondary Structure')\n",
    "plt.show()"
   ]
  },
  {
   "cell_type": "code",
   "execution_count": null,
   "id": "d6351ef8",
   "metadata": {},
   "outputs": [],
   "source": []
  }
 ],
 "metadata": {
  "kernelspec": {
   "display_name": "Python 3 (ipykernel)",
   "language": "python",
   "name": "python3"
  },
  "language_info": {
   "codemirror_mode": {
    "name": "ipython",
    "version": 3
   },
   "file_extension": ".py",
   "mimetype": "text/x-python",
   "name": "python",
   "nbconvert_exporter": "python",
   "pygments_lexer": "ipython3",
   "version": "3.9.12"
  }
 },
 "nbformat": 4,
 "nbformat_minor": 5
}
