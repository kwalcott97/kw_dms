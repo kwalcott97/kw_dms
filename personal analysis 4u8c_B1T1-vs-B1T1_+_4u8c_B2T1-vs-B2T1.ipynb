{
 "cells": [
  {
   "cell_type": "code",
   "execution_count": 1,
   "id": "82565d33",
   "metadata": {},
   "outputs": [
    {
     "name": "stdout",
     "output_type": "stream",
     "text": [
      "/Users/keithwalcott\n"
     ]
    }
   ],
   "source": [
    "cd"
   ]
  },
  {
   "cell_type": "code",
   "execution_count": 2,
   "id": "35630629",
   "metadata": {},
   "outputs": [],
   "source": [
    "import pandas as pd\n",
    "import csv\n",
    "import numpy as np"
   ]
  },
  {
   "cell_type": "code",
   "execution_count": 3,
   "id": "c4e0caad",
   "metadata": {},
   "outputs": [
    {
     "name": "stdout",
     "output_type": "stream",
     "text": [
      " ExecutiveLoad-Detail: Detected mmCIF\n"
     ]
    },
    {
     "data": {
      "text/plain": [
       "'molecule'"
      ]
     },
     "execution_count": 3,
     "metadata": {},
     "output_type": "execute_result"
    }
   ],
   "source": [
    "#pymol stuff\n",
    "import pymol\n",
    "from pymol import cmd, stored\n",
    "\n",
    "# Initialize PyMOL in headless mode\n",
    "pymol.pymol_argv = ['pymol', '-qc']\n",
    "pymol.finish_launching()\n",
    "\n",
    "# Load the structure 6xm4\n",
    "cmd.fetch(\"6xm4\", \"molecule\")"
   ]
  },
  {
   "cell_type": "code",
   "execution_count": 4,
   "id": "9a7cce58",
   "metadata": {},
   "outputs": [
    {
     "name": "stdout",
     "output_type": "stream",
     "text": [
      "  site wildtype mutant   effect  effect_std  times_seen  n_selections\n",
      "0    1        M      M  0.00000         NaN         NaN             1\n",
      "1    1        M      T -0.41420         NaN         2.0             1\n",
      "2   10        L      I -0.05005     0.06388        40.5             2\n",
      "3   10        L      L  0.00000     0.00000         NaN             2\n",
      "4   10        L      M  0.05568     0.04362         7.0             2\n"
     ]
    }
   ],
   "source": [
    "sample_data = pd.read_csv('kw_dms/results/func_effects/averages/4u8c_B1T1-vs-B1T1_+_4u8c_B2T1-vs-B2T1_func_effects.csv')"
   ]
  },
  {
   "cell_type": "code",
   "execution_count": 5,
   "id": "4c7450f4",
   "metadata": {},
   "outputs": [],
   "source": [
    "filtered_data = sample_data[\n",
    "    (sample_data['n_selections'] != 1) &\n",
    "    (sample_data['times_seen'] >= 3) &\n",
    "    (sample_data['effect_std'] <= 1.6)\n",
    "]"
   ]
  },
  {
   "cell_type": "code",
   "execution_count": 6,
   "id": "2bdcf249",
   "metadata": {
    "scrolled": true
   },
   "outputs": [],
   "source": [
    "sum_site_effect = filtered_data.groupby('site').agg({\n",
    "    'effect': 'mean',    # averaging up the 'effect' column\n",
    "    'wildtype': 'first'\n",
    "}).reset_index()"
   ]
  },
  {
   "cell_type": "code",
   "execution_count": 7,
   "id": "62644479",
   "metadata": {},
   "outputs": [],
   "source": [
    "def get_charge(amino_acid):\n",
    "    if amino_acid in ['R', 'K', 'H']:\n",
    "        return 'Positive'\n",
    "    elif amino_acid in ['D', 'E']:\n",
    "        return 'Negative'\n",
    "    else:\n",
    "        return 'Neutral'\n",
    "\n",
    "def get_polarity(amino_acid):\n",
    "    if amino_acid in ['R', 'K', 'H', 'D', 'E', 'S', 'T', 'N', 'Q', 'Y']:\n",
    "        return 'Polar'\n",
    "    else:\n",
    "        return 'Nonpolar'"
   ]
  },
  {
   "cell_type": "code",
   "execution_count": 8,
   "id": "9139370b",
   "metadata": {},
   "outputs": [],
   "source": [
    "sum_site_effect['charge_status'] = sum_site_effect['wildtype'].apply(get_charge)\n",
    "sum_site_effect['polarity'] = sum_site_effect['wildtype'].apply(get_polarity)"
   ]
  },
  {
   "cell_type": "code",
   "execution_count": 9,
   "id": "d5a8f663",
   "metadata": {
    "scrolled": false
   },
   "outputs": [
    {
     "data": {
      "text/plain": [
       "3826"
      ]
     },
     "execution_count": 9,
     "metadata": {},
     "output_type": "execute_result"
    }
   ],
   "source": [
    "#store secondary structure information for each residue\n",
    "\n",
    "# Initialize a list in the stored namespace\n",
    "stored.secondary_structures = []\n",
    "\n",
    "# Iterate over each residue and store its secondary structure in the stored list\n",
    "cmd.iterate(\"molecule and name CA\", \"stored.secondary_structures.append((resi, ss))\")\n",
    "\n",
    "# Print secondary structure for each residue"
   ]
  },
  {
   "cell_type": "code",
   "execution_count": 10,
   "id": "997059c1",
   "metadata": {},
   "outputs": [],
   "source": [
    "#formatting\n",
    "sum_site_effect['site'] = sum_site_effect['site'].str.extract(r'(\\d+)').astype(int)"
   ]
  },
  {
   "cell_type": "code",
   "execution_count": 11,
   "id": "0175631f",
   "metadata": {
    "scrolled": false
   },
   "outputs": [
    {
     "name": "stdout",
     "output_type": "stream",
     "text": [
      "      site    effect wildtype charge_status  polarity secondary_structure\n",
      "0      100 -0.027504        I       Neutral  Nonpolar                 NaN\n",
      "1     1002 -0.047275        Q       Neutral     Polar         Alpha Helix\n",
      "2     1003 -0.078230        S       Neutral     Polar         Alpha Helix\n",
      "3     1005 -0.212417        Q       Neutral     Polar         Alpha Helix\n",
      "4     1006 -0.040065        T       Neutral     Polar         Alpha Helix\n",
      "...    ...       ...      ...           ...       ...                 ...\n",
      "1048   993  0.025138        I       Neutral  Nonpolar         Alpha Helix\n",
      "1049   994  0.010592        D      Negative     Polar         Alpha Helix\n",
      "1050   995  0.010540        R      Positive     Polar         Alpha Helix\n",
      "1051   998 -0.035740        T       Neutral     Polar         Alpha Helix\n",
      "1052   999 -0.055803        G       Neutral  Nonpolar         Alpha Helix\n",
      "\n",
      "[1053 rows x 6 columns]\n"
     ]
    }
   ],
   "source": [
    "# Assuming 'stored.secondary_structures' contains your PyMOL data\n",
    "# Convert to DataFrame\n",
    "ss_df = pd.DataFrame(stored.secondary_structures, columns=['site', 'secondary_structure'])\n",
    "\n",
    "# Replace the letters with actual secondary structure names\n",
    "ss_df['secondary_structure'] = ss_df['secondary_structure'].map({\n",
    "    'H': 'Alpha Helix',\n",
    "    'S': 'Beta Sheet',\n",
    "    'L': 'Loop'\n",
    "})\n",
    "\n",
    "# Convert 'site' to int in ss_df and remove duplicates\n",
    "ss_df['site'] = ss_df['site'].astype(int)\n",
    "ss_df.drop_duplicates(subset=['site'], inplace=True)\n",
    "\n",
    "# Merge the DataFrames\n",
    "merged_df = pd.merge(sum_site_effect, ss_df, on='site')\n",
    "\n",
    "print(merged_df)"
   ]
  },
  {
   "cell_type": "code",
   "execution_count": 42,
   "id": "0050b4da",
   "metadata": {},
   "outputs": [
    {
     "name": "stdout",
     "output_type": "stream",
     "text": [
      "     site  effect wildtype charge_status polarity secondary_structure\n",
      "429   297 -0.8246        S       Neutral    Polar         Alpha Helix\n"
     ]
    }
   ],
   "source": [
    "entry_lookup = merged_df.loc[merged_df['site'] == 297]\n",
    "print(entry_lookup)"
   ]
  },
  {
   "cell_type": "code",
   "execution_count": 22,
   "id": "7d169533",
   "metadata": {},
   "outputs": [],
   "source": [
    "# Initialize a list in the stored namespace\n",
    "stored.atom_data = []\n",
    "\n",
    "# Iterate over each atom and store its chain identifier, residue number, residue name, and atom name\n",
    "cmd.iterate(\"molecule\", \"stored.atom_data.append((chain, resi, resn, name))\")\n",
    "\n",
    "# Create a DataFrame from the stored data\n",
    "atom_df = pd.DataFrame(stored.atom_data, columns=['chain', 'resi', 'resn', 'name'])\n",
    "\n",
    "#convert resi to int if its not already\n",
    "atom_df['resi'] = atom_df['resi'].astype(int)"
   ]
  },
  {
   "cell_type": "code",
   "execution_count": 27,
   "id": "6d6719b5",
   "metadata": {},
   "outputs": [
    {
     "name": "stdout",
     "output_type": "stream",
     "text": [
      "      chain  resi resn name    effect\n",
      "0         A    14  GLN   CA -0.036986\n",
      "1         A    15  CYS   CA -0.044967\n",
      "2         A    16  VAL   CA -0.070498\n",
      "3         A    17  ASN   CA -0.170608\n",
      "4         A    18  LEU   CA -0.080739\n",
      "...     ...   ...  ...  ...       ...\n",
      "26174     A  1305  NAG   C6  0.000000\n",
      "26175     A  1305  NAG   O6  0.000000\n",
      "26176     A  1305  NAG   C7  0.000000\n",
      "26177     A  1305  NAG   O7  0.000000\n",
      "26178     A  1305  NAG   C8  0.000000\n",
      "\n",
      "[26179 rows x 5 columns]\n"
     ]
    }
   ],
   "source": [
    "# Merge atom_df with only the 'effect' column of merged_df\n",
    "atom_effect = pd.merge(atom_df, merged_df[['site', 'effect']], left_on='resi', right_on='site', how='left')\n",
    "\n",
    "# Drop the 'site' column after merging\n",
    "atom_effect.drop('site', axis=1, inplace=True)\n",
    "\n",
    "# Replace NaN in 'effect' with 0\n",
    "atom_effect['effect'].fillna(0, inplace=True)\n",
    "\n",
    "# Display the first few rows of the updated df1\n",
    "print(atom_effect)"
   ]
  },
  {
   "cell_type": "code",
   "execution_count": 29,
   "id": "d773b306",
   "metadata": {},
   "outputs": [],
   "source": [
    "#Optionally, save the updated DataFrame to a file\n",
    "#atom_effect.to_csv('kw_dms/atom_effect', sep=' ', index=False, header=False)"
   ]
  }
 ],
 "metadata": {
  "kernelspec": {
   "display_name": "Python 3 (ipykernel)",
   "language": "python",
   "name": "python3"
  },
  "language_info": {
   "codemirror_mode": {
    "name": "ipython",
    "version": 3
   },
   "file_extension": ".py",
   "mimetype": "text/x-python",
   "name": "python",
   "nbconvert_exporter": "python",
   "pygments_lexer": "ipython3",
   "version": "3.11.6"
  }
 },
 "nbformat": 4,
 "nbformat_minor": 5
}
