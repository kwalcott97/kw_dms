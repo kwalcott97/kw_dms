{
 "cells": [
  {
   "cell_type": "code",
   "execution_count": null,
   "id": "fdf02467",
   "metadata": {},
   "outputs": [],
   "source": [
    "# compile_results.py\n",
    "import pandas as pd\n",
    "import sys\n",
    "import os\n",
    "\n",
    "def compile_results(results_folder):\n",
    "    results = []\n",
    "    for filename in os.listdir(results_folder):\n",
    "        if filename.endswith('_7we7_spike.fxout'):\n",
    "            barcode = filename.split('_')[1]\n",
    "            with open(os.path.join(results_folder, filename), 'r') as file:\n",
    "                for line in file:\n",
    "                    if line.startswith('7we7_spike_1'):\n",
    "                        parts = line.split()\n",
    "                        results.append((barcode, parts[2]))\n",
    "    df = pd.DataFrame(results, columns=['Barcode', 'Total Energy'])\n",
    "    df.to_csv('foldx_results.csv', index=False)\n",
    "    print(\"Results have been written to foldx_results.csv\")\n",
    "\n",
    "if __name__ == \"__main__\":\n",
    "    compile_results(sys.argv[1])\n"
   ]
  }
 ],
 "metadata": {
  "kernelspec": {
   "display_name": "PyMOL Env",
   "language": "python",
   "name": "pymol_env"
  },
  "language_info": {
   "codemirror_mode": {
    "name": "ipython",
    "version": 3
   },
   "file_extension": ".py",
   "mimetype": "text/x-python",
   "name": "python",
   "nbconvert_exporter": "python",
   "pygments_lexer": "ipython3",
   "version": "3.7.16"
  }
 },
 "nbformat": 4,
 "nbformat_minor": 5
}
