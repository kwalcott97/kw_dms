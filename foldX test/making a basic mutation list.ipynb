{
 "cells": [
  {
   "cell_type": "code",
   "execution_count": 1,
   "id": "9dc8bad9",
   "metadata": {},
   "outputs": [
    {
     "name": "stdout",
     "output_type": "stream",
     "text": [
      "/Users/keith_tetrad\n"
     ]
    }
   ],
   "source": [
    "cd"
   ]
  },
  {
   "cell_type": "code",
   "execution_count": 2,
   "id": "5d9e3f78",
   "metadata": {},
   "outputs": [
    {
     "name": "stdout",
     "output_type": "stream",
     "text": [
      "20230721_DP2_Plots.ipynb\r\n",
      "4u8c_B1T1-vs-DMSO_B1T1-and-4u8c_B2T2-vs-DMSO_B2T2_func_scores_plot.png\r\n",
      "6xm4.cif\r\n",
      "\u001b[34mCreative Cloud Files\u001b[m\u001b[m/\r\n",
      "\u001b[34mDesktop\u001b[m\u001b[m/\r\n",
      "\u001b[34mDocuments\u001b[m\u001b[m/\r\n",
      "\u001b[34mDownloads\u001b[m\u001b[m/\r\n",
      "KW_keypair.pem\r\n",
      "\u001b[34mLibrary\u001b[m\u001b[m/\r\n",
      "\u001b[34mMovies\u001b[m\u001b[m/\r\n",
      "\u001b[34mMusic\u001b[m\u001b[m/\r\n",
      "\u001b[34mMyWorkArea\u001b[m\u001b[m/\r\n",
      "\u001b[34mPictures\u001b[m\u001b[m/\r\n",
      "\u001b[34mPublic\u001b[m\u001b[m/\r\n",
      "\u001b[34mUPR_drug_spike_expression\u001b[m\u001b[m/\r\n",
      "\u001b[34mZotero\u001b[m\u001b[m/\r\n",
      "aa_subs.png\r\n",
      "\u001b[34mamplab_code_kw\u001b[m\u001b[m/\r\n",
      "barcodes_filtered.png\r\n",
      "comparison_4u8c_B1T1-vs-DMSO_B1T1-and-4u8c_B2T2-vs-DMSO_B2T2.png\r\n",
      "\u001b[34mcon_seq\u001b[m\u001b[m/\r\n",
      "fig 2.png\r\n",
      "fig_2.png\r\n",
      "fig_2_c.png\r\n",
      "\u001b[34mfoldxMacC11_0\u001b[m\u001b[m/\r\n",
      "func_comparison.pdf\r\n",
      "func_scores_plot.pdf\r\n",
      "func_scores_plot.png\r\n",
      "in_1_and_3.csv\r\n",
      "\u001b[34mkw_dms\u001b[m\u001b[m/\r\n",
      "my_plot.png\r\n",
      "\u001b[34mopt\u001b[m\u001b[m/\r\n",
      "overlap_data.csv\r\n",
      "sampled_4u8c_B1T1-vs-DMSO_B1T1-and-4u8c_B2T2-vs-DMSO_B2T2.csv\r\n",
      "tissue_cell_types.txt\r\n",
      "venn_plot.png\r\n"
     ]
    }
   ],
   "source": [
    "ls"
   ]
  },
  {
   "cell_type": "code",
   "execution_count": 3,
   "id": "7d22dece",
   "metadata": {},
   "outputs": [
    {
     "name": "stderr",
     "output_type": "stream",
     "text": [
      "/Users/keith_tetrad/opt/anaconda3/lib/python3.9/site-packages/Bio/pairwise2.py:278: BiopythonDeprecationWarning: Bio.pairwise2 has been deprecated, and we intend to remove it in a future release of Biopython. As an alternative, please consider using Bio.Align.PairwiseAligner as a replacement, and contact the Biopython developers if you still need the Bio.pairwise2 module.\n",
      "  warnings.warn(\n"
     ]
    }
   ],
   "source": [
    "from Bio import SeqIO\n",
    "from Bio import pairwise2\n",
    "from Bio.SeqIO import parse\n"
   ]
  },
  {
   "cell_type": "code",
   "execution_count": 4,
   "id": "d38b6bab",
   "metadata": {
    "scrolled": true
   },
   "outputs": [],
   "source": [
    "# def read_fasta(file_path):\n",
    "#     \"\"\"Read a single sequence from a FASTA file.\"\"\"\n",
    "#     with open(file_path, 'r') as file:\n",
    "#         # Parse the fasta file and return the first record\n",
    "#         return next(SeqIO.parse(file, 'fasta')).seq\n",
    "\n",
    "# def find_mutations(wt_sequence, mutant_sequence):\n",
    "#     \"\"\"Generate a list of mutations comparing the wild type and mutant sequences.\"\"\"\n",
    "#     mutations = []\n",
    "#     for i in range(min(len(wt_sequence), len(mutant_sequence))):\n",
    "#         if wt_sequence[i] != '-' and mutant_sequence[i] != '-' and wt_sequence[i] != mutant_sequence[i]:\n",
    "#             mutation = f\"{wt_sequence[i]}A{i + 1}{mutant_sequence[i]},\n",
    "#             {wt_sequence[i]}B{i + 1}{mutant_sequence[i]},\n",
    "#             {wt_sequence[i]}C{i + 1}{mutant_sequence[i]}\"\n",
    "#             mutations.append(mutation)\n",
    "#     return mutations\n",
    "\n",
    "# # Paths to your FASTA files\n",
    "# wild_type_path = 'kw_dms/foldX test/6xm4.fa'\n",
    "# mutant_path = 'kw_dms/foldX test/3282.fa'\n",
    "\n",
    "# # Read the sequences\n",
    "# wild_type_seq = read_fasta(wild_type_path)\n",
    "# mutant_seq = read_fasta(mutant_path)\n",
    "\n",
    "# # Find mutations\n",
    "# mutation_list = find_mutations(wild_type_seq, mutant_seq)\n",
    "\n",
    "# # Print the mutation list\n",
    "# print(\"Mutations:\", mutation_list)\n"
   ]
  },
  {
   "cell_type": "code",
   "execution_count": 5,
   "id": "3acd37d2",
   "metadata": {},
   "outputs": [],
   "source": [
    "# def write_mutations_to_file(mutations, filename):\n",
    "#     \"\"\"Write the list of mutations to a file.\"\"\"\n",
    "#     with open(filename, 'w') as file:\n",
    "#         for mutation in mutations:\n",
    "#             file.write(mutation + '\\n')\n",
    "\n",
    "# write_mutations_to_file(mutation_list, 'mutant_file.txt')"
   ]
  },
  {
   "cell_type": "code",
   "execution_count": 6,
   "id": "5d4df505",
   "metadata": {},
   "outputs": [
    {
     "name": "stdout",
     "output_type": "stream",
     "text": [
      "/Users/keith_tetrad/kw_dms/foldX test\n"
     ]
    }
   ],
   "source": [
    "cd kw_dms/foldX\\ test"
   ]
  },
  {
   "cell_type": "code",
   "execution_count": 33,
   "id": "106153b8",
   "metadata": {},
   "outputs": [],
   "source": [
    "def read_fasta(file):\n",
    "    with open(file, 'r') as f:\n",
    "        record = next(parse(f, \"fasta\"))\n",
    "        return str(record.seq)\n",
    "\n",
    "def align_and_find_mutations(wt_seq, mut_seq):\n",
    "    alignments = pairwise2.align.localxx(wt_seq, mut_seq, one_alignment_only=True)\n",
    "    wt_aligned, mut_aligned = alignments[0][:2]  # Extract the best alignment\n",
    "    mutations = []\n",
    "    residue_number = 1\n",
    "    for wt_res, mut_res in zip(wt_aligned, mut_aligned):\n",
    "        if wt_res != '-' and mut_res != '-':  # Consider only positions with actual residues in both WT and mutant\n",
    "            if wt_res != mut_res:  # Mutation detected\n",
    "                mutation_detail = f\"{wt_res}{residue_number}{mut_res}\"\n",
    "                mutations.append((wt_res, residue_number, mut_res))\n",
    "            residue_number += 1\n",
    "    return mutations\n"
   ]
  },
  {
   "cell_type": "code",
   "execution_count": 39,
   "id": "c81d5d51",
   "metadata": {},
   "outputs": [],
   "source": [
    "def align_and_find_mutations(wt_seq, mut_seq):\n",
    "    # Using more sensitive alignment parameters: More penalty for opening gaps, less for extending them\n",
    "    alignments = pairwise2.align.globalms(wt_seq, mut_seq, 2, -1, -2, -0.5, one_alignment_only=True)\n",
    "    if not alignments:\n",
    "        print(\"No alignment could be produced.\")\n",
    "        return []\n",
    "\n",
    "    wt_aligned, mut_aligned = alignments[0][:2]\n",
    "    print(f\"Aligned WT: {wt_aligned[:50]}...\")  # Display first 50 characters of alignment\n",
    "    print(f\"Aligned Mutant: {mut_aligned[:50]}...\")\n",
    "\n",
    "    mutations = []\n",
    "    residue_number = 1\n",
    "    for wt_res, mut_res in zip(wt_aligned, mut_aligned):\n",
    "        if wt_res != '-' and mut_res != '-':  # Consider only positions with actual residues in both WT and mutant\n",
    "            if wt_res != mut_res:\n",
    "                mutation_detail = f\"{wt_res}{residue_number}{mut_res}\"\n",
    "                print(f\"Mutation detected: {mutation_detail}\")\n",
    "                mutations.append((wt_res, residue_number, mut_res))\n",
    "            residue_number += 1\n",
    "    if not mutations:\n",
    "        print(\"No mutations were detected.\")\n",
    "    return mutations\n"
   ]
  },
  {
   "cell_type": "code",
   "execution_count": 41,
   "id": "3b25f916",
   "metadata": {},
   "outputs": [],
   "source": [
    "def align_and_find_mutations(wt_seq, mut_seq):\n",
    "    # Perform a global alignment using more sensitive alignment parameters\n",
    "    alignments = pairwise2.align.globalms(wt_seq, mut_seq, 2, -1, -2, -0.5, one_alignment_only=True)\n",
    "    if not alignments:\n",
    "        print(\"No alignment could be produced.\")\n",
    "        return []\n",
    "\n",
    "    wt_aligned, mut_aligned = alignments[0][:2]  # Extract the best alignment\n",
    "    print(f\"Aligned WT: {wt_aligned[:50]}...\")  # Show first 50 characters of alignment\n",
    "    print(f\"Aligned Mutant: {mut_aligned[:50]}...\")\n",
    "\n",
    "    mutations = []\n",
    "    mutant_residue_number = 1  # Counting based on the mutant sequence\n",
    "    for wt_res, mut_res in zip(wt_aligned, mut_aligned):\n",
    "        if mut_res != '-':  # Increment only if mutant residue is not a gap\n",
    "            if wt_res != mut_res and wt_res != '-':  # Mutation detected and WT is not a gap\n",
    "                mutation_detail = f\"{wt_res}{mutant_residue_number}{mut_res}\"\n",
    "                print(f\"Mutation detected: {mutation_detail}\")\n",
    "                mutations.append((wt_res, mutant_residue_number, mut_res))\n",
    "            mutant_residue_number += 1  # Increment mutant residue number\n",
    "        # Note: If mut_res is a gap, we do not increment, effectively skipping that position in numbering\n",
    "\n",
    "    if not mutations:\n",
    "        print(\"No mutations were detected.\")\n",
    "    return mutations\n"
   ]
  },
  {
   "cell_type": "code",
   "execution_count": 42,
   "id": "dcac05aa",
   "metadata": {},
   "outputs": [
    {
     "name": "stdout",
     "output_type": "stream",
     "text": [
      "Aligned WT: --------------------------AYTNSFTRGVYYPDKVFRSSVLHS...\n",
      "Aligned Mutant: MFVFLVLLPLVSSQCVNLTTRTQLPPAYTNSFTRGVYYPDKVFRSSVLHS...\n",
      "Mutation detected: A67V\n",
      "Mutation detected: H77F\n",
      "Mutation detected: T93I\n",
      "Mutation detected: G152F\n",
      "Mutation detected: V153R\n",
      "Mutation detected: L206I\n",
      "Mutation detected: G336D\n",
      "Mutation detected: S368L\n",
      "Mutation detected: S370P\n",
      "Mutation detected: S372F\n",
      "Mutation detected: K414N\n",
      "Mutation detected: N437K\n",
      "Mutation detected: S474N\n",
      "Mutation detected: T475K\n",
      "Mutation detected: E481A\n",
      "Mutation detected: Q490R\n",
      "Mutation detected: G493S\n",
      "Mutation detected: Q495R\n",
      "Mutation detected: N498Y\n",
      "Mutation detected: Y502H\n",
      "Mutation detected: T544K\n",
      "Mutation detected: D611G\n",
      "Mutation detected: H652Y\n",
      "Mutation detected: N761K\n",
      "Mutation detected: D793Y\n",
      "Mutation detected: N853K\n",
      "Mutation detected: Q951H\n",
      "Mutation detected: N966K\n",
      "Mutation detected: L978F\n",
      "Mutation detected: P983K\n",
      "Mutation detected: P984V\n",
      "Aligned WT: --------------------------AYTNSFTRGVYYPDKVFRSSVLHS...\n",
      "Aligned Mutant: MFVFLVLLPLVSSQCVNLTTRTQLPPAYTNSFTRGVYYPDKVFRSSVLHS...\n",
      "Mutation detected: A67V\n",
      "Mutation detected: H77F\n",
      "Mutation detected: T93I\n",
      "Mutation detected: G152F\n",
      "Mutation detected: V153R\n",
      "Mutation detected: L206I\n",
      "Mutation detected: G336D\n",
      "Mutation detected: S368L\n",
      "Mutation detected: S370P\n",
      "Mutation detected: S372F\n",
      "Mutation detected: K414N\n",
      "Mutation detected: N437K\n",
      "Mutation detected: G443S\n",
      "Mutation detected: S474N\n",
      "Mutation detected: T475K\n",
      "Mutation detected: E481A\n",
      "Mutation detected: Q490R\n",
      "Mutation detected: G493S\n",
      "Mutation detected: Q495R\n",
      "Mutation detected: N498Y\n",
      "Mutation detected: Y502H\n",
      "Mutation detected: T544K\n",
      "Mutation detected: D611G\n",
      "Mutation detected: H652Y\n",
      "Mutation detected: N761K\n",
      "Mutation detected: D793Y\n",
      "Mutation detected: N853K\n",
      "Mutation detected: Q951H\n",
      "Mutation detected: N966K\n",
      "Mutation detected: L978F\n",
      "Mutation detected: P983K\n",
      "Mutation detected: P984V\n",
      "Aligned WT: --------------------------AYTNSFTRGVYYPDKVFRSSVLHS...\n",
      "Aligned Mutant: MFVFLVLLPLVSSQCVNLTTRTQLPPAYTNSFTRGVYYPDKVFRSSVLHS...\n",
      "Mutation detected: A67V\n",
      "Mutation detected: H77F\n",
      "Mutation detected: T93I\n",
      "Mutation detected: G152F\n",
      "Mutation detected: V153R\n",
      "Mutation detected: L206I\n",
      "Mutation detected: G336D\n",
      "Mutation detected: S368L\n",
      "Mutation detected: S370P\n",
      "Mutation detected: S372F\n",
      "Mutation detected: K414N\n",
      "Mutation detected: N437K\n",
      "Mutation detected: S474N\n",
      "Mutation detected: T475K\n",
      "Mutation detected: E481A\n",
      "Mutation detected: Q490R\n",
      "Mutation detected: G493S\n",
      "Mutation detected: Q495R\n",
      "Mutation detected: N498Y\n",
      "Mutation detected: Y502H\n",
      "Mutation detected: T544K\n",
      "Mutation detected: D611G\n",
      "Mutation detected: H652Y\n",
      "Mutation detected: N761K\n",
      "Mutation detected: D793Y\n",
      "Mutation detected: N853K\n",
      "Mutation detected: Q951H\n",
      "Mutation detected: N966K\n",
      "Mutation detected: L978F\n",
      "Mutation detected: P983K\n",
      "Mutation detected: P984V\n"
     ]
    }
   ],
   "source": [
    "def main():\n",
    "    chains = ['A', 'B', 'C']  # Define chains\n",
    "    wt_files = ['chainA.fasta', 'chainB.fasta', 'chainC.fasta']  # Define fasta files\n",
    "    mutant_file = '3282_og.fa'\n",
    "    \n",
    "    mutant_seq = read_fasta(mutant_file)\n",
    "    mutation_dict = {}  # Dictionary to group mutations\n",
    "\n",
    "    for chain, wt_file in zip(chains, wt_files):\n",
    "        wt_seq = read_fasta(wt_file)\n",
    "        mutations = align_and_find_mutations(wt_seq, mutant_seq)\n",
    "        for wt_res, res_num, mut_res in mutations:\n",
    "            mutation_key = f\"{res_num}{mut_res}\"\n",
    "            mutation_value = f\"{wt_res}{chain}{res_num}{mut_res}\"\n",
    "            # Add to dictionary only if it's not already present to avoid duplicates\n",
    "            if mutation_key in mutation_dict:\n",
    "                if mutation_value not in mutation_dict[mutation_key]:\n",
    "                    mutation_dict[mutation_key].append(mutation_value)\n",
    "            else:\n",
    "                mutation_dict[mutation_key] = [mutation_value]\n",
    "\n",
    "    # Open a text file to write the mutation list\n",
    "    with open(\"individual_list.txt\", \"w\") as file:\n",
    "        for mutation_group in sorted(mutation_dict.values(), key=lambda x: x[0]):  # Sort by first entry\n",
    "            file.write(\",\".join(mutation_group) + ';\\n')  # Write each group to the file\n",
    "\n",
    "main()\n"
   ]
  },
  {
   "cell_type": "code",
   "execution_count": null,
   "id": "3d1d57b5",
   "metadata": {},
   "outputs": [],
   "source": [
    "Can we"
   ]
  }
 ],
 "metadata": {
  "kernelspec": {
   "display_name": "Python 3 (ipykernel)",
   "language": "python",
   "name": "python3"
  },
  "language_info": {
   "codemirror_mode": {
    "name": "ipython",
    "version": 3
   },
   "file_extension": ".py",
   "mimetype": "text/x-python",
   "name": "python",
   "nbconvert_exporter": "python",
   "pygments_lexer": "ipython3",
   "version": "3.9.12"
  }
 },
 "nbformat": 4,
 "nbformat_minor": 5
}
