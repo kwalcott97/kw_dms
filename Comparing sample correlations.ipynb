{
 "cells": [
  {
   "cell_type": "code",
   "execution_count": 1,
   "id": "f77894f1",
   "metadata": {},
   "outputs": [
    {
     "name": "stdout",
     "output_type": "stream",
     "text": [
      "/Users/keith_tetrad\n"
     ]
    }
   ],
   "source": [
    "cd"
   ]
  },
  {
   "cell_type": "code",
   "execution_count": 2,
   "id": "1c1096f9",
   "metadata": {},
   "outputs": [],
   "source": [
    "import pandas as pd\n",
    "import csv\n",
    "import seaborn as sns\n",
    "import matplotlib.pyplot as plt\n",
    "import statsmodels.api as sm"
   ]
  },
  {
   "cell_type": "code",
   "execution_count": 3,
   "id": "9d607c09",
   "metadata": {},
   "outputs": [],
   "source": [
    "uninfected = pd.read_csv('kw_dms/results/barcode_counts/LibB-231017-uninfected-1_counts.csv')\n",
    "sample_4u8c_B1T1 = pd.read_csv('kw_dms/results/barcode_counts/LibB-231017-4u8c_bio1-1_counts.csv')\n",
    "sample_4u8c_B2T1 = pd.read_csv('kw_dms/results/barcode_counts/LibB-231017-4u8c_bio2-1_counts.csv')\n",
    "sample_4u8c_B2T2 = pd.read_csv('kw_dms/results/barcode_counts/LibB-231017-4u8c_bio2-2_counts.csv')\n",
    "sample_Both_B1T1 = pd.read_csv('kw_dms/results/barcode_counts/LibB-231017-Both_bio1-1_counts.csv')\n",
    "sample_Both_B2T1 = pd.read_csv('kw_dms/results/barcode_counts/LibB-231017-Both_bio2-1_counts.csv')\n",
    "sample_C7_B1T1 = pd.read_csv('kw_dms/results/barcode_counts/LibB-231017-C7_bio1-1_counts.csv')\n",
    "sample_C7_B1T2 = pd.read_csv('kw_dms/results/barcode_counts/LibB-231017-C7_bio1-2_counts.csv')\n",
    "sample_C7_B2T2 = pd.read_csv('kw_dms/results/barcode_counts/LibB-231017-C7_bio2-1_counts.csv')\n",
    "sample_DMSO_B1T1 = pd.read_csv('kw_dms/results/barcode_counts/LibB-231017-DMSO_bio1-1_counts.csv')\n",
    "sample_DMSO_B1T2 = pd.read_csv('kw_dms/results/barcode_counts/LibB-231017-DMSO_bio1-2_counts.csv')\n",
    "sample_DMSO_B2T1 = pd.read_csv('kw_dms/results/barcode_counts/LibB-231017-DMSO_bio2-1_counts.csv')\n",
    "sample_DMSO_B2T2 = pd.read_csv('kw_dms/results/barcode_counts/LibB-231017-DMSO_bio2-2_counts.csv')\n",
    "sample_DMSO_B1_1X = pd.read_csv('kw_dms/results/barcode_counts/LibB-231017-Spike_DMSO_bio1_1X-1_counts.csv')\n",
    "sample_DMSO_B1_5X = pd.read_csv('kw_dms/results/barcode_counts/LibB-231017-Spike_DMSO_bio1_5X-1_counts.csv')\n",
    "sample_DMSO_B1_10X = pd.read_csv('kw_dms/results/barcode_counts/LibB-231017-Spike_DMSO_bio1_10X-1_counts.csv')\n",
    "sample_DMSO_B2_1X = pd.read_csv('kw_dms/results/barcode_counts/LibB-231017-Spike_DMSO_bio2_1X-1_counts.csv')\n",
    "sample_DMSO_B2_5X = pd.read_csv('kw_dms/results/barcode_counts/LibB-231017-Spike_DMSO_bio2_5X-1_counts.csv')\n",
    "sample_DMSO_B2_10X = pd.read_csv('kw_dms/results/barcode_counts/LibB-231017-Spike_DMSO_bio2_10X-1_counts.csv')"
   ]
  },
  {
   "cell_type": "code",
   "execution_count": 4,
   "id": "7f18b6bf",
   "metadata": {},
   "outputs": [],
   "source": [
    "sample_names = [\n",
    "    \"uninfected\", \n",
    "    \"sample_4u8c_B1T1\", \"sample_4u8c_B2T1\", \"sample_4u8c_B2T2\",\n",
    "    \"sample_Both_B1T1\", \"sample_Both_B2T1\",\n",
    "    \"sample_C7_B1T1\", \"sample_C7_B1T2\", \"sample_C7_B2T2\",\n",
    "    \"sample_DMSO_B1T1\", \"sample_DMSO_B1T2\", \"sample_DMSO_B2T1\", \"sample_DMSO_B2T2\",\n",
    "    \"sample_DMSO_B1_1X\", \"sample_DMSO_B1_5X\", \"sample_DMSO_B1_10X\",\n",
    "    \"sample_DMSO_B2_1X\", \"sample_DMSO_B2_5X\", \"sample_DMSO_B2_10X\"\n",
    "]"
   ]
  },
  {
   "cell_type": "code",
   "execution_count": 5,
   "id": "12bc924e",
   "metadata": {},
   "outputs": [],
   "source": [
    "# # Create a figure with subplots\n",
    "# fig, axes = plt.subplots(nrows=5, ncols=4, figsize=(20, 20))  # Adjust as necessary\n",
    "# fig.tight_layout(pad=5.0)\n",
    "\n",
    "# # Iterate over each dataframe name and create a histogram\n",
    "# for name, ax in zip(sample_names, axes.flatten()):\n",
    "#     temp_df = globals()[name]  # Access the dataframe using its name\n",
    "    \n",
    "#     # Calculate the percentage of barcodes with count > 3\n",
    "#     percentage = (temp_df['count'] > 3).mean() * 100\n",
    "    \n",
    "#     sns.histplot(data=temp_df, x='count', ax=ax, bins=30, kde=False)\n",
    "#     ax.set_yscale('log')\n",
    "#     ax.set_title(name)\n",
    "#     ax.set_xlabel('Count')\n",
    "#     ax.set_ylabel('Number of Barcodes')\n",
    "    \n",
    "#     # Add text displaying the percentage\n",
    "#     ax.text(0.95, 0.95, f'{percentage:.2f}% Barcodes > 3 counts', \n",
    "#             transform=ax.transAxes, \n",
    "#             horizontalalignment='right', \n",
    "#             verticalalignment='top')\n",
    "\n",
    "\n",
    "# #plt.savefig('barcode_histograms_big_bins.png')\n",
    "# plt.show()"
   ]
  },
  {
   "cell_type": "code",
   "execution_count": 6,
   "id": "13cd837c",
   "metadata": {
    "scrolled": true
   },
   "outputs": [],
   "source": [
    "# # Sample groups\n",
    "# sample_groups = [\n",
    "#     (\"sample_4u8c_B1T1\", \"sample_4u8c_B2T1\", \"sample_4u8c_B2T2\"),\n",
    "#     (\"sample_Both_B1T1\", \"sample_Both_B2T1\"),\n",
    "#     (\"sample_C7_B1T1\", \"sample_C7_B1T2\", \"sample_C7_B2T2\"),\n",
    "#     (\"sample_DMSO_B1T1\", \"sample_DMSO_B1T2\", \"sample_DMSO_B2T1\", \"sample_DMSO_B2T2\"),\n",
    "#     (\"sample_DMSO_B1_1X\", \"sample_DMSO_B1_5X\", \"sample_DMSO_B1_10X\"),\n",
    "#     (\"sample_DMSO_B2_1X\", \"sample_DMSO_B2_5X\", \"sample_DMSO_B2_10X\")\n",
    "# ]\n",
    "\n",
    "# for group_index, group in enumerate(sample_groups):\n",
    "#     # Number of plots for the current group\n",
    "#     num_plots = len(group) * (len(group) - 1) // 2\n",
    "\n",
    "#     # Set up subplots\n",
    "#     fig, axes = plt.subplots(1, num_plots, figsize=(num_plots * 5, 5))\n",
    "\n",
    "#     # Counter for the subplot index\n",
    "#     plot_index = 0\n",
    "\n",
    "#     # Iterate tchrough each pair of samples\n",
    "#     for i in range(len(group)):\n",
    "#         for j in range(i + 1, len(group)):\n",
    "#             # Merge the two dataframes on 'barcode'\n",
    "#             merged_df = pd.merge(globals()[group[i]], globals()[group[j]], on='barcode', suffixes=('_left', '_right'))\n",
    "\n",
    "#             # Define a function to determine the color based on the criteria\n",
    "#             def determine_color(row):\n",
    "#                 if row['count_left'] < 3 or row['count_right'] < 3:\n",
    "#                     return '#5677A4'  # Color for invalid\n",
    "#                 else:\n",
    "#                     return '#E68B39'  # color for valid\n",
    "\n",
    "#             # Apply the function to each row\n",
    "#             colors = merged_df.apply(determine_color, axis=1)\n",
    "            \n",
    "#             # Plot\n",
    "#             ax = axes[plot_index] if num_plots > 1 else axes\n",
    "#             ax.scatter(merged_df['count_left'], merged_df['count_right'], c=colors)\n",
    "#             ax.set_xlabel(f'{group[i]} Count')\n",
    "#             ax.set_ylabel(f'{group[j]} Count')\n",
    "#             ax.set_title(f'{group[i]} vs {group[j]}')\n",
    "            \n",
    "#             # Calculate the percentage of valid counts (>3) for each pair\n",
    "#             valid_percentage = ((merged_df['count_left'] > 3) & (merged_df['count_right'] > 3)).mean() * 100\n",
    "            \n",
    "#             # Perform linear regression\n",
    "#             X = sm.add_constant(merged_df['count_left'])\n",
    "#             Y = merged_df['count_right']\n",
    "#             model = sm.OLS(Y, X).fit()\n",
    "#             r_squared = model.rsquared\n",
    "#             predicted_values = model.predict(X)\n",
    "            \n",
    "#             # Display the valid percentage\n",
    "#             ax.text(0.05, 0.90, f'{valid_percentage:.2f}% Valid Barcodes', transform=ax.transAxes, fontsize=12, verticalalignment='top')\n",
    "            \n",
    "#             # Display R² value\n",
    "#             ax.text(0.05, 0.95, f'R² = {r_squared:.2f}', transform=ax.transAxes, fontsize=12, verticalalignment='top')\n",
    "#             ax.plot(merged_df['count_left'], predicted_values, color='black', linewidth=2)\n",
    "\n",
    "#             plot_index += 1\n",
    "\n",
    "#     plt.tight_layout()\n",
    "#     plt.show()\n",
    "    \n",
    "#     # Constructing a unique filename for each figure\n",
    "#     #filename = f'figure_{group_index+1}_{\"_\".join([name.split(\"_\")[1] for name in group])}.png'\n",
    "#     #fig.savefig(filename, format='png')\n"
   ]
  },
  {
   "cell_type": "code",
   "execution_count": 7,
   "id": "8b368f45",
   "metadata": {},
   "outputs": [],
   "source": [
    "df = pd.read_csv('/Users/keith_tetrad/kw_dms/results/variants/codon_variants.csv', usecols=['target','library','barcode','codon_substitutions','aa_substitutions','n_codon_substitutions','n_aa_substitutions'])"
   ]
  },
  {
   "cell_type": "code",
   "execution_count": 8,
   "id": "5475d057",
   "metadata": {},
   "outputs": [],
   "source": [
    "# Handle missing values in 'aa_substitutions'\n",
    "df['aa_substitutions'].fillna('NoSubstitution', inplace=True)\n",
    "df['aa_substitutions'].replace('', 'NoSubstitution', inplace=True)\n",
    "# Handle missing values in 'codon_substitutions'\n",
    "df['codon_substitutions'].fillna('NoSubstitution', inplace=True)\n",
    "df['codon_substitutions'].replace('', 'NoSubstitution', inplace=True)"
   ]
  },
  {
   "cell_type": "code",
   "execution_count": 9,
   "id": "9f68c5a2",
   "metadata": {},
   "outputs": [],
   "source": [
    "# Filter the dataframe by library\n",
    "libA_df = df[df['library'] == 'LibA']\n",
    "libB_df = df[df['library'] == 'LibB']\n",
    "libC_df = df[df['library'] == 'LibC']"
   ]
  },
  {
   "cell_type": "code",
   "execution_count": 10,
   "id": "d38448a0",
   "metadata": {},
   "outputs": [
    {
     "name": "stderr",
     "output_type": "stream",
     "text": [
      "/var/folders/sv/w2n5lcb57zz70hk1l6tkkkf00000gp/T/ipykernel_59775/160265823.py:2: SettingWithCopyWarning: \n",
      "A value is trying to be set on a copy of a slice from a DataFrame.\n",
      "Try using .loc[row_indexer,col_indexer] = value instead\n",
      "\n",
      "See the caveats in the documentation: https://pandas.pydata.org/pandas-docs/stable/user_guide/indexing.html#returning-a-view-versus-a-copy\n",
      "  libB_df['aa_substitutions'] = libB_df['aa_substitutions'].str.split(' ')\n",
      "/var/folders/sv/w2n5lcb57zz70hk1l6tkkkf00000gp/T/ipykernel_59775/160265823.py:8: SettingWithCopyWarning: \n",
      "A value is trying to be set on a copy of a slice from a DataFrame.\n",
      "Try using .loc[row_indexer,col_indexer] = value instead\n",
      "\n",
      "See the caveats in the documentation: https://pandas.pydata.org/pandas-docs/stable/user_guide/indexing.html#returning-a-view-versus-a-copy\n",
      "  libB_df['aa_substitutions'] = libB_df['aa_substitutions'].str.split(' ')\n"
     ]
    }
   ],
   "source": [
    "# Split the 'aa_substitutions' into a list if there are multiple substitutions\n",
    "libB_df['aa_substitutions'] = libB_df['aa_substitutions'].str.split(' ')\n",
    "\n",
    "# Explode the dataframe so that each aa substitution gets its own row\n",
    "exploded_libB_df = libB_df.explode('aa_substitutions')\n",
    "\n",
    "# Split the 'aa_substitutions' into a list if there are multiple substitutions\n",
    "libB_df['aa_substitutions'] = libB_df['aa_substitutions'].str.split(' ')\n",
    "\n",
    "#Group by AA substitutions and aggregate barcodes\n",
    "aa_substitution_groups = exploded_libB_df.groupby('aa_substitutions')['barcode'].apply(list).reset_index()\n",
    "\n",
    "# Rename columns for clarity\n",
    "aa_substitution_groups.columns = ['AA Substitution', 'Barcodes']"
   ]
  },
  {
   "cell_type": "code",
   "execution_count": 11,
   "id": "c8e99116",
   "metadata": {},
   "outputs": [
    {
     "name": "stdout",
     "output_type": "stream",
     "text": [
      "     AA Substitution  Total Count\n",
      "0             *1250-            1\n",
      "1             *1250L         1407\n",
      "2             *1250R        24241\n",
      "3             *1250W           81\n",
      "4             A1012D            0\n",
      "...              ...          ...\n",
      "9574           Y914F          856\n",
      "9575           Y914H            9\n",
      "9576           Y914N            0\n",
      "9577           Y914P            0\n",
      "9578   neut_standard            0\n",
      "\n",
      "[9579 rows x 2 columns]\n"
     ]
    }
   ],
   "source": [
    "# Explode the aa_substitution_groups dataframe\n",
    "exploded_aa_substitution_groups = aa_substitution_groups.explode('Barcodes')\n",
    "\n",
    "# Merge with the barcode counts data\n",
    "merged_df_aa = exploded_aa_substitution_groups.merge(sample_DMSO_B1T1, left_on='Barcodes', right_on='barcode', how='left')\n",
    "\n",
    "# Aggregate the counts for each aa substitution\n",
    "aa_substitution_counts = merged_df_aa.groupby('AA Substitution')['count'].sum().reset_index()\n",
    "\n",
    "# Rename columns for clarity\n",
    "aa_substitution_counts.columns = ['AA Substitution', 'Total Count']"
   ]
  },
  {
   "cell_type": "code",
   "execution_count": 12,
   "id": "3a37f2cd",
   "metadata": {
    "scrolled": true
   },
   "outputs": [
    {
     "name": "stdout",
     "output_type": "stream",
     "text": [
      "     AA Substitution  Total Count\n",
      "5656  NoSubstitution      8118117\n",
      "2119           F372S       110900\n",
      "3312           I206S        92244\n",
      "2486          G1216S        84117\n",
      "1391            D78A        83572\n",
      "...              ...          ...\n",
      "4653           L549M            0\n",
      "4655           L549R            0\n",
      "4666           L557C            0\n",
      "8718           V224S            0\n",
      "9578   neut_standard            0\n",
      "\n",
      "[9579 rows x 2 columns]\n"
     ]
    }
   ],
   "source": [
    "# Sort the dataframe by 'Total Count' in descending order\n",
    "sorted_aa_substitution_counts = aa_substitution_counts.sort_values(by='Total Count', ascending=False)\n",
    "\n",
    "# Display the sorted dataframe\n",
    "print(sorted_aa_substitution_counts)"
   ]
  },
  {
   "cell_type": "code",
   "execution_count": null,
   "id": "8b0d82ea",
   "metadata": {},
   "outputs": [],
   "source": [
    "def aggregate_aa_substitution_counts(aa_substitution_df, barcode_counts_df):\n",
    "    \"\"\"\n",
    "    Aggregates counts for each amino acid substitution based on barcode counts.\n",
    "\n",
    "    Parameters:\n",
    "    aa_substitution_df (DataFrame): Dataframe of amino acid substitutions and associated barcodes.\n",
    "    barcode_counts_df (DataFrame): Dataframe of barcodes and their counts.\n",
    "\n",
    "    Returns:\n",
    "    DataFrame: Aggregated counts for each amino acid substitution, sorted by total count.\n",
    "    \"\"\"\n",
    "    # Merge with the barcode counts data\n",
    "    merged_df = aa_substitution_df.merge(barcode_counts_df, left_on='Barcodes', right_on='barcode', how='left')\n",
    "\n",
    "    # Aggregate the counts for each aa substitution\n",
    "    aa_substitution_counts = merged_df.groupby('AA Substitution')['count'].sum().reset_index()\n",
    "\n",
    "    # Rename columns for clarity\n",
    "    aa_substitution_counts.columns = ['AA Substitution', 'Total Count']\n",
    "\n",
    "    # Sort by 'Total Count' in descending order\n",
    "    sorted_aa_substitution_counts = aa_substitution_counts.sort_values(by='Total Count', ascending=False)\n",
    "\n",
    "    return sorted_aa_substitution_counts"
   ]
  },
  {
   "cell_type": "code",
   "execution_count": null,
   "id": "97c68774",
   "metadata": {},
   "outputs": [],
   "source": [
    "# Assuming you have the calculate_aa_substitution_counts function defined as before\n",
    "\n",
    "sample_name_aa = []  # List to store new dataframe names\n",
    "\n",
    "for sample_name in sample_names:\n",
    "    # Generate dataframe for the current sample\n",
    "    sample_df = calculate_aa_substitution_counts(aa_substitution_counts, barcode_counts_df, sample_name)\n",
    "\n",
    "    # Create a new name for the dataframe\n",
    "    new_name = f'sample_{sample_name}_aa'\n",
    "\n",
    "    # Add the dataframe to the dictionary\n",
    "    sample_dataframes[new_name] = sample_df\n",
    "\n",
    "    # Add the new name to the list\n",
    "    sample_name_aa.append(new_name)\n",
    "\n",
    "# Now, sample_dataframes dictionary contains all your dataframes\n",
    "# And sample_name_aa list contains all the new dataframe names\n"
   ]
  }
 ],
 "metadata": {
  "kernelspec": {
   "display_name": "Python 3 (ipykernel)",
   "language": "python",
   "name": "python3"
  },
  "language_info": {
   "codemirror_mode": {
    "name": "ipython",
    "version": 3
   },
   "file_extension": ".py",
   "mimetype": "text/x-python",
   "name": "python",
   "nbconvert_exporter": "python",
   "pygments_lexer": "ipython3",
   "version": "3.9.12"
  }
 },
 "nbformat": 4,
 "nbformat_minor": 5
}
