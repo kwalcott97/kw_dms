{
 "cells": [
  {
   "cell_type": "code",
   "execution_count": 2,
   "id": "f77894f1",
   "metadata": {},
   "outputs": [
    {
     "name": "stdout",
     "output_type": "stream",
     "text": [
      "/Users/keith_tetrad\n"
     ]
    }
   ],
   "source": [
    "cd"
   ]
  },
  {
   "cell_type": "code",
   "execution_count": 8,
   "id": "1c1096f9",
   "metadata": {},
   "outputs": [],
   "source": [
    "import pandas as pd\n",
    "import csv\n",
    "import seaborn as sns\n",
    "import matplotlib.pyplot as plt"
   ]
  },
  {
   "cell_type": "code",
   "execution_count": 5,
   "id": "9d607c09",
   "metadata": {},
   "outputs": [],
   "source": [
    "uninfected = pd.read_csv('kw_dms/results/barcode_counts/LibB-231017-uninfected-1_counts.csv')\n",
    "sample_4u8c_B1T1 = pd.read_csv('kw_dms/results/barcode_counts/LibB-231017-4u8c_bio1-1_counts.csv')\n",
    "sample_4u8c_B2T1 = pd.read_csv('kw_dms/results/barcode_counts/LibB-231017-4u8c_bio2-1_counts.csv')\n",
    "sample_4u8c_B2T2 = pd.read_csv('kw_dms/results/barcode_counts/LibB-231017-4u8c_bio2-2_counts.csv')\n",
    "sample_Both_B1T1 = pd.read_csv('kw_dms/results/barcode_counts/LibB-231017-Both_bio1-1_counts.csv')\n",
    "sample_Both_B2T1 = pd.read_csv('kw_dms/results/barcode_counts/LibB-231017-Both_bio2-1_counts.csv')\n",
    "sample_C7_B1T1 = pd.read_csv('kw_dms/results/barcode_counts/LibB-231017-C7_bio1-1_counts.csv')\n",
    "sample_C7_B1T2 = pd.read_csv('kw_dms/results/barcode_counts/LibB-231017-C7_bio1-2_counts.csv')\n",
    "sample_C7_B2T2 = pd.read_csv('kw_dms/results/barcode_counts/LibB-231017-C7_bio2-1_counts.csv')\n",
    "sample_DMSO_B1T1 = pd.read_csv('kw_dms/results/barcode_counts/LibB-231017-DMSO_bio1-1_counts.csv')\n",
    "sample_DMSO_B1T2 = pd.read_csv('kw_dms/results/barcode_counts/LibB-231017-DMSO_bio1-2_counts.csv')\n",
    "sample_DMSO_B2T1 = pd.read_csv('kw_dms/results/barcode_counts/LibB-231017-DMSO_bio2-1_counts.csv')\n",
    "sample_DMSO_B2T2 = pd.read_csv('kw_dms/results/barcode_counts/LibB-231017-DMSO_bio2-2_counts.csv')\n",
    "sample_DMSO_B1_1X = pd.read_csv('kw_dms/results/barcode_counts/LibB-231017-Spike_DMSO_bio1_1X-1_counts.csv')\n",
    "sample_DMSO_B1_5X = pd.read_csv('kw_dms/results/barcode_counts/LibB-231017-Spike_DMSO_bio1_5X-1_counts.csv')\n",
    "sample_DMSO_B1_10X = pd.read_csv('kw_dms/results/barcode_counts/LibB-231017-Spike_DMSO_bio1_10X-1_counts.csv')\n",
    "sample_DMSO_B2_1X = pd.read_csv('kw_dms/results/barcode_counts/LibB-231017-Spike_DMSO_bio2_1X-1_counts.csv')\n",
    "sample_DMSO_B2_5X = pd.read_csv('kw_dms/results/barcode_counts/LibB-231017-Spike_DMSO_bio2_5X-1_counts.csv')\n",
    "sample_DMSO_B2_10X = pd.read_csv('kw_dms/results/barcode_counts/LibB-231017-Spike_DMSO_bio2_10X-1_counts.csv')"
   ]
  },
  {
   "cell_type": "code",
   "execution_count": 6,
   "id": "7f18b6bf",
   "metadata": {},
   "outputs": [],
   "source": [
    "sample_names = [\n",
    "    \"uninfected\", \n",
    "    \"sample_4u8c_B1T1\", \"sample_4u8c_B2T1\", \"sample_4u8c_B2T2\",\n",
    "    \"sample_Both_B1T1\", \"sample_Both_B2T1\",\n",
    "    \"sample_C7_B1T1\", \"sample_C7_B1T2\", \"sample_C7_B2T2\",\n",
    "    \"sample_DMSO_B1T1\", \"sample_DMSO_B1T2\", \"sample_DMSO_B2T1\", \"sample_DMSO_B2T2\",\n",
    "    \"sample_DMSO_B1_1X\", \"sample_DMSO_B1_5X\", \"sample_DMSO_B1_10X\",\n",
    "    \"sample_DMSO_B2_1X\", \"sample_DMSO_B2_5X\", \"sample_DMSO_B2_10X\"\n",
    "]"
   ]
  },
  {
   "cell_type": "code",
   "execution_count": null,
   "id": "12bc924e",
   "metadata": {},
   "outputs": [],
   "source": [
    "# Create a figure with subplots\n",
    "fig, axes = plt.subplots(nrows=5, ncols=4, figsize=(20, 20))  # Adjust as necessary\n",
    "fig.tight_layout(pad=5.0)\n",
    "\n",
    "# Iterate over each dataframe name and create a histogram\n",
    "for name, ax in zip(sample_names, axes.flatten()):\n",
    "    df = globals()[name]  # Access the dataframe using its name\n",
    "    sns.histplot(data=df, x='count', ax=ax, kde=False)\n",
    "    ax.set_title(name)\n",
    "    ax.set_xlabel('Count')\n",
    "    ax.set_ylabel('Number of Barcodes')\n",
    "\n",
    "plt.show()"
   ]
  },
  {
   "cell_type": "code",
   "execution_count": null,
   "id": "13cd837c",
   "metadata": {},
   "outputs": [],
   "source": [
    "# Sample groups\n",
    "sample_groups = [\n",
    "    (\"sample_4u8c_B1T1\", \"sample_4u8c_B2T1\", \"sample_4u8c_B2T2\"),\n",
    "    (\"sample_Both_B1T1\", \"sample_Both_B2T1\"),\n",
    "    (\"sample_C7_B1T1\", \"sample_C7_B1T2\", \"sample_C7_B2T2\"),\n",
    "    (\"sample_DMSO_B1T1\", \"sample_DMSO_B1T2\", \"sample_DMSO_B2T1\", \"sample_DMSO_B2T2\"),\n",
    "    (\"sample_DMSO_B1_1X\", \"sample_DMSO_B1_5X\", \"sample_DMSO_B1_10X\"),\n",
    "    (\"sample_DMSO_B2_1X\", \"sample_DMSO_B2_5X\", \"sample_DMSO_B2_10X\")\n",
    "]\n",
    "\n",
    "for group in sample_groups:\n",
    "    # Number of plots for the current group\n",
    "    num_plots = len(group) * (len(group) - 1) // 2\n",
    "\n",
    "    # Set up subplots\n",
    "    fig, axes = plt.subplots(1, num_plots, figsize=(num_plots * 5, 5))\n",
    "\n",
    "    # Counter for the subplot index\n",
    "    plot_index = 0\n",
    "\n",
    "    # Iterate through each pair of samples\n",
    "    for i in range(len(group)):\n",
    "        for j in range(i + 1, len(group)):\n",
    "            # Merge the two dataframes on 'barcode'\n",
    "            merged_df = pd.merge(globals()[group[i]], globals()[group[j]], on='barcode', suffixes=('_left', '_right'))\n",
    "\n",
    "            # Plot\n",
    "            ax = axes[plot_index] if num_plots > 1 else axes\n",
    "            ax.scatter(merged_df['count_left'], merged_df['count_right'])\n",
    "            ax.set_xlabel(f'{group[i]} Count')\n",
    "            ax.set_ylabel(f'{group[j]} Count')\n",
    "            ax.set_title(f'{group[i]} vs {group[j]}')\n",
    "\n",
    "            plot_index += 1\n",
    "\n",
    "    plt.tight_layout()\n",
    "    plt.show()"
   ]
  }
 ],
 "metadata": {
  "kernelspec": {
   "display_name": "PyMOL Env",
   "language": "python",
   "name": "pymol_env"
  },
  "language_info": {
   "codemirror_mode": {
    "name": "ipython",
    "version": 3
   },
   "file_extension": ".py",
   "mimetype": "text/x-python",
   "name": "python",
   "nbconvert_exporter": "python",
   "pygments_lexer": "ipython3",
   "version": "3.7.16"
  }
 },
 "nbformat": 4,
 "nbformat_minor": 5
}
