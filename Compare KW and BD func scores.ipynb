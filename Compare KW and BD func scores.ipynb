{
 "cells": [
  {
   "cell_type": "code",
   "execution_count": 1,
   "id": "8412d0f3",
   "metadata": {},
   "outputs": [
    {
     "name": "stdout",
     "output_type": "stream",
     "text": [
      "/Users/keith_tetrad\n"
     ]
    }
   ],
   "source": [
    "cd"
   ]
  },
  {
   "cell_type": "code",
   "execution_count": 2,
   "id": "4f81a5ff",
   "metadata": {},
   "outputs": [],
   "source": [
    "import os\n",
    "import pandas as pd\n",
    "import seaborn as sns\n",
    "import matplotlib.pyplot as plt\n",
    "from matplotlib_venn import venn3\n",
    "import numpy as np\n",
    "from scipy.stats import linregress\n",
    "import statsmodels.api as sm\n",
    "from itertools import combinations\n",
    "import plotly.graph_objs as go\n",
    "import plotly.express as px\n",
    "from ipywidgets import widgets"
   ]
  },
  {
   "cell_type": "code",
   "execution_count": 3,
   "id": "bc40c4c8",
   "metadata": {},
   "outputs": [],
   "source": [
    "# #pymol stuff\n",
    "# import pymol\n",
    "# from pymol import cmd, stored\n",
    "\n",
    "# # Initialize PyMOL in headless mode\n",
    "# pymol.pymol_argv = ['pymol', '-qc']\n",
    "# pymol.finish_launching()\n",
    "\n",
    "# # Load the structure 6xm4\n",
    "# cmd.fetch(\"6xm4\", \"molecule\")"
   ]
  },
  {
   "cell_type": "code",
   "execution_count": 4,
   "id": "e5a43d41",
   "metadata": {},
   "outputs": [
    {
     "data": {
      "text/html": [
       "<style>.container { width:95% !important; }</style>"
      ],
      "text/plain": [
       "<IPython.core.display.HTML object>"
      ]
     },
     "metadata": {},
     "output_type": "display_data"
    }
   ],
   "source": [
    "from IPython.display import display, HTML\n",
    "display(HTML(\"<style>.container { width:95% !important; }</style>\"))\n",
    "\n",
    "pd.set_option('display.max_colwidth', 200)\n",
    "pd.set_option('display.max_columns', None)\n",
    "pd.set_option('display.width', 1000)\n",
    "pd.set_option('expand_frame_repr', False)\n"
   ]
  },
  {
   "cell_type": "code",
   "execution_count": 5,
   "id": "509369b9",
   "metadata": {},
   "outputs": [],
   "source": [
    "codon_variant = pd.read_csv('kw_dms/results/variants/codon_variants.csv', usecols=['barcode','library','barcode','codon_substitutions','aa_substitutions','n_codon_substitutions','n_aa_substitutions'])\n",
    "\n",
    "def calculate_functional_score(pre_selection, pre_selection_name, post_selection, post_selection_name, library, count_threshold):\n",
    "    # Rename count columns\n",
    "    pre_selection.rename(columns={'count': 'count_pre'}, inplace=True)\n",
    "    post_selection.rename(columns={'count': 'count_post'}, inplace=True)\n",
    "    \n",
    "    pre_selection = pre_selection[(pre_selection['count_pre'] >= count_threshold)] \n",
    "    \n",
    "    # Merge codon_variants with \n",
    "    pre_selection = pd.merge(pre_selection, codon_variant, on='barcode')\n",
    "    post_selection = pd.merge(post_selection, codon_variant, on='barcode')\n",
    "    \n",
    "    #filter out barcodes not in intended library\n",
    "    pre_selection = pre_selection[pre_selection['library'] == library]\n",
    "    post_selection = post_selection[post_selection['library'] == library]\n",
    "    \n",
    "    # Merge pre and post counts\n",
    "    merged_df = pd.merge(pre_selection, post_selection[['barcode', 'count_post']], on='barcode', how='left')\n",
    "    merged_df.fillna(0, inplace=True)\n",
    "   \n",
    "    # Calculate total wt counts then filter them out of the df\n",
    "    wt_barcodes = merged_df[merged_df['n_codon_substitutions'] == 0]\n",
    "    pre_wt_counts = wt_barcodes['count_pre'].sum()\n",
    "    post_wt_counts = wt_barcodes['count_post'].sum()\n",
    "    merged_df = merged_df[merged_df['n_codon_substitutions'] > 0]\n",
    "    \n",
    "    # Change zeroes in 'count_post' to 0.5\n",
    "    # Convert 'count_post' column to float\n",
    "    merged_df['count_post'] = merged_df['count_post'].astype(float)\n",
    "\n",
    "    # Now change zeroes in 'count_post' to 0.5\n",
    "    merged_df.loc[merged_df['count_post'] == 0, 'count_post'] = 0.5\n",
    "    \n",
    "    # Calculate the functional score for each row\n",
    "    merged_df['func_score'] = np.log2((merged_df['count_post'] / post_wt_counts) / (merged_df['count_pre'] / pre_wt_counts))\n",
    " \n",
    "    # Extract the specific parts of the names for renaming\n",
    "    pre_suffix = pre_selection_name.split('_')[1] if '_' in pre_selection_name else 'pre'\n",
    "    post_suffix = post_selection_name.split('_')[1] if '_' in post_selection_name else 'post'\n",
    "\n",
    "    # Rename count columns\n",
    "    merged_df.rename(columns={'count_pre': f'{pre_selection_name}_count'}, inplace=True)\n",
    "    merged_df.rename(columns={'count_post': f'{post_selection_name}_count'}, inplace=True)\n",
    "\n",
    "    return merged_df"
   ]
  },
  {
   "cell_type": "code",
   "execution_count": 6,
   "id": "3b5ecdc6",
   "metadata": {},
   "outputs": [],
   "source": [
    "def merge_dataframes(dataframes_dict):\n",
    "    merged_group_dict = {}\n",
    "\n",
    "    # Create combinations of the keys (and their corresponding dataframes)\n",
    "    for (key1, df1), (key2, df2) in combinations(dataframes_dict.items(), 2):\n",
    "        # Rename 'func_score' and 'func_score_var' columns in df1 and df2\n",
    "        df1_renamed = df1.rename(columns={\n",
    "            'func_score': f'{key1}_func_score',\n",
    "            'func_score_var': f'{key1}_func_score_var'\n",
    "        })\n",
    "        df2_renamed = df2.rename(columns={\n",
    "            'func_score': f'{key2}_func_score',\n",
    "            'func_score_var': f'{key2}_func_score_var'\n",
    "        })\n",
    "\n",
    "        # Merge DataFrames pairwise\n",
    "        merged_df = pd.merge(df1_renamed, df2_renamed, on=['barcode', 'library', 'aa_substitutions', 'n_aa_substitutions','codon_substitutions', 'n_codon_substitutions'], how='outer')\n",
    "\n",
    "        # Drop rows with NaNs in either of the func_score columns\n",
    "        func_score_cols = [col for col in merged_df.columns if '_func_score' in col]\n",
    "        merged_df.dropna(subset=func_score_cols, inplace=True)\n",
    "\n",
    "        # Process duplicate '_count' columns\n",
    "        count_columns_x = [col for col in merged_df.columns if col.endswith('_x') and '_count' in col]\n",
    "        count_columns_y = [col for col in merged_df.columns if col.endswith('_y') and '_count' in col]\n",
    "\n",
    "        for col_x, col_y in zip(count_columns_x, count_columns_y):\n",
    "            base_col = col_x.replace('_x', '')\n",
    "            merged_df[base_col] = merged_df[col_x].fillna(merged_df[col_y])\n",
    "            merged_df.drop(columns=[col_x, col_y], inplace=True)\n",
    "\n",
    "        # Calculate the average functional score\n",
    "        func_score_cols = [col for col in merged_df.columns if '_func_score' in col]\n",
    "        merged_df['func_score_avg'] = merged_df[func_score_cols].mean(axis=1)\n",
    "\n",
    "        # Sort by the average functional score\n",
    "        merged_df.sort_values(by='func_score_avg', ascending=True, inplace=True)\n",
    "        \n",
    "        # Reset index to get a new 'rank' column\n",
    "        merged_df.reset_index(drop=True, inplace=True)\n",
    "        merged_df['rank'] = merged_df.index\n",
    "        \n",
    "        # Store the merged DataFrame\n",
    "        merged_group_dict[f'{key1}-and-{key2}'] = merged_df\n",
    "\n",
    "    return merged_group_dict\n"
   ]
  },
  {
   "cell_type": "code",
   "execution_count": 7,
   "id": "09756661",
   "metadata": {},
   "outputs": [],
   "source": [
    "sample_DMSO_B1T1 = pd.read_csv('kw_dms/old_results/barcode_counts/LibB-231017-DMSO_bio1-1_counts.csv')\n",
    "sample_DMSO_B1T2 = pd.read_csv('kw_dms/old_results/barcode_counts/LibB-231017-DMSO_bio1-2_counts.csv')\n",
    "sample_DMSO_B2T1 = pd.read_csv('kw_dms/old_results/barcode_counts/LibB-231017-DMSO_bio2-1_counts.csv')\n",
    "sample_DMSO_B2T2 = pd.read_csv('kw_dms/old_results/barcode_counts/LibB-231017-DMSO_bio2-2_counts.csv')\n",
    "sample_control = pd.read_csv('kw_dms/old_results/barcode_counts/LibB-231017-DMSO_bio2-1_counts.csv')\n",
    "sample_4u8c_B1T1 = pd.read_csv('kw_dms/old_results/barcode_counts/LibB-231017-4u8c_bio1-1_counts.csv')\n",
    "sample_4u8c_B2T1 = pd.read_csv('kw_dms/old_results/barcode_counts/LibB-231017-4u8c_bio2-1_counts.csv')\n",
    "sample_4u8c_B2T2 = pd.read_csv('kw_dms/old_results/barcode_counts/LibB-231017-4u8c_bio2-2_counts.csv')\n",
    "sample_C7_B1T2 = pd.read_csv('kw_dms/old_results/barcode_counts/LibB-231017-C7_bio1-2_counts.csv')\n",
    "sample_C7_B2T1 = pd.read_csv('kw_dms/old_results/barcode_counts/LibB-231017-C7_bio2-1_counts.csv')\n",
    "sample_Both_B1T1 = pd.read_csv('kw_dms/old_results/barcode_counts/LibB-231017-Both_bio1-1_counts.csv')\n",
    "sample_Both_B2T1 = pd.read_csv('kw_dms/old_results/barcode_counts/LibB-231017-Both_bio2-1_counts.csv')\n",
    "\n",
    "func_scores_KW = {}\n",
    "\n",
    "func_scores_KW['4u8c_B1T1-vs-DMSO_B1T1']=calculate_functional_score(sample_DMSO_B1T1,'DMSO_B1T1',sample_4u8c_B1T1,'4u8c_B1T1','LibB',10)\n",
    "func_scores_KW['4u8c_B2T1-vs-DMSO_B1T1']=calculate_functional_score(sample_DMSO_B1T1,'DMSO_B1T1',sample_4u8c_B2T1,'4u8c_B2T1','LibB',10)\n",
    "func_scores_KW['4u8c_B2T2-vs-DMSO_B1T1']=calculate_functional_score(sample_DMSO_B1T1,'DMSO_B1T1',sample_4u8c_B2T2,'4u8c_B2T2','LibB',10)\n",
    "func_scores_KW['4u8c_B2T2-vs-DMSO_B2T2']=calculate_functional_score(sample_DMSO_B2T2,'DMSO_B2T2',sample_4u8c_B2T2,'4u8c_B2T2','LibB',10)\n",
    "func_scores_KW['C7_B1T2-vs-DMSO_B1T2']=calculate_functional_score(sample_DMSO_B1T2,'DMSO_B1T2',sample_C7_B1T2,'C7_B1T2','LibB',10)\n",
    "func_scores_KW['C7_B2T1-vs-DMSO_B2T1']=calculate_functional_score(sample_DMSO_B2T1,'DMSO_B2T1',sample_C7_B2T1,'C7_B2T1','LibB',10)\n",
    "func_scores_KW['Both_B1T1-vs-DMSO_B1T1']=calculate_functional_score(sample_DMSO_B1T1,'DMSO_B1T1',sample_Both_B1T1,'Both_B1T1','LibB',10)\n",
    "func_scores_KW['Both_B2T1-vs-DMSO_B2T1']=calculate_functional_score(sample_DMSO_B2T1,'DMSO_B2T1',sample_Both_B2T1,'Both_B2T1','LibB',10)\n",
    "\n",
    "func_score_comparisons_KW = merge_dataframes(func_scores_KW)"
   ]
  },
  {
   "cell_type": "code",
   "execution_count": 8,
   "id": "54d149c1",
   "metadata": {},
   "outputs": [],
   "source": [
    "sample_1X_B1 = pd.read_csv('kw_dms/old_results/barcode_counts/LibB-231017-Spike_DMSO_bio1_1X-1_counts.csv')\n",
    "sample_5X_B1 = pd.read_csv('kw_dms/old_results/barcode_counts/LibB-231017-Spike_DMSO_bio1_5X-1_counts.csv')\n",
    "sample_10X_B1 = pd.read_csv('kw_dms/old_results/barcode_counts/LibB-231017-Spike_DMSO_bio1_10X-1_counts.csv')\n",
    "sample_1X_B2 = pd.read_csv('kw_dms/old_results/barcode_counts/LibB-231017-Spike_DMSO_bio2_1X-1_counts.csv')\n",
    "sample_5X_B2 = pd.read_csv('kw_dms/old_results/barcode_counts/LibB-231017-Spike_DMSO_bio2_5X-1_counts.csv')\n",
    "sample_10X_B2 = pd.read_csv('kw_dms/old_results/barcode_counts/LibB-231017-Spike_DMSO_bio2_10X-1_counts.csv')\n",
    "\n",
    "func_scores_coverage = {}\n",
    "\n",
    "func_scores_coverage['DMSO_B2T1-vs-DMSO_B1T1']=calculate_functional_score(sample_DMSO_B1T1,'DMSO_B1T1',sample_control,'dmso_B2T1_control','LibB',25)\n",
    "func_scores_coverage['1X_B1-vs-DMSO_B1T1']=calculate_functional_score(sample_DMSO_B1T1,'DMSO_B1T1',sample_1X_B1,'1X_B1','LibB',25)\n",
    "func_scores_coverage['5X_B1-vs-DMSO_B1T1']=calculate_functional_score(sample_DMSO_B1T1,'DMSO_B1T1',sample_5X_B1,'5X_B1','LibB',25)\n",
    "func_scores_coverage['10X_B1-vs-DMSO_B1T1']=calculate_functional_score(sample_DMSO_B1T1,'DMSO_B1T1',sample_10X_B1,'10X_B1','LibB',25)\n",
    "func_scores_coverage['1X_B2-vs-DMSO_B1T1']=calculate_functional_score(sample_DMSO_B1T1,'DMSO_B1T1',sample_1X_B2,'1X_B2','LibB',25)\n",
    "func_scores_coverage['5X_B2-vs-DMSO_B1T1']=calculate_functional_score(sample_DMSO_B1T1,'DMSO_B1T1',sample_5X_B2,'5X_B2','LibB',25)\n",
    "func_scores_coverage['10X_B2-vs-DMSO_B1T1']=calculate_functional_score(sample_DMSO_B1T1,'DMSO_B1T1',sample_10X_B2,'10X_B2','LibB',25)\n",
    "\n",
    "func_score_comparisons_coverage = merge_dataframes(func_scores_coverage)"
   ]
  },
  {
   "cell_type": "code",
   "execution_count": 9,
   "id": "8e6baf4a",
   "metadata": {},
   "outputs": [],
   "source": [
    "sample_noAB_B1 = pd.read_csv('SARS-CoV-2_Omicron_BA.1_spike_DMS_mAbs_kw/results/variant_counts/LibA_2022-04-13_thaw-1_no-antibody_control_1.csv', usecols=['barcode','count'])\n",
    "sample_noAB_B2 = pd.read_csv('SARS-CoV-2_Omicron_BA.1_spike_DMS_mAbs_kw/results/variant_counts/LibA_2022-04-13_thaw-1_no-antibody_control_2.csv', usecols=['barcode','count'])\n",
    "sample_LyCoV10_B1 = pd.read_csv('SARS-CoV-2_Omicron_BA.1_spike_DMS_mAbs_kw/results/variant_counts/LibA_2022-04-13_thaw-1_antibody_LyCoV-1404_10.464_1.csv', usecols=['barcode','count'])\n",
    "sample_LyCoV10_B2 = pd.read_csv('SARS-CoV-2_Omicron_BA.1_spike_DMS_mAbs_kw/results/variant_counts/LibA_2022-04-13_thaw-1_antibody_LyCoV-1404_10.464_2.csv', usecols=['barcode','count']) \n",
    "sample_LyCoV06_B1 = pd.read_csv('SARS-CoV-2_Omicron_BA.1_spike_DMS_mAbs_kw/results/variant_counts/LibA_2022-04-13_thaw-1_antibody_LyCoV-1404_0.654_1.csv', usecols=['barcode','count'])\n",
    "sample_LyCoV06_B2 = pd.read_csv('SARS-CoV-2_Omicron_BA.1_spike_DMS_mAbs_kw/results/variant_counts/LibA_2022-04-13_thaw-1_antibody_LyCoV-1404_0.654_2.csv', usecols=['barcode','count']) \n",
    "sample_LyCoV2_B1 = pd.read_csv('SARS-CoV-2_Omicron_BA.1_spike_DMS_mAbs_kw/results/variant_counts/LibA_2022-04-13_thaw-1_antibody_LyCoV-1404_2.616_1.csv', usecols=['barcode','count'])\n",
    "sample_LyCoV2_B2 = pd.read_csv('SARS-CoV-2_Omicron_BA.1_spike_DMS_mAbs_kw/results/variant_counts/LibA_2022-04-13_thaw-1_antibody_LyCoV-1404_2.616_2.csv', usecols=['barcode','count']) \n",
    "\n",
    "func_scores_BD = {}\n",
    "\n",
    "func_scores_BD['LyCoV10_B1-vs-noAB_B1'] = calculate_functional_score(sample_noAB_B1,'DMSO_B1',sample_LyCoV10_B1,'LyCoV10_B1','LibA',25)\n",
    "func_scores_BD['LyCoV10_B2-vs-noAB_B2'] = calculate_functional_score(sample_noAB_B2,'DMSO_B2',sample_LyCoV10_B2,'LyCoV10_B2','LibA',25)\n",
    "func_scores_BD['LyCoV06_B1-vs-noAB_B1'] = calculate_functional_score(sample_noAB_B1,'DMSO_B1',sample_LyCoV06_B1,'LyCoV06_B1','LibA',25)\n",
    "func_scores_BD['LyCoV06_B2-vs-noAB_B2'] = calculate_functional_score(sample_noAB_B2,'DMSO_B2',sample_LyCoV06_B2,'LyCoV06_B2','LibA',25)\n",
    "func_scores_BD['LyCoV2_B1-vs-noAB_B1'] = calculate_functional_score(sample_noAB_B1,'DMSO_B1',sample_LyCoV2_B1,'LyCoV2_B1','LibA',25)\n",
    "func_scores_BD['LyCoV2_B2-vs-noAB_B2'] = calculate_functional_score(sample_noAB_B2,'DMSO_B2',sample_LyCoV2_B2,'LyCoV2_B2','LibA',25)\n",
    "\n",
    "func_score_comparisons_BD = merge_dataframes(func_scores_BD)"
   ]
  },
  {
   "cell_type": "code",
   "execution_count": 10,
   "id": "2e0a85c9",
   "metadata": {},
   "outputs": [],
   "source": [
    "def calculate_n_selections(df, threshold):\n",
    "    # Filter for non-DMSO count columns\n",
    "    non_dmso_count_cols = [col for col in df.columns if '_count' in col and 'DMSO' not in col]\n",
    "\n",
    "    # Use vectorized comparison and sum across rows\n",
    "    df['n_selections'] = (df[non_dmso_count_cols] >= threshold).sum(axis=1)\n",
    "\n",
    "    return df\n",
    "\n",
    "def calculate_n_selections_plotting(df, threshold, non_dmso_count_cols):\n",
    "    df['n_selections'] = (df[non_dmso_count_cols] >= threshold).sum(axis=1)\n",
    "    return df"
   ]
  },
  {
   "cell_type": "code",
   "execution_count": 11,
   "id": "ae51bd8b",
   "metadata": {},
   "outputs": [],
   "source": [
    "def plot_func_scores(dataframes_dict, key_to_plot):\n",
    "    sns.set(style='whitegrid')\n",
    "    palette = {0: 'grey', 1: 'red', 2: 'blue'}\n",
    "\n",
    "    df = dataframes_dict[key_to_plot]\n",
    "\n",
    "    # Filter out '_func_score_var' columns and select only '_func_score' columns\n",
    "    func_score_columns = [col for col in df.columns if col.endswith('_func_score') and not col.endswith('_func_score_var')]\n",
    "    \n",
    "    # Define a new column for point style based on n_aa_substitutions\n",
    "    df['style'] = df['n_aa_substitutions'].apply(lambda x: 'variant' if x > 0 else 'WT')\n",
    "\n",
    "    # Create a figure with two subplots\n",
    "    fig, axes = plt.subplots(1, 2, figsize=(20, 10))\n",
    "\n",
    "    # Plot for all data\n",
    "    plot_scatter_and_regression(df, func_score_columns, axes[0], palette, 'All Data')\n",
    "\n",
    "    # Exclude n_selection = 1 and plot\n",
    "    df_excluded = df[df['n_selections'] != 1]\n",
    "    plot_scatter_and_regression(df_excluded, func_score_columns, axes[1], palette, 'Excluding n_selection = 1')\n",
    "\n",
    "    plt.suptitle(f'Linear Regression of Func Scores for {key_to_plot}')\n",
    "    \n",
    "    plt.tight_layout()\n",
    "    \n",
    "    #plt.savefig(f'{key_to_plot}_func_scores_plot.png', dpi=300, bbox_inches='tight')\n",
    "    \n",
    "    plt.show()\n",
    "    \n",
    "    plt.close()\n",
    "\n",
    "def plot_scatter_and_regression(df, func_score_columns, ax, palette, title):\n",
    "    df_clean = df.dropna(subset=func_score_columns)\n",
    "    sns.regplot(x=func_score_columns[0], y=func_score_columns[1], data=df_clean, line_kws={'color': 'black'}, scatter=False, ax=ax)\n",
    "    sns.scatterplot(x=func_score_columns[0], y=func_score_columns[1], data=df_clean, hue='n_selections', style='style', palette=palette, markers={'variant': 'X', 'WT': 'o'}, alpha=0.5, ax=ax)\n",
    "\n",
    "    slope, intercept, r_value, p_value, std_err = linregress(df_clean[func_score_columns[0]], df_clean[func_score_columns[1]])\n",
    "    ax.annotate(f'$R^2$: {r_value**2:.2f}', xy=(0.05, 0.95), xycoords='axes fraction', fontsize=12)\n",
    "\n",
    "    ax.set_xlabel(func_score_columns[0])\n",
    "    ax.set_ylabel(func_score_columns[1])\n",
    "    ax.set_title(title)\n",
    "    ax.grid(False)\n",
    "\n",
    "    # Adjust legend\n",
    "    handles, labels = ax.get_legend_handles_labels()\n",
    "    n_selection_handles = handles[:len(palette)]\n",
    "    n_selection_labels = labels[:len(palette)]\n",
    "    style_handles = handles[len(palette):]\n",
    "    style_labels = labels[len(palette):]\n",
    "    ax.legend(n_selection_handles + style_handles, n_selection_labels + style_labels, title='n_selections & Style', bbox_to_anchor=(1.05, 1), loc=2, borderaxespad=0.)"
   ]
  },
  {
   "cell_type": "code",
   "execution_count": 12,
   "id": "285d4bcf",
   "metadata": {},
   "outputs": [],
   "source": [
    "def plot_r2_vs_threshold(dataframes_dict, key, threshold):\n",
    "    thresholds = range(1, threshold)\n",
    "    r2_values = []\n",
    "    \n",
    "    df = dataframes_dict.get(key)\n",
    "\n",
    "    # Identify non-DMSO count columns and func_score columns\n",
    "    non_dmso_count_cols = [col for col in df.columns if '_count' in col and 'DMSO' not in col]\n",
    "    func_score_columns = [col for col in df.columns if col.endswith('_func_score') and not col.endswith('_func_score_var')]\n",
    "\n",
    "    # Ensure there are exactly 2 func_score columns to plot\n",
    "    if len(func_score_columns) == 2:\n",
    "        for threshold in thresholds:\n",
    "            df_threshold = calculate_n_selections_plotting(df.copy(), threshold, non_dmso_count_cols)\n",
    "            df_filtered = df_threshold[df_threshold['n_selections'] != 1]\n",
    "\n",
    "            if not df_filtered.empty:\n",
    "                slope, intercept, r_value, p_value, std_err = linregress(df_filtered[func_score_columns[0]], df_filtered[func_score_columns[1]])\n",
    "                r2_values.append(r_value**2)\n",
    "            else:\n",
    "                r2_values.append(np.nan)\n",
    "\n",
    "        plt.figure(figsize=(10, 6))\n",
    "        sns.lineplot(x=thresholds, y=r2_values)\n",
    "        plt.title('R² vs. Threshold Barcode Counts')\n",
    "        plt.title(f'{key}')\n",
    "        plt.xlabel('Threshold Barcode Counts')\n",
    "        plt.ylabel('R² Value')\n",
    "        \n",
    "        #plt.savefig(f'{key}_threshold_barcode_plot.png', dpi=300, bbox_inches='tight')\n",
    "        \n",
    "        plt.show()\n",
    "    else:\n",
    "        print(\"Expected exactly 2 func_score columns.\")\n",
    "\n",
    "# Example usage\n",
    "# Assuming you have a DataFrame named 'df_example'\n",
    "# plot_r2_vs_threshold(df_example)"
   ]
  },
  {
   "cell_type": "code",
   "execution_count": 13,
   "id": "8edebd95",
   "metadata": {},
   "outputs": [],
   "source": [
    "def plot_count_histograms(dataframes_dict, key):\n",
    "    df = dataframes_dict.get(key)\n",
    "    \n",
    "    sns.set(style='whitegrid')\n",
    "    \n",
    "    if df is not None:\n",
    "        if all(n in df['n_selections'].unique() for n in [0, 1, 2]):\n",
    "            dmso_count_cols = [col for col in df.columns if '_count' in col and 'DMSO' in col]\n",
    "\n",
    "            if 1 <= len(dmso_count_cols) <= 2:\n",
    "                print(f\"DMSO Barcode Count Frequency For {key}\")\n",
    "\n",
    "                max_frequency, bins, colors = 0, 30, ['red', 'blue']\n",
    "                fig, axes = plt.subplots(1, 3, figsize=(18, 6))\n",
    "\n",
    "                # Calculate the total barcodes for each DMSO count column\n",
    "                total_barcodes = {col: df[col].sum() for col in dmso_count_cols}\n",
    "\n",
    "                for i, n_sel in enumerate([0, 1, 2]):\n",
    "                    df_filtered = df[df['n_selections'] == n_sel]\n",
    "                    legend_labels = []\n",
    "\n",
    "                    for col, color in zip(dmso_count_cols, colors):\n",
    "                        counts, bin_edges = np.histogram(df_filtered[col].dropna(), bins=bins)\n",
    "                        max_frequency = max(max_frequency, max(counts))\n",
    "\n",
    "                        sns.histplot(df_filtered[col], ax=axes[i], bins=bins, kde=False, alpha=0.5, color=color)\n",
    "\n",
    "                        # Calculate and format the percentage for the legend\n",
    "                        percentage = (df_filtered[col].sum() / total_barcodes[col]) * 100\n",
    "                        legend_label = f'{col} ({percentage:.2f}%)'\n",
    "                        legend_labels.append(legend_label)\n",
    "\n",
    "                    axes[i].set_yscale('log')\n",
    "                    axes[i].set_title(f'(n_selections = {n_sel})')\n",
    "                    axes[i].set_xlabel('Count')\n",
    "                    axes[i].set_ylabel('Number of Barcodes' if i == 0 else '')\n",
    "                    axes[i].legend(labels=legend_labels)\n",
    "\n",
    "                for ax in axes:\n",
    "                    ax.set_ylim(1, max_frequency * 1.5)\n",
    "\n",
    "                plt.tight_layout()\n",
    "                #plt.savefig(f'{key}_histograms_plot.png', dpi=300, bbox_inches='tight')\n",
    "                plt.show()\n",
    "            else:\n",
    "                print(f\"Expected 1 or 2 DMSO count columns, found {len(dmso_count_cols)}\")\n",
    "        else:\n",
    "            print(f\"Skipping {key} as it does not contain all n_selections values (0, 1, 2)\")\n",
    "    else:\n",
    "        print(f\"No DataFrame found for key '{key}'\")\n"
   ]
  },
  {
   "cell_type": "code",
   "execution_count": 14,
   "id": "599ae833",
   "metadata": {},
   "outputs": [],
   "source": [
    "def plot_barcode_count_comparison(dataframes_dict, key):\n",
    "    df = dataframes_dict[key]\n",
    "    \n",
    "    sns.set(style='whitegrid')\n",
    "\n",
    "    # Splitting columns into DMSO and non-DMSO\n",
    "    dms_columns = [col for col in df.columns if 'DMSO' in col and col.endswith('_count')]\n",
    "    non_dms_columns = [col for col in df.columns if 'DMSO' not in col and col.endswith('_count')]\n",
    "\n",
    "    def plot_comparison(columns, title, axes, plot_index, total_plots):\n",
    "        num_plots = len(columns) * (len(columns) - 1) // 2\n",
    "        for i in range(len(columns)):\n",
    "            for j in range(i + 1, len(columns)):\n",
    "                ax = axes[plot_index] if total_plots > 1 else axes\n",
    "\n",
    "                # Apply log transformation\n",
    "                log_col_i = np.log(df[columns[i]])\n",
    "                log_col_j = np.log(df[columns[j]])\n",
    "\n",
    "                # Seaborn scatter plot with log-transformed data\n",
    "                sns.scatterplot(x=log_col_i, y=log_col_j, ax=ax)\n",
    "\n",
    "                ax.set_xlabel(f'Log of {columns[i]}')\n",
    "                ax.set_ylabel(f'Log of {columns[j]}')\n",
    "                ax.set_title(f'Log of {columns[i]} vs Log of {columns[j]}')\n",
    "\n",
    "                # Linear regression\n",
    "                X = sm.add_constant(log_col_i)\n",
    "                Y = log_col_j\n",
    "                model = sm.OLS(Y, X).fit()\n",
    "                predicted_values = model.predict(X)\n",
    "\n",
    "                # Plotting regression line\n",
    "                ax.plot(log_col_i, predicted_values, color='black', linewidth=2)\n",
    "\n",
    "                # Display R-squared on plot\n",
    "                r_squared = model.rsquared\n",
    "                ax.text(0.05, 0.95, f'R² = {r_squared:.2f}', transform=ax.transAxes, fontsize=12, verticalalignment='top')\n",
    "                \n",
    "                plot_index += 1\n",
    "\n",
    "        return plot_index\n",
    "\n",
    "    total_plots = len(dms_columns) * (len(dms_columns) - 1) // 2 + len(non_dms_columns) * (len(non_dms_columns) - 1) // 2\n",
    "    fig, axes = plt.subplots(1, total_plots, figsize=(total_plots * 5, 5)) if total_plots > 1 else plt.subplots()\n",
    "\n",
    "    plot_index = 0\n",
    "    plot_index = plot_comparison(dms_columns, \"DMSO Counts\", axes, plot_index, total_plots)\n",
    "    plot_comparison(non_dms_columns, \"Non-DMSO Counts\", axes, plot_index, total_plots)\n",
    "\n",
    "    plt.tight_layout()\n",
    "    plt.show()\n",
    "    # Optional: Saving the figure\n",
    "    filename = f'comparison_{key}.png'\n",
    "    #fig.savefig(filename, format='png', dpi=600)\n",
    "\n",
    "# Example usage\n",
    "# plot_barcode_count_comparison(my_dataframes_dict, 'my_key')\n"
   ]
  },
  {
   "cell_type": "code",
   "execution_count": 15,
   "id": "b373f3f4",
   "metadata": {},
   "outputs": [
    {
     "data": {
      "text/plain": [
       "dict_keys(['4u8c_B1T1-vs-DMSO_B1T1-and-4u8c_B2T1-vs-DMSO_B1T1', '4u8c_B1T1-vs-DMSO_B1T1-and-4u8c_B2T2-vs-DMSO_B1T1', '4u8c_B1T1-vs-DMSO_B1T1-and-4u8c_B2T2-vs-DMSO_B2T2', '4u8c_B1T1-vs-DMSO_B1T1-and-C7_B1T2-vs-DMSO_B1T2', '4u8c_B1T1-vs-DMSO_B1T1-and-C7_B2T1-vs-DMSO_B2T1', '4u8c_B1T1-vs-DMSO_B1T1-and-Both_B1T1-vs-DMSO_B1T1', '4u8c_B1T1-vs-DMSO_B1T1-and-Both_B2T1-vs-DMSO_B2T1', '4u8c_B2T1-vs-DMSO_B1T1-and-4u8c_B2T2-vs-DMSO_B1T1', '4u8c_B2T1-vs-DMSO_B1T1-and-4u8c_B2T2-vs-DMSO_B2T2', '4u8c_B2T1-vs-DMSO_B1T1-and-C7_B1T2-vs-DMSO_B1T2', '4u8c_B2T1-vs-DMSO_B1T1-and-C7_B2T1-vs-DMSO_B2T1', '4u8c_B2T1-vs-DMSO_B1T1-and-Both_B1T1-vs-DMSO_B1T1', '4u8c_B2T1-vs-DMSO_B1T1-and-Both_B2T1-vs-DMSO_B2T1', '4u8c_B2T2-vs-DMSO_B1T1-and-4u8c_B2T2-vs-DMSO_B2T2', '4u8c_B2T2-vs-DMSO_B1T1-and-C7_B1T2-vs-DMSO_B1T2', '4u8c_B2T2-vs-DMSO_B1T1-and-C7_B2T1-vs-DMSO_B2T1', '4u8c_B2T2-vs-DMSO_B1T1-and-Both_B1T1-vs-DMSO_B1T1', '4u8c_B2T2-vs-DMSO_B1T1-and-Both_B2T1-vs-DMSO_B2T1', '4u8c_B2T2-vs-DMSO_B2T2-and-C7_B1T2-vs-DMSO_B1T2', '4u8c_B2T2-vs-DMSO_B2T2-and-C7_B2T1-vs-DMSO_B2T1', '4u8c_B2T2-vs-DMSO_B2T2-and-Both_B1T1-vs-DMSO_B1T1', '4u8c_B2T2-vs-DMSO_B2T2-and-Both_B2T1-vs-DMSO_B2T1', 'C7_B1T2-vs-DMSO_B1T2-and-C7_B2T1-vs-DMSO_B2T1', 'C7_B1T2-vs-DMSO_B1T2-and-Both_B1T1-vs-DMSO_B1T1', 'C7_B1T2-vs-DMSO_B1T2-and-Both_B2T1-vs-DMSO_B2T1', 'C7_B2T1-vs-DMSO_B2T1-and-Both_B1T1-vs-DMSO_B1T1', 'C7_B2T1-vs-DMSO_B2T1-and-Both_B2T1-vs-DMSO_B2T1', 'Both_B1T1-vs-DMSO_B1T1-and-Both_B2T1-vs-DMSO_B2T1'])"
      ]
     },
     "execution_count": 15,
     "metadata": {},
     "output_type": "execute_result"
    }
   ],
   "source": [
    "func_score_comparisons_KW.keys()"
   ]
  },
  {
   "cell_type": "code",
   "execution_count": 16,
   "id": "97a73973",
   "metadata": {
    "scrolled": true
   },
   "outputs": [
    {
     "name": "stdout",
     "output_type": "stream",
     "text": [
      "Index(['barcode', 'DMSO_B1T2_count', 'library', 'codon_substitutions', 'aa_substitutions', 'n_codon_substitutions', 'n_aa_substitutions', 'C7_B1T2_count', 'C7_B1T2-vs-DMSO_B1T2_func_score', 'DMSO_B2T1_count', 'C7_B2T1_count', 'C7_B2T1-vs-DMSO_B2T1_func_score', 'func_score_avg', 'rank'], dtype='object')\n"
     ]
    }
   ],
   "source": [
    "specific_key = 'C7_B1T2-vs-DMSO_B1T2-and-C7_B2T1-vs-DMSO_B2T1' # Replace this with the key you want to use\n",
    "\n",
    "# '4u8c_B1T1-vs-DMSO_B1T1-and-4u8c_B2T2-vs-DMSO_B2T2'  \n",
    "\n",
    "# Access the DataFrame using the key\n",
    "specific_df = func_score_comparisons_KW[specific_key]\n",
    "\n",
    "# Display the column names\n",
    "print(specific_df.columns)"
   ]
  },
  {
   "cell_type": "code",
   "execution_count": 17,
   "id": "08da814f",
   "metadata": {},
   "outputs": [
    {
     "data": {
      "text/html": [
       "<div>\n",
       "<style scoped>\n",
       "    .dataframe tbody tr th:only-of-type {\n",
       "        vertical-align: middle;\n",
       "    }\n",
       "\n",
       "    .dataframe tbody tr th {\n",
       "        vertical-align: top;\n",
       "    }\n",
       "\n",
       "    .dataframe thead th {\n",
       "        text-align: right;\n",
       "    }\n",
       "</style>\n",
       "<table border=\"1\" class=\"dataframe\">\n",
       "  <thead>\n",
       "    <tr style=\"text-align: right;\">\n",
       "      <th></th>\n",
       "      <th>DMSO_B1T2_count</th>\n",
       "      <th>n_codon_substitutions</th>\n",
       "      <th>n_aa_substitutions</th>\n",
       "      <th>C7_B1T2_count</th>\n",
       "      <th>C7_B1T2-vs-DMSO_B1T2_func_score</th>\n",
       "      <th>DMSO_B2T1_count</th>\n",
       "      <th>C7_B2T1_count</th>\n",
       "      <th>C7_B2T1-vs-DMSO_B2T1_func_score</th>\n",
       "      <th>func_score_avg</th>\n",
       "      <th>rank</th>\n",
       "    </tr>\n",
       "  </thead>\n",
       "  <tbody>\n",
       "    <tr>\n",
       "      <th>count</th>\n",
       "      <td>48939.000000</td>\n",
       "      <td>48939.000000</td>\n",
       "      <td>48939.000000</td>\n",
       "      <td>48939.000000</td>\n",
       "      <td>48939.000000</td>\n",
       "      <td>48939.000000</td>\n",
       "      <td>48939.000000</td>\n",
       "      <td>48939.000000</td>\n",
       "      <td>48939.000000</td>\n",
       "      <td>48939.000000</td>\n",
       "    </tr>\n",
       "    <tr>\n",
       "      <th>mean</th>\n",
       "      <td>425.364147</td>\n",
       "      <td>2.084023</td>\n",
       "      <td>1.833548</td>\n",
       "      <td>397.193138</td>\n",
       "      <td>-0.360571</td>\n",
       "      <td>424.975909</td>\n",
       "      <td>421.151485</td>\n",
       "      <td>-0.965684</td>\n",
       "      <td>-0.663128</td>\n",
       "      <td>24469.000000</td>\n",
       "    </tr>\n",
       "    <tr>\n",
       "      <th>std</th>\n",
       "      <td>543.577370</td>\n",
       "      <td>1.182899</td>\n",
       "      <td>1.132485</td>\n",
       "      <td>515.178153</td>\n",
       "      <td>1.906331</td>\n",
       "      <td>523.564893</td>\n",
       "      <td>574.279829</td>\n",
       "      <td>2.602506</td>\n",
       "      <td>1.788463</td>\n",
       "      <td>14127.616749</td>\n",
       "    </tr>\n",
       "    <tr>\n",
       "      <th>min</th>\n",
       "      <td>10.000000</td>\n",
       "      <td>1.000000</td>\n",
       "      <td>0.000000</td>\n",
       "      <td>0.500000</td>\n",
       "      <td>-9.765219</td>\n",
       "      <td>10.000000</td>\n",
       "      <td>0.500000</td>\n",
       "      <td>-10.293974</td>\n",
       "      <td>-8.572936</td>\n",
       "      <td>0.000000</td>\n",
       "    </tr>\n",
       "    <tr>\n",
       "      <th>25%</th>\n",
       "      <td>117.000000</td>\n",
       "      <td>1.000000</td>\n",
       "      <td>1.000000</td>\n",
       "      <td>100.000000</td>\n",
       "      <td>-0.862645</td>\n",
       "      <td>116.000000</td>\n",
       "      <td>94.000000</td>\n",
       "      <td>-1.517290</td>\n",
       "      <td>-1.232188</td>\n",
       "      <td>12234.500000</td>\n",
       "    </tr>\n",
       "    <tr>\n",
       "      <th>50%</th>\n",
       "      <td>254.000000</td>\n",
       "      <td>2.000000</td>\n",
       "      <td>2.000000</td>\n",
       "      <td>242.000000</td>\n",
       "      <td>-0.066116</td>\n",
       "      <td>257.000000</td>\n",
       "      <td>248.000000</td>\n",
       "      <td>-0.176805</td>\n",
       "      <td>-0.171504</td>\n",
       "      <td>24469.000000</td>\n",
       "    </tr>\n",
       "    <tr>\n",
       "      <th>75%</th>\n",
       "      <td>520.500000</td>\n",
       "      <td>3.000000</td>\n",
       "      <td>2.000000</td>\n",
       "      <td>498.000000</td>\n",
       "      <td>0.642211</td>\n",
       "      <td>520.000000</td>\n",
       "      <td>546.000000</td>\n",
       "      <td>0.640684</td>\n",
       "      <td>0.431306</td>\n",
       "      <td>36703.500000</td>\n",
       "    </tr>\n",
       "    <tr>\n",
       "      <th>max</th>\n",
       "      <td>14702.000000</td>\n",
       "      <td>14.000000</td>\n",
       "      <td>12.000000</td>\n",
       "      <td>16615.000000</td>\n",
       "      <td>5.974185</td>\n",
       "      <td>15579.000000</td>\n",
       "      <td>15943.000000</td>\n",
       "      <td>6.432217</td>\n",
       "      <td>4.948229</td>\n",
       "      <td>48938.000000</td>\n",
       "    </tr>\n",
       "  </tbody>\n",
       "</table>\n",
       "</div>"
      ],
      "text/plain": [
       "       DMSO_B1T2_count  n_codon_substitutions  n_aa_substitutions  C7_B1T2_count  C7_B1T2-vs-DMSO_B1T2_func_score  DMSO_B2T1_count  C7_B2T1_count  C7_B2T1-vs-DMSO_B2T1_func_score  func_score_avg          rank\n",
       "count     48939.000000           48939.000000        48939.000000   48939.000000                     48939.000000     48939.000000   48939.000000                     48939.000000    48939.000000  48939.000000\n",
       "mean        425.364147               2.084023            1.833548     397.193138                        -0.360571       424.975909     421.151485                        -0.965684       -0.663128  24469.000000\n",
       "std         543.577370               1.182899            1.132485     515.178153                         1.906331       523.564893     574.279829                         2.602506        1.788463  14127.616749\n",
       "min          10.000000               1.000000            0.000000       0.500000                        -9.765219        10.000000       0.500000                       -10.293974       -8.572936      0.000000\n",
       "25%         117.000000               1.000000            1.000000     100.000000                        -0.862645       116.000000      94.000000                        -1.517290       -1.232188  12234.500000\n",
       "50%         254.000000               2.000000            2.000000     242.000000                        -0.066116       257.000000     248.000000                        -0.176805       -0.171504  24469.000000\n",
       "75%         520.500000               3.000000            2.000000     498.000000                         0.642211       520.000000     546.000000                         0.640684        0.431306  36703.500000\n",
       "max       14702.000000              14.000000           12.000000   16615.000000                         5.974185     15579.000000   15943.000000                         6.432217        4.948229  48938.000000"
      ]
     },
     "execution_count": 17,
     "metadata": {},
     "output_type": "execute_result"
    }
   ],
   "source": [
    "specific_df.describe()"
   ]
  },
  {
   "cell_type": "code",
   "execution_count": 18,
   "id": "73a950bc",
   "metadata": {},
   "outputs": [
    {
     "data": {
      "image/png": "[encoded data removed]",
      "text/plain": [
       "<Figure size 720x432 with 1 Axes>"
      ]
     },
     "metadata": {
      "needs_background": "light"
     },
     "output_type": "display_data"
    }
   ],
   "source": [
    "plot_r2_vs_threshold(func_score_comparisons_KW, '4u8c_B1T1-vs-DMSO_B1T1-and-4u8c_B2T2-vs-DMSO_B2T2', 20)"
   ]
  },
  {
   "cell_type": "code",
   "execution_count": 19,
   "id": "6fcb4130",
   "metadata": {},
   "outputs": [],
   "source": [
    "for key in func_score_comparisons_KW:\n",
    "    func_score_comparisons_KW[key] = calculate_n_selections(func_score_comparisons_KW[key], 10)"
   ]
  },
  {
   "cell_type": "code",
   "execution_count": 20,
   "id": "11d21d7c",
   "metadata": {},
   "outputs": [
    {
     "data": {
      "image/png": "[encoded data removed]",
      "text/plain": [
       "<Figure size 576x576 with 1 Axes>"
      ]
     },
     "metadata": {},
     "output_type": "display_data"
    }
   ],
   "source": [
    "df_4u8c = func_score_comparisons_KW['4u8c_B1T1-vs-DMSO_B1T1-and-4u8c_B2T2-vs-DMSO_B2T2']\n",
    "df_C7 = func_score_comparisons_KW['C7_B1T2-vs-DMSO_B1T2-and-C7_B2T1-vs-DMSO_B2T1']\n",
    "df_Both = func_score_comparisons_KW['Both_B1T1-vs-DMSO_B1T1-and-Both_B2T1-vs-DMSO_B2T1']\n",
    "\n",
    "df_4u8c_barcodes = df_4u8c[df_4u8c['n_selections'] == 0]['barcode']\n",
    "df_C7_barcodes = df_C7[df_C7['n_selections'] == 0]['barcode']\n",
    "df_Both_barcodes = df_Both[df_Both['n_selections'] == 0]['barcode']\n",
    "\n",
    "# df_4u8c_barcodes = df_4u8c['barcode']\n",
    "# df_C7_barcodes = df_C7['barcode']\n",
    "# df_Both_barcodes = df_Both['barcode']\n",
    "\n",
    "# Create sets of barcodes\n",
    "set1 = set(df_4u8c_barcodes)\n",
    "set2 = set(df_C7_barcodes)\n",
    "set3 = set(df_Both_barcodes) \n",
    "\n",
    "# Generate Venn diagram\n",
    "plt.figure(figsize=(8, 8))\n",
    "venn3([set1, set2, set3], ('4µ8c', 'Ceapin-A7', 'Both'))\n",
    "plt.title(\"Shared Barcodes with n_selections = 0\")\n",
    "\n",
    "plt.tight_layout()\n",
    "\n",
    "#plt.savefig('venn_diagram.png', format='png', dpi=300)\n",
    "\n",
    "plt.show()"
   ]
  },
  {
   "cell_type": "code",
   "execution_count": 21,
   "id": "32fd4b39",
   "metadata": {},
   "outputs": [],
   "source": [
    "df_4u8c_filtered = df_4u8c[df_4u8c['n_selections'] == 0][['barcode', '4u8c_B1T1-vs-DMSO_B1T1_func_score', '4u8c_B2T2-vs-DMSO_B2T2_func_score']]\n",
    "df_C7_filtered = df_C7[df_C7['n_selections'] == 0][['barcode', 'C7_B1T2-vs-DMSO_B1T2_func_score', 'C7_B2T1-vs-DMSO_B2T1_func_score']]\n",
    "df_Both_filtered = df_Both[df_Both['n_selections'] == 0][['barcode', 'Both_B1T1-vs-DMSO_B1T1_func_score', 'Both_B2T1-vs-DMSO_B2T1_func_score']]\n",
    "\n",
    "# df_4u8c_filtered = df_4u8c[['barcode', '4u8c_B1T1-vs-DMSO_B1T1_func_score', '4u8c_B2T2-vs-DMSO_B2T2_func_score']]\n",
    "# df_C7_filtered = df_C7[['barcode', 'C7_B1T2-vs-DMSO_B1T2_func_score', 'C7_B2T1-vs-DMSO_B2T1_func_score']]\n",
    "# df_Both_filtered = df_Both[['barcode', 'Both_B1T1-vs-DMSO_B1T1_func_score', 'Both_B2T1-vs-DMSO_B2T1_func_score']]\n",
    "\n",
    "# df_4u8c = df_4u8c[['barcode','DMSO_B2T2_count']]\n",
    "# df_C7 = df_C7[['barcode','DMSO_B1T2_count','DMSO_B2T1_count']]\n",
    "# df_Both = df_Both[['barcode','DMSO_B1T1_count']]\n",
    "\n",
    "filtered_overlap = pd.merge(df_4u8c_filtered , df_C7_filtered, on='barcode', how='outer')\n",
    "filtered_overlap = pd.merge(filtered_overlap,df_Both_filtered, on='barcode', how='outer')"
   ]
  },
  {
   "cell_type": "code",
   "execution_count": 22,
   "id": "4d674bcd",
   "metadata": {},
   "outputs": [],
   "source": [
    "only_in_1 = set1 - set2 - set3\n",
    "only_in_2 = set2 - set1 - set3\n",
    "only_in_3 = set3 - set1 - set2\n",
    "in_1_and_2 = set1 & set2 - set3\n",
    "in_1_and_3 = set1 & set3 - set2\n",
    "in_2_and_3 = set2 & set3 - set1\n",
    "in_all_three = set1 & set2 & set3"
   ]
  },
  {
   "cell_type": "code",
   "execution_count": 54,
   "id": "e8cbd5d2",
   "metadata": {
    "scrolled": false
   },
   "outputs": [
    {
     "name": "stdout",
     "output_type": "stream",
     "text": [
      "Mean values:\n",
      " -6.128053765873879\n",
      "\n",
      "SEM values:\n",
      " 0.09010944648654541\n"
     ]
    }
   ],
   "source": [
    "overlap = filtered_overlap[filtered_overlap['barcode'].isin(in_all_three)]\n",
    "\n",
    "# Reshape the dataframe\n",
    "reshaped_overlap = overlap.melt(id_vars=['barcode'], var_name='func_score_type', value_name='func_score').dropna(subset=['func_score'])\n",
    "\n",
    "# Drop NaN values and calculate mean and SEM\n",
    "mean_value = reshaped_overlap['func_score'].mean()\n",
    "sem_value = reshaped_overlap['func_score'].sem()\n",
    "\n",
    "print(\"Mean values:\\n\", mean_value)\n",
    "print(\"\\nSEM values:\\n\", sem_value)"
   ]
  },
  {
   "cell_type": "code",
   "execution_count": 36,
   "id": "cf52e044",
   "metadata": {},
   "outputs": [
    {
     "data": {
      "text/plain": [
       "1867"
      ]
     },
     "execution_count": 36,
     "metadata": {},
     "output_type": "execute_result"
    }
   ],
   "source": [
    "len(reshaped_overlap['barcode'].unique())"
   ]
  },
  {
   "cell_type": "code",
   "execution_count": 24,
   "id": "adda06b4",
   "metadata": {},
   "outputs": [
    {
     "name": "stdout",
     "output_type": "stream",
     "text": [
      "2.0\n"
     ]
    },
    {
     "data": {
      "image/png": "[encoded data removed]",
      "text/plain": [
       "<Figure size 432x288 with 1 Axes>"
      ]
     },
     "metadata": {
      "needs_background": "light"
     },
     "output_type": "display_data"
    }
   ],
   "source": [
    "# Assuming 'overlap' is a subset of another DataFrame and you need a separate copy\n",
    "overlap_avg = overlap.copy()\n",
    "\n",
    "# Select columns with float data type\n",
    "float_cols = overlap_avg.select_dtypes(include=['float64']).columns\n",
    "\n",
    "# Calculate the mean of the float columns\n",
    "overlap_avg['Average'] = overlap_avg[float_cols].mean(axis=1)\n",
    "\n",
    "# Merge DataFrames on 'Key'\n",
    "overlap_merged = pd.merge(overlap_avg, codon_variant, on='barcode', how='left').sort_values(by='Average', ascending=True)\n",
    "\n",
    "sns.histplot(data=overlap_merged, x='n_aa_substitutions',  binwidth=1)\n",
    "\n",
    "print(overlap_merged['n_aa_substitutions'].median())"
   ]
  },
  {
   "cell_type": "code",
   "execution_count": 25,
   "id": "012cbc71",
   "metadata": {
    "scrolled": false
   },
   "outputs": [
    {
     "data": {
      "image/png": "[encoded data removed]",
      "text/plain": [
       "<Figure size 432x288 with 1 Axes>"
      ]
     },
     "metadata": {
      "needs_background": "light"
     },
     "output_type": "display_data"
    },
    {
     "data": {
      "image/png": "[encoded data removed]",
      "text/plain": [
       "<Figure size 432x288 with 1 Axes>"
      ]
     },
     "metadata": {
      "needs_background": "light"
     },
     "output_type": "display_data"
    }
   ],
   "source": [
    "# Create a strip plot\n",
    "sns.stripplot(x='n_codon_substitutions', y='Average', data=overlap_merged, jitter=True, alpha=0.25)\n",
    "\n",
    "# Add mean bars for each 'n_codon_substitutions' value\n",
    "n_codon_values = overlap_merged['n_codon_substitutions'].unique()\n",
    "for n_codon in n_codon_values:\n",
    "    mean_val = overlap_merged[overlap_merged['n_codon_substitutions'] == n_codon]['Average'].mean()\n",
    "    plt.hlines(mean_val, n_codon - 0.1, n_codon + 0.1, colors='red', linewidth=2, zorder=3)\n",
    "\n",
    "plt.show()\n",
    "\n",
    "# Create a strip plot\n",
    "sns.stripplot(x='n_aa_substitutions', y='Average', data=overlap_merged, jitter=True, alpha=0.25)\n",
    "\n",
    "# Add mean bars for each 'n_codon_substitutions' value\n",
    "n_codon_values = overlap_merged['n_aa_substitutions'].unique()\n",
    "for n_codon in n_codon_values:\n",
    "    mean_val = overlap_merged[overlap_merged['n_aa_substitutions'] == n_codon]['Average'].mean()\n",
    "    plt.hlines(mean_val, n_codon - 0.1, n_codon + 0.1, colors='red', linewidth=2, zorder=3)\n",
    "\n",
    "plt.show()\n"
   ]
  },
  {
   "cell_type": "code",
   "execution_count": 26,
   "id": "c20b3463",
   "metadata": {},
   "outputs": [],
   "source": [
    "# Create a list of tuples (codon_substitution, average), checking if 'codon_substitutions' is a string\n",
    "data_tuples = [(sub, row['Average']) for index, row in overlap_merged.iterrows() if isinstance(row['aa_substitutions'], str) for sub in row['aa_substitutions'].split()]\n",
    "\n",
    "# Create a new DataFrame from the list of tuples\n",
    "new_df = pd.DataFrame(data_tuples, columns=['aa_substitutions', 'Average'])\n",
    "\n",
    "# Function to extract the second letter\n",
    "def extract_mutant_residue(substitution):\n",
    "    if isinstance(substitution, str) and len(substitution) > 1:\n",
    "        return substitution[1]\n",
    "    return None\n",
    "\n",
    "new_df['mutant residue'] = new_df['aa_substitutions'].str[-1]\n",
    "\n",
    "new_df['site'] = new_df['aa_substitutions'].str.extract('(\\d+)')"
   ]
  },
  {
   "cell_type": "code",
   "execution_count": 27,
   "id": "7da25cd9",
   "metadata": {},
   "outputs": [],
   "source": [
    "sasa_data = pd.read_csv('kw_dms/sasa_data.csv')\n",
    "sasa_data.rename(columns={'Residue Number': 'site'}, inplace=True)\n",
    "\n",
    "def get_charge(amino_acid):\n",
    "    if amino_acid in ['R', 'K', 'H']:\n",
    "        return 'Positive'\n",
    "    elif amino_acid in ['D', 'E']:\n",
    "        return 'Negative'\n",
    "    else:\n",
    "        return 'Neutral'\n",
    "\n",
    "def get_polarity(amino_acid):\n",
    "    if amino_acid in ['R', 'K', 'H', 'D', 'E', 'S', 'T', 'N', 'Q', 'Y']:\n",
    "        return 'Polar'\n",
    "    else:\n",
    "        return 'Nonpolar'\n",
    "    \n",
    "new_df['charge_status'] = new_df['mutant residue'].apply(get_charge)\n",
    "new_df['polarity'] = new_df['mutant residue'].apply(get_polarity)\n",
    "\n",
    "#formatting\n",
    "new_df['site'] = new_df['site'].str.extract(r'(\\d+)').astype(int)"
   ]
  },
  {
   "cell_type": "code",
   "execution_count": 28,
   "id": "0001965d",
   "metadata": {},
   "outputs": [
    {
     "ename": "NameError",
     "evalue": "name 'stored' is not defined",
     "output_type": "error",
     "traceback": [
      "\u001b[0;31m---------------------------------------------------------------------------\u001b[0m",
      "\u001b[0;31mNameError\u001b[0m                                 Traceback (most recent call last)",
      "Input \u001b[0;32mIn [28]\u001b[0m, in \u001b[0;36m<cell line: 2>\u001b[0;34m()\u001b[0m\n\u001b[1;32m      1\u001b[0m \u001b[38;5;66;03m# Initialize a list in the stored namespace\u001b[39;00m\n\u001b[0;32m----> 2\u001b[0m \u001b[43mstored\u001b[49m\u001b[38;5;241m.\u001b[39msecondary_structures \u001b[38;5;241m=\u001b[39m []\n\u001b[1;32m      4\u001b[0m \u001b[38;5;66;03m# Iterate over each residue and store its secondary structure in the stored list\u001b[39;00m\n\u001b[1;32m      5\u001b[0m cmd\u001b[38;5;241m.\u001b[39miterate(\u001b[38;5;124m\"\u001b[39m\u001b[38;5;124mmolecule and name CA\u001b[39m\u001b[38;5;124m\"\u001b[39m, \u001b[38;5;124m\"\u001b[39m\u001b[38;5;124mstored.secondary_structures.append((resi, ss))\u001b[39m\u001b[38;5;124m\"\u001b[39m)\n",
      "\u001b[0;31mNameError\u001b[0m: name 'stored' is not defined"
     ]
    }
   ],
   "source": [
    "# Initialize a list in the stored namespace\n",
    "stored.secondary_structures = []\n",
    "\n",
    "# Iterate over each residue and store its secondary structure in the stored list\n",
    "cmd.iterate(\"molecule and name CA\", \"stored.secondary_structures.append((resi, ss))\")\n",
    "\n",
    "# Print secondary structure for each residue\n",
    "\n",
    "#'stored.secondary_structures' contains your PyMOL data\n",
    "# Convert to DataFrame\n",
    "ss_df = pd.DataFrame(stored.secondary_structures, columns=['site', 'secondary_structure'])\n",
    "\n",
    "# Function to determine secondary structure\n",
    "def determine_structure(ss):\n",
    "    if ss == 'H':\n",
    "        return 'Alpha Helix'\n",
    "    elif ss == 'S':\n",
    "        return 'Beta Sheet'\n",
    "    else:\n",
    "        return 'Loop'\n",
    "\n",
    "# Apply the function to each row in the 'secondary_structure' column\n",
    "ss_df['secondary_structure'] = ss_df['secondary_structure'].apply(determine_structure)\n",
    "\n",
    "# Convert 'site' to int in ss_df and remove duplicates\n",
    "ss_df['site'] = ss_df['site'].astype(int)\n",
    "ss_df.drop_duplicates(subset=['site'], inplace=True)\n",
    "\n",
    "merged_secondary = pd.merge(new_df, ss_df, on='site')\n",
    "merged_secondary = pd.merge(merged_secondary, sasa_data, on='site')"
   ]
  },
  {
   "cell_type": "code",
   "execution_count": null,
   "id": "303d1f36",
   "metadata": {
    "scrolled": true
   },
   "outputs": [],
   "source": [
    "# Filter for 'Alpha Helix', 'Beta Sheet', and 'Loop'\n",
    "alpha_helix = merged_secondary[merged_secondary['secondary_structure'] == 'Alpha Helix'].copy()\n",
    "alpha_helix['Category'] = 'Alpha Helix'\n",
    "\n",
    "beta_sheet = merged_secondary[merged_secondary['secondary_structure'] == 'Beta Sheet'].copy()\n",
    "beta_sheet['Category'] = 'Beta Sheet'\n",
    "\n",
    "loop = merged_secondary[merged_secondary['secondary_structure'] == 'Loop'].copy()\n",
    "loop['Category'] = 'Loop'\n",
    "\n",
    "all_sites = merged_secondary.copy()\n",
    "all_sites['Category'] = 'All Sites'\n",
    "\n",
    "# Filter for surface accessibility\n",
    "exposed = merged_secondary[merged_secondary['surface_accessibility'] == 'Exposed'].copy()\n",
    "exposed['Category'] = 'Exposed'\n",
    "\n",
    "burried = merged_secondary[merged_secondary['surface_accessibility'] == 'Burried'].copy()\n",
    "burried['Category'] = 'Burried'\n"
   ]
  },
  {
   "cell_type": "code",
   "execution_count": null,
   "id": "a7e9bdf3",
   "metadata": {},
   "outputs": [],
   "source": [
    "data_for_plotting = pd.concat([ all_sites, alpha_helix, beta_sheet, loop, exposed, burried])\n",
    "data_for_plotting = data_for_plotting[['Category', 'Average']]\n",
    "\n",
    "sns.violinplot(x='Category', y='Average', data=data_for_plotting, inner='quart')"
   ]
  },
  {
   "cell_type": "code",
   "execution_count": null,
   "id": "b3072770",
   "metadata": {
    "scrolled": false
   },
   "outputs": [],
   "source": [
    "# plot func score comparison and barcode counts\n",
    "plot_func_scores(func_score_comparisons_KW, specific_key)\n",
    "plot_barcode_count_comparison(func_score_comparisons_KW, specific_key)"
   ]
  },
  {
   "cell_type": "code",
   "execution_count": null,
   "id": "a55914ba",
   "metadata": {
    "scrolled": true
   },
   "outputs": [],
   "source": [
    "#randomly sampling dataframes\n",
    "func_score_comparisons_KW_sampled = {key: df.sample(n=min(len(df), 500)) for key, df in func_score_comparisons_KW.items()}\n",
    "\n",
    "specific_key = '4u8c_B1T1-vs-DMSO_B1T1-and-4u8c_B2T2-vs-DMSO_B2T2' # Replace this with the actual key you want to use\n",
    "\n",
    "# Access the DataFrame using the key\n",
    "specific_df = func_score_comparisons_KW_sampled[specific_key]\n",
    "\n",
    "# save current df to csv\n",
    "# specific_df.to_csv('sampled_4u8c_B1T1-vs-DMSO_B1T1-and-4u8c_B2T2-vs-DMSO_B2T2.csv', index=False)\n",
    "\n",
    "# plot func score comparison and barcode counts\n",
    "plot_func_scores(func_score_comparisons_KW_sampled, specific_key)\n",
    "plot_barcode_count_comparison(func_score_comparisons_KW_sampled, specific_key)\n",
    "plot_count_histograms(func_score_comparisons_KW_sampled, specific_key)"
   ]
  },
  {
   "cell_type": "code",
   "execution_count": null,
   "id": "87d19188",
   "metadata": {},
   "outputs": [],
   "source": [
    "func_scores_KW['4u8c_B2T2-vs-DMSO_B2T2']=calculate_functional_score(sample_DMSO_B2T2,'DMSO_B2T2',sample_4u8c_B2T2,'4u8c_B2T2','LibB',10)"
   ]
  },
  {
   "cell_type": "code",
   "execution_count": null,
   "id": "ec49b273",
   "metadata": {
    "scrolled": true
   },
   "outputs": [],
   "source": [
    "# Create lists of columns based on suffix\n",
    "DMSO_count_columns = [col for col in specific_df.columns if 'DMSO' in col and col.endswith('_count')]\n",
    "non_DMSO_count_columns = [col for col in specific_df.columns if 'DMSO' not in col and col.endswith('_count')]\n",
    "func_columns = [col for col in specific_df.columns if col and col.endswith('_func_score')]\n",
    "\n",
    "# Combine the lists to create a new column order\n",
    "new_column_order = DMSO_count_columns + non_DMSO_count_columns + func_columns\n",
    "\n",
    "# Reorder the DataFrame columns\n",
    "specific_df = specific_df[new_column_order]\n",
    "\n",
    "# Filter columns that end with '_count' or '_func_score'\n",
    "selected_columns = [col for col in specific_df.columns if col.endswith('_count') or col.endswith('_func_score')]\n",
    "\n",
    "# Select 20 random entries\n",
    "random_entries = specific_df.sample(n=20)"
   ]
  }
 ],
 "metadata": {
  "kernelspec": {
   "display_name": "Python 3 (ipykernel)",
   "language": "python",
   "name": "python3"
  },
  "language_info": {
   "codemirror_mode": {
    "name": "ipython",
    "version": 3
   },
   "file_extension": ".py",
   "mimetype": "text/x-python",
   "name": "python",
   "nbconvert_exporter": "python",
   "pygments_lexer": "ipython3",
   "version": "3.9.12"
  }
 },
 "nbformat": 4,
 "nbformat_minor": 5
}
