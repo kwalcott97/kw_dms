{
 "cells": [
  {
   "cell_type": "code",
   "execution_count": 10,
   "id": "a5e46206",
   "metadata": {},
   "outputs": [
    {
     "name": "stdout",
     "output_type": "stream",
     "text": [
      "/Users/keith_tetrad\n"
     ]
    }
   ],
   "source": [
    "cd"
   ]
  },
  {
   "cell_type": "code",
   "execution_count": 16,
   "id": "7103ea51",
   "metadata": {},
   "outputs": [],
   "source": [
    "import pandas as pd\n",
    "from itertools import combinations\n",
    "import numpy as np\n",
    "\n",
    "class DataProcessor:\n",
    "    def __init__(self):\n",
    "        self.codon_variant = None\n",
    "\n",
    "    def load_codon_variants(self, file_path):\n",
    "        self.codon_variant = pd.read_csv(file_path, usecols=['barcode','library','codon_substitutions','aa_substitutions','n_codon_substitutions','n_aa_substitutions'])\n",
    "\n",
    "    def calculate_functional_score(self, pre_selection, pre_selection_name, post_selection, post_selection_name, library, count_threshold):\n",
    "        pre_selection = pre_selection.rename(columns={'count': 'count_pre'})\n",
    "        post_selection = post_selection.rename(columns={'count': 'count_post'})\n",
    "        \n",
    "        pre_selection = pre_selection[(pre_selection['count_pre'] >= count_threshold)]\n",
    "        pre_selection = pd.merge(pre_selection, self.codon_variant, on='barcode')\n",
    "        post_selection = pd.merge(post_selection, self.codon_variant, on='barcode')\n",
    "        \n",
    "        pre_selection = pre_selection[pre_selection['library'] == library]\n",
    "        post_selection = post_selection[post_selection['library'] == library]\n",
    "\n",
    "        merged_df = pd.merge(pre_selection, post_selection[['barcode', 'count_post']], on='barcode', how='left').fillna(0)\n",
    "        \n",
    "        wt_barcodes = merged_df[merged_df['n_codon_substitutions'] == 0]\n",
    "        pre_wt_counts = wt_barcodes['count_pre'].sum()\n",
    "        post_wt_counts = wt_barcodes['count_post'].sum()\n",
    "\n",
    "        merged_df = merged_df[merged_df['n_codon_substitutions'] > 0]\n",
    "        merged_df['count_post'] = merged_df['count_post'].replace(0, 0.5).astype(float)\n",
    "        merged_df['func_score'] = np.log2((merged_df['count_post'] / post_wt_counts) / (merged_df['count_pre'] / pre_wt_counts))\n",
    "        \n",
    "        merged_df = merged_df.rename(columns={\n",
    "            'count_pre': f'{pre_selection_name}_count',\n",
    "            'count_post': f'{post_selection_name}_count'\n",
    "        })\n",
    "        return merged_df\n",
    "\n",
    "    def merge_dataframes(self, dataframes_dict):\n",
    "        merged_group_dict = {}\n",
    "        for (key1, df1), (key2, df2) in combinations(dataframes_dict.items(), 2):\n",
    "            df1_renamed = df1.rename(columns={'func_score': f'{key1}_func_score'})\n",
    "            df2_renamed = df2.rename(columns={'func_score': f'{key2}_func_score'})\n",
    "            merged_df = pd.merge(df1_renamed, df2_renamed, on=['barcode', 'library', 'aa_substitutions', 'n_aa_substitutions','codon_substitutions', 'n_codon_substitutions'], how='outer')\n",
    "            merged_df = merged_df.dropna(subset=[f'{key1}_func_score', f'{key2}_func_score'])\n",
    "            merged_df['func_score_avg'] = merged_df[[f'{key1}_func_score', f'{key2}_func_score']].mean(axis=1)\n",
    "            merged_df = merged_df.sort_values(by='func_score_avg').reset_index(drop=True)\n",
    "            merged_group_dict[f'{key1}-and-{key2}'] = merged_df\n",
    "        return merged_group_dict\n",
    "\n",
    "    def automate_functional_score_calculations(self, sample_paths, comparison_pairs, library, count_threshold):\n",
    "        samples = {name: pd.read_csv(path) for name, path in sample_paths.items()}\n",
    "        func_scores = {}\n",
    "        for (pre_name, post_name), comparison_name in comparison_pairs.items():\n",
    "            func_scores[comparison_name] = self.calculate_functional_score(samples[pre_name], pre_name, samples[post_name], post_name, library, count_threshold)\n",
    "        return self.merge_dataframes(func_scores)\n"
   ]
  },
  {
   "cell_type": "code",
   "execution_count": 23,
   "id": "3d92a3f5",
   "metadata": {},
   "outputs": [
    {
     "name": "stdout",
     "output_type": "stream",
     "text": [
      "Processing: Comparison1 with 4u8c_B1T1 and DMSO_B1T1\n"
     ]
    }
   ],
   "source": [
    "data_processor = DataProcessor()\n",
    "data_processor.load_codon_variants('/Users/keith_tetrad/kw_dms/results/variants/codon_variants.csv')\n",
    "\n",
    "sample_paths = {\n",
    "    'DMSO_B1T1': 'kw_dms/old_results/barcode_counts/LibB-231017-DMSO_bio1-1_counts.csv',\n",
    "    '4U8C_B1T1': 'kw_dms/old_results/barcode_counts/LibB-231017-4u8c_bio1-1_counts.csv',\n",
    "    'DMSO_B2T2': 'kw_dms/old_results/barcode_counts/LibB-231017-DMSO_bio2-1_counts.csv',\n",
    "    '4u8c_B2T2': 'kw_dms/old_results/barcode_counts/LibB-231017-4u8c_bio2-2_counts.csv'\n",
    "    # Add other sample paths\n",
    "}\n",
    "\n",
    "\n",
    "comparison_pairs = {\n",
    "    ('4u8c_B1T1','DMSO_B1T1'): 'Comparison1',\n",
    "    ()\n",
    "    # Add other comparisons\n",
    "}\n",
    "\n",
    "func_score_comparisons = data_processor.automate_functional_score_calculations(sample_paths, comparison_pairs, 'LibB', 10)\n"
   ]
  },
  {
   "cell_type": "code",
   "execution_count": 24,
   "id": "95aafe30",
   "metadata": {},
   "outputs": [
    {
     "data": {
      "text/plain": [
       "{}"
      ]
     },
     "execution_count": 24,
     "metadata": {},
     "output_type": "execute_result"
    }
   ],
   "source": [
    "func_score_comparisons"
   ]
  }
 ],
 "metadata": {
  "kernelspec": {
   "display_name": "PyMOL Env",
   "language": "python",
   "name": "pymol_env"
  },
  "language_info": {
   "codemirror_mode": {
    "name": "ipython",
    "version": 3
   },
   "file_extension": ".py",
   "mimetype": "text/x-python",
   "name": "python",
   "nbconvert_exporter": "python",
   "pygments_lexer": "ipython3",
   "version": "3.7.16"
  }
 },
 "nbformat": 4,
 "nbformat_minor": 5
}
