{
 "cells": [
  {
   "cell_type": "code",
   "execution_count": 13,
   "id": "cdcde594",
   "metadata": {},
   "outputs": [
    {
     "name": "stdout",
     "output_type": "stream",
     "text": [
      "/Users/keith_tetrad\n"
     ]
    }
   ],
   "source": [
    "cd"
   ]
  },
  {
   "cell_type": "code",
   "execution_count": 14,
   "id": "f2cd75f1",
   "metadata": {},
   "outputs": [],
   "source": [
    "import numpy as np\n",
    "import pandas as pd\n",
    "import seaborn as sns\n",
    "import matplotlib.pyplot as plt\n",
    "import plotly.express as px\n",
    "from bioservices import QuickGO\n",
    "quickgo = QuickGO()"
   ]
  },
  {
   "cell_type": "code",
   "execution_count": 15,
   "id": "11edb07c",
   "metadata": {},
   "outputs": [
    {
     "data": {
      "text/html": [
       "<style>.container { width:95% !important; }</style>"
      ],
      "text/plain": [
       "<IPython.core.display.HTML object>"
      ]
     },
     "metadata": {},
     "output_type": "display_data"
    }
   ],
   "source": [
    "from IPython.display import display, HTML\n",
    "display(HTML(\"<style>.container { width:95% !important; }</style>\"))\n",
    "\n",
    "pd.set_option('display.max_colwidth', 200)\n",
    "pd.set_option('display.max_columns', None)\n",
    "pd.set_option('display.width', 1000)\n",
    "pd.set_option('expand_frame_repr', False)\n"
   ]
  },
  {
   "cell_type": "code",
   "execution_count": 16,
   "id": "d33dc743",
   "metadata": {
    "scrolled": true
   },
   "outputs": [],
   "source": [
    "# import small data \n",
    "apms_data = pd.DataFrame(pd.read_csv('kw_dms/nevan_analysis/1-s2.0-S0092867423009157-mmc3(1).csv', delimiter=','))\n",
    "\n",
    "#pull rnaseq data from angelas work here: https://elifesciences.org/articles/38795/figures#fig2s1\n",
    "eLife_data = pd.DataFrame(pd.read_csv('kw_dms/nevan_analysis/elife-38795-fig2-data1-v2.csv', delimiter=','))"
   ]
  },
  {
   "cell_type": "code",
   "execution_count": 17,
   "id": "1eb88c0a",
   "metadata": {},
   "outputs": [],
   "source": [
    "# Filter for rows where any of the specified columns is True\n",
    "flag_apms_data = apms_data.loc[apms_data[['flag_SaintandMist_final', 'flag_Saint_final', 'flag_SaintandMistorNatureSaint_final']].any(axis=1)].reset_index(drop=True)"
   ]
  },
  {
   "cell_type": "code",
   "execution_count": 18,
   "id": "e46380cb",
   "metadata": {},
   "outputs": [],
   "source": [
    "def go_term(go_id):\n",
    "    # Define parameters\n",
    "    taxon_id = \"9606\"  # Taxonomy ID for Homo sapiens\n",
    "    go_id = go_id # GO term\n",
    "    \n",
    "    # Fetch annotations\n",
    "    annotations = quickgo.Annotation(taxonId=taxon_id, goId=go_id)\n",
    "\n",
    "    # Extract results\n",
    "    results = annotations['results']\n",
    "\n",
    "    # Extract gene products using 'symbol' key\n",
    "    gene_products = [result['symbol'] for result in results if result.get('symbol')]\n",
    "\n",
    "    # Extract gene products using 'symbol' key and add them to a list\n",
    "    gene_products = [result['symbol'] for result in results if result.get('symbol')]\n",
    "\n",
    "    # Convert the list to a set to remove duplicates, and then back to a list\n",
    "    unique_gene_products = list(set(gene_products))\n",
    "    \n",
    "    return unique_gene_products\n",
    "\n",
    "def go_term_mask(mask):\n",
    "\n",
    "    # Create a boolean mask\n",
    "    mask = flag_apms_data['PreyGene'].apply(lambda x: any(word in x for word in mask))\n",
    "    \n",
    "    return flag_apms_data[mask]"
   ]
  },
  {
   "cell_type": "code",
   "execution_count": 19,
   "id": "44cf6a06",
   "metadata": {},
   "outputs": [],
   "source": [
    "#ATP-dependent protein folding chaperone\n",
    "GO_0140662 = go_term('GO:0140662')\n",
    "ATP = go_term_mask(GO_0140662)\n",
    "\n",
    "#protein folding in endoplasmic reticulum\n",
    "GO_0034975 = go_term('GO:0034975')\n",
    "ER = go_term_mask(GO_0034975)\n",
    "\n",
    "#protein folding chaperone\n",
    "GO_0044183 = go_term('GO:0044183')\n",
    "all_chaps = go_term_mask(GO_0044183)"
   ]
  },
  {
   "cell_type": "code",
   "execution_count": 20,
   "id": "7ad4b8b7",
   "metadata": {
    "scrolled": true
   },
   "outputs": [],
   "source": [
    "# Group by the 'ViralProtein' and aggregate unique values in 'PreyGene'\n",
    "grouped = ATP.groupby('ViralProtein')['PreyGene'].unique()\n",
    "\n",
    "# Group by both 'variant' and 'ViralProtein', then aggregate unique values in 'PreyGene'\n",
    "grouped_byvariant = ER.groupby(['ViralProtein','Variant'])['PreyGene'].unique()"
   ]
  },
  {
   "cell_type": "code",
   "execution_count": 21,
   "id": "c5728607",
   "metadata": {},
   "outputs": [],
   "source": [
    "#extract a list of unique PreyGenes\n",
    "unique_ER = ER['PreyGene'].unique()\n",
    "unique_ATP = ATP['PreyGene'].unique()\n",
    "unique_all_chaps = all_chaps['PreyGene'].unique()\n",
    "\n",
    "# Combine and find unique values\n",
    "# combined_unique = np.concatenate((unique_ER, unique_ATP, unique_all_chaps))\n",
    "# combined_unique = np.concatenate(unique_ER)\n",
    "# unique_chaps = np.unique(combined_unique)\n",
    "unique_chaps = unique_ER\n",
    "\n",
    "chunk_size = 10000  # Adjust based on your memory constraints\n",
    "normal_tissue_data = pd.DataFrame()  # Initialize an empty DataFrame for the filtered data\n",
    "rna_single_cell_data = pd.DataFrame()\n",
    "\n",
    "for chunk in pd.read_csv('kw_dms/nevan_analysis/normal_tissue.tsv', sep='\\t', chunksize=chunk_size):\n",
    "    # Filter the chunk\n",
    "    filtered_chunk = chunk[chunk['Gene name'].isin(unique_chaps)]\n",
    "    # Append the filtered chunk to the DataFrame\n",
    "    normal_tissue_data = pd.concat([normal_tissue_data, filtered_chunk])\n",
    "\n",
    "for chunk in pd.read_csv('kw_dms/nevan_analysis/rna_single_cell_type.tsv', sep='\\t', chunksize=chunk_size):\n",
    "    # Filter the chunk\n",
    "    filtered_chunk = chunk[chunk['Gene name'].isin(unique_chaps)]\n",
    "    # Append the filtered chunk to the DataFrame\n",
    "    rna_single_cell_data = pd.concat([rna_single_cell_data, filtered_chunk])\n",
    "    "
   ]
  },
  {
   "cell_type": "code",
   "execution_count": 22,
   "id": "852acaa6",
   "metadata": {
    "scrolled": true
   },
   "outputs": [],
   "source": [
    "unique_tissue_cells = normal_tissue_data.groupby('Tissue')['Cell type'].unique()\n",
    "unique_RNA_cells = rna_single_cell_data['Cell type'].unique()"
   ]
  },
  {
   "cell_type": "code",
   "execution_count": 23,
   "id": "3a735d86",
   "metadata": {},
   "outputs": [],
   "source": [
    "tissue_cell_types = {\n",
    "    'bronchus': ['respiratory epithelial cells', 'basal cells', 'Basal respiratory cells', 'Ciliated cells', 'ciliated cells (cell body)', 'ciliated cells (cilia axoneme)', 'ciliated cells (ciliary rootlets)', 'ciliated cells (tip of cilia)', 'goblet cells'],\n",
    "    'kidney': ['cells in tubules', 'collecting ducts'],\n",
    "    'lung': ['alveolar cells type I', 'alveolar cells type II', 'endothelial cells', 'alveolar cells'],\n",
    "    'pancreas': ['exocrine glandular cells', 'pancreatic endocrine cells'],\n",
    "    'skin': ['Basal keratinocytes', 'Basal squamous epithelial cells']\n",
    "}\n",
    "\n",
    "# Filter for only tissue/cell type combinations\n",
    "def filter_combinations(row):\n",
    "    tissue = row['Tissue']\n",
    "    cell_type = row['Cell type']\n",
    "    return cell_type in tissue_cell_types.get(tissue, [])\n",
    "\n",
    "# Filter the DataFrame\n",
    "tissue_SARS_filtered = normal_tissue_data[normal_tissue_data.apply(filter_combinations, axis=1)].reset_index(drop=True)\n",
    "\n",
    "# Aggregate all unique cell types from the dictionary\n",
    "all_cell_types = set()\n",
    "for cell_types in tissue_cell_types.values():\n",
    "    all_cell_types.update(cell_types)\n",
    "\n",
    "# Cleaning up cell type names (some of this may not be biologically correct)\n",
    "replacements = {\n",
    "    'Alveolar cells type 1': 'alveolar cells type I',\n",
    "    'Alveolar cells type 2': 'alveolar cells type II',\n",
    "    'Collecting duct cells': 'collecting ducts',\n",
    "    'Endothelial cells': 'endothelial cells',\n",
    "    'Exocrine glandular cells': 'exocrine glandular cells',\n",
    "    'Pancreatic endocrine cells': 'pancreatic endocrine cells'\n",
    "}\n",
    "rna_single_cell_data['Cell type'] = rna_single_cell_data['Cell type'].replace(replacements)\n",
    "\n",
    "# Filter rna_single_cell_data based on the cell types\n",
    "rna_single_cell_SARS_filtered = rna_single_cell_data[rna_single_cell_data['Cell type'].isin(all_cell_types)].reset_index(drop=True)\n"
   ]
  },
  {
   "cell_type": "code",
   "execution_count": 24,
   "id": "29a1fd54",
   "metadata": {},
   "outputs": [
    {
     "data": {
      "text/plain": [
       "ViralProtein\n",
       "E                                                                 [CANX]\n",
       "M                                                           [CANX, VAPA]\n",
       "N                                                 [HSPA5, HSP90B1, CANX]\n",
       "S                                     [HSPA5, CANX, P4HB, HSP90B1, CALR]\n",
       "nsp12                                                             [CANX]\n",
       "nsp13                                                    [P4HB, HSP90B1]\n",
       "nsp2                                                       [HSPA5, CANX]\n",
       "nsp3                          [HSP90B1, CANX, P4HB, HSPA5, CALR, DNAJC3]\n",
       "nsp4                                                       [HSPA5, CANX]\n",
       "nsp6                                                              [CANX]\n",
       "orf3a                                                      [VAPA, HSPA5]\n",
       "orf7a                                                       [P4HB, CANX]\n",
       "orf7b                                                       [CANX, VAPA]\n",
       "orf8     [P4HB, HSPA5, HSP90B1, CALR, CANX, PDIA3, DNAJC3, ERO1A, ERO1B]\n",
       "orf9b                                                            [HSPA5]\n",
       "Name: PreyGene, dtype: object"
      ]
     },
     "execution_count": 24,
     "metadata": {},
     "output_type": "execute_result"
    }
   ],
   "source": [
    "# Group by the 'ViralProtein' and aggregate unique values in 'PreyGene'\n",
    "grouped = ER.groupby('ViralProtein')['PreyGene'].unique()\n",
    "\n",
    "# Group by both 'variant' and 'ViralProtein', then aggregate unique values in 'PreyGene'\n",
    "grouped_byvariant = ER.groupby(['ViralProtein','Variant'])['PreyGene'].unique()\n",
    "\n",
    "grouped "
   ]
  },
  {
   "cell_type": "code",
   "execution_count": 25,
   "id": "8819292c",
   "metadata": {},
   "outputs": [],
   "source": [
    "unique_chaps_list = unique_chaps.tolist()\n",
    "\n",
    "filtered_elife_data = eLife_data[eLife_data['GeneSymbol'].isin(unique_chaps_list)].copy()\n",
    "\n",
    "# Replace '#NUM!' with NaN\n",
    "filtered_elife_data.replace('#NUM!', np.nan, inplace=True)\n",
    "\n",
    "# Iterate through each column (skipping the first one)\n",
    "for column in filtered_elife_data.columns[1:]:\n",
    "    # Convert to float, coercing errors to NaN\n",
    "    filtered_elife_data[column] = pd.to_numeric(filtered_elife_data[column], errors='coerce')\n",
    "\n",
    "    # Replace NaN with the max value of the column\n",
    "    max_value = filtered_elife_data[column].max()\n",
    "    filtered_elife_data[column].fillna(max_value, inplace=True)"
   ]
  },
  {
   "cell_type": "code",
   "execution_count": 26,
   "id": "b3f6d38b",
   "metadata": {},
   "outputs": [
    {
     "name": "stdout",
     "output_type": "stream",
     "text": [
      "HSPA5\n",
      "\n",
      "\n",
      "UPR activation RNAseq data:\n",
      "XBP1s 37˚C vs. Basal 37˚C\n",
      "log2 fold change: 1.731539891\n",
      "-log10 pvalue: 183.0284876\n",
      "\n",
      "\n",
      "ATF6f/XBP1s 37˚C vs. Basal 37˚C\n",
      "log2 fold change: 3.945763315\n",
      "-log10 pvalue: 252.1068246\n",
      "\n",
      "\n",
      "protein immunohistochemistry data:\n",
      "  Tissue                    Cell type        Level Reliability\n",
      "bronchus respiratory epithelial cells       Medium    Enhanced\n",
      "  kidney             cells in tubules       Medium    Enhanced\n",
      "    lung        alveolar cells type I Not detected    Enhanced\n",
      "    lung       alveolar cells type II         High    Enhanced\n",
      "    lung            endothelial cells Not detected    Enhanced\n",
      "pancreas     exocrine glandular cells       Medium    Enhanced\n",
      "pancreas   pancreatic endocrine cells          Low    Enhanced\n"
     ]
    },
    {
     "data": {
      "image/png": "[encoded data removed]",
      "text/plain": [
       "<Figure size 432x288 with 1 Axes>"
      ]
     },
     "metadata": {
      "needs_background": "light"
     },
     "output_type": "display_data"
    }
   ],
   "source": [
    "# Define the specific gene you are interested in\n",
    "specific_gene = 'HSPA5'  # Replace with the actual gene identifier\n",
    "\n",
    "# Filter the DataFrames for the specific gene\n",
    "specific_gene_tissue = tissue_SARS_filtered.loc[tissue_SARS_filtered['Gene name'] == specific_gene, ['Tissue', 'Cell type', 'Level', 'Reliability']]\n",
    "specific_gene_rna = rna_single_cell_SARS_filtered[rna_single_cell_SARS_filtered['Gene name'] == specific_gene]\n",
    "specific_eLife_data = filtered_elife_data[filtered_elife_data['GeneSymbol'] == specific_gene]\n",
    "\n",
    "# Print the results\n",
    "print(specific_gene)\n",
    "print('\\n')\n",
    "print('UPR activation RNAseq data:')\n",
    "print('XBP1s 37˚C vs. Basal 37˚C')\n",
    "print('log2 fold change:', specific_eLife_data.loc[specific_eLife_data['GeneSymbol'] == specific_gene, 'log2FoldChange_XBP1s37/basal37'].item())\n",
    "print('-log10 pvalue:', specific_eLife_data.loc[specific_eLife_data['GeneSymbol'] == specific_gene, '-log10_pvalue_XBP1s37/basal37'].item())\n",
    "print('\\n')\n",
    "\n",
    "print('ATF6f/XBP1s 37˚C vs. Basal 37˚C')\n",
    "print('log2 fold change:', specific_eLife_data.loc[specific_eLife_data['GeneSymbol'] == specific_gene, 'log2FoldChange_ATF6fXBP1s37/basal37'].item())\n",
    "print('-log10 pvalue:', specific_eLife_data.loc[specific_eLife_data['GeneSymbol'] == specific_gene, '-log10_pvalue_ATF6fXBP1s37/basal37'].item())\n",
    "print('\\n')\n",
    "\n",
    "print('protein immunohistochemistry data:')\n",
    "print(specific_gene_tissue.to_string(index=False))\n",
    "\n",
    "# Create the barplot with a uniform color\n",
    "sns.barplot(data=specific_gene_rna, x='Cell type', y='nTPM', color='skyblue')\n",
    "plt.xticks(rotation=-30, ha='left')\n",
    "plt.title('Single cell RNA seq data', fontsize=10)\n",
    "\n",
    "plt.show()"
   ]
  },
  {
   "cell_type": "code",
   "execution_count": 27,
   "id": "5c312c98",
   "metadata": {
    "scrolled": false
   },
   "outputs": [
    {
     "data": {
      "application/vnd.plotly.v1+json": {
       "config": {
        "plotlyServerURL": "https://plot.ly"
       },
       "data": [
        {
         "customdata": [
          [
           "CALR"
          ]
         ],
         "hovertemplate": "GeneSymbol=%{customdata[0]}<br>log2FoldChange_XBP1s37/basal37=%{x}<br>-log10_pvalue_XBP1s37/basal37=%{y}<extra></extra>",
         "legendgroup": "CALR",
         "marker": {
          "color": "#636efa",
          "symbol": "circle"
         },
         "mode": "markers",
         "name": "CALR",
         "orientation": "v",
         "showlegend": true,
         "type": "scatter",
         "x": [
          1.211850605
         ],
         "xaxis": "x",
         "y": [
          121.0288014
         ],
         "yaxis": "y"
        },
        {
         "customdata": [
          [
           "CANX"
          ]
         ],
         "hovertemplate": "GeneSymbol=%{customdata[0]}<br>log2FoldChange_XBP1s37/basal37=%{x}<br>-log10_pvalue_XBP1s37/basal37=%{y}<extra></extra>",
         "legendgroup": "CANX",
         "marker": {
          "color": "#EF553B",
          "symbol": "circle"
         },
         "mode": "markers",
         "name": "CANX",
         "orientation": "v",
         "showlegend": true,
         "type": "scatter",
         "x": [
          1.373145973
         ],
         "xaxis": "x",
         "y": [
          45.7727601
         ],
         "yaxis": "y"
        },
        {
         "customdata": [
          [
           "DNAJC3"
          ]
         ],
         "hovertemplate": "GeneSymbol=%{customdata[0]}<br>log2FoldChange_XBP1s37/basal37=%{x}<br>-log10_pvalue_XBP1s37/basal37=%{y}<extra></extra>",
         "legendgroup": "DNAJC3",
         "marker": {
          "color": "#00cc96",
          "symbol": "circle"
         },
         "mode": "markers",
         "name": "DNAJC3",
         "orientation": "v",
         "showlegend": true,
         "type": "scatter",
         "x": [
          1.823474407
         ],
         "xaxis": "x",
         "y": [
          46.04021886
         ],
         "yaxis": "y"
        },
        {
         "customdata": [
          [
           "ERO1A"
          ]
         ],
         "hovertemplate": "GeneSymbol=%{customdata[0]}<br>log2FoldChange_XBP1s37/basal37=%{x}<br>-log10_pvalue_XBP1s37/basal37=%{y}<extra></extra>",
         "legendgroup": "ERO1A",
         "marker": {
          "color": "#ab63fa",
          "symbol": "circle"
         },
         "mode": "markers",
         "name": "ERO1A",
         "orientation": "v",
         "showlegend": true,
         "type": "scatter",
         "x": [
          0.385421108
         ],
         "xaxis": "x",
         "y": [
          2.547031022
         ],
         "yaxis": "y"
        },
        {
         "customdata": [
          [
           "ERO1B"
          ]
         ],
         "hovertemplate": "GeneSymbol=%{customdata[0]}<br>log2FoldChange_XBP1s37/basal37=%{x}<br>-log10_pvalue_XBP1s37/basal37=%{y}<extra></extra>",
         "legendgroup": "ERO1B",
         "marker": {
          "color": "#FFA15A",
          "symbol": "circle"
         },
         "mode": "markers",
         "name": "ERO1B",
         "orientation": "v",
         "showlegend": true,
         "type": "scatter",
         "x": [
          1.951922596
         ],
         "xaxis": "x",
         "y": [
          33.66677373
         ],
         "yaxis": "y"
        },
        {
         "customdata": [
          [
           "HSP90B1"
          ]
         ],
         "hovertemplate": "GeneSymbol=%{customdata[0]}<br>log2FoldChange_XBP1s37/basal37=%{x}<br>-log10_pvalue_XBP1s37/basal37=%{y}<extra></extra>",
         "legendgroup": "HSP90B1",
         "marker": {
          "color": "#19d3f3",
          "symbol": "circle"
         },
         "mode": "markers",
         "name": "HSP90B1",
         "orientation": "v",
         "showlegend": true,
         "type": "scatter",
         "x": [
          1.540399667
         ],
         "xaxis": "x",
         "y": [
          183.0284876
         ],
         "yaxis": "y"
        },
        {
         "customdata": [
          [
           "HSPA5"
          ]
         ],
         "hovertemplate": "GeneSymbol=%{customdata[0]}<br>log2FoldChange_XBP1s37/basal37=%{x}<br>-log10_pvalue_XBP1s37/basal37=%{y}<extra></extra>",
         "legendgroup": "HSPA5",
         "marker": {
          "color": "#FF6692",
          "symbol": "circle"
         },
         "mode": "markers",
         "name": "HSPA5",
         "orientation": "v",
         "showlegend": true,
         "type": "scatter",
         "x": [
          1.731539891
         ],
         "xaxis": "x",
         "y": [
          183.0284876
         ],
         "yaxis": "y"
        },
        {
         "customdata": [
          [
           "P4HB"
          ]
         ],
         "hovertemplate": "GeneSymbol=%{customdata[0]}<br>log2FoldChange_XBP1s37/basal37=%{x}<br>-log10_pvalue_XBP1s37/basal37=%{y}<extra></extra>",
         "legendgroup": "P4HB",
         "marker": {
          "color": "#B6E880",
          "symbol": "circle"
         },
         "mode": "markers",
         "name": "P4HB",
         "orientation": "v",
         "showlegend": true,
         "type": "scatter",
         "x": [
          1.668921844
         ],
         "xaxis": "x",
         "y": [
          133.7530743
         ],
         "yaxis": "y"
        },
        {
         "customdata": [
          [
           "PDIA3"
          ]
         ],
         "hovertemplate": "GeneSymbol=%{customdata[0]}<br>log2FoldChange_XBP1s37/basal37=%{x}<br>-log10_pvalue_XBP1s37/basal37=%{y}<extra></extra>",
         "legendgroup": "PDIA3",
         "marker": {
          "color": "#FF97FF",
          "symbol": "circle"
         },
         "mode": "markers",
         "name": "PDIA3",
         "orientation": "v",
         "showlegend": true,
         "type": "scatter",
         "x": [
          1.533057644
         ],
         "xaxis": "x",
         "y": [
          183.0284876
         ],
         "yaxis": "y"
        },
        {
         "customdata": [
          [
           "VAPA"
          ]
         ],
         "hovertemplate": "GeneSymbol=%{customdata[0]}<br>log2FoldChange_XBP1s37/basal37=%{x}<br>-log10_pvalue_XBP1s37/basal37=%{y}<extra></extra>",
         "legendgroup": "VAPA",
         "marker": {
          "color": "#FECB52",
          "symbol": "circle"
         },
         "mode": "markers",
         "name": "VAPA",
         "orientation": "v",
         "showlegend": true,
         "type": "scatter",
         "x": [
          0.103340571
         ],
         "xaxis": "x",
         "y": [
          0.900547406
         ],
         "yaxis": "y"
        }
       ],
       "layout": {
        "legend": {
         "title": {
          "text": "GeneSymbol"
         },
         "tracegroupgap": 0
        },
        "margin": {
         "t": 60
        },
        "template": {
         "data": {
          "bar": [
           {
            "error_x": {
             "color": "#2a3f5f"
            },
            "error_y": {
             "color": "#2a3f5f"
            },
            "marker": {
             "line": {
              "color": "#E5ECF6",
              "width": 0.5
             },
             "pattern": {
              "fillmode": "overlay",
              "size": 10,
              "solidity": 0.2
             }
            },
            "type": "bar"
           }
          ],
          "barpolar": [
           {
            "marker": {
             "line": {
              "color": "#E5ECF6",
              "width": 0.5
             },
             "pattern": {
              "fillmode": "overlay",
              "size": 10,
              "solidity": 0.2
             }
            },
            "type": "barpolar"
           }
          ],
          "carpet": [
           {
            "aaxis": {
             "endlinecolor": "#2a3f5f",
             "gridcolor": "white",
             "linecolor": "white",
             "minorgridcolor": "white",
             "startlinecolor": "#2a3f5f"
            },
            "baxis": {
             "endlinecolor": "#2a3f5f",
             "gridcolor": "white",
             "linecolor": "white",
             "minorgridcolor": "white",
             "startlinecolor": "#2a3f5f"
            },
            "type": "carpet"
           }
          ],
          "choropleth": [
           {
            "colorbar": {
             "outlinewidth": 0,
             "ticks": ""
            },
            "type": "choropleth"
           }
          ],
          "contour": [
           {
            "colorbar": {
             "outlinewidth": 0,
             "ticks": ""
            },
            "colorscale": [
             [
              0,
              "#0d0887"
             ],
             [
              0.1111111111111111,
              "#46039f"
             ],
             [
              0.2222222222222222,
              "#7201a8"
             ],
             [
              0.3333333333333333,
              "#9c179e"
             ],
             [
              0.4444444444444444,
              "#bd3786"
             ],
             [
              0.5555555555555556,
              "#d8576b"
             ],
             [
              0.6666666666666666,
              "#ed7953"
             ],
             [
              0.7777777777777778,
              "#fb9f3a"
             ],
             [
              0.8888888888888888,
              "#fdca26"
             ],
             [
              1,
              "#f0f921"
             ]
            ],
            "type": "contour"
           }
          ],
          "contourcarpet": [
           {
            "colorbar": {
             "outlinewidth": 0,
             "ticks": ""
            },
            "type": "contourcarpet"
           }
          ],
          "heatmap": [
           {
            "colorbar": {
             "outlinewidth": 0,
             "ticks": ""
            },
            "colorscale": [
             [
              0,
              "#0d0887"
             ],
             [
              0.1111111111111111,
              "#46039f"
             ],
             [
              0.2222222222222222,
              "#7201a8"
             ],
             [
              0.3333333333333333,
              "#9c179e"
             ],
             [
              0.4444444444444444,
              "#bd3786"
             ],
             [
              0.5555555555555556,
              "#d8576b"
             ],
             [
              0.6666666666666666,
              "#ed7953"
             ],
             [
              0.7777777777777778,
              "#fb9f3a"
             ],
             [
              0.8888888888888888,
              "#fdca26"
             ],
             [
              1,
              "#f0f921"
             ]
            ],
            "type": "heatmap"
           }
          ],
          "heatmapgl": [
           {
            "colorbar": {
             "outlinewidth": 0,
             "ticks": ""
            },
            "colorscale": [
             [
              0,
              "#0d0887"
             ],
             [
              0.1111111111111111,
              "#46039f"
             ],
             [
              0.2222222222222222,
              "#7201a8"
             ],
             [
              0.3333333333333333,
              "#9c179e"
             ],
             [
              0.4444444444444444,
              "#bd3786"
             ],
             [
              0.5555555555555556,
              "#d8576b"
             ],
             [
              0.6666666666666666,
              "#ed7953"
             ],
             [
              0.7777777777777778,
              "#fb9f3a"
             ],
             [
              0.8888888888888888,
              "#fdca26"
             ],
             [
              1,
              "#f0f921"
             ]
            ],
            "type": "heatmapgl"
           }
          ],
          "histogram": [
           {
            "marker": {
             "pattern": {
              "fillmode": "overlay",
              "size": 10,
              "solidity": 0.2
             }
            },
            "type": "histogram"
           }
          ],
          "histogram2d": [
           {
            "colorbar": {
             "outlinewidth": 0,
             "ticks": ""
            },
            "colorscale": [
             [
              0,
              "#0d0887"
             ],
             [
              0.1111111111111111,
              "#46039f"
             ],
             [
              0.2222222222222222,
              "#7201a8"
             ],
             [
              0.3333333333333333,
              "#9c179e"
             ],
             [
              0.4444444444444444,
              "#bd3786"
             ],
             [
              0.5555555555555556,
              "#d8576b"
             ],
             [
              0.6666666666666666,
              "#ed7953"
             ],
             [
              0.7777777777777778,
              "#fb9f3a"
             ],
             [
              0.8888888888888888,
              "#fdca26"
             ],
             [
              1,
              "#f0f921"
             ]
            ],
            "type": "histogram2d"
           }
          ],
          "histogram2dcontour": [
           {
            "colorbar": {
             "outlinewidth": 0,
             "ticks": ""
            },
            "colorscale": [
             [
              0,
              "#0d0887"
             ],
             [
              0.1111111111111111,
              "#46039f"
             ],
             [
              0.2222222222222222,
              "#7201a8"
             ],
             [
              0.3333333333333333,
              "#9c179e"
             ],
             [
              0.4444444444444444,
              "#bd3786"
             ],
             [
              0.5555555555555556,
              "#d8576b"
             ],
             [
              0.6666666666666666,
              "#ed7953"
             ],
             [
              0.7777777777777778,
              "#fb9f3a"
             ],
             [
              0.8888888888888888,
              "#fdca26"
             ],
             [
              1,
              "#f0f921"
             ]
            ],
            "type": "histogram2dcontour"
           }
          ],
          "mesh3d": [
           {
            "colorbar": {
             "outlinewidth": 0,
             "ticks": ""
            },
            "type": "mesh3d"
           }
          ],
          "parcoords": [
           {
            "line": {
             "colorbar": {
              "outlinewidth": 0,
              "ticks": ""
             }
            },
            "type": "parcoords"
           }
          ],
          "pie": [
           {
            "automargin": true,
            "type": "pie"
           }
          ],
          "scatter": [
           {
            "marker": {
             "colorbar": {
              "outlinewidth": 0,
              "ticks": ""
             }
            },
            "type": "scatter"
           }
          ],
          "scatter3d": [
           {
            "line": {
             "colorbar": {
              "outlinewidth": 0,
              "ticks": ""
             }
            },
            "marker": {
             "colorbar": {
              "outlinewidth": 0,
              "ticks": ""
             }
            },
            "type": "scatter3d"
           }
          ],
          "scattercarpet": [
           {
            "marker": {
             "colorbar": {
              "outlinewidth": 0,
              "ticks": ""
             }
            },
            "type": "scattercarpet"
           }
          ],
          "scattergeo": [
           {
            "marker": {
             "colorbar": {
              "outlinewidth": 0,
              "ticks": ""
             }
            },
            "type": "scattergeo"
           }
          ],
          "scattergl": [
           {
            "marker": {
             "colorbar": {
              "outlinewidth": 0,
              "ticks": ""
             }
            },
            "type": "scattergl"
           }
          ],
          "scattermapbox": [
           {
            "marker": {
             "colorbar": {
              "outlinewidth": 0,
              "ticks": ""
             }
            },
            "type": "scattermapbox"
           }
          ],
          "scatterpolar": [
           {
            "marker": {
             "colorbar": {
              "outlinewidth": 0,
              "ticks": ""
             }
            },
            "type": "scatterpolar"
           }
          ],
          "scatterpolargl": [
           {
            "marker": {
             "colorbar": {
              "outlinewidth": 0,
              "ticks": ""
             }
            },
            "type": "scatterpolargl"
           }
          ],
          "scatterternary": [
           {
            "marker": {
             "colorbar": {
              "outlinewidth": 0,
              "ticks": ""
             }
            },
            "type": "scatterternary"
           }
          ],
          "surface": [
           {
            "colorbar": {
             "outlinewidth": 0,
             "ticks": ""
            },
            "colorscale": [
             [
              0,
              "#0d0887"
             ],
             [
              0.1111111111111111,
              "#46039f"
             ],
             [
              0.2222222222222222,
              "#7201a8"
             ],
             [
              0.3333333333333333,
              "#9c179e"
             ],
             [
              0.4444444444444444,
              "#bd3786"
             ],
             [
              0.5555555555555556,
              "#d8576b"
             ],
             [
              0.6666666666666666,
              "#ed7953"
             ],
             [
              0.7777777777777778,
              "#fb9f3a"
             ],
             [
              0.8888888888888888,
              "#fdca26"
             ],
             [
              1,
              "#f0f921"
             ]
            ],
            "type": "surface"
           }
          ],
          "table": [
           {
            "cells": {
             "fill": {
              "color": "#EBF0F8"
             },
             "line": {
              "color": "white"
             }
            },
            "header": {
             "fill": {
              "color": "#C8D4E3"
             },
             "line": {
              "color": "white"
             }
            },
            "type": "table"
           }
          ]
         },
         "layout": {
          "annotationdefaults": {
           "arrowcolor": "#2a3f5f",
           "arrowhead": 0,
           "arrowwidth": 1
          },
          "autotypenumbers": "strict",
          "coloraxis": {
           "colorbar": {
            "outlinewidth": 0,
            "ticks": ""
           }
          },
          "colorscale": {
           "diverging": [
            [
             0,
             "#8e0152"
            ],
            [
             0.1,
             "#c51b7d"
            ],
            [
             0.2,
             "#de77ae"
            ],
            [
             0.3,
             "#f1b6da"
            ],
            [
             0.4,
             "#fde0ef"
            ],
            [
             0.5,
             "#f7f7f7"
            ],
            [
             0.6,
             "#e6f5d0"
            ],
            [
             0.7,
             "#b8e186"
            ],
            [
             0.8,
             "#7fbc41"
            ],
            [
             0.9,
             "#4d9221"
            ],
            [
             1,
             "#276419"
            ]
           ],
           "sequential": [
            [
             0,
             "#0d0887"
            ],
            [
             0.1111111111111111,
             "#46039f"
            ],
            [
             0.2222222222222222,
             "#7201a8"
            ],
            [
             0.3333333333333333,
             "#9c179e"
            ],
            [
             0.4444444444444444,
             "#bd3786"
            ],
            [
             0.5555555555555556,
             "#d8576b"
            ],
            [
             0.6666666666666666,
             "#ed7953"
            ],
            [
             0.7777777777777778,
             "#fb9f3a"
            ],
            [
             0.8888888888888888,
             "#fdca26"
            ],
            [
             1,
             "#f0f921"
            ]
           ],
           "sequentialminus": [
            [
             0,
             "#0d0887"
            ],
            [
             0.1111111111111111,
             "#46039f"
            ],
            [
             0.2222222222222222,
             "#7201a8"
            ],
            [
             0.3333333333333333,
             "#9c179e"
            ],
            [
             0.4444444444444444,
             "#bd3786"
            ],
            [
             0.5555555555555556,
             "#d8576b"
            ],
            [
             0.6666666666666666,
             "#ed7953"
            ],
            [
             0.7777777777777778,
             "#fb9f3a"
            ],
            [
             0.8888888888888888,
             "#fdca26"
            ],
            [
             1,
             "#f0f921"
            ]
           ]
          },
          "colorway": [
           "#636efa",
           "#EF553B",
           "#00cc96",
           "#ab63fa",
           "#FFA15A",
           "#19d3f3",
           "#FF6692",
           "#B6E880",
           "#FF97FF",
           "#FECB52"
          ],
          "font": {
           "color": "#2a3f5f"
          },
          "geo": {
           "bgcolor": "white",
           "lakecolor": "white",
           "landcolor": "#E5ECF6",
           "showlakes": true,
           "showland": true,
           "subunitcolor": "white"
          },
          "hoverlabel": {
           "align": "left"
          },
          "hovermode": "closest",
          "mapbox": {
           "style": "light"
          },
          "paper_bgcolor": "white",
          "plot_bgcolor": "#E5ECF6",
          "polar": {
           "angularaxis": {
            "gridcolor": "white",
            "linecolor": "white",
            "ticks": ""
           },
           "bgcolor": "#E5ECF6",
           "radialaxis": {
            "gridcolor": "white",
            "linecolor": "white",
            "ticks": ""
           }
          },
          "scene": {
           "xaxis": {
            "backgroundcolor": "#E5ECF6",
            "gridcolor": "white",
            "gridwidth": 2,
            "linecolor": "white",
            "showbackground": true,
            "ticks": "",
            "zerolinecolor": "white"
           },
           "yaxis": {
            "backgroundcolor": "#E5ECF6",
            "gridcolor": "white",
            "gridwidth": 2,
            "linecolor": "white",
            "showbackground": true,
            "ticks": "",
            "zerolinecolor": "white"
           },
           "zaxis": {
            "backgroundcolor": "#E5ECF6",
            "gridcolor": "white",
            "gridwidth": 2,
            "linecolor": "white",
            "showbackground": true,
            "ticks": "",
            "zerolinecolor": "white"
           }
          },
          "shapedefaults": {
           "line": {
            "color": "#2a3f5f"
           }
          },
          "ternary": {
           "aaxis": {
            "gridcolor": "white",
            "linecolor": "white",
            "ticks": ""
           },
           "baxis": {
            "gridcolor": "white",
            "linecolor": "white",
            "ticks": ""
           },
           "bgcolor": "#E5ECF6",
           "caxis": {
            "gridcolor": "white",
            "linecolor": "white",
            "ticks": ""
           }
          },
          "title": {
           "x": 0.05
          },
          "xaxis": {
           "automargin": true,
           "gridcolor": "white",
           "linecolor": "white",
           "ticks": "",
           "title": {
            "standoff": 15
           },
           "zerolinecolor": "white",
           "zerolinewidth": 2
          },
          "yaxis": {
           "automargin": true,
           "gridcolor": "white",
           "linecolor": "white",
           "ticks": "",
           "title": {
            "standoff": 15
           },
           "zerolinecolor": "white",
           "zerolinewidth": 2
          }
         }
        },
        "title": {
         "text": "XBP1s 37˚C vs. Basal 37˚C",
         "x": 0.5,
         "xanchor": "center",
         "y": 0.92
        },
        "xaxis": {
         "anchor": "y",
         "domain": [
          0,
          1
         ],
         "title": {
          "text": "log2FoldChange_XBP1s37/basal37"
         }
        },
        "yaxis": {
         "anchor": "x",
         "domain": [
          0,
          1
         ],
         "title": {
          "text": "-log10_pvalue_XBP1s37/basal37"
         }
        }
       }
      }
     },
     "metadata": {},
     "output_type": "display_data"
    },
    {
     "data": {
      "application/vnd.plotly.v1+json": {
       "config": {
        "plotlyServerURL": "https://plot.ly"
       },
       "data": [
        {
         "customdata": [
          [
           "CALR"
          ]
         ],
         "hovertemplate": "GeneSymbol=%{customdata[0]}<br>log2FoldChange_ATF6fXBP1s37/basal37=%{x}<br>-log10_pvalue_ATF6fXBP1s37/basal37=%{y}<extra></extra>",
         "legendgroup": "CALR",
         "marker": {
          "color": "#636efa",
          "symbol": "circle"
         },
         "mode": "markers",
         "name": "CALR",
         "orientation": "v",
         "showlegend": true,
         "type": "scatter",
         "x": [
          2.419909948
         ],
         "xaxis": "x",
         "y": [
          252.1068246
         ],
         "yaxis": "y"
        },
        {
         "customdata": [
          [
           "CANX"
          ]
         ],
         "hovertemplate": "GeneSymbol=%{customdata[0]}<br>log2FoldChange_ATF6fXBP1s37/basal37=%{x}<br>-log10_pvalue_ATF6fXBP1s37/basal37=%{y}<extra></extra>",
         "legendgroup": "CANX",
         "marker": {
          "color": "#EF553B",
          "symbol": "circle"
         },
         "mode": "markers",
         "name": "CANX",
         "orientation": "v",
         "showlegend": true,
         "type": "scatter",
         "x": [
          1.506927893
         ],
         "xaxis": "x",
         "y": [
          54.94316309
         ],
         "yaxis": "y"
        },
        {
         "customdata": [
          [
           "DNAJC3"
          ]
         ],
         "hovertemplate": "GeneSymbol=%{customdata[0]}<br>log2FoldChange_ATF6fXBP1s37/basal37=%{x}<br>-log10_pvalue_ATF6fXBP1s37/basal37=%{y}<extra></extra>",
         "legendgroup": "DNAJC3",
         "marker": {
          "color": "#00cc96",
          "symbol": "circle"
         },
         "mode": "markers",
         "name": "DNAJC3",
         "orientation": "v",
         "showlegend": true,
         "type": "scatter",
         "x": [
          2.365689522
         ],
         "xaxis": "x",
         "y": [
          77.47765012
         ],
         "yaxis": "y"
        },
        {
         "customdata": [
          [
           "ERO1A"
          ]
         ],
         "hovertemplate": "GeneSymbol=%{customdata[0]}<br>log2FoldChange_ATF6fXBP1s37/basal37=%{x}<br>-log10_pvalue_ATF6fXBP1s37/basal37=%{y}<extra></extra>",
         "legendgroup": "ERO1A",
         "marker": {
          "color": "#ab63fa",
          "symbol": "circle"
         },
         "mode": "markers",
         "name": "ERO1A",
         "orientation": "v",
         "showlegend": true,
         "type": "scatter",
         "x": [
          0.386165371
         ],
         "xaxis": "x",
         "y": [
          2.559852805
         ],
         "yaxis": "y"
        },
        {
         "customdata": [
          [
           "ERO1B"
          ]
         ],
         "hovertemplate": "GeneSymbol=%{customdata[0]}<br>log2FoldChange_ATF6fXBP1s37/basal37=%{x}<br>-log10_pvalue_ATF6fXBP1s37/basal37=%{y}<extra></extra>",
         "legendgroup": "ERO1B",
         "marker": {
          "color": "#FFA15A",
          "symbol": "circle"
         },
         "mode": "markers",
         "name": "ERO1B",
         "orientation": "v",
         "showlegend": true,
         "type": "scatter",
         "x": [
          1.985037015
         ],
         "xaxis": "x",
         "y": [
          34.85133324
         ],
         "yaxis": "y"
        },
        {
         "customdata": [
          [
           "HSP90B1"
          ]
         ],
         "hovertemplate": "GeneSymbol=%{customdata[0]}<br>log2FoldChange_ATF6fXBP1s37/basal37=%{x}<br>-log10_pvalue_ATF6fXBP1s37/basal37=%{y}<extra></extra>",
         "legendgroup": "HSP90B1",
         "marker": {
          "color": "#19d3f3",
          "symbol": "circle"
         },
         "mode": "markers",
         "name": "HSP90B1",
         "orientation": "v",
         "showlegend": true,
         "type": "scatter",
         "x": [
          3.441886293
         ],
         "xaxis": "x",
         "y": [
          252.1068246
         ],
         "yaxis": "y"
        },
        {
         "customdata": [
          [
           "HSPA5"
          ]
         ],
         "hovertemplate": "GeneSymbol=%{customdata[0]}<br>log2FoldChange_ATF6fXBP1s37/basal37=%{x}<br>-log10_pvalue_ATF6fXBP1s37/basal37=%{y}<extra></extra>",
         "legendgroup": "HSPA5",
         "marker": {
          "color": "#FF6692",
          "symbol": "circle"
         },
         "mode": "markers",
         "name": "HSPA5",
         "orientation": "v",
         "showlegend": true,
         "type": "scatter",
         "x": [
          3.945763315
         ],
         "xaxis": "x",
         "y": [
          252.1068246
         ],
         "yaxis": "y"
        },
        {
         "customdata": [
          [
           "P4HB"
          ]
         ],
         "hovertemplate": "GeneSymbol=%{customdata[0]}<br>log2FoldChange_ATF6fXBP1s37/basal37=%{x}<br>-log10_pvalue_ATF6fXBP1s37/basal37=%{y}<extra></extra>",
         "legendgroup": "P4HB",
         "marker": {
          "color": "#B6E880",
          "symbol": "circle"
         },
         "mode": "markers",
         "name": "P4HB",
         "orientation": "v",
         "showlegend": true,
         "type": "scatter",
         "x": [
          2.290182037
         ],
         "xaxis": "x",
         "y": [
          252.1068246
         ],
         "yaxis": "y"
        },
        {
         "customdata": [
          [
           "PDIA3"
          ]
         ],
         "hovertemplate": "GeneSymbol=%{customdata[0]}<br>log2FoldChange_ATF6fXBP1s37/basal37=%{x}<br>-log10_pvalue_ATF6fXBP1s37/basal37=%{y}<extra></extra>",
         "legendgroup": "PDIA3",
         "marker": {
          "color": "#FF97FF",
          "symbol": "circle"
         },
         "mode": "markers",
         "name": "PDIA3",
         "orientation": "v",
         "showlegend": true,
         "type": "scatter",
         "x": [
          2.091015133
         ],
         "xaxis": "x",
         "y": [
          252.1068246
         ],
         "yaxis": "y"
        },
        {
         "customdata": [
          [
           "VAPA"
          ]
         ],
         "hovertemplate": "GeneSymbol=%{customdata[0]}<br>log2FoldChange_ATF6fXBP1s37/basal37=%{x}<br>-log10_pvalue_ATF6fXBP1s37/basal37=%{y}<extra></extra>",
         "legendgroup": "VAPA",
         "marker": {
          "color": "#FECB52",
          "symbol": "circle"
         },
         "mode": "markers",
         "name": "VAPA",
         "orientation": "v",
         "showlegend": true,
         "type": "scatter",
         "x": [
          0.017851961
         ],
         "xaxis": "x",
         "y": [
          0.101756276
         ],
         "yaxis": "y"
        }
       ],
       "layout": {
        "legend": {
         "title": {
          "text": "GeneSymbol"
         },
         "tracegroupgap": 0
        },
        "margin": {
         "t": 60
        },
        "template": {
         "data": {
          "bar": [
           {
            "error_x": {
             "color": "#2a3f5f"
            },
            "error_y": {
             "color": "#2a3f5f"
            },
            "marker": {
             "line": {
              "color": "#E5ECF6",
              "width": 0.5
             },
             "pattern": {
              "fillmode": "overlay",
              "size": 10,
              "solidity": 0.2
             }
            },
            "type": "bar"
           }
          ],
          "barpolar": [
           {
            "marker": {
             "line": {
              "color": "#E5ECF6",
              "width": 0.5
             },
             "pattern": {
              "fillmode": "overlay",
              "size": 10,
              "solidity": 0.2
             }
            },
            "type": "barpolar"
           }
          ],
          "carpet": [
           {
            "aaxis": {
             "endlinecolor": "#2a3f5f",
             "gridcolor": "white",
             "linecolor": "white",
             "minorgridcolor": "white",
             "startlinecolor": "#2a3f5f"
            },
            "baxis": {
             "endlinecolor": "#2a3f5f",
             "gridcolor": "white",
             "linecolor": "white",
             "minorgridcolor": "white",
             "startlinecolor": "#2a3f5f"
            },
            "type": "carpet"
           }
          ],
          "choropleth": [
           {
            "colorbar": {
             "outlinewidth": 0,
             "ticks": ""
            },
            "type": "choropleth"
           }
          ],
          "contour": [
           {
            "colorbar": {
             "outlinewidth": 0,
             "ticks": ""
            },
            "colorscale": [
             [
              0,
              "#0d0887"
             ],
             [
              0.1111111111111111,
              "#46039f"
             ],
             [
              0.2222222222222222,
              "#7201a8"
             ],
             [
              0.3333333333333333,
              "#9c179e"
             ],
             [
              0.4444444444444444,
              "#bd3786"
             ],
             [
              0.5555555555555556,
              "#d8576b"
             ],
             [
              0.6666666666666666,
              "#ed7953"
             ],
             [
              0.7777777777777778,
              "#fb9f3a"
             ],
             [
              0.8888888888888888,
              "#fdca26"
             ],
             [
              1,
              "#f0f921"
             ]
            ],
            "type": "contour"
           }
          ],
          "contourcarpet": [
           {
            "colorbar": {
             "outlinewidth": 0,
             "ticks": ""
            },
            "type": "contourcarpet"
           }
          ],
          "heatmap": [
           {
            "colorbar": {
             "outlinewidth": 0,
             "ticks": ""
            },
            "colorscale": [
             [
              0,
              "#0d0887"
             ],
             [
              0.1111111111111111,
              "#46039f"
             ],
             [
              0.2222222222222222,
              "#7201a8"
             ],
             [
              0.3333333333333333,
              "#9c179e"
             ],
             [
              0.4444444444444444,
              "#bd3786"
             ],
             [
              0.5555555555555556,
              "#d8576b"
             ],
             [
              0.6666666666666666,
              "#ed7953"
             ],
             [
              0.7777777777777778,
              "#fb9f3a"
             ],
             [
              0.8888888888888888,
              "#fdca26"
             ],
             [
              1,
              "#f0f921"
             ]
            ],
            "type": "heatmap"
           }
          ],
          "heatmapgl": [
           {
            "colorbar": {
             "outlinewidth": 0,
             "ticks": ""
            },
            "colorscale": [
             [
              0,
              "#0d0887"
             ],
             [
              0.1111111111111111,
              "#46039f"
             ],
             [
              0.2222222222222222,
              "#7201a8"
             ],
             [
              0.3333333333333333,
              "#9c179e"
             ],
             [
              0.4444444444444444,
              "#bd3786"
             ],
             [
              0.5555555555555556,
              "#d8576b"
             ],
             [
              0.6666666666666666,
              "#ed7953"
             ],
             [
              0.7777777777777778,
              "#fb9f3a"
             ],
             [
              0.8888888888888888,
              "#fdca26"
             ],
             [
              1,
              "#f0f921"
             ]
            ],
            "type": "heatmapgl"
           }
          ],
          "histogram": [
           {
            "marker": {
             "pattern": {
              "fillmode": "overlay",
              "size": 10,
              "solidity": 0.2
             }
            },
            "type": "histogram"
           }
          ],
          "histogram2d": [
           {
            "colorbar": {
             "outlinewidth": 0,
             "ticks": ""
            },
            "colorscale": [
             [
              0,
              "#0d0887"
             ],
             [
              0.1111111111111111,
              "#46039f"
             ],
             [
              0.2222222222222222,
              "#7201a8"
             ],
             [
              0.3333333333333333,
              "#9c179e"
             ],
             [
              0.4444444444444444,
              "#bd3786"
             ],
             [
              0.5555555555555556,
              "#d8576b"
             ],
             [
              0.6666666666666666,
              "#ed7953"
             ],
             [
              0.7777777777777778,
              "#fb9f3a"
             ],
             [
              0.8888888888888888,
              "#fdca26"
             ],
             [
              1,
              "#f0f921"
             ]
            ],
            "type": "histogram2d"
           }
          ],
          "histogram2dcontour": [
           {
            "colorbar": {
             "outlinewidth": 0,
             "ticks": ""
            },
            "colorscale": [
             [
              0,
              "#0d0887"
             ],
             [
              0.1111111111111111,
              "#46039f"
             ],
             [
              0.2222222222222222,
              "#7201a8"
             ],
             [
              0.3333333333333333,
              "#9c179e"
             ],
             [
              0.4444444444444444,
              "#bd3786"
             ],
             [
              0.5555555555555556,
              "#d8576b"
             ],
             [
              0.6666666666666666,
              "#ed7953"
             ],
             [
              0.7777777777777778,
              "#fb9f3a"
             ],
             [
              0.8888888888888888,
              "#fdca26"
             ],
             [
              1,
              "#f0f921"
             ]
            ],
            "type": "histogram2dcontour"
           }
          ],
          "mesh3d": [
           {
            "colorbar": {
             "outlinewidth": 0,
             "ticks": ""
            },
            "type": "mesh3d"
           }
          ],
          "parcoords": [
           {
            "line": {
             "colorbar": {
              "outlinewidth": 0,
              "ticks": ""
             }
            },
            "type": "parcoords"
           }
          ],
          "pie": [
           {
            "automargin": true,
            "type": "pie"
           }
          ],
          "scatter": [
           {
            "marker": {
             "colorbar": {
              "outlinewidth": 0,
              "ticks": ""
             }
            },
            "type": "scatter"
           }
          ],
          "scatter3d": [
           {
            "line": {
             "colorbar": {
              "outlinewidth": 0,
              "ticks": ""
             }
            },
            "marker": {
             "colorbar": {
              "outlinewidth": 0,
              "ticks": ""
             }
            },
            "type": "scatter3d"
           }
          ],
          "scattercarpet": [
           {
            "marker": {
             "colorbar": {
              "outlinewidth": 0,
              "ticks": ""
             }
            },
            "type": "scattercarpet"
           }
          ],
          "scattergeo": [
           {
            "marker": {
             "colorbar": {
              "outlinewidth": 0,
              "ticks": ""
             }
            },
            "type": "scattergeo"
           }
          ],
          "scattergl": [
           {
            "marker": {
             "colorbar": {
              "outlinewidth": 0,
              "ticks": ""
             }
            },
            "type": "scattergl"
           }
          ],
          "scattermapbox": [
           {
            "marker": {
             "colorbar": {
              "outlinewidth": 0,
              "ticks": ""
             }
            },
            "type": "scattermapbox"
           }
          ],
          "scatterpolar": [
           {
            "marker": {
             "colorbar": {
              "outlinewidth": 0,
              "ticks": ""
             }
            },
            "type": "scatterpolar"
           }
          ],
          "scatterpolargl": [
           {
            "marker": {
             "colorbar": {
              "outlinewidth": 0,
              "ticks": ""
             }
            },
            "type": "scatterpolargl"
           }
          ],
          "scatterternary": [
           {
            "marker": {
             "colorbar": {
              "outlinewidth": 0,
              "ticks": ""
             }
            },
            "type": "scatterternary"
           }
          ],
          "surface": [
           {
            "colorbar": {
             "outlinewidth": 0,
             "ticks": ""
            },
            "colorscale": [
             [
              0,
              "#0d0887"
             ],
             [
              0.1111111111111111,
              "#46039f"
             ],
             [
              0.2222222222222222,
              "#7201a8"
             ],
             [
              0.3333333333333333,
              "#9c179e"
             ],
             [
              0.4444444444444444,
              "#bd3786"
             ],
             [
              0.5555555555555556,
              "#d8576b"
             ],
             [
              0.6666666666666666,
              "#ed7953"
             ],
             [
              0.7777777777777778,
              "#fb9f3a"
             ],
             [
              0.8888888888888888,
              "#fdca26"
             ],
             [
              1,
              "#f0f921"
             ]
            ],
            "type": "surface"
           }
          ],
          "table": [
           {
            "cells": {
             "fill": {
              "color": "#EBF0F8"
             },
             "line": {
              "color": "white"
             }
            },
            "header": {
             "fill": {
              "color": "#C8D4E3"
             },
             "line": {
              "color": "white"
             }
            },
            "type": "table"
           }
          ]
         },
         "layout": {
          "annotationdefaults": {
           "arrowcolor": "#2a3f5f",
           "arrowhead": 0,
           "arrowwidth": 1
          },
          "autotypenumbers": "strict",
          "coloraxis": {
           "colorbar": {
            "outlinewidth": 0,
            "ticks": ""
           }
          },
          "colorscale": {
           "diverging": [
            [
             0,
             "#8e0152"
            ],
            [
             0.1,
             "#c51b7d"
            ],
            [
             0.2,
             "#de77ae"
            ],
            [
             0.3,
             "#f1b6da"
            ],
            [
             0.4,
             "#fde0ef"
            ],
            [
             0.5,
             "#f7f7f7"
            ],
            [
             0.6,
             "#e6f5d0"
            ],
            [
             0.7,
             "#b8e186"
            ],
            [
             0.8,
             "#7fbc41"
            ],
            [
             0.9,
             "#4d9221"
            ],
            [
             1,
             "#276419"
            ]
           ],
           "sequential": [
            [
             0,
             "#0d0887"
            ],
            [
             0.1111111111111111,
             "#46039f"
            ],
            [
             0.2222222222222222,
             "#7201a8"
            ],
            [
             0.3333333333333333,
             "#9c179e"
            ],
            [
             0.4444444444444444,
             "#bd3786"
            ],
            [
             0.5555555555555556,
             "#d8576b"
            ],
            [
             0.6666666666666666,
             "#ed7953"
            ],
            [
             0.7777777777777778,
             "#fb9f3a"
            ],
            [
             0.8888888888888888,
             "#fdca26"
            ],
            [
             1,
             "#f0f921"
            ]
           ],
           "sequentialminus": [
            [
             0,
             "#0d0887"
            ],
            [
             0.1111111111111111,
             "#46039f"
            ],
            [
             0.2222222222222222,
             "#7201a8"
            ],
            [
             0.3333333333333333,
             "#9c179e"
            ],
            [
             0.4444444444444444,
             "#bd3786"
            ],
            [
             0.5555555555555556,
             "#d8576b"
            ],
            [
             0.6666666666666666,
             "#ed7953"
            ],
            [
             0.7777777777777778,
             "#fb9f3a"
            ],
            [
             0.8888888888888888,
             "#fdca26"
            ],
            [
             1,
             "#f0f921"
            ]
           ]
          },
          "colorway": [
           "#636efa",
           "#EF553B",
           "#00cc96",
           "#ab63fa",
           "#FFA15A",
           "#19d3f3",
           "#FF6692",
           "#B6E880",
           "#FF97FF",
           "#FECB52"
          ],
          "font": {
           "color": "#2a3f5f"
          },
          "geo": {
           "bgcolor": "white",
           "lakecolor": "white",
           "landcolor": "#E5ECF6",
           "showlakes": true,
           "showland": true,
           "subunitcolor": "white"
          },
          "hoverlabel": {
           "align": "left"
          },
          "hovermode": "closest",
          "mapbox": {
           "style": "light"
          },
          "paper_bgcolor": "white",
          "plot_bgcolor": "#E5ECF6",
          "polar": {
           "angularaxis": {
            "gridcolor": "white",
            "linecolor": "white",
            "ticks": ""
           },
           "bgcolor": "#E5ECF6",
           "radialaxis": {
            "gridcolor": "white",
            "linecolor": "white",
            "ticks": ""
           }
          },
          "scene": {
           "xaxis": {
            "backgroundcolor": "#E5ECF6",
            "gridcolor": "white",
            "gridwidth": 2,
            "linecolor": "white",
            "showbackground": true,
            "ticks": "",
            "zerolinecolor": "white"
           },
           "yaxis": {
            "backgroundcolor": "#E5ECF6",
            "gridcolor": "white",
            "gridwidth": 2,
            "linecolor": "white",
            "showbackground": true,
            "ticks": "",
            "zerolinecolor": "white"
           },
           "zaxis": {
            "backgroundcolor": "#E5ECF6",
            "gridcolor": "white",
            "gridwidth": 2,
            "linecolor": "white",
            "showbackground": true,
            "ticks": "",
            "zerolinecolor": "white"
           }
          },
          "shapedefaults": {
           "line": {
            "color": "#2a3f5f"
           }
          },
          "ternary": {
           "aaxis": {
            "gridcolor": "white",
            "linecolor": "white",
            "ticks": ""
           },
           "baxis": {
            "gridcolor": "white",
            "linecolor": "white",
            "ticks": ""
           },
           "bgcolor": "#E5ECF6",
           "caxis": {
            "gridcolor": "white",
            "linecolor": "white",
            "ticks": ""
           }
          },
          "title": {
           "x": 0.05
          },
          "xaxis": {
           "automargin": true,
           "gridcolor": "white",
           "linecolor": "white",
           "ticks": "",
           "title": {
            "standoff": 15
           },
           "zerolinecolor": "white",
           "zerolinewidth": 2
          },
          "yaxis": {
           "automargin": true,
           "gridcolor": "white",
           "linecolor": "white",
           "ticks": "",
           "title": {
            "standoff": 15
           },
           "zerolinecolor": "white",
           "zerolinewidth": 2
          }
         }
        },
        "title": {
         "text": "ATF6/XBP1s 37˚C vs. Basal 37˚C",
         "x": 0.5,
         "xanchor": "center",
         "y": 0.92
        },
        "xaxis": {
         "anchor": "y",
         "domain": [
          0,
          1
         ],
         "title": {
          "text": "log2FoldChange_ATF6fXBP1s37/basal37"
         }
        },
        "yaxis": {
         "anchor": "x",
         "domain": [
          0,
          1
         ],
         "title": {
          "text": "-log10_pvalue_ATF6fXBP1s37/basal37"
         }
        }
       }
      }
     },
     "metadata": {},
     "output_type": "display_data"
    }
   ],
   "source": [
    "# Create the interactive plot with Plotly\n",
    "fig = px.scatter(filtered_elife_data, \n",
    "                 x='log2FoldChange_XBP1s37/basal37', \n",
    "                 y='-log10_pvalue_XBP1s37/basal37', \n",
    "                 color='GeneSymbol',\n",
    "                 hover_data=['GeneSymbol'])\n",
    "\n",
    "# Add and center the title for the first plot\n",
    "fig.update_layout(title={'text': 'XBP1s 37˚C vs. Basal 37˚C', 'x':0.5, 'y':0.92, 'xanchor': 'center'})\n",
    "\n",
    "# Show the plot\n",
    "fig.show()\n",
    "\n",
    "# Create the interactive plot with Plotly\n",
    "fig = px.scatter(filtered_elife_data, \n",
    "                 x='log2FoldChange_ATF6fXBP1s37/basal37', \n",
    "                 y='-log10_pvalue_ATF6fXBP1s37/basal37', \n",
    "                 color='GeneSymbol',\n",
    "                 hover_data=['GeneSymbol'])\n",
    "\n",
    "# Add and center the title for the first plot\n",
    "fig.update_layout(title={'text': 'ATF6/XBP1s 37˚C vs. Basal 37˚C', 'x':0.5, 'y':0.92, 'xanchor': 'center'})\n",
    "\n",
    "# Show the plot\n",
    "fig.show()"
   ]
  },
  {
   "cell_type": "code",
   "execution_count": 28,
   "id": "da4e5b54",
   "metadata": {},
   "outputs": [
    {
     "data": {
      "image/png": "[encoded data removed]",
      "text/plain": [
       "<Figure size 1152x360 with 2 Axes>"
      ]
     },
     "metadata": {
      "needs_background": "light"
     },
     "output_type": "display_data"
    }
   ],
   "source": [
    "# Create a figure and a set of subplots\n",
    "fig, axs = plt.subplots(1, 2, figsize=(16, 5))  # 1 row, 2 columns\n",
    "\n",
    "# First scatter plot\n",
    "scatter1 = sns.scatterplot(ax=axs[0], \n",
    "                           data=filtered_elife_data, \n",
    "                           x='log2FoldChange_XBP1s37/basal37', \n",
    "                           y='-log10_pvalue_XBP1s37/basal37', \n",
    "                           hue='GeneSymbol')\n",
    "\n",
    "# Add title to the first subplot\n",
    "axs[0].set_title(\"XBP1s 37 ˚C vs. Basal 37 ˚C\")\n",
    "\n",
    "# Remove the first plot's legend\n",
    "scatter1.legend_.remove()\n",
    "\n",
    "# Second scatter plot\n",
    "scatter2 = sns.scatterplot(ax=axs[1], \n",
    "                           data=filtered_elife_data, \n",
    "                           x='log2FoldChange_ATF6fXBP1s37/basal37', \n",
    "                           y='-log10_pvalue_ATF6fXBP1s37/basal37', \n",
    "                           hue='GeneSymbol')\n",
    "\n",
    "axs[1].set_title(\"ATF6f/XBP1s 37 ˚C vs. Basal 37 ˚C\")\n",
    "\n",
    "# Remove the second plot's legend\n",
    "scatter2.legend_.remove()\n",
    "\n",
    "# Get handles and labels from one of the plots for the shared legend\n",
    "handles, labels = scatter1.get_legend_handles_labels()\n",
    "\n",
    "# Create a shared legend for the figure\n",
    "fig.legend(handles, labels, loc='center left', bbox_to_anchor=(1.02, 0.55), borderaxespad=0.)\n",
    "\n",
    "# Adjust layout\n",
    "plt.tight_layout()\n",
    "\n",
    "plt.show()\n"
   ]
  },
  {
   "cell_type": "code",
   "execution_count": 38,
   "id": "54eaef3d",
   "metadata": {},
   "outputs": [
    {
     "data": {
      "image/png": "[encoded data removed]",
      "text/plain": [
       "<Figure size 432x288 with 1 Axes>"
      ]
     },
     "metadata": {
      "needs_background": "light"
     },
     "output_type": "display_data"
    }
   ],
   "source": [
    "import matplotlib.pyplot as plt\n",
    "import seaborn as sns\n",
    "\n",
    "# Create a figure\n",
    "plt.figure(figsize=(6, 4))\n",
    "\n",
    "# Second scatter plot\n",
    "scatter2 = sns.scatterplot(data=filtered_elife_data, \n",
    "                           x='log2FoldChange_ATF6fXBP1s37/basal37', \n",
    "                           y='-log10_pvalue_ATF6fXBP1s37/basal37', \n",
    "                           hue='GeneSymbol')\n",
    "\n",
    "# Set custom axis labels and title\n",
    "scatter2.set_xlabel(\"\")\n",
    "scatter2.set_ylabel(\"\")\n",
    "scatter2.set_title(\"\")\n",
    "\n",
    "# Change the font size of the axis ticks\n",
    "scatter2.tick_params(axis='x', labelsize=12)\n",
    "scatter2.tick_params(axis='y', labelsize=12)\n",
    "\n",
    "\n",
    "# Adjust layout\n",
    "plt.tight_layout()\n",
    "\n",
    "# Save the plot as a PDF\n",
    "plt.savefig('ATF6f_XBP1s_vs_Basal.pdf', format='pdf')\n",
    "\n",
    "# Show the plot\n",
    "plt.show()\n"
   ]
  }
 ],
 "metadata": {
  "kernelspec": {
   "display_name": "Python 3 (ipykernel)",
   "language": "python",
   "name": "python3"
  },
  "language_info": {
   "codemirror_mode": {
    "name": "ipython",
    "version": 3
   },
   "file_extension": ".py",
   "mimetype": "text/x-python",
   "name": "python",
   "nbconvert_exporter": "python",
   "pygments_lexer": "ipython3",
   "version": "3.9.-1"
  }
 },
 "nbformat": 4,
 "nbformat_minor": 5
}
