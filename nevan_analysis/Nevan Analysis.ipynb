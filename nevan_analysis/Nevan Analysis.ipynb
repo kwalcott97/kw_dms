{
 "cells": [
  {
   "cell_type": "code",
   "execution_count": 1,
   "id": "cdcde594",
   "metadata": {},
   "outputs": [
    {
     "name": "stdout",
     "output_type": "stream",
     "text": [
      "/Users/keith_tetrad\n"
     ]
    }
   ],
   "source": [
    "cd"
   ]
  },
  {
   "cell_type": "code",
   "execution_count": 2,
   "id": "f2cd75f1",
   "metadata": {},
   "outputs": [],
   "source": [
    "import numpy as np\n",
    "import pandas as pd\n",
    "import seaborn as sns\n",
    "import matplotlib.pyplot as plt\n",
    "from bioservices import QuickGO\n",
    "quickgo = QuickGO()"
   ]
  },
  {
   "cell_type": "code",
   "execution_count": 3,
   "id": "1d112b83",
   "metadata": {},
   "outputs": [],
   "source": [
    "import matplotlib.pyplot as plt"
   ]
  },
  {
   "cell_type": "code",
   "execution_count": 4,
   "id": "11edb07c",
   "metadata": {},
   "outputs": [
    {
     "data": {
      "text/html": [
       "<style>.container { width:95% !important; }</style>"
      ],
      "text/plain": [
       "<IPython.core.display.HTML object>"
      ]
     },
     "metadata": {},
     "output_type": "display_data"
    }
   ],
   "source": [
    "from IPython.display import display, HTML\n",
    "display(HTML(\"<style>.container { width:95% !important; }</style>\"))\n",
    "\n",
    "pd.set_option('display.max_colwidth', 200)\n",
    "pd.set_option('display.max_columns', None)\n",
    "pd.set_option('display.width', 1000)\n",
    "pd.set_option('expand_frame_repr', False)\n"
   ]
  },
  {
   "cell_type": "code",
   "execution_count": 5,
   "id": "d33dc743",
   "metadata": {},
   "outputs": [],
   "source": [
    "apms_data = pd.DataFrame(pd.read_csv('kw_dms/nevan analysis/1-s2.0-S0092867423009157-mmc3(1).csv', delimiter=','))"
   ]
  },
  {
   "cell_type": "code",
   "execution_count": 6,
   "id": "1eb88c0a",
   "metadata": {},
   "outputs": [],
   "source": [
    "# Filter for rows where any of the specified columns is True\n",
    "flag_apms_data = apms_data.loc[apms_data[['flag_SaintandMist_final', 'flag_Saint_final', 'flag_SaintandMistorNatureSaint_final']].any(axis=1)].reset_index(drop=True)"
   ]
  },
  {
   "cell_type": "code",
   "execution_count": 7,
   "id": "e46380cb",
   "metadata": {},
   "outputs": [],
   "source": [
    "def go_term(go_id):\n",
    "    # Define parameters\n",
    "    taxon_id = \"9606\"  # Taxonomy ID for Homo sapiens\n",
    "    go_id = go_id # GO term\n",
    "    \n",
    "    # Fetch annotations\n",
    "    annotations = quickgo.Annotation(taxonId=taxon_id, goId=go_id)\n",
    "\n",
    "    # Extract results\n",
    "    results = annotations['results']\n",
    "\n",
    "    # Extract gene products using 'symbol' key\n",
    "    gene_products = [result['symbol'] for result in results if result.get('symbol')]\n",
    "\n",
    "    # Extract gene products using 'symbol' key and add them to a list\n",
    "    gene_products = [result['symbol'] for result in results if result.get('symbol')]\n",
    "\n",
    "    # Convert the list to a set to remove duplicates, and then back to a list\n",
    "    unique_gene_products = list(set(gene_products))\n",
    "    \n",
    "    return unique_gene_products\n",
    "\n",
    "def go_term_mask(mask):\n",
    "\n",
    "    # Create a boolean mask\n",
    "    mask = flag_apms_data['PreyGene'].apply(lambda x: any(word in x for word in mask))\n",
    "    \n",
    "    return flag_apms_data[mask]"
   ]
  },
  {
   "cell_type": "code",
   "execution_count": 8,
   "id": "44cf6a06",
   "metadata": {},
   "outputs": [],
   "source": [
    "#ATP-dependent protein folding chaperone\n",
    "GO_0140662 = go_term('GO:0140662')\n",
    "ATP = go_term_mask(GO_0140662)\n",
    "\n",
    "#protein folding in endoplasmic reticulum\n",
    "GO_0034975 = go_term('GO:0034975')\n",
    "ER = go_term_mask(GO_0034975)\n",
    "\n",
    "#protein folding chaperone\n",
    "GO_0044183 = go_term('GO:0044183')\n",
    "all_chaps = go_term_mask(GO_0044183)"
   ]
  },
  {
   "cell_type": "code",
   "execution_count": 9,
   "id": "7ad4b8b7",
   "metadata": {
    "scrolled": true
   },
   "outputs": [],
   "source": [
    "# Group by the 'ViralProtein' and aggregate unique values in 'PreyGene'\n",
    "grouped = ATP.groupby('ViralProtein')['PreyGene'].unique()\n",
    "\n",
    "# Group by both 'variant' and 'ViralProtein', then aggregate unique values in 'PreyGene'\n",
    "grouped_byvariant = ER.groupby(['ViralProtein','Variant'])['PreyGene'].unique()"
   ]
  },
  {
   "cell_type": "code",
   "execution_count": 10,
   "id": "c5728607",
   "metadata": {},
   "outputs": [],
   "source": [
    "#extract a list of unique PreyGenes\n",
    "unique_ER = ER['PreyGene'].unique()\n",
    "unique_ATP = ATP['PreyGene'].unique()\n",
    "unique_all_chaps = all_chaps['PreyGene'].unique()\n",
    "\n",
    "# Combine and find unique values\n",
    "combined_unique = np.concatenate((unique_ER, unique_ATP, unique_all_chaps))\n",
    "unique_chaps = np.unique(combined_unique)\n",
    "\n",
    "chunk_size = 10000  # Adjust based on your memory constraints\n",
    "normal_tissue_data = pd.DataFrame()  # Initialize an empty DataFrame for the filtered data\n",
    "rna_single_cell_data = pd.DataFrame()\n",
    "\n",
    "for chunk in pd.read_csv('kw_dms/nevan analysis/normal_tissue.tsv', sep='\\t', chunksize=chunk_size):\n",
    "    # Filter the chunk\n",
    "    filtered_chunk = chunk[chunk['Gene name'].isin(unique_chaps)]\n",
    "    # Append the filtered chunk to the DataFrame\n",
    "    normal_tissue_data = pd.concat([normal_tissue_data, filtered_chunk])\n",
    "\n",
    "for chunk in pd.read_csv('kw_dms/nevan analysis/rna_single_cell_type.tsv', sep='\\t', chunksize=chunk_size):\n",
    "    # Filter the chunk\n",
    "    filtered_chunk = chunk[chunk['Gene name'].isin(unique_chaps)]\n",
    "    # Append the filtered chunk to the DataFrame\n",
    "    rna_single_cell_data = pd.concat([rna_single_cell_data, filtered_chunk])\n",
    "    "
   ]
  },
  {
   "cell_type": "code",
   "execution_count": 11,
   "id": "852acaa6",
   "metadata": {
    "scrolled": true
   },
   "outputs": [],
   "source": [
    "unique_tissue_cells = normal_tissue_data.groupby('Tissue')['Cell type'].unique()\n",
    "unique_RNA_cells = rna_single_cell_data['Cell type'].unique()\n",
    "\n",
    "# for tissue, cell_types in unique_tissue_cells.items():\n",
    "#     print(f\"{tissue}: {', '.join(cell_types)}\")\n",
    "#     print('\\n')\n",
    "    \n",
    "# with open('tissue_cell_types.txt', 'w') as file:\n",
    "#     for tissue, cell_types in unique_tissue_cells.items():\n",
    "#         file.write(f\"{tissue}: {', '.join(cell_types)}\\n\")\n",
    "#         file.write('\\n')  # This adds an empty line after each tissue\n"
   ]
  },
  {
   "cell_type": "code",
   "execution_count": 12,
   "id": "3a735d86",
   "metadata": {},
   "outputs": [],
   "source": [
    "tissue_cell_types = {\n",
    "    'bronchus': ['respiratory epithelial cells', 'basal cells', 'Basal respiratory cells', 'Ciliated cells', 'ciliated cells (cell body)', 'ciliated cells (cilia axoneme)', 'ciliated cells (ciliary rootlets)', 'ciliated cells (tip of cilia)', 'goblet cells'],\n",
    "    'kidney': ['cells in tubules', 'collecting ducts'],\n",
    "    'lung': ['alveolar cells type I', 'alveolar cells type II', 'endothelial cells', 'alveolar cells'],\n",
    "    'pancreas': ['exocrine glandular cells', 'pancreatic endocrine cells'],\n",
    "    'skin': ['Basal keratinocytes', 'Basal squamous epithelial cells']\n",
    "}\n",
    "\n",
    "# Filter for only tissue/cell type combinations\n",
    "def filter_combinations(row):\n",
    "    tissue = row['Tissue']\n",
    "    cell_type = row['Cell type']\n",
    "    return cell_type in tissue_cell_types.get(tissue, [])\n",
    "\n",
    "# Filter the DataFrame\n",
    "tissue_SARS_filtered = normal_tissue_data[normal_tissue_data.apply(filter_combinations, axis=1)].reset_index(drop=True)\n",
    "\n",
    "# Aggregate all unique cell types from the dictionary\n",
    "all_cell_types = set()\n",
    "for cell_types in tissue_cell_types.values():\n",
    "    all_cell_types.update(cell_types)\n",
    "\n",
    "# Cleaning up cell type names (some of this may not be biologically correct)\n",
    "replacements = {\n",
    "    'Alveolar cells type 1': 'alveolar cells type I',\n",
    "    'Alveolar cells type 2': 'alveolar cells type II',\n",
    "    'Collecting duct cells': 'collecting ducts',\n",
    "    'Endothelial cells': 'endothelial cells',\n",
    "    'Exocrine glandular cells': 'exocrine glandular cells',\n",
    "    'Pancreatic endocrine cells': 'pancreatic endocrine cells'\n",
    "}\n",
    "rna_single_cell_data['Cell type'] = rna_single_cell_data['Cell type'].replace(replacements)\n",
    "\n",
    "# Filter rna_single_cell_data based on the cell types\n",
    "rna_single_cell_SARS_filtered = rna_single_cell_data[rna_single_cell_data['Cell type'].isin(all_cell_types)].reset_index(drop=True)\n"
   ]
  },
  {
   "cell_type": "code",
   "execution_count": 13,
   "id": "29a1fd54",
   "metadata": {},
   "outputs": [
    {
     "data": {
      "text/plain": [
       "ViralProtein\n",
       "E                                                                       [CANX]\n",
       "M                                                                 [CANX, VAPA]\n",
       "N                                                       [HSPA5, HSP90B1, CANX]\n",
       "S                                           [HSPA5, CANX, P4HB, HSP90B1, CALR]\n",
       "nsp12                                                                   [CANX]\n",
       "nsp13                                                          [P4HB, HSP90B1]\n",
       "nsp2                                                             [HSPA5, CANX]\n",
       "nsp3                    [HSP90B1, CANX, P4HB, HSPA5, CALR, DNAJC3, EMC1, EMC3]\n",
       "nsp4                                                             [HSPA5, CANX]\n",
       "nsp6                                                                    [CANX]\n",
       "orf3a                                                            [VAPA, HSPA5]\n",
       "orf7a                                                             [P4HB, CANX]\n",
       "orf7b                                                             [CANX, VAPA]\n",
       "orf8     [P4HB, HSPA5, HSP90B1, CALR, CANX, PDIA3, DNAJC3, EMC1, ERO1A, ERO1B]\n",
       "orf9b                                                                  [HSPA5]\n",
       "Name: PreyGene, dtype: object"
      ]
     },
     "execution_count": 13,
     "metadata": {},
     "output_type": "execute_result"
    }
   ],
   "source": [
    "# Group by the 'ViralProtein' and aggregate unique values in 'PreyGene'\n",
    "grouped = ER.groupby('ViralProtein')['PreyGene'].unique()\n",
    "grouped"
   ]
  },
  {
   "cell_type": "code",
   "execution_count": 14,
   "id": "f0aca9e4",
   "metadata": {
    "scrolled": false
   },
   "outputs": [
    {
     "name": "stdout",
     "output_type": "stream",
     "text": [
      "protein immunohistochemistry data\n",
      "                Gene Gene name    Tissue                   Cell type         Level Reliability\n",
      "118  ENSG00000179218      CALR    kidney            cells in tubules          High    Enhanced\n",
      "119  ENSG00000179218      CALR      lung       alveolar cells type I  Not detected    Enhanced\n",
      "120  ENSG00000179218      CALR      lung      alveolar cells type II        Medium    Enhanced\n",
      "121  ENSG00000179218      CALR      lung           endothelial cells  Not detected    Enhanced\n",
      "122  ENSG00000179218      CALR  pancreas    exocrine glandular cells          High    Enhanced\n",
      "123  ENSG00000179218      CALR  pancreas  pancreatic endocrine cells        Medium    Enhanced\n"
     ]
    },
    {
     "data": {
      "image/png": "[encoded data removed]",
      "text/plain": [
       "<Figure size 432x288 with 1 Axes>"
      ]
     },
     "metadata": {
      "needs_background": "light"
     },
     "output_type": "display_data"
    }
   ],
   "source": [
    "# Define the specific gene you are interested in\n",
    "specific_gene = 'CALR'  # Replace with the actual gene identifier\n",
    "\n",
    "# Filter the DataFrame for the specific gene\n",
    "specific_gene_tissue = tissue_SARS_filtered[tissue_SARS_filtered['Gene name'] == specific_gene]\n",
    "specific_gene_rna = rna_single_cell_SARS_filtered[rna_single_cell_SARS_filtered['Gene name'] == specific_gene]\n",
    "# Print the results\n",
    "print('protein immunohistochemistry data')\n",
    "print(specific_gene_tissue)\n",
    "\n",
    "# Create the barplot with a uniform color\n",
    "sns.barplot(data=specific_gene_rna, x='Cell type', y='nTPM', color='skyblue')\n",
    "plt.xticks(rotation=-30, ha='left')\n",
    "plt.title('Single cell RNA seq data', fontsize=10)\n",
    "\n",
    "plt.show()"
   ]
  },
  {
   "cell_type": "code",
   "execution_count": null,
   "id": "4b193038",
   "metadata": {},
   "outputs": [],
   "source": [
    "#pull rnaseq data from angelas work here: https://elifesciences.org/articles/38795/figures#fig2s1"
   ]
  }
 ],
 "metadata": {
  "kernelspec": {
   "display_name": "Python 3 (ipykernel)",
   "language": "python",
   "name": "python3"
  },
  "language_info": {
   "codemirror_mode": {
    "name": "ipython",
    "version": 3
   },
   "file_extension": ".py",
   "mimetype": "text/x-python",
   "name": "python",
   "nbconvert_exporter": "python",
   "pygments_lexer": "ipython3",
   "version": "3.9.12"
  }
 },
 "nbformat": 4,
 "nbformat_minor": 5
}
