{
 "cells": [
  {
   "cell_type": "code",
   "execution_count": 1,
   "id": "cdcde594",
   "metadata": {},
   "outputs": [
    {
     "name": "stdout",
     "output_type": "stream",
     "text": [
      "/Users/keith_tetrad\n"
     ]
    }
   ],
   "source": [
    "cd"
   ]
  },
  {
   "cell_type": "code",
   "execution_count": 2,
   "id": "f2cd75f1",
   "metadata": {},
   "outputs": [],
   "source": [
    "import numpy as np\n",
    "import pandas as pd\n",
    "import seaborn as sns\n",
    "import matplotlib.pyplot as plt\n",
    "import plotly.express as px\n",
    "from bioservices import QuickGO\n",
    "quickgo = QuickGO()"
   ]
  },
  {
   "cell_type": "code",
   "execution_count": 3,
   "id": "1d112b83",
   "metadata": {},
   "outputs": [],
   "source": [
    "import matplotlib.pyplot as plt"
   ]
  },
  {
   "cell_type": "code",
   "execution_count": 4,
   "id": "11edb07c",
   "metadata": {},
   "outputs": [
    {
     "data": {
      "text/html": [
       "<style>.container { width:95% !important; }</style>"
      ],
      "text/plain": [
       "<IPython.core.display.HTML object>"
      ]
     },
     "metadata": {},
     "output_type": "display_data"
    }
   ],
   "source": [
    "from IPython.display import display, HTML\n",
    "display(HTML(\"<style>.container { width:95% !important; }</style>\"))\n",
    "\n",
    "pd.set_option('display.max_colwidth', 200)\n",
    "pd.set_option('display.max_columns', None)\n",
    "pd.set_option('display.width', 1000)\n",
    "pd.set_option('expand_frame_repr', False)\n"
   ]
  },
  {
   "cell_type": "code",
   "execution_count": 19,
   "id": "994f7421",
   "metadata": {},
   "outputs": [],
   "source": [
    "elife_data = pd.DataFrame(pd.read_csv('kw_dms/nevan_analysis/elife-38795-fig2-data1-v2.csv'))"
   ]
  },
  {
   "cell_type": "code",
   "execution_count": 20,
   "id": "b577814f",
   "metadata": {},
   "outputs": [
    {
     "data": {
      "text/html": [
       "<div>\n",
       "<style scoped>\n",
       "    .dataframe tbody tr th:only-of-type {\n",
       "        vertical-align: middle;\n",
       "    }\n",
       "\n",
       "    .dataframe tbody tr th {\n",
       "        vertical-align: top;\n",
       "    }\n",
       "\n",
       "    .dataframe thead th {\n",
       "        text-align: right;\n",
       "    }\n",
       "</style>\n",
       "<table border=\"1\" class=\"dataframe\">\n",
       "  <thead>\n",
       "    <tr style=\"text-align: right;\">\n",
       "      <th></th>\n",
       "      <th>GeneSymbol</th>\n",
       "      <th>log2FoldChange_XBP1s37/basal37</th>\n",
       "      <th>pvalue_XBP1s37/basal37</th>\n",
       "      <th>-log10_pvalue_XBP1s37/basal37</th>\n",
       "      <th>padj_XBP1s37/basal37</th>\n",
       "      <th>log2FoldChange_ATF6fXBP1s37/basal37</th>\n",
       "      <th>pvalue_ATF6fXBP1s37/basal37</th>\n",
       "      <th>-log10_pvalue_ATF6fXBP1s37/basal37</th>\n",
       "      <th>padj_ATF6fXBP1s37/basal37</th>\n",
       "      <th>log2FoldChange_basal39/basal37</th>\n",
       "      <th>pvalue_basal39/basal37</th>\n",
       "      <th>-log10_pvalue_basal39/basal37</th>\n",
       "      <th>padj_basal39/basal37</th>\n",
       "      <th>log2FoldChange_XBP1s39/basal39</th>\n",
       "      <th>pvalue_XBP1s39/basal39</th>\n",
       "      <th>-log10_pvalue_XBP1s39/basal39</th>\n",
       "      <th>padj_XBP1s39/basal39</th>\n",
       "      <th>log2FoldChange_ATF6fXBP1s39/basal39</th>\n",
       "      <th>pvalue_ATF6fXBP1s39/basal39</th>\n",
       "      <th>-log10_pvalue_ATF6fXBP1s39/basal39</th>\n",
       "      <th>padj_ATF6fXBP1s39/basal39</th>\n",
       "    </tr>\n",
       "  </thead>\n",
       "  <tbody>\n",
       "    <tr>\n",
       "      <th>0</th>\n",
       "      <td>MARC1</td>\n",
       "      <td>-0.020159</td>\n",
       "      <td>0.772722</td>\n",
       "      <td>0.111976595</td>\n",
       "      <td>0.899885</td>\n",
       "      <td>-0.168922</td>\n",
       "      <td>1.552885e-02</td>\n",
       "      <td>1.808860603</td>\n",
       "      <td>5.120234e-02</td>\n",
       "      <td>0.199238</td>\n",
       "      <td>0.002439</td>\n",
       "      <td>2.612832</td>\n",
       "      <td>0.025391</td>\n",
       "      <td>-0.025581</td>\n",
       "      <td>0.691877</td>\n",
       "      <td>0.159971308</td>\n",
       "      <td>0.908196</td>\n",
       "      <td>-0.110583</td>\n",
       "      <td>0.070073</td>\n",
       "      <td>1.154447042</td>\n",
       "      <td>0.192772</td>\n",
       "    </tr>\n",
       "    <tr>\n",
       "      <th>1</th>\n",
       "      <td>MARCH1</td>\n",
       "      <td>-0.702759</td>\n",
       "      <td>0.866044</td>\n",
       "      <td>0.06246019</td>\n",
       "      <td>1.000000</td>\n",
       "      <td>1.160090</td>\n",
       "      <td>7.780415e-01</td>\n",
       "      <td>0.108997249</td>\n",
       "      <td>1.000000e+00</td>\n",
       "      <td>-1.155059</td>\n",
       "      <td>0.781586</td>\n",
       "      <td>0.107023</td>\n",
       "      <td>1.000000</td>\n",
       "      <td>1.132472</td>\n",
       "      <td>0.785758</td>\n",
       "      <td>0.104711139</td>\n",
       "      <td>1.000000</td>\n",
       "      <td>-0.684044</td>\n",
       "      <td>0.869583</td>\n",
       "      <td>0.06068914</td>\n",
       "      <td>1.000000</td>\n",
       "    </tr>\n",
       "    <tr>\n",
       "      <th>2</th>\n",
       "      <td>MARC2</td>\n",
       "      <td>-0.206391</td>\n",
       "      <td>0.144836</td>\n",
       "      <td>0.83912476</td>\n",
       "      <td>0.352711</td>\n",
       "      <td>0.029265</td>\n",
       "      <td>8.288274e-01</td>\n",
       "      <td>0.081535892</td>\n",
       "      <td>8.975151e-01</td>\n",
       "      <td>0.265067</td>\n",
       "      <td>0.039502</td>\n",
       "      <td>1.403379</td>\n",
       "      <td>0.184284</td>\n",
       "      <td>-0.023715</td>\n",
       "      <td>0.849831</td>\n",
       "      <td>0.070667536</td>\n",
       "      <td>0.958276</td>\n",
       "      <td>0.032332</td>\n",
       "      <td>0.781725</td>\n",
       "      <td>0.106946003</td>\n",
       "      <td>0.891129</td>\n",
       "    </tr>\n",
       "    <tr>\n",
       "      <th>3</th>\n",
       "      <td>MARCH2</td>\n",
       "      <td>-0.424132</td>\n",
       "      <td>0.058103</td>\n",
       "      <td>1.235802528</td>\n",
       "      <td>0.189741</td>\n",
       "      <td>-0.458040</td>\n",
       "      <td>3.910361e-02</td>\n",
       "      <td>1.407783159</td>\n",
       "      <td>1.054201e-01</td>\n",
       "      <td>-0.164239</td>\n",
       "      <td>0.440661</td>\n",
       "      <td>0.355895</td>\n",
       "      <td>0.708285</td>\n",
       "      <td>-0.113686</td>\n",
       "      <td>0.599311</td>\n",
       "      <td>0.222347801</td>\n",
       "      <td>0.864087</td>\n",
       "      <td>-0.265316</td>\n",
       "      <td>0.202608</td>\n",
       "      <td>0.693342638</td>\n",
       "      <td>0.406846</td>\n",
       "    </tr>\n",
       "    <tr>\n",
       "      <th>4</th>\n",
       "      <td>MARCH3</td>\n",
       "      <td>-0.246604</td>\n",
       "      <td>0.100863</td>\n",
       "      <td>0.996267064</td>\n",
       "      <td>0.276167</td>\n",
       "      <td>-0.054205</td>\n",
       "      <td>7.065974e-01</td>\n",
       "      <td>0.150827967</td>\n",
       "      <td>8.137276e-01</td>\n",
       "      <td>0.047984</td>\n",
       "      <td>0.728236</td>\n",
       "      <td>0.137728</td>\n",
       "      <td>0.886746</td>\n",
       "      <td>0.079598</td>\n",
       "      <td>0.558042</td>\n",
       "      <td>0.253333451</td>\n",
       "      <td>0.844921</td>\n",
       "      <td>0.049375</td>\n",
       "      <td>0.696729</td>\n",
       "      <td>0.156936416</td>\n",
       "      <td>0.842343</td>\n",
       "    </tr>\n",
       "    <tr>\n",
       "      <th>...</th>\n",
       "      <td>...</td>\n",
       "      <td>...</td>\n",
       "      <td>...</td>\n",
       "      <td>...</td>\n",
       "      <td>...</td>\n",
       "      <td>...</td>\n",
       "      <td>...</td>\n",
       "      <td>...</td>\n",
       "      <td>...</td>\n",
       "      <td>...</td>\n",
       "      <td>...</td>\n",
       "      <td>...</td>\n",
       "      <td>...</td>\n",
       "      <td>...</td>\n",
       "      <td>...</td>\n",
       "      <td>...</td>\n",
       "      <td>...</td>\n",
       "      <td>...</td>\n",
       "      <td>...</td>\n",
       "      <td>...</td>\n",
       "      <td>...</td>\n",
       "    </tr>\n",
       "    <tr>\n",
       "      <th>19823</th>\n",
       "      <td>ZYG11A</td>\n",
       "      <td>-0.044930</td>\n",
       "      <td>0.657147</td>\n",
       "      <td>0.182337626</td>\n",
       "      <td>0.835966</td>\n",
       "      <td>0.006859</td>\n",
       "      <td>9.447580e-01</td>\n",
       "      <td>0.024679409</td>\n",
       "      <td>9.697557e-01</td>\n",
       "      <td>-0.097019</td>\n",
       "      <td>0.317355</td>\n",
       "      <td>0.498455</td>\n",
       "      <td>0.606143</td>\n",
       "      <td>-0.049992</td>\n",
       "      <td>0.611150</td>\n",
       "      <td>0.213852023</td>\n",
       "      <td>0.869374</td>\n",
       "      <td>0.073928</td>\n",
       "      <td>0.413359</td>\n",
       "      <td>0.383672961</td>\n",
       "      <td>0.636610</td>\n",
       "    </tr>\n",
       "    <tr>\n",
       "      <th>19824</th>\n",
       "      <td>ZYG11B</td>\n",
       "      <td>-0.243793</td>\n",
       "      <td>0.176315</td>\n",
       "      <td>0.753710294</td>\n",
       "      <td>0.400257</td>\n",
       "      <td>-0.566772</td>\n",
       "      <td>1.736995e-03</td>\n",
       "      <td>2.760201361</td>\n",
       "      <td>8.487893e-03</td>\n",
       "      <td>0.124013</td>\n",
       "      <td>0.487258</td>\n",
       "      <td>0.312241</td>\n",
       "      <td>0.741112</td>\n",
       "      <td>-0.268894</td>\n",
       "      <td>0.132536</td>\n",
       "      <td>0.877664728</td>\n",
       "      <td>0.439928</td>\n",
       "      <td>-0.251026</td>\n",
       "      <td>0.156937</td>\n",
       "      <td>0.804273572</td>\n",
       "      <td>0.344638</td>\n",
       "    </tr>\n",
       "    <tr>\n",
       "      <th>19825</th>\n",
       "      <td>ZYX</td>\n",
       "      <td>0.203801</td>\n",
       "      <td>0.083362</td>\n",
       "      <td>1.079034158</td>\n",
       "      <td>0.243746</td>\n",
       "      <td>0.639171</td>\n",
       "      <td>3.596010e-08</td>\n",
       "      <td>7.4441786</td>\n",
       "      <td>4.928550e-07</td>\n",
       "      <td>-0.131371</td>\n",
       "      <td>0.262611</td>\n",
       "      <td>0.580687</td>\n",
       "      <td>0.550336</td>\n",
       "      <td>0.099282</td>\n",
       "      <td>0.397301</td>\n",
       "      <td>0.400880664</td>\n",
       "      <td>0.742230</td>\n",
       "      <td>0.309544</td>\n",
       "      <td>0.006884</td>\n",
       "      <td>2.162137368</td>\n",
       "      <td>0.031356</td>\n",
       "    </tr>\n",
       "    <tr>\n",
       "      <th>19826</th>\n",
       "      <td>ZZEF1</td>\n",
       "      <td>0.162470</td>\n",
       "      <td>0.024031</td>\n",
       "      <td>1.619225915</td>\n",
       "      <td>0.101026</td>\n",
       "      <td>0.172926</td>\n",
       "      <td>1.541358e-02</td>\n",
       "      <td>1.812096405</td>\n",
       "      <td>5.089558e-02</td>\n",
       "      <td>0.039154</td>\n",
       "      <td>0.579151</td>\n",
       "      <td>0.237208</td>\n",
       "      <td>0.801875</td>\n",
       "      <td>0.118919</td>\n",
       "      <td>0.088540</td>\n",
       "      <td>1.052858739</td>\n",
       "      <td>0.348602</td>\n",
       "      <td>0.163456</td>\n",
       "      <td>0.014859</td>\n",
       "      <td>1.828005726</td>\n",
       "      <td>0.058487</td>\n",
       "    </tr>\n",
       "    <tr>\n",
       "      <th>19827</th>\n",
       "      <td>ZZZ3</td>\n",
       "      <td>0.118658</td>\n",
       "      <td>0.274519</td>\n",
       "      <td>0.561427968</td>\n",
       "      <td>0.524622</td>\n",
       "      <td>-0.078465</td>\n",
       "      <td>4.714333e-01</td>\n",
       "      <td>0.326579748</td>\n",
       "      <td>6.322455e-01</td>\n",
       "      <td>-0.064529</td>\n",
       "      <td>0.548365</td>\n",
       "      <td>0.260931</td>\n",
       "      <td>0.782778</td>\n",
       "      <td>0.014435</td>\n",
       "      <td>0.893289</td>\n",
       "      <td>0.049007921</td>\n",
       "      <td>0.973843</td>\n",
       "      <td>0.065368</td>\n",
       "      <td>0.533074</td>\n",
       "      <td>0.273212718</td>\n",
       "      <td>0.732290</td>\n",
       "    </tr>\n",
       "  </tbody>\n",
       "</table>\n",
       "<p>19828 rows × 21 columns</p>\n",
       "</div>"
      ],
      "text/plain": [
       "      GeneSymbol  log2FoldChange_XBP1s37/basal37  pvalue_XBP1s37/basal37 -log10_pvalue_XBP1s37/basal37  padj_XBP1s37/basal37  log2FoldChange_ATF6fXBP1s37/basal37  pvalue_ATF6fXBP1s37/basal37 -log10_pvalue_ATF6fXBP1s37/basal37  padj_ATF6fXBP1s37/basal37  log2FoldChange_basal39/basal37  pvalue_basal39/basal37  -log10_pvalue_basal39/basal37  padj_basal39/basal37  log2FoldChange_XBP1s39/basal39  pvalue_XBP1s39/basal39 -log10_pvalue_XBP1s39/basal39  padj_XBP1s39/basal39  log2FoldChange_ATF6fXBP1s39/basal39  pvalue_ATF6fXBP1s39/basal39 -log10_pvalue_ATF6fXBP1s39/basal39  padj_ATF6fXBP1s39/basal39\n",
       "0          MARC1                       -0.020159                0.772722                   0.111976595              0.899885                            -0.168922                 1.552885e-02                        1.808860603               5.120234e-02                        0.199238                0.002439                       2.612832              0.025391                       -0.025581                0.691877                   0.159971308              0.908196                            -0.110583                     0.070073                        1.154447042                   0.192772\n",
       "1         MARCH1                       -0.702759                0.866044                    0.06246019              1.000000                             1.160090                 7.780415e-01                        0.108997249               1.000000e+00                       -1.155059                0.781586                       0.107023              1.000000                        1.132472                0.785758                   0.104711139              1.000000                            -0.684044                     0.869583                         0.06068914                   1.000000\n",
       "2          MARC2                       -0.206391                0.144836                    0.83912476              0.352711                             0.029265                 8.288274e-01                        0.081535892               8.975151e-01                        0.265067                0.039502                       1.403379              0.184284                       -0.023715                0.849831                   0.070667536              0.958276                             0.032332                     0.781725                        0.106946003                   0.891129\n",
       "3         MARCH2                       -0.424132                0.058103                   1.235802528              0.189741                            -0.458040                 3.910361e-02                        1.407783159               1.054201e-01                       -0.164239                0.440661                       0.355895              0.708285                       -0.113686                0.599311                   0.222347801              0.864087                            -0.265316                     0.202608                        0.693342638                   0.406846\n",
       "4         MARCH3                       -0.246604                0.100863                   0.996267064              0.276167                            -0.054205                 7.065974e-01                        0.150827967               8.137276e-01                        0.047984                0.728236                       0.137728              0.886746                        0.079598                0.558042                   0.253333451              0.844921                             0.049375                     0.696729                        0.156936416                   0.842343\n",
       "...          ...                             ...                     ...                           ...                   ...                                  ...                          ...                                ...                        ...                             ...                     ...                            ...                   ...                             ...                     ...                           ...                   ...                                  ...                          ...                                ...                        ...\n",
       "19823     ZYG11A                       -0.044930                0.657147                   0.182337626              0.835966                             0.006859                 9.447580e-01                        0.024679409               9.697557e-01                       -0.097019                0.317355                       0.498455              0.606143                       -0.049992                0.611150                   0.213852023              0.869374                             0.073928                     0.413359                        0.383672961                   0.636610\n",
       "19824     ZYG11B                       -0.243793                0.176315                   0.753710294              0.400257                            -0.566772                 1.736995e-03                        2.760201361               8.487893e-03                        0.124013                0.487258                       0.312241              0.741112                       -0.268894                0.132536                   0.877664728              0.439928                            -0.251026                     0.156937                        0.804273572                   0.344638\n",
       "19825        ZYX                        0.203801                0.083362                   1.079034158              0.243746                             0.639171                 3.596010e-08                          7.4441786               4.928550e-07                       -0.131371                0.262611                       0.580687              0.550336                        0.099282                0.397301                   0.400880664              0.742230                             0.309544                     0.006884                        2.162137368                   0.031356\n",
       "19826      ZZEF1                        0.162470                0.024031                   1.619225915              0.101026                             0.172926                 1.541358e-02                        1.812096405               5.089558e-02                        0.039154                0.579151                       0.237208              0.801875                        0.118919                0.088540                   1.052858739              0.348602                             0.163456                     0.014859                        1.828005726                   0.058487\n",
       "19827       ZZZ3                        0.118658                0.274519                   0.561427968              0.524622                            -0.078465                 4.714333e-01                        0.326579748               6.322455e-01                       -0.064529                0.548365                       0.260931              0.782778                        0.014435                0.893289                   0.049007921              0.973843                             0.065368                     0.533074                        0.273212718                   0.732290\n",
       "\n",
       "[19828 rows x 21 columns]"
      ]
     },
     "execution_count": 20,
     "metadata": {},
     "output_type": "execute_result"
    }
   ],
   "source": [
    "elife_data"
   ]
  },
  {
   "cell_type": "code",
   "execution_count": 5,
   "id": "d33dc743",
   "metadata": {},
   "outputs": [],
   "source": [
    "apms_data = pd.DataFrame(pd.read_csv('kw_dms/nevan_analysis/1-s2.0-S0092867423009157-mmc3(1).csv', delimiter=','))"
   ]
  },
  {
   "cell_type": "code",
   "execution_count": 6,
   "id": "1eb88c0a",
   "metadata": {},
   "outputs": [],
   "source": [
    "# Filter for rows where any of the specified columns is True\n",
    "flag_apms_data = apms_data.loc[apms_data[['flag_SaintandMist_final', 'flag_Saint_final', 'flag_SaintandMistorNatureSaint_final']].any(axis=1)].reset_index(drop=True)"
   ]
  },
  {
   "cell_type": "code",
   "execution_count": 7,
   "id": "e46380cb",
   "metadata": {},
   "outputs": [],
   "source": [
    "def go_term(go_id):\n",
    "    # Define parameters\n",
    "    taxon_id = \"9606\"  # Taxonomy ID for Homo sapiens\n",
    "    go_id = go_id # GO term\n",
    "    \n",
    "    # Fetch annotations\n",
    "    annotations = quickgo.Annotation(taxonId=taxon_id, goId=go_id)\n",
    "\n",
    "    # Extract results\n",
    "    results = annotations['results']\n",
    "\n",
    "    # Extract gene products using 'symbol' key\n",
    "    gene_products = [result['symbol'] for result in results if result.get('symbol')]\n",
    "\n",
    "    # Extract gene products using 'symbol' key and add them to a list\n",
    "    gene_products = [result['symbol'] for result in results if result.get('symbol')]\n",
    "\n",
    "    # Convert the list to a set to remove duplicates, and then back to a list\n",
    "    unique_gene_products = list(set(gene_products))\n",
    "    \n",
    "    return unique_gene_products\n",
    "\n",
    "def go_term_mask(mask):\n",
    "\n",
    "    # Create a boolean mask\n",
    "    mask = flag_apms_data['PreyGene'].apply(lambda x: any(word in x for word in mask))\n",
    "    \n",
    "    return flag_apms_data[mask]"
   ]
  },
  {
   "cell_type": "code",
   "execution_count": 8,
   "id": "44cf6a06",
   "metadata": {},
   "outputs": [],
   "source": [
    "#ATP-dependent protein folding chaperone\n",
    "GO_0140662 = go_term('GO:0140662')\n",
    "ATP = go_term_mask(GO_0140662)\n",
    "\n",
    "#protein folding in endoplasmic reticulum\n",
    "GO_0034975 = go_term('GO:0034975')\n",
    "ER = go_term_mask(GO_0034975)\n",
    "\n",
    "#protein folding chaperone\n",
    "GO_0044183 = go_term('GO:0044183')\n",
    "all_chaps = go_term_mask(GO_0044183)"
   ]
  },
  {
   "cell_type": "code",
   "execution_count": 9,
   "id": "7ad4b8b7",
   "metadata": {
    "scrolled": true
   },
   "outputs": [],
   "source": [
    "# Group by the 'ViralProtein' and aggregate unique values in 'PreyGene'\n",
    "grouped = ATP.groupby('ViralProtein')['PreyGene'].unique()\n",
    "\n",
    "# Group by both 'variant' and 'ViralProtein', then aggregate unique values in 'PreyGene'\n",
    "grouped_byvariant = ER.groupby(['ViralProtein','Variant'])['PreyGene'].unique()"
   ]
  },
  {
   "cell_type": "code",
   "execution_count": 10,
   "id": "c5728607",
   "metadata": {},
   "outputs": [],
   "source": [
    "#extract a list of unique PreyGenes\n",
    "unique_ER = ER['PreyGene'].unique()\n",
    "unique_ATP = ATP['PreyGene'].unique()\n",
    "unique_all_chaps = all_chaps['PreyGene'].unique()\n",
    "\n",
    "# Combine and find unique values\n",
    "combined_unique = np.concatenate((unique_ER, unique_ATP, unique_all_chaps))\n",
    "unique_chaps = np.unique(combined_unique)\n",
    "\n",
    "chunk_size = 10000  # Adjust based on your memory constraints\n",
    "normal_tissue_data = pd.DataFrame()  # Initialize an empty DataFrame for the filtered data\n",
    "rna_single_cell_data = pd.DataFrame()\n",
    "\n",
    "for chunk in pd.read_csv('kw_dms/nevan_analysis/normal_tissue.tsv', sep='\\t', chunksize=chunk_size):\n",
    "    # Filter the chunk\n",
    "    filtered_chunk = chunk[chunk['Gene name'].isin(unique_chaps)]\n",
    "    # Append the filtered chunk to the DataFrame\n",
    "    normal_tissue_data = pd.concat([normal_tissue_data, filtered_chunk])\n",
    "\n",
    "for chunk in pd.read_csv('kw_dms/nevan_analysis/rna_single_cell_type.tsv', sep='\\t', chunksize=chunk_size):\n",
    "    # Filter the chunk\n",
    "    filtered_chunk = chunk[chunk['Gene name'].isin(unique_chaps)]\n",
    "    # Append the filtered chunk to the DataFrame\n",
    "    rna_single_cell_data = pd.concat([rna_single_cell_data, filtered_chunk])\n",
    "    "
   ]
  },
  {
   "cell_type": "code",
   "execution_count": 11,
   "id": "852acaa6",
   "metadata": {
    "scrolled": true
   },
   "outputs": [],
   "source": [
    "unique_tissue_cells = normal_tissue_data.groupby('Tissue')['Cell type'].unique()\n",
    "unique_RNA_cells = rna_single_cell_data['Cell type'].unique()\n",
    "\n",
    "# for tissue, cell_types in unique_tissue_cells.items():\n",
    "#     print(f\"{tissue}: {', '.join(cell_types)}\")\n",
    "#     print('\\n')\n",
    "    \n",
    "# with open('tissue_cell_types.txt', 'w') as file:\n",
    "#     for tissue, cell_types in unique_tissue_cells.items():\n",
    "#         file.write(f\"{tissue}: {', '.join(cell_types)}\\n\")\n",
    "#         file.write('\\n')  # This adds an empty line after each tissue\n"
   ]
  },
  {
   "cell_type": "code",
   "execution_count": 12,
   "id": "3a735d86",
   "metadata": {},
   "outputs": [],
   "source": [
    "tissue_cell_types = {\n",
    "    'bronchus': ['respiratory epithelial cells', 'basal cells', 'Basal respiratory cells', 'Ciliated cells', 'ciliated cells (cell body)', 'ciliated cells (cilia axoneme)', 'ciliated cells (ciliary rootlets)', 'ciliated cells (tip of cilia)', 'goblet cells'],\n",
    "    'kidney': ['cells in tubules', 'collecting ducts'],\n",
    "    'lung': ['alveolar cells type I', 'alveolar cells type II', 'endothelial cells', 'alveolar cells'],\n",
    "    'pancreas': ['exocrine glandular cells', 'pancreatic endocrine cells'],\n",
    "    'skin': ['Basal keratinocytes', 'Basal squamous epithelial cells']\n",
    "}\n",
    "\n",
    "# Filter for only tissue/cell type combinations\n",
    "def filter_combinations(row):\n",
    "    tissue = row['Tissue']\n",
    "    cell_type = row['Cell type']\n",
    "    return cell_type in tissue_cell_types.get(tissue, [])\n",
    "\n",
    "# Filter the DataFrame\n",
    "tissue_SARS_filtered = normal_tissue_data[normal_tissue_data.apply(filter_combinations, axis=1)].reset_index(drop=True)\n",
    "\n",
    "# Aggregate all unique cell types from the dictionary\n",
    "all_cell_types = set()\n",
    "for cell_types in tissue_cell_types.values():\n",
    "    all_cell_types.update(cell_types)\n",
    "\n",
    "# Cleaning up cell type names (some of this may not be biologically correct)\n",
    "replacements = {\n",
    "    'Alveolar cells type 1': 'alveolar cells type I',\n",
    "    'Alveolar cells type 2': 'alveolar cells type II',\n",
    "    'Collecting duct cells': 'collecting ducts',\n",
    "    'Endothelial cells': 'endothelial cells',\n",
    "    'Exocrine glandular cells': 'exocrine glandular cells',\n",
    "    'Pancreatic endocrine cells': 'pancreatic endocrine cells'\n",
    "}\n",
    "rna_single_cell_data['Cell type'] = rna_single_cell_data['Cell type'].replace(replacements)\n",
    "\n",
    "# Filter rna_single_cell_data based on the cell types\n",
    "rna_single_cell_SARS_filtered = rna_single_cell_data[rna_single_cell_data['Cell type'].isin(all_cell_types)].reset_index(drop=True)"
   ]
  },
  {
   "cell_type": "code",
   "execution_count": 42,
   "id": "8148af17",
   "metadata": {},
   "outputs": [],
   "source": [
    "unique_chaps_list = unique_chaps.tolist()\n",
    "\n",
    "filtered_elife_data = elife_data[elife_data['GeneSymbol'].isin(unique_chaps_list)].copy()\n",
    "\n",
    "filtered_elife_data = filtered_elife_data.replace('#NUM!', np.nan)\n",
    "\n",
    "for column in filtered_elife_data.columns[1:]:\n",
    "    # Check if the column's non-NaN values are not of float type\n",
    "    if not pd.api.types.is_float_dtype(filtered_elife_data[column].dropna()):\n",
    "        # Convert non-NaN values to float\n",
    "        filtered_elife_data[column] = pd.to_numeric(filtered_elife_data[column], errors='coerce')\n",
    "\n",
    "\n",
    "for column in filtered_elife_data.columns:\n",
    "    max_value = filtered_elife_data[column].dropna().max()  # Ignore NaN for max calculation\n",
    "    filtered_elife_data[column] = filtered_elife_data[column].fillna(max_value)\n"
   ]
  },
  {
   "cell_type": "code",
   "execution_count": 89,
   "id": "29a1fd54",
   "metadata": {
    "scrolled": true
   },
   "outputs": [
    {
     "data": {
      "text/plain": [
       "ViralProtein  Variant                       \n",
       "E             beta                                                                                       [CANX]\n",
       "              omicron                                                                                    [CANX]\n",
       "M             delta                                                                                      [CANX]\n",
       "              delta.1                                                                                    [CANX]\n",
       "              omicron                                                                              [CANX, VAPA]\n",
       "N             alpha                                                                                     [HSPA5]\n",
       "              alpha_gamma_omicron                                                              [HSPA5, HSP90B1]\n",
       "              beta                                                                       [HSPA5, HSP90B1, CANX]\n",
       "              cal20c                                                                                    [HSPA5]\n",
       "              delta                                                                            [HSPA5, HSP90B1]\n",
       "              delta.1                                                                                   [HSPA5]\n",
       "              gamma                                                                            [HSPA5, HSP90B1]\n",
       "              omicron                                                                                   [HSPA5]\n",
       "S             alpha                                                          [HSPA5, CANX, P4HB, HSP90B1, CALR]\n",
       "              alpha_beta_delta_gamma_omicron                                                      [HSPA5, CANX]\n",
       "              alpha_beta_gamma_omicron                                                            [HSPA5, CANX]\n",
       "              alpha_delta_omicron                                                                 [HSPA5, CANX]\n",
       "              alpha_omicron                                                                       [HSPA5, CANX]\n",
       "              beta                                                           [HSPA5, CANX, P4HB, HSP90B1, CALR]\n",
       "              cal20c                                                                              [HSPA5, CANX]\n",
       "              delta                                                                [HSPA5, CANX, P4HB, HSP90B1]\n",
       "              gamma                                                          [HSPA5, CANX, P4HB, HSP90B1, CALR]\n",
       "              omicron                                                                    [HSPA5, HSP90B1, CANX]\n",
       "nsp12         alpha_beta_delta_gamma_omicron                                                             [CANX]\n",
       "nsp13         gamma                                                                             [P4HB, HSP90B1]\n",
       "nsp2          beta                                                                                [HSPA5, CANX]\n",
       "nsp3          WT                                                                            [P4HB, HSPA5, CANX]\n",
       "              alpha                                                                [HSP90B1, CANX, P4HB, HSPA5]\n",
       "              beta                                                                          [HSPA5, CANX, P4HB]\n",
       "              delta                                                                             [HSP90B1, CANX]\n",
       "              gamma                                                                [HSP90B1, CANX, P4HB, HSPA5]\n",
       "              omicron                                    [HSP90B1, CANX, HSPA5, P4HB, CALR, DNAJC3, EMC1, EMC3]\n",
       "nsp4          delta                                                                               [HSPA5, CANX]\n",
       "              omicron                                                                             [HSPA5, CANX]\n",
       "nsp6          alpha_beta_gamma                                                                           [CANX]\n",
       "              delta                                                                                      [CANX]\n",
       "              omicron                                                                                    [CANX]\n",
       "orf3a         beta                                                                                       [VAPA]\n",
       "              delta                                                                                      [VAPA]\n",
       "              gamma                                                                                     [HSPA5]\n",
       "orf7a         delta                                                                                [P4HB, CANX]\n",
       "orf7b         delta                                                                                [CANX, VAPA]\n",
       "orf8          alpha                                           [P4HB, HSPA5, HSP90B1, CALR, CANX, PDIA3, DNAJC3]\n",
       "              delta                             [P4HB, HSPA5, HSP90B1, CALR, CANX, PDIA3, DNAJC3, ERO1A, ERO1B]\n",
       "              gamma                              [P4HB, HSPA5, HSP90B1, CALR, CANX, PDIA3, DNAJC3, EMC1, ERO1A]\n",
       "orf9b         delta                                                                                     [HSPA5]\n",
       "              omicron                                                                                   [HSPA5]\n",
       "Name: PreyGene, dtype: object"
      ]
     },
     "execution_count": 89,
     "metadata": {},
     "output_type": "execute_result"
    }
   ],
   "source": [
    "# Group by the 'ViralProtein' and aggregate unique values in 'PreyGene'\n",
    "grouped = ER.groupby('ViralProtein')['PreyGene'].unique()\n",
    "\n",
    "# Group by both 'variant' and 'ViralProtein', then aggregate unique values in 'PreyGene'\n",
    "grouped_byvariant = ER.groupby(['ViralProtein','Variant'])['PreyGene'].unique()\n",
    "\n",
    "grouped_byvariant"
   ]
  },
  {
   "cell_type": "code",
   "execution_count": 99,
   "id": "f0aca9e4",
   "metadata": {
    "scrolled": false
   },
   "outputs": [
    {
     "name": "stdout",
     "output_type": "stream",
     "text": [
      "ERO1B\n",
      "\n",
      "\n",
      "UPR activation RNAseq data:\n",
      "XBP1s 37˚C vs. Basal 37˚C\n",
      "log2 fold change: 1.951922596\n",
      "-log10 pvalue: 33.66677373\n",
      "\n",
      "\n",
      "ATF6f/XBP1s 37˚C vs. Basal 37˚C\n",
      "log2 fold change: 1.985037015\n",
      "-log10 pvalue: 34.85133324\n",
      "\n",
      "\n",
      "protein immunohistochemistry data:\n",
      "  Tissue                    Cell type  Level Reliability\n",
      "bronchus respiratory epithelial cells Medium    Enhanced\n",
      "  kidney             cells in tubules Medium    Enhanced\n",
      "    lung               alveolar cells    Low    Enhanced\n",
      "pancreas     exocrine glandular cells   High    Enhanced\n"
     ]
    },
    {
     "data": {
      "image/png": "[encoded data removed]",
      "text/plain": [
       "<Figure size 432x288 with 1 Axes>"
      ]
     },
     "metadata": {
      "needs_background": "light"
     },
     "output_type": "display_data"
    }
   ],
   "source": [
    "# Define the specific gene you are interested in\n",
    "specific_gene = 'ERO1B'  # Replace with the actual gene identifier\n",
    "\n",
    "# Filter the DataFrames for the specific gene\n",
    "specific_gene_tissue = tissue_SARS_filtered.loc[tissue_SARS_filtered['Gene name'] == specific_gene, ['Tissue', 'Cell type', 'Level', 'Reliability']]\n",
    "specific_gene_rna = rna_single_cell_SARS_filtered[rna_single_cell_SARS_filtered['Gene name'] == specific_gene]\n",
    "specific_eLife_data = filtered_elife_data[filtered_elife_data['GeneSymbol'] == specific_gene]\n",
    "\n",
    "# Print the results\n",
    "print(specific_gene)\n",
    "print('\\n')\n",
    "print('UPR activation RNAseq data:')\n",
    "print('XBP1s 37˚C vs. Basal 37˚C')\n",
    "print('log2 fold change:', specific_eLife_data.loc[specific_eLife_data['GeneSymbol'] == specific_gene, 'log2FoldChange_XBP1s37/basal37'].item())\n",
    "print('-log10 pvalue:', specific_eLife_data.loc[specific_eLife_data['GeneSymbol'] == specific_gene, '-log10_pvalue_XBP1s37/basal37'].item())\n",
    "print('\\n')\n",
    "\n",
    "print('ATF6f/XBP1s 37˚C vs. Basal 37˚C')\n",
    "print('log2 fold change:', specific_eLife_data.loc[specific_eLife_data['GeneSymbol'] == specific_gene, 'log2FoldChange_ATF6fXBP1s37/basal37'].item())\n",
    "print('-log10 pvalue:', specific_eLife_data.loc[specific_eLife_data['GeneSymbol'] == specific_gene, '-log10_pvalue_ATF6fXBP1s37/basal37'].item())\n",
    "print('\\n')\n",
    "\n",
    "print('protein immunohistochemistry data:')\n",
    "print(specific_gene_tissue.to_string(index=False))\n",
    "\n",
    "# Create the barplot with a uniform color\n",
    "sns.barplot(data=specific_gene_rna, x='Cell type', y='nTPM', color='skyblue')\n",
    "plt.xticks(rotation=-30, ha='left')\n",
    "plt.title('Single cell RNA seq data', fontsize=10)\n",
    "\n",
    "plt.show()"
   ]
  },
  {
   "cell_type": "code",
   "execution_count": 102,
   "id": "0033b888",
   "metadata": {
    "scrolled": false
   },
   "outputs": [
    {
     "data": {
      "application/vnd.plotly.v1+json": {
       "config": {
        "plotlyServerURL": "https://plot.ly"
       },
       "data": [
        {
         "customdata": [
          [
           "CALR"
          ]
         ],
         "hovertemplate": "GeneSymbol=%{customdata[0]}<br>log2FoldChange_XBP1s37/basal37=%{x}<br>-log10_pvalue_XBP1s37/basal37=%{y}<extra></extra>",
         "legendgroup": "CALR",
         "marker": {
          "color": "#636efa",
          "symbol": "circle"
         },
         "mode": "markers",
         "name": "CALR",
         "orientation": "v",
         "showlegend": true,
         "type": "scatter",
         "x": [
          1.211850605
         ],
         "xaxis": "x",
         "y": [
          121.0288014
         ],
         "yaxis": "y"
        },
        {
         "customdata": [
          [
           "CANX"
          ]
         ],
         "hovertemplate": "GeneSymbol=%{customdata[0]}<br>log2FoldChange_XBP1s37/basal37=%{x}<br>-log10_pvalue_XBP1s37/basal37=%{y}<extra></extra>",
         "legendgroup": "CANX",
         "marker": {
          "color": "#EF553B",
          "symbol": "circle"
         },
         "mode": "markers",
         "name": "CANX",
         "orientation": "v",
         "showlegend": true,
         "type": "scatter",
         "x": [
          1.373145973
         ],
         "xaxis": "x",
         "y": [
          45.7727601
         ],
         "yaxis": "y"
        },
        {
         "customdata": [
          [
           "CCT3"
          ]
         ],
         "hovertemplate": "GeneSymbol=%{customdata[0]}<br>log2FoldChange_XBP1s37/basal37=%{x}<br>-log10_pvalue_XBP1s37/basal37=%{y}<extra></extra>",
         "legendgroup": "CCT3",
         "marker": {
          "color": "#00cc96",
          "symbol": "circle"
         },
         "mode": "markers",
         "name": "CCT3",
         "orientation": "v",
         "showlegend": true,
         "type": "scatter",
         "x": [
          -0.038284096
         ],
         "xaxis": "x",
         "y": [
          0.213690704
         ],
         "yaxis": "y"
        },
        {
         "customdata": [
          [
           "CCT6A"
          ]
         ],
         "hovertemplate": "GeneSymbol=%{customdata[0]}<br>log2FoldChange_XBP1s37/basal37=%{x}<br>-log10_pvalue_XBP1s37/basal37=%{y}<extra></extra>",
         "legendgroup": "CCT6A",
         "marker": {
          "color": "#ab63fa",
          "symbol": "circle"
         },
         "mode": "markers",
         "name": "CCT6A",
         "orientation": "v",
         "showlegend": true,
         "type": "scatter",
         "x": [
          -0.144648425
         ],
         "xaxis": "x",
         "y": [
          2.77767121
         ],
         "yaxis": "y"
        },
        {
         "customdata": [
          [
           "DNAJC3"
          ]
         ],
         "hovertemplate": "GeneSymbol=%{customdata[0]}<br>log2FoldChange_XBP1s37/basal37=%{x}<br>-log10_pvalue_XBP1s37/basal37=%{y}<extra></extra>",
         "legendgroup": "DNAJC3",
         "marker": {
          "color": "#FFA15A",
          "symbol": "circle"
         },
         "mode": "markers",
         "name": "DNAJC3",
         "orientation": "v",
         "showlegend": true,
         "type": "scatter",
         "x": [
          1.823474407
         ],
         "xaxis": "x",
         "y": [
          46.04021886
         ],
         "yaxis": "y"
        },
        {
         "customdata": [
          [
           "EMC1"
          ]
         ],
         "hovertemplate": "GeneSymbol=%{customdata[0]}<br>log2FoldChange_XBP1s37/basal37=%{x}<br>-log10_pvalue_XBP1s37/basal37=%{y}<extra></extra>",
         "legendgroup": "EMC1",
         "marker": {
          "color": "#19d3f3",
          "symbol": "circle"
         },
         "mode": "markers",
         "name": "EMC1",
         "orientation": "v",
         "showlegend": true,
         "type": "scatter",
         "x": [
          0.046109059
         ],
         "xaxis": "x",
         "y": [
          0.392290953
         ],
         "yaxis": "y"
        },
        {
         "customdata": [
          [
           "EMC3"
          ]
         ],
         "hovertemplate": "GeneSymbol=%{customdata[0]}<br>log2FoldChange_XBP1s37/basal37=%{x}<br>-log10_pvalue_XBP1s37/basal37=%{y}<extra></extra>",
         "legendgroup": "EMC3",
         "marker": {
          "color": "#FF6692",
          "symbol": "circle"
         },
         "mode": "markers",
         "name": "EMC3",
         "orientation": "v",
         "showlegend": true,
         "type": "scatter",
         "x": [
          0.152739001
         ],
         "xaxis": "x",
         "y": [
          1.153652178
         ],
         "yaxis": "y"
        },
        {
         "customdata": [
          [
           "ERO1A"
          ]
         ],
         "hovertemplate": "GeneSymbol=%{customdata[0]}<br>log2FoldChange_XBP1s37/basal37=%{x}<br>-log10_pvalue_XBP1s37/basal37=%{y}<extra></extra>",
         "legendgroup": "ERO1A",
         "marker": {
          "color": "#B6E880",
          "symbol": "circle"
         },
         "mode": "markers",
         "name": "ERO1A",
         "orientation": "v",
         "showlegend": true,
         "type": "scatter",
         "x": [
          0.385421108
         ],
         "xaxis": "x",
         "y": [
          2.547031022
         ],
         "yaxis": "y"
        },
        {
         "customdata": [
          [
           "ERO1B"
          ]
         ],
         "hovertemplate": "GeneSymbol=%{customdata[0]}<br>log2FoldChange_XBP1s37/basal37=%{x}<br>-log10_pvalue_XBP1s37/basal37=%{y}<extra></extra>",
         "legendgroup": "ERO1B",
         "marker": {
          "color": "#FF97FF",
          "symbol": "circle"
         },
         "mode": "markers",
         "name": "ERO1B",
         "orientation": "v",
         "showlegend": true,
         "type": "scatter",
         "x": [
          1.951922596
         ],
         "xaxis": "x",
         "y": [
          33.66677373
         ],
         "yaxis": "y"
        },
        {
         "customdata": [
          [
           "FKBP8"
          ]
         ],
         "hovertemplate": "GeneSymbol=%{customdata[0]}<br>log2FoldChange_XBP1s37/basal37=%{x}<br>-log10_pvalue_XBP1s37/basal37=%{y}<extra></extra>",
         "legendgroup": "FKBP8",
         "marker": {
          "color": "#FECB52",
          "symbol": "circle"
         },
         "mode": "markers",
         "name": "FKBP8",
         "orientation": "v",
         "showlegend": true,
         "type": "scatter",
         "x": [
          -0.007317458
         ],
         "xaxis": "x",
         "y": [
          0.020309722
         ],
         "yaxis": "y"
        },
        {
         "customdata": [
          [
           "HSP90B1"
          ]
         ],
         "hovertemplate": "GeneSymbol=%{customdata[0]}<br>log2FoldChange_XBP1s37/basal37=%{x}<br>-log10_pvalue_XBP1s37/basal37=%{y}<extra></extra>",
         "legendgroup": "HSP90B1",
         "marker": {
          "color": "#636efa",
          "symbol": "circle"
         },
         "mode": "markers",
         "name": "HSP90B1",
         "orientation": "v",
         "showlegend": true,
         "type": "scatter",
         "x": [
          1.540399667
         ],
         "xaxis": "x",
         "y": [
          183.0284876
         ],
         "yaxis": "y"
        },
        {
         "customdata": [
          [
           "HSPA5"
          ]
         ],
         "hovertemplate": "GeneSymbol=%{customdata[0]}<br>log2FoldChange_XBP1s37/basal37=%{x}<br>-log10_pvalue_XBP1s37/basal37=%{y}<extra></extra>",
         "legendgroup": "HSPA5",
         "marker": {
          "color": "#EF553B",
          "symbol": "circle"
         },
         "mode": "markers",
         "name": "HSPA5",
         "orientation": "v",
         "showlegend": true,
         "type": "scatter",
         "x": [
          1.731539891
         ],
         "xaxis": "x",
         "y": [
          208.5425871
         ],
         "yaxis": "y"
        },
        {
         "customdata": [
          [
           "HSPA8"
          ]
         ],
         "hovertemplate": "GeneSymbol=%{customdata[0]}<br>log2FoldChange_XBP1s37/basal37=%{x}<br>-log10_pvalue_XBP1s37/basal37=%{y}<extra></extra>",
         "legendgroup": "HSPA8",
         "marker": {
          "color": "#00cc96",
          "symbol": "circle"
         },
         "mode": "markers",
         "name": "HSPA8",
         "orientation": "v",
         "showlegend": true,
         "type": "scatter",
         "x": [
          -0.255800528
         ],
         "xaxis": "x",
         "y": [
          13.62919734
         ],
         "yaxis": "y"
        },
        {
         "customdata": [
          [
           "HSPA9"
          ]
         ],
         "hovertemplate": "GeneSymbol=%{customdata[0]}<br>log2FoldChange_XBP1s37/basal37=%{x}<br>-log10_pvalue_XBP1s37/basal37=%{y}<extra></extra>",
         "legendgroup": "HSPA9",
         "marker": {
          "color": "#ab63fa",
          "symbol": "circle"
         },
         "mode": "markers",
         "name": "HSPA9",
         "orientation": "v",
         "showlegend": true,
         "type": "scatter",
         "x": [
          0.153391144
         ],
         "xaxis": "x",
         "y": [
          5.081957979
         ],
         "yaxis": "y"
        },
        {
         "customdata": [
          [
           "HSPD1"
          ]
         ],
         "hovertemplate": "GeneSymbol=%{customdata[0]}<br>log2FoldChange_XBP1s37/basal37=%{x}<br>-log10_pvalue_XBP1s37/basal37=%{y}<extra></extra>",
         "legendgroup": "HSPD1",
         "marker": {
          "color": "#FFA15A",
          "symbol": "circle"
         },
         "mode": "markers",
         "name": "HSPD1",
         "orientation": "v",
         "showlegend": true,
         "type": "scatter",
         "x": [
          0.00684573
         ],
         "xaxis": "x",
         "y": [
          0.057652974
         ],
         "yaxis": "y"
        },
        {
         "customdata": [
          [
           "HSPH1"
          ]
         ],
         "hovertemplate": "GeneSymbol=%{customdata[0]}<br>log2FoldChange_XBP1s37/basal37=%{x}<br>-log10_pvalue_XBP1s37/basal37=%{y}<extra></extra>",
         "legendgroup": "HSPH1",
         "marker": {
          "color": "#19d3f3",
          "symbol": "circle"
         },
         "mode": "markers",
         "name": "HSPH1",
         "orientation": "v",
         "showlegend": true,
         "type": "scatter",
         "x": [
          -0.144459229
         ],
         "xaxis": "x",
         "y": [
          0.945045387
         ],
         "yaxis": "y"
        },
        {
         "customdata": [
          [
           "HYOU1"
          ]
         ],
         "hovertemplate": "GeneSymbol=%{customdata[0]}<br>log2FoldChange_XBP1s37/basal37=%{x}<br>-log10_pvalue_XBP1s37/basal37=%{y}<extra></extra>",
         "legendgroup": "HYOU1",
         "marker": {
          "color": "#FF6692",
          "symbol": "circle"
         },
         "mode": "markers",
         "name": "HYOU1",
         "orientation": "v",
         "showlegend": true,
         "type": "scatter",
         "x": [
          2.388332704
         ],
         "xaxis": "x",
         "y": [
          208.5425871
         ],
         "yaxis": "y"
        },
        {
         "customdata": [
          [
           "P4HB"
          ]
         ],
         "hovertemplate": "GeneSymbol=%{customdata[0]}<br>log2FoldChange_XBP1s37/basal37=%{x}<br>-log10_pvalue_XBP1s37/basal37=%{y}<extra></extra>",
         "legendgroup": "P4HB",
         "marker": {
          "color": "#B6E880",
          "symbol": "circle"
         },
         "mode": "markers",
         "name": "P4HB",
         "orientation": "v",
         "showlegend": true,
         "type": "scatter",
         "x": [
          1.668921844
         ],
         "xaxis": "x",
         "y": [
          133.7530743
         ],
         "yaxis": "y"
        },
        {
         "customdata": [
          [
           "PDIA3"
          ]
         ],
         "hovertemplate": "GeneSymbol=%{customdata[0]}<br>log2FoldChange_XBP1s37/basal37=%{x}<br>-log10_pvalue_XBP1s37/basal37=%{y}<extra></extra>",
         "legendgroup": "PDIA3",
         "marker": {
          "color": "#FF97FF",
          "symbol": "circle"
         },
         "mode": "markers",
         "name": "PDIA3",
         "orientation": "v",
         "showlegend": true,
         "type": "scatter",
         "x": [
          1.533057644
         ],
         "xaxis": "x",
         "y": [
          208.5425871
         ],
         "yaxis": "y"
        },
        {
         "customdata": [
          [
           "PFDN2"
          ]
         ],
         "hovertemplate": "GeneSymbol=%{customdata[0]}<br>log2FoldChange_XBP1s37/basal37=%{x}<br>-log10_pvalue_XBP1s37/basal37=%{y}<extra></extra>",
         "legendgroup": "PFDN2",
         "marker": {
          "color": "#FECB52",
          "symbol": "circle"
         },
         "mode": "markers",
         "name": "PFDN2",
         "orientation": "v",
         "showlegend": true,
         "type": "scatter",
         "x": [
          0.196573661
         ],
         "xaxis": "x",
         "y": [
          0.520596905
         ],
         "yaxis": "y"
        },
        {
         "customdata": [
          [
           "VAPA"
          ]
         ],
         "hovertemplate": "GeneSymbol=%{customdata[0]}<br>log2FoldChange_XBP1s37/basal37=%{x}<br>-log10_pvalue_XBP1s37/basal37=%{y}<extra></extra>",
         "legendgroup": "VAPA",
         "marker": {
          "color": "#636efa",
          "symbol": "circle"
         },
         "mode": "markers",
         "name": "VAPA",
         "orientation": "v",
         "showlegend": true,
         "type": "scatter",
         "x": [
          0.103340571
         ],
         "xaxis": "x",
         "y": [
          0.900547406
         ],
         "yaxis": "y"
        }
       ],
       "layout": {
        "legend": {
         "title": {
          "text": "GeneSymbol"
         },
         "tracegroupgap": 0
        },
        "margin": {
         "t": 60
        },
        "template": {
         "data": {
          "bar": [
           {
            "error_x": {
             "color": "#2a3f5f"
            },
            "error_y": {
             "color": "#2a3f5f"
            },
            "marker": {
             "line": {
              "color": "#E5ECF6",
              "width": 0.5
             },
             "pattern": {
              "fillmode": "overlay",
              "size": 10,
              "solidity": 0.2
             }
            },
            "type": "bar"
           }
          ],
          "barpolar": [
           {
            "marker": {
             "line": {
              "color": "#E5ECF6",
              "width": 0.5
             },
             "pattern": {
              "fillmode": "overlay",
              "size": 10,
              "solidity": 0.2
             }
            },
            "type": "barpolar"
           }
          ],
          "carpet": [
           {
            "aaxis": {
             "endlinecolor": "#2a3f5f",
             "gridcolor": "white",
             "linecolor": "white",
             "minorgridcolor": "white",
             "startlinecolor": "#2a3f5f"
            },
            "baxis": {
             "endlinecolor": "#2a3f5f",
             "gridcolor": "white",
             "linecolor": "white",
             "minorgridcolor": "white",
             "startlinecolor": "#2a3f5f"
            },
            "type": "carpet"
           }
          ],
          "choropleth": [
           {
            "colorbar": {
             "outlinewidth": 0,
             "ticks": ""
            },
            "type": "choropleth"
           }
          ],
          "contour": [
           {
            "colorbar": {
             "outlinewidth": 0,
             "ticks": ""
            },
            "colorscale": [
             [
              0,
              "#0d0887"
             ],
             [
              0.1111111111111111,
              "#46039f"
             ],
             [
              0.2222222222222222,
              "#7201a8"
             ],
             [
              0.3333333333333333,
              "#9c179e"
             ],
             [
              0.4444444444444444,
              "#bd3786"
             ],
             [
              0.5555555555555556,
              "#d8576b"
             ],
             [
              0.6666666666666666,
              "#ed7953"
             ],
             [
              0.7777777777777778,
              "#fb9f3a"
             ],
             [
              0.8888888888888888,
              "#fdca26"
             ],
             [
              1,
              "#f0f921"
             ]
            ],
            "type": "contour"
           }
          ],
          "contourcarpet": [
           {
            "colorbar": {
             "outlinewidth": 0,
             "ticks": ""
            },
            "type": "contourcarpet"
           }
          ],
          "heatmap": [
           {
            "colorbar": {
             "outlinewidth": 0,
             "ticks": ""
            },
            "colorscale": [
             [
              0,
              "#0d0887"
             ],
             [
              0.1111111111111111,
              "#46039f"
             ],
             [
              0.2222222222222222,
              "#7201a8"
             ],
             [
              0.3333333333333333,
              "#9c179e"
             ],
             [
              0.4444444444444444,
              "#bd3786"
             ],
             [
              0.5555555555555556,
              "#d8576b"
             ],
             [
              0.6666666666666666,
              "#ed7953"
             ],
             [
              0.7777777777777778,
              "#fb9f3a"
             ],
             [
              0.8888888888888888,
              "#fdca26"
             ],
             [
              1,
              "#f0f921"
             ]
            ],
            "type": "heatmap"
           }
          ],
          "heatmapgl": [
           {
            "colorbar": {
             "outlinewidth": 0,
             "ticks": ""
            },
            "colorscale": [
             [
              0,
              "#0d0887"
             ],
             [
              0.1111111111111111,
              "#46039f"
             ],
             [
              0.2222222222222222,
              "#7201a8"
             ],
             [
              0.3333333333333333,
              "#9c179e"
             ],
             [
              0.4444444444444444,
              "#bd3786"
             ],
             [
              0.5555555555555556,
              "#d8576b"
             ],
             [
              0.6666666666666666,
              "#ed7953"
             ],
             [
              0.7777777777777778,
              "#fb9f3a"
             ],
             [
              0.8888888888888888,
              "#fdca26"
             ],
             [
              1,
              "#f0f921"
             ]
            ],
            "type": "heatmapgl"
           }
          ],
          "histogram": [
           {
            "marker": {
             "pattern": {
              "fillmode": "overlay",
              "size": 10,
              "solidity": 0.2
             }
            },
            "type": "histogram"
           }
          ],
          "histogram2d": [
           {
            "colorbar": {
             "outlinewidth": 0,
             "ticks": ""
            },
            "colorscale": [
             [
              0,
              "#0d0887"
             ],
             [
              0.1111111111111111,
              "#46039f"
             ],
             [
              0.2222222222222222,
              "#7201a8"
             ],
             [
              0.3333333333333333,
              "#9c179e"
             ],
             [
              0.4444444444444444,
              "#bd3786"
             ],
             [
              0.5555555555555556,
              "#d8576b"
             ],
             [
              0.6666666666666666,
              "#ed7953"
             ],
             [
              0.7777777777777778,
              "#fb9f3a"
             ],
             [
              0.8888888888888888,
              "#fdca26"
             ],
             [
              1,
              "#f0f921"
             ]
            ],
            "type": "histogram2d"
           }
          ],
          "histogram2dcontour": [
           {
            "colorbar": {
             "outlinewidth": 0,
             "ticks": ""
            },
            "colorscale": [
             [
              0,
              "#0d0887"
             ],
             [
              0.1111111111111111,
              "#46039f"
             ],
             [
              0.2222222222222222,
              "#7201a8"
             ],
             [
              0.3333333333333333,
              "#9c179e"
             ],
             [
              0.4444444444444444,
              "#bd3786"
             ],
             [
              0.5555555555555556,
              "#d8576b"
             ],
             [
              0.6666666666666666,
              "#ed7953"
             ],
             [
              0.7777777777777778,
              "#fb9f3a"
             ],
             [
              0.8888888888888888,
              "#fdca26"
             ],
             [
              1,
              "#f0f921"
             ]
            ],
            "type": "histogram2dcontour"
           }
          ],
          "mesh3d": [
           {
            "colorbar": {
             "outlinewidth": 0,
             "ticks": ""
            },
            "type": "mesh3d"
           }
          ],
          "parcoords": [
           {
            "line": {
             "colorbar": {
              "outlinewidth": 0,
              "ticks": ""
             }
            },
            "type": "parcoords"
           }
          ],
          "pie": [
           {
            "automargin": true,
            "type": "pie"
           }
          ],
          "scatter": [
           {
            "marker": {
             "colorbar": {
              "outlinewidth": 0,
              "ticks": ""
             }
            },
            "type": "scatter"
           }
          ],
          "scatter3d": [
           {
            "line": {
             "colorbar": {
              "outlinewidth": 0,
              "ticks": ""
             }
            },
            "marker": {
             "colorbar": {
              "outlinewidth": 0,
              "ticks": ""
             }
            },
            "type": "scatter3d"
           }
          ],
          "scattercarpet": [
           {
            "marker": {
             "colorbar": {
              "outlinewidth": 0,
              "ticks": ""
             }
            },
            "type": "scattercarpet"
           }
          ],
          "scattergeo": [
           {
            "marker": {
             "colorbar": {
              "outlinewidth": 0,
              "ticks": ""
             }
            },
            "type": "scattergeo"
           }
          ],
          "scattergl": [
           {
            "marker": {
             "colorbar": {
              "outlinewidth": 0,
              "ticks": ""
             }
            },
            "type": "scattergl"
           }
          ],
          "scattermapbox": [
           {
            "marker": {
             "colorbar": {
              "outlinewidth": 0,
              "ticks": ""
             }
            },
            "type": "scattermapbox"
           }
          ],
          "scatterpolar": [
           {
            "marker": {
             "colorbar": {
              "outlinewidth": 0,
              "ticks": ""
             }
            },
            "type": "scatterpolar"
           }
          ],
          "scatterpolargl": [
           {
            "marker": {
             "colorbar": {
              "outlinewidth": 0,
              "ticks": ""
             }
            },
            "type": "scatterpolargl"
           }
          ],
          "scatterternary": [
           {
            "marker": {
             "colorbar": {
              "outlinewidth": 0,
              "ticks": ""
             }
            },
            "type": "scatterternary"
           }
          ],
          "surface": [
           {
            "colorbar": {
             "outlinewidth": 0,
             "ticks": ""
            },
            "colorscale": [
             [
              0,
              "#0d0887"
             ],
             [
              0.1111111111111111,
              "#46039f"
             ],
             [
              0.2222222222222222,
              "#7201a8"
             ],
             [
              0.3333333333333333,
              "#9c179e"
             ],
             [
              0.4444444444444444,
              "#bd3786"
             ],
             [
              0.5555555555555556,
              "#d8576b"
             ],
             [
              0.6666666666666666,
              "#ed7953"
             ],
             [
              0.7777777777777778,
              "#fb9f3a"
             ],
             [
              0.8888888888888888,
              "#fdca26"
             ],
             [
              1,
              "#f0f921"
             ]
            ],
            "type": "surface"
           }
          ],
          "table": [
           {
            "cells": {
             "fill": {
              "color": "#EBF0F8"
             },
             "line": {
              "color": "white"
             }
            },
            "header": {
             "fill": {
              "color": "#C8D4E3"
             },
             "line": {
              "color": "white"
             }
            },
            "type": "table"
           }
          ]
         },
         "layout": {
          "annotationdefaults": {
           "arrowcolor": "#2a3f5f",
           "arrowhead": 0,
           "arrowwidth": 1
          },
          "autotypenumbers": "strict",
          "coloraxis": {
           "colorbar": {
            "outlinewidth": 0,
            "ticks": ""
           }
          },
          "colorscale": {
           "diverging": [
            [
             0,
             "#8e0152"
            ],
            [
             0.1,
             "#c51b7d"
            ],
            [
             0.2,
             "#de77ae"
            ],
            [
             0.3,
             "#f1b6da"
            ],
            [
             0.4,
             "#fde0ef"
            ],
            [
             0.5,
             "#f7f7f7"
            ],
            [
             0.6,
             "#e6f5d0"
            ],
            [
             0.7,
             "#b8e186"
            ],
            [
             0.8,
             "#7fbc41"
            ],
            [
             0.9,
             "#4d9221"
            ],
            [
             1,
             "#276419"
            ]
           ],
           "sequential": [
            [
             0,
             "#0d0887"
            ],
            [
             0.1111111111111111,
             "#46039f"
            ],
            [
             0.2222222222222222,
             "#7201a8"
            ],
            [
             0.3333333333333333,
             "#9c179e"
            ],
            [
             0.4444444444444444,
             "#bd3786"
            ],
            [
             0.5555555555555556,
             "#d8576b"
            ],
            [
             0.6666666666666666,
             "#ed7953"
            ],
            [
             0.7777777777777778,
             "#fb9f3a"
            ],
            [
             0.8888888888888888,
             "#fdca26"
            ],
            [
             1,
             "#f0f921"
            ]
           ],
           "sequentialminus": [
            [
             0,
             "#0d0887"
            ],
            [
             0.1111111111111111,
             "#46039f"
            ],
            [
             0.2222222222222222,
             "#7201a8"
            ],
            [
             0.3333333333333333,
             "#9c179e"
            ],
            [
             0.4444444444444444,
             "#bd3786"
            ],
            [
             0.5555555555555556,
             "#d8576b"
            ],
            [
             0.6666666666666666,
             "#ed7953"
            ],
            [
             0.7777777777777778,
             "#fb9f3a"
            ],
            [
             0.8888888888888888,
             "#fdca26"
            ],
            [
             1,
             "#f0f921"
            ]
           ]
          },
          "colorway": [
           "#636efa",
           "#EF553B",
           "#00cc96",
           "#ab63fa",
           "#FFA15A",
           "#19d3f3",
           "#FF6692",
           "#B6E880",
           "#FF97FF",
           "#FECB52"
          ],
          "font": {
           "color": "#2a3f5f"
          },
          "geo": {
           "bgcolor": "white",
           "lakecolor": "white",
           "landcolor": "#E5ECF6",
           "showlakes": true,
           "showland": true,
           "subunitcolor": "white"
          },
          "hoverlabel": {
           "align": "left"
          },
          "hovermode": "closest",
          "mapbox": {
           "style": "light"
          },
          "paper_bgcolor": "white",
          "plot_bgcolor": "#E5ECF6",
          "polar": {
           "angularaxis": {
            "gridcolor": "white",
            "linecolor": "white",
            "ticks": ""
           },
           "bgcolor": "#E5ECF6",
           "radialaxis": {
            "gridcolor": "white",
            "linecolor": "white",
            "ticks": ""
           }
          },
          "scene": {
           "xaxis": {
            "backgroundcolor": "#E5ECF6",
            "gridcolor": "white",
            "gridwidth": 2,
            "linecolor": "white",
            "showbackground": true,
            "ticks": "",
            "zerolinecolor": "white"
           },
           "yaxis": {
            "backgroundcolor": "#E5ECF6",
            "gridcolor": "white",
            "gridwidth": 2,
            "linecolor": "white",
            "showbackground": true,
            "ticks": "",
            "zerolinecolor": "white"
           },
           "zaxis": {
            "backgroundcolor": "#E5ECF6",
            "gridcolor": "white",
            "gridwidth": 2,
            "linecolor": "white",
            "showbackground": true,
            "ticks": "",
            "zerolinecolor": "white"
           }
          },
          "shapedefaults": {
           "line": {
            "color": "#2a3f5f"
           }
          },
          "ternary": {
           "aaxis": {
            "gridcolor": "white",
            "linecolor": "white",
            "ticks": ""
           },
           "baxis": {
            "gridcolor": "white",
            "linecolor": "white",
            "ticks": ""
           },
           "bgcolor": "#E5ECF6",
           "caxis": {
            "gridcolor": "white",
            "linecolor": "white",
            "ticks": ""
           }
          },
          "title": {
           "x": 0.05
          },
          "xaxis": {
           "automargin": true,
           "gridcolor": "white",
           "linecolor": "white",
           "ticks": "",
           "title": {
            "standoff": 15
           },
           "zerolinecolor": "white",
           "zerolinewidth": 2
          },
          "yaxis": {
           "automargin": true,
           "gridcolor": "white",
           "linecolor": "white",
           "ticks": "",
           "title": {
            "standoff": 15
           },
           "zerolinecolor": "white",
           "zerolinewidth": 2
          }
         }
        },
        "title": {
         "text": "XBP1s 37˚C vs. Basal 37˚C",
         "x": 0.5,
         "xanchor": "center"
        },
        "xaxis": {
         "anchor": "y",
         "domain": [
          0,
          1
         ],
         "title": {
          "text": "log2FoldChange_XBP1s37/basal37"
         }
        },
        "yaxis": {
         "anchor": "x",
         "domain": [
          0,
          1
         ],
         "title": {
          "text": "-log10_pvalue_XBP1s37/basal37"
         }
        }
       }
      },
      "text/html": [
       "<div>                            <div id=\"a296786c-c85b-40b4-8333-1aaf6636f3d0\" class=\"plotly-graph-div\" style=\"height:525px; width:100%;\"></div>            <script type=\"text/javascript\">                require([\"plotly\"], function(Plotly) {                    window.PLOTLYENV=window.PLOTLYENV || {};                                    if (document.getElementById(\"a296786c-c85b-40b4-8333-1aaf6636f3d0\")) {                    Plotly.newPlot(                        \"a296786c-c85b-40b4-8333-1aaf6636f3d0\",                        [{\"customdata\":[[\"CALR\"]],\"hovertemplate\":\"GeneSymbol=%{customdata[0]}<br>log2FoldChange_XBP1s37/basal37=%{x}<br>-log10_pvalue_XBP1s37/basal37=%{y}<extra></extra>\",\"legendgroup\":\"CALR\",\"marker\":{\"color\":\"#636efa\",\"symbol\":\"circle\"},\"mode\":\"markers\",\"name\":\"CALR\",\"orientation\":\"v\",\"showlegend\":true,\"x\":[1.211850605],\"xaxis\":\"x\",\"y\":[121.0288014],\"yaxis\":\"y\",\"type\":\"scatter\"},{\"customdata\":[[\"CANX\"]],\"hovertemplate\":\"GeneSymbol=%{customdata[0]}<br>log2FoldChange_XBP1s37/basal37=%{x}<br>-log10_pvalue_XBP1s37/basal37=%{y}<extra></extra>\",\"legendgroup\":\"CANX\",\"marker\":{\"color\":\"#EF553B\",\"symbol\":\"circle\"},\"mode\":\"markers\",\"name\":\"CANX\",\"orientation\":\"v\",\"showlegend\":true,\"x\":[1.373145973],\"xaxis\":\"x\",\"y\":[45.7727601],\"yaxis\":\"y\",\"type\":\"scatter\"},{\"customdata\":[[\"CCT3\"]],\"hovertemplate\":\"GeneSymbol=%{customdata[0]}<br>log2FoldChange_XBP1s37/basal37=%{x}<br>-log10_pvalue_XBP1s37/basal37=%{y}<extra></extra>\",\"legendgroup\":\"CCT3\",\"marker\":{\"color\":\"#00cc96\",\"symbol\":\"circle\"},\"mode\":\"markers\",\"name\":\"CCT3\",\"orientation\":\"v\",\"showlegend\":true,\"x\":[-0.038284096],\"xaxis\":\"x\",\"y\":[0.213690704],\"yaxis\":\"y\",\"type\":\"scatter\"},{\"customdata\":[[\"CCT6A\"]],\"hovertemplate\":\"GeneSymbol=%{customdata[0]}<br>log2FoldChange_XBP1s37/basal37=%{x}<br>-log10_pvalue_XBP1s37/basal37=%{y}<extra></extra>\",\"legendgroup\":\"CCT6A\",\"marker\":{\"color\":\"#ab63fa\",\"symbol\":\"circle\"},\"mode\":\"markers\",\"name\":\"CCT6A\",\"orientation\":\"v\",\"showlegend\":true,\"x\":[-0.144648425],\"xaxis\":\"x\",\"y\":[2.77767121],\"yaxis\":\"y\",\"type\":\"scatter\"},{\"customdata\":[[\"DNAJC3\"]],\"hovertemplate\":\"GeneSymbol=%{customdata[0]}<br>log2FoldChange_XBP1s37/basal37=%{x}<br>-log10_pvalue_XBP1s37/basal37=%{y}<extra></extra>\",\"legendgroup\":\"DNAJC3\",\"marker\":{\"color\":\"#FFA15A\",\"symbol\":\"circle\"},\"mode\":\"markers\",\"name\":\"DNAJC3\",\"orientation\":\"v\",\"showlegend\":true,\"x\":[1.823474407],\"xaxis\":\"x\",\"y\":[46.04021886],\"yaxis\":\"y\",\"type\":\"scatter\"},{\"customdata\":[[\"EMC1\"]],\"hovertemplate\":\"GeneSymbol=%{customdata[0]}<br>log2FoldChange_XBP1s37/basal37=%{x}<br>-log10_pvalue_XBP1s37/basal37=%{y}<extra></extra>\",\"legendgroup\":\"EMC1\",\"marker\":{\"color\":\"#19d3f3\",\"symbol\":\"circle\"},\"mode\":\"markers\",\"name\":\"EMC1\",\"orientation\":\"v\",\"showlegend\":true,\"x\":[0.046109059],\"xaxis\":\"x\",\"y\":[0.392290953],\"yaxis\":\"y\",\"type\":\"scatter\"},{\"customdata\":[[\"EMC3\"]],\"hovertemplate\":\"GeneSymbol=%{customdata[0]}<br>log2FoldChange_XBP1s37/basal37=%{x}<br>-log10_pvalue_XBP1s37/basal37=%{y}<extra></extra>\",\"legendgroup\":\"EMC3\",\"marker\":{\"color\":\"#FF6692\",\"symbol\":\"circle\"},\"mode\":\"markers\",\"name\":\"EMC3\",\"orientation\":\"v\",\"showlegend\":true,\"x\":[0.152739001],\"xaxis\":\"x\",\"y\":[1.153652178],\"yaxis\":\"y\",\"type\":\"scatter\"},{\"customdata\":[[\"ERO1A\"]],\"hovertemplate\":\"GeneSymbol=%{customdata[0]}<br>log2FoldChange_XBP1s37/basal37=%{x}<br>-log10_pvalue_XBP1s37/basal37=%{y}<extra></extra>\",\"legendgroup\":\"ERO1A\",\"marker\":{\"color\":\"#B6E880\",\"symbol\":\"circle\"},\"mode\":\"markers\",\"name\":\"ERO1A\",\"orientation\":\"v\",\"showlegend\":true,\"x\":[0.385421108],\"xaxis\":\"x\",\"y\":[2.547031022],\"yaxis\":\"y\",\"type\":\"scatter\"},{\"customdata\":[[\"ERO1B\"]],\"hovertemplate\":\"GeneSymbol=%{customdata[0]}<br>log2FoldChange_XBP1s37/basal37=%{x}<br>-log10_pvalue_XBP1s37/basal37=%{y}<extra></extra>\",\"legendgroup\":\"ERO1B\",\"marker\":{\"color\":\"#FF97FF\",\"symbol\":\"circle\"},\"mode\":\"markers\",\"name\":\"ERO1B\",\"orientation\":\"v\",\"showlegend\":true,\"x\":[1.951922596],\"xaxis\":\"x\",\"y\":[33.66677373],\"yaxis\":\"y\",\"type\":\"scatter\"},{\"customdata\":[[\"FKBP8\"]],\"hovertemplate\":\"GeneSymbol=%{customdata[0]}<br>log2FoldChange_XBP1s37/basal37=%{x}<br>-log10_pvalue_XBP1s37/basal37=%{y}<extra></extra>\",\"legendgroup\":\"FKBP8\",\"marker\":{\"color\":\"#FECB52\",\"symbol\":\"circle\"},\"mode\":\"markers\",\"name\":\"FKBP8\",\"orientation\":\"v\",\"showlegend\":true,\"x\":[-0.007317458],\"xaxis\":\"x\",\"y\":[0.020309722],\"yaxis\":\"y\",\"type\":\"scatter\"},{\"customdata\":[[\"HSP90B1\"]],\"hovertemplate\":\"GeneSymbol=%{customdata[0]}<br>log2FoldChange_XBP1s37/basal37=%{x}<br>-log10_pvalue_XBP1s37/basal37=%{y}<extra></extra>\",\"legendgroup\":\"HSP90B1\",\"marker\":{\"color\":\"#636efa\",\"symbol\":\"circle\"},\"mode\":\"markers\",\"name\":\"HSP90B1\",\"orientation\":\"v\",\"showlegend\":true,\"x\":[1.540399667],\"xaxis\":\"x\",\"y\":[183.0284876],\"yaxis\":\"y\",\"type\":\"scatter\"},{\"customdata\":[[\"HSPA5\"]],\"hovertemplate\":\"GeneSymbol=%{customdata[0]}<br>log2FoldChange_XBP1s37/basal37=%{x}<br>-log10_pvalue_XBP1s37/basal37=%{y}<extra></extra>\",\"legendgroup\":\"HSPA5\",\"marker\":{\"color\":\"#EF553B\",\"symbol\":\"circle\"},\"mode\":\"markers\",\"name\":\"HSPA5\",\"orientation\":\"v\",\"showlegend\":true,\"x\":[1.731539891],\"xaxis\":\"x\",\"y\":[208.5425871],\"yaxis\":\"y\",\"type\":\"scatter\"},{\"customdata\":[[\"HSPA8\"]],\"hovertemplate\":\"GeneSymbol=%{customdata[0]}<br>log2FoldChange_XBP1s37/basal37=%{x}<br>-log10_pvalue_XBP1s37/basal37=%{y}<extra></extra>\",\"legendgroup\":\"HSPA8\",\"marker\":{\"color\":\"#00cc96\",\"symbol\":\"circle\"},\"mode\":\"markers\",\"name\":\"HSPA8\",\"orientation\":\"v\",\"showlegend\":true,\"x\":[-0.255800528],\"xaxis\":\"x\",\"y\":[13.62919734],\"yaxis\":\"y\",\"type\":\"scatter\"},{\"customdata\":[[\"HSPA9\"]],\"hovertemplate\":\"GeneSymbol=%{customdata[0]}<br>log2FoldChange_XBP1s37/basal37=%{x}<br>-log10_pvalue_XBP1s37/basal37=%{y}<extra></extra>\",\"legendgroup\":\"HSPA9\",\"marker\":{\"color\":\"#ab63fa\",\"symbol\":\"circle\"},\"mode\":\"markers\",\"name\":\"HSPA9\",\"orientation\":\"v\",\"showlegend\":true,\"x\":[0.153391144],\"xaxis\":\"x\",\"y\":[5.081957979],\"yaxis\":\"y\",\"type\":\"scatter\"},{\"customdata\":[[\"HSPD1\"]],\"hovertemplate\":\"GeneSymbol=%{customdata[0]}<br>log2FoldChange_XBP1s37/basal37=%{x}<br>-log10_pvalue_XBP1s37/basal37=%{y}<extra></extra>\",\"legendgroup\":\"HSPD1\",\"marker\":{\"color\":\"#FFA15A\",\"symbol\":\"circle\"},\"mode\":\"markers\",\"name\":\"HSPD1\",\"orientation\":\"v\",\"showlegend\":true,\"x\":[0.00684573],\"xaxis\":\"x\",\"y\":[0.057652974],\"yaxis\":\"y\",\"type\":\"scatter\"},{\"customdata\":[[\"HSPH1\"]],\"hovertemplate\":\"GeneSymbol=%{customdata[0]}<br>log2FoldChange_XBP1s37/basal37=%{x}<br>-log10_pvalue_XBP1s37/basal37=%{y}<extra></extra>\",\"legendgroup\":\"HSPH1\",\"marker\":{\"color\":\"#19d3f3\",\"symbol\":\"circle\"},\"mode\":\"markers\",\"name\":\"HSPH1\",\"orientation\":\"v\",\"showlegend\":true,\"x\":[-0.144459229],\"xaxis\":\"x\",\"y\":[0.945045387],\"yaxis\":\"y\",\"type\":\"scatter\"},{\"customdata\":[[\"HYOU1\"]],\"hovertemplate\":\"GeneSymbol=%{customdata[0]}<br>log2FoldChange_XBP1s37/basal37=%{x}<br>-log10_pvalue_XBP1s37/basal37=%{y}<extra></extra>\",\"legendgroup\":\"HYOU1\",\"marker\":{\"color\":\"#FF6692\",\"symbol\":\"circle\"},\"mode\":\"markers\",\"name\":\"HYOU1\",\"orientation\":\"v\",\"showlegend\":true,\"x\":[2.388332704],\"xaxis\":\"x\",\"y\":[208.5425871],\"yaxis\":\"y\",\"type\":\"scatter\"},{\"customdata\":[[\"P4HB\"]],\"hovertemplate\":\"GeneSymbol=%{customdata[0]}<br>log2FoldChange_XBP1s37/basal37=%{x}<br>-log10_pvalue_XBP1s37/basal37=%{y}<extra></extra>\",\"legendgroup\":\"P4HB\",\"marker\":{\"color\":\"#B6E880\",\"symbol\":\"circle\"},\"mode\":\"markers\",\"name\":\"P4HB\",\"orientation\":\"v\",\"showlegend\":true,\"x\":[1.668921844],\"xaxis\":\"x\",\"y\":[133.7530743],\"yaxis\":\"y\",\"type\":\"scatter\"},{\"customdata\":[[\"PDIA3\"]],\"hovertemplate\":\"GeneSymbol=%{customdata[0]}<br>log2FoldChange_XBP1s37/basal37=%{x}<br>-log10_pvalue_XBP1s37/basal37=%{y}<extra></extra>\",\"legendgroup\":\"PDIA3\",\"marker\":{\"color\":\"#FF97FF\",\"symbol\":\"circle\"},\"mode\":\"markers\",\"name\":\"PDIA3\",\"orientation\":\"v\",\"showlegend\":true,\"x\":[1.533057644],\"xaxis\":\"x\",\"y\":[208.5425871],\"yaxis\":\"y\",\"type\":\"scatter\"},{\"customdata\":[[\"PFDN2\"]],\"hovertemplate\":\"GeneSymbol=%{customdata[0]}<br>log2FoldChange_XBP1s37/basal37=%{x}<br>-log10_pvalue_XBP1s37/basal37=%{y}<extra></extra>\",\"legendgroup\":\"PFDN2\",\"marker\":{\"color\":\"#FECB52\",\"symbol\":\"circle\"},\"mode\":\"markers\",\"name\":\"PFDN2\",\"orientation\":\"v\",\"showlegend\":true,\"x\":[0.196573661],\"xaxis\":\"x\",\"y\":[0.520596905],\"yaxis\":\"y\",\"type\":\"scatter\"},{\"customdata\":[[\"VAPA\"]],\"hovertemplate\":\"GeneSymbol=%{customdata[0]}<br>log2FoldChange_XBP1s37/basal37=%{x}<br>-log10_pvalue_XBP1s37/basal37=%{y}<extra></extra>\",\"legendgroup\":\"VAPA\",\"marker\":{\"color\":\"#636efa\",\"symbol\":\"circle\"},\"mode\":\"markers\",\"name\":\"VAPA\",\"orientation\":\"v\",\"showlegend\":true,\"x\":[0.103340571],\"xaxis\":\"x\",\"y\":[0.900547406],\"yaxis\":\"y\",\"type\":\"scatter\"}],                        {\"template\":{\"data\":{\"bar\":[{\"error_x\":{\"color\":\"#2a3f5f\"},\"error_y\":{\"color\":\"#2a3f5f\"},\"marker\":{\"line\":{\"color\":\"#E5ECF6\",\"width\":0.5},\"pattern\":{\"fillmode\":\"overlay\",\"size\":10,\"solidity\":0.2}},\"type\":\"bar\"}],\"barpolar\":[{\"marker\":{\"line\":{\"color\":\"#E5ECF6\",\"width\":0.5},\"pattern\":{\"fillmode\":\"overlay\",\"size\":10,\"solidity\":0.2}},\"type\":\"barpolar\"}],\"carpet\":[{\"aaxis\":{\"endlinecolor\":\"#2a3f5f\",\"gridcolor\":\"white\",\"linecolor\":\"white\",\"minorgridcolor\":\"white\",\"startlinecolor\":\"#2a3f5f\"},\"baxis\":{\"endlinecolor\":\"#2a3f5f\",\"gridcolor\":\"white\",\"linecolor\":\"white\",\"minorgridcolor\":\"white\",\"startlinecolor\":\"#2a3f5f\"},\"type\":\"carpet\"}],\"choropleth\":[{\"colorbar\":{\"outlinewidth\":0,\"ticks\":\"\"},\"type\":\"choropleth\"}],\"contour\":[{\"colorbar\":{\"outlinewidth\":0,\"ticks\":\"\"},\"colorscale\":[[0.0,\"#0d0887\"],[0.1111111111111111,\"#46039f\"],[0.2222222222222222,\"#7201a8\"],[0.3333333333333333,\"#9c179e\"],[0.4444444444444444,\"#bd3786\"],[0.5555555555555556,\"#d8576b\"],[0.6666666666666666,\"#ed7953\"],[0.7777777777777778,\"#fb9f3a\"],[0.8888888888888888,\"#fdca26\"],[1.0,\"#f0f921\"]],\"type\":\"contour\"}],\"contourcarpet\":[{\"colorbar\":{\"outlinewidth\":0,\"ticks\":\"\"},\"type\":\"contourcarpet\"}],\"heatmap\":[{\"colorbar\":{\"outlinewidth\":0,\"ticks\":\"\"},\"colorscale\":[[0.0,\"#0d0887\"],[0.1111111111111111,\"#46039f\"],[0.2222222222222222,\"#7201a8\"],[0.3333333333333333,\"#9c179e\"],[0.4444444444444444,\"#bd3786\"],[0.5555555555555556,\"#d8576b\"],[0.6666666666666666,\"#ed7953\"],[0.7777777777777778,\"#fb9f3a\"],[0.8888888888888888,\"#fdca26\"],[1.0,\"#f0f921\"]],\"type\":\"heatmap\"}],\"heatmapgl\":[{\"colorbar\":{\"outlinewidth\":0,\"ticks\":\"\"},\"colorscale\":[[0.0,\"#0d0887\"],[0.1111111111111111,\"#46039f\"],[0.2222222222222222,\"#7201a8\"],[0.3333333333333333,\"#9c179e\"],[0.4444444444444444,\"#bd3786\"],[0.5555555555555556,\"#d8576b\"],[0.6666666666666666,\"#ed7953\"],[0.7777777777777778,\"#fb9f3a\"],[0.8888888888888888,\"#fdca26\"],[1.0,\"#f0f921\"]],\"type\":\"heatmapgl\"}],\"histogram\":[{\"marker\":{\"pattern\":{\"fillmode\":\"overlay\",\"size\":10,\"solidity\":0.2}},\"type\":\"histogram\"}],\"histogram2d\":[{\"colorbar\":{\"outlinewidth\":0,\"ticks\":\"\"},\"colorscale\":[[0.0,\"#0d0887\"],[0.1111111111111111,\"#46039f\"],[0.2222222222222222,\"#7201a8\"],[0.3333333333333333,\"#9c179e\"],[0.4444444444444444,\"#bd3786\"],[0.5555555555555556,\"#d8576b\"],[0.6666666666666666,\"#ed7953\"],[0.7777777777777778,\"#fb9f3a\"],[0.8888888888888888,\"#fdca26\"],[1.0,\"#f0f921\"]],\"type\":\"histogram2d\"}],\"histogram2dcontour\":[{\"colorbar\":{\"outlinewidth\":0,\"ticks\":\"\"},\"colorscale\":[[0.0,\"#0d0887\"],[0.1111111111111111,\"#46039f\"],[0.2222222222222222,\"#7201a8\"],[0.3333333333333333,\"#9c179e\"],[0.4444444444444444,\"#bd3786\"],[0.5555555555555556,\"#d8576b\"],[0.6666666666666666,\"#ed7953\"],[0.7777777777777778,\"#fb9f3a\"],[0.8888888888888888,\"#fdca26\"],[1.0,\"#f0f921\"]],\"type\":\"histogram2dcontour\"}],\"mesh3d\":[{\"colorbar\":{\"outlinewidth\":0,\"ticks\":\"\"},\"type\":\"mesh3d\"}],\"parcoords\":[{\"line\":{\"colorbar\":{\"outlinewidth\":0,\"ticks\":\"\"}},\"type\":\"parcoords\"}],\"pie\":[{\"automargin\":true,\"type\":\"pie\"}],\"scatter\":[{\"marker\":{\"colorbar\":{\"outlinewidth\":0,\"ticks\":\"\"}},\"type\":\"scatter\"}],\"scatter3d\":[{\"line\":{\"colorbar\":{\"outlinewidth\":0,\"ticks\":\"\"}},\"marker\":{\"colorbar\":{\"outlinewidth\":0,\"ticks\":\"\"}},\"type\":\"scatter3d\"}],\"scattercarpet\":[{\"marker\":{\"colorbar\":{\"outlinewidth\":0,\"ticks\":\"\"}},\"type\":\"scattercarpet\"}],\"scattergeo\":[{\"marker\":{\"colorbar\":{\"outlinewidth\":0,\"ticks\":\"\"}},\"type\":\"scattergeo\"}],\"scattergl\":[{\"marker\":{\"colorbar\":{\"outlinewidth\":0,\"ticks\":\"\"}},\"type\":\"scattergl\"}],\"scattermapbox\":[{\"marker\":{\"colorbar\":{\"outlinewidth\":0,\"ticks\":\"\"}},\"type\":\"scattermapbox\"}],\"scatterpolar\":[{\"marker\":{\"colorbar\":{\"outlinewidth\":0,\"ticks\":\"\"}},\"type\":\"scatterpolar\"}],\"scatterpolargl\":[{\"marker\":{\"colorbar\":{\"outlinewidth\":0,\"ticks\":\"\"}},\"type\":\"scatterpolargl\"}],\"scatterternary\":[{\"marker\":{\"colorbar\":{\"outlinewidth\":0,\"ticks\":\"\"}},\"type\":\"scatterternary\"}],\"surface\":[{\"colorbar\":{\"outlinewidth\":0,\"ticks\":\"\"},\"colorscale\":[[0.0,\"#0d0887\"],[0.1111111111111111,\"#46039f\"],[0.2222222222222222,\"#7201a8\"],[0.3333333333333333,\"#9c179e\"],[0.4444444444444444,\"#bd3786\"],[0.5555555555555556,\"#d8576b\"],[0.6666666666666666,\"#ed7953\"],[0.7777777777777778,\"#fb9f3a\"],[0.8888888888888888,\"#fdca26\"],[1.0,\"#f0f921\"]],\"type\":\"surface\"}],\"table\":[{\"cells\":{\"fill\":{\"color\":\"#EBF0F8\"},\"line\":{\"color\":\"white\"}},\"header\":{\"fill\":{\"color\":\"#C8D4E3\"},\"line\":{\"color\":\"white\"}},\"type\":\"table\"}]},\"layout\":{\"annotationdefaults\":{\"arrowcolor\":\"#2a3f5f\",\"arrowhead\":0,\"arrowwidth\":1},\"autotypenumbers\":\"strict\",\"coloraxis\":{\"colorbar\":{\"outlinewidth\":0,\"ticks\":\"\"}},\"colorscale\":{\"diverging\":[[0,\"#8e0152\"],[0.1,\"#c51b7d\"],[0.2,\"#de77ae\"],[0.3,\"#f1b6da\"],[0.4,\"#fde0ef\"],[0.5,\"#f7f7f7\"],[0.6,\"#e6f5d0\"],[0.7,\"#b8e186\"],[0.8,\"#7fbc41\"],[0.9,\"#4d9221\"],[1,\"#276419\"]],\"sequential\":[[0.0,\"#0d0887\"],[0.1111111111111111,\"#46039f\"],[0.2222222222222222,\"#7201a8\"],[0.3333333333333333,\"#9c179e\"],[0.4444444444444444,\"#bd3786\"],[0.5555555555555556,\"#d8576b\"],[0.6666666666666666,\"#ed7953\"],[0.7777777777777778,\"#fb9f3a\"],[0.8888888888888888,\"#fdca26\"],[1.0,\"#f0f921\"]],\"sequentialminus\":[[0.0,\"#0d0887\"],[0.1111111111111111,\"#46039f\"],[0.2222222222222222,\"#7201a8\"],[0.3333333333333333,\"#9c179e\"],[0.4444444444444444,\"#bd3786\"],[0.5555555555555556,\"#d8576b\"],[0.6666666666666666,\"#ed7953\"],[0.7777777777777778,\"#fb9f3a\"],[0.8888888888888888,\"#fdca26\"],[1.0,\"#f0f921\"]]},\"colorway\":[\"#636efa\",\"#EF553B\",\"#00cc96\",\"#ab63fa\",\"#FFA15A\",\"#19d3f3\",\"#FF6692\",\"#B6E880\",\"#FF97FF\",\"#FECB52\"],\"font\":{\"color\":\"#2a3f5f\"},\"geo\":{\"bgcolor\":\"white\",\"lakecolor\":\"white\",\"landcolor\":\"#E5ECF6\",\"showlakes\":true,\"showland\":true,\"subunitcolor\":\"white\"},\"hoverlabel\":{\"align\":\"left\"},\"hovermode\":\"closest\",\"mapbox\":{\"style\":\"light\"},\"paper_bgcolor\":\"white\",\"plot_bgcolor\":\"#E5ECF6\",\"polar\":{\"angularaxis\":{\"gridcolor\":\"white\",\"linecolor\":\"white\",\"ticks\":\"\"},\"bgcolor\":\"#E5ECF6\",\"radialaxis\":{\"gridcolor\":\"white\",\"linecolor\":\"white\",\"ticks\":\"\"}},\"scene\":{\"xaxis\":{\"backgroundcolor\":\"#E5ECF6\",\"gridcolor\":\"white\",\"gridwidth\":2,\"linecolor\":\"white\",\"showbackground\":true,\"ticks\":\"\",\"zerolinecolor\":\"white\"},\"yaxis\":{\"backgroundcolor\":\"#E5ECF6\",\"gridcolor\":\"white\",\"gridwidth\":2,\"linecolor\":\"white\",\"showbackground\":true,\"ticks\":\"\",\"zerolinecolor\":\"white\"},\"zaxis\":{\"backgroundcolor\":\"#E5ECF6\",\"gridcolor\":\"white\",\"gridwidth\":2,\"linecolor\":\"white\",\"showbackground\":true,\"ticks\":\"\",\"zerolinecolor\":\"white\"}},\"shapedefaults\":{\"line\":{\"color\":\"#2a3f5f\"}},\"ternary\":{\"aaxis\":{\"gridcolor\":\"white\",\"linecolor\":\"white\",\"ticks\":\"\"},\"baxis\":{\"gridcolor\":\"white\",\"linecolor\":\"white\",\"ticks\":\"\"},\"bgcolor\":\"#E5ECF6\",\"caxis\":{\"gridcolor\":\"white\",\"linecolor\":\"white\",\"ticks\":\"\"}},\"title\":{\"x\":0.05},\"xaxis\":{\"automargin\":true,\"gridcolor\":\"white\",\"linecolor\":\"white\",\"ticks\":\"\",\"title\":{\"standoff\":15},\"zerolinecolor\":\"white\",\"zerolinewidth\":2},\"yaxis\":{\"automargin\":true,\"gridcolor\":\"white\",\"linecolor\":\"white\",\"ticks\":\"\",\"title\":{\"standoff\":15},\"zerolinecolor\":\"white\",\"zerolinewidth\":2}}},\"xaxis\":{\"anchor\":\"y\",\"domain\":[0.0,1.0],\"title\":{\"text\":\"log2FoldChange_XBP1s37/basal37\"}},\"yaxis\":{\"anchor\":\"x\",\"domain\":[0.0,1.0],\"title\":{\"text\":\"-log10_pvalue_XBP1s37/basal37\"}},\"legend\":{\"title\":{\"text\":\"GeneSymbol\"},\"tracegroupgap\":0},\"margin\":{\"t\":60},\"title\":{\"text\":\"XBP1s 37\\u02daC vs. Basal 37\\u02daC\",\"x\":0.5,\"xanchor\":\"center\"}},                        {\"responsive\": true}                    ).then(function(){\n",
       "                            \n",
       "var gd = document.getElementById('a296786c-c85b-40b4-8333-1aaf6636f3d0');\n",
       "var x = new MutationObserver(function (mutations, observer) {{\n",
       "        var display = window.getComputedStyle(gd).display;\n",
       "        if (!display || display === 'none') {{\n",
       "            console.log([gd, 'removed!']);\n",
       "            Plotly.purge(gd);\n",
       "            observer.disconnect();\n",
       "        }}\n",
       "}});\n",
       "\n",
       "// Listen for the removal of the full notebook cells\n",
       "var notebookContainer = gd.closest('#notebook-container');\n",
       "if (notebookContainer) {{\n",
       "    x.observe(notebookContainer, {childList: true});\n",
       "}}\n",
       "\n",
       "// Listen for the clearing of the current output cell\n",
       "var outputEl = gd.closest('.output');\n",
       "if (outputEl) {{\n",
       "    x.observe(outputEl, {childList: true});\n",
       "}}\n",
       "\n",
       "                        })                };                });            </script>        </div>"
      ]
     },
     "metadata": {},
     "output_type": "display_data"
    },
    {
     "data": {
      "application/vnd.plotly.v1+json": {
       "config": {
        "plotlyServerURL": "https://plot.ly"
       },
       "data": [
        {
         "customdata": [
          [
           "CALR"
          ]
         ],
         "hovertemplate": "GeneSymbol=%{customdata[0]}<br>log2FoldChange_ATF6fXBP1s37/basal37=%{x}<br>-log10_pvalue_ATF6fXBP1s37/basal37=%{y}<extra></extra>",
         "legendgroup": "CALR",
         "marker": {
          "color": "#636efa",
          "symbol": "circle"
         },
         "mode": "markers",
         "name": "CALR",
         "orientation": "v",
         "showlegend": true,
         "type": "scatter",
         "x": [
          2.419909948
         ],
         "xaxis": "x",
         "y": [
          252.1068246
         ],
         "yaxis": "y"
        },
        {
         "customdata": [
          [
           "CANX"
          ]
         ],
         "hovertemplate": "GeneSymbol=%{customdata[0]}<br>log2FoldChange_ATF6fXBP1s37/basal37=%{x}<br>-log10_pvalue_ATF6fXBP1s37/basal37=%{y}<extra></extra>",
         "legendgroup": "CANX",
         "marker": {
          "color": "#EF553B",
          "symbol": "circle"
         },
         "mode": "markers",
         "name": "CANX",
         "orientation": "v",
         "showlegend": true,
         "type": "scatter",
         "x": [
          1.506927893
         ],
         "xaxis": "x",
         "y": [
          54.94316309
         ],
         "yaxis": "y"
        },
        {
         "customdata": [
          [
           "CCT3"
          ]
         ],
         "hovertemplate": "GeneSymbol=%{customdata[0]}<br>log2FoldChange_ATF6fXBP1s37/basal37=%{x}<br>-log10_pvalue_ATF6fXBP1s37/basal37=%{y}<extra></extra>",
         "legendgroup": "CCT3",
         "marker": {
          "color": "#00cc96",
          "symbol": "circle"
         },
         "mode": "markers",
         "name": "CCT3",
         "orientation": "v",
         "showlegend": true,
         "type": "scatter",
         "x": [
          0.078621739
         ],
         "xaxis": "x",
         "y": [
          0.528990082
         ],
         "yaxis": "y"
        },
        {
         "customdata": [
          [
           "CCT6A"
          ]
         ],
         "hovertemplate": "GeneSymbol=%{customdata[0]}<br>log2FoldChange_ATF6fXBP1s37/basal37=%{x}<br>-log10_pvalue_ATF6fXBP1s37/basal37=%{y}<extra></extra>",
         "legendgroup": "CCT6A",
         "marker": {
          "color": "#ab63fa",
          "symbol": "circle"
         },
         "mode": "markers",
         "name": "CCT6A",
         "orientation": "v",
         "showlegend": true,
         "type": "scatter",
         "x": [
          -0.247637621
         ],
         "xaxis": "x",
         "y": [
          7.134874356
         ],
         "yaxis": "y"
        },
        {
         "customdata": [
          [
           "DNAJC3"
          ]
         ],
         "hovertemplate": "GeneSymbol=%{customdata[0]}<br>log2FoldChange_ATF6fXBP1s37/basal37=%{x}<br>-log10_pvalue_ATF6fXBP1s37/basal37=%{y}<extra></extra>",
         "legendgroup": "DNAJC3",
         "marker": {
          "color": "#FFA15A",
          "symbol": "circle"
         },
         "mode": "markers",
         "name": "DNAJC3",
         "orientation": "v",
         "showlegend": true,
         "type": "scatter",
         "x": [
          2.365689522
         ],
         "xaxis": "x",
         "y": [
          77.47765012
         ],
         "yaxis": "y"
        },
        {
         "customdata": [
          [
           "EMC1"
          ]
         ],
         "hovertemplate": "GeneSymbol=%{customdata[0]}<br>log2FoldChange_ATF6fXBP1s37/basal37=%{x}<br>-log10_pvalue_ATF6fXBP1s37/basal37=%{y}<extra></extra>",
         "legendgroup": "EMC1",
         "marker": {
          "color": "#19d3f3",
          "symbol": "circle"
         },
         "mode": "markers",
         "name": "EMC1",
         "orientation": "v",
         "showlegend": true,
         "type": "scatter",
         "x": [
          0.032082231
         ],
         "xaxis": "x",
         "y": [
          0.253226566
         ],
         "yaxis": "y"
        },
        {
         "customdata": [
          [
           "EMC3"
          ]
         ],
         "hovertemplate": "GeneSymbol=%{customdata[0]}<br>log2FoldChange_ATF6fXBP1s37/basal37=%{x}<br>-log10_pvalue_ATF6fXBP1s37/basal37=%{y}<extra></extra>",
         "legendgroup": "EMC3",
         "marker": {
          "color": "#FF6692",
          "symbol": "circle"
         },
         "mode": "markers",
         "name": "EMC3",
         "orientation": "v",
         "showlegend": true,
         "type": "scatter",
         "x": [
          0.250556625
         ],
         "xaxis": "x",
         "y": [
          2.602561639
         ],
         "yaxis": "y"
        },
        {
         "customdata": [
          [
           "ERO1A"
          ]
         ],
         "hovertemplate": "GeneSymbol=%{customdata[0]}<br>log2FoldChange_ATF6fXBP1s37/basal37=%{x}<br>-log10_pvalue_ATF6fXBP1s37/basal37=%{y}<extra></extra>",
         "legendgroup": "ERO1A",
         "marker": {
          "color": "#B6E880",
          "symbol": "circle"
         },
         "mode": "markers",
         "name": "ERO1A",
         "orientation": "v",
         "showlegend": true,
         "type": "scatter",
         "x": [
          0.386165371
         ],
         "xaxis": "x",
         "y": [
          2.559852805
         ],
         "yaxis": "y"
        },
        {
         "customdata": [
          [
           "ERO1B"
          ]
         ],
         "hovertemplate": "GeneSymbol=%{customdata[0]}<br>log2FoldChange_ATF6fXBP1s37/basal37=%{x}<br>-log10_pvalue_ATF6fXBP1s37/basal37=%{y}<extra></extra>",
         "legendgroup": "ERO1B",
         "marker": {
          "color": "#FF97FF",
          "symbol": "circle"
         },
         "mode": "markers",
         "name": "ERO1B",
         "orientation": "v",
         "showlegend": true,
         "type": "scatter",
         "x": [
          1.985037015
         ],
         "xaxis": "x",
         "y": [
          34.85133324
         ],
         "yaxis": "y"
        },
        {
         "customdata": [
          [
           "FKBP8"
          ]
         ],
         "hovertemplate": "GeneSymbol=%{customdata[0]}<br>log2FoldChange_ATF6fXBP1s37/basal37=%{x}<br>-log10_pvalue_ATF6fXBP1s37/basal37=%{y}<extra></extra>",
         "legendgroup": "FKBP8",
         "marker": {
          "color": "#FECB52",
          "symbol": "circle"
         },
         "mode": "markers",
         "name": "FKBP8",
         "orientation": "v",
         "showlegend": true,
         "type": "scatter",
         "x": [
          0.191517694
         ],
         "xaxis": "x",
         "y": [
          0.878565196
         ],
         "yaxis": "y"
        },
        {
         "customdata": [
          [
           "HSP90B1"
          ]
         ],
         "hovertemplate": "GeneSymbol=%{customdata[0]}<br>log2FoldChange_ATF6fXBP1s37/basal37=%{x}<br>-log10_pvalue_ATF6fXBP1s37/basal37=%{y}<extra></extra>",
         "legendgroup": "HSP90B1",
         "marker": {
          "color": "#636efa",
          "symbol": "circle"
         },
         "mode": "markers",
         "name": "HSP90B1",
         "orientation": "v",
         "showlegend": true,
         "type": "scatter",
         "x": [
          3.441886293
         ],
         "xaxis": "x",
         "y": [
          252.1068246
         ],
         "yaxis": "y"
        },
        {
         "customdata": [
          [
           "HSPA5"
          ]
         ],
         "hovertemplate": "GeneSymbol=%{customdata[0]}<br>log2FoldChange_ATF6fXBP1s37/basal37=%{x}<br>-log10_pvalue_ATF6fXBP1s37/basal37=%{y}<extra></extra>",
         "legendgroup": "HSPA5",
         "marker": {
          "color": "#EF553B",
          "symbol": "circle"
         },
         "mode": "markers",
         "name": "HSPA5",
         "orientation": "v",
         "showlegend": true,
         "type": "scatter",
         "x": [
          3.945763315
         ],
         "xaxis": "x",
         "y": [
          252.1068246
         ],
         "yaxis": "y"
        },
        {
         "customdata": [
          [
           "HSPA8"
          ]
         ],
         "hovertemplate": "GeneSymbol=%{customdata[0]}<br>log2FoldChange_ATF6fXBP1s37/basal37=%{x}<br>-log10_pvalue_ATF6fXBP1s37/basal37=%{y}<extra></extra>",
         "legendgroup": "HSPA8",
         "marker": {
          "color": "#00cc96",
          "symbol": "circle"
         },
         "mode": "markers",
         "name": "HSPA8",
         "orientation": "v",
         "showlegend": true,
         "type": "scatter",
         "x": [
          -0.516075212
         ],
         "xaxis": "x",
         "y": [
          52.36880639
         ],
         "yaxis": "y"
        },
        {
         "customdata": [
          [
           "HSPA9"
          ]
         ],
         "hovertemplate": "GeneSymbol=%{customdata[0]}<br>log2FoldChange_ATF6fXBP1s37/basal37=%{x}<br>-log10_pvalue_ATF6fXBP1s37/basal37=%{y}<extra></extra>",
         "legendgroup": "HSPA9",
         "marker": {
          "color": "#ab63fa",
          "symbol": "circle"
         },
         "mode": "markers",
         "name": "HSPA9",
         "orientation": "v",
         "showlegend": true,
         "type": "scatter",
         "x": [
          0.345738003
         ],
         "xaxis": "x",
         "y": [
          23.61990334
         ],
         "yaxis": "y"
        },
        {
         "customdata": [
          [
           "HSPD1"
          ]
         ],
         "hovertemplate": "GeneSymbol=%{customdata[0]}<br>log2FoldChange_ATF6fXBP1s37/basal37=%{x}<br>-log10_pvalue_ATF6fXBP1s37/basal37=%{y}<extra></extra>",
         "legendgroup": "HSPD1",
         "marker": {
          "color": "#FFA15A",
          "symbol": "circle"
         },
         "mode": "markers",
         "name": "HSPD1",
         "orientation": "v",
         "showlegend": true,
         "type": "scatter",
         "x": [
          -0.144760824
         ],
         "xaxis": "x",
         "y": [
          3.023557422
         ],
         "yaxis": "y"
        },
        {
         "customdata": [
          [
           "HSPH1"
          ]
         ],
         "hovertemplate": "GeneSymbol=%{customdata[0]}<br>log2FoldChange_ATF6fXBP1s37/basal37=%{x}<br>-log10_pvalue_ATF6fXBP1s37/basal37=%{y}<extra></extra>",
         "legendgroup": "HSPH1",
         "marker": {
          "color": "#19d3f3",
          "symbol": "circle"
         },
         "mode": "markers",
         "name": "HSPH1",
         "orientation": "v",
         "showlegend": true,
         "type": "scatter",
         "x": [
          -0.388439791
         ],
         "xaxis": "x",
         "y": [
          4.650641261
         ],
         "yaxis": "y"
        },
        {
         "customdata": [
          [
           "HYOU1"
          ]
         ],
         "hovertemplate": "GeneSymbol=%{customdata[0]}<br>log2FoldChange_ATF6fXBP1s37/basal37=%{x}<br>-log10_pvalue_ATF6fXBP1s37/basal37=%{y}<extra></extra>",
         "legendgroup": "HYOU1",
         "marker": {
          "color": "#FF6692",
          "symbol": "circle"
         },
         "mode": "markers",
         "name": "HYOU1",
         "orientation": "v",
         "showlegend": true,
         "type": "scatter",
         "x": [
          3.537438389
         ],
         "xaxis": "x",
         "y": [
          252.1068246
         ],
         "yaxis": "y"
        },
        {
         "customdata": [
          [
           "P4HB"
          ]
         ],
         "hovertemplate": "GeneSymbol=%{customdata[0]}<br>log2FoldChange_ATF6fXBP1s37/basal37=%{x}<br>-log10_pvalue_ATF6fXBP1s37/basal37=%{y}<extra></extra>",
         "legendgroup": "P4HB",
         "marker": {
          "color": "#B6E880",
          "symbol": "circle"
         },
         "mode": "markers",
         "name": "P4HB",
         "orientation": "v",
         "showlegend": true,
         "type": "scatter",
         "x": [
          2.290182037
         ],
         "xaxis": "x",
         "y": [
          252.1068246
         ],
         "yaxis": "y"
        },
        {
         "customdata": [
          [
           "PDIA3"
          ]
         ],
         "hovertemplate": "GeneSymbol=%{customdata[0]}<br>log2FoldChange_ATF6fXBP1s37/basal37=%{x}<br>-log10_pvalue_ATF6fXBP1s37/basal37=%{y}<extra></extra>",
         "legendgroup": "PDIA3",
         "marker": {
          "color": "#FF97FF",
          "symbol": "circle"
         },
         "mode": "markers",
         "name": "PDIA3",
         "orientation": "v",
         "showlegend": true,
         "type": "scatter",
         "x": [
          2.091015133
         ],
         "xaxis": "x",
         "y": [
          252.1068246
         ],
         "yaxis": "y"
        },
        {
         "customdata": [
          [
           "PFDN2"
          ]
         ],
         "hovertemplate": "GeneSymbol=%{customdata[0]}<br>log2FoldChange_ATF6fXBP1s37/basal37=%{x}<br>-log10_pvalue_ATF6fXBP1s37/basal37=%{y}<extra></extra>",
         "legendgroup": "PFDN2",
         "marker": {
          "color": "#FECB52",
          "symbol": "circle"
         },
         "mode": "markers",
         "name": "PFDN2",
         "orientation": "v",
         "showlegend": true,
         "type": "scatter",
         "x": [
          0.555348564
         ],
         "xaxis": "x",
         "y": [
          2.484754377
         ],
         "yaxis": "y"
        },
        {
         "customdata": [
          [
           "VAPA"
          ]
         ],
         "hovertemplate": "GeneSymbol=%{customdata[0]}<br>log2FoldChange_ATF6fXBP1s37/basal37=%{x}<br>-log10_pvalue_ATF6fXBP1s37/basal37=%{y}<extra></extra>",
         "legendgroup": "VAPA",
         "marker": {
          "color": "#636efa",
          "symbol": "circle"
         },
         "mode": "markers",
         "name": "VAPA",
         "orientation": "v",
         "showlegend": true,
         "type": "scatter",
         "x": [
          0.017851961
         ],
         "xaxis": "x",
         "y": [
          0.101756276
         ],
         "yaxis": "y"
        }
       ],
       "layout": {
        "legend": {
         "title": {
          "text": "GeneSymbol"
         },
         "tracegroupgap": 0
        },
        "margin": {
         "t": 60
        },
        "template": {
         "data": {
          "bar": [
           {
            "error_x": {
             "color": "#2a3f5f"
            },
            "error_y": {
             "color": "#2a3f5f"
            },
            "marker": {
             "line": {
              "color": "#E5ECF6",
              "width": 0.5
             },
             "pattern": {
              "fillmode": "overlay",
              "size": 10,
              "solidity": 0.2
             }
            },
            "type": "bar"
           }
          ],
          "barpolar": [
           {
            "marker": {
             "line": {
              "color": "#E5ECF6",
              "width": 0.5
             },
             "pattern": {
              "fillmode": "overlay",
              "size": 10,
              "solidity": 0.2
             }
            },
            "type": "barpolar"
           }
          ],
          "carpet": [
           {
            "aaxis": {
             "endlinecolor": "#2a3f5f",
             "gridcolor": "white",
             "linecolor": "white",
             "minorgridcolor": "white",
             "startlinecolor": "#2a3f5f"
            },
            "baxis": {
             "endlinecolor": "#2a3f5f",
             "gridcolor": "white",
             "linecolor": "white",
             "minorgridcolor": "white",
             "startlinecolor": "#2a3f5f"
            },
            "type": "carpet"
           }
          ],
          "choropleth": [
           {
            "colorbar": {
             "outlinewidth": 0,
             "ticks": ""
            },
            "type": "choropleth"
           }
          ],
          "contour": [
           {
            "colorbar": {
             "outlinewidth": 0,
             "ticks": ""
            },
            "colorscale": [
             [
              0,
              "#0d0887"
             ],
             [
              0.1111111111111111,
              "#46039f"
             ],
             [
              0.2222222222222222,
              "#7201a8"
             ],
             [
              0.3333333333333333,
              "#9c179e"
             ],
             [
              0.4444444444444444,
              "#bd3786"
             ],
             [
              0.5555555555555556,
              "#d8576b"
             ],
             [
              0.6666666666666666,
              "#ed7953"
             ],
             [
              0.7777777777777778,
              "#fb9f3a"
             ],
             [
              0.8888888888888888,
              "#fdca26"
             ],
             [
              1,
              "#f0f921"
             ]
            ],
            "type": "contour"
           }
          ],
          "contourcarpet": [
           {
            "colorbar": {
             "outlinewidth": 0,
             "ticks": ""
            },
            "type": "contourcarpet"
           }
          ],
          "heatmap": [
           {
            "colorbar": {
             "outlinewidth": 0,
             "ticks": ""
            },
            "colorscale": [
             [
              0,
              "#0d0887"
             ],
             [
              0.1111111111111111,
              "#46039f"
             ],
             [
              0.2222222222222222,
              "#7201a8"
             ],
             [
              0.3333333333333333,
              "#9c179e"
             ],
             [
              0.4444444444444444,
              "#bd3786"
             ],
             [
              0.5555555555555556,
              "#d8576b"
             ],
             [
              0.6666666666666666,
              "#ed7953"
             ],
             [
              0.7777777777777778,
              "#fb9f3a"
             ],
             [
              0.8888888888888888,
              "#fdca26"
             ],
             [
              1,
              "#f0f921"
             ]
            ],
            "type": "heatmap"
           }
          ],
          "heatmapgl": [
           {
            "colorbar": {
             "outlinewidth": 0,
             "ticks": ""
            },
            "colorscale": [
             [
              0,
              "#0d0887"
             ],
             [
              0.1111111111111111,
              "#46039f"
             ],
             [
              0.2222222222222222,
              "#7201a8"
             ],
             [
              0.3333333333333333,
              "#9c179e"
             ],
             [
              0.4444444444444444,
              "#bd3786"
             ],
             [
              0.5555555555555556,
              "#d8576b"
             ],
             [
              0.6666666666666666,
              "#ed7953"
             ],
             [
              0.7777777777777778,
              "#fb9f3a"
             ],
             [
              0.8888888888888888,
              "#fdca26"
             ],
             [
              1,
              "#f0f921"
             ]
            ],
            "type": "heatmapgl"
           }
          ],
          "histogram": [
           {
            "marker": {
             "pattern": {
              "fillmode": "overlay",
              "size": 10,
              "solidity": 0.2
             }
            },
            "type": "histogram"
           }
          ],
          "histogram2d": [
           {
            "colorbar": {
             "outlinewidth": 0,
             "ticks": ""
            },
            "colorscale": [
             [
              0,
              "#0d0887"
             ],
             [
              0.1111111111111111,
              "#46039f"
             ],
             [
              0.2222222222222222,
              "#7201a8"
             ],
             [
              0.3333333333333333,
              "#9c179e"
             ],
             [
              0.4444444444444444,
              "#bd3786"
             ],
             [
              0.5555555555555556,
              "#d8576b"
             ],
             [
              0.6666666666666666,
              "#ed7953"
             ],
             [
              0.7777777777777778,
              "#fb9f3a"
             ],
             [
              0.8888888888888888,
              "#fdca26"
             ],
             [
              1,
              "#f0f921"
             ]
            ],
            "type": "histogram2d"
           }
          ],
          "histogram2dcontour": [
           {
            "colorbar": {
             "outlinewidth": 0,
             "ticks": ""
            },
            "colorscale": [
             [
              0,
              "#0d0887"
             ],
             [
              0.1111111111111111,
              "#46039f"
             ],
             [
              0.2222222222222222,
              "#7201a8"
             ],
             [
              0.3333333333333333,
              "#9c179e"
             ],
             [
              0.4444444444444444,
              "#bd3786"
             ],
             [
              0.5555555555555556,
              "#d8576b"
             ],
             [
              0.6666666666666666,
              "#ed7953"
             ],
             [
              0.7777777777777778,
              "#fb9f3a"
             ],
             [
              0.8888888888888888,
              "#fdca26"
             ],
             [
              1,
              "#f0f921"
             ]
            ],
            "type": "histogram2dcontour"
           }
          ],
          "mesh3d": [
           {
            "colorbar": {
             "outlinewidth": 0,
             "ticks": ""
            },
            "type": "mesh3d"
           }
          ],
          "parcoords": [
           {
            "line": {
             "colorbar": {
              "outlinewidth": 0,
              "ticks": ""
             }
            },
            "type": "parcoords"
           }
          ],
          "pie": [
           {
            "automargin": true,
            "type": "pie"
           }
          ],
          "scatter": [
           {
            "marker": {
             "colorbar": {
              "outlinewidth": 0,
              "ticks": ""
             }
            },
            "type": "scatter"
           }
          ],
          "scatter3d": [
           {
            "line": {
             "colorbar": {
              "outlinewidth": 0,
              "ticks": ""
             }
            },
            "marker": {
             "colorbar": {
              "outlinewidth": 0,
              "ticks": ""
             }
            },
            "type": "scatter3d"
           }
          ],
          "scattercarpet": [
           {
            "marker": {
             "colorbar": {
              "outlinewidth": 0,
              "ticks": ""
             }
            },
            "type": "scattercarpet"
           }
          ],
          "scattergeo": [
           {
            "marker": {
             "colorbar": {
              "outlinewidth": 0,
              "ticks": ""
             }
            },
            "type": "scattergeo"
           }
          ],
          "scattergl": [
           {
            "marker": {
             "colorbar": {
              "outlinewidth": 0,
              "ticks": ""
             }
            },
            "type": "scattergl"
           }
          ],
          "scattermapbox": [
           {
            "marker": {
             "colorbar": {
              "outlinewidth": 0,
              "ticks": ""
             }
            },
            "type": "scattermapbox"
           }
          ],
          "scatterpolar": [
           {
            "marker": {
             "colorbar": {
              "outlinewidth": 0,
              "ticks": ""
             }
            },
            "type": "scatterpolar"
           }
          ],
          "scatterpolargl": [
           {
            "marker": {
             "colorbar": {
              "outlinewidth": 0,
              "ticks": ""
             }
            },
            "type": "scatterpolargl"
           }
          ],
          "scatterternary": [
           {
            "marker": {
             "colorbar": {
              "outlinewidth": 0,
              "ticks": ""
             }
            },
            "type": "scatterternary"
           }
          ],
          "surface": [
           {
            "colorbar": {
             "outlinewidth": 0,
             "ticks": ""
            },
            "colorscale": [
             [
              0,
              "#0d0887"
             ],
             [
              0.1111111111111111,
              "#46039f"
             ],
             [
              0.2222222222222222,
              "#7201a8"
             ],
             [
              0.3333333333333333,
              "#9c179e"
             ],
             [
              0.4444444444444444,
              "#bd3786"
             ],
             [
              0.5555555555555556,
              "#d8576b"
             ],
             [
              0.6666666666666666,
              "#ed7953"
             ],
             [
              0.7777777777777778,
              "#fb9f3a"
             ],
             [
              0.8888888888888888,
              "#fdca26"
             ],
             [
              1,
              "#f0f921"
             ]
            ],
            "type": "surface"
           }
          ],
          "table": [
           {
            "cells": {
             "fill": {
              "color": "#EBF0F8"
             },
             "line": {
              "color": "white"
             }
            },
            "header": {
             "fill": {
              "color": "#C8D4E3"
             },
             "line": {
              "color": "white"
             }
            },
            "type": "table"
           }
          ]
         },
         "layout": {
          "annotationdefaults": {
           "arrowcolor": "#2a3f5f",
           "arrowhead": 0,
           "arrowwidth": 1
          },
          "autotypenumbers": "strict",
          "coloraxis": {
           "colorbar": {
            "outlinewidth": 0,
            "ticks": ""
           }
          },
          "colorscale": {
           "diverging": [
            [
             0,
             "#8e0152"
            ],
            [
             0.1,
             "#c51b7d"
            ],
            [
             0.2,
             "#de77ae"
            ],
            [
             0.3,
             "#f1b6da"
            ],
            [
             0.4,
             "#fde0ef"
            ],
            [
             0.5,
             "#f7f7f7"
            ],
            [
             0.6,
             "#e6f5d0"
            ],
            [
             0.7,
             "#b8e186"
            ],
            [
             0.8,
             "#7fbc41"
            ],
            [
             0.9,
             "#4d9221"
            ],
            [
             1,
             "#276419"
            ]
           ],
           "sequential": [
            [
             0,
             "#0d0887"
            ],
            [
             0.1111111111111111,
             "#46039f"
            ],
            [
             0.2222222222222222,
             "#7201a8"
            ],
            [
             0.3333333333333333,
             "#9c179e"
            ],
            [
             0.4444444444444444,
             "#bd3786"
            ],
            [
             0.5555555555555556,
             "#d8576b"
            ],
            [
             0.6666666666666666,
             "#ed7953"
            ],
            [
             0.7777777777777778,
             "#fb9f3a"
            ],
            [
             0.8888888888888888,
             "#fdca26"
            ],
            [
             1,
             "#f0f921"
            ]
           ],
           "sequentialminus": [
            [
             0,
             "#0d0887"
            ],
            [
             0.1111111111111111,
             "#46039f"
            ],
            [
             0.2222222222222222,
             "#7201a8"
            ],
            [
             0.3333333333333333,
             "#9c179e"
            ],
            [
             0.4444444444444444,
             "#bd3786"
            ],
            [
             0.5555555555555556,
             "#d8576b"
            ],
            [
             0.6666666666666666,
             "#ed7953"
            ],
            [
             0.7777777777777778,
             "#fb9f3a"
            ],
            [
             0.8888888888888888,
             "#fdca26"
            ],
            [
             1,
             "#f0f921"
            ]
           ]
          },
          "colorway": [
           "#636efa",
           "#EF553B",
           "#00cc96",
           "#ab63fa",
           "#FFA15A",
           "#19d3f3",
           "#FF6692",
           "#B6E880",
           "#FF97FF",
           "#FECB52"
          ],
          "font": {
           "color": "#2a3f5f"
          },
          "geo": {
           "bgcolor": "white",
           "lakecolor": "white",
           "landcolor": "#E5ECF6",
           "showlakes": true,
           "showland": true,
           "subunitcolor": "white"
          },
          "hoverlabel": {
           "align": "left"
          },
          "hovermode": "closest",
          "mapbox": {
           "style": "light"
          },
          "paper_bgcolor": "white",
          "plot_bgcolor": "#E5ECF6",
          "polar": {
           "angularaxis": {
            "gridcolor": "white",
            "linecolor": "white",
            "ticks": ""
           },
           "bgcolor": "#E5ECF6",
           "radialaxis": {
            "gridcolor": "white",
            "linecolor": "white",
            "ticks": ""
           }
          },
          "scene": {
           "xaxis": {
            "backgroundcolor": "#E5ECF6",
            "gridcolor": "white",
            "gridwidth": 2,
            "linecolor": "white",
            "showbackground": true,
            "ticks": "",
            "zerolinecolor": "white"
           },
           "yaxis": {
            "backgroundcolor": "#E5ECF6",
            "gridcolor": "white",
            "gridwidth": 2,
            "linecolor": "white",
            "showbackground": true,
            "ticks": "",
            "zerolinecolor": "white"
           },
           "zaxis": {
            "backgroundcolor": "#E5ECF6",
            "gridcolor": "white",
            "gridwidth": 2,
            "linecolor": "white",
            "showbackground": true,
            "ticks": "",
            "zerolinecolor": "white"
           }
          },
          "shapedefaults": {
           "line": {
            "color": "#2a3f5f"
           }
          },
          "ternary": {
           "aaxis": {
            "gridcolor": "white",
            "linecolor": "white",
            "ticks": ""
           },
           "baxis": {
            "gridcolor": "white",
            "linecolor": "white",
            "ticks": ""
           },
           "bgcolor": "#E5ECF6",
           "caxis": {
            "gridcolor": "white",
            "linecolor": "white",
            "ticks": ""
           }
          },
          "title": {
           "x": 0.05
          },
          "xaxis": {
           "automargin": true,
           "gridcolor": "white",
           "linecolor": "white",
           "ticks": "",
           "title": {
            "standoff": 15
           },
           "zerolinecolor": "white",
           "zerolinewidth": 2
          },
          "yaxis": {
           "automargin": true,
           "gridcolor": "white",
           "linecolor": "white",
           "ticks": "",
           "title": {
            "standoff": 15
           },
           "zerolinecolor": "white",
           "zerolinewidth": 2
          }
         }
        },
        "title": {
         "text": "ATF6f/XBP1s 37˚C vs. Basal 37˚C",
         "x": 0.5,
         "xanchor": "center"
        },
        "xaxis": {
         "anchor": "y",
         "domain": [
          0,
          1
         ],
         "title": {
          "text": "log2FoldChange_ATF6fXBP1s37/basal37"
         }
        },
        "yaxis": {
         "anchor": "x",
         "domain": [
          0,
          1
         ],
         "title": {
          "text": "-log10_pvalue_ATF6fXBP1s37/basal37"
         }
        }
       }
      },
      "text/html": [
       "<div>                            <div id=\"67ac0627-c170-4bef-9fdf-74ce5cf00a1a\" class=\"plotly-graph-div\" style=\"height:525px; width:100%;\"></div>            <script type=\"text/javascript\">                require([\"plotly\"], function(Plotly) {                    window.PLOTLYENV=window.PLOTLYENV || {};                                    if (document.getElementById(\"67ac0627-c170-4bef-9fdf-74ce5cf00a1a\")) {                    Plotly.newPlot(                        \"67ac0627-c170-4bef-9fdf-74ce5cf00a1a\",                        [{\"customdata\":[[\"CALR\"]],\"hovertemplate\":\"GeneSymbol=%{customdata[0]}<br>log2FoldChange_ATF6fXBP1s37/basal37=%{x}<br>-log10_pvalue_ATF6fXBP1s37/basal37=%{y}<extra></extra>\",\"legendgroup\":\"CALR\",\"marker\":{\"color\":\"#636efa\",\"symbol\":\"circle\"},\"mode\":\"markers\",\"name\":\"CALR\",\"orientation\":\"v\",\"showlegend\":true,\"x\":[2.419909948],\"xaxis\":\"x\",\"y\":[252.1068246],\"yaxis\":\"y\",\"type\":\"scatter\"},{\"customdata\":[[\"CANX\"]],\"hovertemplate\":\"GeneSymbol=%{customdata[0]}<br>log2FoldChange_ATF6fXBP1s37/basal37=%{x}<br>-log10_pvalue_ATF6fXBP1s37/basal37=%{y}<extra></extra>\",\"legendgroup\":\"CANX\",\"marker\":{\"color\":\"#EF553B\",\"symbol\":\"circle\"},\"mode\":\"markers\",\"name\":\"CANX\",\"orientation\":\"v\",\"showlegend\":true,\"x\":[1.506927893],\"xaxis\":\"x\",\"y\":[54.94316309],\"yaxis\":\"y\",\"type\":\"scatter\"},{\"customdata\":[[\"CCT3\"]],\"hovertemplate\":\"GeneSymbol=%{customdata[0]}<br>log2FoldChange_ATF6fXBP1s37/basal37=%{x}<br>-log10_pvalue_ATF6fXBP1s37/basal37=%{y}<extra></extra>\",\"legendgroup\":\"CCT3\",\"marker\":{\"color\":\"#00cc96\",\"symbol\":\"circle\"},\"mode\":\"markers\",\"name\":\"CCT3\",\"orientation\":\"v\",\"showlegend\":true,\"x\":[0.078621739],\"xaxis\":\"x\",\"y\":[0.528990082],\"yaxis\":\"y\",\"type\":\"scatter\"},{\"customdata\":[[\"CCT6A\"]],\"hovertemplate\":\"GeneSymbol=%{customdata[0]}<br>log2FoldChange_ATF6fXBP1s37/basal37=%{x}<br>-log10_pvalue_ATF6fXBP1s37/basal37=%{y}<extra></extra>\",\"legendgroup\":\"CCT6A\",\"marker\":{\"color\":\"#ab63fa\",\"symbol\":\"circle\"},\"mode\":\"markers\",\"name\":\"CCT6A\",\"orientation\":\"v\",\"showlegend\":true,\"x\":[-0.247637621],\"xaxis\":\"x\",\"y\":[7.134874356],\"yaxis\":\"y\",\"type\":\"scatter\"},{\"customdata\":[[\"DNAJC3\"]],\"hovertemplate\":\"GeneSymbol=%{customdata[0]}<br>log2FoldChange_ATF6fXBP1s37/basal37=%{x}<br>-log10_pvalue_ATF6fXBP1s37/basal37=%{y}<extra></extra>\",\"legendgroup\":\"DNAJC3\",\"marker\":{\"color\":\"#FFA15A\",\"symbol\":\"circle\"},\"mode\":\"markers\",\"name\":\"DNAJC3\",\"orientation\":\"v\",\"showlegend\":true,\"x\":[2.365689522],\"xaxis\":\"x\",\"y\":[77.47765012],\"yaxis\":\"y\",\"type\":\"scatter\"},{\"customdata\":[[\"EMC1\"]],\"hovertemplate\":\"GeneSymbol=%{customdata[0]}<br>log2FoldChange_ATF6fXBP1s37/basal37=%{x}<br>-log10_pvalue_ATF6fXBP1s37/basal37=%{y}<extra></extra>\",\"legendgroup\":\"EMC1\",\"marker\":{\"color\":\"#19d3f3\",\"symbol\":\"circle\"},\"mode\":\"markers\",\"name\":\"EMC1\",\"orientation\":\"v\",\"showlegend\":true,\"x\":[0.032082231],\"xaxis\":\"x\",\"y\":[0.253226566],\"yaxis\":\"y\",\"type\":\"scatter\"},{\"customdata\":[[\"EMC3\"]],\"hovertemplate\":\"GeneSymbol=%{customdata[0]}<br>log2FoldChange_ATF6fXBP1s37/basal37=%{x}<br>-log10_pvalue_ATF6fXBP1s37/basal37=%{y}<extra></extra>\",\"legendgroup\":\"EMC3\",\"marker\":{\"color\":\"#FF6692\",\"symbol\":\"circle\"},\"mode\":\"markers\",\"name\":\"EMC3\",\"orientation\":\"v\",\"showlegend\":true,\"x\":[0.250556625],\"xaxis\":\"x\",\"y\":[2.602561639],\"yaxis\":\"y\",\"type\":\"scatter\"},{\"customdata\":[[\"ERO1A\"]],\"hovertemplate\":\"GeneSymbol=%{customdata[0]}<br>log2FoldChange_ATF6fXBP1s37/basal37=%{x}<br>-log10_pvalue_ATF6fXBP1s37/basal37=%{y}<extra></extra>\",\"legendgroup\":\"ERO1A\",\"marker\":{\"color\":\"#B6E880\",\"symbol\":\"circle\"},\"mode\":\"markers\",\"name\":\"ERO1A\",\"orientation\":\"v\",\"showlegend\":true,\"x\":[0.386165371],\"xaxis\":\"x\",\"y\":[2.559852805],\"yaxis\":\"y\",\"type\":\"scatter\"},{\"customdata\":[[\"ERO1B\"]],\"hovertemplate\":\"GeneSymbol=%{customdata[0]}<br>log2FoldChange_ATF6fXBP1s37/basal37=%{x}<br>-log10_pvalue_ATF6fXBP1s37/basal37=%{y}<extra></extra>\",\"legendgroup\":\"ERO1B\",\"marker\":{\"color\":\"#FF97FF\",\"symbol\":\"circle\"},\"mode\":\"markers\",\"name\":\"ERO1B\",\"orientation\":\"v\",\"showlegend\":true,\"x\":[1.985037015],\"xaxis\":\"x\",\"y\":[34.85133324],\"yaxis\":\"y\",\"type\":\"scatter\"},{\"customdata\":[[\"FKBP8\"]],\"hovertemplate\":\"GeneSymbol=%{customdata[0]}<br>log2FoldChange_ATF6fXBP1s37/basal37=%{x}<br>-log10_pvalue_ATF6fXBP1s37/basal37=%{y}<extra></extra>\",\"legendgroup\":\"FKBP8\",\"marker\":{\"color\":\"#FECB52\",\"symbol\":\"circle\"},\"mode\":\"markers\",\"name\":\"FKBP8\",\"orientation\":\"v\",\"showlegend\":true,\"x\":[0.191517694],\"xaxis\":\"x\",\"y\":[0.878565196],\"yaxis\":\"y\",\"type\":\"scatter\"},{\"customdata\":[[\"HSP90B1\"]],\"hovertemplate\":\"GeneSymbol=%{customdata[0]}<br>log2FoldChange_ATF6fXBP1s37/basal37=%{x}<br>-log10_pvalue_ATF6fXBP1s37/basal37=%{y}<extra></extra>\",\"legendgroup\":\"HSP90B1\",\"marker\":{\"color\":\"#636efa\",\"symbol\":\"circle\"},\"mode\":\"markers\",\"name\":\"HSP90B1\",\"orientation\":\"v\",\"showlegend\":true,\"x\":[3.441886293],\"xaxis\":\"x\",\"y\":[252.1068246],\"yaxis\":\"y\",\"type\":\"scatter\"},{\"customdata\":[[\"HSPA5\"]],\"hovertemplate\":\"GeneSymbol=%{customdata[0]}<br>log2FoldChange_ATF6fXBP1s37/basal37=%{x}<br>-log10_pvalue_ATF6fXBP1s37/basal37=%{y}<extra></extra>\",\"legendgroup\":\"HSPA5\",\"marker\":{\"color\":\"#EF553B\",\"symbol\":\"circle\"},\"mode\":\"markers\",\"name\":\"HSPA5\",\"orientation\":\"v\",\"showlegend\":true,\"x\":[3.945763315],\"xaxis\":\"x\",\"y\":[252.1068246],\"yaxis\":\"y\",\"type\":\"scatter\"},{\"customdata\":[[\"HSPA8\"]],\"hovertemplate\":\"GeneSymbol=%{customdata[0]}<br>log2FoldChange_ATF6fXBP1s37/basal37=%{x}<br>-log10_pvalue_ATF6fXBP1s37/basal37=%{y}<extra></extra>\",\"legendgroup\":\"HSPA8\",\"marker\":{\"color\":\"#00cc96\",\"symbol\":\"circle\"},\"mode\":\"markers\",\"name\":\"HSPA8\",\"orientation\":\"v\",\"showlegend\":true,\"x\":[-0.516075212],\"xaxis\":\"x\",\"y\":[52.36880639],\"yaxis\":\"y\",\"type\":\"scatter\"},{\"customdata\":[[\"HSPA9\"]],\"hovertemplate\":\"GeneSymbol=%{customdata[0]}<br>log2FoldChange_ATF6fXBP1s37/basal37=%{x}<br>-log10_pvalue_ATF6fXBP1s37/basal37=%{y}<extra></extra>\",\"legendgroup\":\"HSPA9\",\"marker\":{\"color\":\"#ab63fa\",\"symbol\":\"circle\"},\"mode\":\"markers\",\"name\":\"HSPA9\",\"orientation\":\"v\",\"showlegend\":true,\"x\":[0.345738003],\"xaxis\":\"x\",\"y\":[23.61990334],\"yaxis\":\"y\",\"type\":\"scatter\"},{\"customdata\":[[\"HSPD1\"]],\"hovertemplate\":\"GeneSymbol=%{customdata[0]}<br>log2FoldChange_ATF6fXBP1s37/basal37=%{x}<br>-log10_pvalue_ATF6fXBP1s37/basal37=%{y}<extra></extra>\",\"legendgroup\":\"HSPD1\",\"marker\":{\"color\":\"#FFA15A\",\"symbol\":\"circle\"},\"mode\":\"markers\",\"name\":\"HSPD1\",\"orientation\":\"v\",\"showlegend\":true,\"x\":[-0.144760824],\"xaxis\":\"x\",\"y\":[3.023557422],\"yaxis\":\"y\",\"type\":\"scatter\"},{\"customdata\":[[\"HSPH1\"]],\"hovertemplate\":\"GeneSymbol=%{customdata[0]}<br>log2FoldChange_ATF6fXBP1s37/basal37=%{x}<br>-log10_pvalue_ATF6fXBP1s37/basal37=%{y}<extra></extra>\",\"legendgroup\":\"HSPH1\",\"marker\":{\"color\":\"#19d3f3\",\"symbol\":\"circle\"},\"mode\":\"markers\",\"name\":\"HSPH1\",\"orientation\":\"v\",\"showlegend\":true,\"x\":[-0.388439791],\"xaxis\":\"x\",\"y\":[4.650641261],\"yaxis\":\"y\",\"type\":\"scatter\"},{\"customdata\":[[\"HYOU1\"]],\"hovertemplate\":\"GeneSymbol=%{customdata[0]}<br>log2FoldChange_ATF6fXBP1s37/basal37=%{x}<br>-log10_pvalue_ATF6fXBP1s37/basal37=%{y}<extra></extra>\",\"legendgroup\":\"HYOU1\",\"marker\":{\"color\":\"#FF6692\",\"symbol\":\"circle\"},\"mode\":\"markers\",\"name\":\"HYOU1\",\"orientation\":\"v\",\"showlegend\":true,\"x\":[3.537438389],\"xaxis\":\"x\",\"y\":[252.1068246],\"yaxis\":\"y\",\"type\":\"scatter\"},{\"customdata\":[[\"P4HB\"]],\"hovertemplate\":\"GeneSymbol=%{customdata[0]}<br>log2FoldChange_ATF6fXBP1s37/basal37=%{x}<br>-log10_pvalue_ATF6fXBP1s37/basal37=%{y}<extra></extra>\",\"legendgroup\":\"P4HB\",\"marker\":{\"color\":\"#B6E880\",\"symbol\":\"circle\"},\"mode\":\"markers\",\"name\":\"P4HB\",\"orientation\":\"v\",\"showlegend\":true,\"x\":[2.290182037],\"xaxis\":\"x\",\"y\":[252.1068246],\"yaxis\":\"y\",\"type\":\"scatter\"},{\"customdata\":[[\"PDIA3\"]],\"hovertemplate\":\"GeneSymbol=%{customdata[0]}<br>log2FoldChange_ATF6fXBP1s37/basal37=%{x}<br>-log10_pvalue_ATF6fXBP1s37/basal37=%{y}<extra></extra>\",\"legendgroup\":\"PDIA3\",\"marker\":{\"color\":\"#FF97FF\",\"symbol\":\"circle\"},\"mode\":\"markers\",\"name\":\"PDIA3\",\"orientation\":\"v\",\"showlegend\":true,\"x\":[2.091015133],\"xaxis\":\"x\",\"y\":[252.1068246],\"yaxis\":\"y\",\"type\":\"scatter\"},{\"customdata\":[[\"PFDN2\"]],\"hovertemplate\":\"GeneSymbol=%{customdata[0]}<br>log2FoldChange_ATF6fXBP1s37/basal37=%{x}<br>-log10_pvalue_ATF6fXBP1s37/basal37=%{y}<extra></extra>\",\"legendgroup\":\"PFDN2\",\"marker\":{\"color\":\"#FECB52\",\"symbol\":\"circle\"},\"mode\":\"markers\",\"name\":\"PFDN2\",\"orientation\":\"v\",\"showlegend\":true,\"x\":[0.555348564],\"xaxis\":\"x\",\"y\":[2.484754377],\"yaxis\":\"y\",\"type\":\"scatter\"},{\"customdata\":[[\"VAPA\"]],\"hovertemplate\":\"GeneSymbol=%{customdata[0]}<br>log2FoldChange_ATF6fXBP1s37/basal37=%{x}<br>-log10_pvalue_ATF6fXBP1s37/basal37=%{y}<extra></extra>\",\"legendgroup\":\"VAPA\",\"marker\":{\"color\":\"#636efa\",\"symbol\":\"circle\"},\"mode\":\"markers\",\"name\":\"VAPA\",\"orientation\":\"v\",\"showlegend\":true,\"x\":[0.017851961],\"xaxis\":\"x\",\"y\":[0.101756276],\"yaxis\":\"y\",\"type\":\"scatter\"}],                        {\"template\":{\"data\":{\"bar\":[{\"error_x\":{\"color\":\"#2a3f5f\"},\"error_y\":{\"color\":\"#2a3f5f\"},\"marker\":{\"line\":{\"color\":\"#E5ECF6\",\"width\":0.5},\"pattern\":{\"fillmode\":\"overlay\",\"size\":10,\"solidity\":0.2}},\"type\":\"bar\"}],\"barpolar\":[{\"marker\":{\"line\":{\"color\":\"#E5ECF6\",\"width\":0.5},\"pattern\":{\"fillmode\":\"overlay\",\"size\":10,\"solidity\":0.2}},\"type\":\"barpolar\"}],\"carpet\":[{\"aaxis\":{\"endlinecolor\":\"#2a3f5f\",\"gridcolor\":\"white\",\"linecolor\":\"white\",\"minorgridcolor\":\"white\",\"startlinecolor\":\"#2a3f5f\"},\"baxis\":{\"endlinecolor\":\"#2a3f5f\",\"gridcolor\":\"white\",\"linecolor\":\"white\",\"minorgridcolor\":\"white\",\"startlinecolor\":\"#2a3f5f\"},\"type\":\"carpet\"}],\"choropleth\":[{\"colorbar\":{\"outlinewidth\":0,\"ticks\":\"\"},\"type\":\"choropleth\"}],\"contour\":[{\"colorbar\":{\"outlinewidth\":0,\"ticks\":\"\"},\"colorscale\":[[0.0,\"#0d0887\"],[0.1111111111111111,\"#46039f\"],[0.2222222222222222,\"#7201a8\"],[0.3333333333333333,\"#9c179e\"],[0.4444444444444444,\"#bd3786\"],[0.5555555555555556,\"#d8576b\"],[0.6666666666666666,\"#ed7953\"],[0.7777777777777778,\"#fb9f3a\"],[0.8888888888888888,\"#fdca26\"],[1.0,\"#f0f921\"]],\"type\":\"contour\"}],\"contourcarpet\":[{\"colorbar\":{\"outlinewidth\":0,\"ticks\":\"\"},\"type\":\"contourcarpet\"}],\"heatmap\":[{\"colorbar\":{\"outlinewidth\":0,\"ticks\":\"\"},\"colorscale\":[[0.0,\"#0d0887\"],[0.1111111111111111,\"#46039f\"],[0.2222222222222222,\"#7201a8\"],[0.3333333333333333,\"#9c179e\"],[0.4444444444444444,\"#bd3786\"],[0.5555555555555556,\"#d8576b\"],[0.6666666666666666,\"#ed7953\"],[0.7777777777777778,\"#fb9f3a\"],[0.8888888888888888,\"#fdca26\"],[1.0,\"#f0f921\"]],\"type\":\"heatmap\"}],\"heatmapgl\":[{\"colorbar\":{\"outlinewidth\":0,\"ticks\":\"\"},\"colorscale\":[[0.0,\"#0d0887\"],[0.1111111111111111,\"#46039f\"],[0.2222222222222222,\"#7201a8\"],[0.3333333333333333,\"#9c179e\"],[0.4444444444444444,\"#bd3786\"],[0.5555555555555556,\"#d8576b\"],[0.6666666666666666,\"#ed7953\"],[0.7777777777777778,\"#fb9f3a\"],[0.8888888888888888,\"#fdca26\"],[1.0,\"#f0f921\"]],\"type\":\"heatmapgl\"}],\"histogram\":[{\"marker\":{\"pattern\":{\"fillmode\":\"overlay\",\"size\":10,\"solidity\":0.2}},\"type\":\"histogram\"}],\"histogram2d\":[{\"colorbar\":{\"outlinewidth\":0,\"ticks\":\"\"},\"colorscale\":[[0.0,\"#0d0887\"],[0.1111111111111111,\"#46039f\"],[0.2222222222222222,\"#7201a8\"],[0.3333333333333333,\"#9c179e\"],[0.4444444444444444,\"#bd3786\"],[0.5555555555555556,\"#d8576b\"],[0.6666666666666666,\"#ed7953\"],[0.7777777777777778,\"#fb9f3a\"],[0.8888888888888888,\"#fdca26\"],[1.0,\"#f0f921\"]],\"type\":\"histogram2d\"}],\"histogram2dcontour\":[{\"colorbar\":{\"outlinewidth\":0,\"ticks\":\"\"},\"colorscale\":[[0.0,\"#0d0887\"],[0.1111111111111111,\"#46039f\"],[0.2222222222222222,\"#7201a8\"],[0.3333333333333333,\"#9c179e\"],[0.4444444444444444,\"#bd3786\"],[0.5555555555555556,\"#d8576b\"],[0.6666666666666666,\"#ed7953\"],[0.7777777777777778,\"#fb9f3a\"],[0.8888888888888888,\"#fdca26\"],[1.0,\"#f0f921\"]],\"type\":\"histogram2dcontour\"}],\"mesh3d\":[{\"colorbar\":{\"outlinewidth\":0,\"ticks\":\"\"},\"type\":\"mesh3d\"}],\"parcoords\":[{\"line\":{\"colorbar\":{\"outlinewidth\":0,\"ticks\":\"\"}},\"type\":\"parcoords\"}],\"pie\":[{\"automargin\":true,\"type\":\"pie\"}],\"scatter\":[{\"marker\":{\"colorbar\":{\"outlinewidth\":0,\"ticks\":\"\"}},\"type\":\"scatter\"}],\"scatter3d\":[{\"line\":{\"colorbar\":{\"outlinewidth\":0,\"ticks\":\"\"}},\"marker\":{\"colorbar\":{\"outlinewidth\":0,\"ticks\":\"\"}},\"type\":\"scatter3d\"}],\"scattercarpet\":[{\"marker\":{\"colorbar\":{\"outlinewidth\":0,\"ticks\":\"\"}},\"type\":\"scattercarpet\"}],\"scattergeo\":[{\"marker\":{\"colorbar\":{\"outlinewidth\":0,\"ticks\":\"\"}},\"type\":\"scattergeo\"}],\"scattergl\":[{\"marker\":{\"colorbar\":{\"outlinewidth\":0,\"ticks\":\"\"}},\"type\":\"scattergl\"}],\"scattermapbox\":[{\"marker\":{\"colorbar\":{\"outlinewidth\":0,\"ticks\":\"\"}},\"type\":\"scattermapbox\"}],\"scatterpolar\":[{\"marker\":{\"colorbar\":{\"outlinewidth\":0,\"ticks\":\"\"}},\"type\":\"scatterpolar\"}],\"scatterpolargl\":[{\"marker\":{\"colorbar\":{\"outlinewidth\":0,\"ticks\":\"\"}},\"type\":\"scatterpolargl\"}],\"scatterternary\":[{\"marker\":{\"colorbar\":{\"outlinewidth\":0,\"ticks\":\"\"}},\"type\":\"scatterternary\"}],\"surface\":[{\"colorbar\":{\"outlinewidth\":0,\"ticks\":\"\"},\"colorscale\":[[0.0,\"#0d0887\"],[0.1111111111111111,\"#46039f\"],[0.2222222222222222,\"#7201a8\"],[0.3333333333333333,\"#9c179e\"],[0.4444444444444444,\"#bd3786\"],[0.5555555555555556,\"#d8576b\"],[0.6666666666666666,\"#ed7953\"],[0.7777777777777778,\"#fb9f3a\"],[0.8888888888888888,\"#fdca26\"],[1.0,\"#f0f921\"]],\"type\":\"surface\"}],\"table\":[{\"cells\":{\"fill\":{\"color\":\"#EBF0F8\"},\"line\":{\"color\":\"white\"}},\"header\":{\"fill\":{\"color\":\"#C8D4E3\"},\"line\":{\"color\":\"white\"}},\"type\":\"table\"}]},\"layout\":{\"annotationdefaults\":{\"arrowcolor\":\"#2a3f5f\",\"arrowhead\":0,\"arrowwidth\":1},\"autotypenumbers\":\"strict\",\"coloraxis\":{\"colorbar\":{\"outlinewidth\":0,\"ticks\":\"\"}},\"colorscale\":{\"diverging\":[[0,\"#8e0152\"],[0.1,\"#c51b7d\"],[0.2,\"#de77ae\"],[0.3,\"#f1b6da\"],[0.4,\"#fde0ef\"],[0.5,\"#f7f7f7\"],[0.6,\"#e6f5d0\"],[0.7,\"#b8e186\"],[0.8,\"#7fbc41\"],[0.9,\"#4d9221\"],[1,\"#276419\"]],\"sequential\":[[0.0,\"#0d0887\"],[0.1111111111111111,\"#46039f\"],[0.2222222222222222,\"#7201a8\"],[0.3333333333333333,\"#9c179e\"],[0.4444444444444444,\"#bd3786\"],[0.5555555555555556,\"#d8576b\"],[0.6666666666666666,\"#ed7953\"],[0.7777777777777778,\"#fb9f3a\"],[0.8888888888888888,\"#fdca26\"],[1.0,\"#f0f921\"]],\"sequentialminus\":[[0.0,\"#0d0887\"],[0.1111111111111111,\"#46039f\"],[0.2222222222222222,\"#7201a8\"],[0.3333333333333333,\"#9c179e\"],[0.4444444444444444,\"#bd3786\"],[0.5555555555555556,\"#d8576b\"],[0.6666666666666666,\"#ed7953\"],[0.7777777777777778,\"#fb9f3a\"],[0.8888888888888888,\"#fdca26\"],[1.0,\"#f0f921\"]]},\"colorway\":[\"#636efa\",\"#EF553B\",\"#00cc96\",\"#ab63fa\",\"#FFA15A\",\"#19d3f3\",\"#FF6692\",\"#B6E880\",\"#FF97FF\",\"#FECB52\"],\"font\":{\"color\":\"#2a3f5f\"},\"geo\":{\"bgcolor\":\"white\",\"lakecolor\":\"white\",\"landcolor\":\"#E5ECF6\",\"showlakes\":true,\"showland\":true,\"subunitcolor\":\"white\"},\"hoverlabel\":{\"align\":\"left\"},\"hovermode\":\"closest\",\"mapbox\":{\"style\":\"light\"},\"paper_bgcolor\":\"white\",\"plot_bgcolor\":\"#E5ECF6\",\"polar\":{\"angularaxis\":{\"gridcolor\":\"white\",\"linecolor\":\"white\",\"ticks\":\"\"},\"bgcolor\":\"#E5ECF6\",\"radialaxis\":{\"gridcolor\":\"white\",\"linecolor\":\"white\",\"ticks\":\"\"}},\"scene\":{\"xaxis\":{\"backgroundcolor\":\"#E5ECF6\",\"gridcolor\":\"white\",\"gridwidth\":2,\"linecolor\":\"white\",\"showbackground\":true,\"ticks\":\"\",\"zerolinecolor\":\"white\"},\"yaxis\":{\"backgroundcolor\":\"#E5ECF6\",\"gridcolor\":\"white\",\"gridwidth\":2,\"linecolor\":\"white\",\"showbackground\":true,\"ticks\":\"\",\"zerolinecolor\":\"white\"},\"zaxis\":{\"backgroundcolor\":\"#E5ECF6\",\"gridcolor\":\"white\",\"gridwidth\":2,\"linecolor\":\"white\",\"showbackground\":true,\"ticks\":\"\",\"zerolinecolor\":\"white\"}},\"shapedefaults\":{\"line\":{\"color\":\"#2a3f5f\"}},\"ternary\":{\"aaxis\":{\"gridcolor\":\"white\",\"linecolor\":\"white\",\"ticks\":\"\"},\"baxis\":{\"gridcolor\":\"white\",\"linecolor\":\"white\",\"ticks\":\"\"},\"bgcolor\":\"#E5ECF6\",\"caxis\":{\"gridcolor\":\"white\",\"linecolor\":\"white\",\"ticks\":\"\"}},\"title\":{\"x\":0.05},\"xaxis\":{\"automargin\":true,\"gridcolor\":\"white\",\"linecolor\":\"white\",\"ticks\":\"\",\"title\":{\"standoff\":15},\"zerolinecolor\":\"white\",\"zerolinewidth\":2},\"yaxis\":{\"automargin\":true,\"gridcolor\":\"white\",\"linecolor\":\"white\",\"ticks\":\"\",\"title\":{\"standoff\":15},\"zerolinecolor\":\"white\",\"zerolinewidth\":2}}},\"xaxis\":{\"anchor\":\"y\",\"domain\":[0.0,1.0],\"title\":{\"text\":\"log2FoldChange_ATF6fXBP1s37/basal37\"}},\"yaxis\":{\"anchor\":\"x\",\"domain\":[0.0,1.0],\"title\":{\"text\":\"-log10_pvalue_ATF6fXBP1s37/basal37\"}},\"legend\":{\"title\":{\"text\":\"GeneSymbol\"},\"tracegroupgap\":0},\"margin\":{\"t\":60},\"title\":{\"text\":\"ATF6f/XBP1s 37\\u02daC vs. Basal 37\\u02daC\",\"x\":0.5,\"xanchor\":\"center\"}},                        {\"responsive\": true}                    ).then(function(){\n",
       "                            \n",
       "var gd = document.getElementById('67ac0627-c170-4bef-9fdf-74ce5cf00a1a');\n",
       "var x = new MutationObserver(function (mutations, observer) {{\n",
       "        var display = window.getComputedStyle(gd).display;\n",
       "        if (!display || display === 'none') {{\n",
       "            console.log([gd, 'removed!']);\n",
       "            Plotly.purge(gd);\n",
       "            observer.disconnect();\n",
       "        }}\n",
       "}});\n",
       "\n",
       "// Listen for the removal of the full notebook cells\n",
       "var notebookContainer = gd.closest('#notebook-container');\n",
       "if (notebookContainer) {{\n",
       "    x.observe(notebookContainer, {childList: true});\n",
       "}}\n",
       "\n",
       "// Listen for the clearing of the current output cell\n",
       "var outputEl = gd.closest('.output');\n",
       "if (outputEl) {{\n",
       "    x.observe(outputEl, {childList: true});\n",
       "}}\n",
       "\n",
       "                        })                };                });            </script>        </div>"
      ]
     },
     "metadata": {},
     "output_type": "display_data"
    }
   ],
   "source": [
    "# Create the interactive plot with Plotly\n",
    "fig = px.scatter(filtered_elife_data, \n",
    "                 x='log2FoldChange_XBP1s37/basal37', \n",
    "                 y='-log10_pvalue_XBP1s37/basal37', \n",
    "                 color='GeneSymbol',\n",
    "                 hover_data=['GeneSymbol'])\n",
    "\n",
    "fig.update_layout(title={'text': 'XBP1s 37˚C vs. Basal 37˚C', 'x':0.5, 'xanchor': 'center'})\n",
    "\n",
    "# Show the plot\n",
    "fig.show()\n",
    "\n",
    "# Create the interactive plot with Plotly\n",
    "fig = px.scatter(filtered_elife_data, \n",
    "                 x='log2FoldChange_ATF6fXBP1s37/basal37', \n",
    "                 y='-log10_pvalue_ATF6fXBP1s37/basal37', \n",
    "                 color='GeneSymbol',\n",
    "                 hover_data=['GeneSymbol'])\n",
    "\n",
    "fig.update_layout(title={'text': 'ATF6f/XBP1s 37˚C vs. Basal 37˚C', 'x':0.5, 'xanchor': 'center'})\n",
    "\n",
    "# Show the plot\n",
    "fig.show()"
   ]
  },
  {
   "cell_type": "code",
   "execution_count": 96,
   "id": "ec44c2e7",
   "metadata": {},
   "outputs": [
    {
     "data": {
      "image/png": "[encoded data removed]",
      "text/plain": [
       "<Figure size 1152x360 with 2 Axes>"
      ]
     },
     "metadata": {
      "needs_background": "light"
     },
     "output_type": "display_data"
    }
   ],
   "source": [
    "# Create a figure and a set of subplots\n",
    "fig, axs = plt.subplots(1, 2, figsize=(16, 5))  # 1 row, 2 columns\n",
    "\n",
    "# First scatter plot\n",
    "scatter1 = sns.scatterplot(ax=axs[0], \n",
    "                           data=filtered_elife_data, \n",
    "                           x='log2FoldChange_XBP1s37/basal37', \n",
    "                           y='-log10_pvalue_XBP1s37/basal37', \n",
    "                           hue='GeneSymbol')\n",
    "\n",
    "# Add title to the first subplot\n",
    "axs[0].set_title(\"XBP1s 37 ˚C vs. Basal 37 ˚C\")\n",
    "\n",
    "# Remove the first plot's legend\n",
    "scatter1.legend_.remove()\n",
    "\n",
    "# Second scatter plot\n",
    "scatter2 = sns.scatterplot(ax=axs[1], \n",
    "                           data=filtered_elife_data, \n",
    "                           x='log2FoldChange_ATF6fXBP1s37/basal37', \n",
    "                           y='-log10_pvalue_ATF6fXBP1s37/basal37', \n",
    "                           hue='GeneSymbol')\n",
    "\n",
    "axs[1].set_title(\"ATF6f/XBP1s 37 ˚C vs. Basal 37 ˚C\")\n",
    "\n",
    "# Remove the second plot's legend\n",
    "scatter2.legend_.remove()\n",
    "\n",
    "# Get handles and labels from one of the plots for the shared legend\n",
    "handles, labels = scatter1.get_legend_handles_labels()\n",
    "\n",
    "# Create a shared legend for the figure\n",
    "fig.legend(handles, labels, loc='center left', bbox_to_anchor=(1.02, 0.55), borderaxespad=0.)\n",
    "\n",
    "# Adjust layout\n",
    "plt.tight_layout()\n",
    "\n",
    "plt.show()\n"
   ]
  }
 ],
 "metadata": {
  "kernelspec": {
   "display_name": "Python 3 (ipykernel)",
   "language": "python",
   "name": "python3"
  },
  "language_info": {
   "codemirror_mode": {
    "name": "ipython",
    "version": 3
   },
   "file_extension": ".py",
   "mimetype": "text/x-python",
   "name": "python",
   "nbconvert_exporter": "python",
   "pygments_lexer": "ipython3",
   "version": "3.9.12"
  }
 },
 "nbformat": 4,
 "nbformat_minor": 5
}
