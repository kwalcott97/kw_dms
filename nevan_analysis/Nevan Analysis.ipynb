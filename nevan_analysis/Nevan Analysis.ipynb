{
 "cells": [
  {
   "cell_type": "code",
   "execution_count": 1,
   "id": "cdcde594",
   "metadata": {},
   "outputs": [
    {
     "name": "stdout",
     "output_type": "stream",
     "text": [
      "/Users/keith_tetrad\n"
     ]
    }
   ],
   "source": [
    "cd"
   ]
  },
  {
   "cell_type": "code",
   "execution_count": 2,
   "id": "f2cd75f1",
   "metadata": {},
   "outputs": [],
   "source": [
    "import numpy as np\n",
    "import pandas as pd\n",
    "import seaborn as sns\n",
    "import matplotlib.pyplot as plt\n",
    "import plotly.express as px\n",
    "from bioservices import QuickGO\n",
    "quickgo = QuickGO()"
   ]
  },
  {
   "cell_type": "code",
   "execution_count": 4,
   "id": "11edb07c",
   "metadata": {},
   "outputs": [
    {
     "data": {
      "text/html": [
       "<style>.container { width:95% !important; }</style>"
      ],
      "text/plain": [
       "<IPython.core.display.HTML object>"
      ]
     },
     "metadata": {},
     "output_type": "display_data"
    }
   ],
   "source": [
    "from IPython.display import display, HTML\n",
    "display(HTML(\"<style>.container { width:95% !important; }</style>\"))\n",
    "\n",
    "pd.set_option('display.max_colwidth', 200)\n",
    "pd.set_option('display.max_columns', None)\n",
    "pd.set_option('display.width', 1000)\n",
    "pd.set_option('expand_frame_repr', False)\n"
   ]
  },
  {
   "cell_type": "code",
   "execution_count": 5,
   "id": "d33dc743",
   "metadata": {
    "scrolled": true
   },
   "outputs": [],
   "source": [
    "# import small data \n",
    "apms_data = pd.DataFrame(pd.read_csv('kw_dms/nevan_analysis/1-s2.0-S0092867423009157-mmc3(1).csv', delimiter=','))\n",
    "\n",
    "#pull rnaseq data from angelas work here: https://elifesciences.org/articles/38795/figures#fig2s1\n",
    "eLife_data = pd.DataFrame(pd.read_csv('kw_dms/nevan_analysis/elife-38795-fig2-data1-v2.csv', delimiter=','))"
   ]
  },
  {
   "cell_type": "code",
   "execution_count": 6,
   "id": "1eb88c0a",
   "metadata": {},
   "outputs": [],
   "source": [
    "# Filter for rows where any of the specified columns is True\n",
    "flag_apms_data = apms_data.loc[apms_data[['flag_SaintandMist_final', 'flag_Saint_final', 'flag_SaintandMistorNatureSaint_final']].any(axis=1)].reset_index(drop=True)"
   ]
  },
  {
   "cell_type": "code",
   "execution_count": 7,
   "id": "e46380cb",
   "metadata": {},
   "outputs": [],
   "source": [
    "def go_term(go_id):\n",
    "    # Define parameters\n",
    "    taxon_id = \"9606\"  # Taxonomy ID for Homo sapiens\n",
    "    go_id = go_id # GO term\n",
    "    \n",
    "    # Fetch annotations\n",
    "    annotations = quickgo.Annotation(taxonId=taxon_id, goId=go_id)\n",
    "\n",
    "    # Extract results\n",
    "    results = annotations['results']\n",
    "\n",
    "    # Extract gene products using 'symbol' key\n",
    "    gene_products = [result['symbol'] for result in results if result.get('symbol')]\n",
    "\n",
    "    # Extract gene products using 'symbol' key and add them to a list\n",
    "    gene_products = [result['symbol'] for result in results if result.get('symbol')]\n",
    "\n",
    "    # Convert the list to a set to remove duplicates, and then back to a list\n",
    "    unique_gene_products = list(set(gene_products))\n",
    "    \n",
    "    return unique_gene_products\n",
    "\n",
    "def go_term_mask(mask):\n",
    "\n",
    "    # Create a boolean mask\n",
    "    mask = flag_apms_data['PreyGene'].apply(lambda x: any(word in x for word in mask))\n",
    "    \n",
    "    return flag_apms_data[mask]"
   ]
  },
  {
   "cell_type": "code",
   "execution_count": 8,
   "id": "44cf6a06",
   "metadata": {},
   "outputs": [],
   "source": [
    "#ATP-dependent protein folding chaperone\n",
    "GO_0140662 = go_term('GO:0140662')\n",
    "ATP = go_term_mask(GO_0140662)\n",
    "\n",
    "#protein folding in endoplasmic reticulum\n",
    "GO_0034975 = go_term('GO:0034975')\n",
    "ER = go_term_mask(GO_0034975)\n",
    "\n",
    "#protein folding chaperone\n",
    "GO_0044183 = go_term('GO:0044183')\n",
    "all_chaps = go_term_mask(GO_0044183)"
   ]
  },
  {
   "cell_type": "code",
   "execution_count": 9,
   "id": "7ad4b8b7",
   "metadata": {
    "scrolled": true
   },
   "outputs": [],
   "source": [
    "# Group by the 'ViralProtein' and aggregate unique values in 'PreyGene'\n",
    "grouped = ATP.groupby('ViralProtein')['PreyGene'].unique()\n",
    "\n",
    "# Group by both 'variant' and 'ViralProtein', then aggregate unique values in 'PreyGene'\n",
    "grouped_byvariant = ER.groupby(['ViralProtein','Variant'])['PreyGene'].unique()"
   ]
  },
  {
   "cell_type": "code",
   "execution_count": 10,
   "id": "c5728607",
   "metadata": {},
   "outputs": [],
   "source": [
    "#extract a list of unique PreyGenes\n",
    "unique_ER = ER['PreyGene'].unique()\n",
    "unique_ATP = ATP['PreyGene'].unique()\n",
    "unique_all_chaps = all_chaps['PreyGene'].unique()\n",
    "\n",
    "# Combine and find unique values\n",
    "combined_unique = np.concatenate((unique_ER, unique_ATP, unique_all_chaps))\n",
    "unique_chaps = np.unique(combined_unique)\n",
    "\n",
    "chunk_size = 10000  # Adjust based on your memory constraints\n",
    "normal_tissue_data = pd.DataFrame()  # Initialize an empty DataFrame for the filtered data\n",
    "rna_single_cell_data = pd.DataFrame()\n",
    "\n",
    "for chunk in pd.read_csv('kw_dms/nevan_analysis/normal_tissue.tsv', sep='\\t', chunksize=chunk_size):\n",
    "    # Filter the chunk\n",
    "    filtered_chunk = chunk[chunk['Gene name'].isin(unique_chaps)]\n",
    "    # Append the filtered chunk to the DataFrame\n",
    "    normal_tissue_data = pd.concat([normal_tissue_data, filtered_chunk])\n",
    "\n",
    "for chunk in pd.read_csv('kw_dms/nevan_analysis/rna_single_cell_type.tsv', sep='\\t', chunksize=chunk_size):\n",
    "    # Filter the chunk\n",
    "    filtered_chunk = chunk[chunk['Gene name'].isin(unique_chaps)]\n",
    "    # Append the filtered chunk to the DataFrame\n",
    "    rna_single_cell_data = pd.concat([rna_single_cell_data, filtered_chunk])\n",
    "    "
   ]
  },
  {
   "cell_type": "code",
   "execution_count": 11,
   "id": "852acaa6",
   "metadata": {
    "scrolled": true
   },
   "outputs": [],
   "source": [
    "unique_tissue_cells = normal_tissue_data.groupby('Tissue')['Cell type'].unique()\n",
    "unique_RNA_cells = rna_single_cell_data['Cell type'].unique()"
   ]
  },
  {
   "cell_type": "code",
   "execution_count": 12,
   "id": "3a735d86",
   "metadata": {},
   "outputs": [],
   "source": [
    "tissue_cell_types = {\n",
    "    'bronchus': ['respiratory epithelial cells', 'basal cells', 'Basal respiratory cells', 'Ciliated cells', 'ciliated cells (cell body)', 'ciliated cells (cilia axoneme)', 'ciliated cells (ciliary rootlets)', 'ciliated cells (tip of cilia)', 'goblet cells'],\n",
    "    'kidney': ['cells in tubules', 'collecting ducts'],\n",
    "    'lung': ['alveolar cells type I', 'alveolar cells type II', 'endothelial cells', 'alveolar cells'],\n",
    "    'pancreas': ['exocrine glandular cells', 'pancreatic endocrine cells'],\n",
    "    'skin': ['Basal keratinocytes', 'Basal squamous epithelial cells']\n",
    "}\n",
    "\n",
    "# Filter for only tissue/cell type combinations\n",
    "def filter_combinations(row):\n",
    "    tissue = row['Tissue']\n",
    "    cell_type = row['Cell type']\n",
    "    return cell_type in tissue_cell_types.get(tissue, [])\n",
    "\n",
    "# Filter the DataFrame\n",
    "tissue_SARS_filtered = normal_tissue_data[normal_tissue_data.apply(filter_combinations, axis=1)].reset_index(drop=True)\n",
    "\n",
    "# Aggregate all unique cell types from the dictionary\n",
    "all_cell_types = set()\n",
    "for cell_types in tissue_cell_types.values():\n",
    "    all_cell_types.update(cell_types)\n",
    "\n",
    "# Cleaning up cell type names (some of this may not be biologically correct)\n",
    "replacements = {\n",
    "    'Alveolar cells type 1': 'alveolar cells type I',\n",
    "    'Alveolar cells type 2': 'alveolar cells type II',\n",
    "    'Collecting duct cells': 'collecting ducts',\n",
    "    'Endothelial cells': 'endothelial cells',\n",
    "    'Exocrine glandular cells': 'exocrine glandular cells',\n",
    "    'Pancreatic endocrine cells': 'pancreatic endocrine cells'\n",
    "}\n",
    "rna_single_cell_data['Cell type'] = rna_single_cell_data['Cell type'].replace(replacements)\n",
    "\n",
    "# Filter rna_single_cell_data based on the cell types\n",
    "rna_single_cell_SARS_filtered = rna_single_cell_data[rna_single_cell_data['Cell type'].isin(all_cell_types)].reset_index(drop=True)\n"
   ]
  },
  {
   "cell_type": "code",
   "execution_count": 13,
   "id": "29a1fd54",
   "metadata": {},
   "outputs": [],
   "source": [
    "# Group by the 'ViralProtein' and aggregate unique values in 'PreyGene'\n",
    "grouped = ATP.groupby('ViralProtein')['PreyGene'].unique()\n",
    "\n",
    "# Group by both 'variant' and 'ViralProtein', then aggregate unique values in 'PreyGene'\n",
    "grouped_byvariant = ER.groupby(['ViralProtein','Variant'])['PreyGene'].unique()"
   ]
  },
  {
   "cell_type": "code",
   "execution_count": 14,
   "id": "8819292c",
   "metadata": {},
   "outputs": [],
   "source": [
    "unique_chaps_list = unique_chaps.tolist()\n",
    "\n",
    "filtered_elife_data = eLife_data[eLife_data['GeneSymbol'].isin(unique_chaps_list)].copy()\n",
    "\n",
    "# Replace '#NUM!' with NaN\n",
    "filtered_elife_data.replace('#NUM!', np.nan, inplace=True)\n",
    "\n",
    "# Iterate through each column (skipping the first one)\n",
    "for column in filtered_elife_data.columns[1:]:\n",
    "    # Convert to float, coercing errors to NaN\n",
    "    filtered_elife_data[column] = pd.to_numeric(filtered_elife_data[column], errors='coerce')\n",
    "\n",
    "    # Replace NaN with the max value of the column\n",
    "    max_value = filtered_elife_data[column].max()\n",
    "    filtered_elife_data[column].fillna(max_value, inplace=True)"
   ]
  },
  {
   "cell_type": "code",
   "execution_count": 29,
   "id": "f0aca9e4",
   "metadata": {
    "scrolled": false
   },
   "outputs": [
    {
     "name": "stdout",
     "output_type": "stream",
     "text": [
      "CALR\n",
      "\n",
      "\n",
      "eLife RNAseq data:\n",
      "XBPS1s Log2 fold change: 1.211851\n",
      "-log10 pvalue: 121.028801\n",
      "ATF6/XBP1s Log2 fold change: 2.41991\n",
      "-log10 pvalue: 252.106825\n",
      "\n",
      "\n",
      "protein immunohistochemistry data:\n",
      "  Tissue                  Cell type Reliability        Level\n",
      "  kidney           cells in tubules    Enhanced         High\n",
      "    lung      alveolar cells type I    Enhanced Not detected\n",
      "    lung     alveolar cells type II    Enhanced       Medium\n",
      "    lung          endothelial cells    Enhanced Not detected\n",
      "pancreas   exocrine glandular cells    Enhanced         High\n",
      "pancreas pancreatic endocrine cells    Enhanced       Medium\n"
     ]
    },
    {
     "data": {
      "image/png": "[encoded data removed]",
      "text/plain": [
       "<Figure size 432x288 with 1 Axes>"
      ]
     },
     "metadata": {
      "needs_background": "light"
     },
     "output_type": "display_data"
    }
   ],
   "source": [
    "# Define the specific gene you are interested in\n",
    "specific_gene = 'CALR'  # Replace with the actual gene identifier\n",
    "\n",
    "# Filter the DataFrame for the specific gene\n",
    "specific_gene_tissue = tissue_SARS_filtered[tissue_SARS_filtered['Gene name'] == specific_gene]\n",
    "specific_gene_rna = rna_single_cell_SARS_filtered[rna_single_cell_SARS_filtered['Gene name'] == specific_gene]\n",
    "# Print the results\n",
    "print(specific_gene)\n",
    "print('\\n')\n",
    "print('eLife RNAseq data:')\n",
    "print('XBPS1s Log2 fold change:', filtered_elife_data.loc[filtered_elife_data['GeneSymbol'] == specific_gene, 'log2FoldChange_XBP1s37/basal37'].to_string(index=False))\n",
    "print('-log10 pvalue:', filtered_elife_data.loc[filtered_elife_data['GeneSymbol'] == specific_gene, '-log10_pvalue_XBP1s37/basal37'].to_string(index=False))\n",
    "print('ATF6/XBP1s Log2 fold change:', filtered_elife_data.loc[filtered_elife_data['GeneSymbol'] == specific_gene, 'log2FoldChange_ATF6fXBP1s37/basal37'].to_string(index=False))\n",
    "print('-log10 pvalue:', filtered_elife_data.loc[filtered_elife_data['GeneSymbol'] == specific_gene, '-log10_pvalue_ATF6fXBP1s37/basal37'].to_string(index=False))\n",
    "\n",
    "print('\\n')\n",
    "print('protein immunohistochemistry data:')\n",
    "print(tissue_SARS_filtered.loc[tissue_SARS_filtered['Gene name'] == specific_gene, ['Tissue','Cell type', 'Reliability', 'Level']].to_string(index=False))\n",
    "\n",
    "# Create the barplot with a uniform color\n",
    "sns.barplot(data=specific_gene_rna, x='Cell type', y='nTPM', color='skyblue')\n",
    "plt.xticks(rotation=-30, ha='left')\n",
    "plt.title('Single cell RNA seq data', fontsize=10)\n",
    "\n",
    "plt.show()"
   ]
  },
  {
   "cell_type": "code",
   "execution_count": 26,
   "id": "5c312c98",
   "metadata": {},
   "outputs": [
    {
     "data": {
      "application/vnd.plotly.v1+json": {
       "config": {
        "plotlyServerURL": "https://plot.ly"
       },
       "data": [
        {
         "customdata": [
          [
           "CALR"
          ]
         ],
         "hovertemplate": "GeneSymbol=%{customdata[0]}<br>log2FoldChange_XBP1s37/basal37=%{x}<br>-log10_pvalue_XBP1s37/basal37=%{y}<extra></extra>",
         "legendgroup": "CALR",
         "marker": {
          "color": "#636efa",
          "symbol": "circle"
         },
         "mode": "markers",
         "name": "CALR",
         "orientation": "v",
         "showlegend": true,
         "type": "scatter",
         "x": [
          1.211850605
         ],
         "xaxis": "x",
         "y": [
          121.0288014
         ],
         "yaxis": "y"
        },
        {
         "customdata": [
          [
           "CANX"
          ]
         ],
         "hovertemplate": "GeneSymbol=%{customdata[0]}<br>log2FoldChange_XBP1s37/basal37=%{x}<br>-log10_pvalue_XBP1s37/basal37=%{y}<extra></extra>",
         "legendgroup": "CANX",
         "marker": {
          "color": "#EF553B",
          "symbol": "circle"
         },
         "mode": "markers",
         "name": "CANX",
         "orientation": "v",
         "showlegend": true,
         "type": "scatter",
         "x": [
          1.373145973
         ],
         "xaxis": "x",
         "y": [
          45.7727601
         ],
         "yaxis": "y"
        },
        {
         "customdata": [
          [
           "CCT3"
          ]
         ],
         "hovertemplate": "GeneSymbol=%{customdata[0]}<br>log2FoldChange_XBP1s37/basal37=%{x}<br>-log10_pvalue_XBP1s37/basal37=%{y}<extra></extra>",
         "legendgroup": "CCT3",
         "marker": {
          "color": "#00cc96",
          "symbol": "circle"
         },
         "mode": "markers",
         "name": "CCT3",
         "orientation": "v",
         "showlegend": true,
         "type": "scatter",
         "x": [
          -0.038284096
         ],
         "xaxis": "x",
         "y": [
          0.213690704
         ],
         "yaxis": "y"
        },
        {
         "customdata": [
          [
           "CCT6A"
          ]
         ],
         "hovertemplate": "GeneSymbol=%{customdata[0]}<br>log2FoldChange_XBP1s37/basal37=%{x}<br>-log10_pvalue_XBP1s37/basal37=%{y}<extra></extra>",
         "legendgroup": "CCT6A",
         "marker": {
          "color": "#ab63fa",
          "symbol": "circle"
         },
         "mode": "markers",
         "name": "CCT6A",
         "orientation": "v",
         "showlegend": true,
         "type": "scatter",
         "x": [
          -0.144648425
         ],
         "xaxis": "x",
         "y": [
          2.77767121
         ],
         "yaxis": "y"
        },
        {
         "customdata": [
          [
           "DNAJC3"
          ]
         ],
         "hovertemplate": "GeneSymbol=%{customdata[0]}<br>log2FoldChange_XBP1s37/basal37=%{x}<br>-log10_pvalue_XBP1s37/basal37=%{y}<extra></extra>",
         "legendgroup": "DNAJC3",
         "marker": {
          "color": "#FFA15A",
          "symbol": "circle"
         },
         "mode": "markers",
         "name": "DNAJC3",
         "orientation": "v",
         "showlegend": true,
         "type": "scatter",
         "x": [
          1.823474407
         ],
         "xaxis": "x",
         "y": [
          46.04021886
         ],
         "yaxis": "y"
        },
        {
         "customdata": [
          [
           "EMC1"
          ]
         ],
         "hovertemplate": "GeneSymbol=%{customdata[0]}<br>log2FoldChange_XBP1s37/basal37=%{x}<br>-log10_pvalue_XBP1s37/basal37=%{y}<extra></extra>",
         "legendgroup": "EMC1",
         "marker": {
          "color": "#19d3f3",
          "symbol": "circle"
         },
         "mode": "markers",
         "name": "EMC1",
         "orientation": "v",
         "showlegend": true,
         "type": "scatter",
         "x": [
          0.046109059
         ],
         "xaxis": "x",
         "y": [
          0.392290953
         ],
         "yaxis": "y"
        },
        {
         "customdata": [
          [
           "EMC3"
          ]
         ],
         "hovertemplate": "GeneSymbol=%{customdata[0]}<br>log2FoldChange_XBP1s37/basal37=%{x}<br>-log10_pvalue_XBP1s37/basal37=%{y}<extra></extra>",
         "legendgroup": "EMC3",
         "marker": {
          "color": "#FF6692",
          "symbol": "circle"
         },
         "mode": "markers",
         "name": "EMC3",
         "orientation": "v",
         "showlegend": true,
         "type": "scatter",
         "x": [
          0.152739001
         ],
         "xaxis": "x",
         "y": [
          1.153652178
         ],
         "yaxis": "y"
        },
        {
         "customdata": [
          [
           "ERO1A"
          ]
         ],
         "hovertemplate": "GeneSymbol=%{customdata[0]}<br>log2FoldChange_XBP1s37/basal37=%{x}<br>-log10_pvalue_XBP1s37/basal37=%{y}<extra></extra>",
         "legendgroup": "ERO1A",
         "marker": {
          "color": "#B6E880",
          "symbol": "circle"
         },
         "mode": "markers",
         "name": "ERO1A",
         "orientation": "v",
         "showlegend": true,
         "type": "scatter",
         "x": [
          0.385421108
         ],
         "xaxis": "x",
         "y": [
          2.547031022
         ],
         "yaxis": "y"
        },
        {
         "customdata": [
          [
           "ERO1B"
          ]
         ],
         "hovertemplate": "GeneSymbol=%{customdata[0]}<br>log2FoldChange_XBP1s37/basal37=%{x}<br>-log10_pvalue_XBP1s37/basal37=%{y}<extra></extra>",
         "legendgroup": "ERO1B",
         "marker": {
          "color": "#FF97FF",
          "symbol": "circle"
         },
         "mode": "markers",
         "name": "ERO1B",
         "orientation": "v",
         "showlegend": true,
         "type": "scatter",
         "x": [
          1.951922596
         ],
         "xaxis": "x",
         "y": [
          33.66677373
         ],
         "yaxis": "y"
        },
        {
         "customdata": [
          [
           "FKBP8"
          ]
         ],
         "hovertemplate": "GeneSymbol=%{customdata[0]}<br>log2FoldChange_XBP1s37/basal37=%{x}<br>-log10_pvalue_XBP1s37/basal37=%{y}<extra></extra>",
         "legendgroup": "FKBP8",
         "marker": {
          "color": "#FECB52",
          "symbol": "circle"
         },
         "mode": "markers",
         "name": "FKBP8",
         "orientation": "v",
         "showlegend": true,
         "type": "scatter",
         "x": [
          -0.007317458
         ],
         "xaxis": "x",
         "y": [
          0.020309722
         ],
         "yaxis": "y"
        },
        {
         "customdata": [
          [
           "HSP90B1"
          ]
         ],
         "hovertemplate": "GeneSymbol=%{customdata[0]}<br>log2FoldChange_XBP1s37/basal37=%{x}<br>-log10_pvalue_XBP1s37/basal37=%{y}<extra></extra>",
         "legendgroup": "HSP90B1",
         "marker": {
          "color": "#636efa",
          "symbol": "circle"
         },
         "mode": "markers",
         "name": "HSP90B1",
         "orientation": "v",
         "showlegend": true,
         "type": "scatter",
         "x": [
          1.540399667
         ],
         "xaxis": "x",
         "y": [
          183.0284876
         ],
         "yaxis": "y"
        },
        {
         "customdata": [
          [
           "HSPA5"
          ]
         ],
         "hovertemplate": "GeneSymbol=%{customdata[0]}<br>log2FoldChange_XBP1s37/basal37=%{x}<br>-log10_pvalue_XBP1s37/basal37=%{y}<extra></extra>",
         "legendgroup": "HSPA5",
         "marker": {
          "color": "#EF553B",
          "symbol": "circle"
         },
         "mode": "markers",
         "name": "HSPA5",
         "orientation": "v",
         "showlegend": true,
         "type": "scatter",
         "x": [
          1.731539891
         ],
         "xaxis": "x",
         "y": [
          208.5425871
         ],
         "yaxis": "y"
        },
        {
         "customdata": [
          [
           "HSPA8"
          ]
         ],
         "hovertemplate": "GeneSymbol=%{customdata[0]}<br>log2FoldChange_XBP1s37/basal37=%{x}<br>-log10_pvalue_XBP1s37/basal37=%{y}<extra></extra>",
         "legendgroup": "HSPA8",
         "marker": {
          "color": "#00cc96",
          "symbol": "circle"
         },
         "mode": "markers",
         "name": "HSPA8",
         "orientation": "v",
         "showlegend": true,
         "type": "scatter",
         "x": [
          -0.255800528
         ],
         "xaxis": "x",
         "y": [
          13.62919734
         ],
         "yaxis": "y"
        },
        {
         "customdata": [
          [
           "HSPA9"
          ]
         ],
         "hovertemplate": "GeneSymbol=%{customdata[0]}<br>log2FoldChange_XBP1s37/basal37=%{x}<br>-log10_pvalue_XBP1s37/basal37=%{y}<extra></extra>",
         "legendgroup": "HSPA9",
         "marker": {
          "color": "#ab63fa",
          "symbol": "circle"
         },
         "mode": "markers",
         "name": "HSPA9",
         "orientation": "v",
         "showlegend": true,
         "type": "scatter",
         "x": [
          0.153391144
         ],
         "xaxis": "x",
         "y": [
          5.081957979
         ],
         "yaxis": "y"
        },
        {
         "customdata": [
          [
           "HSPD1"
          ]
         ],
         "hovertemplate": "GeneSymbol=%{customdata[0]}<br>log2FoldChange_XBP1s37/basal37=%{x}<br>-log10_pvalue_XBP1s37/basal37=%{y}<extra></extra>",
         "legendgroup": "HSPD1",
         "marker": {
          "color": "#FFA15A",
          "symbol": "circle"
         },
         "mode": "markers",
         "name": "HSPD1",
         "orientation": "v",
         "showlegend": true,
         "type": "scatter",
         "x": [
          0.00684573
         ],
         "xaxis": "x",
         "y": [
          0.057652974
         ],
         "yaxis": "y"
        },
        {
         "customdata": [
          [
           "HSPH1"
          ]
         ],
         "hovertemplate": "GeneSymbol=%{customdata[0]}<br>log2FoldChange_XBP1s37/basal37=%{x}<br>-log10_pvalue_XBP1s37/basal37=%{y}<extra></extra>",
         "legendgroup": "HSPH1",
         "marker": {
          "color": "#19d3f3",
          "symbol": "circle"
         },
         "mode": "markers",
         "name": "HSPH1",
         "orientation": "v",
         "showlegend": true,
         "type": "scatter",
         "x": [
          -0.144459229
         ],
         "xaxis": "x",
         "y": [
          0.945045387
         ],
         "yaxis": "y"
        },
        {
         "customdata": [
          [
           "HYOU1"
          ]
         ],
         "hovertemplate": "GeneSymbol=%{customdata[0]}<br>log2FoldChange_XBP1s37/basal37=%{x}<br>-log10_pvalue_XBP1s37/basal37=%{y}<extra></extra>",
         "legendgroup": "HYOU1",
         "marker": {
          "color": "#FF6692",
          "symbol": "circle"
         },
         "mode": "markers",
         "name": "HYOU1",
         "orientation": "v",
         "showlegend": true,
         "type": "scatter",
         "x": [
          2.388332704
         ],
         "xaxis": "x",
         "y": [
          208.5425871
         ],
         "yaxis": "y"
        },
        {
         "customdata": [
          [
           "P4HB"
          ]
         ],
         "hovertemplate": "GeneSymbol=%{customdata[0]}<br>log2FoldChange_XBP1s37/basal37=%{x}<br>-log10_pvalue_XBP1s37/basal37=%{y}<extra></extra>",
         "legendgroup": "P4HB",
         "marker": {
          "color": "#B6E880",
          "symbol": "circle"
         },
         "mode": "markers",
         "name": "P4HB",
         "orientation": "v",
         "showlegend": true,
         "type": "scatter",
         "x": [
          1.668921844
         ],
         "xaxis": "x",
         "y": [
          133.7530743
         ],
         "yaxis": "y"
        },
        {
         "customdata": [
          [
           "PDIA3"
          ]
         ],
         "hovertemplate": "GeneSymbol=%{customdata[0]}<br>log2FoldChange_XBP1s37/basal37=%{x}<br>-log10_pvalue_XBP1s37/basal37=%{y}<extra></extra>",
         "legendgroup": "PDIA3",
         "marker": {
          "color": "#FF97FF",
          "symbol": "circle"
         },
         "mode": "markers",
         "name": "PDIA3",
         "orientation": "v",
         "showlegend": true,
         "type": "scatter",
         "x": [
          1.533057644
         ],
         "xaxis": "x",
         "y": [
          208.5425871
         ],
         "yaxis": "y"
        },
        {
         "customdata": [
          [
           "PFDN2"
          ]
         ],
         "hovertemplate": "GeneSymbol=%{customdata[0]}<br>log2FoldChange_XBP1s37/basal37=%{x}<br>-log10_pvalue_XBP1s37/basal37=%{y}<extra></extra>",
         "legendgroup": "PFDN2",
         "marker": {
          "color": "#FECB52",
          "symbol": "circle"
         },
         "mode": "markers",
         "name": "PFDN2",
         "orientation": "v",
         "showlegend": true,
         "type": "scatter",
         "x": [
          0.196573661
         ],
         "xaxis": "x",
         "y": [
          0.520596905
         ],
         "yaxis": "y"
        },
        {
         "customdata": [
          [
           "VAPA"
          ]
         ],
         "hovertemplate": "GeneSymbol=%{customdata[0]}<br>log2FoldChange_XBP1s37/basal37=%{x}<br>-log10_pvalue_XBP1s37/basal37=%{y}<extra></extra>",
         "legendgroup": "VAPA",
         "marker": {
          "color": "#636efa",
          "symbol": "circle"
         },
         "mode": "markers",
         "name": "VAPA",
         "orientation": "v",
         "showlegend": true,
         "type": "scatter",
         "x": [
          0.103340571
         ],
         "xaxis": "x",
         "y": [
          0.900547406
         ],
         "yaxis": "y"
        }
       ],
       "layout": {
        "legend": {
         "title": {
          "text": "GeneSymbol"
         },
         "tracegroupgap": 0
        },
        "margin": {
         "t": 60
        },
        "template": {
         "data": {
          "bar": [
           {
            "error_x": {
             "color": "#2a3f5f"
            },
            "error_y": {
             "color": "#2a3f5f"
            },
            "marker": {
             "line": {
              "color": "#E5ECF6",
              "width": 0.5
             },
             "pattern": {
              "fillmode": "overlay",
              "size": 10,
              "solidity": 0.2
             }
            },
            "type": "bar"
           }
          ],
          "barpolar": [
           {
            "marker": {
             "line": {
              "color": "#E5ECF6",
              "width": 0.5
             },
             "pattern": {
              "fillmode": "overlay",
              "size": 10,
              "solidity": 0.2
             }
            },
            "type": "barpolar"
           }
          ],
          "carpet": [
           {
            "aaxis": {
             "endlinecolor": "#2a3f5f",
             "gridcolor": "white",
             "linecolor": "white",
             "minorgridcolor": "white",
             "startlinecolor": "#2a3f5f"
            },
            "baxis": {
             "endlinecolor": "#2a3f5f",
             "gridcolor": "white",
             "linecolor": "white",
             "minorgridcolor": "white",
             "startlinecolor": "#2a3f5f"
            },
            "type": "carpet"
           }
          ],
          "choropleth": [
           {
            "colorbar": {
             "outlinewidth": 0,
             "ticks": ""
            },
            "type": "choropleth"
           }
          ],
          "contour": [
           {
            "colorbar": {
             "outlinewidth": 0,
             "ticks": ""
            },
            "colorscale": [
             [
              0,
              "#0d0887"
             ],
             [
              0.1111111111111111,
              "#46039f"
             ],
             [
              0.2222222222222222,
              "#7201a8"
             ],
             [
              0.3333333333333333,
              "#9c179e"
             ],
             [
              0.4444444444444444,
              "#bd3786"
             ],
             [
              0.5555555555555556,
              "#d8576b"
             ],
             [
              0.6666666666666666,
              "#ed7953"
             ],
             [
              0.7777777777777778,
              "#fb9f3a"
             ],
             [
              0.8888888888888888,
              "#fdca26"
             ],
             [
              1,
              "#f0f921"
             ]
            ],
            "type": "contour"
           }
          ],
          "contourcarpet": [
           {
            "colorbar": {
             "outlinewidth": 0,
             "ticks": ""
            },
            "type": "contourcarpet"
           }
          ],
          "heatmap": [
           {
            "colorbar": {
             "outlinewidth": 0,
             "ticks": ""
            },
            "colorscale": [
             [
              0,
              "#0d0887"
             ],
             [
              0.1111111111111111,
              "#46039f"
             ],
             [
              0.2222222222222222,
              "#7201a8"
             ],
             [
              0.3333333333333333,
              "#9c179e"
             ],
             [
              0.4444444444444444,
              "#bd3786"
             ],
             [
              0.5555555555555556,
              "#d8576b"
             ],
             [
              0.6666666666666666,
              "#ed7953"
             ],
             [
              0.7777777777777778,
              "#fb9f3a"
             ],
             [
              0.8888888888888888,
              "#fdca26"
             ],
             [
              1,
              "#f0f921"
             ]
            ],
            "type": "heatmap"
           }
          ],
          "heatmapgl": [
           {
            "colorbar": {
             "outlinewidth": 0,
             "ticks": ""
            },
            "colorscale": [
             [
              0,
              "#0d0887"
             ],
             [
              0.1111111111111111,
              "#46039f"
             ],
             [
              0.2222222222222222,
              "#7201a8"
             ],
             [
              0.3333333333333333,
              "#9c179e"
             ],
             [
              0.4444444444444444,
              "#bd3786"
             ],
             [
              0.5555555555555556,
              "#d8576b"
             ],
             [
              0.6666666666666666,
              "#ed7953"
             ],
             [
              0.7777777777777778,
              "#fb9f3a"
             ],
             [
              0.8888888888888888,
              "#fdca26"
             ],
             [
              1,
              "#f0f921"
             ]
            ],
            "type": "heatmapgl"
           }
          ],
          "histogram": [
           {
            "marker": {
             "pattern": {
              "fillmode": "overlay",
              "size": 10,
              "solidity": 0.2
             }
            },
            "type": "histogram"
           }
          ],
          "histogram2d": [
           {
            "colorbar": {
             "outlinewidth": 0,
             "ticks": ""
            },
            "colorscale": [
             [
              0,
              "#0d0887"
             ],
             [
              0.1111111111111111,
              "#46039f"
             ],
             [
              0.2222222222222222,
              "#7201a8"
             ],
             [
              0.3333333333333333,
              "#9c179e"
             ],
             [
              0.4444444444444444,
              "#bd3786"
             ],
             [
              0.5555555555555556,
              "#d8576b"
             ],
             [
              0.6666666666666666,
              "#ed7953"
             ],
             [
              0.7777777777777778,
              "#fb9f3a"
             ],
             [
              0.8888888888888888,
              "#fdca26"
             ],
             [
              1,
              "#f0f921"
             ]
            ],
            "type": "histogram2d"
           }
          ],
          "histogram2dcontour": [
           {
            "colorbar": {
             "outlinewidth": 0,
             "ticks": ""
            },
            "colorscale": [
             [
              0,
              "#0d0887"
             ],
             [
              0.1111111111111111,
              "#46039f"
             ],
             [
              0.2222222222222222,
              "#7201a8"
             ],
             [
              0.3333333333333333,
              "#9c179e"
             ],
             [
              0.4444444444444444,
              "#bd3786"
             ],
             [
              0.5555555555555556,
              "#d8576b"
             ],
             [
              0.6666666666666666,
              "#ed7953"
             ],
             [
              0.7777777777777778,
              "#fb9f3a"
             ],
             [
              0.8888888888888888,
              "#fdca26"
             ],
             [
              1,
              "#f0f921"
             ]
            ],
            "type": "histogram2dcontour"
           }
          ],
          "mesh3d": [
           {
            "colorbar": {
             "outlinewidth": 0,
             "ticks": ""
            },
            "type": "mesh3d"
           }
          ],
          "parcoords": [
           {
            "line": {
             "colorbar": {
              "outlinewidth": 0,
              "ticks": ""
             }
            },
            "type": "parcoords"
           }
          ],
          "pie": [
           {
            "automargin": true,
            "type": "pie"
           }
          ],
          "scatter": [
           {
            "marker": {
             "colorbar": {
              "outlinewidth": 0,
              "ticks": ""
             }
            },
            "type": "scatter"
           }
          ],
          "scatter3d": [
           {
            "line": {
             "colorbar": {
              "outlinewidth": 0,
              "ticks": ""
             }
            },
            "marker": {
             "colorbar": {
              "outlinewidth": 0,
              "ticks": ""
             }
            },
            "type": "scatter3d"
           }
          ],
          "scattercarpet": [
           {
            "marker": {
             "colorbar": {
              "outlinewidth": 0,
              "ticks": ""
             }
            },
            "type": "scattercarpet"
           }
          ],
          "scattergeo": [
           {
            "marker": {
             "colorbar": {
              "outlinewidth": 0,
              "ticks": ""
             }
            },
            "type": "scattergeo"
           }
          ],
          "scattergl": [
           {
            "marker": {
             "colorbar": {
              "outlinewidth": 0,
              "ticks": ""
             }
            },
            "type": "scattergl"
           }
          ],
          "scattermapbox": [
           {
            "marker": {
             "colorbar": {
              "outlinewidth": 0,
              "ticks": ""
             }
            },
            "type": "scattermapbox"
           }
          ],
          "scatterpolar": [
           {
            "marker": {
             "colorbar": {
              "outlinewidth": 0,
              "ticks": ""
             }
            },
            "type": "scatterpolar"
           }
          ],
          "scatterpolargl": [
           {
            "marker": {
             "colorbar": {
              "outlinewidth": 0,
              "ticks": ""
             }
            },
            "type": "scatterpolargl"
           }
          ],
          "scatterternary": [
           {
            "marker": {
             "colorbar": {
              "outlinewidth": 0,
              "ticks": ""
             }
            },
            "type": "scatterternary"
           }
          ],
          "surface": [
           {
            "colorbar": {
             "outlinewidth": 0,
             "ticks": ""
            },
            "colorscale": [
             [
              0,
              "#0d0887"
             ],
             [
              0.1111111111111111,
              "#46039f"
             ],
             [
              0.2222222222222222,
              "#7201a8"
             ],
             [
              0.3333333333333333,
              "#9c179e"
             ],
             [
              0.4444444444444444,
              "#bd3786"
             ],
             [
              0.5555555555555556,
              "#d8576b"
             ],
             [
              0.6666666666666666,
              "#ed7953"
             ],
             [
              0.7777777777777778,
              "#fb9f3a"
             ],
             [
              0.8888888888888888,
              "#fdca26"
             ],
             [
              1,
              "#f0f921"
             ]
            ],
            "type": "surface"
           }
          ],
          "table": [
           {
            "cells": {
             "fill": {
              "color": "#EBF0F8"
             },
             "line": {
              "color": "white"
             }
            },
            "header": {
             "fill": {
              "color": "#C8D4E3"
             },
             "line": {
              "color": "white"
             }
            },
            "type": "table"
           }
          ]
         },
         "layout": {
          "annotationdefaults": {
           "arrowcolor": "#2a3f5f",
           "arrowhead": 0,
           "arrowwidth": 1
          },
          "autotypenumbers": "strict",
          "coloraxis": {
           "colorbar": {
            "outlinewidth": 0,
            "ticks": ""
           }
          },
          "colorscale": {
           "diverging": [
            [
             0,
             "#8e0152"
            ],
            [
             0.1,
             "#c51b7d"
            ],
            [
             0.2,
             "#de77ae"
            ],
            [
             0.3,
             "#f1b6da"
            ],
            [
             0.4,
             "#fde0ef"
            ],
            [
             0.5,
             "#f7f7f7"
            ],
            [
             0.6,
             "#e6f5d0"
            ],
            [
             0.7,
             "#b8e186"
            ],
            [
             0.8,
             "#7fbc41"
            ],
            [
             0.9,
             "#4d9221"
            ],
            [
             1,
             "#276419"
            ]
           ],
           "sequential": [
            [
             0,
             "#0d0887"
            ],
            [
             0.1111111111111111,
             "#46039f"
            ],
            [
             0.2222222222222222,
             "#7201a8"
            ],
            [
             0.3333333333333333,
             "#9c179e"
            ],
            [
             0.4444444444444444,
             "#bd3786"
            ],
            [
             0.5555555555555556,
             "#d8576b"
            ],
            [
             0.6666666666666666,
             "#ed7953"
            ],
            [
             0.7777777777777778,
             "#fb9f3a"
            ],
            [
             0.8888888888888888,
             "#fdca26"
            ],
            [
             1,
             "#f0f921"
            ]
           ],
           "sequentialminus": [
            [
             0,
             "#0d0887"
            ],
            [
             0.1111111111111111,
             "#46039f"
            ],
            [
             0.2222222222222222,
             "#7201a8"
            ],
            [
             0.3333333333333333,
             "#9c179e"
            ],
            [
             0.4444444444444444,
             "#bd3786"
            ],
            [
             0.5555555555555556,
             "#d8576b"
            ],
            [
             0.6666666666666666,
             "#ed7953"
            ],
            [
             0.7777777777777778,
             "#fb9f3a"
            ],
            [
             0.8888888888888888,
             "#fdca26"
            ],
            [
             1,
             "#f0f921"
            ]
           ]
          },
          "colorway": [
           "#636efa",
           "#EF553B",
           "#00cc96",
           "#ab63fa",
           "#FFA15A",
           "#19d3f3",
           "#FF6692",
           "#B6E880",
           "#FF97FF",
           "#FECB52"
          ],
          "font": {
           "color": "#2a3f5f"
          },
          "geo": {
           "bgcolor": "white",
           "lakecolor": "white",
           "landcolor": "#E5ECF6",
           "showlakes": true,
           "showland": true,
           "subunitcolor": "white"
          },
          "hoverlabel": {
           "align": "left"
          },
          "hovermode": "closest",
          "mapbox": {
           "style": "light"
          },
          "paper_bgcolor": "white",
          "plot_bgcolor": "#E5ECF6",
          "polar": {
           "angularaxis": {
            "gridcolor": "white",
            "linecolor": "white",
            "ticks": ""
           },
           "bgcolor": "#E5ECF6",
           "radialaxis": {
            "gridcolor": "white",
            "linecolor": "white",
            "ticks": ""
           }
          },
          "scene": {
           "xaxis": {
            "backgroundcolor": "#E5ECF6",
            "gridcolor": "white",
            "gridwidth": 2,
            "linecolor": "white",
            "showbackground": true,
            "ticks": "",
            "zerolinecolor": "white"
           },
           "yaxis": {
            "backgroundcolor": "#E5ECF6",
            "gridcolor": "white",
            "gridwidth": 2,
            "linecolor": "white",
            "showbackground": true,
            "ticks": "",
            "zerolinecolor": "white"
           },
           "zaxis": {
            "backgroundcolor": "#E5ECF6",
            "gridcolor": "white",
            "gridwidth": 2,
            "linecolor": "white",
            "showbackground": true,
            "ticks": "",
            "zerolinecolor": "white"
           }
          },
          "shapedefaults": {
           "line": {
            "color": "#2a3f5f"
           }
          },
          "ternary": {
           "aaxis": {
            "gridcolor": "white",
            "linecolor": "white",
            "ticks": ""
           },
           "baxis": {
            "gridcolor": "white",
            "linecolor": "white",
            "ticks": ""
           },
           "bgcolor": "#E5ECF6",
           "caxis": {
            "gridcolor": "white",
            "linecolor": "white",
            "ticks": ""
           }
          },
          "title": {
           "x": 0.05
          },
          "xaxis": {
           "automargin": true,
           "gridcolor": "white",
           "linecolor": "white",
           "ticks": "",
           "title": {
            "standoff": 15
           },
           "zerolinecolor": "white",
           "zerolinewidth": 2
          },
          "yaxis": {
           "automargin": true,
           "gridcolor": "white",
           "linecolor": "white",
           "ticks": "",
           "title": {
            "standoff": 15
           },
           "zerolinecolor": "white",
           "zerolinewidth": 2
          }
         }
        },
        "title": {
         "text": "XBP1s 37˚C vs. Basal 37˚C",
         "x": 0.5,
         "xanchor": "center",
         "y": 0.92
        },
        "xaxis": {
         "anchor": "y",
         "domain": [
          0,
          1
         ],
         "title": {
          "text": "log2FoldChange_XBP1s37/basal37"
         }
        },
        "yaxis": {
         "anchor": "x",
         "domain": [
          0,
          1
         ],
         "title": {
          "text": "-log10_pvalue_XBP1s37/basal37"
         }
        }
       }
      },
      "text/html": [
       "<div>                            <div id=\"57503ceb-3d0c-4fe6-92f7-5d3ec6ce4a91\" class=\"plotly-graph-div\" style=\"height:525px; width:100%;\"></div>            <script type=\"text/javascript\">                require([\"plotly\"], function(Plotly) {                    window.PLOTLYENV=window.PLOTLYENV || {};                                    if (document.getElementById(\"57503ceb-3d0c-4fe6-92f7-5d3ec6ce4a91\")) {                    Plotly.newPlot(                        \"57503ceb-3d0c-4fe6-92f7-5d3ec6ce4a91\",                        [{\"customdata\":[[\"CALR\"]],\"hovertemplate\":\"GeneSymbol=%{customdata[0]}<br>log2FoldChange_XBP1s37/basal37=%{x}<br>-log10_pvalue_XBP1s37/basal37=%{y}<extra></extra>\",\"legendgroup\":\"CALR\",\"marker\":{\"color\":\"#636efa\",\"symbol\":\"circle\"},\"mode\":\"markers\",\"name\":\"CALR\",\"orientation\":\"v\",\"showlegend\":true,\"x\":[1.211850605],\"xaxis\":\"x\",\"y\":[121.0288014],\"yaxis\":\"y\",\"type\":\"scatter\"},{\"customdata\":[[\"CANX\"]],\"hovertemplate\":\"GeneSymbol=%{customdata[0]}<br>log2FoldChange_XBP1s37/basal37=%{x}<br>-log10_pvalue_XBP1s37/basal37=%{y}<extra></extra>\",\"legendgroup\":\"CANX\",\"marker\":{\"color\":\"#EF553B\",\"symbol\":\"circle\"},\"mode\":\"markers\",\"name\":\"CANX\",\"orientation\":\"v\",\"showlegend\":true,\"x\":[1.373145973],\"xaxis\":\"x\",\"y\":[45.7727601],\"yaxis\":\"y\",\"type\":\"scatter\"},{\"customdata\":[[\"CCT3\"]],\"hovertemplate\":\"GeneSymbol=%{customdata[0]}<br>log2FoldChange_XBP1s37/basal37=%{x}<br>-log10_pvalue_XBP1s37/basal37=%{y}<extra></extra>\",\"legendgroup\":\"CCT3\",\"marker\":{\"color\":\"#00cc96\",\"symbol\":\"circle\"},\"mode\":\"markers\",\"name\":\"CCT3\",\"orientation\":\"v\",\"showlegend\":true,\"x\":[-0.038284096],\"xaxis\":\"x\",\"y\":[0.213690704],\"yaxis\":\"y\",\"type\":\"scatter\"},{\"customdata\":[[\"CCT6A\"]],\"hovertemplate\":\"GeneSymbol=%{customdata[0]}<br>log2FoldChange_XBP1s37/basal37=%{x}<br>-log10_pvalue_XBP1s37/basal37=%{y}<extra></extra>\",\"legendgroup\":\"CCT6A\",\"marker\":{\"color\":\"#ab63fa\",\"symbol\":\"circle\"},\"mode\":\"markers\",\"name\":\"CCT6A\",\"orientation\":\"v\",\"showlegend\":true,\"x\":[-0.144648425],\"xaxis\":\"x\",\"y\":[2.77767121],\"yaxis\":\"y\",\"type\":\"scatter\"},{\"customdata\":[[\"DNAJC3\"]],\"hovertemplate\":\"GeneSymbol=%{customdata[0]}<br>log2FoldChange_XBP1s37/basal37=%{x}<br>-log10_pvalue_XBP1s37/basal37=%{y}<extra></extra>\",\"legendgroup\":\"DNAJC3\",\"marker\":{\"color\":\"#FFA15A\",\"symbol\":\"circle\"},\"mode\":\"markers\",\"name\":\"DNAJC3\",\"orientation\":\"v\",\"showlegend\":true,\"x\":[1.823474407],\"xaxis\":\"x\",\"y\":[46.04021886],\"yaxis\":\"y\",\"type\":\"scatter\"},{\"customdata\":[[\"EMC1\"]],\"hovertemplate\":\"GeneSymbol=%{customdata[0]}<br>log2FoldChange_XBP1s37/basal37=%{x}<br>-log10_pvalue_XBP1s37/basal37=%{y}<extra></extra>\",\"legendgroup\":\"EMC1\",\"marker\":{\"color\":\"#19d3f3\",\"symbol\":\"circle\"},\"mode\":\"markers\",\"name\":\"EMC1\",\"orientation\":\"v\",\"showlegend\":true,\"x\":[0.046109059],\"xaxis\":\"x\",\"y\":[0.392290953],\"yaxis\":\"y\",\"type\":\"scatter\"},{\"customdata\":[[\"EMC3\"]],\"hovertemplate\":\"GeneSymbol=%{customdata[0]}<br>log2FoldChange_XBP1s37/basal37=%{x}<br>-log10_pvalue_XBP1s37/basal37=%{y}<extra></extra>\",\"legendgroup\":\"EMC3\",\"marker\":{\"color\":\"#FF6692\",\"symbol\":\"circle\"},\"mode\":\"markers\",\"name\":\"EMC3\",\"orientation\":\"v\",\"showlegend\":true,\"x\":[0.152739001],\"xaxis\":\"x\",\"y\":[1.153652178],\"yaxis\":\"y\",\"type\":\"scatter\"},{\"customdata\":[[\"ERO1A\"]],\"hovertemplate\":\"GeneSymbol=%{customdata[0]}<br>log2FoldChange_XBP1s37/basal37=%{x}<br>-log10_pvalue_XBP1s37/basal37=%{y}<extra></extra>\",\"legendgroup\":\"ERO1A\",\"marker\":{\"color\":\"#B6E880\",\"symbol\":\"circle\"},\"mode\":\"markers\",\"name\":\"ERO1A\",\"orientation\":\"v\",\"showlegend\":true,\"x\":[0.385421108],\"xaxis\":\"x\",\"y\":[2.547031022],\"yaxis\":\"y\",\"type\":\"scatter\"},{\"customdata\":[[\"ERO1B\"]],\"hovertemplate\":\"GeneSymbol=%{customdata[0]}<br>log2FoldChange_XBP1s37/basal37=%{x}<br>-log10_pvalue_XBP1s37/basal37=%{y}<extra></extra>\",\"legendgroup\":\"ERO1B\",\"marker\":{\"color\":\"#FF97FF\",\"symbol\":\"circle\"},\"mode\":\"markers\",\"name\":\"ERO1B\",\"orientation\":\"v\",\"showlegend\":true,\"x\":[1.951922596],\"xaxis\":\"x\",\"y\":[33.66677373],\"yaxis\":\"y\",\"type\":\"scatter\"},{\"customdata\":[[\"FKBP8\"]],\"hovertemplate\":\"GeneSymbol=%{customdata[0]}<br>log2FoldChange_XBP1s37/basal37=%{x}<br>-log10_pvalue_XBP1s37/basal37=%{y}<extra></extra>\",\"legendgroup\":\"FKBP8\",\"marker\":{\"color\":\"#FECB52\",\"symbol\":\"circle\"},\"mode\":\"markers\",\"name\":\"FKBP8\",\"orientation\":\"v\",\"showlegend\":true,\"x\":[-0.007317458],\"xaxis\":\"x\",\"y\":[0.020309722],\"yaxis\":\"y\",\"type\":\"scatter\"},{\"customdata\":[[\"HSP90B1\"]],\"hovertemplate\":\"GeneSymbol=%{customdata[0]}<br>log2FoldChange_XBP1s37/basal37=%{x}<br>-log10_pvalue_XBP1s37/basal37=%{y}<extra></extra>\",\"legendgroup\":\"HSP90B1\",\"marker\":{\"color\":\"#636efa\",\"symbol\":\"circle\"},\"mode\":\"markers\",\"name\":\"HSP90B1\",\"orientation\":\"v\",\"showlegend\":true,\"x\":[1.540399667],\"xaxis\":\"x\",\"y\":[183.0284876],\"yaxis\":\"y\",\"type\":\"scatter\"},{\"customdata\":[[\"HSPA5\"]],\"hovertemplate\":\"GeneSymbol=%{customdata[0]}<br>log2FoldChange_XBP1s37/basal37=%{x}<br>-log10_pvalue_XBP1s37/basal37=%{y}<extra></extra>\",\"legendgroup\":\"HSPA5\",\"marker\":{\"color\":\"#EF553B\",\"symbol\":\"circle\"},\"mode\":\"markers\",\"name\":\"HSPA5\",\"orientation\":\"v\",\"showlegend\":true,\"x\":[1.731539891],\"xaxis\":\"x\",\"y\":[208.5425871],\"yaxis\":\"y\",\"type\":\"scatter\"},{\"customdata\":[[\"HSPA8\"]],\"hovertemplate\":\"GeneSymbol=%{customdata[0]}<br>log2FoldChange_XBP1s37/basal37=%{x}<br>-log10_pvalue_XBP1s37/basal37=%{y}<extra></extra>\",\"legendgroup\":\"HSPA8\",\"marker\":{\"color\":\"#00cc96\",\"symbol\":\"circle\"},\"mode\":\"markers\",\"name\":\"HSPA8\",\"orientation\":\"v\",\"showlegend\":true,\"x\":[-0.255800528],\"xaxis\":\"x\",\"y\":[13.62919734],\"yaxis\":\"y\",\"type\":\"scatter\"},{\"customdata\":[[\"HSPA9\"]],\"hovertemplate\":\"GeneSymbol=%{customdata[0]}<br>log2FoldChange_XBP1s37/basal37=%{x}<br>-log10_pvalue_XBP1s37/basal37=%{y}<extra></extra>\",\"legendgroup\":\"HSPA9\",\"marker\":{\"color\":\"#ab63fa\",\"symbol\":\"circle\"},\"mode\":\"markers\",\"name\":\"HSPA9\",\"orientation\":\"v\",\"showlegend\":true,\"x\":[0.153391144],\"xaxis\":\"x\",\"y\":[5.081957979],\"yaxis\":\"y\",\"type\":\"scatter\"},{\"customdata\":[[\"HSPD1\"]],\"hovertemplate\":\"GeneSymbol=%{customdata[0]}<br>log2FoldChange_XBP1s37/basal37=%{x}<br>-log10_pvalue_XBP1s37/basal37=%{y}<extra></extra>\",\"legendgroup\":\"HSPD1\",\"marker\":{\"color\":\"#FFA15A\",\"symbol\":\"circle\"},\"mode\":\"markers\",\"name\":\"HSPD1\",\"orientation\":\"v\",\"showlegend\":true,\"x\":[0.00684573],\"xaxis\":\"x\",\"y\":[0.057652974],\"yaxis\":\"y\",\"type\":\"scatter\"},{\"customdata\":[[\"HSPH1\"]],\"hovertemplate\":\"GeneSymbol=%{customdata[0]}<br>log2FoldChange_XBP1s37/basal37=%{x}<br>-log10_pvalue_XBP1s37/basal37=%{y}<extra></extra>\",\"legendgroup\":\"HSPH1\",\"marker\":{\"color\":\"#19d3f3\",\"symbol\":\"circle\"},\"mode\":\"markers\",\"name\":\"HSPH1\",\"orientation\":\"v\",\"showlegend\":true,\"x\":[-0.144459229],\"xaxis\":\"x\",\"y\":[0.945045387],\"yaxis\":\"y\",\"type\":\"scatter\"},{\"customdata\":[[\"HYOU1\"]],\"hovertemplate\":\"GeneSymbol=%{customdata[0]}<br>log2FoldChange_XBP1s37/basal37=%{x}<br>-log10_pvalue_XBP1s37/basal37=%{y}<extra></extra>\",\"legendgroup\":\"HYOU1\",\"marker\":{\"color\":\"#FF6692\",\"symbol\":\"circle\"},\"mode\":\"markers\",\"name\":\"HYOU1\",\"orientation\":\"v\",\"showlegend\":true,\"x\":[2.388332704],\"xaxis\":\"x\",\"y\":[208.5425871],\"yaxis\":\"y\",\"type\":\"scatter\"},{\"customdata\":[[\"P4HB\"]],\"hovertemplate\":\"GeneSymbol=%{customdata[0]}<br>log2FoldChange_XBP1s37/basal37=%{x}<br>-log10_pvalue_XBP1s37/basal37=%{y}<extra></extra>\",\"legendgroup\":\"P4HB\",\"marker\":{\"color\":\"#B6E880\",\"symbol\":\"circle\"},\"mode\":\"markers\",\"name\":\"P4HB\",\"orientation\":\"v\",\"showlegend\":true,\"x\":[1.668921844],\"xaxis\":\"x\",\"y\":[133.7530743],\"yaxis\":\"y\",\"type\":\"scatter\"},{\"customdata\":[[\"PDIA3\"]],\"hovertemplate\":\"GeneSymbol=%{customdata[0]}<br>log2FoldChange_XBP1s37/basal37=%{x}<br>-log10_pvalue_XBP1s37/basal37=%{y}<extra></extra>\",\"legendgroup\":\"PDIA3\",\"marker\":{\"color\":\"#FF97FF\",\"symbol\":\"circle\"},\"mode\":\"markers\",\"name\":\"PDIA3\",\"orientation\":\"v\",\"showlegend\":true,\"x\":[1.533057644],\"xaxis\":\"x\",\"y\":[208.5425871],\"yaxis\":\"y\",\"type\":\"scatter\"},{\"customdata\":[[\"PFDN2\"]],\"hovertemplate\":\"GeneSymbol=%{customdata[0]}<br>log2FoldChange_XBP1s37/basal37=%{x}<br>-log10_pvalue_XBP1s37/basal37=%{y}<extra></extra>\",\"legendgroup\":\"PFDN2\",\"marker\":{\"color\":\"#FECB52\",\"symbol\":\"circle\"},\"mode\":\"markers\",\"name\":\"PFDN2\",\"orientation\":\"v\",\"showlegend\":true,\"x\":[0.196573661],\"xaxis\":\"x\",\"y\":[0.520596905],\"yaxis\":\"y\",\"type\":\"scatter\"},{\"customdata\":[[\"VAPA\"]],\"hovertemplate\":\"GeneSymbol=%{customdata[0]}<br>log2FoldChange_XBP1s37/basal37=%{x}<br>-log10_pvalue_XBP1s37/basal37=%{y}<extra></extra>\",\"legendgroup\":\"VAPA\",\"marker\":{\"color\":\"#636efa\",\"symbol\":\"circle\"},\"mode\":\"markers\",\"name\":\"VAPA\",\"orientation\":\"v\",\"showlegend\":true,\"x\":[0.103340571],\"xaxis\":\"x\",\"y\":[0.900547406],\"yaxis\":\"y\",\"type\":\"scatter\"}],                        {\"template\":{\"data\":{\"bar\":[{\"error_x\":{\"color\":\"#2a3f5f\"},\"error_y\":{\"color\":\"#2a3f5f\"},\"marker\":{\"line\":{\"color\":\"#E5ECF6\",\"width\":0.5},\"pattern\":{\"fillmode\":\"overlay\",\"size\":10,\"solidity\":0.2}},\"type\":\"bar\"}],\"barpolar\":[{\"marker\":{\"line\":{\"color\":\"#E5ECF6\",\"width\":0.5},\"pattern\":{\"fillmode\":\"overlay\",\"size\":10,\"solidity\":0.2}},\"type\":\"barpolar\"}],\"carpet\":[{\"aaxis\":{\"endlinecolor\":\"#2a3f5f\",\"gridcolor\":\"white\",\"linecolor\":\"white\",\"minorgridcolor\":\"white\",\"startlinecolor\":\"#2a3f5f\"},\"baxis\":{\"endlinecolor\":\"#2a3f5f\",\"gridcolor\":\"white\",\"linecolor\":\"white\",\"minorgridcolor\":\"white\",\"startlinecolor\":\"#2a3f5f\"},\"type\":\"carpet\"}],\"choropleth\":[{\"colorbar\":{\"outlinewidth\":0,\"ticks\":\"\"},\"type\":\"choropleth\"}],\"contour\":[{\"colorbar\":{\"outlinewidth\":0,\"ticks\":\"\"},\"colorscale\":[[0.0,\"#0d0887\"],[0.1111111111111111,\"#46039f\"],[0.2222222222222222,\"#7201a8\"],[0.3333333333333333,\"#9c179e\"],[0.4444444444444444,\"#bd3786\"],[0.5555555555555556,\"#d8576b\"],[0.6666666666666666,\"#ed7953\"],[0.7777777777777778,\"#fb9f3a\"],[0.8888888888888888,\"#fdca26\"],[1.0,\"#f0f921\"]],\"type\":\"contour\"}],\"contourcarpet\":[{\"colorbar\":{\"outlinewidth\":0,\"ticks\":\"\"},\"type\":\"contourcarpet\"}],\"heatmap\":[{\"colorbar\":{\"outlinewidth\":0,\"ticks\":\"\"},\"colorscale\":[[0.0,\"#0d0887\"],[0.1111111111111111,\"#46039f\"],[0.2222222222222222,\"#7201a8\"],[0.3333333333333333,\"#9c179e\"],[0.4444444444444444,\"#bd3786\"],[0.5555555555555556,\"#d8576b\"],[0.6666666666666666,\"#ed7953\"],[0.7777777777777778,\"#fb9f3a\"],[0.8888888888888888,\"#fdca26\"],[1.0,\"#f0f921\"]],\"type\":\"heatmap\"}],\"heatmapgl\":[{\"colorbar\":{\"outlinewidth\":0,\"ticks\":\"\"},\"colorscale\":[[0.0,\"#0d0887\"],[0.1111111111111111,\"#46039f\"],[0.2222222222222222,\"#7201a8\"],[0.3333333333333333,\"#9c179e\"],[0.4444444444444444,\"#bd3786\"],[0.5555555555555556,\"#d8576b\"],[0.6666666666666666,\"#ed7953\"],[0.7777777777777778,\"#fb9f3a\"],[0.8888888888888888,\"#fdca26\"],[1.0,\"#f0f921\"]],\"type\":\"heatmapgl\"}],\"histogram\":[{\"marker\":{\"pattern\":{\"fillmode\":\"overlay\",\"size\":10,\"solidity\":0.2}},\"type\":\"histogram\"}],\"histogram2d\":[{\"colorbar\":{\"outlinewidth\":0,\"ticks\":\"\"},\"colorscale\":[[0.0,\"#0d0887\"],[0.1111111111111111,\"#46039f\"],[0.2222222222222222,\"#7201a8\"],[0.3333333333333333,\"#9c179e\"],[0.4444444444444444,\"#bd3786\"],[0.5555555555555556,\"#d8576b\"],[0.6666666666666666,\"#ed7953\"],[0.7777777777777778,\"#fb9f3a\"],[0.8888888888888888,\"#fdca26\"],[1.0,\"#f0f921\"]],\"type\":\"histogram2d\"}],\"histogram2dcontour\":[{\"colorbar\":{\"outlinewidth\":0,\"ticks\":\"\"},\"colorscale\":[[0.0,\"#0d0887\"],[0.1111111111111111,\"#46039f\"],[0.2222222222222222,\"#7201a8\"],[0.3333333333333333,\"#9c179e\"],[0.4444444444444444,\"#bd3786\"],[0.5555555555555556,\"#d8576b\"],[0.6666666666666666,\"#ed7953\"],[0.7777777777777778,\"#fb9f3a\"],[0.8888888888888888,\"#fdca26\"],[1.0,\"#f0f921\"]],\"type\":\"histogram2dcontour\"}],\"mesh3d\":[{\"colorbar\":{\"outlinewidth\":0,\"ticks\":\"\"},\"type\":\"mesh3d\"}],\"parcoords\":[{\"line\":{\"colorbar\":{\"outlinewidth\":0,\"ticks\":\"\"}},\"type\":\"parcoords\"}],\"pie\":[{\"automargin\":true,\"type\":\"pie\"}],\"scatter\":[{\"marker\":{\"colorbar\":{\"outlinewidth\":0,\"ticks\":\"\"}},\"type\":\"scatter\"}],\"scatter3d\":[{\"line\":{\"colorbar\":{\"outlinewidth\":0,\"ticks\":\"\"}},\"marker\":{\"colorbar\":{\"outlinewidth\":0,\"ticks\":\"\"}},\"type\":\"scatter3d\"}],\"scattercarpet\":[{\"marker\":{\"colorbar\":{\"outlinewidth\":0,\"ticks\":\"\"}},\"type\":\"scattercarpet\"}],\"scattergeo\":[{\"marker\":{\"colorbar\":{\"outlinewidth\":0,\"ticks\":\"\"}},\"type\":\"scattergeo\"}],\"scattergl\":[{\"marker\":{\"colorbar\":{\"outlinewidth\":0,\"ticks\":\"\"}},\"type\":\"scattergl\"}],\"scattermapbox\":[{\"marker\":{\"colorbar\":{\"outlinewidth\":0,\"ticks\":\"\"}},\"type\":\"scattermapbox\"}],\"scatterpolar\":[{\"marker\":{\"colorbar\":{\"outlinewidth\":0,\"ticks\":\"\"}},\"type\":\"scatterpolar\"}],\"scatterpolargl\":[{\"marker\":{\"colorbar\":{\"outlinewidth\":0,\"ticks\":\"\"}},\"type\":\"scatterpolargl\"}],\"scatterternary\":[{\"marker\":{\"colorbar\":{\"outlinewidth\":0,\"ticks\":\"\"}},\"type\":\"scatterternary\"}],\"surface\":[{\"colorbar\":{\"outlinewidth\":0,\"ticks\":\"\"},\"colorscale\":[[0.0,\"#0d0887\"],[0.1111111111111111,\"#46039f\"],[0.2222222222222222,\"#7201a8\"],[0.3333333333333333,\"#9c179e\"],[0.4444444444444444,\"#bd3786\"],[0.5555555555555556,\"#d8576b\"],[0.6666666666666666,\"#ed7953\"],[0.7777777777777778,\"#fb9f3a\"],[0.8888888888888888,\"#fdca26\"],[1.0,\"#f0f921\"]],\"type\":\"surface\"}],\"table\":[{\"cells\":{\"fill\":{\"color\":\"#EBF0F8\"},\"line\":{\"color\":\"white\"}},\"header\":{\"fill\":{\"color\":\"#C8D4E3\"},\"line\":{\"color\":\"white\"}},\"type\":\"table\"}]},\"layout\":{\"annotationdefaults\":{\"arrowcolor\":\"#2a3f5f\",\"arrowhead\":0,\"arrowwidth\":1},\"autotypenumbers\":\"strict\",\"coloraxis\":{\"colorbar\":{\"outlinewidth\":0,\"ticks\":\"\"}},\"colorscale\":{\"diverging\":[[0,\"#8e0152\"],[0.1,\"#c51b7d\"],[0.2,\"#de77ae\"],[0.3,\"#f1b6da\"],[0.4,\"#fde0ef\"],[0.5,\"#f7f7f7\"],[0.6,\"#e6f5d0\"],[0.7,\"#b8e186\"],[0.8,\"#7fbc41\"],[0.9,\"#4d9221\"],[1,\"#276419\"]],\"sequential\":[[0.0,\"#0d0887\"],[0.1111111111111111,\"#46039f\"],[0.2222222222222222,\"#7201a8\"],[0.3333333333333333,\"#9c179e\"],[0.4444444444444444,\"#bd3786\"],[0.5555555555555556,\"#d8576b\"],[0.6666666666666666,\"#ed7953\"],[0.7777777777777778,\"#fb9f3a\"],[0.8888888888888888,\"#fdca26\"],[1.0,\"#f0f921\"]],\"sequentialminus\":[[0.0,\"#0d0887\"],[0.1111111111111111,\"#46039f\"],[0.2222222222222222,\"#7201a8\"],[0.3333333333333333,\"#9c179e\"],[0.4444444444444444,\"#bd3786\"],[0.5555555555555556,\"#d8576b\"],[0.6666666666666666,\"#ed7953\"],[0.7777777777777778,\"#fb9f3a\"],[0.8888888888888888,\"#fdca26\"],[1.0,\"#f0f921\"]]},\"colorway\":[\"#636efa\",\"#EF553B\",\"#00cc96\",\"#ab63fa\",\"#FFA15A\",\"#19d3f3\",\"#FF6692\",\"#B6E880\",\"#FF97FF\",\"#FECB52\"],\"font\":{\"color\":\"#2a3f5f\"},\"geo\":{\"bgcolor\":\"white\",\"lakecolor\":\"white\",\"landcolor\":\"#E5ECF6\",\"showlakes\":true,\"showland\":true,\"subunitcolor\":\"white\"},\"hoverlabel\":{\"align\":\"left\"},\"hovermode\":\"closest\",\"mapbox\":{\"style\":\"light\"},\"paper_bgcolor\":\"white\",\"plot_bgcolor\":\"#E5ECF6\",\"polar\":{\"angularaxis\":{\"gridcolor\":\"white\",\"linecolor\":\"white\",\"ticks\":\"\"},\"bgcolor\":\"#E5ECF6\",\"radialaxis\":{\"gridcolor\":\"white\",\"linecolor\":\"white\",\"ticks\":\"\"}},\"scene\":{\"xaxis\":{\"backgroundcolor\":\"#E5ECF6\",\"gridcolor\":\"white\",\"gridwidth\":2,\"linecolor\":\"white\",\"showbackground\":true,\"ticks\":\"\",\"zerolinecolor\":\"white\"},\"yaxis\":{\"backgroundcolor\":\"#E5ECF6\",\"gridcolor\":\"white\",\"gridwidth\":2,\"linecolor\":\"white\",\"showbackground\":true,\"ticks\":\"\",\"zerolinecolor\":\"white\"},\"zaxis\":{\"backgroundcolor\":\"#E5ECF6\",\"gridcolor\":\"white\",\"gridwidth\":2,\"linecolor\":\"white\",\"showbackground\":true,\"ticks\":\"\",\"zerolinecolor\":\"white\"}},\"shapedefaults\":{\"line\":{\"color\":\"#2a3f5f\"}},\"ternary\":{\"aaxis\":{\"gridcolor\":\"white\",\"linecolor\":\"white\",\"ticks\":\"\"},\"baxis\":{\"gridcolor\":\"white\",\"linecolor\":\"white\",\"ticks\":\"\"},\"bgcolor\":\"#E5ECF6\",\"caxis\":{\"gridcolor\":\"white\",\"linecolor\":\"white\",\"ticks\":\"\"}},\"title\":{\"x\":0.05},\"xaxis\":{\"automargin\":true,\"gridcolor\":\"white\",\"linecolor\":\"white\",\"ticks\":\"\",\"title\":{\"standoff\":15},\"zerolinecolor\":\"white\",\"zerolinewidth\":2},\"yaxis\":{\"automargin\":true,\"gridcolor\":\"white\",\"linecolor\":\"white\",\"ticks\":\"\",\"title\":{\"standoff\":15},\"zerolinecolor\":\"white\",\"zerolinewidth\":2}}},\"xaxis\":{\"anchor\":\"y\",\"domain\":[0.0,1.0],\"title\":{\"text\":\"log2FoldChange_XBP1s37/basal37\"}},\"yaxis\":{\"anchor\":\"x\",\"domain\":[0.0,1.0],\"title\":{\"text\":\"-log10_pvalue_XBP1s37/basal37\"}},\"legend\":{\"title\":{\"text\":\"GeneSymbol\"},\"tracegroupgap\":0},\"margin\":{\"t\":60},\"title\":{\"text\":\"XBP1s 37\\u02daC vs. Basal 37\\u02daC\",\"x\":0.5,\"y\":0.92,\"xanchor\":\"center\"}},                        {\"responsive\": true}                    ).then(function(){\n",
       "                            \n",
       "var gd = document.getElementById('57503ceb-3d0c-4fe6-92f7-5d3ec6ce4a91');\n",
       "var x = new MutationObserver(function (mutations, observer) {{\n",
       "        var display = window.getComputedStyle(gd).display;\n",
       "        if (!display || display === 'none') {{\n",
       "            console.log([gd, 'removed!']);\n",
       "            Plotly.purge(gd);\n",
       "            observer.disconnect();\n",
       "        }}\n",
       "}});\n",
       "\n",
       "// Listen for the removal of the full notebook cells\n",
       "var notebookContainer = gd.closest('#notebook-container');\n",
       "if (notebookContainer) {{\n",
       "    x.observe(notebookContainer, {childList: true});\n",
       "}}\n",
       "\n",
       "// Listen for the clearing of the current output cell\n",
       "var outputEl = gd.closest('.output');\n",
       "if (outputEl) {{\n",
       "    x.observe(outputEl, {childList: true});\n",
       "}}\n",
       "\n",
       "                        })                };                });            </script>        </div>"
      ]
     },
     "metadata": {},
     "output_type": "display_data"
    },
    {
     "data": {
      "application/vnd.plotly.v1+json": {
       "config": {
        "plotlyServerURL": "https://plot.ly"
       },
       "data": [
        {
         "customdata": [
          [
           "CALR"
          ]
         ],
         "hovertemplate": "GeneSymbol=%{customdata[0]}<br>log2FoldChange_ATF6fXBP1s37/basal37=%{x}<br>-log10_pvalue_ATF6fXBP1s37/basal37=%{y}<extra></extra>",
         "legendgroup": "CALR",
         "marker": {
          "color": "#636efa",
          "symbol": "circle"
         },
         "mode": "markers",
         "name": "CALR",
         "orientation": "v",
         "showlegend": true,
         "type": "scatter",
         "x": [
          2.419909948
         ],
         "xaxis": "x",
         "y": [
          252.1068246
         ],
         "yaxis": "y"
        },
        {
         "customdata": [
          [
           "CANX"
          ]
         ],
         "hovertemplate": "GeneSymbol=%{customdata[0]}<br>log2FoldChange_ATF6fXBP1s37/basal37=%{x}<br>-log10_pvalue_ATF6fXBP1s37/basal37=%{y}<extra></extra>",
         "legendgroup": "CANX",
         "marker": {
          "color": "#EF553B",
          "symbol": "circle"
         },
         "mode": "markers",
         "name": "CANX",
         "orientation": "v",
         "showlegend": true,
         "type": "scatter",
         "x": [
          1.506927893
         ],
         "xaxis": "x",
         "y": [
          54.94316309
         ],
         "yaxis": "y"
        },
        {
         "customdata": [
          [
           "CCT3"
          ]
         ],
         "hovertemplate": "GeneSymbol=%{customdata[0]}<br>log2FoldChange_ATF6fXBP1s37/basal37=%{x}<br>-log10_pvalue_ATF6fXBP1s37/basal37=%{y}<extra></extra>",
         "legendgroup": "CCT3",
         "marker": {
          "color": "#00cc96",
          "symbol": "circle"
         },
         "mode": "markers",
         "name": "CCT3",
         "orientation": "v",
         "showlegend": true,
         "type": "scatter",
         "x": [
          0.078621739
         ],
         "xaxis": "x",
         "y": [
          0.528990082
         ],
         "yaxis": "y"
        },
        {
         "customdata": [
          [
           "CCT6A"
          ]
         ],
         "hovertemplate": "GeneSymbol=%{customdata[0]}<br>log2FoldChange_ATF6fXBP1s37/basal37=%{x}<br>-log10_pvalue_ATF6fXBP1s37/basal37=%{y}<extra></extra>",
         "legendgroup": "CCT6A",
         "marker": {
          "color": "#ab63fa",
          "symbol": "circle"
         },
         "mode": "markers",
         "name": "CCT6A",
         "orientation": "v",
         "showlegend": true,
         "type": "scatter",
         "x": [
          -0.247637621
         ],
         "xaxis": "x",
         "y": [
          7.134874356
         ],
         "yaxis": "y"
        },
        {
         "customdata": [
          [
           "DNAJC3"
          ]
         ],
         "hovertemplate": "GeneSymbol=%{customdata[0]}<br>log2FoldChange_ATF6fXBP1s37/basal37=%{x}<br>-log10_pvalue_ATF6fXBP1s37/basal37=%{y}<extra></extra>",
         "legendgroup": "DNAJC3",
         "marker": {
          "color": "#FFA15A",
          "symbol": "circle"
         },
         "mode": "markers",
         "name": "DNAJC3",
         "orientation": "v",
         "showlegend": true,
         "type": "scatter",
         "x": [
          2.365689522
         ],
         "xaxis": "x",
         "y": [
          77.47765012
         ],
         "yaxis": "y"
        },
        {
         "customdata": [
          [
           "EMC1"
          ]
         ],
         "hovertemplate": "GeneSymbol=%{customdata[0]}<br>log2FoldChange_ATF6fXBP1s37/basal37=%{x}<br>-log10_pvalue_ATF6fXBP1s37/basal37=%{y}<extra></extra>",
         "legendgroup": "EMC1",
         "marker": {
          "color": "#19d3f3",
          "symbol": "circle"
         },
         "mode": "markers",
         "name": "EMC1",
         "orientation": "v",
         "showlegend": true,
         "type": "scatter",
         "x": [
          0.032082231
         ],
         "xaxis": "x",
         "y": [
          0.253226566
         ],
         "yaxis": "y"
        },
        {
         "customdata": [
          [
           "EMC3"
          ]
         ],
         "hovertemplate": "GeneSymbol=%{customdata[0]}<br>log2FoldChange_ATF6fXBP1s37/basal37=%{x}<br>-log10_pvalue_ATF6fXBP1s37/basal37=%{y}<extra></extra>",
         "legendgroup": "EMC3",
         "marker": {
          "color": "#FF6692",
          "symbol": "circle"
         },
         "mode": "markers",
         "name": "EMC3",
         "orientation": "v",
         "showlegend": true,
         "type": "scatter",
         "x": [
          0.250556625
         ],
         "xaxis": "x",
         "y": [
          2.602561639
         ],
         "yaxis": "y"
        },
        {
         "customdata": [
          [
           "ERO1A"
          ]
         ],
         "hovertemplate": "GeneSymbol=%{customdata[0]}<br>log2FoldChange_ATF6fXBP1s37/basal37=%{x}<br>-log10_pvalue_ATF6fXBP1s37/basal37=%{y}<extra></extra>",
         "legendgroup": "ERO1A",
         "marker": {
          "color": "#B6E880",
          "symbol": "circle"
         },
         "mode": "markers",
         "name": "ERO1A",
         "orientation": "v",
         "showlegend": true,
         "type": "scatter",
         "x": [
          0.386165371
         ],
         "xaxis": "x",
         "y": [
          2.559852805
         ],
         "yaxis": "y"
        },
        {
         "customdata": [
          [
           "ERO1B"
          ]
         ],
         "hovertemplate": "GeneSymbol=%{customdata[0]}<br>log2FoldChange_ATF6fXBP1s37/basal37=%{x}<br>-log10_pvalue_ATF6fXBP1s37/basal37=%{y}<extra></extra>",
         "legendgroup": "ERO1B",
         "marker": {
          "color": "#FF97FF",
          "symbol": "circle"
         },
         "mode": "markers",
         "name": "ERO1B",
         "orientation": "v",
         "showlegend": true,
         "type": "scatter",
         "x": [
          1.985037015
         ],
         "xaxis": "x",
         "y": [
          34.85133324
         ],
         "yaxis": "y"
        },
        {
         "customdata": [
          [
           "FKBP8"
          ]
         ],
         "hovertemplate": "GeneSymbol=%{customdata[0]}<br>log2FoldChange_ATF6fXBP1s37/basal37=%{x}<br>-log10_pvalue_ATF6fXBP1s37/basal37=%{y}<extra></extra>",
         "legendgroup": "FKBP8",
         "marker": {
          "color": "#FECB52",
          "symbol": "circle"
         },
         "mode": "markers",
         "name": "FKBP8",
         "orientation": "v",
         "showlegend": true,
         "type": "scatter",
         "x": [
          0.191517694
         ],
         "xaxis": "x",
         "y": [
          0.878565196
         ],
         "yaxis": "y"
        },
        {
         "customdata": [
          [
           "HSP90B1"
          ]
         ],
         "hovertemplate": "GeneSymbol=%{customdata[0]}<br>log2FoldChange_ATF6fXBP1s37/basal37=%{x}<br>-log10_pvalue_ATF6fXBP1s37/basal37=%{y}<extra></extra>",
         "legendgroup": "HSP90B1",
         "marker": {
          "color": "#636efa",
          "symbol": "circle"
         },
         "mode": "markers",
         "name": "HSP90B1",
         "orientation": "v",
         "showlegend": true,
         "type": "scatter",
         "x": [
          3.441886293
         ],
         "xaxis": "x",
         "y": [
          252.1068246
         ],
         "yaxis": "y"
        },
        {
         "customdata": [
          [
           "HSPA5"
          ]
         ],
         "hovertemplate": "GeneSymbol=%{customdata[0]}<br>log2FoldChange_ATF6fXBP1s37/basal37=%{x}<br>-log10_pvalue_ATF6fXBP1s37/basal37=%{y}<extra></extra>",
         "legendgroup": "HSPA5",
         "marker": {
          "color": "#EF553B",
          "symbol": "circle"
         },
         "mode": "markers",
         "name": "HSPA5",
         "orientation": "v",
         "showlegend": true,
         "type": "scatter",
         "x": [
          3.945763315
         ],
         "xaxis": "x",
         "y": [
          252.1068246
         ],
         "yaxis": "y"
        },
        {
         "customdata": [
          [
           "HSPA8"
          ]
         ],
         "hovertemplate": "GeneSymbol=%{customdata[0]}<br>log2FoldChange_ATF6fXBP1s37/basal37=%{x}<br>-log10_pvalue_ATF6fXBP1s37/basal37=%{y}<extra></extra>",
         "legendgroup": "HSPA8",
         "marker": {
          "color": "#00cc96",
          "symbol": "circle"
         },
         "mode": "markers",
         "name": "HSPA8",
         "orientation": "v",
         "showlegend": true,
         "type": "scatter",
         "x": [
          -0.516075212
         ],
         "xaxis": "x",
         "y": [
          52.36880639
         ],
         "yaxis": "y"
        },
        {
         "customdata": [
          [
           "HSPA9"
          ]
         ],
         "hovertemplate": "GeneSymbol=%{customdata[0]}<br>log2FoldChange_ATF6fXBP1s37/basal37=%{x}<br>-log10_pvalue_ATF6fXBP1s37/basal37=%{y}<extra></extra>",
         "legendgroup": "HSPA9",
         "marker": {
          "color": "#ab63fa",
          "symbol": "circle"
         },
         "mode": "markers",
         "name": "HSPA9",
         "orientation": "v",
         "showlegend": true,
         "type": "scatter",
         "x": [
          0.345738003
         ],
         "xaxis": "x",
         "y": [
          23.61990334
         ],
         "yaxis": "y"
        },
        {
         "customdata": [
          [
           "HSPD1"
          ]
         ],
         "hovertemplate": "GeneSymbol=%{customdata[0]}<br>log2FoldChange_ATF6fXBP1s37/basal37=%{x}<br>-log10_pvalue_ATF6fXBP1s37/basal37=%{y}<extra></extra>",
         "legendgroup": "HSPD1",
         "marker": {
          "color": "#FFA15A",
          "symbol": "circle"
         },
         "mode": "markers",
         "name": "HSPD1",
         "orientation": "v",
         "showlegend": true,
         "type": "scatter",
         "x": [
          -0.144760824
         ],
         "xaxis": "x",
         "y": [
          3.023557422
         ],
         "yaxis": "y"
        },
        {
         "customdata": [
          [
           "HSPH1"
          ]
         ],
         "hovertemplate": "GeneSymbol=%{customdata[0]}<br>log2FoldChange_ATF6fXBP1s37/basal37=%{x}<br>-log10_pvalue_ATF6fXBP1s37/basal37=%{y}<extra></extra>",
         "legendgroup": "HSPH1",
         "marker": {
          "color": "#19d3f3",
          "symbol": "circle"
         },
         "mode": "markers",
         "name": "HSPH1",
         "orientation": "v",
         "showlegend": true,
         "type": "scatter",
         "x": [
          -0.388439791
         ],
         "xaxis": "x",
         "y": [
          4.650641261
         ],
         "yaxis": "y"
        },
        {
         "customdata": [
          [
           "HYOU1"
          ]
         ],
         "hovertemplate": "GeneSymbol=%{customdata[0]}<br>log2FoldChange_ATF6fXBP1s37/basal37=%{x}<br>-log10_pvalue_ATF6fXBP1s37/basal37=%{y}<extra></extra>",
         "legendgroup": "HYOU1",
         "marker": {
          "color": "#FF6692",
          "symbol": "circle"
         },
         "mode": "markers",
         "name": "HYOU1",
         "orientation": "v",
         "showlegend": true,
         "type": "scatter",
         "x": [
          3.537438389
         ],
         "xaxis": "x",
         "y": [
          252.1068246
         ],
         "yaxis": "y"
        },
        {
         "customdata": [
          [
           "P4HB"
          ]
         ],
         "hovertemplate": "GeneSymbol=%{customdata[0]}<br>log2FoldChange_ATF6fXBP1s37/basal37=%{x}<br>-log10_pvalue_ATF6fXBP1s37/basal37=%{y}<extra></extra>",
         "legendgroup": "P4HB",
         "marker": {
          "color": "#B6E880",
          "symbol": "circle"
         },
         "mode": "markers",
         "name": "P4HB",
         "orientation": "v",
         "showlegend": true,
         "type": "scatter",
         "x": [
          2.290182037
         ],
         "xaxis": "x",
         "y": [
          252.1068246
         ],
         "yaxis": "y"
        },
        {
         "customdata": [
          [
           "PDIA3"
          ]
         ],
         "hovertemplate": "GeneSymbol=%{customdata[0]}<br>log2FoldChange_ATF6fXBP1s37/basal37=%{x}<br>-log10_pvalue_ATF6fXBP1s37/basal37=%{y}<extra></extra>",
         "legendgroup": "PDIA3",
         "marker": {
          "color": "#FF97FF",
          "symbol": "circle"
         },
         "mode": "markers",
         "name": "PDIA3",
         "orientation": "v",
         "showlegend": true,
         "type": "scatter",
         "x": [
          2.091015133
         ],
         "xaxis": "x",
         "y": [
          252.1068246
         ],
         "yaxis": "y"
        },
        {
         "customdata": [
          [
           "PFDN2"
          ]
         ],
         "hovertemplate": "GeneSymbol=%{customdata[0]}<br>log2FoldChange_ATF6fXBP1s37/basal37=%{x}<br>-log10_pvalue_ATF6fXBP1s37/basal37=%{y}<extra></extra>",
         "legendgroup": "PFDN2",
         "marker": {
          "color": "#FECB52",
          "symbol": "circle"
         },
         "mode": "markers",
         "name": "PFDN2",
         "orientation": "v",
         "showlegend": true,
         "type": "scatter",
         "x": [
          0.555348564
         ],
         "xaxis": "x",
         "y": [
          2.484754377
         ],
         "yaxis": "y"
        },
        {
         "customdata": [
          [
           "VAPA"
          ]
         ],
         "hovertemplate": "GeneSymbol=%{customdata[0]}<br>log2FoldChange_ATF6fXBP1s37/basal37=%{x}<br>-log10_pvalue_ATF6fXBP1s37/basal37=%{y}<extra></extra>",
         "legendgroup": "VAPA",
         "marker": {
          "color": "#636efa",
          "symbol": "circle"
         },
         "mode": "markers",
         "name": "VAPA",
         "orientation": "v",
         "showlegend": true,
         "type": "scatter",
         "x": [
          0.017851961
         ],
         "xaxis": "x",
         "y": [
          0.101756276
         ],
         "yaxis": "y"
        }
       ],
       "layout": {
        "legend": {
         "title": {
          "text": "GeneSymbol"
         },
         "tracegroupgap": 0
        },
        "margin": {
         "t": 60
        },
        "template": {
         "data": {
          "bar": [
           {
            "error_x": {
             "color": "#2a3f5f"
            },
            "error_y": {
             "color": "#2a3f5f"
            },
            "marker": {
             "line": {
              "color": "#E5ECF6",
              "width": 0.5
             },
             "pattern": {
              "fillmode": "overlay",
              "size": 10,
              "solidity": 0.2
             }
            },
            "type": "bar"
           }
          ],
          "barpolar": [
           {
            "marker": {
             "line": {
              "color": "#E5ECF6",
              "width": 0.5
             },
             "pattern": {
              "fillmode": "overlay",
              "size": 10,
              "solidity": 0.2
             }
            },
            "type": "barpolar"
           }
          ],
          "carpet": [
           {
            "aaxis": {
             "endlinecolor": "#2a3f5f",
             "gridcolor": "white",
             "linecolor": "white",
             "minorgridcolor": "white",
             "startlinecolor": "#2a3f5f"
            },
            "baxis": {
             "endlinecolor": "#2a3f5f",
             "gridcolor": "white",
             "linecolor": "white",
             "minorgridcolor": "white",
             "startlinecolor": "#2a3f5f"
            },
            "type": "carpet"
           }
          ],
          "choropleth": [
           {
            "colorbar": {
             "outlinewidth": 0,
             "ticks": ""
            },
            "type": "choropleth"
           }
          ],
          "contour": [
           {
            "colorbar": {
             "outlinewidth": 0,
             "ticks": ""
            },
            "colorscale": [
             [
              0,
              "#0d0887"
             ],
             [
              0.1111111111111111,
              "#46039f"
             ],
             [
              0.2222222222222222,
              "#7201a8"
             ],
             [
              0.3333333333333333,
              "#9c179e"
             ],
             [
              0.4444444444444444,
              "#bd3786"
             ],
             [
              0.5555555555555556,
              "#d8576b"
             ],
             [
              0.6666666666666666,
              "#ed7953"
             ],
             [
              0.7777777777777778,
              "#fb9f3a"
             ],
             [
              0.8888888888888888,
              "#fdca26"
             ],
             [
              1,
              "#f0f921"
             ]
            ],
            "type": "contour"
           }
          ],
          "contourcarpet": [
           {
            "colorbar": {
             "outlinewidth": 0,
             "ticks": ""
            },
            "type": "contourcarpet"
           }
          ],
          "heatmap": [
           {
            "colorbar": {
             "outlinewidth": 0,
             "ticks": ""
            },
            "colorscale": [
             [
              0,
              "#0d0887"
             ],
             [
              0.1111111111111111,
              "#46039f"
             ],
             [
              0.2222222222222222,
              "#7201a8"
             ],
             [
              0.3333333333333333,
              "#9c179e"
             ],
             [
              0.4444444444444444,
              "#bd3786"
             ],
             [
              0.5555555555555556,
              "#d8576b"
             ],
             [
              0.6666666666666666,
              "#ed7953"
             ],
             [
              0.7777777777777778,
              "#fb9f3a"
             ],
             [
              0.8888888888888888,
              "#fdca26"
             ],
             [
              1,
              "#f0f921"
             ]
            ],
            "type": "heatmap"
           }
          ],
          "heatmapgl": [
           {
            "colorbar": {
             "outlinewidth": 0,
             "ticks": ""
            },
            "colorscale": [
             [
              0,
              "#0d0887"
             ],
             [
              0.1111111111111111,
              "#46039f"
             ],
             [
              0.2222222222222222,
              "#7201a8"
             ],
             [
              0.3333333333333333,
              "#9c179e"
             ],
             [
              0.4444444444444444,
              "#bd3786"
             ],
             [
              0.5555555555555556,
              "#d8576b"
             ],
             [
              0.6666666666666666,
              "#ed7953"
             ],
             [
              0.7777777777777778,
              "#fb9f3a"
             ],
             [
              0.8888888888888888,
              "#fdca26"
             ],
             [
              1,
              "#f0f921"
             ]
            ],
            "type": "heatmapgl"
           }
          ],
          "histogram": [
           {
            "marker": {
             "pattern": {
              "fillmode": "overlay",
              "size": 10,
              "solidity": 0.2
             }
            },
            "type": "histogram"
           }
          ],
          "histogram2d": [
           {
            "colorbar": {
             "outlinewidth": 0,
             "ticks": ""
            },
            "colorscale": [
             [
              0,
              "#0d0887"
             ],
             [
              0.1111111111111111,
              "#46039f"
             ],
             [
              0.2222222222222222,
              "#7201a8"
             ],
             [
              0.3333333333333333,
              "#9c179e"
             ],
             [
              0.4444444444444444,
              "#bd3786"
             ],
             [
              0.5555555555555556,
              "#d8576b"
             ],
             [
              0.6666666666666666,
              "#ed7953"
             ],
             [
              0.7777777777777778,
              "#fb9f3a"
             ],
             [
              0.8888888888888888,
              "#fdca26"
             ],
             [
              1,
              "#f0f921"
             ]
            ],
            "type": "histogram2d"
           }
          ],
          "histogram2dcontour": [
           {
            "colorbar": {
             "outlinewidth": 0,
             "ticks": ""
            },
            "colorscale": [
             [
              0,
              "#0d0887"
             ],
             [
              0.1111111111111111,
              "#46039f"
             ],
             [
              0.2222222222222222,
              "#7201a8"
             ],
             [
              0.3333333333333333,
              "#9c179e"
             ],
             [
              0.4444444444444444,
              "#bd3786"
             ],
             [
              0.5555555555555556,
              "#d8576b"
             ],
             [
              0.6666666666666666,
              "#ed7953"
             ],
             [
              0.7777777777777778,
              "#fb9f3a"
             ],
             [
              0.8888888888888888,
              "#fdca26"
             ],
             [
              1,
              "#f0f921"
             ]
            ],
            "type": "histogram2dcontour"
           }
          ],
          "mesh3d": [
           {
            "colorbar": {
             "outlinewidth": 0,
             "ticks": ""
            },
            "type": "mesh3d"
           }
          ],
          "parcoords": [
           {
            "line": {
             "colorbar": {
              "outlinewidth": 0,
              "ticks": ""
             }
            },
            "type": "parcoords"
           }
          ],
          "pie": [
           {
            "automargin": true,
            "type": "pie"
           }
          ],
          "scatter": [
           {
            "marker": {
             "colorbar": {
              "outlinewidth": 0,
              "ticks": ""
             }
            },
            "type": "scatter"
           }
          ],
          "scatter3d": [
           {
            "line": {
             "colorbar": {
              "outlinewidth": 0,
              "ticks": ""
             }
            },
            "marker": {
             "colorbar": {
              "outlinewidth": 0,
              "ticks": ""
             }
            },
            "type": "scatter3d"
           }
          ],
          "scattercarpet": [
           {
            "marker": {
             "colorbar": {
              "outlinewidth": 0,
              "ticks": ""
             }
            },
            "type": "scattercarpet"
           }
          ],
          "scattergeo": [
           {
            "marker": {
             "colorbar": {
              "outlinewidth": 0,
              "ticks": ""
             }
            },
            "type": "scattergeo"
           }
          ],
          "scattergl": [
           {
            "marker": {
             "colorbar": {
              "outlinewidth": 0,
              "ticks": ""
             }
            },
            "type": "scattergl"
           }
          ],
          "scattermapbox": [
           {
            "marker": {
             "colorbar": {
              "outlinewidth": 0,
              "ticks": ""
             }
            },
            "type": "scattermapbox"
           }
          ],
          "scatterpolar": [
           {
            "marker": {
             "colorbar": {
              "outlinewidth": 0,
              "ticks": ""
             }
            },
            "type": "scatterpolar"
           }
          ],
          "scatterpolargl": [
           {
            "marker": {
             "colorbar": {
              "outlinewidth": 0,
              "ticks": ""
             }
            },
            "type": "scatterpolargl"
           }
          ],
          "scatterternary": [
           {
            "marker": {
             "colorbar": {
              "outlinewidth": 0,
              "ticks": ""
             }
            },
            "type": "scatterternary"
           }
          ],
          "surface": [
           {
            "colorbar": {
             "outlinewidth": 0,
             "ticks": ""
            },
            "colorscale": [
             [
              0,
              "#0d0887"
             ],
             [
              0.1111111111111111,
              "#46039f"
             ],
             [
              0.2222222222222222,
              "#7201a8"
             ],
             [
              0.3333333333333333,
              "#9c179e"
             ],
             [
              0.4444444444444444,
              "#bd3786"
             ],
             [
              0.5555555555555556,
              "#d8576b"
             ],
             [
              0.6666666666666666,
              "#ed7953"
             ],
             [
              0.7777777777777778,
              "#fb9f3a"
             ],
             [
              0.8888888888888888,
              "#fdca26"
             ],
             [
              1,
              "#f0f921"
             ]
            ],
            "type": "surface"
           }
          ],
          "table": [
           {
            "cells": {
             "fill": {
              "color": "#EBF0F8"
             },
             "line": {
              "color": "white"
             }
            },
            "header": {
             "fill": {
              "color": "#C8D4E3"
             },
             "line": {
              "color": "white"
             }
            },
            "type": "table"
           }
          ]
         },
         "layout": {
          "annotationdefaults": {
           "arrowcolor": "#2a3f5f",
           "arrowhead": 0,
           "arrowwidth": 1
          },
          "autotypenumbers": "strict",
          "coloraxis": {
           "colorbar": {
            "outlinewidth": 0,
            "ticks": ""
           }
          },
          "colorscale": {
           "diverging": [
            [
             0,
             "#8e0152"
            ],
            [
             0.1,
             "#c51b7d"
            ],
            [
             0.2,
             "#de77ae"
            ],
            [
             0.3,
             "#f1b6da"
            ],
            [
             0.4,
             "#fde0ef"
            ],
            [
             0.5,
             "#f7f7f7"
            ],
            [
             0.6,
             "#e6f5d0"
            ],
            [
             0.7,
             "#b8e186"
            ],
            [
             0.8,
             "#7fbc41"
            ],
            [
             0.9,
             "#4d9221"
            ],
            [
             1,
             "#276419"
            ]
           ],
           "sequential": [
            [
             0,
             "#0d0887"
            ],
            [
             0.1111111111111111,
             "#46039f"
            ],
            [
             0.2222222222222222,
             "#7201a8"
            ],
            [
             0.3333333333333333,
             "#9c179e"
            ],
            [
             0.4444444444444444,
             "#bd3786"
            ],
            [
             0.5555555555555556,
             "#d8576b"
            ],
            [
             0.6666666666666666,
             "#ed7953"
            ],
            [
             0.7777777777777778,
             "#fb9f3a"
            ],
            [
             0.8888888888888888,
             "#fdca26"
            ],
            [
             1,
             "#f0f921"
            ]
           ],
           "sequentialminus": [
            [
             0,
             "#0d0887"
            ],
            [
             0.1111111111111111,
             "#46039f"
            ],
            [
             0.2222222222222222,
             "#7201a8"
            ],
            [
             0.3333333333333333,
             "#9c179e"
            ],
            [
             0.4444444444444444,
             "#bd3786"
            ],
            [
             0.5555555555555556,
             "#d8576b"
            ],
            [
             0.6666666666666666,
             "#ed7953"
            ],
            [
             0.7777777777777778,
             "#fb9f3a"
            ],
            [
             0.8888888888888888,
             "#fdca26"
            ],
            [
             1,
             "#f0f921"
            ]
           ]
          },
          "colorway": [
           "#636efa",
           "#EF553B",
           "#00cc96",
           "#ab63fa",
           "#FFA15A",
           "#19d3f3",
           "#FF6692",
           "#B6E880",
           "#FF97FF",
           "#FECB52"
          ],
          "font": {
           "color": "#2a3f5f"
          },
          "geo": {
           "bgcolor": "white",
           "lakecolor": "white",
           "landcolor": "#E5ECF6",
           "showlakes": true,
           "showland": true,
           "subunitcolor": "white"
          },
          "hoverlabel": {
           "align": "left"
          },
          "hovermode": "closest",
          "mapbox": {
           "style": "light"
          },
          "paper_bgcolor": "white",
          "plot_bgcolor": "#E5ECF6",
          "polar": {
           "angularaxis": {
            "gridcolor": "white",
            "linecolor": "white",
            "ticks": ""
           },
           "bgcolor": "#E5ECF6",
           "radialaxis": {
            "gridcolor": "white",
            "linecolor": "white",
            "ticks": ""
           }
          },
          "scene": {
           "xaxis": {
            "backgroundcolor": "#E5ECF6",
            "gridcolor": "white",
            "gridwidth": 2,
            "linecolor": "white",
            "showbackground": true,
            "ticks": "",
            "zerolinecolor": "white"
           },
           "yaxis": {
            "backgroundcolor": "#E5ECF6",
            "gridcolor": "white",
            "gridwidth": 2,
            "linecolor": "white",
            "showbackground": true,
            "ticks": "",
            "zerolinecolor": "white"
           },
           "zaxis": {
            "backgroundcolor": "#E5ECF6",
            "gridcolor": "white",
            "gridwidth": 2,
            "linecolor": "white",
            "showbackground": true,
            "ticks": "",
            "zerolinecolor": "white"
           }
          },
          "shapedefaults": {
           "line": {
            "color": "#2a3f5f"
           }
          },
          "ternary": {
           "aaxis": {
            "gridcolor": "white",
            "linecolor": "white",
            "ticks": ""
           },
           "baxis": {
            "gridcolor": "white",
            "linecolor": "white",
            "ticks": ""
           },
           "bgcolor": "#E5ECF6",
           "caxis": {
            "gridcolor": "white",
            "linecolor": "white",
            "ticks": ""
           }
          },
          "title": {
           "x": 0.05
          },
          "xaxis": {
           "automargin": true,
           "gridcolor": "white",
           "linecolor": "white",
           "ticks": "",
           "title": {
            "standoff": 15
           },
           "zerolinecolor": "white",
           "zerolinewidth": 2
          },
          "yaxis": {
           "automargin": true,
           "gridcolor": "white",
           "linecolor": "white",
           "ticks": "",
           "title": {
            "standoff": 15
           },
           "zerolinecolor": "white",
           "zerolinewidth": 2
          }
         }
        },
        "title": {
         "text": "ATF6/XBP1s 37˚C vs. Basal 37˚C",
         "x": 0.5,
         "xanchor": "center",
         "y": 0.92
        },
        "xaxis": {
         "anchor": "y",
         "domain": [
          0,
          1
         ],
         "title": {
          "text": "log2FoldChange_ATF6fXBP1s37/basal37"
         }
        },
        "yaxis": {
         "anchor": "x",
         "domain": [
          0,
          1
         ],
         "title": {
          "text": "-log10_pvalue_ATF6fXBP1s37/basal37"
         }
        }
       }
      },
      "text/html": [
       "<div>                            <div id=\"8db690fb-ee08-41f1-b11a-e1a0f59aaf27\" class=\"plotly-graph-div\" style=\"height:525px; width:100%;\"></div>            <script type=\"text/javascript\">                require([\"plotly\"], function(Plotly) {                    window.PLOTLYENV=window.PLOTLYENV || {};                                    if (document.getElementById(\"8db690fb-ee08-41f1-b11a-e1a0f59aaf27\")) {                    Plotly.newPlot(                        \"8db690fb-ee08-41f1-b11a-e1a0f59aaf27\",                        [{\"customdata\":[[\"CALR\"]],\"hovertemplate\":\"GeneSymbol=%{customdata[0]}<br>log2FoldChange_ATF6fXBP1s37/basal37=%{x}<br>-log10_pvalue_ATF6fXBP1s37/basal37=%{y}<extra></extra>\",\"legendgroup\":\"CALR\",\"marker\":{\"color\":\"#636efa\",\"symbol\":\"circle\"},\"mode\":\"markers\",\"name\":\"CALR\",\"orientation\":\"v\",\"showlegend\":true,\"x\":[2.419909948],\"xaxis\":\"x\",\"y\":[252.1068246],\"yaxis\":\"y\",\"type\":\"scatter\"},{\"customdata\":[[\"CANX\"]],\"hovertemplate\":\"GeneSymbol=%{customdata[0]}<br>log2FoldChange_ATF6fXBP1s37/basal37=%{x}<br>-log10_pvalue_ATF6fXBP1s37/basal37=%{y}<extra></extra>\",\"legendgroup\":\"CANX\",\"marker\":{\"color\":\"#EF553B\",\"symbol\":\"circle\"},\"mode\":\"markers\",\"name\":\"CANX\",\"orientation\":\"v\",\"showlegend\":true,\"x\":[1.506927893],\"xaxis\":\"x\",\"y\":[54.94316309],\"yaxis\":\"y\",\"type\":\"scatter\"},{\"customdata\":[[\"CCT3\"]],\"hovertemplate\":\"GeneSymbol=%{customdata[0]}<br>log2FoldChange_ATF6fXBP1s37/basal37=%{x}<br>-log10_pvalue_ATF6fXBP1s37/basal37=%{y}<extra></extra>\",\"legendgroup\":\"CCT3\",\"marker\":{\"color\":\"#00cc96\",\"symbol\":\"circle\"},\"mode\":\"markers\",\"name\":\"CCT3\",\"orientation\":\"v\",\"showlegend\":true,\"x\":[0.078621739],\"xaxis\":\"x\",\"y\":[0.528990082],\"yaxis\":\"y\",\"type\":\"scatter\"},{\"customdata\":[[\"CCT6A\"]],\"hovertemplate\":\"GeneSymbol=%{customdata[0]}<br>log2FoldChange_ATF6fXBP1s37/basal37=%{x}<br>-log10_pvalue_ATF6fXBP1s37/basal37=%{y}<extra></extra>\",\"legendgroup\":\"CCT6A\",\"marker\":{\"color\":\"#ab63fa\",\"symbol\":\"circle\"},\"mode\":\"markers\",\"name\":\"CCT6A\",\"orientation\":\"v\",\"showlegend\":true,\"x\":[-0.247637621],\"xaxis\":\"x\",\"y\":[7.134874356],\"yaxis\":\"y\",\"type\":\"scatter\"},{\"customdata\":[[\"DNAJC3\"]],\"hovertemplate\":\"GeneSymbol=%{customdata[0]}<br>log2FoldChange_ATF6fXBP1s37/basal37=%{x}<br>-log10_pvalue_ATF6fXBP1s37/basal37=%{y}<extra></extra>\",\"legendgroup\":\"DNAJC3\",\"marker\":{\"color\":\"#FFA15A\",\"symbol\":\"circle\"},\"mode\":\"markers\",\"name\":\"DNAJC3\",\"orientation\":\"v\",\"showlegend\":true,\"x\":[2.365689522],\"xaxis\":\"x\",\"y\":[77.47765012],\"yaxis\":\"y\",\"type\":\"scatter\"},{\"customdata\":[[\"EMC1\"]],\"hovertemplate\":\"GeneSymbol=%{customdata[0]}<br>log2FoldChange_ATF6fXBP1s37/basal37=%{x}<br>-log10_pvalue_ATF6fXBP1s37/basal37=%{y}<extra></extra>\",\"legendgroup\":\"EMC1\",\"marker\":{\"color\":\"#19d3f3\",\"symbol\":\"circle\"},\"mode\":\"markers\",\"name\":\"EMC1\",\"orientation\":\"v\",\"showlegend\":true,\"x\":[0.032082231],\"xaxis\":\"x\",\"y\":[0.253226566],\"yaxis\":\"y\",\"type\":\"scatter\"},{\"customdata\":[[\"EMC3\"]],\"hovertemplate\":\"GeneSymbol=%{customdata[0]}<br>log2FoldChange_ATF6fXBP1s37/basal37=%{x}<br>-log10_pvalue_ATF6fXBP1s37/basal37=%{y}<extra></extra>\",\"legendgroup\":\"EMC3\",\"marker\":{\"color\":\"#FF6692\",\"symbol\":\"circle\"},\"mode\":\"markers\",\"name\":\"EMC3\",\"orientation\":\"v\",\"showlegend\":true,\"x\":[0.250556625],\"xaxis\":\"x\",\"y\":[2.602561639],\"yaxis\":\"y\",\"type\":\"scatter\"},{\"customdata\":[[\"ERO1A\"]],\"hovertemplate\":\"GeneSymbol=%{customdata[0]}<br>log2FoldChange_ATF6fXBP1s37/basal37=%{x}<br>-log10_pvalue_ATF6fXBP1s37/basal37=%{y}<extra></extra>\",\"legendgroup\":\"ERO1A\",\"marker\":{\"color\":\"#B6E880\",\"symbol\":\"circle\"},\"mode\":\"markers\",\"name\":\"ERO1A\",\"orientation\":\"v\",\"showlegend\":true,\"x\":[0.386165371],\"xaxis\":\"x\",\"y\":[2.559852805],\"yaxis\":\"y\",\"type\":\"scatter\"},{\"customdata\":[[\"ERO1B\"]],\"hovertemplate\":\"GeneSymbol=%{customdata[0]}<br>log2FoldChange_ATF6fXBP1s37/basal37=%{x}<br>-log10_pvalue_ATF6fXBP1s37/basal37=%{y}<extra></extra>\",\"legendgroup\":\"ERO1B\",\"marker\":{\"color\":\"#FF97FF\",\"symbol\":\"circle\"},\"mode\":\"markers\",\"name\":\"ERO1B\",\"orientation\":\"v\",\"showlegend\":true,\"x\":[1.985037015],\"xaxis\":\"x\",\"y\":[34.85133324],\"yaxis\":\"y\",\"type\":\"scatter\"},{\"customdata\":[[\"FKBP8\"]],\"hovertemplate\":\"GeneSymbol=%{customdata[0]}<br>log2FoldChange_ATF6fXBP1s37/basal37=%{x}<br>-log10_pvalue_ATF6fXBP1s37/basal37=%{y}<extra></extra>\",\"legendgroup\":\"FKBP8\",\"marker\":{\"color\":\"#FECB52\",\"symbol\":\"circle\"},\"mode\":\"markers\",\"name\":\"FKBP8\",\"orientation\":\"v\",\"showlegend\":true,\"x\":[0.191517694],\"xaxis\":\"x\",\"y\":[0.878565196],\"yaxis\":\"y\",\"type\":\"scatter\"},{\"customdata\":[[\"HSP90B1\"]],\"hovertemplate\":\"GeneSymbol=%{customdata[0]}<br>log2FoldChange_ATF6fXBP1s37/basal37=%{x}<br>-log10_pvalue_ATF6fXBP1s37/basal37=%{y}<extra></extra>\",\"legendgroup\":\"HSP90B1\",\"marker\":{\"color\":\"#636efa\",\"symbol\":\"circle\"},\"mode\":\"markers\",\"name\":\"HSP90B1\",\"orientation\":\"v\",\"showlegend\":true,\"x\":[3.441886293],\"xaxis\":\"x\",\"y\":[252.1068246],\"yaxis\":\"y\",\"type\":\"scatter\"},{\"customdata\":[[\"HSPA5\"]],\"hovertemplate\":\"GeneSymbol=%{customdata[0]}<br>log2FoldChange_ATF6fXBP1s37/basal37=%{x}<br>-log10_pvalue_ATF6fXBP1s37/basal37=%{y}<extra></extra>\",\"legendgroup\":\"HSPA5\",\"marker\":{\"color\":\"#EF553B\",\"symbol\":\"circle\"},\"mode\":\"markers\",\"name\":\"HSPA5\",\"orientation\":\"v\",\"showlegend\":true,\"x\":[3.945763315],\"xaxis\":\"x\",\"y\":[252.1068246],\"yaxis\":\"y\",\"type\":\"scatter\"},{\"customdata\":[[\"HSPA8\"]],\"hovertemplate\":\"GeneSymbol=%{customdata[0]}<br>log2FoldChange_ATF6fXBP1s37/basal37=%{x}<br>-log10_pvalue_ATF6fXBP1s37/basal37=%{y}<extra></extra>\",\"legendgroup\":\"HSPA8\",\"marker\":{\"color\":\"#00cc96\",\"symbol\":\"circle\"},\"mode\":\"markers\",\"name\":\"HSPA8\",\"orientation\":\"v\",\"showlegend\":true,\"x\":[-0.516075212],\"xaxis\":\"x\",\"y\":[52.36880639],\"yaxis\":\"y\",\"type\":\"scatter\"},{\"customdata\":[[\"HSPA9\"]],\"hovertemplate\":\"GeneSymbol=%{customdata[0]}<br>log2FoldChange_ATF6fXBP1s37/basal37=%{x}<br>-log10_pvalue_ATF6fXBP1s37/basal37=%{y}<extra></extra>\",\"legendgroup\":\"HSPA9\",\"marker\":{\"color\":\"#ab63fa\",\"symbol\":\"circle\"},\"mode\":\"markers\",\"name\":\"HSPA9\",\"orientation\":\"v\",\"showlegend\":true,\"x\":[0.345738003],\"xaxis\":\"x\",\"y\":[23.61990334],\"yaxis\":\"y\",\"type\":\"scatter\"},{\"customdata\":[[\"HSPD1\"]],\"hovertemplate\":\"GeneSymbol=%{customdata[0]}<br>log2FoldChange_ATF6fXBP1s37/basal37=%{x}<br>-log10_pvalue_ATF6fXBP1s37/basal37=%{y}<extra></extra>\",\"legendgroup\":\"HSPD1\",\"marker\":{\"color\":\"#FFA15A\",\"symbol\":\"circle\"},\"mode\":\"markers\",\"name\":\"HSPD1\",\"orientation\":\"v\",\"showlegend\":true,\"x\":[-0.144760824],\"xaxis\":\"x\",\"y\":[3.023557422],\"yaxis\":\"y\",\"type\":\"scatter\"},{\"customdata\":[[\"HSPH1\"]],\"hovertemplate\":\"GeneSymbol=%{customdata[0]}<br>log2FoldChange_ATF6fXBP1s37/basal37=%{x}<br>-log10_pvalue_ATF6fXBP1s37/basal37=%{y}<extra></extra>\",\"legendgroup\":\"HSPH1\",\"marker\":{\"color\":\"#19d3f3\",\"symbol\":\"circle\"},\"mode\":\"markers\",\"name\":\"HSPH1\",\"orientation\":\"v\",\"showlegend\":true,\"x\":[-0.388439791],\"xaxis\":\"x\",\"y\":[4.650641261],\"yaxis\":\"y\",\"type\":\"scatter\"},{\"customdata\":[[\"HYOU1\"]],\"hovertemplate\":\"GeneSymbol=%{customdata[0]}<br>log2FoldChange_ATF6fXBP1s37/basal37=%{x}<br>-log10_pvalue_ATF6fXBP1s37/basal37=%{y}<extra></extra>\",\"legendgroup\":\"HYOU1\",\"marker\":{\"color\":\"#FF6692\",\"symbol\":\"circle\"},\"mode\":\"markers\",\"name\":\"HYOU1\",\"orientation\":\"v\",\"showlegend\":true,\"x\":[3.537438389],\"xaxis\":\"x\",\"y\":[252.1068246],\"yaxis\":\"y\",\"type\":\"scatter\"},{\"customdata\":[[\"P4HB\"]],\"hovertemplate\":\"GeneSymbol=%{customdata[0]}<br>log2FoldChange_ATF6fXBP1s37/basal37=%{x}<br>-log10_pvalue_ATF6fXBP1s37/basal37=%{y}<extra></extra>\",\"legendgroup\":\"P4HB\",\"marker\":{\"color\":\"#B6E880\",\"symbol\":\"circle\"},\"mode\":\"markers\",\"name\":\"P4HB\",\"orientation\":\"v\",\"showlegend\":true,\"x\":[2.290182037],\"xaxis\":\"x\",\"y\":[252.1068246],\"yaxis\":\"y\",\"type\":\"scatter\"},{\"customdata\":[[\"PDIA3\"]],\"hovertemplate\":\"GeneSymbol=%{customdata[0]}<br>log2FoldChange_ATF6fXBP1s37/basal37=%{x}<br>-log10_pvalue_ATF6fXBP1s37/basal37=%{y}<extra></extra>\",\"legendgroup\":\"PDIA3\",\"marker\":{\"color\":\"#FF97FF\",\"symbol\":\"circle\"},\"mode\":\"markers\",\"name\":\"PDIA3\",\"orientation\":\"v\",\"showlegend\":true,\"x\":[2.091015133],\"xaxis\":\"x\",\"y\":[252.1068246],\"yaxis\":\"y\",\"type\":\"scatter\"},{\"customdata\":[[\"PFDN2\"]],\"hovertemplate\":\"GeneSymbol=%{customdata[0]}<br>log2FoldChange_ATF6fXBP1s37/basal37=%{x}<br>-log10_pvalue_ATF6fXBP1s37/basal37=%{y}<extra></extra>\",\"legendgroup\":\"PFDN2\",\"marker\":{\"color\":\"#FECB52\",\"symbol\":\"circle\"},\"mode\":\"markers\",\"name\":\"PFDN2\",\"orientation\":\"v\",\"showlegend\":true,\"x\":[0.555348564],\"xaxis\":\"x\",\"y\":[2.484754377],\"yaxis\":\"y\",\"type\":\"scatter\"},{\"customdata\":[[\"VAPA\"]],\"hovertemplate\":\"GeneSymbol=%{customdata[0]}<br>log2FoldChange_ATF6fXBP1s37/basal37=%{x}<br>-log10_pvalue_ATF6fXBP1s37/basal37=%{y}<extra></extra>\",\"legendgroup\":\"VAPA\",\"marker\":{\"color\":\"#636efa\",\"symbol\":\"circle\"},\"mode\":\"markers\",\"name\":\"VAPA\",\"orientation\":\"v\",\"showlegend\":true,\"x\":[0.017851961],\"xaxis\":\"x\",\"y\":[0.101756276],\"yaxis\":\"y\",\"type\":\"scatter\"}],                        {\"template\":{\"data\":{\"bar\":[{\"error_x\":{\"color\":\"#2a3f5f\"},\"error_y\":{\"color\":\"#2a3f5f\"},\"marker\":{\"line\":{\"color\":\"#E5ECF6\",\"width\":0.5},\"pattern\":{\"fillmode\":\"overlay\",\"size\":10,\"solidity\":0.2}},\"type\":\"bar\"}],\"barpolar\":[{\"marker\":{\"line\":{\"color\":\"#E5ECF6\",\"width\":0.5},\"pattern\":{\"fillmode\":\"overlay\",\"size\":10,\"solidity\":0.2}},\"type\":\"barpolar\"}],\"carpet\":[{\"aaxis\":{\"endlinecolor\":\"#2a3f5f\",\"gridcolor\":\"white\",\"linecolor\":\"white\",\"minorgridcolor\":\"white\",\"startlinecolor\":\"#2a3f5f\"},\"baxis\":{\"endlinecolor\":\"#2a3f5f\",\"gridcolor\":\"white\",\"linecolor\":\"white\",\"minorgridcolor\":\"white\",\"startlinecolor\":\"#2a3f5f\"},\"type\":\"carpet\"}],\"choropleth\":[{\"colorbar\":{\"outlinewidth\":0,\"ticks\":\"\"},\"type\":\"choropleth\"}],\"contour\":[{\"colorbar\":{\"outlinewidth\":0,\"ticks\":\"\"},\"colorscale\":[[0.0,\"#0d0887\"],[0.1111111111111111,\"#46039f\"],[0.2222222222222222,\"#7201a8\"],[0.3333333333333333,\"#9c179e\"],[0.4444444444444444,\"#bd3786\"],[0.5555555555555556,\"#d8576b\"],[0.6666666666666666,\"#ed7953\"],[0.7777777777777778,\"#fb9f3a\"],[0.8888888888888888,\"#fdca26\"],[1.0,\"#f0f921\"]],\"type\":\"contour\"}],\"contourcarpet\":[{\"colorbar\":{\"outlinewidth\":0,\"ticks\":\"\"},\"type\":\"contourcarpet\"}],\"heatmap\":[{\"colorbar\":{\"outlinewidth\":0,\"ticks\":\"\"},\"colorscale\":[[0.0,\"#0d0887\"],[0.1111111111111111,\"#46039f\"],[0.2222222222222222,\"#7201a8\"],[0.3333333333333333,\"#9c179e\"],[0.4444444444444444,\"#bd3786\"],[0.5555555555555556,\"#d8576b\"],[0.6666666666666666,\"#ed7953\"],[0.7777777777777778,\"#fb9f3a\"],[0.8888888888888888,\"#fdca26\"],[1.0,\"#f0f921\"]],\"type\":\"heatmap\"}],\"heatmapgl\":[{\"colorbar\":{\"outlinewidth\":0,\"ticks\":\"\"},\"colorscale\":[[0.0,\"#0d0887\"],[0.1111111111111111,\"#46039f\"],[0.2222222222222222,\"#7201a8\"],[0.3333333333333333,\"#9c179e\"],[0.4444444444444444,\"#bd3786\"],[0.5555555555555556,\"#d8576b\"],[0.6666666666666666,\"#ed7953\"],[0.7777777777777778,\"#fb9f3a\"],[0.8888888888888888,\"#fdca26\"],[1.0,\"#f0f921\"]],\"type\":\"heatmapgl\"}],\"histogram\":[{\"marker\":{\"pattern\":{\"fillmode\":\"overlay\",\"size\":10,\"solidity\":0.2}},\"type\":\"histogram\"}],\"histogram2d\":[{\"colorbar\":{\"outlinewidth\":0,\"ticks\":\"\"},\"colorscale\":[[0.0,\"#0d0887\"],[0.1111111111111111,\"#46039f\"],[0.2222222222222222,\"#7201a8\"],[0.3333333333333333,\"#9c179e\"],[0.4444444444444444,\"#bd3786\"],[0.5555555555555556,\"#d8576b\"],[0.6666666666666666,\"#ed7953\"],[0.7777777777777778,\"#fb9f3a\"],[0.8888888888888888,\"#fdca26\"],[1.0,\"#f0f921\"]],\"type\":\"histogram2d\"}],\"histogram2dcontour\":[{\"colorbar\":{\"outlinewidth\":0,\"ticks\":\"\"},\"colorscale\":[[0.0,\"#0d0887\"],[0.1111111111111111,\"#46039f\"],[0.2222222222222222,\"#7201a8\"],[0.3333333333333333,\"#9c179e\"],[0.4444444444444444,\"#bd3786\"],[0.5555555555555556,\"#d8576b\"],[0.6666666666666666,\"#ed7953\"],[0.7777777777777778,\"#fb9f3a\"],[0.8888888888888888,\"#fdca26\"],[1.0,\"#f0f921\"]],\"type\":\"histogram2dcontour\"}],\"mesh3d\":[{\"colorbar\":{\"outlinewidth\":0,\"ticks\":\"\"},\"type\":\"mesh3d\"}],\"parcoords\":[{\"line\":{\"colorbar\":{\"outlinewidth\":0,\"ticks\":\"\"}},\"type\":\"parcoords\"}],\"pie\":[{\"automargin\":true,\"type\":\"pie\"}],\"scatter\":[{\"marker\":{\"colorbar\":{\"outlinewidth\":0,\"ticks\":\"\"}},\"type\":\"scatter\"}],\"scatter3d\":[{\"line\":{\"colorbar\":{\"outlinewidth\":0,\"ticks\":\"\"}},\"marker\":{\"colorbar\":{\"outlinewidth\":0,\"ticks\":\"\"}},\"type\":\"scatter3d\"}],\"scattercarpet\":[{\"marker\":{\"colorbar\":{\"outlinewidth\":0,\"ticks\":\"\"}},\"type\":\"scattercarpet\"}],\"scattergeo\":[{\"marker\":{\"colorbar\":{\"outlinewidth\":0,\"ticks\":\"\"}},\"type\":\"scattergeo\"}],\"scattergl\":[{\"marker\":{\"colorbar\":{\"outlinewidth\":0,\"ticks\":\"\"}},\"type\":\"scattergl\"}],\"scattermapbox\":[{\"marker\":{\"colorbar\":{\"outlinewidth\":0,\"ticks\":\"\"}},\"type\":\"scattermapbox\"}],\"scatterpolar\":[{\"marker\":{\"colorbar\":{\"outlinewidth\":0,\"ticks\":\"\"}},\"type\":\"scatterpolar\"}],\"scatterpolargl\":[{\"marker\":{\"colorbar\":{\"outlinewidth\":0,\"ticks\":\"\"}},\"type\":\"scatterpolargl\"}],\"scatterternary\":[{\"marker\":{\"colorbar\":{\"outlinewidth\":0,\"ticks\":\"\"}},\"type\":\"scatterternary\"}],\"surface\":[{\"colorbar\":{\"outlinewidth\":0,\"ticks\":\"\"},\"colorscale\":[[0.0,\"#0d0887\"],[0.1111111111111111,\"#46039f\"],[0.2222222222222222,\"#7201a8\"],[0.3333333333333333,\"#9c179e\"],[0.4444444444444444,\"#bd3786\"],[0.5555555555555556,\"#d8576b\"],[0.6666666666666666,\"#ed7953\"],[0.7777777777777778,\"#fb9f3a\"],[0.8888888888888888,\"#fdca26\"],[1.0,\"#f0f921\"]],\"type\":\"surface\"}],\"table\":[{\"cells\":{\"fill\":{\"color\":\"#EBF0F8\"},\"line\":{\"color\":\"white\"}},\"header\":{\"fill\":{\"color\":\"#C8D4E3\"},\"line\":{\"color\":\"white\"}},\"type\":\"table\"}]},\"layout\":{\"annotationdefaults\":{\"arrowcolor\":\"#2a3f5f\",\"arrowhead\":0,\"arrowwidth\":1},\"autotypenumbers\":\"strict\",\"coloraxis\":{\"colorbar\":{\"outlinewidth\":0,\"ticks\":\"\"}},\"colorscale\":{\"diverging\":[[0,\"#8e0152\"],[0.1,\"#c51b7d\"],[0.2,\"#de77ae\"],[0.3,\"#f1b6da\"],[0.4,\"#fde0ef\"],[0.5,\"#f7f7f7\"],[0.6,\"#e6f5d0\"],[0.7,\"#b8e186\"],[0.8,\"#7fbc41\"],[0.9,\"#4d9221\"],[1,\"#276419\"]],\"sequential\":[[0.0,\"#0d0887\"],[0.1111111111111111,\"#46039f\"],[0.2222222222222222,\"#7201a8\"],[0.3333333333333333,\"#9c179e\"],[0.4444444444444444,\"#bd3786\"],[0.5555555555555556,\"#d8576b\"],[0.6666666666666666,\"#ed7953\"],[0.7777777777777778,\"#fb9f3a\"],[0.8888888888888888,\"#fdca26\"],[1.0,\"#f0f921\"]],\"sequentialminus\":[[0.0,\"#0d0887\"],[0.1111111111111111,\"#46039f\"],[0.2222222222222222,\"#7201a8\"],[0.3333333333333333,\"#9c179e\"],[0.4444444444444444,\"#bd3786\"],[0.5555555555555556,\"#d8576b\"],[0.6666666666666666,\"#ed7953\"],[0.7777777777777778,\"#fb9f3a\"],[0.8888888888888888,\"#fdca26\"],[1.0,\"#f0f921\"]]},\"colorway\":[\"#636efa\",\"#EF553B\",\"#00cc96\",\"#ab63fa\",\"#FFA15A\",\"#19d3f3\",\"#FF6692\",\"#B6E880\",\"#FF97FF\",\"#FECB52\"],\"font\":{\"color\":\"#2a3f5f\"},\"geo\":{\"bgcolor\":\"white\",\"lakecolor\":\"white\",\"landcolor\":\"#E5ECF6\",\"showlakes\":true,\"showland\":true,\"subunitcolor\":\"white\"},\"hoverlabel\":{\"align\":\"left\"},\"hovermode\":\"closest\",\"mapbox\":{\"style\":\"light\"},\"paper_bgcolor\":\"white\",\"plot_bgcolor\":\"#E5ECF6\",\"polar\":{\"angularaxis\":{\"gridcolor\":\"white\",\"linecolor\":\"white\",\"ticks\":\"\"},\"bgcolor\":\"#E5ECF6\",\"radialaxis\":{\"gridcolor\":\"white\",\"linecolor\":\"white\",\"ticks\":\"\"}},\"scene\":{\"xaxis\":{\"backgroundcolor\":\"#E5ECF6\",\"gridcolor\":\"white\",\"gridwidth\":2,\"linecolor\":\"white\",\"showbackground\":true,\"ticks\":\"\",\"zerolinecolor\":\"white\"},\"yaxis\":{\"backgroundcolor\":\"#E5ECF6\",\"gridcolor\":\"white\",\"gridwidth\":2,\"linecolor\":\"white\",\"showbackground\":true,\"ticks\":\"\",\"zerolinecolor\":\"white\"},\"zaxis\":{\"backgroundcolor\":\"#E5ECF6\",\"gridcolor\":\"white\",\"gridwidth\":2,\"linecolor\":\"white\",\"showbackground\":true,\"ticks\":\"\",\"zerolinecolor\":\"white\"}},\"shapedefaults\":{\"line\":{\"color\":\"#2a3f5f\"}},\"ternary\":{\"aaxis\":{\"gridcolor\":\"white\",\"linecolor\":\"white\",\"ticks\":\"\"},\"baxis\":{\"gridcolor\":\"white\",\"linecolor\":\"white\",\"ticks\":\"\"},\"bgcolor\":\"#E5ECF6\",\"caxis\":{\"gridcolor\":\"white\",\"linecolor\":\"white\",\"ticks\":\"\"}},\"title\":{\"x\":0.05},\"xaxis\":{\"automargin\":true,\"gridcolor\":\"white\",\"linecolor\":\"white\",\"ticks\":\"\",\"title\":{\"standoff\":15},\"zerolinecolor\":\"white\",\"zerolinewidth\":2},\"yaxis\":{\"automargin\":true,\"gridcolor\":\"white\",\"linecolor\":\"white\",\"ticks\":\"\",\"title\":{\"standoff\":15},\"zerolinecolor\":\"white\",\"zerolinewidth\":2}}},\"xaxis\":{\"anchor\":\"y\",\"domain\":[0.0,1.0],\"title\":{\"text\":\"log2FoldChange_ATF6fXBP1s37/basal37\"}},\"yaxis\":{\"anchor\":\"x\",\"domain\":[0.0,1.0],\"title\":{\"text\":\"-log10_pvalue_ATF6fXBP1s37/basal37\"}},\"legend\":{\"title\":{\"text\":\"GeneSymbol\"},\"tracegroupgap\":0},\"margin\":{\"t\":60},\"title\":{\"text\":\"ATF6/XBP1s 37\\u02daC vs. Basal 37\\u02daC\",\"x\":0.5,\"y\":0.92,\"xanchor\":\"center\"}},                        {\"responsive\": true}                    ).then(function(){\n",
       "                            \n",
       "var gd = document.getElementById('8db690fb-ee08-41f1-b11a-e1a0f59aaf27');\n",
       "var x = new MutationObserver(function (mutations, observer) {{\n",
       "        var display = window.getComputedStyle(gd).display;\n",
       "        if (!display || display === 'none') {{\n",
       "            console.log([gd, 'removed!']);\n",
       "            Plotly.purge(gd);\n",
       "            observer.disconnect();\n",
       "        }}\n",
       "}});\n",
       "\n",
       "// Listen for the removal of the full notebook cells\n",
       "var notebookContainer = gd.closest('#notebook-container');\n",
       "if (notebookContainer) {{\n",
       "    x.observe(notebookContainer, {childList: true});\n",
       "}}\n",
       "\n",
       "// Listen for the clearing of the current output cell\n",
       "var outputEl = gd.closest('.output');\n",
       "if (outputEl) {{\n",
       "    x.observe(outputEl, {childList: true});\n",
       "}}\n",
       "\n",
       "                        })                };                });            </script>        </div>"
      ]
     },
     "metadata": {},
     "output_type": "display_data"
    }
   ],
   "source": [
    "# Create the interactive plot with Plotly\n",
    "fig = px.scatter(filtered_elife_data, \n",
    "                 x='log2FoldChange_XBP1s37/basal37', \n",
    "                 y='-log10_pvalue_XBP1s37/basal37', \n",
    "                 color='GeneSymbol',\n",
    "                 hover_data=['GeneSymbol'])\n",
    "\n",
    "# Add and center the title for the first plot\n",
    "fig.update_layout(title={'text': 'XBP1s 37˚C vs. Basal 37˚C', 'x':0.5, 'y':0.92, 'xanchor': 'center'})\n",
    "\n",
    "# Show the plot\n",
    "fig.show()\n",
    "\n",
    "# Create the interactive plot with Plotly\n",
    "fig = px.scatter(filtered_elife_data, \n",
    "                 x='log2FoldChange_ATF6fXBP1s37/basal37', \n",
    "                 y='-log10_pvalue_ATF6fXBP1s37/basal37', \n",
    "                 color='GeneSymbol',\n",
    "                 hover_data=['GeneSymbol'])\n",
    "\n",
    "# Add and center the title for the first plot\n",
    "fig.update_layout(title={'text': 'ATF6/XBP1s 37˚C vs. Basal 37˚C', 'x':0.5, 'y':0.92, 'xanchor': 'center'})\n",
    "\n",
    "# Show the plot\n",
    "fig.show()"
   ]
  }
 ],
 "metadata": {
  "kernelspec": {
   "display_name": "Python 3 (ipykernel)",
   "language": "python",
   "name": "python3"
  },
  "language_info": {
   "codemirror_mode": {
    "name": "ipython",
    "version": 3
   },
   "file_extension": ".py",
   "mimetype": "text/x-python",
   "name": "python",
   "nbconvert_exporter": "python",
   "pygments_lexer": "ipython3",
   "version": "3.9.12"
  }
 },
 "nbformat": 4,
 "nbformat_minor": 5
}
