{
 "cells": [
  {
   "cell_type": "code",
   "execution_count": 1,
   "id": "cdcde594",
   "metadata": {},
   "outputs": [
    {
     "name": "stdout",
     "output_type": "stream",
     "text": [
      "/Users/keith_tetrad\n"
     ]
    }
   ],
   "source": [
    "cd"
   ]
  },
  {
   "cell_type": "code",
   "execution_count": 2,
   "id": "f2cd75f1",
   "metadata": {},
   "outputs": [],
   "source": [
    "import numpy as np\n",
    "import pandas as pd\n",
    "import seaborn as sns\n",
    "import matplotlib.pyplot as plt\n",
    "import plotly.express as px\n",
    "from bioservices import QuickGO\n",
    "quickgo = QuickGO()"
   ]
  },
  {
   "cell_type": "code",
   "execution_count": 3,
   "id": "11edb07c",
   "metadata": {},
   "outputs": [
    {
     "data": {
      "text/html": [
       "<style>.container { width:95% !important; }</style>"
      ],
      "text/plain": [
       "<IPython.core.display.HTML object>"
      ]
     },
     "metadata": {},
     "output_type": "display_data"
    }
   ],
   "source": [
    "from IPython.display import display, HTML\n",
    "display(HTML(\"<style>.container { width:95% !important; }</style>\"))\n",
    "\n",
    "pd.set_option('display.max_colwidth', 200)\n",
    "pd.set_option('display.max_columns', None)\n",
    "pd.set_option('display.width', 1000)\n",
    "pd.set_option('expand_frame_repr', False)\n"
   ]
  },
  {
   "cell_type": "code",
   "execution_count": 4,
   "id": "d33dc743",
   "metadata": {
    "scrolled": true
   },
   "outputs": [],
   "source": [
    "# import small data \n",
    "apms_data = pd.DataFrame(pd.read_csv('kw_dms/nevan_analysis/1-s2.0-S0092867423009157-mmc3(1).csv', delimiter=','))\n",
    "\n",
    "#pull rnaseq data from angelas work here: https://elifesciences.org/articles/38795/figures#fig2s1\n",
    "eLife_data = pd.DataFrame(pd.read_csv('kw_dms/nevan_analysis/elife-38795-fig2-data1-v2.csv', delimiter=','))"
   ]
  },
  {
   "cell_type": "code",
   "execution_count": 5,
   "id": "1eb88c0a",
   "metadata": {},
   "outputs": [],
   "source": [
    "# Filter for rows where any of the specified columns is True\n",
    "flag_apms_data = apms_data.loc[apms_data[['flag_SaintandMist_final', 'flag_Saint_final', 'flag_SaintandMistorNatureSaint_final']].any(axis=1)].reset_index(drop=True)"
   ]
  },
  {
   "cell_type": "code",
   "execution_count": 6,
   "id": "e46380cb",
   "metadata": {},
   "outputs": [],
   "source": [
    "def go_term(go_id):\n",
    "    # Define parameters\n",
    "    taxon_id = \"9606\"  # Taxonomy ID for Homo sapiens\n",
    "    go_id = go_id # GO term\n",
    "    \n",
    "    # Fetch annotations\n",
    "    annotations = quickgo.Annotation(taxonId=taxon_id, goId=go_id)\n",
    "\n",
    "    # Extract results\n",
    "    results = annotations['results']\n",
    "\n",
    "    # Extract gene products using 'symbol' key\n",
    "    gene_products = [result['symbol'] for result in results if result.get('symbol')]\n",
    "\n",
    "    # Extract gene products using 'symbol' key and add them to a list\n",
    "    gene_products = [result['symbol'] for result in results if result.get('symbol')]\n",
    "\n",
    "    # Convert the list to a set to remove duplicates, and then back to a list\n",
    "    unique_gene_products = list(set(gene_products))\n",
    "    \n",
    "    return unique_gene_products\n",
    "\n",
    "def go_term_mask(mask):\n",
    "\n",
    "    # Create a boolean mask\n",
    "    mask = flag_apms_data['PreyGene'].apply(lambda x: any(word in x for word in mask))\n",
    "    \n",
    "    return flag_apms_data[mask]"
   ]
  },
  {
   "cell_type": "code",
   "execution_count": 7,
   "id": "44cf6a06",
   "metadata": {},
   "outputs": [],
   "source": [
    "#ATP-dependent protein folding chaperone\n",
    "GO_0140662 = go_term('GO:0140662')\n",
    "ATP = go_term_mask(GO_0140662)\n",
    "\n",
    "#protein folding in endoplasmic reticulum\n",
    "GO_0034975 = go_term('GO:0034975')\n",
    "ER = go_term_mask(GO_0034975)\n",
    "\n",
    "#protein folding chaperone\n",
    "GO_0044183 = go_term('GO:0044183')\n",
    "all_chaps = go_term_mask(GO_0044183)"
   ]
  },
  {
   "cell_type": "code",
   "execution_count": 8,
   "id": "7ad4b8b7",
   "metadata": {
    "scrolled": true
   },
   "outputs": [],
   "source": [
    "# Group by the 'ViralProtein' and aggregate unique values in 'PreyGene'\n",
    "grouped = ATP.groupby('ViralProtein')['PreyGene'].unique()\n",
    "\n",
    "# Group by both 'variant' and 'ViralProtein', then aggregate unique values in 'PreyGene'\n",
    "grouped_byvariant = ER.groupby(['ViralProtein','Variant'])['PreyGene'].unique()"
   ]
  },
  {
   "cell_type": "code",
   "execution_count": 9,
   "id": "c5728607",
   "metadata": {},
   "outputs": [],
   "source": [
    "#extract a list of unique PreyGenes\n",
    "unique_ER = ER['PreyGene'].unique()\n",
    "unique_ATP = ATP['PreyGene'].unique()\n",
    "unique_all_chaps = all_chaps['PreyGene'].unique()\n",
    "\n",
    "filtered_ER = ER[ER['ViralProtein'].isin(['S', 'orf3a', 'orf8'])]\n",
    "unique_filtered_ER = filtered_ER['PreyGene'].unique()\n",
    "\n",
    "# Combine and find unique values\n",
    "combined_unique = np.concatenate((unique_ER, unique_ATP, unique_all_chaps))\n",
    "unique_chaps = np.unique(combined_unique)\n",
    "\n",
    "chunk_size = 10000  # Adjust based on your memory constraints\n",
    "normal_tissue_data = pd.DataFrame()  # Initialize an empty DataFrame for the filtered data\n",
    "rna_single_cell_data = pd.DataFrame()\n",
    "\n",
    "for chunk in pd.read_csv('kw_dms/nevan_analysis/normal_tissue.tsv', sep='\\t', chunksize=chunk_size):\n",
    "    # Filter the chunk\n",
    "    filtered_chunk = chunk[chunk['Gene name'].isin(unique_chaps)]\n",
    "    # Append the filtered chunk to the DataFrame\n",
    "    normal_tissue_data = pd.concat([normal_tissue_data, filtered_chunk])\n",
    "\n",
    "for chunk in pd.read_csv('kw_dms/nevan_analysis/rna_single_cell_type.tsv', sep='\\t', chunksize=chunk_size):\n",
    "    # Filter the chunk\n",
    "    filtered_chunk = chunk[chunk['Gene name'].isin(unique_chaps)]\n",
    "    # Append the filtered chunk to the DataFrame\n",
    "    rna_single_cell_data = pd.concat([rna_single_cell_data, filtered_chunk])\n",
    "    "
   ]
  },
  {
   "cell_type": "code",
   "execution_count": 10,
   "id": "852acaa6",
   "metadata": {
    "scrolled": true
   },
   "outputs": [],
   "source": [
    "unique_tissue_cells = normal_tissue_data.groupby('Tissue')['Cell type'].unique()\n",
    "unique_RNA_cells = rna_single_cell_data['Cell type'].unique()"
   ]
  },
  {
   "cell_type": "code",
   "execution_count": 11,
   "id": "3a735d86",
   "metadata": {},
   "outputs": [],
   "source": [
    "tissue_cell_types = {\n",
    "    'bronchus': ['respiratory epithelial cells', 'basal cells', 'Basal respiratory cells', 'Ciliated cells', 'ciliated cells (cell body)', 'ciliated cells (cilia axoneme)', 'ciliated cells (ciliary rootlets)', 'ciliated cells (tip of cilia)', 'goblet cells'],\n",
    "    'kidney': ['cells in tubules', 'collecting ducts'],\n",
    "    'lung': ['alveolar cells type I', 'alveolar cells type II', 'endothelial cells', 'alveolar cells'],\n",
    "    'pancreas': ['exocrine glandular cells', 'pancreatic endocrine cells'],\n",
    "    'skin': ['Basal keratinocytes', 'Basal squamous epithelial cells']\n",
    "}\n",
    "\n",
    "# Filter for only tissue/cell type combinations\n",
    "def filter_combinations(row):\n",
    "    tissue = row['Tissue']\n",
    "    cell_type = row['Cell type']\n",
    "    return cell_type in tissue_cell_types.get(tissue, [])\n",
    "\n",
    "# Filter the DataFrame\n",
    "tissue_SARS_filtered = normal_tissue_data[normal_tissue_data.apply(filter_combinations, axis=1)].reset_index(drop=True)\n",
    "\n",
    "# Aggregate all unique cell types from the dictionary\n",
    "all_cell_types = set()\n",
    "for cell_types in tissue_cell_types.values():\n",
    "    all_cell_types.update(cell_types)\n",
    "\n",
    "# Cleaning up cell type names (some of this may not be biologically correct)\n",
    "replacements = {\n",
    "    'Alveolar cells type 1': 'alveolar cells type I',\n",
    "    'Alveolar cells type 2': 'alveolar cells type II',\n",
    "    'Collecting duct cells': 'collecting ducts',\n",
    "    'Endothelial cells': 'endothelial cells',\n",
    "    'Exocrine glandular cells': 'exocrine glandular cells',\n",
    "    'Pancreatic endocrine cells': 'pancreatic endocrine cells'\n",
    "}\n",
    "rna_single_cell_data['Cell type'] = rna_single_cell_data['Cell type'].replace(replacements)\n",
    "\n",
    "# Filter rna_single_cell_data based on the cell types\n",
    "rna_single_cell_SARS_filtered = rna_single_cell_data[rna_single_cell_data['Cell type'].isin(all_cell_types)].reset_index(drop=True)\n"
   ]
  },
  {
   "cell_type": "code",
   "execution_count": 16,
   "id": "29a1fd54",
   "metadata": {},
   "outputs": [
    {
     "data": {
      "text/plain": [
       "ViralProtein\n",
       "E                                                                       [CANX]\n",
       "M                                                                 [CANX, VAPA]\n",
       "N                                                       [HSPA5, HSP90B1, CANX]\n",
       "S                                           [HSPA5, CANX, P4HB, HSP90B1, CALR]\n",
       "nsp12                                                                   [CANX]\n",
       "nsp13                                                          [P4HB, HSP90B1]\n",
       "nsp2                                                             [HSPA5, CANX]\n",
       "nsp3                    [HSP90B1, CANX, P4HB, HSPA5, CALR, DNAJC3, EMC1, EMC3]\n",
       "nsp4                                                             [HSPA5, CANX]\n",
       "nsp6                                                                    [CANX]\n",
       "orf3a                                                            [VAPA, HSPA5]\n",
       "orf7a                                                             [P4HB, CANX]\n",
       "orf7b                                                             [CANX, VAPA]\n",
       "orf8     [P4HB, HSPA5, HSP90B1, CALR, CANX, PDIA3, DNAJC3, EMC1, ERO1A, ERO1B]\n",
       "orf9b                                                                  [HSPA5]\n",
       "Name: PreyGene, dtype: object"
      ]
     },
     "execution_count": 16,
     "metadata": {},
     "output_type": "execute_result"
    }
   ],
   "source": [
    "# Group by the 'ViralProtein' and aggregate unique values in 'PreyGene'\n",
    "grouped = ER.groupby('ViralProtein')['PreyGene'].unique()\n",
    "\n",
    "# Group by both 'variant' and 'ViralProtein', then aggregate unique values in 'PreyGene'\n",
    "grouped_byvariant = ER.groupby(['ViralProtein','Variant'])['PreyGene'].unique()\n",
    "\n",
    "grouped "
   ]
  },
  {
   "cell_type": "code",
   "execution_count": 13,
   "id": "d93a68fb",
   "metadata": {},
   "outputs": [
    {
     "ename": "NameError",
     "evalue": "name 'filtered_chaps_list' is not defined",
     "output_type": "error",
     "traceback": [
      "\u001b[0;31m---------------------------------------------------------------------------\u001b[0m",
      "\u001b[0;31mNameError\u001b[0m                                 Traceback (most recent call last)",
      "Input \u001b[0;32mIn [13]\u001b[0m, in \u001b[0;36m<cell line: 1>\u001b[0;34m()\u001b[0m\n\u001b[0;32m----> 1\u001b[0m \u001b[43mfiltered_chaps_list\u001b[49m\n",
      "\u001b[0;31mNameError\u001b[0m: name 'filtered_chaps_list' is not defined"
     ]
    }
   ],
   "source": [
    "filtered_chaps_list"
   ]
  },
  {
   "cell_type": "code",
   "execution_count": null,
   "id": "8819292c",
   "metadata": {},
   "outputs": [],
   "source": [
    "# unique_chaps_list = unique_chaps.tolist()\n",
    "filtered_chaps_list = unique_filtered_ER.tolist()\n",
    "\n",
    "# filtered_elife_data = eLife_data[eLife_data['GeneSymbol'].isin(unique_chaps_list)].copy()\n",
    "filtered_elife_data = eLife_data[eLife_data['GeneSymbol'].isin(filtered_chaps_list)].copy()\n",
    "\n",
    "# Replace '#NUM!' with NaN\n",
    "filtered_elife_data.replace('#NUM!', np.nan, inplace=True)\n",
    "\n",
    "# Iterate through each column (skipping the first one)\n",
    "for column in filtered_elife_data.columns[1:]:\n",
    "    # Convert to float, coercing errors to NaN\n",
    "    filtered_elife_data[column] = pd.to_numeric(filtered_elife_data[column], errors='coerce')\n",
    "\n",
    "    # Replace NaN with the max value of the column\n",
    "    max_value = filtered_elife_data[column].max()\n",
    "    filtered_elife_data[column].fillna(max_value, inplace=True)"
   ]
  },
  {
   "cell_type": "code",
   "execution_count": null,
   "id": "b3f6d38b",
   "metadata": {},
   "outputs": [],
   "source": [
    "# Define the specific gene you are interested in\n",
    "specific_gene = 'HSPA5'  # Replace with the actual gene identifier\n",
    "\n",
    "# Filter the DataFrames for the specific gene\n",
    "specific_gene_tissue = tissue_SARS_filtered.loc[tissue_SARS_filtered['Gene name'] == specific_gene, ['Tissue', 'Cell type', 'Level', 'Reliability']]\n",
    "specific_gene_rna = rna_single_cell_SARS_filtered[rna_single_cell_SARS_filtered['Gene name'] == specific_gene]\n",
    "specific_eLife_data = filtered_elife_data[filtered_elife_data['GeneSymbol'] == specific_gene]\n",
    "\n",
    "# Print the results\n",
    "print(specific_gene)\n",
    "print('\\n')\n",
    "print('UPR activation RNAseq data:')\n",
    "print('XBP1s 37˚C vs. Basal 37˚C')\n",
    "print('log2 fold change:', specific_eLife_data.loc[specific_eLife_data['GeneSymbol'] == specific_gene, 'log2FoldChange_XBP1s37/basal37'].item())\n",
    "print('-log10 pvalue:', specific_eLife_data.loc[specific_eLife_data['GeneSymbol'] == specific_gene, '-log10_pvalue_XBP1s37/basal37'].item())\n",
    "print('\\n')\n",
    "\n",
    "print('ATF6f/XBP1s 37˚C vs. Basal 37˚C')\n",
    "print('log2 fold change:', specific_eLife_data.loc[specific_eLife_data['GeneSymbol'] == specific_gene, 'log2FoldChange_ATF6fXBP1s37/basal37'].item())\n",
    "print('-log10 pvalue:', specific_eLife_data.loc[specific_eLife_data['GeneSymbol'] == specific_gene, '-log10_pvalue_ATF6fXBP1s37/basal37'].item())\n",
    "print('\\n')\n",
    "\n",
    "print('protein immunohistochemistry data:')\n",
    "print(specific_gene_tissue.to_string(index=False))\n",
    "\n",
    "# Create the barplot with a uniform color\n",
    "sns.barplot(data=specific_gene_rna, x='Cell type', y='nTPM', color='skyblue')\n",
    "plt.xticks(rotation=-30, ha='left')\n",
    "plt.title('Single cell RNA seq data', fontsize=10)\n",
    "\n",
    "plt.savefig('fig_2_c.png', dpi=300, bbox_inches='tight')\n",
    "\n",
    "plt.show()"
   ]
  },
  {
   "cell_type": "code",
   "execution_count": null,
   "id": "5c312c98",
   "metadata": {
    "scrolled": false
   },
   "outputs": [],
   "source": [
    "# Create the interactive plot with Plotly\n",
    "fig = px.scatter(filtered_elife_data, \n",
    "                 x='log2FoldChange_XBP1s37/basal37', \n",
    "                 y='-log10_pvalue_XBP1s37/basal37', \n",
    "                 color='GeneSymbol',\n",
    "                 hover_data=['GeneSymbol'])\n",
    "\n",
    "# Add and center the title for the first plot\n",
    "fig.update_layout(title={'text': 'XBP1s 37˚C vs. Basal 37˚C', 'x':0.5, 'y':0.92, 'xanchor': 'center'})\n",
    "\n",
    "# Show the plot\n",
    "fig.show()\n",
    "\n",
    "# Create the interactive plot with Plotly\n",
    "fig = px.scatter(filtered_elife_data, \n",
    "                 x='log2FoldChange_ATF6fXBP1s37/basal37', \n",
    "                 y='-log10_pvalue_ATF6fXBP1s37/basal37', \n",
    "                 color='GeneSymbol',\n",
    "                 hover_data=['GeneSymbol'])\n",
    "\n",
    "# Add and center the title for the first plot\n",
    "fig.update_layout(title={'text': 'ATF6/XBP1s 37˚C vs. Basal 37˚C', 'x':0.5, 'y':0.92, 'xanchor': 'center'})\n",
    "\n",
    "# Show the plot\n",
    "fig.show()"
   ]
  },
  {
   "cell_type": "code",
   "execution_count": null,
   "id": "da4e5b54",
   "metadata": {},
   "outputs": [],
   "source": [
    "# Create a figure and a set of subplots\n",
    "fig, axs = plt.subplots(1, 2, figsize=(10, 4))  # 1 row, 2 columns\n",
    "\n",
    "# First scatter plot\n",
    "scatter1 = sns.scatterplot(ax=axs[0], \n",
    "                           data=filtered_elife_data, \n",
    "                           x='log2FoldChange_XBP1s37/basal37', \n",
    "                           y='-log10_pvalue_XBP1s37/basal37', \n",
    "                           hue='GeneSymbol')\n",
    "\n",
    "# Add title to the first subplot\n",
    "axs[0].set_title(\"XBP1s 37 ˚C vs. Basal 37 ˚C\")\n",
    "\n",
    "# Remove the first plot's legend\n",
    "scatter1.legend_.remove()\n",
    "\n",
    "# Second scatter plot\n",
    "scatter2 = sns.scatterplot(ax=axs[1], \n",
    "                           data=filtered_elife_data, \n",
    "                           x='log2FoldChange_ATF6fXBP1s37/basal37', \n",
    "                           y='-log10_pvalue_ATF6fXBP1s37/basal37', \n",
    "                           hue='GeneSymbol')\n",
    "\n",
    "axs[1].set_title(\"ATF6f/XBP1s 37 ˚C vs. Basal 37 ˚C\")\n",
    "\n",
    "# Remove the second plot's legend\n",
    "scatter2.legend_.remove()\n",
    "\n",
    "# Get handles and labels from one of the plots for the shared legend\n",
    "handles, labels = scatter1.get_legend_handles_labels()\n",
    "\n",
    "# Create a shared legend for the figure\n",
    "fig.legend(handles, labels, loc='center left', bbox_to_anchor=(1.02, 0.55), borderaxespad=0.)\n",
    "\n",
    "# Adjust layout\n",
    "fig.tight_layout()\n",
    "\n",
    "fig.subplots_adjust(right=1)\n",
    "\n",
    "plt.savefig('fig_2.png', dpi=300, bbox_inches='tight')\n",
    "\n",
    "plt.show()\n"
   ]
  }
 ],
 "metadata": {
  "kernelspec": {
   "display_name": "Python 3 (ipykernel)",
   "language": "python",
   "name": "python3"
  },
  "language_info": {
   "codemirror_mode": {
    "name": "ipython",
    "version": 3
   },
   "file_extension": ".py",
   "mimetype": "text/x-python",
   "name": "python",
   "nbconvert_exporter": "python",
   "pygments_lexer": "ipython3",
   "version": "3.9.12"
  }
 },
 "nbformat": 4,
 "nbformat_minor": 5
}
