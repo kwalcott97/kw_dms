{
 "cells": [
  {
   "cell_type": "code",
   "execution_count": 1,
   "id": "ce2c8369",
   "metadata": {},
   "outputs": [
    {
     "name": "stdout",
     "output_type": "stream",
     "text": [
      "/Users/keith_tetrad\n"
     ]
    }
   ],
   "source": [
    "cd"
   ]
  },
  {
   "cell_type": "code",
   "execution_count": 2,
   "id": "59809c4c",
   "metadata": {},
   "outputs": [],
   "source": [
    "import pandas as pd\n",
    "import csv\n",
    "import numpy as np\n",
    "import seaborn as sns\n",
    "import matplotlib.pyplot as plt"
   ]
  },
  {
   "cell_type": "code",
   "execution_count": 3,
   "id": "72086242",
   "metadata": {},
   "outputs": [],
   "source": [
    "df = pd.read_csv('/Users/keith_tetrad/kw_dms/results/variants/codon_variants.csv', usecols=['target','library','barcode','codon_substitutions','aa_substitutions','n_codon_substitutions','n_aa_substitutions'])"
   ]
  },
  {
   "cell_type": "code",
   "execution_count": 4,
   "id": "5c6529bd",
   "metadata": {},
   "outputs": [],
   "source": [
    "# Handle missing values in 'aa_substitutions'\n",
    "df['aa_substitutions'].fillna('No Substitution', inplace=True)\n",
    "df['aa_substitutions'].replace('', 'No Substitution', inplace=True)\n",
    "# Handle missing values in 'codon_substitutions'\n",
    "df['codon_substitutions'].fillna('No Substitution', inplace=True)\n",
    "df['codon_substitutions'].replace('', 'No Substitution', inplace=True)"
   ]
  },
  {
   "cell_type": "code",
   "execution_count": 5,
   "id": "7fc3c5d0",
   "metadata": {},
   "outputs": [],
   "source": [
    "# Filter the dataframe by library\n",
    "libA_df = df[df['library'] == 'LibA']\n",
    "libB_df = df[df['library'] == 'LibB']\n",
    "libC_df = df[df['library'] == 'LibC']"
   ]
  },
  {
   "cell_type": "code",
   "execution_count": 6,
   "id": "42becbe0",
   "metadata": {},
   "outputs": [],
   "source": [
    "# Function to count identical barcodes by codon and sort in descending order\n",
    "def count_identical_barcodes_codon(library_df):\n",
    "    return library_df.groupby('codon_substitutions')['barcode'].nunique().sort_values(ascending=False)\n",
    "\n",
    "# Function to count identical barcodes by codon and sort in descending order\n",
    "def count_identical_barcodes_aa(library_df):\n",
    "    return library_df.groupby('aa_substitutions')['barcode'].nunique().sort_values(ascending=False)"
   ]
  },
  {
   "cell_type": "code",
   "execution_count": 7,
   "id": "02567b1a",
   "metadata": {},
   "outputs": [],
   "source": [
    "# Counting identical barcodes by AA in each library\n",
    "identical_barcodes_libA_aa = count_identical_barcodes_aa(libA_df)\n",
    "identical_barcodes_libB_aa = count_identical_barcodes_aa(libB_df)\n",
    "identical_barcodes_libC_aa = count_identical_barcodes_aa(libC_df)"
   ]
  },
  {
   "cell_type": "code",
   "execution_count": 8,
   "id": "3cc538a8",
   "metadata": {},
   "outputs": [],
   "source": [
    "# Counting identical barcodes by codon in each library\n",
    "identical_barcodes_libA_codon = count_identical_barcodes_codon(libA_df)\n",
    "identical_barcodes_libB_codon = count_identical_barcodes_codon(libB_df)\n",
    "identical_barcodes_libC_codon = count_identical_barcodes_codon(libC_df)"
   ]
  },
  {
   "cell_type": "code",
   "execution_count": 9,
   "id": "20cb3cb2",
   "metadata": {
    "scrolled": false
   },
   "outputs": [
    {
     "name": "stderr",
     "output_type": "stream",
     "text": [
      "/var/folders/sv/w2n5lcb57zz70hk1l6tkkkf00000gp/T/ipykernel_59424/160265823.py:2: SettingWithCopyWarning: \n",
      "A value is trying to be set on a copy of a slice from a DataFrame.\n",
      "Try using .loc[row_indexer,col_indexer] = value instead\n",
      "\n",
      "See the caveats in the documentation: https://pandas.pydata.org/pandas-docs/stable/user_guide/indexing.html#returning-a-view-versus-a-copy\n",
      "  libB_df['aa_substitutions'] = libB_df['aa_substitutions'].str.split(' ')\n",
      "/var/folders/sv/w2n5lcb57zz70hk1l6tkkkf00000gp/T/ipykernel_59424/160265823.py:8: SettingWithCopyWarning: \n",
      "A value is trying to be set on a copy of a slice from a DataFrame.\n",
      "Try using .loc[row_indexer,col_indexer] = value instead\n",
      "\n",
      "See the caveats in the documentation: https://pandas.pydata.org/pandas-docs/stable/user_guide/indexing.html#returning-a-view-versus-a-copy\n",
      "  libB_df['aa_substitutions'] = libB_df['aa_substitutions'].str.split(' ')\n"
     ]
    }
   ],
   "source": [
    "# Split the 'aa_substitutions' into a list if there are multiple substitutions\n",
    "libB_df['aa_substitutions'] = libB_df['aa_substitutions'].str.split(' ')\n",
    "\n",
    "# Explode the dataframe so that each aa substitution gets its own row\n",
    "exploded_libB_df = libB_df.explode('aa_substitutions')\n",
    "\n",
    "# Split the 'aa_substitutions' into a list if there are multiple substitutions\n",
    "libB_df['aa_substitutions'] = libB_df['aa_substitutions'].str.split(' ')\n",
    "\n",
    "#Group by AA substitutions and aggregate barcodes\n",
    "aa_substitution_groups = exploded_libB_df.groupby('aa_substitutions')['barcode'].apply(list).reset_index()\n",
    "\n",
    "# Rename columns for clarity\n",
    "aa_substitution_groups.columns = ['AA Substitution', 'Barcodes']"
   ]
  },
  {
   "cell_type": "code",
   "execution_count": 10,
   "id": "3e45ccd9",
   "metadata": {},
   "outputs": [
    {
     "name": "stdout",
     "output_type": "stream",
     "text": [
      "     AA Substitution                                           Barcodes\n",
      "0             *1250-                                 [TTCAGCTTCCCTACCA]\n",
      "1             *1250L  [GGACATAGAACAAACG, GGATCCAGAAGACGCA, TACATCTAC...\n",
      "2             *1250R  [AAAGCGATATTTCATA, AACCCAATATATGGGA, AACCCGCGG...\n",
      "3             *1250W  [AAACTGCCACGGATAC, AAGATTGCCCCTAACA, AGAAGTCTT...\n",
      "4             A1012D  [AAATGGCAACAACAAC, ACACTATTGTACTACG, ACAGATCTG...\n",
      "...              ...                                                ...\n",
      "9575           Y914F  [AAAAAATGCGACAAAT, AACTGAGGGATTGCAC, AATTACCGA...\n",
      "9576           Y914H  [AAAAATTTGGCATCGT, AGCAAGTAAACAAGGT, AGTGCGAGT...\n",
      "9577           Y914N                                 [CCACATTATAATTAAT]\n",
      "9578           Y914P  [AAGTATACAGAAAACG, ATTGAAACTCCAGTAT, GCAACTGGT...\n",
      "9579   neut_standard  [AGTAGACTCCCTCCAT, ATATAGACACGTGACC, CCATCTAGT...\n",
      "\n",
      "[9580 rows x 2 columns]\n"
     ]
    }
   ],
   "source": [
    "# Displaying the new dataframe\n",
    "print(aa_substitution_groups)"
   ]
  }
 ],
 "metadata": {
  "kernelspec": {
   "display_name": "Python 3 (ipykernel)",
   "language": "python",
   "name": "python3"
  },
  "language_info": {
   "codemirror_mode": {
    "name": "ipython",
    "version": 3
   },
   "file_extension": ".py",
   "mimetype": "text/x-python",
   "name": "python",
   "nbconvert_exporter": "python",
   "pygments_lexer": "ipython3",
   "version": "3.9.12"
  }
 },
 "nbformat": 4,
 "nbformat_minor": 5
}
