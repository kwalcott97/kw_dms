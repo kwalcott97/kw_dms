{
 "cells": [
  {
   "cell_type": "code",
   "execution_count": null,
   "id": "ca09a03c",
   "metadata": {},
   "outputs": [],
   "source": [
    "# prepare_mutations.py\n",
    "import pandas as pd\n",
    "import sys\n",
    "\n",
    "def adjust_mutation_based_on_chain(mutation, chain):\n",
    "    try:\n",
    "        residue = int(mutation[1:-1])\n",
    "        if chain == 'G' and residue >= 75:\n",
    "            return f\"{mutation[0]}{chain}{residue + 2}{mutation[-1]}\"\n",
    "        return f\"{mutation[0]}{chain}{residue}{mutation[-1]}\"\n",
    "    except ValueError:\n",
    "        return mutation\n",
    "\n",
    "def format_mutations(mut_str):\n",
    "    if not mut_str:\n",
    "        return None\n",
    "    mutations = []\n",
    "    mut_list = mut_str.split()\n",
    "    for mut in mut_list:\n",
    "        for chain in ['D', 'E', 'G']:\n",
    "            adjusted_mutation = adjust_mutation_based_on_chain(mut, chain)\n",
    "            mutations.append(adjusted_mutation)\n",
    "    return ','.join(mutations) + ';'\n",
    "\n",
    "def main(input_file):\n",
    "    df = pd.read_csv(input_file, usecols=['barcode','aa_substitutions'])\n",
    "    df = df.dropna(subset=['aa_substitutions'])  # Ensure there are mutations to process\n",
    "    for index, row in df.iterrows():\n",
    "        formatted_mutations = format_mutations(row['aa_substitutions'])\n",
    "        with open(f'data/{row[\"barcode\"]}_mutations.txt', 'w') as f:\n",
    "            f.write(formatted_mutations)\n",
    "\n",
    "if __name__ == \"__main__\":\n",
    "    main(sys.argv[1])\n"
   ]
  }
 ],
 "metadata": {
  "kernelspec": {
   "display_name": "PyMOL Env",
   "language": "python",
   "name": "pymol_env"
  },
  "language_info": {
   "codemirror_mode": {
    "name": "ipython",
    "version": 3
   },
   "file_extension": ".py",
   "mimetype": "text/x-python",
   "name": "python",
   "nbconvert_exporter": "python",
   "pygments_lexer": "ipython3",
   "version": "3.7.16"
  }
 },
 "nbformat": 4,
 "nbformat_minor": 5
}
